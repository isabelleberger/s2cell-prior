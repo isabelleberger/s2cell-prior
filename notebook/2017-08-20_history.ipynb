{
 "cells": [
  {
   "cell_type": "raw",
   "metadata": {},
   "source": [
    "Commands so far:\n",
    "\n",
    "-convert fimo to bed using fimo2bed.py (input is motif_alignments_flyFactor_dm6.2L.txt, output adds a \"._bed\" to end of file name)\n",
    "-slop gives gene_only_slop: bedtools slop: \n",
    "    bedtools slop -i dmel-all-r6.12.gene_only.chr.gff -g ChromInfo.txt -l 1000 -r 0 -s\n",
    "-bedtools intersect -a motif_alignments_flyFactor_dm6.2L_BED.bed -b dmelr6.12.gene_only_slop.txt -wb > bedtoolsintersect_out.txt\n",
    "-phastcons steps: \n",
    "    * wig2bed < dm6.27way.phastCons.wigFix > dm6_phastcons.bed\n",
    "    * grep \"chr2L\" dm6_phastcons.bed > small.bed\n",
    "    * bedtools intersect -a bedtoolsintersect_out.txt -b small.bed -wo > dm6_phastcons_intersect.txt\n",
    "    * python phastcons_table.py --input /Users/bergeric/data/dm6_phastcons_intersect.txt --output practiceoutfile.txt\n",
    "    "
   ]
  },
  {
   "cell_type": "code",
   "execution_count": null,
   "metadata": {
    "collapsed": true
   },
   "outputs": [],
   "source": []
  }
 ],
 "metadata": {
  "kernelspec": {
   "display_name": "Python 3",
   "language": "python",
   "name": "python3"
  },
  "language_info": {
   "codemirror_mode": {
    "name": "ipython",
    "version": 3
   },
   "file_extension": ".py",
   "mimetype": "text/x-python",
   "name": "python",
   "nbconvert_exporter": "python",
   "pygments_lexer": "ipython3",
   "version": "3.5.4"
  },
  "toc": {
   "colors": {
    "hover_highlight": "#DAA520",
    "navigate_num": "#000000",
    "navigate_text": "#333333",
    "running_highlight": "#FF0000",
    "selected_highlight": "#FFD700",
    "sidebar_border": "#EEEEEE",
    "wrapper_background": "#FFFFFF"
   },
   "moveMenuLeft": true,
   "nav_menu": {
    "height": "12px",
    "width": "252px"
   },
   "navigate_menu": true,
   "number_sections": true,
   "sideBar": true,
   "threshold": 4,
   "toc_cell": false,
   "toc_section_display": "block",
   "toc_window_display": false,
   "widenNotebook": false
  }
 },
 "nbformat": 4,
 "nbformat_minor": 2
}
