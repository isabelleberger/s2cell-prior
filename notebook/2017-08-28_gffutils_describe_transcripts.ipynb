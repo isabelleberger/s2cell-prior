{
 "cells": [
  {
   "cell_type": "code",
   "execution_count": 1,
   "metadata": {
    "collapsed": true
   },
   "outputs": [],
   "source": [
    "import gffutils\n",
    "import pybedtools\n",
    "import pandas as pd\n",
    "import seaborn as sb\n",
    "import matplotlib.pyplot as plt\n",
    "%matplotlib inline "
   ]
  },
  {
   "cell_type": "code",
   "execution_count": 2,
   "metadata": {},
   "outputs": [
    {
     "name": "stderr",
     "output_type": "stream",
     "text": [
      "/Users/bergeric/miniconda3/lib/python3.5/site-packages/gffutils/interface.py:161: UserWarning: It appears that this database has not had the ANALYZE sqlite3 command run on it. Doing so can dramatically speed up queries, and is done by default for databases created with gffutils >0.8.7.1 (this database was created with version 0.8.7.1) Consider calling the analyze() method of this object.\n",
      "  \"method of this object.\" % self.version)\n"
     ]
    }
   ],
   "source": [
    "db = gffutils.FeatureDB('/data/LCDB/lcdb-references/dmel/r6-11/gtf/dmel_r6-11.gtf.db')"
   ]
  },
  {
   "cell_type": "code",
   "execution_count": 3,
   "metadata": {},
   "outputs": [
    {
     "name": "stdout",
     "output_type": "stream",
     "text": [
      "3UTR\n",
      "5UTR\n",
      "CDS\n",
      "exon\n",
      "gene\n",
      "mRNA\n",
      "miRNA\n",
      "ncRNA\n",
      "pre_miRNA\n",
      "pseudogene\n",
      "rRNA\n",
      "snRNA\n",
      "snoRNA\n",
      "start_codon\n",
      "stop_codon\n",
      "tRNA\n",
      "transcript\n"
     ]
    }
   ],
   "source": [
    "for a in db.featuretypes():\n",
    "    print(a)"
   ]
  },
  {
   "cell_type": "code",
   "execution_count": 4,
   "metadata": {},
   "outputs": [
    {
     "name": "stdout",
     "output_type": "stream",
     "text": [
      "chrX\tFlyBase\tgene\t19961297\t19969323\t.\t+\t.\tgene_id \"FBgn0031081\"; gene_symbol \"Nep3\";\n"
     ]
    }
   ],
   "source": [
    "for y in db.features_of_type('gene'):\n",
    "    print(y)\n",
    "    break"
   ]
  },
  {
   "cell_type": "code",
   "execution_count": 5,
   "metadata": {
    "collapsed": true
   },
   "outputs": [],
   "source": [
    "#number of transcripts per gene\n",
    "table1 = []\n",
    "for gene in db.features_of_type('gene'): \n",
    "    name = gene.id\n",
    "    transcript = db.children(gene, featuretype='transcript')\n",
    "    transcriptnum = len(list(transcript))\n",
    "    row = [name, transcriptnum]\n",
    "    table1.append(row)\n",
    "    "
   ]
  },
  {
   "cell_type": "code",
   "execution_count": 6,
   "metadata": {},
   "outputs": [
    {
     "data": {
      "text/html": [
       "<div>\n",
       "<style>\n",
       "    .dataframe thead tr:only-child th {\n",
       "        text-align: right;\n",
       "    }\n",
       "\n",
       "    .dataframe thead th {\n",
       "        text-align: left;\n",
       "    }\n",
       "\n",
       "    .dataframe tbody tr th {\n",
       "        vertical-align: top;\n",
       "    }\n",
       "</style>\n",
       "<table border=\"1\" class=\"dataframe\">\n",
       "  <thead>\n",
       "    <tr style=\"text-align: right;\">\n",
       "      <th></th>\n",
       "      <th>gene</th>\n",
       "      <th>#transcripts</th>\n",
       "    </tr>\n",
       "  </thead>\n",
       "  <tbody>\n",
       "    <tr>\n",
       "      <th>0</th>\n",
       "      <td>FBgn0031081</td>\n",
       "      <td>3</td>\n",
       "    </tr>\n",
       "    <tr>\n",
       "      <th>1</th>\n",
       "      <td>FBgn0052826</td>\n",
       "      <td>1</td>\n",
       "    </tr>\n",
       "    <tr>\n",
       "      <th>2</th>\n",
       "      <td>FBgn0031085</td>\n",
       "      <td>1</td>\n",
       "    </tr>\n",
       "    <tr>\n",
       "      <th>3</th>\n",
       "      <td>FBgn0062565</td>\n",
       "      <td>1</td>\n",
       "    </tr>\n",
       "    <tr>\n",
       "      <th>4</th>\n",
       "      <td>FBgn0031088</td>\n",
       "      <td>2</td>\n",
       "    </tr>\n",
       "  </tbody>\n",
       "</table>\n",
       "</div>"
      ],
      "text/plain": [
       "          gene  #transcripts\n",
       "0  FBgn0031081             3\n",
       "1  FBgn0052826             1\n",
       "2  FBgn0031085             1\n",
       "3  FBgn0062565             1\n",
       "4  FBgn0031088             2"
      ]
     },
     "execution_count": 6,
     "metadata": {},
     "output_type": "execute_result"
    }
   ],
   "source": [
    "df1 = pd.DataFrame(table1, columns=['gene','#transcripts'])\n",
    "df1.head()"
   ]
  },
  {
   "cell_type": "code",
   "execution_count": 7,
   "metadata": {},
   "outputs": [
    {
     "data": {
      "text/plain": [
       "<matplotlib.axes._subplots.AxesSubplot at 0x110722a58>"
      ]
     },
     "execution_count": 7,
     "metadata": {},
     "output_type": "execute_result"
    },
    {
     "data": {
      "image/png": "[encoded data removed]",
      "text/plain": [
       "<matplotlib.figure.Figure at 0x1068a4828>"
      ]
     },
     "metadata": {},
     "output_type": "display_data"
    }
   ],
   "source": [
    "sb.violinplot(df1['#transcripts'])"
   ]
  },
  {
   "cell_type": "code",
   "execution_count": 8,
   "metadata": {
    "collapsed": true
   },
   "outputs": [],
   "source": [
    "newdf = df1.describe()"
   ]
  },
  {
   "cell_type": "code",
   "execution_count": 9,
   "metadata": {},
   "outputs": [
    {
     "name": "stdout",
     "output_type": "stream",
     "text": [
      "3UTR\n",
      "5UTR\n",
      "CDS\n",
      "exon\n",
      "gene\n",
      "mRNA\n",
      "miRNA\n",
      "ncRNA\n",
      "pre_miRNA\n",
      "pseudogene\n",
      "rRNA\n",
      "snRNA\n",
      "snoRNA\n",
      "start_codon\n",
      "stop_codon\n",
      "tRNA\n",
      "transcript\n"
     ]
    }
   ],
   "source": [
    "introns = list(db.create_introns(exon_featuretype='exon',grandparent_featuretype=None,parent_featuretype='transcript'))\n",
    "for a in db.featuretypes():\n",
    "    print(a)"
   ]
  },
  {
   "cell_type": "code",
   "execution_count": 10,
   "metadata": {},
   "outputs": [
    {
     "name": "stdout",
     "output_type": "stream",
     "text": [
      "chrX\tFlyBase\tmRNA\t19961689\t19968479\t15\t+\t.\ttranscript_symbol \"Nep3-RA\"; transcript_id \"FBtr0070000\"; gene_id \"FBgn0031081\"; gene_symbol \"Nep3\";\n"
     ]
    }
   ],
   "source": [
    "for x in db.features_of_type('mRNA'):\n",
    "    print(x)\n",
    "    break"
   ]
  },
  {
   "cell_type": "code",
   "execution_count": 11,
   "metadata": {},
   "outputs": [
    {
     "name": "stdout",
     "output_type": "stream",
     "text": [
      "chrX\tgffutils_derived\ttranscript\t19961689\t19968479\t.\t+\t.\ttranscript_id \"FBtr0070000\"; gene_id \"FBgn0031081\";\n"
     ]
    }
   ],
   "source": [
    "for x in db.features_of_type('transcript'): \n",
    "    if x.id=='FBtr0070000':\n",
    "        print(x)"
   ]
  },
  {
   "cell_type": "code",
   "execution_count": 12,
   "metadata": {},
   "outputs": [
    {
     "data": {
      "text/plain": [
       "'FBtr0301831'"
      ]
     },
     "execution_count": 12,
     "metadata": {},
     "output_type": "execute_result"
    }
   ],
   "source": [
    "x.id"
   ]
  },
  {
   "cell_type": "code",
   "execution_count": 94,
   "metadata": {
    "collapsed": true
   },
   "outputs": [],
   "source": [
    "# Get list of transcript IDs from mRNA\n",
    "tsIds = []\n",
    "for ts in list(db.features_of_type('mRNA')):\n",
    "    tsIds.append(ts.attributes['transcript_id'][0])"
   ]
  },
  {
   "cell_type": "code",
   "execution_count": 98,
   "metadata": {
    "collapsed": true
   },
   "outputs": [],
   "source": [
    "# make list of ts that are mRNA\n",
    "tss = []\n",
    "for ts in db.features_of_type('transcript'):\n",
    "    if ts.id in tsIds:\n",
    "        tss.append(ts)\n",
    "        "
   ]
  },
  {
   "cell_type": "code",
   "execution_count": 99,
   "metadata": {
    "collapsed": true
   },
   "outputs": [],
   "source": [
    "#updated to include only mRNA transcripts\n",
    "table = []\n",
    "for trns in tss:\n",
    "    name = trns.id\n",
    "    exons = list(db.children(trns, featuretype='exon'))\n",
    "    # length of 1st exon for each transcript\n",
    "    firstex = exons[0]\n",
    "    exlen = firstex.end - firstex.start\n",
    "    # number of introns/exons\n",
    "    numex = len(exons)\n",
    "    numin = (numex - 1)\n",
    "    stuff = [name, exlen, numex, numin]\n",
    "    table.append(stuff) "
   ]
  },
  {
   "cell_type": "code",
   "execution_count": 100,
   "metadata": {},
   "outputs": [
    {
     "data": {
      "text/html": [
       "<div>\n",
       "<style>\n",
       "    .dataframe thead tr:only-child th {\n",
       "        text-align: right;\n",
       "    }\n",
       "\n",
       "    .dataframe thead th {\n",
       "        text-align: left;\n",
       "    }\n",
       "\n",
       "    .dataframe tbody tr th {\n",
       "        vertical-align: top;\n",
       "    }\n",
       "</style>\n",
       "<table border=\"1\" class=\"dataframe\">\n",
       "  <thead>\n",
       "    <tr style=\"text-align: right;\">\n",
       "      <th></th>\n",
       "      <th>transcript</th>\n",
       "      <th>1st_ex_len</th>\n",
       "      <th>#ex</th>\n",
       "      <th>#int</th>\n",
       "    </tr>\n",
       "  </thead>\n",
       "  <tbody>\n",
       "    <tr>\n",
       "      <th>0</th>\n",
       "      <td>FBtr0071763</td>\n",
       "      <td>240</td>\n",
       "      <td>10</td>\n",
       "      <td>9</td>\n",
       "    </tr>\n",
       "    <tr>\n",
       "      <th>1</th>\n",
       "      <td>FBtr0071764</td>\n",
       "      <td>818</td>\n",
       "      <td>9</td>\n",
       "      <td>8</td>\n",
       "    </tr>\n",
       "    <tr>\n",
       "      <th>2</th>\n",
       "      <td>FBtr0100521</td>\n",
       "      <td>58</td>\n",
       "      <td>10</td>\n",
       "      <td>9</td>\n",
       "    </tr>\n",
       "    <tr>\n",
       "      <th>3</th>\n",
       "      <td>FBtr0342981</td>\n",
       "      <td>58</td>\n",
       "      <td>9</td>\n",
       "      <td>8</td>\n",
       "    </tr>\n",
       "    <tr>\n",
       "      <th>4</th>\n",
       "      <td>FBtr0083387</td>\n",
       "      <td>831</td>\n",
       "      <td>7</td>\n",
       "      <td>6</td>\n",
       "    </tr>\n",
       "  </tbody>\n",
       "</table>\n",
       "</div>"
      ],
      "text/plain": [
       "    transcript  1st_ex_len  #ex  #int\n",
       "0  FBtr0071763         240   10     9\n",
       "1  FBtr0071764         818    9     8\n",
       "2  FBtr0100521          58   10     9\n",
       "3  FBtr0342981          58    9     8\n",
       "4  FBtr0083387         831    7     6"
      ]
     },
     "execution_count": 100,
     "metadata": {},
     "output_type": "execute_result"
    }
   ],
   "source": [
    "df = pd.DataFrame(table, columns=['transcript','1st_ex_len','#ex','#int'])\n",
    "df.head()"
   ]
  },
  {
   "cell_type": "code",
   "execution_count": 101,
   "metadata": {
    "collapsed": true
   },
   "outputs": [],
   "source": [
    "tlist = df['transcript']"
   ]
  },
  {
   "cell_type": "code",
   "execution_count": 102,
   "metadata": {
    "collapsed": true
   },
   "outputs": [],
   "source": [
    "# length of coding sequence \n",
    "table2 = []\n",
    "cdslen = 0\n",
    "for x in tlist:\n",
    "    if list(db.children(x, featuretype='CDS')): \n",
    "        for i in db.children(x, featuretype='CDS'):\n",
    "            len1 = (len(i) - 1 )\n",
    "            cdslen += len1\n",
    "    else:     \n",
    "        cdslen = 0\n",
    "    \n",
    "    newline = [x, cdslen]\n",
    "    table2.append(newline)"
   ]
  },
  {
   "cell_type": "code",
   "execution_count": 103,
   "metadata": {
    "collapsed": true
   },
   "outputs": [],
   "source": [
    "# length of utrs using transcript\n",
    "table3 = []\n",
    "utrlen = 0\n",
    "for x in tlist: \n",
    "    if list(db.children(x, featuretype='3UTR')):\n",
    "        for utr in db.children(x, featuretype='3UTR'):\n",
    "            len2 = len(utr) - 1 \n",
    "            utrlen += len2\n",
    "    else:\n",
    "        utrlen = 0\n",
    "    newline = [x, utrlen]\n",
    "    table3.append(newline)"
   ]
  },
  {
   "cell_type": "code",
   "execution_count": 104,
   "metadata": {
    "collapsed": true
   },
   "outputs": [],
   "source": [
    "table4 = []\n",
    "utrlen = 0\n",
    "for x in tlist: \n",
    "    if list(db.children(x, featuretype='5UTR')):\n",
    "        for utr in db.children(x, featuretype='5UTR'):\n",
    "            len2 = len(utr) - 1 \n",
    "            utrlen += len2\n",
    "    else:\n",
    "        utrlen = 0\n",
    "    newline = [x, utrlen]\n",
    "    table4.append(newline)"
   ]
  },
  {
   "cell_type": "code",
   "execution_count": 42,
   "metadata": {},
   "outputs": [
    {
     "name": "stdout",
     "output_type": "stream",
     "text": [
      "34482\n",
      "30431\n"
     ]
    }
   ],
   "source": [
    "print(len(list(db.features_of_type('transcript'))))\n",
    "print(len(list(db.features_of_type('mRNA'))))"
   ]
  },
  {
   "cell_type": "code",
   "execution_count": 44,
   "metadata": {},
   "outputs": [
    {
     "name": "stdout",
     "output_type": "stream",
     "text": [
      "340\n",
      "2914\n",
      "313\n"
     ]
    }
   ],
   "source": [
    "print(len(list(db.features_of_type('miRNA'))))\n",
    "print(len(list(db.features_of_type('ncRNA'))))\n",
    "print(len(list(db.features_of_type('tRNA'))))"
   ]
  },
  {
   "cell_type": "code",
   "execution_count": 105,
   "metadata": {},
   "outputs": [
    {
     "data": {
      "text/html": [
       "<div>\n",
       "<style>\n",
       "    .dataframe thead tr:only-child th {\n",
       "        text-align: right;\n",
       "    }\n",
       "\n",
       "    .dataframe thead th {\n",
       "        text-align: left;\n",
       "    }\n",
       "\n",
       "    .dataframe tbody tr th {\n",
       "        vertical-align: top;\n",
       "    }\n",
       "</style>\n",
       "<table border=\"1\" class=\"dataframe\">\n",
       "  <thead>\n",
       "    <tr style=\"text-align: right;\">\n",
       "      <th></th>\n",
       "      <th>transcript</th>\n",
       "      <th>3UTR_len</th>\n",
       "    </tr>\n",
       "  </thead>\n",
       "  <tbody>\n",
       "    <tr>\n",
       "      <th>0</th>\n",
       "      <td>FBtr0071763</td>\n",
       "      <td>306</td>\n",
       "    </tr>\n",
       "    <tr>\n",
       "      <th>1</th>\n",
       "      <td>FBtr0071764</td>\n",
       "      <td>612</td>\n",
       "    </tr>\n",
       "    <tr>\n",
       "      <th>2</th>\n",
       "      <td>FBtr0100521</td>\n",
       "      <td>918</td>\n",
       "    </tr>\n",
       "    <tr>\n",
       "      <th>3</th>\n",
       "      <td>FBtr0342981</td>\n",
       "      <td>1224</td>\n",
       "    </tr>\n",
       "    <tr>\n",
       "      <th>4</th>\n",
       "      <td>FBtr0083387</td>\n",
       "      <td>3283</td>\n",
       "    </tr>\n",
       "  </tbody>\n",
       "</table>\n",
       "</div>"
      ],
      "text/plain": [
       "    transcript  3UTR_len\n",
       "0  FBtr0071763       306\n",
       "1  FBtr0071764       612\n",
       "2  FBtr0100521       918\n",
       "3  FBtr0342981      1224\n",
       "4  FBtr0083387      3283"
      ]
     },
     "execution_count": 105,
     "metadata": {},
     "output_type": "execute_result"
    }
   ],
   "source": [
    "utr3frame = pd.DataFrame(table3, columns=['transcript','3UTR_len'])\n",
    "utr5frame = pd.DataFrame(table4, columns=['transcript','5UTR_len'])\n",
    "utr3frame.head()"
   ]
  },
  {
   "cell_type": "code",
   "execution_count": 107,
   "metadata": {},
   "outputs": [
    {
     "data": {
      "text/html": [
       "<div>\n",
       "<style>\n",
       "    .dataframe thead tr:only-child th {\n",
       "        text-align: right;\n",
       "    }\n",
       "\n",
       "    .dataframe thead th {\n",
       "        text-align: left;\n",
       "    }\n",
       "\n",
       "    .dataframe tbody tr th {\n",
       "        vertical-align: top;\n",
       "    }\n",
       "</style>\n",
       "<table border=\"1\" class=\"dataframe\">\n",
       "  <thead>\n",
       "    <tr style=\"text-align: right;\">\n",
       "      <th></th>\n",
       "      <th>transcript</th>\n",
       "      <th>cds_len</th>\n",
       "    </tr>\n",
       "  </thead>\n",
       "  <tbody>\n",
       "    <tr>\n",
       "      <th>0</th>\n",
       "      <td>FBtr0071763</td>\n",
       "      <td>3980</td>\n",
       "    </tr>\n",
       "    <tr>\n",
       "      <th>1</th>\n",
       "      <td>FBtr0071764</td>\n",
       "      <td>7960</td>\n",
       "    </tr>\n",
       "    <tr>\n",
       "      <th>2</th>\n",
       "      <td>FBtr0100521</td>\n",
       "      <td>11940</td>\n",
       "    </tr>\n",
       "    <tr>\n",
       "      <th>3</th>\n",
       "      <td>FBtr0342981</td>\n",
       "      <td>15194</td>\n",
       "    </tr>\n",
       "    <tr>\n",
       "      <th>4</th>\n",
       "      <td>FBtr0083387</td>\n",
       "      <td>16179</td>\n",
       "    </tr>\n",
       "  </tbody>\n",
       "</table>\n",
       "</div>"
      ],
      "text/plain": [
       "    transcript  cds_len\n",
       "0  FBtr0071763     3980\n",
       "1  FBtr0071764     7960\n",
       "2  FBtr0100521    11940\n",
       "3  FBtr0342981    15194\n",
       "4  FBtr0083387    16179"
      ]
     },
     "execution_count": 107,
     "metadata": {},
     "output_type": "execute_result"
    }
   ],
   "source": [
    "df3 = pd.DataFrame(table2, columns=['transcript','cds_len'])\n",
    "df3.head()"
   ]
  },
  {
   "cell_type": "code",
   "execution_count": 108,
   "metadata": {},
   "outputs": [
    {
     "data": {
      "text/plain": [
       "0            3980\n",
       "1            7960\n",
       "2           11940\n",
       "3           15194\n",
       "4           16179\n",
       "5           17944\n",
       "6           18929\n",
       "7           19914\n",
       "8           20720\n",
       "9           21526\n",
       "10          22332\n",
       "11          23806\n",
       "12          24612\n",
       "13          25466\n",
       "14          26320\n",
       "15          27794\n",
       "16          28600\n",
       "17          29406\n",
       "18          34258\n",
       "19          39163\n",
       "20          44270\n",
       "21          49081\n",
       "22          53839\n",
       "23          58999\n",
       "24          63555\n",
       "25          68058\n",
       "26          73047\n",
       "27          77899\n",
       "28          79514\n",
       "29          80116\n",
       "           ...   \n",
       "30401    60060102\n",
       "30402    60063128\n",
       "30403    60066847\n",
       "30404    60070566\n",
       "30405    60072095\n",
       "30406    60073352\n",
       "30407    60074764\n",
       "30408    60076224\n",
       "30409    60077705\n",
       "30410    60079234\n",
       "30411    60080090\n",
       "30412    60080946\n",
       "30413    60081488\n",
       "30414    60081833\n",
       "30415    60082178\n",
       "30416    60083022\n",
       "30417    60084418\n",
       "30418    60085814\n",
       "30419    60087816\n",
       "30420    60089818\n",
       "30421    60091886\n",
       "30422    60093282\n",
       "30423    60094320\n",
       "30424    60098372\n",
       "30425    60102424\n",
       "30426    60106125\n",
       "30427    60109891\n",
       "30428    60113043\n",
       "30429    60116744\n",
       "30430    60119869\n",
       "Name: cds_len, Length: 30431, dtype: int64"
      ]
     },
     "execution_count": 108,
     "metadata": {},
     "output_type": "execute_result"
    }
   ],
   "source": [
    "df3['cds_len'].sort_values()"
   ]
  },
  {
   "cell_type": "code",
   "execution_count": 109,
   "metadata": {},
   "outputs": [
    {
     "data": {
      "text/html": [
       "<div>\n",
       "<style>\n",
       "    .dataframe thead tr:only-child th {\n",
       "        text-align: right;\n",
       "    }\n",
       "\n",
       "    .dataframe thead th {\n",
       "        text-align: left;\n",
       "    }\n",
       "\n",
       "    .dataframe tbody tr th {\n",
       "        vertical-align: top;\n",
       "    }\n",
       "</style>\n",
       "<table border=\"1\" class=\"dataframe\">\n",
       "  <thead>\n",
       "    <tr style=\"text-align: right;\">\n",
       "      <th></th>\n",
       "      <th>transcript</th>\n",
       "      <th>1st_ex_len</th>\n",
       "      <th>#ex</th>\n",
       "      <th>#int</th>\n",
       "      <th>cds_len</th>\n",
       "      <th>3UTR_len</th>\n",
       "      <th>5UTR_len</th>\n",
       "    </tr>\n",
       "  </thead>\n",
       "  <tbody>\n",
       "    <tr>\n",
       "      <th>0</th>\n",
       "      <td>FBtr0071763</td>\n",
       "      <td>240</td>\n",
       "      <td>10</td>\n",
       "      <td>9</td>\n",
       "      <td>3980</td>\n",
       "      <td>306</td>\n",
       "      <td>546</td>\n",
       "    </tr>\n",
       "    <tr>\n",
       "      <th>1</th>\n",
       "      <td>FBtr0071764</td>\n",
       "      <td>818</td>\n",
       "      <td>9</td>\n",
       "      <td>8</td>\n",
       "      <td>7960</td>\n",
       "      <td>612</td>\n",
       "      <td>1419</td>\n",
       "    </tr>\n",
       "    <tr>\n",
       "      <th>2</th>\n",
       "      <td>FBtr0100521</td>\n",
       "      <td>58</td>\n",
       "      <td>10</td>\n",
       "      <td>9</td>\n",
       "      <td>11940</td>\n",
       "      <td>918</td>\n",
       "      <td>1783</td>\n",
       "    </tr>\n",
       "    <tr>\n",
       "      <th>3</th>\n",
       "      <td>FBtr0342981</td>\n",
       "      <td>58</td>\n",
       "      <td>9</td>\n",
       "      <td>8</td>\n",
       "      <td>15194</td>\n",
       "      <td>1224</td>\n",
       "      <td>2106</td>\n",
       "    </tr>\n",
       "    <tr>\n",
       "      <th>4</th>\n",
       "      <td>FBtr0083387</td>\n",
       "      <td>831</td>\n",
       "      <td>7</td>\n",
       "      <td>6</td>\n",
       "      <td>16179</td>\n",
       "      <td>3283</td>\n",
       "      <td>3508</td>\n",
       "    </tr>\n",
       "  </tbody>\n",
       "</table>\n",
       "</div>"
      ],
      "text/plain": [
       "    transcript  1st_ex_len  #ex  #int  cds_len  3UTR_len  5UTR_len\n",
       "0  FBtr0071763         240   10     9     3980       306       546\n",
       "1  FBtr0071764         818    9     8     7960       612      1419\n",
       "2  FBtr0100521          58   10     9    11940       918      1783\n",
       "3  FBtr0342981          58    9     8    15194      1224      2106\n",
       "4  FBtr0083387         831    7     6    16179      3283      3508"
      ]
     },
     "execution_count": 109,
     "metadata": {},
     "output_type": "execute_result"
    }
   ],
   "source": [
    "bigdf = df.merge(df3, how='left', on='transcript').merge(utr3frame, how='left', on='transcript').merge(utr5frame,how='left', on='transcript')\n",
    "bigdf.head()"
   ]
  },
  {
   "cell_type": "code",
   "execution_count": 116,
   "metadata": {},
   "outputs": [
    {
     "data": {
      "text/html": [
       "<div>\n",
       "<style>\n",
       "    .dataframe thead tr:only-child th {\n",
       "        text-align: right;\n",
       "    }\n",
       "\n",
       "    .dataframe thead th {\n",
       "        text-align: left;\n",
       "    }\n",
       "\n",
       "    .dataframe tbody tr th {\n",
       "        vertical-align: top;\n",
       "    }\n",
       "</style>\n",
       "<table border=\"1\" class=\"dataframe\">\n",
       "  <thead>\n",
       "    <tr style=\"text-align: right;\">\n",
       "      <th></th>\n",
       "      <th>count</th>\n",
       "      <th>mean</th>\n",
       "      <th>std</th>\n",
       "      <th>min</th>\n",
       "      <th>25%</th>\n",
       "      <th>50%</th>\n",
       "      <th>75%</th>\n",
       "      <th>max</th>\n",
       "    </tr>\n",
       "  </thead>\n",
       "  <tbody>\n",
       "    <tr>\n",
       "      <th>1st_ex_len</th>\n",
       "      <td>30431.0</td>\n",
       "      <td>4.368969e+02</td>\n",
       "      <td>5.232505e+02</td>\n",
       "      <td>1.0</td>\n",
       "      <td>139.0</td>\n",
       "      <td>261.0</td>\n",
       "      <td>533.0</td>\n",
       "      <td>10442.0</td>\n",
       "    </tr>\n",
       "    <tr>\n",
       "      <th>#ex</th>\n",
       "      <td>30431.0</td>\n",
       "      <td>5.934902e+00</td>\n",
       "      <td>5.171575e+00</td>\n",
       "      <td>1.0</td>\n",
       "      <td>3.0</td>\n",
       "      <td>4.0</td>\n",
       "      <td>8.0</td>\n",
       "      <td>82.0</td>\n",
       "    </tr>\n",
       "    <tr>\n",
       "      <th>#int</th>\n",
       "      <td>30431.0</td>\n",
       "      <td>4.934902e+00</td>\n",
       "      <td>5.171575e+00</td>\n",
       "      <td>0.0</td>\n",
       "      <td>2.0</td>\n",
       "      <td>3.0</td>\n",
       "      <td>7.0</td>\n",
       "      <td>81.0</td>\n",
       "    </tr>\n",
       "    <tr>\n",
       "      <th>cds_len</th>\n",
       "      <td>30431.0</td>\n",
       "      <td>2.903989e+07</td>\n",
       "      <td>1.600974e+07</td>\n",
       "      <td>3980.0</td>\n",
       "      <td>16561058.5</td>\n",
       "      <td>28938266.0</td>\n",
       "      <td>40883122.5</td>\n",
       "      <td>60119869.0</td>\n",
       "    </tr>\n",
       "    <tr>\n",
       "      <th>3UTR_len</th>\n",
       "      <td>30431.0</td>\n",
       "      <td>1.636768e+05</td>\n",
       "      <td>2.822489e+05</td>\n",
       "      <td>0.0</td>\n",
       "      <td>14612.5</td>\n",
       "      <td>47835.0</td>\n",
       "      <td>166768.0</td>\n",
       "      <td>1540262.0</td>\n",
       "    </tr>\n",
       "    <tr>\n",
       "      <th>5UTR_len</th>\n",
       "      <td>30431.0</td>\n",
       "      <td>4.563528e+04</td>\n",
       "      <td>6.962685e+04</td>\n",
       "      <td>0.0</td>\n",
       "      <td>6208.5</td>\n",
       "      <td>18809.0</td>\n",
       "      <td>50997.0</td>\n",
       "      <td>413379.0</td>\n",
       "    </tr>\n",
       "    <tr>\n",
       "      <th>#transcripts</th>\n",
       "      <td>17728.0</td>\n",
       "      <td>1.945059e+00</td>\n",
       "      <td>2.035513e+00</td>\n",
       "      <td>0.0</td>\n",
       "      <td>1.0</td>\n",
       "      <td>1.0</td>\n",
       "      <td>2.0</td>\n",
       "      <td>75.0</td>\n",
       "    </tr>\n",
       "  </tbody>\n",
       "</table>\n",
       "</div>"
      ],
      "text/plain": [
       "                count          mean           std     min         25%  \\\n",
       "1st_ex_len    30431.0  4.368969e+02  5.232505e+02     1.0       139.0   \n",
       "#ex           30431.0  5.934902e+00  5.171575e+00     1.0         3.0   \n",
       "#int          30431.0  4.934902e+00  5.171575e+00     0.0         2.0   \n",
       "cds_len       30431.0  2.903989e+07  1.600974e+07  3980.0  16561058.5   \n",
       "3UTR_len      30431.0  1.636768e+05  2.822489e+05     0.0     14612.5   \n",
       "5UTR_len      30431.0  4.563528e+04  6.962685e+04     0.0      6208.5   \n",
       "#transcripts  17728.0  1.945059e+00  2.035513e+00     0.0         1.0   \n",
       "\n",
       "                     50%         75%         max  \n",
       "1st_ex_len         261.0       533.0     10442.0  \n",
       "#ex                  4.0         8.0        82.0  \n",
       "#int                 3.0         7.0        81.0  \n",
       "cds_len       28938266.0  40883122.5  60119869.0  \n",
       "3UTR_len         47835.0    166768.0   1540262.0  \n",
       "5UTR_len         18809.0     50997.0    413379.0  \n",
       "#transcripts         1.0         2.0        75.0  "
      ]
     },
     "execution_count": 116,
     "metadata": {},
     "output_type": "execute_result"
    }
   ],
   "source": [
    "concatframe = pd.concat([bigdf.describe(), newdf], axis=1).T\n",
    "concatframe"
   ]
  },
  {
   "cell_type": "code",
   "execution_count": null,
   "metadata": {
    "collapsed": true
   },
   "outputs": [],
   "source": []
  }
 ],
 "metadata": {
  "kernelspec": {
   "display_name": "Python 3",
   "language": "python",
   "name": "python3"
  },
  "language_info": {
   "codemirror_mode": {
    "name": "ipython",
    "version": 3
   },
   "file_extension": ".py",
   "mimetype": "text/x-python",
   "name": "python",
   "nbconvert_exporter": "python",
   "pygments_lexer": "ipython3",
   "version": "3.5.4"
  }
 },
 "nbformat": 4,
 "nbformat_minor": 2
}
