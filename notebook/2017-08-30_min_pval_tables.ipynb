{
 "cells": [
  {
   "cell_type": "markdown",
   "metadata": {},
   "source": [
    "# Big fimo output table cleanup\n",
    "\n",
    "The \"distribution_qvals_dmmpmm\" notebook worked to create a big table containing information from five different motif databases. This notebook will clean up, collapse, and work with this big table. \n",
    "\n",
    "First, I'll import the table as a dataframe: "
   ]
  },
  {
   "cell_type": "code",
   "execution_count": 2,
   "metadata": {
    "collapsed": true
   },
   "outputs": [],
   "source": [
    "import pandas as pd\n",
    "import numpy as np\n",
    "import seaborn as sb\n",
    "import matplotlib.pyplot as plt\n",
    "%matplotlib inline "
   ]
  },
  {
   "cell_type": "code",
   "execution_count": 3,
   "metadata": {},
   "outputs": [
    {
     "name": "stderr",
     "output_type": "stream",
     "text": [
      "/Users/bergeric/miniconda3/lib/python3.5/site-packages/numpy/lib/arraysetops.py:395: FutureWarning: elementwise comparison failed; returning scalar instead, but in the future will perform elementwise comparison\n",
      "  mask |= (ar1 == a)\n"
     ]
    }
   ],
   "source": [
    "bigtable = pd.read_csv('../../output/concat.txt', sep='\\t', index_col=0)"
   ]
  },
  {
   "cell_type": "markdown",
   "metadata": {},
   "source": [
    "Collapsing over motif: "
   ]
  },
  {
   "cell_type": "code",
   "execution_count": 4,
   "metadata": {
    "collapsed": true
   },
   "outputs": [],
   "source": [
    "bigtable['motif_hits'] = 0\n",
    "grp=bigtable.groupby(['motif_FBgn','target_gene','source','#hits'])"
   ]
  },
  {
   "cell_type": "code",
   "execution_count": 5,
   "metadata": {
    "collapsed": true
   },
   "outputs": [],
   "source": [
    "agg=grp.agg({'min_pval': ['min'], 'motif_hits': 'count'})"
   ]
  },
  {
   "cell_type": "code",
   "execution_count": 6,
   "metadata": {
    "collapsed": true
   },
   "outputs": [],
   "source": [
    "agg.columns = ['min_pval', 'motif_hits'] "
   ]
  },
  {
   "cell_type": "code",
   "execution_count": 7,
   "metadata": {
    "collapsed": true
   },
   "outputs": [],
   "source": [
    "agg2 = agg.reset_index()"
   ]
  },
  {
   "cell_type": "code",
   "execution_count": 8,
   "metadata": {
    "collapsed": true
   },
   "outputs": [],
   "source": [
    "agg2.columns = ['motif_FBgn','target_gene','source','pos_hits','min_pval', 'motif_hits']"
   ]
  },
  {
   "cell_type": "code",
   "execution_count": 9,
   "metadata": {},
   "outputs": [
    {
     "data": {
      "text/html": [
       "<div>\n",
       "<style>\n",
       "    .dataframe thead tr:only-child th {\n",
       "        text-align: right;\n",
       "    }\n",
       "\n",
       "    .dataframe thead th {\n",
       "        text-align: left;\n",
       "    }\n",
       "\n",
       "    .dataframe tbody tr th {\n",
       "        vertical-align: top;\n",
       "    }\n",
       "</style>\n",
       "<table border=\"1\" class=\"dataframe\">\n",
       "  <thead>\n",
       "    <tr style=\"text-align: right;\">\n",
       "      <th></th>\n",
       "      <th>motif_FBgn</th>\n",
       "      <th>target_gene</th>\n",
       "      <th>source</th>\n",
       "      <th>pos_hits</th>\n",
       "      <th>min_pval</th>\n",
       "      <th>motif_hits</th>\n",
       "    </tr>\n",
       "  </thead>\n",
       "  <tbody>\n",
       "    <tr>\n",
       "      <th>0</th>\n",
       "      <td>FBgn0000014</td>\n",
       "      <td>FBgn0000003</td>\n",
       "      <td>flyReg</td>\n",
       "      <td>1</td>\n",
       "      <td>1</td>\n",
       "      <td>0.000027</td>\n",
       "    </tr>\n",
       "    <tr>\n",
       "      <th>1</th>\n",
       "      <td>FBgn0000014</td>\n",
       "      <td>FBgn0000003</td>\n",
       "      <td>onTheFly</td>\n",
       "      <td>1</td>\n",
       "      <td>2</td>\n",
       "      <td>0.000022</td>\n",
       "    </tr>\n",
       "    <tr>\n",
       "      <th>2</th>\n",
       "      <td>FBgn0000014</td>\n",
       "      <td>FBgn0000008</td>\n",
       "      <td>flyFactor</td>\n",
       "      <td>26</td>\n",
       "      <td>1</td>\n",
       "      <td>0.000118</td>\n",
       "    </tr>\n",
       "    <tr>\n",
       "      <th>3</th>\n",
       "      <td>FBgn0000014</td>\n",
       "      <td>FBgn0000008</td>\n",
       "      <td>flyReg</td>\n",
       "      <td>21</td>\n",
       "      <td>1</td>\n",
       "      <td>0.000027</td>\n",
       "    </tr>\n",
       "    <tr>\n",
       "      <th>4</th>\n",
       "      <td>FBgn0000014</td>\n",
       "      <td>FBgn0000008</td>\n",
       "      <td>idmmpmm</td>\n",
       "      <td>26</td>\n",
       "      <td>1</td>\n",
       "      <td>0.000027</td>\n",
       "    </tr>\n",
       "  </tbody>\n",
       "</table>\n",
       "</div>"
      ],
      "text/plain": [
       "    motif_FBgn  target_gene     source  pos_hits  min_pval  motif_hits\n",
       "0  FBgn0000014  FBgn0000003     flyReg         1         1    0.000027\n",
       "1  FBgn0000014  FBgn0000003   onTheFly         1         2    0.000022\n",
       "2  FBgn0000014  FBgn0000008  flyFactor        26         1    0.000118\n",
       "3  FBgn0000014  FBgn0000008     flyReg        21         1    0.000027\n",
       "4  FBgn0000014  FBgn0000008    idmmpmm        26         1    0.000027"
      ]
     },
     "execution_count": 9,
     "metadata": {},
     "output_type": "execute_result"
    }
   ],
   "source": [
    "agg2.head()"
   ]
  },
  {
   "cell_type": "markdown",
   "metadata": {},
   "source": [
    "Collapsing over database: "
   ]
  },
  {
   "cell_type": "code",
   "execution_count": 10,
   "metadata": {
    "collapsed": true
   },
   "outputs": [],
   "source": [
    "#agg2['sum_pos_hits'] = 0\n",
    "#agg2['sum_motif_hits'] = 0 \n",
    "grp2 = agg2.groupby(['motif_FBgn','target_gene'])"
   ]
  },
  {
   "cell_type": "code",
   "execution_count": 11,
   "metadata": {
    "collapsed": true
   },
   "outputs": [],
   "source": [
    "agg3 = grp2.agg({'min_pval':['min'], 'pos_hits':['sum'],'motif_hits':['sum']})"
   ]
  },
  {
   "cell_type": "code",
   "execution_count": 12,
   "metadata": {
    "collapsed": true
   },
   "outputs": [],
   "source": [
    "agg3.columns = ['sum_pos_hits','min_pval', 'sum_motif_hits'] "
   ]
  },
  {
   "cell_type": "code",
   "execution_count": 13,
   "metadata": {
    "collapsed": true
   },
   "outputs": [],
   "source": [
    "agg4 = agg3.reset_index()"
   ]
  },
  {
   "cell_type": "code",
   "execution_count": 14,
   "metadata": {},
   "outputs": [
    {
     "data": {
      "text/html": [
       "<div>\n",
       "<style>\n",
       "    .dataframe thead tr:only-child th {\n",
       "        text-align: right;\n",
       "    }\n",
       "\n",
       "    .dataframe thead th {\n",
       "        text-align: left;\n",
       "    }\n",
       "\n",
       "    .dataframe tbody tr th {\n",
       "        vertical-align: top;\n",
       "    }\n",
       "</style>\n",
       "<table border=\"1\" class=\"dataframe\">\n",
       "  <thead>\n",
       "    <tr style=\"text-align: right;\">\n",
       "      <th></th>\n",
       "      <th>motif_FBgn</th>\n",
       "      <th>motif_symbol</th>\n",
       "      <th>target_gene</th>\n",
       "      <th>min_pval</th>\n",
       "      <th>sum_motif_hits</th>\n",
       "      <th>sum_pos_hits</th>\n",
       "    </tr>\n",
       "  </thead>\n",
       "  <tbody>\n",
       "    <tr>\n",
       "      <th>0</th>\n",
       "      <td>FBgn0000014</td>\n",
       "      <td>abd-A</td>\n",
       "      <td>FBgn0000003</td>\n",
       "      <td>2</td>\n",
       "      <td>1</td>\n",
       "      <td>0.000048</td>\n",
       "    </tr>\n",
       "    <tr>\n",
       "      <th>1</th>\n",
       "      <td>FBgn0000014</td>\n",
       "      <td>abd-A</td>\n",
       "      <td>FBgn0000008</td>\n",
       "      <td>151</td>\n",
       "      <td>1</td>\n",
       "      <td>0.000337</td>\n",
       "    </tr>\n",
       "    <tr>\n",
       "      <th>2</th>\n",
       "      <td>FBgn0000014</td>\n",
       "      <td>abd-A</td>\n",
       "      <td>FBgn0000014</td>\n",
       "      <td>121</td>\n",
       "      <td>1</td>\n",
       "      <td>0.000337</td>\n",
       "    </tr>\n",
       "    <tr>\n",
       "      <th>3</th>\n",
       "      <td>FBgn0000014</td>\n",
       "      <td>abd-A</td>\n",
       "      <td>FBgn0000015</td>\n",
       "      <td>202</td>\n",
       "      <td>1</td>\n",
       "      <td>0.000337</td>\n",
       "    </tr>\n",
       "    <tr>\n",
       "      <th>4</th>\n",
       "      <td>FBgn0000014</td>\n",
       "      <td>abd-A</td>\n",
       "      <td>FBgn0000017</td>\n",
       "      <td>95</td>\n",
       "      <td>1</td>\n",
       "      <td>0.000337</td>\n",
       "    </tr>\n",
       "  </tbody>\n",
       "</table>\n",
       "</div>"
      ],
      "text/plain": [
       "    motif_FBgn motif_symbol  target_gene  min_pval  sum_motif_hits  \\\n",
       "0  FBgn0000014        abd-A  FBgn0000003         2               1   \n",
       "1  FBgn0000014        abd-A  FBgn0000008       151               1   \n",
       "2  FBgn0000014        abd-A  FBgn0000014       121               1   \n",
       "3  FBgn0000014        abd-A  FBgn0000015       202               1   \n",
       "4  FBgn0000014        abd-A  FBgn0000017        95               1   \n",
       "\n",
       "   sum_pos_hits  \n",
       "0      0.000048  \n",
       "1      0.000337  \n",
       "2      0.000337  \n",
       "3      0.000337  \n",
       "4      0.000337  "
      ]
     },
     "execution_count": 14,
     "metadata": {},
     "output_type": "execute_result"
    }
   ],
   "source": [
    "#add column for motif_symbol\n",
    "symbolmap = pd.read_table('/data/LCDB/lcdb-references/dmel/r6-11/gtf/dmel_r6-11.SYMBOL.csv', sep=',', na_values='NA', keep_default_na=False) \n",
    "newmap = symbolmap.drop_duplicates(subset='ENSEMBL', keep='first')\n",
    "update = agg4.merge(newmap, left_on='motif_FBgn', right_on='ENSEMBL', how='left')\n",
    "update = update.rename(columns={'SYMBOL': 'motif_symbol'})\n",
    "trim = update[['motif_FBgn','motif_symbol','target_gene','min_pval','sum_motif_hits','sum_pos_hits']].copy()\n",
    "trim.head()"
   ]
  },
  {
   "cell_type": "code",
   "execution_count": 15,
   "metadata": {
    "collapsed": true
   },
   "outputs": [],
   "source": [
    "#add column for gene_symbol\n",
    "update2 = trim.merge(newmap, left_on='target_gene', right_on='ENSEMBL', how='left')\n",
    "update2 = update2.rename(columns={'SYMBOL': 'gene_symbol'})\n",
    "trim2 = update2[['motif_FBgn','motif_symbol','target_gene','gene_symbol','min_pval','sum_motif_hits','sum_pos_hits']].copy()\n",
    "trim2.drop_duplicates(inplace=True)"
   ]
  },
  {
   "cell_type": "code",
   "execution_count": 16,
   "metadata": {
    "scrolled": true
   },
   "outputs": [
    {
     "data": {
      "text/html": [
       "<div>\n",
       "<style>\n",
       "    .dataframe thead tr:only-child th {\n",
       "        text-align: right;\n",
       "    }\n",
       "\n",
       "    .dataframe thead th {\n",
       "        text-align: left;\n",
       "    }\n",
       "\n",
       "    .dataframe tbody tr th {\n",
       "        vertical-align: top;\n",
       "    }\n",
       "</style>\n",
       "<table border=\"1\" class=\"dataframe\">\n",
       "  <thead>\n",
       "    <tr>\n",
       "      <th></th>\n",
       "      <th>sum_motif_hits</th>\n",
       "    </tr>\n",
       "    <tr>\n",
       "      <th></th>\n",
       "      <th>count</th>\n",
       "    </tr>\n",
       "  </thead>\n",
       "  <tbody>\n",
       "    <tr>\n",
       "      <th>count</th>\n",
       "      <td>17659.000000</td>\n",
       "    </tr>\n",
       "    <tr>\n",
       "      <th>mean</th>\n",
       "      <td>243.005776</td>\n",
       "    </tr>\n",
       "    <tr>\n",
       "      <th>std</th>\n",
       "      <td>43.787530</td>\n",
       "    </tr>\n",
       "    <tr>\n",
       "      <th>min</th>\n",
       "      <td>13.000000</td>\n",
       "    </tr>\n",
       "    <tr>\n",
       "      <th>25%</th>\n",
       "      <td>214.000000</td>\n",
       "    </tr>\n",
       "    <tr>\n",
       "      <th>50%</th>\n",
       "      <td>246.000000</td>\n",
       "    </tr>\n",
       "    <tr>\n",
       "      <th>75%</th>\n",
       "      <td>281.000000</td>\n",
       "    </tr>\n",
       "    <tr>\n",
       "      <th>max</th>\n",
       "      <td>299.000000</td>\n",
       "    </tr>\n",
       "  </tbody>\n",
       "</table>\n",
       "</div>"
      ],
      "text/plain": [
       "      sum_motif_hits\n",
       "               count\n",
       "count   17659.000000\n",
       "mean      243.005776\n",
       "std        43.787530\n",
       "min        13.000000\n",
       "25%       214.000000\n",
       "50%       246.000000\n",
       "75%       281.000000\n",
       "max       299.000000"
      ]
     },
     "execution_count": 16,
     "metadata": {},
     "output_type": "execute_result"
    }
   ],
   "source": [
    "trim2.groupby(['target_gene']).agg({'sum_motif_hits':['count']}).describe()"
   ]
  },
  {
   "cell_type": "code",
   "execution_count": 17,
   "metadata": {},
   "outputs": [
    {
     "data": {
      "text/plain": [
       "299"
      ]
     },
     "execution_count": 17,
     "metadata": {},
     "output_type": "execute_result"
    }
   ],
   "source": [
    "len(trim2.motif_FBgn.unique())"
   ]
  },
  {
   "cell_type": "code",
   "execution_count": 18,
   "metadata": {
    "scrolled": true
   },
   "outputs": [
    {
     "data": {
      "text/html": [
       "<div>\n",
       "<style>\n",
       "    .dataframe thead tr:only-child th {\n",
       "        text-align: right;\n",
       "    }\n",
       "\n",
       "    .dataframe thead th {\n",
       "        text-align: left;\n",
       "    }\n",
       "\n",
       "    .dataframe tbody tr th {\n",
       "        vertical-align: top;\n",
       "    }\n",
       "</style>\n",
       "<table border=\"1\" class=\"dataframe\">\n",
       "  <thead>\n",
       "    <tr style=\"text-align: right;\">\n",
       "      <th></th>\n",
       "      <th>motif_FBgn</th>\n",
       "      <th>motif_symbol</th>\n",
       "      <th>target_gene</th>\n",
       "      <th>gene_symbol</th>\n",
       "      <th>min_pval</th>\n",
       "      <th>sum_motif_hits</th>\n",
       "      <th>sum_pos_hits</th>\n",
       "    </tr>\n",
       "  </thead>\n",
       "  <tbody>\n",
       "    <tr>\n",
       "      <th>0</th>\n",
       "      <td>FBgn0000014</td>\n",
       "      <td>abd-A</td>\n",
       "      <td>FBgn0000003</td>\n",
       "      <td>NaN</td>\n",
       "      <td>2</td>\n",
       "      <td>1</td>\n",
       "      <td>0.000048</td>\n",
       "    </tr>\n",
       "    <tr>\n",
       "      <th>1</th>\n",
       "      <td>FBgn0000014</td>\n",
       "      <td>abd-A</td>\n",
       "      <td>FBgn0000008</td>\n",
       "      <td>a</td>\n",
       "      <td>151</td>\n",
       "      <td>1</td>\n",
       "      <td>0.000337</td>\n",
       "    </tr>\n",
       "    <tr>\n",
       "      <th>2</th>\n",
       "      <td>FBgn0000014</td>\n",
       "      <td>abd-A</td>\n",
       "      <td>FBgn0000014</td>\n",
       "      <td>abd-A</td>\n",
       "      <td>121</td>\n",
       "      <td>1</td>\n",
       "      <td>0.000337</td>\n",
       "    </tr>\n",
       "    <tr>\n",
       "      <th>3</th>\n",
       "      <td>FBgn0000014</td>\n",
       "      <td>abd-A</td>\n",
       "      <td>FBgn0000015</td>\n",
       "      <td>Abd-B</td>\n",
       "      <td>202</td>\n",
       "      <td>1</td>\n",
       "      <td>0.000337</td>\n",
       "    </tr>\n",
       "    <tr>\n",
       "      <th>4</th>\n",
       "      <td>FBgn0000014</td>\n",
       "      <td>abd-A</td>\n",
       "      <td>FBgn0000017</td>\n",
       "      <td>Abl</td>\n",
       "      <td>95</td>\n",
       "      <td>1</td>\n",
       "      <td>0.000337</td>\n",
       "    </tr>\n",
       "  </tbody>\n",
       "</table>\n",
       "</div>"
      ],
      "text/plain": [
       "    motif_FBgn motif_symbol  target_gene gene_symbol  min_pval  \\\n",
       "0  FBgn0000014        abd-A  FBgn0000003         NaN         2   \n",
       "1  FBgn0000014        abd-A  FBgn0000008           a       151   \n",
       "2  FBgn0000014        abd-A  FBgn0000014       abd-A       121   \n",
       "3  FBgn0000014        abd-A  FBgn0000015       Abd-B       202   \n",
       "4  FBgn0000014        abd-A  FBgn0000017         Abl        95   \n",
       "\n",
       "   sum_motif_hits  sum_pos_hits  \n",
       "0               1      0.000048  \n",
       "1               1      0.000337  \n",
       "2               1      0.000337  \n",
       "3               1      0.000337  \n",
       "4               1      0.000337  "
      ]
     },
     "execution_count": 18,
     "metadata": {},
     "output_type": "execute_result"
    }
   ],
   "source": [
    "trim2.head()"
   ]
  },
  {
   "cell_type": "code",
   "execution_count": 24,
   "metadata": {},
   "outputs": [],
   "source": [
    "#list of genes we have TF for/did RNAi on\n",
    "TF_list = pd.read_table('../../data/list_of_tfs.txt', header=None)"
   ]
  },
  {
   "cell_type": "code",
   "execution_count": 25,
   "metadata": {
    "collapsed": true
   },
   "outputs": [],
   "source": [
    "TF_list.columns=['TF']"
   ]
  },
  {
   "cell_type": "code",
   "execution_count": 31,
   "metadata": {},
   "outputs": [],
   "source": [
    "tfmerge = TF_list.merge(trim2, left_on='TF', right_on='motif_FBgn', how='inner')"
   ]
  },
  {
   "cell_type": "code",
   "execution_count": 41,
   "metadata": {},
   "outputs": [
    {
     "data": {
      "text/plain": [
       "109"
      ]
     },
     "execution_count": 41,
     "metadata": {},
     "output_type": "execute_result"
    }
   ],
   "source": [
    "len(newtrim.motif_FBgn.unique())"
   ]
  },
  {
   "cell_type": "code",
   "execution_count": 34,
   "metadata": {},
   "outputs": [
    {
     "data": {
      "text/html": [
       "<div>\n",
       "<style>\n",
       "    .dataframe thead tr:only-child th {\n",
       "        text-align: right;\n",
       "    }\n",
       "\n",
       "    .dataframe thead th {\n",
       "        text-align: left;\n",
       "    }\n",
       "\n",
       "    .dataframe tbody tr th {\n",
       "        vertical-align: top;\n",
       "    }\n",
       "</style>\n",
       "<table border=\"1\" class=\"dataframe\">\n",
       "  <thead>\n",
       "    <tr style=\"text-align: right;\">\n",
       "      <th></th>\n",
       "      <th>TF</th>\n",
       "      <th>motif_FBgn</th>\n",
       "      <th>motif_symbol</th>\n",
       "      <th>target_gene</th>\n",
       "      <th>gene_symbol</th>\n",
       "      <th>min_pval</th>\n",
       "      <th>sum_motif_hits</th>\n",
       "      <th>sum_pos_hits</th>\n",
       "    </tr>\n",
       "  </thead>\n",
       "  <tbody>\n",
       "    <tr>\n",
       "      <th>0</th>\n",
       "      <td>FBgn0000054</td>\n",
       "      <td>FBgn0000054</td>\n",
       "      <td>Adf1</td>\n",
       "      <td>FBgn0000003</td>\n",
       "      <td>NaN</td>\n",
       "      <td>7</td>\n",
       "      <td>1</td>\n",
       "      <td>0.000138</td>\n",
       "    </tr>\n",
       "    <tr>\n",
       "      <th>1</th>\n",
       "      <td>FBgn0000054</td>\n",
       "      <td>FBgn0000054</td>\n",
       "      <td>Adf1</td>\n",
       "      <td>FBgn0000008</td>\n",
       "      <td>a</td>\n",
       "      <td>116</td>\n",
       "      <td>1</td>\n",
       "      <td>0.000105</td>\n",
       "    </tr>\n",
       "    <tr>\n",
       "      <th>2</th>\n",
       "      <td>FBgn0000054</td>\n",
       "      <td>FBgn0000054</td>\n",
       "      <td>Adf1</td>\n",
       "      <td>FBgn0000014</td>\n",
       "      <td>abd-A</td>\n",
       "      <td>75</td>\n",
       "      <td>1</td>\n",
       "      <td>0.000094</td>\n",
       "    </tr>\n",
       "    <tr>\n",
       "      <th>3</th>\n",
       "      <td>FBgn0000054</td>\n",
       "      <td>FBgn0000054</td>\n",
       "      <td>Adf1</td>\n",
       "      <td>FBgn0000015</td>\n",
       "      <td>Abd-B</td>\n",
       "      <td>160</td>\n",
       "      <td>1</td>\n",
       "      <td>0.000062</td>\n",
       "    </tr>\n",
       "    <tr>\n",
       "      <th>4</th>\n",
       "      <td>FBgn0000054</td>\n",
       "      <td>FBgn0000054</td>\n",
       "      <td>Adf1</td>\n",
       "      <td>FBgn0000017</td>\n",
       "      <td>Abl</td>\n",
       "      <td>91</td>\n",
       "      <td>1</td>\n",
       "      <td>0.000064</td>\n",
       "    </tr>\n",
       "  </tbody>\n",
       "</table>\n",
       "</div>"
      ],
      "text/plain": [
       "            TF   motif_FBgn motif_symbol  target_gene gene_symbol  min_pval  \\\n",
       "0  FBgn0000054  FBgn0000054         Adf1  FBgn0000003         NaN         7   \n",
       "1  FBgn0000054  FBgn0000054         Adf1  FBgn0000008           a       116   \n",
       "2  FBgn0000054  FBgn0000054         Adf1  FBgn0000014       abd-A        75   \n",
       "3  FBgn0000054  FBgn0000054         Adf1  FBgn0000015       Abd-B       160   \n",
       "4  FBgn0000054  FBgn0000054         Adf1  FBgn0000017         Abl        91   \n",
       "\n",
       "   sum_motif_hits  sum_pos_hits  \n",
       "0               1      0.000138  \n",
       "1               1      0.000105  \n",
       "2               1      0.000094  \n",
       "3               1      0.000062  \n",
       "4               1      0.000064  "
      ]
     },
     "execution_count": 34,
     "metadata": {},
     "output_type": "execute_result"
    }
   ],
   "source": [
    "tfmerge.head()"
   ]
  },
  {
   "cell_type": "code",
   "execution_count": 36,
   "metadata": {},
   "outputs": [],
   "source": [
    "newtrim = tfmerge[['motif_FBgn','motif_symbol','target_gene','gene_symbol','min_pval','sum_motif_hits','sum_pos_hits']]"
   ]
  },
  {
   "cell_type": "code",
   "execution_count": 40,
   "metadata": {
    "collapsed": true
   },
   "outputs": [],
   "source": [
    "newtrim.to_csv('../../output/minpval_table')"
   ]
  },
  {
   "cell_type": "code",
   "execution_count": 37,
   "metadata": {
    "collapsed": true
   },
   "outputs": [],
   "source": [
    "matrix = newtrim[['motif_FBgn','target_gene','min_pval']]\n",
    "matrix.set_index(['target_gene','motif_FBgn'], inplace=True)"
   ]
  },
  {
   "cell_type": "code",
   "execution_count": 38,
   "metadata": {
    "collapsed": true
   },
   "outputs": [],
   "source": [
    "final = matrix.unstack()"
   ]
  },
  {
   "cell_type": "code",
   "execution_count": 39,
   "metadata": {
    "collapsed": true
   },
   "outputs": [],
   "source": [
    "final.to_csv('../../output/matrix.txt', sep='\\t')"
   ]
  },
  {
   "cell_type": "code",
   "execution_count": 86,
   "metadata": {},
   "outputs": [
    {
     "data": {
      "text/html": [
       "<div>\n",
       "<style>\n",
       "    .dataframe thead tr:only-child th {\n",
       "        text-align: right;\n",
       "    }\n",
       "\n",
       "    .dataframe thead th {\n",
       "        text-align: left;\n",
       "    }\n",
       "\n",
       "    .dataframe tbody tr th {\n",
       "        vertical-align: top;\n",
       "    }\n",
       "</style>\n",
       "<table border=\"1\" class=\"dataframe\">\n",
       "  <thead>\n",
       "    <tr style=\"text-align: right;\">\n",
       "      <th></th>\n",
       "      <th>motif_FBgn</th>\n",
       "      <th>motif_symbol</th>\n",
       "      <th>target_gene</th>\n",
       "      <th>gene_symbol</th>\n",
       "      <th>min_pval</th>\n",
       "      <th>sum_motif_hits</th>\n",
       "      <th>sum_pos_hits</th>\n",
       "    </tr>\n",
       "  </thead>\n",
       "  <tbody>\n",
       "    <tr>\n",
       "      <th>84</th>\n",
       "      <td>FBgn0000014</td>\n",
       "      <td>abd-A</td>\n",
       "      <td>FBgn0000276</td>\n",
       "      <td>CecA1</td>\n",
       "      <td>0.000102</td>\n",
       "      <td>5</td>\n",
       "      <td>6</td>\n",
       "    </tr>\n",
       "  </tbody>\n",
       "</table>\n",
       "</div>"
      ],
      "text/plain": [
       "     motif_FBgn motif_symbol  target_gene gene_symbol  min_pval  \\\n",
       "84  FBgn0000014        abd-A  FBgn0000276       CecA1  0.000102   \n",
       "\n",
       "    sum_motif_hits  sum_pos_hits  \n",
       "84               5             6  "
      ]
     },
     "execution_count": 86,
     "metadata": {},
     "output_type": "execute_result"
    }
   ],
   "source": [
    "trim2[(trim2['target_gene'] == 'FBgn0000276') & (trim2['motif_FBgn'] == 'FBgn0000014')]"
   ]
  },
  {
   "cell_type": "code",
   "execution_count": null,
   "metadata": {
    "collapsed": true
   },
   "outputs": [],
   "source": []
  }
 ],
 "metadata": {
  "kernelspec": {
   "display_name": "Python 3",
   "language": "python",
   "name": "python3"
  },
  "language_info": {
   "codemirror_mode": {
    "name": "ipython",
    "version": 3
   },
   "file_extension": ".py",
   "mimetype": "text/x-python",
   "name": "python",
   "nbconvert_exporter": "python",
   "pygments_lexer": "ipython3",
   "version": "3.5.4"
  }
 },
 "nbformat": 4,
 "nbformat_minor": 2
}
