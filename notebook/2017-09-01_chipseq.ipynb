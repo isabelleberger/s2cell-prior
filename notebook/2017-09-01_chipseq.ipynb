{
 "cells": [
  {
   "cell_type": "markdown",
   "metadata": {},
   "source": [
    "# Assembly of ChIP-seq modENCODE data"
   ]
  },
  {
   "cell_type": "code",
   "execution_count": 5,
   "metadata": {
    "collapsed": true
   },
   "outputs": [],
   "source": [
    "import tempfile\n",
    "import pandas as pd\n",
    "import urllib\n",
    "import os\n",
    "from urllib.request import urlopen"
   ]
  },
  {
   "cell_type": "markdown",
   "metadata": {},
   "source": [
    "This is the White lab's modENCODE ChIP-seq dataset: "
   ]
  },
  {
   "cell_type": "code",
   "execution_count": 19,
   "metadata": {
    "collapsed": true
   },
   "outputs": [],
   "source": [
    "url = 'http://intermine.modencode.org/release-33/features.do?type=experiment&action=export&experiment=Chromatin%20Binding%20Site%20Mapping%20of%20Transcription%20Factors%20in%20D.%20melanogaster%20by%20ChIP-seq&feature=BindingSite&format=csv'    \n",
    "response = urlopen(url)\n",
    "    \n",
    "with tempfile.NamedTemporaryFile() as temp:     \n",
    "    temp.write(response.read())\n",
    "    temp.seek(0)\n",
    "    df = pd.read_csv(temp)"
   ]
  },
  {
   "cell_type": "code",
   "execution_count": 21,
   "metadata": {
    "collapsed": true
   },
   "outputs": [],
   "source": [
    "df.columns = ['DB_identifier','score','chrom','start','end','strand','modENCODE_id','pivot','name']"
   ]
  },
  {
   "cell_type": "code",
   "execution_count": 22,
   "metadata": {},
   "outputs": [
    {
     "data": {
      "text/html": [
       "<div>\n",
       "<style>\n",
       "    .dataframe thead tr:only-child th {\n",
       "        text-align: right;\n",
       "    }\n",
       "\n",
       "    .dataframe thead th {\n",
       "        text-align: left;\n",
       "    }\n",
       "\n",
       "    .dataframe tbody tr th {\n",
       "        vertical-align: top;\n",
       "    }\n",
       "</style>\n",
       "<table border=\"1\" class=\"dataframe\">\n",
       "  <thead>\n",
       "    <tr style=\"text-align: right;\">\n",
       "      <th></th>\n",
       "      <th>DB_identifier</th>\n",
       "      <th>score</th>\n",
       "      <th>chrom</th>\n",
       "      <th>start</th>\n",
       "      <th>end</th>\n",
       "      <th>strand</th>\n",
       "      <th>modENCODE_id</th>\n",
       "      <th>pivot</th>\n",
       "      <th>name</th>\n",
       "    </tr>\n",
       "  </thead>\n",
       "  <tbody>\n",
       "    <tr>\n",
       "      <th>0</th>\n",
       "      <td>Dll_WPP_ChIP_seq.gff_ID000002</td>\n",
       "      <td>28.67</td>\n",
       "      <td>2L</td>\n",
       "      <td>101</td>\n",
       "      <td>402</td>\n",
       "      <td>0</td>\n",
       "      <td>modENCODE_4974</td>\n",
       "      <td>strain</td>\n",
       "      <td>yellow cinnabar brown speck</td>\n",
       "    </tr>\n",
       "    <tr>\n",
       "      <th>1</th>\n",
       "      <td>Dll_WPP_ChIP_seq.gff_ID000002</td>\n",
       "      <td>28.67</td>\n",
       "      <td>2L</td>\n",
       "      <td>101</td>\n",
       "      <td>402</td>\n",
       "      <td>0</td>\n",
       "      <td>modENCODE_4974</td>\n",
       "      <td>antibody</td>\n",
       "      <td>dll</td>\n",
       "    </tr>\n",
       "    <tr>\n",
       "      <th>2</th>\n",
       "      <td>Dll_WPP_ChIP_seq.gff_ID000002</td>\n",
       "      <td>28.67</td>\n",
       "      <td>2L</td>\n",
       "      <td>101</td>\n",
       "      <td>402</td>\n",
       "      <td>0</td>\n",
       "      <td>modENCODE_4974</td>\n",
       "      <td>developmental stage</td>\n",
       "      <td>White prepupae (WPP)</td>\n",
       "    </tr>\n",
       "    <tr>\n",
       "      <th>3</th>\n",
       "      <td>yki_8_16h_embryonic_ChIP_seq.gff_ID000002</td>\n",
       "      <td>26.68</td>\n",
       "      <td>2L</td>\n",
       "      <td>133</td>\n",
       "      <td>3342</td>\n",
       "      <td>0</td>\n",
       "      <td>modENCODE_5029</td>\n",
       "      <td>strain</td>\n",
       "      <td>yellow cinnabar brown speck</td>\n",
       "    </tr>\n",
       "    <tr>\n",
       "      <th>4</th>\n",
       "      <td>yki_8_16h_embryonic_ChIP_seq.gff_ID000002</td>\n",
       "      <td>26.68</td>\n",
       "      <td>2L</td>\n",
       "      <td>133</td>\n",
       "      <td>3342</td>\n",
       "      <td>0</td>\n",
       "      <td>modENCODE_5029</td>\n",
       "      <td>developmental stage</td>\n",
       "      <td>Embryo 8-16 h</td>\n",
       "    </tr>\n",
       "  </tbody>\n",
       "</table>\n",
       "</div>"
      ],
      "text/plain": [
       "                               DB_identifier  score chrom  start   end  \\\n",
       "0              Dll_WPP_ChIP_seq.gff_ID000002  28.67    2L    101   402   \n",
       "1              Dll_WPP_ChIP_seq.gff_ID000002  28.67    2L    101   402   \n",
       "2              Dll_WPP_ChIP_seq.gff_ID000002  28.67    2L    101   402   \n",
       "3  yki_8_16h_embryonic_ChIP_seq.gff_ID000002  26.68    2L    133  3342   \n",
       "4  yki_8_16h_embryonic_ChIP_seq.gff_ID000002  26.68    2L    133  3342   \n",
       "\n",
       "   strand    modENCODE_id                pivot                         name  \n",
       "0       0  modENCODE_4974               strain  yellow cinnabar brown speck  \n",
       "1       0  modENCODE_4974             antibody                          dll  \n",
       "2       0  modENCODE_4974  developmental stage         White prepupae (WPP)  \n",
       "3       0  modENCODE_5029               strain  yellow cinnabar brown speck  \n",
       "4       0  modENCODE_5029  developmental stage                Embryo 8-16 h  "
      ]
     },
     "execution_count": 22,
     "metadata": {},
     "output_type": "execute_result"
    }
   ],
   "source": [
    "df.head()"
   ]
  },
  {
   "cell_type": "code",
   "execution_count": 24,
   "metadata": {
    "collapsed": true
   },
   "outputs": [],
   "source": [
    "happy = df.set_index(\n",
    "    ['modENCODE_id','DB_identifier','score','chrom','start','end','strand','pivot']).pivot_table(\n",
    "        columns='pivot', index=['DB_identifier','score','chrom','start','end','strand','modENCODE_id'], \n",
    "        values='name',aggfunc='first')"
   ]
  },
  {
   "cell_type": "code",
   "execution_count": 25,
   "metadata": {},
   "outputs": [
    {
     "data": {
      "text/html": [
       "<div>\n",
       "<style>\n",
       "    .dataframe thead tr:only-child th {\n",
       "        text-align: right;\n",
       "    }\n",
       "\n",
       "    .dataframe thead th {\n",
       "        text-align: left;\n",
       "    }\n",
       "\n",
       "    .dataframe tbody tr th {\n",
       "        vertical-align: top;\n",
       "    }\n",
       "</style>\n",
       "<table border=\"1\" class=\"dataframe\">\n",
       "  <thead>\n",
       "    <tr style=\"text-align: right;\">\n",
       "      <th>pivot</th>\n",
       "      <th>DB_identifier</th>\n",
       "      <th>score</th>\n",
       "      <th>chrom</th>\n",
       "      <th>start</th>\n",
       "      <th>end</th>\n",
       "      <th>strand</th>\n",
       "      <th>modENCODE_id</th>\n",
       "      <th>antibody</th>\n",
       "      <th>cell line</th>\n",
       "      <th>developmental stage</th>\n",
       "      <th>strain</th>\n",
       "      <th>target gene</th>\n",
       "    </tr>\n",
       "  </thead>\n",
       "  <tbody>\n",
       "    <tr>\n",
       "      <th>0</th>\n",
       "      <td>15T_8_16_NW_GFP.1</td>\n",
       "      <td>50.62</td>\n",
       "      <td>2L</td>\n",
       "      <td>470602</td>\n",
       "      <td>471025</td>\n",
       "      <td>0</td>\n",
       "      <td>modENCODE_3402</td>\n",
       "      <td>No Antibody Control</td>\n",
       "      <td>None</td>\n",
       "      <td>Embryo 8-16 h</td>\n",
       "      <td>hairy-GFP-P[acman]-15T</td>\n",
       "      <td>None</td>\n",
       "    </tr>\n",
       "    <tr>\n",
       "      <th>1</th>\n",
       "      <td>15T_8_16_NW_GFP.10</td>\n",
       "      <td>51.05</td>\n",
       "      <td>2L</td>\n",
       "      <td>3153151</td>\n",
       "      <td>3153697</td>\n",
       "      <td>0</td>\n",
       "      <td>modENCODE_3402</td>\n",
       "      <td>No Antibody Control</td>\n",
       "      <td>None</td>\n",
       "      <td>Embryo 8-16 h</td>\n",
       "      <td>hairy-GFP-P[acman]-15T</td>\n",
       "      <td>None</td>\n",
       "    </tr>\n",
       "    <tr>\n",
       "      <th>2</th>\n",
       "      <td>15T_8_16_NW_GFP.100</td>\n",
       "      <td>70.02</td>\n",
       "      <td>2R</td>\n",
       "      <td>4416316</td>\n",
       "      <td>4416839</td>\n",
       "      <td>0</td>\n",
       "      <td>modENCODE_3402</td>\n",
       "      <td>No Antibody Control</td>\n",
       "      <td>None</td>\n",
       "      <td>Embryo 8-16 h</td>\n",
       "      <td>hairy-GFP-P[acman]-15T</td>\n",
       "      <td>None</td>\n",
       "    </tr>\n",
       "    <tr>\n",
       "      <th>3</th>\n",
       "      <td>15T_8_16_NW_GFP.101</td>\n",
       "      <td>106.48</td>\n",
       "      <td>2R</td>\n",
       "      <td>4453214</td>\n",
       "      <td>4453566</td>\n",
       "      <td>0</td>\n",
       "      <td>modENCODE_3402</td>\n",
       "      <td>No Antibody Control</td>\n",
       "      <td>None</td>\n",
       "      <td>Embryo 8-16 h</td>\n",
       "      <td>hairy-GFP-P[acman]-15T</td>\n",
       "      <td>None</td>\n",
       "    </tr>\n",
       "    <tr>\n",
       "      <th>4</th>\n",
       "      <td>15T_8_16_NW_GFP.102</td>\n",
       "      <td>109.55</td>\n",
       "      <td>2R</td>\n",
       "      <td>5009424</td>\n",
       "      <td>5010118</td>\n",
       "      <td>0</td>\n",
       "      <td>modENCODE_3402</td>\n",
       "      <td>No Antibody Control</td>\n",
       "      <td>None</td>\n",
       "      <td>Embryo 8-16 h</td>\n",
       "      <td>hairy-GFP-P[acman]-15T</td>\n",
       "      <td>None</td>\n",
       "    </tr>\n",
       "  </tbody>\n",
       "</table>\n",
       "</div>"
      ],
      "text/plain": [
       "pivot        DB_identifier   score chrom    start      end  strand  \\\n",
       "0        15T_8_16_NW_GFP.1   50.62    2L   470602   471025       0   \n",
       "1       15T_8_16_NW_GFP.10   51.05    2L  3153151  3153697       0   \n",
       "2      15T_8_16_NW_GFP.100   70.02    2R  4416316  4416839       0   \n",
       "3      15T_8_16_NW_GFP.101  106.48    2R  4453214  4453566       0   \n",
       "4      15T_8_16_NW_GFP.102  109.55    2R  5009424  5010118       0   \n",
       "\n",
       "pivot    modENCODE_id             antibody cell line developmental stage  \\\n",
       "0      modENCODE_3402  No Antibody Control      None       Embryo 8-16 h   \n",
       "1      modENCODE_3402  No Antibody Control      None       Embryo 8-16 h   \n",
       "2      modENCODE_3402  No Antibody Control      None       Embryo 8-16 h   \n",
       "3      modENCODE_3402  No Antibody Control      None       Embryo 8-16 h   \n",
       "4      modENCODE_3402  No Antibody Control      None       Embryo 8-16 h   \n",
       "\n",
       "pivot                  strain target gene  \n",
       "0      hairy-GFP-P[acman]-15T        None  \n",
       "1      hairy-GFP-P[acman]-15T        None  \n",
       "2      hairy-GFP-P[acman]-15T        None  \n",
       "3      hairy-GFP-P[acman]-15T        None  \n",
       "4      hairy-GFP-P[acman]-15T        None  "
      ]
     },
     "execution_count": 25,
     "metadata": {},
     "output_type": "execute_result"
    }
   ],
   "source": [
    "happy.reset_index().head()"
   ]
  },
  {
   "cell_type": "code",
   "execution_count": 397,
   "metadata": {},
   "outputs": [
    {
     "data": {
      "text/plain": [
       "array(['modENCODE_4966', 'modENCODE_5007'], dtype=object)"
      ]
     },
     "execution_count": 397,
     "metadata": {},
     "output_type": "execute_result"
    }
   ],
   "source": [
    "happy[(happy['cell line'] == 'S2-DRSC')].modENCODE_id.unique()\n"
   ]
  },
  {
   "cell_type": "code",
   "execution_count": 405,
   "metadata": {},
   "outputs": [
    {
     "data": {
      "text/plain": [
       "array([], dtype=object)"
      ]
     },
     "execution_count": 405,
     "metadata": {},
     "output_type": "execute_result"
    }
   ],
   "source": [
    "happy[happy['cell line'] == 'None'].modENCODE_id.unique()"
   ]
  },
  {
   "cell_type": "code",
   "execution_count": 401,
   "metadata": {},
   "outputs": [
    {
     "data": {
      "text/plain": [
       "array([None, 'S2-DRSC', 'Kc167'], dtype=object)"
      ]
     },
     "execution_count": 401,
     "metadata": {},
     "output_type": "execute_result"
    }
   ],
   "source": [
    "happy['cell line'].unique()"
   ]
  },
  {
   "cell_type": "code",
   "execution_count": 26,
   "metadata": {
    "scrolled": true
   },
   "outputs": [
    {
     "data": {
      "text/html": [
       "<div>\n",
       "<style>\n",
       "    .dataframe thead tr:only-child th {\n",
       "        text-align: right;\n",
       "    }\n",
       "\n",
       "    .dataframe thead th {\n",
       "        text-align: left;\n",
       "    }\n",
       "\n",
       "    .dataframe tbody tr th {\n",
       "        vertical-align: top;\n",
       "    }\n",
       "</style>\n",
       "<table border=\"1\" class=\"dataframe\">\n",
       "  <thead>\n",
       "    <tr style=\"text-align: right;\">\n",
       "      <th>pivot</th>\n",
       "      <th>antibody</th>\n",
       "      <th>cell line</th>\n",
       "      <th>developmental stage</th>\n",
       "      <th>strain</th>\n",
       "      <th>target gene</th>\n",
       "    </tr>\n",
       "  </thead>\n",
       "  <tbody>\n",
       "    <tr>\n",
       "      <th>count</th>\n",
       "      <td>269462</td>\n",
       "      <td>55513</td>\n",
       "      <td>213949</td>\n",
       "      <td>213949</td>\n",
       "      <td>42117</td>\n",
       "    </tr>\n",
       "    <tr>\n",
       "      <th>unique</th>\n",
       "      <td>24</td>\n",
       "      <td>2</td>\n",
       "      <td>11</td>\n",
       "      <td>15</td>\n",
       "      <td>7</td>\n",
       "    </tr>\n",
       "    <tr>\n",
       "      <th>top</th>\n",
       "      <td>GFP_ab290</td>\n",
       "      <td>Kc167</td>\n",
       "      <td>Embryo 0-8 h</td>\n",
       "      <td>yellow cinnabar brown speck</td>\n",
       "      <td>lola</td>\n",
       "    </tr>\n",
       "    <tr>\n",
       "      <th>freq</th>\n",
       "      <td>42117</td>\n",
       "      <td>50874</td>\n",
       "      <td>61198</td>\n",
       "      <td>146053</td>\n",
       "      <td>11515</td>\n",
       "    </tr>\n",
       "  </tbody>\n",
       "</table>\n",
       "</div>"
      ],
      "text/plain": [
       "pivot    antibody cell line developmental stage                       strain  \\\n",
       "count      269462     55513              213949                       213949   \n",
       "unique         24         2                  11                           15   \n",
       "top     GFP_ab290     Kc167        Embryo 0-8 h  yellow cinnabar brown speck   \n",
       "freq        42117     50874               61198                       146053   \n",
       "\n",
       "pivot  target gene  \n",
       "count        42117  \n",
       "unique           7  \n",
       "top           lola  \n",
       "freq         11515  "
      ]
     },
     "execution_count": 26,
     "metadata": {},
     "output_type": "execute_result"
    }
   ],
   "source": [
    "happy.describe()"
   ]
  },
  {
   "cell_type": "code",
   "execution_count": 27,
   "metadata": {
    "collapsed": true
   },
   "outputs": [],
   "source": [
    "happy=happy.reset_index()"
   ]
  },
  {
   "cell_type": "code",
   "execution_count": 379,
   "metadata": {},
   "outputs": [
    {
     "data": {
      "text/plain": [
       "array(['modENCODE_3402', 'modENCODE_3401', 'modENCODE_3403',\n",
       "       'modENCODE_3399', 'modENCODE_4962', 'modENCODE_4961',\n",
       "       'modENCODE_4078', 'modENCODE_4966', 'modENCODE_4080',\n",
       "       'modENCODE_4081', 'modENCODE_4082', 'modENCODE_4974',\n",
       "       'modENCODE_3396', 'modENCODE_3395', 'modENCODE_3391',\n",
       "       'modENCODE_3392', 'modENCODE_3390', 'modENCODE_3394',\n",
       "       'modENCODE_3393', 'modENCODE_3398', 'modENCODE_4976',\n",
       "       'modENCODE_4089', 'modENCODE_4982', 'modENCODE_4983',\n",
       "       'modENCODE_4998', 'modENCODE_5000', 'modENCODE_5011',\n",
       "       'modENCODE_4095', 'modENCODE_4096', 'modENCODE_3400',\n",
       "       'modENCODE_5014', 'modENCODE_4103', 'modENCODE_5017',\n",
       "       'modENCODE_4069', 'modENCODE_4068', 'modENCODE_5018',\n",
       "       'modENCODE_4074', 'modENCODE_4107', 'modENCODE_5024',\n",
       "       'modENCODE_5025', 'modENCODE_5023', 'modENCODE_4114',\n",
       "       'modENCODE_4113', 'modENCODE_4109', 'modENCODE_4077',\n",
       "       'modENCODE_4967', 'modENCODE_5006', 'modENCODE_5007',\n",
       "       'modENCODE_5008', 'modENCODE_5022', 'modENCODE_4981',\n",
       "       'modENCODE_4070', 'modENCODE_5001', 'modENCODE_5003',\n",
       "       'modENCODE_5004', 'modENCODE_5005', 'modENCODE_4098',\n",
       "       'modENCODE_4099', 'modENCODE_4071', 'modENCODE_5029'], dtype=object)"
      ]
     },
     "execution_count": 379,
     "metadata": {},
     "output_type": "execute_result"
    }
   ],
   "source": [
    "happy.modENCODE_id.unique()"
   ]
  },
  {
   "cell_type": "code",
   "execution_count": 29,
   "metadata": {},
   "outputs": [
    {
     "data": {
      "text/plain": [
       "count             269462\n",
       "unique                60\n",
       "top       modENCODE_4974\n",
       "freq               16117\n",
       "Name: modENCODE_id, dtype: object"
      ]
     },
     "execution_count": 29,
     "metadata": {},
     "output_type": "execute_result"
    }
   ],
   "source": [
    "happy.modENCODE_id.describe()"
   ]
  },
  {
   "cell_type": "code",
   "execution_count": 234,
   "metadata": {},
   "outputs": [
    {
     "data": {
      "text/plain": [
       "count       60.000000\n",
       "mean      4491.033333\n",
       "std       3982.430554\n",
       "min        353.000000\n",
       "25%       1481.750000\n",
       "50%       3458.000000\n",
       "75%       5292.750000\n",
       "max      16117.000000\n",
       "Name: start, dtype: float64"
      ]
     },
     "execution_count": 234,
     "metadata": {},
     "output_type": "execute_result"
    }
   ],
   "source": [
    "cnt = happy.groupby(['modENCODE_id']).agg({'start':'count'})\n",
    "cnt.start.describe()"
   ]
  },
  {
   "cell_type": "code",
   "execution_count": 30,
   "metadata": {
    "collapsed": true
   },
   "outputs": [],
   "source": [
    "phantompeaks = pd.read_excel('/Users/bergeric/Downloads/gkv637_Supplementary_Data/Supplementary_table_3__List_of_Phantom_Peaks.xlsx')"
   ]
  },
  {
   "cell_type": "code",
   "execution_count": 31,
   "metadata": {
    "collapsed": true
   },
   "outputs": [],
   "source": [
    "phantom_overlap = pd.read_excel('/Users/bergeric/Downloads/gkv637_Supplementary_Data/Supplementary_table_5__Overlap_of_the_Phantom_Peaks_with_non-histone_modENCODE_ChIPSeq_profiles.xlsx', header=1)"
   ]
  },
  {
   "cell_type": "code",
   "execution_count": 32,
   "metadata": {},
   "outputs": [
    {
     "data": {
      "text/html": [
       "<div>\n",
       "<style>\n",
       "    .dataframe thead tr:only-child th {\n",
       "        text-align: right;\n",
       "    }\n",
       "\n",
       "    .dataframe thead th {\n",
       "        text-align: left;\n",
       "    }\n",
       "\n",
       "    .dataframe tbody tr th {\n",
       "        vertical-align: top;\n",
       "    }\n",
       "</style>\n",
       "<table border=\"1\" class=\"dataframe\">\n",
       "  <thead>\n",
       "    <tr style=\"text-align: right;\">\n",
       "      <th></th>\n",
       "      <th>Profile_file_name</th>\n",
       "      <th>Total peaks</th>\n",
       "      <th>Overlap</th>\n",
       "      <th>Non.overlapping</th>\n",
       "      <th>Percent</th>\n",
       "      <th>P.value &lt;0.01</th>\n",
       "      <th>P.value &lt;0.05</th>\n",
       "      <th>Description</th>\n",
       "      <th>Organism</th>\n",
       "      <th>Method</th>\n",
       "      <th>Type</th>\n",
       "      <th>Factor</th>\n",
       "      <th>Stage</th>\n",
       "      <th>Lab</th>\n",
       "      <th>modE_ID</th>\n",
       "    </tr>\n",
       "  </thead>\n",
       "  <tbody>\n",
       "    <tr>\n",
       "      <th>0</th>\n",
       "      <td>3232_E0-12h_Sin3A_peaks.bed</td>\n",
       "      <td>4046</td>\n",
       "      <td>2519</td>\n",
       "      <td>1527</td>\n",
       "      <td>62.26</td>\n",
       "      <td>14.236283</td>\n",
       "      <td>54.770143</td>\n",
       "      <td>Sin3A;Embryos 0-12 hr;ChIP-seq</td>\n",
       "      <td>D. melanogaster</td>\n",
       "      <td>ChIP-seq</td>\n",
       "      <td>Transcriptional Factor</td>\n",
       "      <td>Sin3A</td>\n",
       "      <td>Embryos 0-12 hr</td>\n",
       "      <td>White, K.</td>\n",
       "      <td>3232</td>\n",
       "    </tr>\n",
       "    <tr>\n",
       "      <th>1</th>\n",
       "      <td>3826_E16-24h_Fer3_peaks.bed.gff</td>\n",
       "      <td>2284</td>\n",
       "      <td>1416</td>\n",
       "      <td>868</td>\n",
       "      <td>62.00</td>\n",
       "      <td>18.345009</td>\n",
       "      <td>52.451839</td>\n",
       "      <td>Fer3;Embryos 16-24 hr;ChIP-seq</td>\n",
       "      <td>D. melanogaster</td>\n",
       "      <td>ChIP-seq</td>\n",
       "      <td>Transcriptional Factor</td>\n",
       "      <td>Fer3</td>\n",
       "      <td>Embryos 16-24 hr</td>\n",
       "      <td>White, K.</td>\n",
       "      <td>3826</td>\n",
       "    </tr>\n",
       "    <tr>\n",
       "      <th>2</th>\n",
       "      <td>3399_A.Female_Trem_peaks.bed.gff</td>\n",
       "      <td>1213</td>\n",
       "      <td>886</td>\n",
       "      <td>327</td>\n",
       "      <td>73.04</td>\n",
       "      <td>14.674361</td>\n",
       "      <td>49.958780</td>\n",
       "      <td>trem;Adult Female;ChIP-seq</td>\n",
       "      <td>D. melanogaster</td>\n",
       "      <td>ChIP-seq</td>\n",
       "      <td>Transcriptional Factor</td>\n",
       "      <td>trem</td>\n",
       "      <td>Adult Female</td>\n",
       "      <td>White, K.</td>\n",
       "      <td>3399</td>\n",
       "    </tr>\n",
       "    <tr>\n",
       "      <th>3</th>\n",
       "      <td>3394_E16-24h_Kr-D2_peaks.bed.gff</td>\n",
       "      <td>353</td>\n",
       "      <td>228</td>\n",
       "      <td>125</td>\n",
       "      <td>64.59</td>\n",
       "      <td>28.895184</td>\n",
       "      <td>42.776204</td>\n",
       "      <td>Kruppel;Embryos 16-24 hr;ChIP-seq</td>\n",
       "      <td>D. melanogaster</td>\n",
       "      <td>ChIP-seq</td>\n",
       "      <td>Transcriptional Factor</td>\n",
       "      <td>Kruppel</td>\n",
       "      <td>Embryos 16-24 hr</td>\n",
       "      <td>White, K.</td>\n",
       "      <td>3394</td>\n",
       "    </tr>\n",
       "    <tr>\n",
       "      <th>4</th>\n",
       "      <td>3827_E8-16h_h_peaks.bed.gff</td>\n",
       "      <td>431</td>\n",
       "      <td>262</td>\n",
       "      <td>169</td>\n",
       "      <td>60.79</td>\n",
       "      <td>13.225058</td>\n",
       "      <td>39.675174</td>\n",
       "      <td>hairy;Embryos 8-16 hr;ChIP-seq</td>\n",
       "      <td>D. melanogaster</td>\n",
       "      <td>ChIP-seq</td>\n",
       "      <td>Transcriptional Factor</td>\n",
       "      <td>hairy</td>\n",
       "      <td>Embryos 8-16 hr</td>\n",
       "      <td>White, K.</td>\n",
       "      <td>3827</td>\n",
       "    </tr>\n",
       "  </tbody>\n",
       "</table>\n",
       "</div>"
      ],
      "text/plain": [
       "                  Profile_file_name  Total peaks  Overlap  Non.overlapping  \\\n",
       "0       3232_E0-12h_Sin3A_peaks.bed         4046     2519             1527   \n",
       "1   3826_E16-24h_Fer3_peaks.bed.gff         2284     1416              868   \n",
       "2  3399_A.Female_Trem_peaks.bed.gff         1213      886              327   \n",
       "3  3394_E16-24h_Kr-D2_peaks.bed.gff          353      228              125   \n",
       "4       3827_E8-16h_h_peaks.bed.gff          431      262              169   \n",
       "\n",
       "   Percent  P.value <0.01  P.value <0.05                         Description  \\\n",
       "0    62.26      14.236283      54.770143      Sin3A;Embryos 0-12 hr;ChIP-seq   \n",
       "1    62.00      18.345009      52.451839      Fer3;Embryos 16-24 hr;ChIP-seq   \n",
       "2    73.04      14.674361      49.958780          trem;Adult Female;ChIP-seq   \n",
       "3    64.59      28.895184      42.776204   Kruppel;Embryos 16-24 hr;ChIP-seq   \n",
       "4    60.79      13.225058      39.675174      hairy;Embryos 8-16 hr;ChIP-seq   \n",
       "\n",
       "          Organism    Method                    Type   Factor  \\\n",
       "0  D. melanogaster  ChIP-seq  Transcriptional Factor    Sin3A   \n",
       "1  D. melanogaster  ChIP-seq  Transcriptional Factor     Fer3   \n",
       "2  D. melanogaster  ChIP-seq  Transcriptional Factor     trem   \n",
       "3  D. melanogaster  ChIP-seq  Transcriptional Factor  Kruppel   \n",
       "4  D. melanogaster  ChIP-seq  Transcriptional Factor    hairy   \n",
       "\n",
       "              Stage        Lab  modE_ID  \n",
       "0   Embryos 0-12 hr  White, K.     3232  \n",
       "1  Embryos 16-24 hr  White, K.     3826  \n",
       "2      Adult Female  White, K.     3399  \n",
       "3  Embryos 16-24 hr  White, K.     3394  \n",
       "4   Embryos 8-16 hr  White, K.     3827  "
      ]
     },
     "execution_count": 32,
     "metadata": {},
     "output_type": "execute_result"
    }
   ],
   "source": [
    "phantom_overlap.head()"
   ]
  },
  {
   "cell_type": "code",
   "execution_count": 33,
   "metadata": {
    "collapsed": true
   },
   "outputs": [],
   "source": [
    "new_ids = []\n",
    "for val in list(phantom_overlap.modE_ID):\n",
    "    newval = 'modENCODE_'+str(val)\n",
    "    new_ids.append(newval)"
   ]
  },
  {
   "cell_type": "code",
   "execution_count": 34,
   "metadata": {},
   "outputs": [
    {
     "data": {
      "text/plain": [
       "153"
      ]
     },
     "execution_count": 34,
     "metadata": {},
     "output_type": "execute_result"
    }
   ],
   "source": [
    "len(new_ids)"
   ]
  },
  {
   "cell_type": "code",
   "execution_count": 35,
   "metadata": {},
   "outputs": [
    {
     "data": {
      "text/plain": [
       "153"
      ]
     },
     "execution_count": 35,
     "metadata": {},
     "output_type": "execute_result"
    }
   ],
   "source": [
    "len(list(phantom_overlap.modE_ID))"
   ]
  },
  {
   "cell_type": "code",
   "execution_count": 36,
   "metadata": {
    "collapsed": true
   },
   "outputs": [],
   "source": [
    "phantom_overlap['modENCODE_id'] = new_ids"
   ]
  },
  {
   "cell_type": "code",
   "execution_count": 37,
   "metadata": {},
   "outputs": [
    {
     "data": {
      "text/html": [
       "<div>\n",
       "<style>\n",
       "    .dataframe thead tr:only-child th {\n",
       "        text-align: right;\n",
       "    }\n",
       "\n",
       "    .dataframe thead th {\n",
       "        text-align: left;\n",
       "    }\n",
       "\n",
       "    .dataframe tbody tr th {\n",
       "        vertical-align: top;\n",
       "    }\n",
       "</style>\n",
       "<table border=\"1\" class=\"dataframe\">\n",
       "  <thead>\n",
       "    <tr style=\"text-align: right;\">\n",
       "      <th></th>\n",
       "      <th>Profile_file_name</th>\n",
       "      <th>Total peaks</th>\n",
       "      <th>Overlap</th>\n",
       "      <th>Non.overlapping</th>\n",
       "      <th>Percent</th>\n",
       "      <th>P.value &lt;0.01</th>\n",
       "      <th>P.value &lt;0.05</th>\n",
       "      <th>Description</th>\n",
       "      <th>Organism</th>\n",
       "      <th>Method</th>\n",
       "      <th>Type</th>\n",
       "      <th>Factor</th>\n",
       "      <th>Stage</th>\n",
       "      <th>Lab</th>\n",
       "      <th>modE_ID</th>\n",
       "      <th>modENCODE_id</th>\n",
       "    </tr>\n",
       "  </thead>\n",
       "  <tbody>\n",
       "    <tr>\n",
       "      <th>0</th>\n",
       "      <td>3232_E0-12h_Sin3A_peaks.bed</td>\n",
       "      <td>4046</td>\n",
       "      <td>2519</td>\n",
       "      <td>1527</td>\n",
       "      <td>62.26</td>\n",
       "      <td>14.236283</td>\n",
       "      <td>54.770143</td>\n",
       "      <td>Sin3A;Embryos 0-12 hr;ChIP-seq</td>\n",
       "      <td>D. melanogaster</td>\n",
       "      <td>ChIP-seq</td>\n",
       "      <td>Transcriptional Factor</td>\n",
       "      <td>Sin3A</td>\n",
       "      <td>Embryos 0-12 hr</td>\n",
       "      <td>White, K.</td>\n",
       "      <td>3232</td>\n",
       "      <td>modENCODE_3232</td>\n",
       "    </tr>\n",
       "    <tr>\n",
       "      <th>1</th>\n",
       "      <td>3826_E16-24h_Fer3_peaks.bed.gff</td>\n",
       "      <td>2284</td>\n",
       "      <td>1416</td>\n",
       "      <td>868</td>\n",
       "      <td>62.00</td>\n",
       "      <td>18.345009</td>\n",
       "      <td>52.451839</td>\n",
       "      <td>Fer3;Embryos 16-24 hr;ChIP-seq</td>\n",
       "      <td>D. melanogaster</td>\n",
       "      <td>ChIP-seq</td>\n",
       "      <td>Transcriptional Factor</td>\n",
       "      <td>Fer3</td>\n",
       "      <td>Embryos 16-24 hr</td>\n",
       "      <td>White, K.</td>\n",
       "      <td>3826</td>\n",
       "      <td>modENCODE_3826</td>\n",
       "    </tr>\n",
       "    <tr>\n",
       "      <th>2</th>\n",
       "      <td>3399_A.Female_Trem_peaks.bed.gff</td>\n",
       "      <td>1213</td>\n",
       "      <td>886</td>\n",
       "      <td>327</td>\n",
       "      <td>73.04</td>\n",
       "      <td>14.674361</td>\n",
       "      <td>49.958780</td>\n",
       "      <td>trem;Adult Female;ChIP-seq</td>\n",
       "      <td>D. melanogaster</td>\n",
       "      <td>ChIP-seq</td>\n",
       "      <td>Transcriptional Factor</td>\n",
       "      <td>trem</td>\n",
       "      <td>Adult Female</td>\n",
       "      <td>White, K.</td>\n",
       "      <td>3399</td>\n",
       "      <td>modENCODE_3399</td>\n",
       "    </tr>\n",
       "    <tr>\n",
       "      <th>3</th>\n",
       "      <td>3394_E16-24h_Kr-D2_peaks.bed.gff</td>\n",
       "      <td>353</td>\n",
       "      <td>228</td>\n",
       "      <td>125</td>\n",
       "      <td>64.59</td>\n",
       "      <td>28.895184</td>\n",
       "      <td>42.776204</td>\n",
       "      <td>Kruppel;Embryos 16-24 hr;ChIP-seq</td>\n",
       "      <td>D. melanogaster</td>\n",
       "      <td>ChIP-seq</td>\n",
       "      <td>Transcriptional Factor</td>\n",
       "      <td>Kruppel</td>\n",
       "      <td>Embryos 16-24 hr</td>\n",
       "      <td>White, K.</td>\n",
       "      <td>3394</td>\n",
       "      <td>modENCODE_3394</td>\n",
       "    </tr>\n",
       "    <tr>\n",
       "      <th>4</th>\n",
       "      <td>3827_E8-16h_h_peaks.bed.gff</td>\n",
       "      <td>431</td>\n",
       "      <td>262</td>\n",
       "      <td>169</td>\n",
       "      <td>60.79</td>\n",
       "      <td>13.225058</td>\n",
       "      <td>39.675174</td>\n",
       "      <td>hairy;Embryos 8-16 hr;ChIP-seq</td>\n",
       "      <td>D. melanogaster</td>\n",
       "      <td>ChIP-seq</td>\n",
       "      <td>Transcriptional Factor</td>\n",
       "      <td>hairy</td>\n",
       "      <td>Embryos 8-16 hr</td>\n",
       "      <td>White, K.</td>\n",
       "      <td>3827</td>\n",
       "      <td>modENCODE_3827</td>\n",
       "    </tr>\n",
       "  </tbody>\n",
       "</table>\n",
       "</div>"
      ],
      "text/plain": [
       "                  Profile_file_name  Total peaks  Overlap  Non.overlapping  \\\n",
       "0       3232_E0-12h_Sin3A_peaks.bed         4046     2519             1527   \n",
       "1   3826_E16-24h_Fer3_peaks.bed.gff         2284     1416              868   \n",
       "2  3399_A.Female_Trem_peaks.bed.gff         1213      886              327   \n",
       "3  3394_E16-24h_Kr-D2_peaks.bed.gff          353      228              125   \n",
       "4       3827_E8-16h_h_peaks.bed.gff          431      262              169   \n",
       "\n",
       "   Percent  P.value <0.01  P.value <0.05                         Description  \\\n",
       "0    62.26      14.236283      54.770143      Sin3A;Embryos 0-12 hr;ChIP-seq   \n",
       "1    62.00      18.345009      52.451839      Fer3;Embryos 16-24 hr;ChIP-seq   \n",
       "2    73.04      14.674361      49.958780          trem;Adult Female;ChIP-seq   \n",
       "3    64.59      28.895184      42.776204   Kruppel;Embryos 16-24 hr;ChIP-seq   \n",
       "4    60.79      13.225058      39.675174      hairy;Embryos 8-16 hr;ChIP-seq   \n",
       "\n",
       "          Organism    Method                    Type   Factor  \\\n",
       "0  D. melanogaster  ChIP-seq  Transcriptional Factor    Sin3A   \n",
       "1  D. melanogaster  ChIP-seq  Transcriptional Factor     Fer3   \n",
       "2  D. melanogaster  ChIP-seq  Transcriptional Factor     trem   \n",
       "3  D. melanogaster  ChIP-seq  Transcriptional Factor  Kruppel   \n",
       "4  D. melanogaster  ChIP-seq  Transcriptional Factor    hairy   \n",
       "\n",
       "              Stage        Lab  modE_ID    modENCODE_id  \n",
       "0   Embryos 0-12 hr  White, K.     3232  modENCODE_3232  \n",
       "1  Embryos 16-24 hr  White, K.     3826  modENCODE_3826  \n",
       "2      Adult Female  White, K.     3399  modENCODE_3399  \n",
       "3  Embryos 16-24 hr  White, K.     3394  modENCODE_3394  \n",
       "4   Embryos 8-16 hr  White, K.     3827  modENCODE_3827  "
      ]
     },
     "execution_count": 37,
     "metadata": {},
     "output_type": "execute_result"
    }
   ],
   "source": [
    "phantom_overlap.head()"
   ]
  },
  {
   "cell_type": "code",
   "execution_count": 38,
   "metadata": {
    "collapsed": true
   },
   "outputs": [],
   "source": [
    "overlapping = happy.merge(phantom_overlap, on='modENCODE_id', how='inner')"
   ]
  },
  {
   "cell_type": "code",
   "execution_count": 39,
   "metadata": {},
   "outputs": [
    {
     "data": {
      "text/plain": [
       "(153, 16)"
      ]
     },
     "execution_count": 39,
     "metadata": {},
     "output_type": "execute_result"
    }
   ],
   "source": [
    "phantom_overlap.shape"
   ]
  },
  {
   "cell_type": "code",
   "execution_count": 40,
   "metadata": {},
   "outputs": [
    {
     "data": {
      "text/plain": [
       "count              52460\n",
       "unique                21\n",
       "top       modENCODE_4982\n",
       "freq                8958\n",
       "Name: modENCODE_id, dtype: object"
      ]
     },
     "execution_count": 40,
     "metadata": {},
     "output_type": "execute_result"
    }
   ],
   "source": [
    "overlapping.modENCODE_id.describe()"
   ]
  },
  {
   "cell_type": "code",
   "execution_count": 41,
   "metadata": {},
   "outputs": [
    {
     "data": {
      "text/html": [
       "<div>\n",
       "<style>\n",
       "    .dataframe thead tr:only-child th {\n",
       "        text-align: right;\n",
       "    }\n",
       "\n",
       "    .dataframe thead th {\n",
       "        text-align: left;\n",
       "    }\n",
       "\n",
       "    .dataframe tbody tr th {\n",
       "        vertical-align: top;\n",
       "    }\n",
       "</style>\n",
       "<table border=\"1\" class=\"dataframe\">\n",
       "  <thead>\n",
       "    <tr style=\"text-align: right;\">\n",
       "      <th></th>\n",
       "      <th>Name</th>\n",
       "      <th>chr</th>\n",
       "      <th>start</th>\n",
       "      <th>end</th>\n",
       "      <th>strand</th>\n",
       "    </tr>\n",
       "  </thead>\n",
       "  <tbody>\n",
       "    <tr>\n",
       "      <th>0</th>\n",
       "      <td>Phantom Peak-1</td>\n",
       "      <td>chr2L</td>\n",
       "      <td>18637</td>\n",
       "      <td>19089</td>\n",
       "      <td>+</td>\n",
       "    </tr>\n",
       "    <tr>\n",
       "      <th>1</th>\n",
       "      <td>Phantom Peak-2</td>\n",
       "      <td>chr2L</td>\n",
       "      <td>102118</td>\n",
       "      <td>102570</td>\n",
       "      <td>+</td>\n",
       "    </tr>\n",
       "    <tr>\n",
       "      <th>2</th>\n",
       "      <td>Phantom Peak-3</td>\n",
       "      <td>chr2L</td>\n",
       "      <td>107669</td>\n",
       "      <td>108121</td>\n",
       "      <td>+</td>\n",
       "    </tr>\n",
       "    <tr>\n",
       "      <th>3</th>\n",
       "      <td>Phantom Peak-4</td>\n",
       "      <td>chr2L</td>\n",
       "      <td>143051</td>\n",
       "      <td>143503</td>\n",
       "      <td>+</td>\n",
       "    </tr>\n",
       "    <tr>\n",
       "      <th>4</th>\n",
       "      <td>Phantom Peak-5</td>\n",
       "      <td>chr2L</td>\n",
       "      <td>155891</td>\n",
       "      <td>156343</td>\n",
       "      <td>+</td>\n",
       "    </tr>\n",
       "  </tbody>\n",
       "</table>\n",
       "</div>"
      ],
      "text/plain": [
       "             Name   chr    start     end strand\n",
       "0  Phantom Peak-1  chr2L   18637   19089      +\n",
       "1  Phantom Peak-2  chr2L  102118  102570      +\n",
       "2  Phantom Peak-3  chr2L  107669  108121      +\n",
       "3  Phantom Peak-4  chr2L  143051  143503      +\n",
       "4  Phantom Peak-5  chr2L  155891  156343      +"
      ]
     },
     "execution_count": 41,
     "metadata": {},
     "output_type": "execute_result"
    }
   ],
   "source": [
    "phantompeaks.head()"
   ]
  },
  {
   "cell_type": "code",
   "execution_count": 42,
   "metadata": {},
   "outputs": [
    {
     "data": {
      "text/plain": [
       "count               153\n",
       "unique              153\n",
       "top       modENCODE_847\n",
       "freq                  1\n",
       "Name: modENCODE_id, dtype: object"
      ]
     },
     "execution_count": 42,
     "metadata": {},
     "output_type": "execute_result"
    }
   ],
   "source": [
    "phantom_overlap.modENCODE_id.describe()"
   ]
  },
  {
   "cell_type": "code",
   "execution_count": 43,
   "metadata": {},
   "outputs": [
    {
     "data": {
      "text/html": [
       "<div>\n",
       "<style>\n",
       "    .dataframe thead tr:only-child th {\n",
       "        text-align: right;\n",
       "    }\n",
       "\n",
       "    .dataframe thead th {\n",
       "        text-align: left;\n",
       "    }\n",
       "\n",
       "    .dataframe tbody tr th {\n",
       "        vertical-align: top;\n",
       "    }\n",
       "</style>\n",
       "<table border=\"1\" class=\"dataframe\">\n",
       "  <thead>\n",
       "    <tr style=\"text-align: right;\">\n",
       "      <th></th>\n",
       "      <th>Profile_file_name</th>\n",
       "      <th>Total peaks</th>\n",
       "      <th>Overlap</th>\n",
       "      <th>Non.overlapping</th>\n",
       "      <th>Percent</th>\n",
       "      <th>P.value &lt;0.01</th>\n",
       "      <th>P.value &lt;0.05</th>\n",
       "      <th>Description</th>\n",
       "      <th>Organism</th>\n",
       "      <th>Method</th>\n",
       "      <th>...</th>\n",
       "      <th>score</th>\n",
       "      <th>chrom</th>\n",
       "      <th>start</th>\n",
       "      <th>end</th>\n",
       "      <th>strand</th>\n",
       "      <th>antibody</th>\n",
       "      <th>cell line</th>\n",
       "      <th>developmental stage</th>\n",
       "      <th>strain</th>\n",
       "      <th>target gene</th>\n",
       "    </tr>\n",
       "  </thead>\n",
       "  <tbody>\n",
       "    <tr>\n",
       "      <th>0</th>\n",
       "      <td>3232_E0-12h_Sin3A_peaks.bed</td>\n",
       "      <td>4046</td>\n",
       "      <td>2519</td>\n",
       "      <td>1527</td>\n",
       "      <td>62.26</td>\n",
       "      <td>14.236283</td>\n",
       "      <td>54.770143</td>\n",
       "      <td>Sin3A;Embryos 0-12 hr;ChIP-seq</td>\n",
       "      <td>D. melanogaster</td>\n",
       "      <td>ChIP-seq</td>\n",
       "      <td>...</td>\n",
       "      <td>NaN</td>\n",
       "      <td>NaN</td>\n",
       "      <td>NaN</td>\n",
       "      <td>NaN</td>\n",
       "      <td>NaN</td>\n",
       "      <td>NaN</td>\n",
       "      <td>NaN</td>\n",
       "      <td>NaN</td>\n",
       "      <td>NaN</td>\n",
       "      <td>NaN</td>\n",
       "    </tr>\n",
       "    <tr>\n",
       "      <th>1</th>\n",
       "      <td>3826_E16-24h_Fer3_peaks.bed.gff</td>\n",
       "      <td>2284</td>\n",
       "      <td>1416</td>\n",
       "      <td>868</td>\n",
       "      <td>62.00</td>\n",
       "      <td>18.345009</td>\n",
       "      <td>52.451839</td>\n",
       "      <td>Fer3;Embryos 16-24 hr;ChIP-seq</td>\n",
       "      <td>D. melanogaster</td>\n",
       "      <td>ChIP-seq</td>\n",
       "      <td>...</td>\n",
       "      <td>NaN</td>\n",
       "      <td>NaN</td>\n",
       "      <td>NaN</td>\n",
       "      <td>NaN</td>\n",
       "      <td>NaN</td>\n",
       "      <td>NaN</td>\n",
       "      <td>NaN</td>\n",
       "      <td>NaN</td>\n",
       "      <td>NaN</td>\n",
       "      <td>NaN</td>\n",
       "    </tr>\n",
       "    <tr>\n",
       "      <th>2</th>\n",
       "      <td>3399_A.Female_Trem_peaks.bed.gff</td>\n",
       "      <td>1213</td>\n",
       "      <td>886</td>\n",
       "      <td>327</td>\n",
       "      <td>73.04</td>\n",
       "      <td>14.674361</td>\n",
       "      <td>49.958780</td>\n",
       "      <td>trem;Adult Female;ChIP-seq</td>\n",
       "      <td>D. melanogaster</td>\n",
       "      <td>ChIP-seq</td>\n",
       "      <td>...</td>\n",
       "      <td>212.41</td>\n",
       "      <td>2L</td>\n",
       "      <td>72446.0</td>\n",
       "      <td>74074.0</td>\n",
       "      <td>0.0</td>\n",
       "      <td>No Antibody Control</td>\n",
       "      <td>None</td>\n",
       "      <td>Adult Female</td>\n",
       "      <td>yellow cinnabar brown speck</td>\n",
       "      <td>None</td>\n",
       "    </tr>\n",
       "    <tr>\n",
       "      <th>3</th>\n",
       "      <td>3399_A.Female_Trem_peaks.bed.gff</td>\n",
       "      <td>1213</td>\n",
       "      <td>886</td>\n",
       "      <td>327</td>\n",
       "      <td>73.04</td>\n",
       "      <td>14.674361</td>\n",
       "      <td>49.958780</td>\n",
       "      <td>trem;Adult Female;ChIP-seq</td>\n",
       "      <td>D. melanogaster</td>\n",
       "      <td>ChIP-seq</td>\n",
       "      <td>...</td>\n",
       "      <td>3100.00</td>\n",
       "      <td>2L</td>\n",
       "      <td>868493.0</td>\n",
       "      <td>874595.0</td>\n",
       "      <td>0.0</td>\n",
       "      <td>No Antibody Control</td>\n",
       "      <td>None</td>\n",
       "      <td>Adult Female</td>\n",
       "      <td>yellow cinnabar brown speck</td>\n",
       "      <td>None</td>\n",
       "    </tr>\n",
       "    <tr>\n",
       "      <th>4</th>\n",
       "      <td>3399_A.Female_Trem_peaks.bed.gff</td>\n",
       "      <td>1213</td>\n",
       "      <td>886</td>\n",
       "      <td>327</td>\n",
       "      <td>73.04</td>\n",
       "      <td>14.674361</td>\n",
       "      <td>49.958780</td>\n",
       "      <td>trem;Adult Female;ChIP-seq</td>\n",
       "      <td>D. melanogaster</td>\n",
       "      <td>ChIP-seq</td>\n",
       "      <td>...</td>\n",
       "      <td>54.01</td>\n",
       "      <td>2L</td>\n",
       "      <td>10333061.0</td>\n",
       "      <td>10335019.0</td>\n",
       "      <td>0.0</td>\n",
       "      <td>No Antibody Control</td>\n",
       "      <td>None</td>\n",
       "      <td>Adult Female</td>\n",
       "      <td>yellow cinnabar brown speck</td>\n",
       "      <td>None</td>\n",
       "    </tr>\n",
       "  </tbody>\n",
       "</table>\n",
       "<p>5 rows × 27 columns</p>\n",
       "</div>"
      ],
      "text/plain": [
       "                  Profile_file_name  Total peaks  Overlap  Non.overlapping  \\\n",
       "0       3232_E0-12h_Sin3A_peaks.bed         4046     2519             1527   \n",
       "1   3826_E16-24h_Fer3_peaks.bed.gff         2284     1416              868   \n",
       "2  3399_A.Female_Trem_peaks.bed.gff         1213      886              327   \n",
       "3  3399_A.Female_Trem_peaks.bed.gff         1213      886              327   \n",
       "4  3399_A.Female_Trem_peaks.bed.gff         1213      886              327   \n",
       "\n",
       "   Percent  P.value <0.01  P.value <0.05                      Description  \\\n",
       "0    62.26      14.236283      54.770143   Sin3A;Embryos 0-12 hr;ChIP-seq   \n",
       "1    62.00      18.345009      52.451839   Fer3;Embryos 16-24 hr;ChIP-seq   \n",
       "2    73.04      14.674361      49.958780       trem;Adult Female;ChIP-seq   \n",
       "3    73.04      14.674361      49.958780       trem;Adult Female;ChIP-seq   \n",
       "4    73.04      14.674361      49.958780       trem;Adult Female;ChIP-seq   \n",
       "\n",
       "          Organism    Method     ...         score chrom       start  \\\n",
       "0  D. melanogaster  ChIP-seq     ...           NaN   NaN         NaN   \n",
       "1  D. melanogaster  ChIP-seq     ...           NaN   NaN         NaN   \n",
       "2  D. melanogaster  ChIP-seq     ...        212.41    2L     72446.0   \n",
       "3  D. melanogaster  ChIP-seq     ...       3100.00    2L    868493.0   \n",
       "4  D. melanogaster  ChIP-seq     ...         54.01    2L  10333061.0   \n",
       "\n",
       "          end  strand             antibody cell line  developmental stage  \\\n",
       "0         NaN     NaN                  NaN       NaN                  NaN   \n",
       "1         NaN     NaN                  NaN       NaN                  NaN   \n",
       "2     74074.0     0.0  No Antibody Control      None         Adult Female   \n",
       "3    874595.0     0.0  No Antibody Control      None         Adult Female   \n",
       "4  10335019.0     0.0  No Antibody Control      None         Adult Female   \n",
       "\n",
       "                        strain  target gene  \n",
       "0                          NaN          NaN  \n",
       "1                          NaN          NaN  \n",
       "2  yellow cinnabar brown speck         None  \n",
       "3  yellow cinnabar brown speck         None  \n",
       "4  yellow cinnabar brown speck         None  \n",
       "\n",
       "[5 rows x 27 columns]"
      ]
     },
     "execution_count": 43,
     "metadata": {},
     "output_type": "execute_result"
    }
   ],
   "source": [
    "phantom_overlap.merge(happy, on='modENCODE_id', how='left').head()"
   ]
  },
  {
   "cell_type": "code",
   "execution_count": 44,
   "metadata": {},
   "outputs": [
    {
     "name": "stdout",
     "output_type": "stream",
     "text": [
      "21\n"
     ]
    }
   ],
   "source": [
    "count=0\n",
    "for val in list(happy.modENCODE_id.unique()): \n",
    "    if val in list(phantom_overlap.modENCODE_id):\n",
    "        count += 1 \n",
    "print(count)"
   ]
  },
  {
   "cell_type": "markdown",
   "metadata": {},
   "source": [
    "What fraction of peaks fall within promoter region? \n",
    "\n",
    "How many DamID modENCODE datasets are there?\n",
    "\n",
    "Histone dataset"
   ]
  },
  {
   "cell_type": "code",
   "execution_count": 45,
   "metadata": {
    "collapsed": true
   },
   "outputs": [],
   "source": [
    "missing = []\n",
    "for val in list(phantom_overlap.modENCODE_id):\n",
    "    if val not in list(happy.modENCODE_id.unique()):\n",
    "        missing.append(val)"
   ]
  },
  {
   "cell_type": "code",
   "execution_count": 46,
   "metadata": {},
   "outputs": [
    {
     "data": {
      "text/plain": [
       "132"
      ]
     },
     "execution_count": 46,
     "metadata": {},
     "output_type": "execute_result"
    }
   ],
   "source": [
    "len(missing)"
   ]
  },
  {
   "cell_type": "code",
   "execution_count": 47,
   "metadata": {
    "collapsed": true
   },
   "outputs": [],
   "source": [
    "blob = pd.Series(missing)"
   ]
  },
  {
   "cell_type": "code",
   "execution_count": 90,
   "metadata": {},
   "outputs": [
    {
     "ename": "IndexError",
     "evalue": "list index out of range",
     "output_type": "error",
     "traceback": [
      "\u001b[0;31m---------------------------------------------------------------------------\u001b[0m",
      "\u001b[0;31mIndexError\u001b[0m                                Traceback (most recent call last)",
      "\u001b[0;32m<ipython-input-90-e1a1c18297b7>\u001b[0m in \u001b[0;36m<module>\u001b[0;34m()\u001b[0m\n\u001b[1;32m      6\u001b[0m \u001b[0;32mfor\u001b[0m \u001b[0mline\u001b[0m \u001b[0;32min\u001b[0m \u001b[0mpage\u001b[0m\u001b[0;34m:\u001b[0m\u001b[0;34m\u001b[0m\u001b[0m\n\u001b[1;32m      7\u001b[0m     \u001b[0;32mif\u001b[0m \u001b[0;32mnot\u001b[0m \u001b[0mline\u001b[0m\u001b[0;34m.\u001b[0m\u001b[0mstartswith\u001b[0m\u001b[0;34m(\u001b[0m\u001b[0;34m'#'\u001b[0m\u001b[0;34m)\u001b[0m\u001b[0;34m:\u001b[0m\u001b[0;34m\u001b[0m\u001b[0m\n\u001b[0;32m----> 8\u001b[0;31m         \u001b[0mmodid\u001b[0m \u001b[0;34m=\u001b[0m \u001b[0;34m'modENCODE_'\u001b[0m\u001b[0;34m+\u001b[0m\u001b[0mstr\u001b[0m\u001b[0;34m(\u001b[0m\u001b[0mline\u001b[0m\u001b[0;34m.\u001b[0m\u001b[0msplit\u001b[0m\u001b[0;34m(\u001b[0m\u001b[0;34m)\u001b[0m\u001b[0;34m[\u001b[0m\u001b[0;36m0\u001b[0m\u001b[0;34m]\u001b[0m\u001b[0;34m)\u001b[0m \u001b[0;31m#gives an error but still works?\u001b[0m\u001b[0;34m\u001b[0m\u001b[0m\n\u001b[0m\u001b[1;32m      9\u001b[0m         \u001b[0mlink\u001b[0m \u001b[0;34m=\u001b[0m \u001b[0mline\u001b[0m\u001b[0;34m.\u001b[0m\u001b[0msplit\u001b[0m\u001b[0;34m(\u001b[0m\u001b[0;34m)\u001b[0m\u001b[0;34m[\u001b[0m\u001b[0;36m1\u001b[0m\u001b[0;34m]\u001b[0m\u001b[0;34m\u001b[0m\u001b[0m\n\u001b[1;32m     10\u001b[0m         \u001b[0mtable\u001b[0m\u001b[0;34m.\u001b[0m\u001b[0mappend\u001b[0m\u001b[0;34m(\u001b[0m\u001b[0;34m[\u001b[0m\u001b[0mmodid\u001b[0m\u001b[0;34m,\u001b[0m \u001b[0mlink\u001b[0m\u001b[0;34m]\u001b[0m\u001b[0;34m)\u001b[0m\u001b[0;34m\u001b[0m\u001b[0m\n",
      "\u001b[0;31mIndexError\u001b[0m: list index out of range"
     ]
    }
   ],
   "source": [
    "url = 'http://data.modencode.org/cgi-bin/cloud_list.pl?accessions=3954,3393,3806,3825,3231,2625,2626,2637,3403,4078,3240,4080,5068,4082,4081,3959,5069,2638,2639,3395,3235,4974,5008,5070,5071,5072,5577,3229,3230,3402,3401,2640,2641,2642,3234,3236,3239,3241,3400,3398,4976,3824,3826,4089,3809,3238,3397,5028,3814,3245,3830,4119,4981,5257,5073,5074,5595,5596,5075,4953,5258,5076,5077,5078,5079,5080,5081,5082,4946,5083,4951,4960,4120,5084,5578,844,845,834,837,838,839,835,836,840,841,895,842,843,5085,5086,5087,5088,5582,3807,3810,3811,3815,3955,5089,5583,3829,820,810&urls=1'\n",
    "page = urlopen(url).read().decode('utf-8')\n",
    "page = page.split('\\n')\n",
    "\n",
    "table = []\n",
    "for line in page:\n",
    "    if not line.startswith('#'):\n",
    "        modid = 'modENCODE_'+str(line.split()[0]) #gives an error but still works? \n",
    "        link = line.split()[1]\n",
    "        table.append([modid, link])"
   ]
  },
  {
   "cell_type": "code",
   "execution_count": 91,
   "metadata": {
    "collapsed": true
   },
   "outputs": [],
   "source": [
    "download_urls = pd.DataFrame(table, columns=['modENCODE_id', 'link'])"
   ]
  },
  {
   "cell_type": "code",
   "execution_count": 92,
   "metadata": {},
   "outputs": [
    {
     "data": {
      "text/html": [
       "<div>\n",
       "<style>\n",
       "    .dataframe thead tr:only-child th {\n",
       "        text-align: right;\n",
       "    }\n",
       "\n",
       "    .dataframe thead th {\n",
       "        text-align: left;\n",
       "    }\n",
       "\n",
       "    .dataframe tbody tr th {\n",
       "        vertical-align: top;\n",
       "    }\n",
       "</style>\n",
       "<table border=\"1\" class=\"dataframe\">\n",
       "  <thead>\n",
       "    <tr style=\"text-align: right;\">\n",
       "      <th></th>\n",
       "      <th>modENCODE_id</th>\n",
       "      <th>link</th>\n",
       "    </tr>\n",
       "  </thead>\n",
       "  <tbody>\n",
       "    <tr>\n",
       "      <th>0</th>\n",
       "      <td>modENCODE_3954</td>\n",
       "      <td>ftp://data.modencode.org/all_files/dmel-interp...</td>\n",
       "    </tr>\n",
       "    <tr>\n",
       "      <th>1</th>\n",
       "      <td>modENCODE_3954</td>\n",
       "      <td>ftp://data.modencode.org/all_files/dmel-interp...</td>\n",
       "    </tr>\n",
       "    <tr>\n",
       "      <th>2</th>\n",
       "      <td>modENCODE_3954</td>\n",
       "      <td>ftp://data.modencode.org/all_files/dmel-interp...</td>\n",
       "    </tr>\n",
       "    <tr>\n",
       "      <th>3</th>\n",
       "      <td>modENCODE_3954</td>\n",
       "      <td>ftp://data.modencode.org/all_files/dmel-raw-6/...</td>\n",
       "    </tr>\n",
       "    <tr>\n",
       "      <th>4</th>\n",
       "      <td>modENCODE_3954</td>\n",
       "      <td>ftp://data.modencode.org/all_files/dmel-raw-6/...</td>\n",
       "    </tr>\n",
       "  </tbody>\n",
       "</table>\n",
       "</div>"
      ],
      "text/plain": [
       "     modENCODE_id                                               link\n",
       "0  modENCODE_3954  ftp://data.modencode.org/all_files/dmel-interp...\n",
       "1  modENCODE_3954  ftp://data.modencode.org/all_files/dmel-interp...\n",
       "2  modENCODE_3954  ftp://data.modencode.org/all_files/dmel-interp...\n",
       "3  modENCODE_3954  ftp://data.modencode.org/all_files/dmel-raw-6/...\n",
       "4  modENCODE_3954  ftp://data.modencode.org/all_files/dmel-raw-6/..."
      ]
     },
     "execution_count": 92,
     "metadata": {},
     "output_type": "execute_result"
    }
   ],
   "source": [
    "download_urls.head()"
   ]
  },
  {
   "cell_type": "code",
   "execution_count": 93,
   "metadata": {},
   "outputs": [
    {
     "data": {
      "text/plain": [
       "103"
      ]
     },
     "execution_count": 93,
     "metadata": {},
     "output_type": "execute_result"
    }
   ],
   "source": [
    "len(download_urls.modENCODE_id.unique())"
   ]
  },
  {
   "cell_type": "code",
   "execution_count": 94,
   "metadata": {
    "collapsed": true
   },
   "outputs": [],
   "source": [
    "download_these = []\n",
    "for val in list(download_urls.modENCODE_id.unique()):\n",
    "    if val not in list(happy.modENCODE_id.unique()):\n",
    "        download_these.append(val)        "
   ]
  },
  {
   "cell_type": "code",
   "execution_count": 95,
   "metadata": {},
   "outputs": [
    {
     "data": {
      "text/plain": [
       "87"
      ]
     },
     "execution_count": 95,
     "metadata": {},
     "output_type": "execute_result"
    }
   ],
   "source": [
    "len(download_these)"
   ]
  },
  {
   "cell_type": "code",
   "execution_count": 279,
   "metadata": {},
   "outputs": [],
   "source": [
    "PATH = '../../data/modENCODE_downloads/'\n",
    "os.makedirs(PATH, exist_ok=True)\n",
    "\n",
    "for index, row in download_urls.iterrows(): \n",
    "    if row['modENCODE_id'] in list(download_these): \n",
    "        if 'gff' in row['link']: \n",
    "            urllib.request.urlretrieve(row['link'], PATH+row['modENCODE_id']+'.gff.gz')       "
   ]
  },
  {
   "cell_type": "markdown",
   "metadata": {},
   "source": [
    "* Unzip all files using gunzip \n",
    "* Iterate to make a column with file name: "
   ]
  },
  {
   "cell_type": "code",
   "execution_count": null,
   "metadata": {
    "collapsed": true
   },
   "outputs": [],
   "source": [
    "#import zipfile\n",
    "#with zipfile.ZipFile(\"file.zip\",\"r\") as zip_ref:\n",
    "    #zip_ref.extractall(\"targetdir\")"
   ]
  },
  {
   "cell_type": "code",
   "execution_count": 282,
   "metadata": {},
   "outputs": [],
   "source": [
    "import glob\n",
    "import os\n",
    "for fname in glob.glob('../../data/modENCODE_downloads/modENCODE_*.gff'): \n",
    "    name = os.path.splitext(os.path.basename(fname))[0]\n",
    "    df = pd.read_table(fname, header=None, comment='#')\n",
    "    df[8] = 'ID='+name\n",
    "    new = []\n",
    "    for val in df[0]:\n",
    "        newval = 'chr'+val\n",
    "        new.append(newval)\n",
    "    df[0] = new\n",
    "    df.to_csv(fname, sep='\\t', header=None, index=False)"
   ]
  },
  {
   "cell_type": "code",
   "execution_count": 283,
   "metadata": {},
   "outputs": [
    {
     "data": {
      "text/html": [
       "<div>\n",
       "<style>\n",
       "    .dataframe thead tr:only-child th {\n",
       "        text-align: right;\n",
       "    }\n",
       "\n",
       "    .dataframe thead th {\n",
       "        text-align: left;\n",
       "    }\n",
       "\n",
       "    .dataframe tbody tr th {\n",
       "        vertical-align: top;\n",
       "    }\n",
       "</style>\n",
       "<table border=\"1\" class=\"dataframe\">\n",
       "  <thead>\n",
       "    <tr style=\"text-align: right;\">\n",
       "      <th></th>\n",
       "      <th>0</th>\n",
       "      <th>1</th>\n",
       "      <th>2</th>\n",
       "      <th>3</th>\n",
       "      <th>4</th>\n",
       "      <th>5</th>\n",
       "      <th>6</th>\n",
       "      <th>7</th>\n",
       "      <th>8</th>\n",
       "    </tr>\n",
       "  </thead>\n",
       "  <tbody>\n",
       "    <tr>\n",
       "      <th>0</th>\n",
       "      <td>chr2L</td>\n",
       "      <td>CisGenome</td>\n",
       "      <td>protein_binding_site</td>\n",
       "      <td>318353</td>\n",
       "      <td>319615</td>\n",
       "      <td>NaN</td>\n",
       "      <td>NaN</td>\n",
       "      <td>.</td>\n",
       "      <td>ID=modENCODE_895</td>\n",
       "    </tr>\n",
       "    <tr>\n",
       "      <th>1</th>\n",
       "      <td>chr2L</td>\n",
       "      <td>CisGenome</td>\n",
       "      <td>protein_binding_site</td>\n",
       "      <td>320068</td>\n",
       "      <td>323222</td>\n",
       "      <td>NaN</td>\n",
       "      <td>NaN</td>\n",
       "      <td>.</td>\n",
       "      <td>ID=modENCODE_895</td>\n",
       "    </tr>\n",
       "    <tr>\n",
       "      <th>2</th>\n",
       "      <td>chr2L</td>\n",
       "      <td>CisGenome</td>\n",
       "      <td>protein_binding_site</td>\n",
       "      <td>328033</td>\n",
       "      <td>329598</td>\n",
       "      <td>NaN</td>\n",
       "      <td>NaN</td>\n",
       "      <td>.</td>\n",
       "      <td>ID=modENCODE_895</td>\n",
       "    </tr>\n",
       "    <tr>\n",
       "      <th>3</th>\n",
       "      <td>chr2L</td>\n",
       "      <td>CisGenome</td>\n",
       "      <td>protein_binding_site</td>\n",
       "      <td>336128</td>\n",
       "      <td>337547</td>\n",
       "      <td>NaN</td>\n",
       "      <td>NaN</td>\n",
       "      <td>.</td>\n",
       "      <td>ID=modENCODE_895</td>\n",
       "    </tr>\n",
       "    <tr>\n",
       "      <th>4</th>\n",
       "      <td>chr2L</td>\n",
       "      <td>CisGenome</td>\n",
       "      <td>protein_binding_site</td>\n",
       "      <td>365844</td>\n",
       "      <td>384321</td>\n",
       "      <td>NaN</td>\n",
       "      <td>NaN</td>\n",
       "      <td>.</td>\n",
       "      <td>ID=modENCODE_895</td>\n",
       "    </tr>\n",
       "  </tbody>\n",
       "</table>\n",
       "</div>"
      ],
      "text/plain": [
       "       0          1                     2       3       4   5   6  7  \\\n",
       "0  chr2L  CisGenome  protein_binding_site  318353  319615 NaN NaN  .   \n",
       "1  chr2L  CisGenome  protein_binding_site  320068  323222 NaN NaN  .   \n",
       "2  chr2L  CisGenome  protein_binding_site  328033  329598 NaN NaN  .   \n",
       "3  chr2L  CisGenome  protein_binding_site  336128  337547 NaN NaN  .   \n",
       "4  chr2L  CisGenome  protein_binding_site  365844  384321 NaN NaN  .   \n",
       "\n",
       "                  8  \n",
       "0  ID=modENCODE_895  \n",
       "1  ID=modENCODE_895  \n",
       "2  ID=modENCODE_895  \n",
       "3  ID=modENCODE_895  \n",
       "4  ID=modENCODE_895  "
      ]
     },
     "execution_count": 283,
     "metadata": {},
     "output_type": "execute_result"
    }
   ],
   "source": [
    "df.head()"
   ]
  },
  {
   "cell_type": "markdown",
   "metadata": {},
   "source": [
    "### Bedtools intersect to get gene information: \n",
    "First I need to get my files as beds"
   ]
  },
  {
   "cell_type": "code",
   "execution_count": 284,
   "metadata": {
    "collapsed": true
   },
   "outputs": [],
   "source": [
    "import pybedtools\n",
    "from pybedtools import BedTool\n",
    "from pybedtools.featurefuncs import gff2bed"
   ]
  },
  {
   "cell_type": "code",
   "execution_count": 285,
   "metadata": {},
   "outputs": [],
   "source": [
    "genes = BedTool('../../data/dmel-all-r6.12.gene_only.chr.gff')"
   ]
  },
  {
   "cell_type": "code",
   "execution_count": 286,
   "metadata": {
    "scrolled": true
   },
   "outputs": [],
   "source": [
    "genes_bed = genes.each(gff2bed, name_field='ID').saveas()"
   ]
  },
  {
   "cell_type": "markdown",
   "metadata": {},
   "source": [
    "Fix gff files with issues: (thanks modENCODE) "
   ]
  },
  {
   "cell_type": "code",
   "execution_count": 287,
   "metadata": {
    "collapsed": true
   },
   "outputs": [],
   "source": [
    "moden895=pd.read_table('../../data/modENCODE_downloads/modENCODE_895.gff', header=None)\n",
    "moden895[5] = '.'\n",
    "moden895[6] = '.'\n",
    "moden895.to_csv('../../data/modENCODE_downloads/modENCODE_895.gff', sep='\\t', header=None, index=False)"
   ]
  },
  {
   "cell_type": "code",
   "execution_count": 288,
   "metadata": {},
   "outputs": [],
   "source": [
    "#problem file 5070: \n",
    "peak = pd.read_table('../../data/modENCODE_downloads/modENCODE_5070.gff', header=None)\n",
    "peak[4] = peak[4].astype(int)\n",
    "peak[3] = peak[3].astype(int) \n",
    "peak.to_csv('../../data/modENCODE_downloads/modENCODE_5070.gff', sep='\\t', header=None, index=False)"
   ]
  },
  {
   "cell_type": "code",
   "execution_count": 289,
   "metadata": {
    "collapsed": true
   },
   "outputs": [],
   "source": [
    "#problem file 5084: \n",
    "peak = pd.read_table('../../data/modENCODE_downloads/modENCODE_5084.gff', header=None)\n",
    "peak[4] = peak[4].astype(int)\n",
    "peak[3] = peak[3].astype(int) \n",
    "peak.to_csv('../../data/modENCODE_downloads/modENCODE_5084.gff', sep='\\t', header=None, index=False)"
   ]
  },
  {
   "cell_type": "code",
   "execution_count": 290,
   "metadata": {
    "collapsed": true
   },
   "outputs": [],
   "source": [
    "#problem file 5583: \n",
    "peak = pd.read_table('../../data/modENCODE_downloads/modENCODE_5583.gff', header=None)\n",
    "peak[4] = peak[4].astype(int)\n",
    "peak[3] = peak[3].astype(int) \n",
    "peak.to_csv('../../data/modENCODE_downloads/modENCODE_5583.gff', sep='\\t', header=None, index=False)"
   ]
  },
  {
   "cell_type": "markdown",
   "metadata": {},
   "source": [
    "**** NOTE!! ****\n",
    "\n",
    "This file is truncated... I manually deleted the last line to get this to work: "
   ]
  },
  {
   "cell_type": "code",
   "execution_count": 291,
   "metadata": {},
   "outputs": [],
   "source": [
    "#problem file 844: \n",
    "peak = pd.read_table('../../data/modENCODE_downloads/modENCODE_844.gff', header=None)\n",
    "peak[4] = peak[4].astype(int)\n",
    "peak[3] = peak[3].astype(int) \n",
    "peak.to_csv('../../data/modENCODE_downloads/modENCODE_844.gff', sep='\\t', header=None, index=False)"
   ]
  },
  {
   "cell_type": "markdown",
   "metadata": {},
   "source": [
    "Then I can iterate over the gffs to get bed files: "
   ]
  },
  {
   "cell_type": "code",
   "execution_count": 293,
   "metadata": {},
   "outputs": [],
   "source": [
    "#iterate over modENCODE_downloads files to get beds for liftover\n",
    "PATH = '../../data/modENCODE_downloads/'\n",
    "concat = []\n",
    "for fname in glob.glob('../../data/modENCODE_downloads/modENCODE_*.gff'): \n",
    "    peaks = BedTool(fname)\n",
    "    peaks_bed = peaks.remove_invalid().each(gff2bed).saveas(PATH+os.path.splitext(os.path.basename(fname))[0]+'.bed')   "
   ]
  },
  {
   "cell_type": "markdown",
   "metadata": {},
   "source": [
    "After I do gff2bed I do a liftover using script my_liftover"
   ]
  },
  {
   "cell_type": "code",
   "execution_count": 247,
   "metadata": {},
   "outputs": [],
   "source": [
    "#need to figure out intersect step now that I have liftover files \n",
    "#think it might be easier to save giant bed file and do the intersect on that\n",
    "#instead of in a loop? "
   ]
  },
  {
   "cell_type": "markdown",
   "metadata": {},
   "source": [
    "Here I read in all my bed files as dataframes and concat them all so that I can figure out some stats about the dataset: "
   ]
  },
  {
   "cell_type": "code",
   "execution_count": 310,
   "metadata": {},
   "outputs": [
    {
     "name": "stdout",
     "output_type": "stream",
     "text": [
      "../../data/modENCODE_downloads/modENCODE_3807.liftover\n",
      "../../data/modENCODE_downloads/modENCODE_3809.liftover\n",
      "../../data/modENCODE_downloads/modENCODE_3810.liftover\n"
     ]
    }
   ],
   "source": [
    "concat = []\n",
    "for fname in glob.glob('../../data/modENCODE_downloads/modENCODE_*.liftover'):\n",
    "    if os.path.getsize(fname) > 0 :\n",
    "        df = pd.read_table(fname, header=None)\n",
    "        concat.append(df)\n",
    "    else:\n",
    "        print(fname)"
   ]
  },
  {
   "cell_type": "code",
   "execution_count": 309,
   "metadata": {},
   "outputs": [
    {
     "data": {
      "text/html": [
       "<div>\n",
       "<style>\n",
       "    .dataframe thead tr:only-child th {\n",
       "        text-align: right;\n",
       "    }\n",
       "\n",
       "    .dataframe thead th {\n",
       "        text-align: left;\n",
       "    }\n",
       "\n",
       "    .dataframe tbody tr th {\n",
       "        vertical-align: top;\n",
       "    }\n",
       "</style>\n",
       "<table border=\"1\" class=\"dataframe\">\n",
       "  <thead>\n",
       "    <tr style=\"text-align: right;\">\n",
       "      <th></th>\n",
       "      <th>0</th>\n",
       "      <th>1</th>\n",
       "      <th>2</th>\n",
       "      <th>3</th>\n",
       "      <th>4</th>\n",
       "      <th>5</th>\n",
       "    </tr>\n",
       "  </thead>\n",
       "  <tbody>\n",
       "    <tr>\n",
       "      <th>0</th>\n",
       "      <td>chr2L</td>\n",
       "      <td>5596</td>\n",
       "      <td>5988</td>\n",
       "      <td>modENCODE_2625</td>\n",
       "      <td>.</td>\n",
       "      <td>.</td>\n",
       "    </tr>\n",
       "    <tr>\n",
       "      <th>1</th>\n",
       "      <td>chr2L</td>\n",
       "      <td>94554</td>\n",
       "      <td>95483</td>\n",
       "      <td>modENCODE_2625</td>\n",
       "      <td>.</td>\n",
       "      <td>.</td>\n",
       "    </tr>\n",
       "    <tr>\n",
       "      <th>2</th>\n",
       "      <td>chr2L</td>\n",
       "      <td>131539</td>\n",
       "      <td>132445</td>\n",
       "      <td>modENCODE_2625</td>\n",
       "      <td>.</td>\n",
       "      <td>.</td>\n",
       "    </tr>\n",
       "    <tr>\n",
       "      <th>3</th>\n",
       "      <td>chr2L</td>\n",
       "      <td>158233</td>\n",
       "      <td>159613</td>\n",
       "      <td>modENCODE_2625</td>\n",
       "      <td>.</td>\n",
       "      <td>.</td>\n",
       "    </tr>\n",
       "    <tr>\n",
       "      <th>4</th>\n",
       "      <td>chr2L</td>\n",
       "      <td>160302</td>\n",
       "      <td>162520</td>\n",
       "      <td>modENCODE_2625</td>\n",
       "      <td>.</td>\n",
       "      <td>.</td>\n",
       "    </tr>\n",
       "  </tbody>\n",
       "</table>\n",
       "</div>"
      ],
      "text/plain": [
       "       0       1       2               3  4  5\n",
       "0  chr2L    5596    5988  modENCODE_2625  .  .\n",
       "1  chr2L   94554   95483  modENCODE_2625  .  .\n",
       "2  chr2L  131539  132445  modENCODE_2625  .  .\n",
       "3  chr2L  158233  159613  modENCODE_2625  .  .\n",
       "4  chr2L  160302  162520  modENCODE_2625  .  ."
      ]
     },
     "execution_count": 309,
     "metadata": {},
     "output_type": "execute_result"
    }
   ],
   "source": [
    "bigdf = pd.concat(concat)\n",
    "#save this matrix of bed files\n",
    "bigdf.to_csv('../../data/modENCODE_downloads/modENCODE_allliftovers', sep='\\t', header=None, index=False)\n",
    "bigdf.head()"
   ]
  },
  {
   "cell_type": "code",
   "execution_count": 381,
   "metadata": {
    "collapsed": true
   },
   "outputs": [],
   "source": [
    "bigdf.columns = ['chrom','start','end','id','blank1','blank2']"
   ]
  },
  {
   "cell_type": "code",
   "execution_count": 382,
   "metadata": {},
   "outputs": [
    {
     "data": {
      "text/plain": [
       "83"
      ]
     },
     "execution_count": 382,
     "metadata": {},
     "output_type": "execute_result"
    }
   ],
   "source": [
    "len(bigdf['id'].unique())"
   ]
  },
  {
   "cell_type": "code",
   "execution_count": 298,
   "metadata": {},
   "outputs": [],
   "source": [
    "cnts = bigdf.groupby(['id']).agg({'start': 'count'})"
   ]
  },
  {
   "cell_type": "code",
   "execution_count": 299,
   "metadata": {},
   "outputs": [
    {
     "data": {
      "text/plain": [
       "count       86.000000\n",
       "mean      7212.476744\n",
       "std       5451.545026\n",
       "min          1.000000\n",
       "25%       3232.750000\n",
       "50%       6102.500000\n",
       "75%       9329.750000\n",
       "max      23332.000000\n",
       "Name: start, dtype: float64"
      ]
     },
     "execution_count": 299,
     "metadata": {},
     "output_type": "execute_result"
    }
   ],
   "source": [
    "cnts.start.describe()"
   ]
  },
  {
   "cell_type": "code",
   "execution_count": 300,
   "metadata": {},
   "outputs": [],
   "source": [
    "intergenicdf = pd.read_table('../../data/dmel-all-r6.12.chr.intergenic.bed', header=None, names=['chrom','start','end'])"
   ]
  },
  {
   "cell_type": "code",
   "execution_count": 301,
   "metadata": {},
   "outputs": [],
   "source": [
    "intergenicdf['length'] = (intergenicdf['end'] - intergenicdf['start'])"
   ]
  },
  {
   "cell_type": "code",
   "execution_count": 302,
   "metadata": {},
   "outputs": [
    {
     "data": {
      "text/plain": [
       "count     12891.000000\n",
       "mean       3534.168722\n",
       "std       15765.843317\n",
       "min           0.000000\n",
       "25%         201.000000\n",
       "50%         521.000000\n",
       "75%        2024.000000\n",
       "max      710734.000000\n",
       "Name: length, dtype: float64"
      ]
     },
     "execution_count": 302,
     "metadata": {},
     "output_type": "execute_result"
    }
   ],
   "source": [
    "intergenicdf.length.describe()"
   ]
  },
  {
   "cell_type": "markdown",
   "metadata": {},
   "source": [
    "Now the intersect: "
   ]
  },
  {
   "cell_type": "code",
   "execution_count": 312,
   "metadata": {},
   "outputs": [],
   "source": [
    "#one giant bed intersect using big file \"modENCODE_allliftovers\" \n",
    "with open('../../data/modENCODE_downloads/modENCODE_allliftovers') as f: \n",
    "    peaks_bed = BedTool(f)\n",
    "    intersect = genes_bed.intersect(peaks_bed, u=True).saveas()\n",
    "    intdf = intersect.to_dataframe()"
   ]
  },
  {
   "cell_type": "code",
   "execution_count": 315,
   "metadata": {},
   "outputs": [
    {
     "data": {
      "text/plain": [
       "14431"
      ]
     },
     "execution_count": 315,
     "metadata": {},
     "output_type": "execute_result"
    }
   ],
   "source": [
    "len(intdf.name.unique())"
   ]
  },
  {
   "cell_type": "code",
   "execution_count": 412,
   "metadata": {},
   "outputs": [
    {
     "data": {
      "text/html": [
       "<div>\n",
       "<style>\n",
       "    .dataframe thead tr:only-child th {\n",
       "        text-align: right;\n",
       "    }\n",
       "\n",
       "    .dataframe thead th {\n",
       "        text-align: left;\n",
       "    }\n",
       "\n",
       "    .dataframe tbody tr th {\n",
       "        vertical-align: top;\n",
       "    }\n",
       "</style>\n",
       "<table border=\"1\" class=\"dataframe\">\n",
       "  <thead>\n",
       "    <tr style=\"text-align: right;\">\n",
       "      <th></th>\n",
       "      <th>chrom</th>\n",
       "      <th>start</th>\n",
       "      <th>end</th>\n",
       "      <th>name</th>\n",
       "      <th>score</th>\n",
       "      <th>strand</th>\n",
       "    </tr>\n",
       "  </thead>\n",
       "  <tbody>\n",
       "    <tr>\n",
       "      <th>0</th>\n",
       "      <td>chr2L</td>\n",
       "      <td>7528</td>\n",
       "      <td>9484</td>\n",
       "      <td>FBgn0031208</td>\n",
       "      <td>.</td>\n",
       "      <td>+</td>\n",
       "    </tr>\n",
       "    <tr>\n",
       "      <th>1</th>\n",
       "      <td>chr2L</td>\n",
       "      <td>9838</td>\n",
       "      <td>21376</td>\n",
       "      <td>FBgn0002121</td>\n",
       "      <td>.</td>\n",
       "      <td>-</td>\n",
       "    </tr>\n",
       "    <tr>\n",
       "      <th>2</th>\n",
       "      <td>chr2L</td>\n",
       "      <td>21822</td>\n",
       "      <td>25155</td>\n",
       "      <td>FBgn0031209</td>\n",
       "      <td>.</td>\n",
       "      <td>-</td>\n",
       "    </tr>\n",
       "    <tr>\n",
       "      <th>3</th>\n",
       "      <td>chr2L</td>\n",
       "      <td>21951</td>\n",
       "      <td>24237</td>\n",
       "      <td>FBgn0263584</td>\n",
       "      <td>.</td>\n",
       "      <td>+</td>\n",
       "    </tr>\n",
       "    <tr>\n",
       "      <th>4</th>\n",
       "      <td>chr2L</td>\n",
       "      <td>25401</td>\n",
       "      <td>65404</td>\n",
       "      <td>FBgn0051973</td>\n",
       "      <td>.</td>\n",
       "      <td>-</td>\n",
       "    </tr>\n",
       "  </tbody>\n",
       "</table>\n",
       "</div>"
      ],
      "text/plain": [
       "   chrom  start    end         name score strand\n",
       "0  chr2L   7528   9484  FBgn0031208     .      +\n",
       "1  chr2L   9838  21376  FBgn0002121     .      -\n",
       "2  chr2L  21822  25155  FBgn0031209     .      -\n",
       "3  chr2L  21951  24237  FBgn0263584     .      +\n",
       "4  chr2L  25401  65404  FBgn0051973     .      -"
      ]
     },
     "execution_count": 412,
     "metadata": {},
     "output_type": "execute_result"
    }
   ],
   "source": [
    "intdf.head()"
   ]
  },
  {
   "cell_type": "markdown",
   "metadata": {},
   "source": [
    "Also need an intersect  with the happy dataframe (which is the white lab data):"
   ]
  },
  {
   "cell_type": "code",
   "execution_count": 407,
   "metadata": {
    "scrolled": true
   },
   "outputs": [],
   "source": [
    "happy.to_csv('../../data/modENCODE_downloads/modENCODE_whitelab', sep='\\t', header=None, index=False)"
   ]
  },
  {
   "cell_type": "code",
   "execution_count": 409,
   "metadata": {
    "collapsed": true
   },
   "outputs": [],
   "source": [
    "happypeaks = BedTool('../../data/modENCODE_downloads/modENCODE_whitelab')\n",
    "#lose a lot of information during gff2bed step... \n",
    "happypeaks_bed = peaks.remove_invalid().each(gff2bed).saveas('../../data/modENCODE_downloads/modENCODE_whitelab.bed')"
   ]
  },
  {
   "cell_type": "code",
   "execution_count": 418,
   "metadata": {
    "collapsed": true
   },
   "outputs": [],
   "source": [
    "with open('../../data/modENCODE_downloads/modENCODE_whitelab.liftover') as f: \n",
    "    peaks_bed = BedTool(f)\n",
    "    intersect = genes_bed.intersect(peaks_bed, u=True, wb=True).saveas()\n",
    "    white = intersect.to_dataframe()"
   ]
  },
  {
   "cell_type": "code",
   "execution_count": 419,
   "metadata": {},
   "outputs": [
    {
     "data": {
      "text/html": [
       "<div>\n",
       "<style>\n",
       "    .dataframe thead tr:only-child th {\n",
       "        text-align: right;\n",
       "    }\n",
       "\n",
       "    .dataframe thead th {\n",
       "        text-align: left;\n",
       "    }\n",
       "\n",
       "    .dataframe tbody tr th {\n",
       "        vertical-align: top;\n",
       "    }\n",
       "</style>\n",
       "<table border=\"1\" class=\"dataframe\">\n",
       "  <thead>\n",
       "    <tr style=\"text-align: right;\">\n",
       "      <th></th>\n",
       "      <th>chrom</th>\n",
       "      <th>start</th>\n",
       "      <th>end</th>\n",
       "      <th>name</th>\n",
       "      <th>score</th>\n",
       "      <th>strand</th>\n",
       "    </tr>\n",
       "  </thead>\n",
       "  <tbody>\n",
       "    <tr>\n",
       "      <th>0</th>\n",
       "      <td>chr2L</td>\n",
       "      <td>305934</td>\n",
       "      <td>355566</td>\n",
       "      <td>FBgn0004611</td>\n",
       "      <td>.</td>\n",
       "      <td>+</td>\n",
       "    </tr>\n",
       "    <tr>\n",
       "      <th>1</th>\n",
       "      <td>chr2L</td>\n",
       "      <td>318361</td>\n",
       "      <td>319259</td>\n",
       "      <td>FBgn0031248</td>\n",
       "      <td>.</td>\n",
       "      <td>-</td>\n",
       "    </tr>\n",
       "    <tr>\n",
       "      <th>2</th>\n",
       "      <td>chr2L</td>\n",
       "      <td>320278</td>\n",
       "      <td>321248</td>\n",
       "      <td>FBgn0031249</td>\n",
       "      <td>.</td>\n",
       "      <td>-</td>\n",
       "    </tr>\n",
       "    <tr>\n",
       "      <th>3</th>\n",
       "      <td>chr2L</td>\n",
       "      <td>322100</td>\n",
       "      <td>323091</td>\n",
       "      <td>FBgn0053127</td>\n",
       "      <td>.</td>\n",
       "      <td>+</td>\n",
       "    </tr>\n",
       "    <tr>\n",
       "      <th>4</th>\n",
       "      <td>chr2L</td>\n",
       "      <td>325521</td>\n",
       "      <td>329761</td>\n",
       "      <td>FBgn0264086</td>\n",
       "      <td>.</td>\n",
       "      <td>-</td>\n",
       "    </tr>\n",
       "  </tbody>\n",
       "</table>\n",
       "</div>"
      ],
      "text/plain": [
       "   chrom   start     end         name score strand\n",
       "0  chr2L  305934  355566  FBgn0004611     .      +\n",
       "1  chr2L  318361  319259  FBgn0031248     .      -\n",
       "2  chr2L  320278  321248  FBgn0031249     .      -\n",
       "3  chr2L  322100  323091  FBgn0053127     .      +\n",
       "4  chr2L  325521  329761  FBgn0264086     .      -"
      ]
     },
     "execution_count": 419,
     "metadata": {},
     "output_type": "execute_result"
    }
   ],
   "source": [
    "white.head()"
   ]
  },
  {
   "cell_type": "code",
   "execution_count": 416,
   "metadata": {},
   "outputs": [],
   "source": [
    "allintersects = pd.concat([white, intdf])"
   ]
  },
  {
   "cell_type": "code",
   "execution_count": 422,
   "metadata": {},
   "outputs": [
    {
     "data": {
      "text/plain": [
       "(14431, 6)"
      ]
     },
     "execution_count": 422,
     "metadata": {},
     "output_type": "execute_result"
    }
   ],
   "source": [
    "allintersects.drop_duplicates().shape"
   ]
  },
  {
   "cell_type": "code",
   "execution_count": 421,
   "metadata": {},
   "outputs": [
    {
     "data": {
      "text/plain": [
       "(14431, 6)"
      ]
     },
     "execution_count": 421,
     "metadata": {},
     "output_type": "execute_result"
    }
   ],
   "source": [
    "intdf.shape"
   ]
  },
  {
   "cell_type": "code",
   "execution_count": null,
   "metadata": {
    "collapsed": true
   },
   "outputs": [],
   "source": [
    "#Can merge back on start/end to get information lost... should probably do that before\n",
    "#concat. Although maybe not if super redundant? "
   ]
  }
 ],
 "metadata": {
  "kernelspec": {
   "display_name": "Python 3",
   "language": "python",
   "name": "python3"
  },
  "language_info": {
   "codemirror_mode": {
    "name": "ipython",
    "version": 3
   },
   "file_extension": ".py",
   "mimetype": "text/x-python",
   "name": "python",
   "nbconvert_exporter": "python",
   "pygments_lexer": "ipython3",
   "version": "3.5.4"
  }
 },
 "nbformat": 4,
 "nbformat_minor": 2
}
