{
 "cells": [
  {
   "cell_type": "markdown",
   "metadata": {},
   "source": [
    "## updated chip seq notebook: \n",
    "- All of the datasets downloaded in previous notebook lacked information\n",
    "- I think that the excel files have information I need, which means I need to redo all of the work from the other notebook with downloaded excel files as pandas dataframes\n",
    "- 166 chipseq d. mel datasets from modENCODE\n",
    "- Only downloading 159 of those because modMINE lacks information for the rest (see no_data list)"
   ]
  },
  {
   "cell_type": "code",
   "execution_count": 1,
   "metadata": {
    "collapsed": true
   },
   "outputs": [],
   "source": [
    "import pandas as pd\n",
    "import urllib\n",
    "import os\n",
    "from urllib.request import urlopen"
   ]
  },
  {
   "cell_type": "markdown",
   "metadata": {},
   "source": [
    "### Download from modENCODE: "
   ]
  },
  {
   "cell_type": "code",
   "execution_count": null,
   "metadata": {
    "collapsed": true
   },
   "outputs": [],
   "source": [
    "url = 'http://data.modencode.org/cgi-bin/cloud_list.pl?accessions=3393,3806,3825,3231,2625,2626,2637,3403,4078,3240,4080,5068,4082,4081,3959,5069,2638,2639,3395,3235,4974,5008,5070,5071,5072,5577,3229,3230,3402,3401,2640,2641,2642,3234,3236,3239,3241,3400,3398,4976,3824,3826,4089,3809,3238,3397,5028,3814,3245,3830,4119,4981,5257,3815,4982,3827,2629,2630,2635,2636,2633,2634,2627,2628,2631,2632,3391,3392,4091,3956,4936,5592,5111,5110,5590,5587,5112,5591,5264,5113,5593,4944,3390,5023,4998,4070,3242,5114,5575,5115,5594,3243,3394,3812,5004,5005,5116,5597,5574,5117,4094,5118,854,858,3233,862,863,856,849,857,855,985,859,860,861,5119,4074,4107,3957,3237,3813,3816,5120,5121,5598,4095,4096,3960,3808,4098,5576,5570,5579,5571,984,850,848,4352,5580,5569,5122,5123,5124,846,847,851,852,853,5125,5126,5599,4099,4071,3232,5568,5014,4103,5017,4069,4104,3958,4716,4105,4943,5127,5606,3396,5128,5024,5025,3399,4114,4113,3823,5029,5129&urls=1'\n",
    "#protein=',3954,4351,2755,3253,2753,2979,2754,3625,2783,3247,3251,4193'\n",
    "page = urlopen(url).read().decode('utf-8')\n",
    "page = page.split('\\n')\n",
    "\n",
    "modid_list = []\n",
    "for line in page:\n",
    "    if not line.startswith('#'):\n",
    "        modid = str(line.split()[0]) #gives an error but still works? \n",
    "        modid_list.append(modid)"
   ]
  },
  {
   "cell_type": "code",
   "execution_count": null,
   "metadata": {
    "collapsed": true
   },
   "outputs": [],
   "source": [
    "len(set(modid_list))"
   ]
  },
  {
   "cell_type": "code",
   "execution_count": null,
   "metadata": {
    "collapsed": true
   },
   "outputs": [],
   "source": [
    "#define 18? ids that modmine has no data for (unknown reasons...)\n",
    "no_data = ['2635', '2625', '2637', '2631', '3806', '2632', '3827', '3826', '3235', '3236', '3823', '3824', '3825', '2640', '3231', '3397', '3233', '2628'] "
   ]
  },
  {
   "cell_type": "code",
   "execution_count": null,
   "metadata": {
    "code_folding": [],
    "collapsed": true
   },
   "outputs": [],
   "source": [
    "#Note: Modmine sometimes goes down unexpectedly\n",
    "PATH = '../../data/chip/modENCODE_downloads/'\n",
    "DWNLD1 = 'http://intermine.modencode.org/release-33/features.do?type=submission&action=export&format=csv&submission=modENCODE_'\n",
    "DWNLD2 = '&feature=BindingSite'\n",
    "os.makedirs(PATH, exist_ok=True)\n",
    "\n",
    "done = []\n",
    "for name in modid_list: \n",
    "    if name not in no_data: \n",
    "        if name not in done: \n",
    "            #try:\n",
    "            urllib.request.urlretrieve(DWNLD1+name+DWNLD2, PATH+name) \n",
    "            done.append(name)\n",
    "            #except:\n",
    "                #urllib.request.urlretrieve(DWNLD1+name+'&feature=ProteinBindingSite', PATH+name) \n",
    "                #done.append(name)"
   ]
  },
  {
   "cell_type": "markdown",
   "metadata": {},
   "source": [
    "After the download:\n",
    "- combine files to make one big file\n",
    "- get as bed file\n",
    "- do liftover\n",
    "- intersect w gene bed file (one idea: if it's too hard to get these as beds, could use data from before and merge on location) \n",
    "- clean up table\n",
    "- phantom peak overlap? "
   ]
  },
  {
   "cell_type": "code",
   "execution_count": null,
   "metadata": {
    "collapsed": true
   },
   "outputs": [],
   "source": [
    "#combine files into one: \n",
    "concat=[]\n",
    "import glob\n",
    "for fname in glob.glob('../../data/modENCODE_downloads_2ndtry/[0-9]*'):\n",
    "    name = os.path.splitext(os.path.basename(fname))[0]\n",
    "    if name not in no_data:\n",
    "        df = pd.read_csv(fname)\n",
    "        #df.astype(int)\n",
    "        #df[2]\n",
    "        concat.append(df)     "
   ]
  },
  {
   "cell_type": "code",
   "execution_count": null,
   "metadata": {
    "collapsed": true
   },
   "outputs": [],
   "source": [
    "big = pd.concat(concat)\n",
    "big.to_csv('../../data/modENCODE_downloads_2ndtry/modENCODE_big', sep='\\t', na_rep=':.', header=None, index=False)"
   ]
  },
  {
   "cell_type": "markdown",
   "metadata": {},
   "source": [
    "### Cleanup of big table to prep for snakemake steps: \n",
    "\n",
    "- trying to keep everything in the same structure from now on"
   ]
  },
  {
   "cell_type": "code",
   "execution_count": 48,
   "metadata": {},
   "outputs": [
    {
     "name": "stderr",
     "output_type": "stream",
     "text": [
      "/Users/bergeric/miniconda3/lib/python3.5/site-packages/IPython/core/interactiveshell.py:2698: DtypeWarning: Columns (1) have mixed types. Specify dtype option on import or set low_memory=False.\n",
      "  interactivity=interactivity, compiler=compiler, result=result)\n"
     ]
    }
   ],
   "source": [
    "big = pd.read_table('../../output/chip/modENCODE_downloads_2ndtry/modENCODE_big', header=None)"
   ]
  },
  {
   "cell_type": "code",
   "execution_count": 49,
   "metadata": {
    "collapsed": true
   },
   "outputs": [],
   "source": [
    "#make new id column (set to name/4th column)\n",
    "#make this a bed and add chr to chromosome \n",
    "big.columns = ['DB_id','score','chrom','start','end','strand','modENCODE_id','type','name']"
   ]
  },
  {
   "cell_type": "code",
   "execution_count": 50,
   "metadata": {
    "collapsed": true
   },
   "outputs": [],
   "source": [
    "big['id'] = ['id='+str(x) for x in range(0, len(big.score))]"
   ]
  },
  {
   "cell_type": "code",
   "execution_count": 51,
   "metadata": {
    "collapsed": true
   },
   "outputs": [],
   "source": [
    "big['chrom'] = ['chr'+x for x in big['chrom']]"
   ]
  },
  {
   "cell_type": "code",
   "execution_count": 52,
   "metadata": {
    "collapsed": true
   },
   "outputs": [],
   "source": [
    "bigbed = big[['chrom','start','end','id','score','strand','modENCODE_id','type','name','DB_id']]"
   ]
  },
  {
   "cell_type": "code",
   "execution_count": 53,
   "metadata": {
    "collapsed": true
   },
   "outputs": [],
   "source": [
    "bigbed.loc[bigbed.score == ':.', 'score'] = '.'"
   ]
  },
  {
   "cell_type": "code",
   "execution_count": 55,
   "metadata": {
    "collapsed": true
   },
   "outputs": [],
   "source": [
    "#another = another.fillna('.')\n",
    "happy = bigbed.set_index(\n",
    "    ['chrom','start','end','id','score','strand','modENCODE_id','type','DB_id']).pivot_table(\n",
    "        columns='type', index=['chrom','start','end','id','score','strand','modENCODE_id','DB_id'], \n",
    "        values='name',aggfunc='first')\n",
    "happy = happy.reset_index()"
   ]
  },
  {
   "cell_type": "code",
   "execution_count": 58,
   "metadata": {},
   "outputs": [
    {
     "data": {
      "text/html": [
       "<div>\n",
       "<style>\n",
       "    .dataframe thead tr:only-child th {\n",
       "        text-align: right;\n",
       "    }\n",
       "\n",
       "    .dataframe thead th {\n",
       "        text-align: left;\n",
       "    }\n",
       "\n",
       "    .dataframe tbody tr th {\n",
       "        vertical-align: top;\n",
       "    }\n",
       "</style>\n",
       "<table border=\"1\" class=\"dataframe\">\n",
       "  <thead>\n",
       "    <tr style=\"text-align: right;\">\n",
       "      <th>type</th>\n",
       "      <th>chrom</th>\n",
       "      <th>start</th>\n",
       "      <th>end</th>\n",
       "      <th>id</th>\n",
       "      <th>score</th>\n",
       "      <th>strand</th>\n",
       "      <th>modENCODE_id</th>\n",
       "      <th>DB_id</th>\n",
       "      <th>antibody</th>\n",
       "      <th>cell line</th>\n",
       "      <th>developmental stage</th>\n",
       "      <th>strain</th>\n",
       "      <th>target gene</th>\n",
       "      <th>threshold</th>\n",
       "      <th>tissue</th>\n",
       "    </tr>\n",
       "  </thead>\n",
       "  <tbody>\n",
       "    <tr>\n",
       "      <th>0</th>\n",
       "      <td>chr2L</td>\n",
       "      <td>16</td>\n",
       "      <td>6825</td>\n",
       "      <td>id=307512</td>\n",
       "      <td>1.80011</td>\n",
       "      <td>0</td>\n",
       "      <td>modENCODE_3956</td>\n",
       "      <td>Solexa_HP1_wa191_14_16_hr_OR_embryo.gff_ID015267</td>\n",
       "      <td>None</td>\n",
       "      <td>None</td>\n",
       "      <td>None</td>\n",
       "      <td>Oregon-R-modENCODE</td>\n",
       "      <td>None</td>\n",
       "      <td>None</td>\n",
       "      <td>None</td>\n",
       "    </tr>\n",
       "    <tr>\n",
       "      <th>1</th>\n",
       "      <td>chr2L</td>\n",
       "      <td>16</td>\n",
       "      <td>6825</td>\n",
       "      <td>id=307513</td>\n",
       "      <td>1.80011</td>\n",
       "      <td>0</td>\n",
       "      <td>modENCODE_3956</td>\n",
       "      <td>Solexa_HP1_wa191_14_16_hr_OR_embryo.gff_ID015267</td>\n",
       "      <td>None</td>\n",
       "      <td>None</td>\n",
       "      <td>Embryo 14-16hr OR</td>\n",
       "      <td>None</td>\n",
       "      <td>None</td>\n",
       "      <td>None</td>\n",
       "      <td>None</td>\n",
       "    </tr>\n",
       "    <tr>\n",
       "      <th>2</th>\n",
       "      <td>chr2L</td>\n",
       "      <td>16</td>\n",
       "      <td>6825</td>\n",
       "      <td>id=307514</td>\n",
       "      <td>1.80011</td>\n",
       "      <td>0</td>\n",
       "      <td>modENCODE_3956</td>\n",
       "      <td>Solexa_HP1_wa191_14_16_hr_OR_embryo.gff_ID015267</td>\n",
       "      <td>HP1 wa191</td>\n",
       "      <td>None</td>\n",
       "      <td>None</td>\n",
       "      <td>None</td>\n",
       "      <td>None</td>\n",
       "      <td>None</td>\n",
       "      <td>None</td>\n",
       "    </tr>\n",
       "    <tr>\n",
       "      <th>3</th>\n",
       "      <td>chr2L</td>\n",
       "      <td>19</td>\n",
       "      <td>6870</td>\n",
       "      <td>id=307515</td>\n",
       "      <td>1.85852</td>\n",
       "      <td>0</td>\n",
       "      <td>modENCODE_3956</td>\n",
       "      <td>Solexa_HP1_wa191_14_16_hr_OR_embryo.enriched_r...</td>\n",
       "      <td>None</td>\n",
       "      <td>None</td>\n",
       "      <td>None</td>\n",
       "      <td>Oregon-R-modENCODE</td>\n",
       "      <td>None</td>\n",
       "      <td>None</td>\n",
       "      <td>None</td>\n",
       "    </tr>\n",
       "    <tr>\n",
       "      <th>4</th>\n",
       "      <td>chr2L</td>\n",
       "      <td>19</td>\n",
       "      <td>6870</td>\n",
       "      <td>id=307516</td>\n",
       "      <td>1.85852</td>\n",
       "      <td>0</td>\n",
       "      <td>modENCODE_3956</td>\n",
       "      <td>Solexa_HP1_wa191_14_16_hr_OR_embryo.enriched_r...</td>\n",
       "      <td>None</td>\n",
       "      <td>None</td>\n",
       "      <td>Embryo 14-16hr OR</td>\n",
       "      <td>None</td>\n",
       "      <td>None</td>\n",
       "      <td>None</td>\n",
       "      <td>None</td>\n",
       "    </tr>\n",
       "  </tbody>\n",
       "</table>\n",
       "</div>"
      ],
      "text/plain": [
       "type  chrom  start   end         id    score  strand    modENCODE_id  \\\n",
       "0     chr2L     16  6825  id=307512  1.80011       0  modENCODE_3956   \n",
       "1     chr2L     16  6825  id=307513  1.80011       0  modENCODE_3956   \n",
       "2     chr2L     16  6825  id=307514  1.80011       0  modENCODE_3956   \n",
       "3     chr2L     19  6870  id=307515  1.85852       0  modENCODE_3956   \n",
       "4     chr2L     19  6870  id=307516  1.85852       0  modENCODE_3956   \n",
       "\n",
       "type                                              DB_id   antibody cell line  \\\n",
       "0      Solexa_HP1_wa191_14_16_hr_OR_embryo.gff_ID015267       None      None   \n",
       "1      Solexa_HP1_wa191_14_16_hr_OR_embryo.gff_ID015267       None      None   \n",
       "2      Solexa_HP1_wa191_14_16_hr_OR_embryo.gff_ID015267  HP1 wa191      None   \n",
       "3     Solexa_HP1_wa191_14_16_hr_OR_embryo.enriched_r...       None      None   \n",
       "4     Solexa_HP1_wa191_14_16_hr_OR_embryo.enriched_r...       None      None   \n",
       "\n",
       "type developmental stage              strain target gene threshold tissue  \n",
       "0                   None  Oregon-R-modENCODE        None      None   None  \n",
       "1      Embryo 14-16hr OR                None        None      None   None  \n",
       "2                   None                None        None      None   None  \n",
       "3                   None  Oregon-R-modENCODE        None      None   None  \n",
       "4      Embryo 14-16hr OR                None        None      None   None  "
      ]
     },
     "execution_count": 58,
     "metadata": {},
     "output_type": "execute_result"
    }
   ],
   "source": [
    "happy.head()"
   ]
  },
  {
   "cell_type": "code",
   "execution_count": 40,
   "metadata": {
    "collapsed": true
   },
   "outputs": [],
   "source": [
    "#parse before GFP from DB_id: \n",
    "hopefully_genes = []\n",
    "for item in bigbed.DB_id:\n",
    "    new = item.split('_GFP')[0]\n",
    "    new = new.split('.gff')[0]\n",
    "    new = new.split('.')[0]\n",
    "    hopefully_genes.append(new)"
   ]
  },
  {
   "cell_type": "code",
   "execution_count": 41,
   "metadata": {},
   "outputs": [
    {
     "data": {
      "text/plain": [
       "148"
      ]
     },
     "execution_count": 41,
     "metadata": {},
     "output_type": "execute_result"
    }
   ],
   "source": [
    "len(set(hopefully_genes))"
   ]
  },
  {
   "cell_type": "code",
   "execution_count": 42,
   "metadata": {
    "collapsed": true
   },
   "outputs": [],
   "source": [
    "# relates modENCODE_id to TF targeted: \n",
    "# The following two lines will be needed in every python script:\n",
    "from intermine.webservice import Service\n",
    "service = Service(\"http://intermine.modencode.org/release-33/service\")\n",
    "\n",
    "# Get a new query on the class (table) you will be querying:\n",
    "query = service.new_query(\"Submission\")\n",
    "\n",
    "# The view specifies the output columns\n",
    "query.add_view(\"DCCid\", \"assayFactor\")\n",
    "\n",
    "# Uncomment and edit the line below (the default) to select a custom sort order:\n",
    "# query.add_sort_order(\"Submission.DCCid\", \"ASC\")\n",
    "\n",
    "# You can edit the constraint values below\n",
    "query.add_constraint(\"experimentType\", \"=\", \"ChIP-seq\", code = \"A\")\n",
    "query.add_constraint(\"organism.commonName\", \"=\", \"fruit fly\", code = \"B\")\n",
    "#query.add_constraint(\"lab.name\", \"=\", \"Kevin White\", code = \"C\")\n",
    "\n",
    "# Uncomment and edit the code below to specify your own custom logic:\n",
    "# query.set_logic(\"A and B and C\")\n",
    "table = []\n",
    "for row in query.rows():\n",
    "    newline = [row[\"DCCid\"], row[\"assayFactor\"]]\n",
    "    table.append(newline)"
   ]
  },
  {
   "cell_type": "code",
   "execution_count": 62,
   "metadata": {},
   "outputs": [
    {
     "data": {
      "text/html": [
       "<div>\n",
       "<style>\n",
       "    .dataframe thead tr:only-child th {\n",
       "        text-align: right;\n",
       "    }\n",
       "\n",
       "    .dataframe thead th {\n",
       "        text-align: left;\n",
       "    }\n",
       "\n",
       "    .dataframe tbody tr th {\n",
       "        vertical-align: top;\n",
       "    }\n",
       "</style>\n",
       "<table border=\"1\" class=\"dataframe\">\n",
       "  <thead>\n",
       "    <tr style=\"text-align: right;\">\n",
       "      <th></th>\n",
       "      <th>modENCODE_id</th>\n",
       "      <th>SYMBOL</th>\n",
       "    </tr>\n",
       "  </thead>\n",
       "  <tbody>\n",
       "    <tr>\n",
       "      <th>0</th>\n",
       "      <td>modENCODE_2626</td>\n",
       "      <td>Caudal</td>\n",
       "    </tr>\n",
       "    <tr>\n",
       "      <th>1</th>\n",
       "      <td>modENCODE_2627</td>\n",
       "      <td>HDAC4a</td>\n",
       "    </tr>\n",
       "    <tr>\n",
       "      <th>2</th>\n",
       "      <td>modENCODE_2629</td>\n",
       "      <td>HDAC11</td>\n",
       "    </tr>\n",
       "    <tr>\n",
       "      <th>3</th>\n",
       "      <td>modENCODE_2630</td>\n",
       "      <td>HDAC11</td>\n",
       "    </tr>\n",
       "    <tr>\n",
       "      <th>4</th>\n",
       "      <td>modENCODE_2633</td>\n",
       "      <td>HDAC3</td>\n",
       "    </tr>\n",
       "  </tbody>\n",
       "</table>\n",
       "</div>"
      ],
      "text/plain": [
       "     modENCODE_id  SYMBOL\n",
       "0  modENCODE_2626  Caudal\n",
       "1  modENCODE_2627  HDAC4a\n",
       "2  modENCODE_2629  HDAC11\n",
       "3  modENCODE_2630  HDAC11\n",
       "4  modENCODE_2633   HDAC3"
      ]
     },
     "execution_count": 62,
     "metadata": {},
     "output_type": "execute_result"
    }
   ],
   "source": [
    "gene_map = pd.DataFrame(table)\n",
    "gene_map.columns = ['modENCODE_id','SYMBOL']\n",
    "gene_map.head()"
   ]
  },
  {
   "cell_type": "code",
   "execution_count": 73,
   "metadata": {
    "collapsed": true
   },
   "outputs": [],
   "source": [
    "withmap = happy.merge(gene_map, on='modENCODE_id', how='left')"
   ]
  },
  {
   "cell_type": "code",
   "execution_count": 74,
   "metadata": {
    "collapsed": true
   },
   "outputs": [],
   "source": [
    "#add column for motif_FBgn\n",
    "symbolmap = pd.read_table('/data/LCDB/lcdb-references/dmel/r6-11/gtf/dmel_r6-11.SYMBOL.csv', sep=',') \n",
    "addfbgn = withmap.merge(symbolmap, on='SYMBOL', how='left')\n",
    "addfbgn = addfbgn.rename(columns={'ENSEMBL': 'TF_FBgn'})"
   ]
  },
  {
   "cell_type": "code",
   "execution_count": 75,
   "metadata": {
    "collapsed": true
   },
   "outputs": [],
   "source": [
    "addfbgn = addfbgn.rename(columns={'SYMBOL': 'TF'})"
   ]
  },
  {
   "cell_type": "code",
   "execution_count": 76,
   "metadata": {},
   "outputs": [
    {
     "data": {
      "text/html": [
       "<div>\n",
       "<style>\n",
       "    .dataframe thead tr:only-child th {\n",
       "        text-align: right;\n",
       "    }\n",
       "\n",
       "    .dataframe thead th {\n",
       "        text-align: left;\n",
       "    }\n",
       "\n",
       "    .dataframe tbody tr th {\n",
       "        vertical-align: top;\n",
       "    }\n",
       "</style>\n",
       "<table border=\"1\" class=\"dataframe\">\n",
       "  <thead>\n",
       "    <tr style=\"text-align: right;\">\n",
       "      <th></th>\n",
       "      <th>chrom</th>\n",
       "      <th>start</th>\n",
       "      <th>end</th>\n",
       "      <th>id</th>\n",
       "      <th>score</th>\n",
       "      <th>strand</th>\n",
       "      <th>modENCODE_id</th>\n",
       "      <th>DB_id</th>\n",
       "      <th>antibody</th>\n",
       "      <th>cell line</th>\n",
       "      <th>developmental stage</th>\n",
       "      <th>strain</th>\n",
       "      <th>target gene</th>\n",
       "      <th>threshold</th>\n",
       "      <th>tissue</th>\n",
       "      <th>TF</th>\n",
       "      <th>motif_FBgn</th>\n",
       "    </tr>\n",
       "  </thead>\n",
       "  <tbody>\n",
       "    <tr>\n",
       "      <th>0</th>\n",
       "      <td>chr2L</td>\n",
       "      <td>16</td>\n",
       "      <td>6825</td>\n",
       "      <td>id=307512</td>\n",
       "      <td>1.80011</td>\n",
       "      <td>0</td>\n",
       "      <td>modENCODE_3956</td>\n",
       "      <td>Solexa_HP1_wa191_14_16_hr_OR_embryo.gff_ID015267</td>\n",
       "      <td>None</td>\n",
       "      <td>None</td>\n",
       "      <td>None</td>\n",
       "      <td>Oregon-R-modENCODE</td>\n",
       "      <td>None</td>\n",
       "      <td>None</td>\n",
       "      <td>None</td>\n",
       "      <td>HP1a</td>\n",
       "      <td>NaN</td>\n",
       "    </tr>\n",
       "    <tr>\n",
       "      <th>1</th>\n",
       "      <td>chr2L</td>\n",
       "      <td>16</td>\n",
       "      <td>6825</td>\n",
       "      <td>id=307513</td>\n",
       "      <td>1.80011</td>\n",
       "      <td>0</td>\n",
       "      <td>modENCODE_3956</td>\n",
       "      <td>Solexa_HP1_wa191_14_16_hr_OR_embryo.gff_ID015267</td>\n",
       "      <td>None</td>\n",
       "      <td>None</td>\n",
       "      <td>Embryo 14-16hr OR</td>\n",
       "      <td>None</td>\n",
       "      <td>None</td>\n",
       "      <td>None</td>\n",
       "      <td>None</td>\n",
       "      <td>HP1a</td>\n",
       "      <td>NaN</td>\n",
       "    </tr>\n",
       "    <tr>\n",
       "      <th>2</th>\n",
       "      <td>chr2L</td>\n",
       "      <td>16</td>\n",
       "      <td>6825</td>\n",
       "      <td>id=307514</td>\n",
       "      <td>1.80011</td>\n",
       "      <td>0</td>\n",
       "      <td>modENCODE_3956</td>\n",
       "      <td>Solexa_HP1_wa191_14_16_hr_OR_embryo.gff_ID015267</td>\n",
       "      <td>HP1 wa191</td>\n",
       "      <td>None</td>\n",
       "      <td>None</td>\n",
       "      <td>None</td>\n",
       "      <td>None</td>\n",
       "      <td>None</td>\n",
       "      <td>None</td>\n",
       "      <td>HP1a</td>\n",
       "      <td>NaN</td>\n",
       "    </tr>\n",
       "    <tr>\n",
       "      <th>3</th>\n",
       "      <td>chr2L</td>\n",
       "      <td>19</td>\n",
       "      <td>6870</td>\n",
       "      <td>id=307515</td>\n",
       "      <td>1.85852</td>\n",
       "      <td>0</td>\n",
       "      <td>modENCODE_3956</td>\n",
       "      <td>Solexa_HP1_wa191_14_16_hr_OR_embryo.enriched_r...</td>\n",
       "      <td>None</td>\n",
       "      <td>None</td>\n",
       "      <td>None</td>\n",
       "      <td>Oregon-R-modENCODE</td>\n",
       "      <td>None</td>\n",
       "      <td>None</td>\n",
       "      <td>None</td>\n",
       "      <td>HP1a</td>\n",
       "      <td>NaN</td>\n",
       "    </tr>\n",
       "    <tr>\n",
       "      <th>4</th>\n",
       "      <td>chr2L</td>\n",
       "      <td>19</td>\n",
       "      <td>6870</td>\n",
       "      <td>id=307516</td>\n",
       "      <td>1.85852</td>\n",
       "      <td>0</td>\n",
       "      <td>modENCODE_3956</td>\n",
       "      <td>Solexa_HP1_wa191_14_16_hr_OR_embryo.enriched_r...</td>\n",
       "      <td>None</td>\n",
       "      <td>None</td>\n",
       "      <td>Embryo 14-16hr OR</td>\n",
       "      <td>None</td>\n",
       "      <td>None</td>\n",
       "      <td>None</td>\n",
       "      <td>None</td>\n",
       "      <td>HP1a</td>\n",
       "      <td>NaN</td>\n",
       "    </tr>\n",
       "  </tbody>\n",
       "</table>\n",
       "</div>"
      ],
      "text/plain": [
       "   chrom  start   end         id    score  strand    modENCODE_id  \\\n",
       "0  chr2L     16  6825  id=307512  1.80011       0  modENCODE_3956   \n",
       "1  chr2L     16  6825  id=307513  1.80011       0  modENCODE_3956   \n",
       "2  chr2L     16  6825  id=307514  1.80011       0  modENCODE_3956   \n",
       "3  chr2L     19  6870  id=307515  1.85852       0  modENCODE_3956   \n",
       "4  chr2L     19  6870  id=307516  1.85852       0  modENCODE_3956   \n",
       "\n",
       "                                               DB_id   antibody cell line  \\\n",
       "0   Solexa_HP1_wa191_14_16_hr_OR_embryo.gff_ID015267       None      None   \n",
       "1   Solexa_HP1_wa191_14_16_hr_OR_embryo.gff_ID015267       None      None   \n",
       "2   Solexa_HP1_wa191_14_16_hr_OR_embryo.gff_ID015267  HP1 wa191      None   \n",
       "3  Solexa_HP1_wa191_14_16_hr_OR_embryo.enriched_r...       None      None   \n",
       "4  Solexa_HP1_wa191_14_16_hr_OR_embryo.enriched_r...       None      None   \n",
       "\n",
       "  developmental stage              strain target gene threshold tissue    TF  \\\n",
       "0                None  Oregon-R-modENCODE        None      None   None  HP1a   \n",
       "1   Embryo 14-16hr OR                None        None      None   None  HP1a   \n",
       "2                None                None        None      None   None  HP1a   \n",
       "3                None  Oregon-R-modENCODE        None      None   None  HP1a   \n",
       "4   Embryo 14-16hr OR                None        None      None   None  HP1a   \n",
       "\n",
       "  motif_FBgn  \n",
       "0        NaN  \n",
       "1        NaN  \n",
       "2        NaN  \n",
       "3        NaN  \n",
       "4        NaN  "
      ]
     },
     "execution_count": 76,
     "metadata": {},
     "output_type": "execute_result"
    }
   ],
   "source": [
    "addfbgn.head()"
   ]
  },
  {
   "cell_type": "code",
   "execution_count": 65,
   "metadata": {},
   "outputs": [
    {
     "data": {
      "text/html": [
       "<div>\n",
       "<style>\n",
       "    .dataframe thead tr:only-child th {\n",
       "        text-align: right;\n",
       "    }\n",
       "\n",
       "    .dataframe thead th {\n",
       "        text-align: left;\n",
       "    }\n",
       "\n",
       "    .dataframe tbody tr th {\n",
       "        vertical-align: top;\n",
       "    }\n",
       "</style>\n",
       "<table border=\"1\" class=\"dataframe\">\n",
       "  <thead>\n",
       "    <tr style=\"text-align: right;\">\n",
       "      <th></th>\n",
       "      <th>gene</th>\n",
       "      <th>a</th>\n",
       "      <th>b</th>\n",
       "    </tr>\n",
       "  </thead>\n",
       "  <tbody>\n",
       "    <tr>\n",
       "      <th>0</th>\n",
       "      <td>FBgn0262029</td>\n",
       "      <td>d</td>\n",
       "      <td>dachs</td>\n",
       "    </tr>\n",
       "    <tr>\n",
       "      <th>1</th>\n",
       "      <td>FBgn0052532</td>\n",
       "      <td>CG32532</td>\n",
       "      <td>CG14203,CG14202,CG14201</td>\n",
       "    </tr>\n",
       "    <tr>\n",
       "      <th>2</th>\n",
       "      <td>FBgn0023536</td>\n",
       "      <td>CG3156</td>\n",
       "      <td>EG:171D11.2</td>\n",
       "    </tr>\n",
       "    <tr>\n",
       "      <th>3</th>\n",
       "      <td>FBgn0029718</td>\n",
       "      <td>mRpL30</td>\n",
       "      <td>mitochondrial</td>\n",
       "    </tr>\n",
       "    <tr>\n",
       "      <th>4</th>\n",
       "      <td>FBgn0031101</td>\n",
       "      <td>CG1631</td>\n",
       "      <td>NaN</td>\n",
       "    </tr>\n",
       "  </tbody>\n",
       "</table>\n",
       "</div>"
      ],
      "text/plain": [
       "          gene        a                        b\n",
       "0  FBgn0262029        d                    dachs\n",
       "1  FBgn0052532  CG32532  CG14203,CG14202,CG14201\n",
       "2  FBgn0023536   CG3156              EG:171D11.2\n",
       "3  FBgn0029718   mRpL30            mitochondrial\n",
       "4  FBgn0031101   CG1631                      NaN"
      ]
     },
     "execution_count": 65,
     "metadata": {},
     "output_type": "execute_result"
    }
   ],
   "source": [
    "symbolmap2 = pd.read_table('../../data/fb_synonym.tsv', sep=' ', header=None)\n",
    "symbolmap2.columns = ['gene','a','b']\n",
    "symbolmap2.head()"
   ]
  },
  {
   "cell_type": "code",
   "execution_count": 77,
   "metadata": {},
   "outputs": [
    {
     "name": "stdout",
     "output_type": "stream",
     "text": [
      "dm\n",
      "Yki\n",
      "KNI\n",
      "POF\n",
      "Smc3\n",
      "Su(Hw)\n",
      "RNA polymerase II\n",
      "PCL\n",
      "Caudal\n",
      "DLL\n",
      "CP190\n",
      "HP2\n",
      "Huckebein\n",
      "HDAC4a\n",
      "JHDM1\n",
      "MOF\n",
      "GROUCHO\n",
      "HP1a\n",
      "LSD1\n",
      "ZW5\n",
      "RPD3\n",
      "GAF\n",
      "dMi-2\n",
      "eGFP\n",
      "RNA polymerase II CTD repeat YSPTSPS (phospho S2)\n",
      "Chriz\n",
      "RNA polymerase II CTD repeat YSPTSPS (phospho S5)\n",
      "NURF301\n",
      "CG16778\n",
      "dRING\n",
      "JMJD2A/KDM4A\n",
      "dSFMBT\n"
     ]
    }
   ],
   "source": [
    "for val in set(addfbgn.TF):\n",
    "    if val not in list(symbolmap2.a):\n",
    "        if val not in list(symbolmap2.b):\n",
    "            print(val)"
   ]
  },
  {
   "cell_type": "markdown",
   "metadata": {},
   "source": [
    "Change all of the incorrect gene names so that symbolmap2 can recognize them: "
   ]
  },
  {
   "cell_type": "code",
   "execution_count": 78,
   "metadata": {
    "collapsed": true
   },
   "outputs": [],
   "source": [
    "addfbgn_copy = addfbgn.copy()"
   ]
  },
  {
   "cell_type": "code",
   "execution_count": 79,
   "metadata": {
    "collapsed": true
   },
   "outputs": [],
   "source": [
    "addfbgn_copy.loc[addfbgn.TF == 'dMi-2','TF'] = 'Mi-2'\n",
    "addfbgn_copy.loc[addfbgn.TF == 'Smc3','TF'] = 'SMC3'\n",
    "addfbgn_copy.loc[addfbgn.TF == 'Caudal','TF'] = 'caudal'\n",
    "addfbgn_copy.loc[addfbgn.TF == 'MOF','TF'] = 'mof'\n",
    "addfbgn_copy.loc[addfbgn.TF == 'JMJD2A/KDM4A','TF'] = 'Kdm4A'\n",
    "addfbgn_copy.loc[addfbgn.TF == 'dRING','TF'] = 'Sce'\n",
    "addfbgn_copy.loc[addfbgn.TF == 'Chriz','TF'] = 'Chro'\n",
    "addfbgn_copy.loc[addfbgn.TF == 'HP1a','TF'] = 'Su(var)205'\n",
    "addfbgn_copy.loc[addfbgn.TF == 'LSD1','TF'] = 'Su(var)3-3'\n",
    "addfbgn_copy.loc[addfbgn.TF == 'POF','TF'] = 'Pof'\n",
    "addfbgn_copy.loc[addfbgn.TF == 'DLL','TF'] = 'Dll'\n",
    "addfbgn_copy.loc[addfbgn.TF == 'CP190','TF'] = 'Cp190'\n",
    "addfbgn_copy.loc[addfbgn.TF == 'GROUCHO','TF'] = 'groucho'\n",
    "addfbgn_copy.loc[addfbgn.TF == 'Yki','TF'] = 'yki'\n",
    "addfbgn_copy.loc[addfbgn.TF == 'GAF','TF'] = 'Trl'\n",
    "addfbgn_copy.loc[addfbgn.TF == 'RPD3','TF'] = 'HDAC1'\n",
    "addfbgn_copy.loc[addfbgn.TF == 'HP2','TF'] = 'Su(var)2-HP2'\n",
    "addfbgn_copy.loc[addfbgn.TF == 'Su(Hw)','TF'] = 'su(Hw)'\n",
    "addfbgn_copy.loc[addfbgn.TF == 'NURF301','TF'] = 'E(bx)'\n",
    "addfbgn_copy.loc[addfbgn.TF == 'dSFMBT','TF'] = 'Sfmbt'\n",
    "addfbgn_copy.loc[addfbgn.TF == 'ZW5','TF'] = 'dwg'\n",
    "addfbgn_copy.loc[addfbgn.TF == 'JHDM1','TF'] = 'Kdm2'\n",
    "addfbgn_copy.loc[addfbgn.TF == 'CG16778','TF'] = 'lov'\n",
    "addfbgn_copy.loc[addfbgn.TF == 'dm','TF'] = 'Myc'\n",
    "addfbgn_copy.loc[addfbgn.TF == 'KNI','TF'] = 'kni'\n",
    "addfbgn_copy.loc[addfbgn.TF == 'PCL','TF'] = 'Pcl'\n",
    "addfbgn_copy.loc[addfbgn.TF == 'Huckebein','TF'] = 'hkb'\n",
    "addfbgn_copy.loc[addfbgn.TF == 'HDAC4a','TF'] = 'HDAC4'"
   ]
  },
  {
   "cell_type": "code",
   "execution_count": 80,
   "metadata": {},
   "outputs": [
    {
     "name": "stdout",
     "output_type": "stream",
     "text": [
      "eGFP\n",
      "RNA polymerase II CTD repeat YSPTSPS (phospho S2)\n",
      "RNA polymerase II CTD repeat YSPTSPS (phospho S5)\n",
      "RNA polymerase II\n"
     ]
    }
   ],
   "source": [
    "for val in set(addfbgn_copy.TF):\n",
    "    if val not in list(symbolmap2.a):\n",
    "        if val not in list(symbolmap2.b):\n",
    "            print(val)"
   ]
  },
  {
   "cell_type": "code",
   "execution_count": 81,
   "metadata": {
    "collapsed": true
   },
   "outputs": [],
   "source": [
    "merge2 = addfbgn_copy.merge(symbolmap2, left_on='TF', right_on='a', how='left').merge(symbolmap2, left_on='TF', right_on='b', how='left')"
   ]
  },
  {
   "cell_type": "code",
   "execution_count": 86,
   "metadata": {
    "collapsed": true
   },
   "outputs": [],
   "source": [
    "merge2.fillna('')\n",
    "merge2['motif_FBgn_sum']= merge2.TF_FBgn.combine_first(merge2.gene_x).combine_first(merge2.gene_y)"
   ]
  },
  {
   "cell_type": "code",
   "execution_count": 87,
   "metadata": {},
   "outputs": [
    {
     "data": {
      "text/plain": [
       "Index(['chrom', 'start', 'end', 'id', 'score', 'strand', 'modENCODE_id',\n",
       "       'DB_id', 'antibody', 'cell line', 'developmental stage', 'strain',\n",
       "       'target gene', 'threshold', 'tissue', 'TF', 'motif_FBgn', 'gene_x',\n",
       "       'a_x', 'b_x', 'gene_y', 'a_y', 'b_y', 'motif_FBgn_sum'],\n",
       "      dtype='object')"
      ]
     },
     "execution_count": 87,
     "metadata": {},
     "output_type": "execute_result"
    }
   ],
   "source": [
    "merge2.columns"
   ]
  },
  {
   "cell_type": "code",
   "execution_count": 88,
   "metadata": {
    "collapsed": true
   },
   "outputs": [],
   "source": [
    "almost = merge2[['chrom', 'start', 'end', 'id', 'score', 'strand', 'modENCODE_id',\n",
    "       'DB_id', 'antibody', 'cell line', 'developmental stage', 'strain',\n",
    "       'target gene', 'threshold', 'tissue', 'TF', 'motif_FBgn_sum']]"
   ]
  },
  {
   "cell_type": "code",
   "execution_count": 89,
   "metadata": {},
   "outputs": [
    {
     "data": {
      "text/plain": [
       "72"
      ]
     },
     "execution_count": 89,
     "metadata": {},
     "output_type": "execute_result"
    }
   ],
   "source": [
    "len(almost.motif_FBgn_sum.unique())"
   ]
  },
  {
   "cell_type": "code",
   "execution_count": 90,
   "metadata": {
    "collapsed": true
   },
   "outputs": [],
   "source": [
    "almost = almost.rename(columns={'motif_FBgn_sum': 'TF_fbgn'})"
   ]
  },
  {
   "cell_type": "code",
   "execution_count": 91,
   "metadata": {},
   "outputs": [
    {
     "data": {
      "text/html": [
       "<div>\n",
       "<style>\n",
       "    .dataframe thead tr:only-child th {\n",
       "        text-align: right;\n",
       "    }\n",
       "\n",
       "    .dataframe thead th {\n",
       "        text-align: left;\n",
       "    }\n",
       "\n",
       "    .dataframe tbody tr th {\n",
       "        vertical-align: top;\n",
       "    }\n",
       "</style>\n",
       "<table border=\"1\" class=\"dataframe\">\n",
       "  <thead>\n",
       "    <tr style=\"text-align: right;\">\n",
       "      <th></th>\n",
       "      <th>chrom</th>\n",
       "      <th>start</th>\n",
       "      <th>end</th>\n",
       "      <th>id</th>\n",
       "      <th>score</th>\n",
       "      <th>strand</th>\n",
       "      <th>modENCODE_id</th>\n",
       "      <th>DB_id</th>\n",
       "      <th>antibody</th>\n",
       "      <th>cell line</th>\n",
       "      <th>developmental stage</th>\n",
       "      <th>strain</th>\n",
       "      <th>target gene</th>\n",
       "      <th>threshold</th>\n",
       "      <th>tissue</th>\n",
       "      <th>TF</th>\n",
       "      <th>TF_fbgn</th>\n",
       "    </tr>\n",
       "  </thead>\n",
       "  <tbody>\n",
       "    <tr>\n",
       "      <th>0</th>\n",
       "      <td>chr2L</td>\n",
       "      <td>16</td>\n",
       "      <td>6825</td>\n",
       "      <td>id=307512</td>\n",
       "      <td>1.80011</td>\n",
       "      <td>0</td>\n",
       "      <td>modENCODE_3956</td>\n",
       "      <td>Solexa_HP1_wa191_14_16_hr_OR_embryo.gff_ID015267</td>\n",
       "      <td>None</td>\n",
       "      <td>None</td>\n",
       "      <td>None</td>\n",
       "      <td>Oregon-R-modENCODE</td>\n",
       "      <td>None</td>\n",
       "      <td>None</td>\n",
       "      <td>None</td>\n",
       "      <td>Su(var)205</td>\n",
       "      <td>FBgn0003607</td>\n",
       "    </tr>\n",
       "    <tr>\n",
       "      <th>1</th>\n",
       "      <td>chr2L</td>\n",
       "      <td>16</td>\n",
       "      <td>6825</td>\n",
       "      <td>id=307513</td>\n",
       "      <td>1.80011</td>\n",
       "      <td>0</td>\n",
       "      <td>modENCODE_3956</td>\n",
       "      <td>Solexa_HP1_wa191_14_16_hr_OR_embryo.gff_ID015267</td>\n",
       "      <td>None</td>\n",
       "      <td>None</td>\n",
       "      <td>Embryo 14-16hr OR</td>\n",
       "      <td>None</td>\n",
       "      <td>None</td>\n",
       "      <td>None</td>\n",
       "      <td>None</td>\n",
       "      <td>Su(var)205</td>\n",
       "      <td>FBgn0003607</td>\n",
       "    </tr>\n",
       "    <tr>\n",
       "      <th>2</th>\n",
       "      <td>chr2L</td>\n",
       "      <td>16</td>\n",
       "      <td>6825</td>\n",
       "      <td>id=307514</td>\n",
       "      <td>1.80011</td>\n",
       "      <td>0</td>\n",
       "      <td>modENCODE_3956</td>\n",
       "      <td>Solexa_HP1_wa191_14_16_hr_OR_embryo.gff_ID015267</td>\n",
       "      <td>HP1 wa191</td>\n",
       "      <td>None</td>\n",
       "      <td>None</td>\n",
       "      <td>None</td>\n",
       "      <td>None</td>\n",
       "      <td>None</td>\n",
       "      <td>None</td>\n",
       "      <td>Su(var)205</td>\n",
       "      <td>FBgn0003607</td>\n",
       "    </tr>\n",
       "    <tr>\n",
       "      <th>3</th>\n",
       "      <td>chr2L</td>\n",
       "      <td>19</td>\n",
       "      <td>6870</td>\n",
       "      <td>id=307515</td>\n",
       "      <td>1.85852</td>\n",
       "      <td>0</td>\n",
       "      <td>modENCODE_3956</td>\n",
       "      <td>Solexa_HP1_wa191_14_16_hr_OR_embryo.enriched_r...</td>\n",
       "      <td>None</td>\n",
       "      <td>None</td>\n",
       "      <td>None</td>\n",
       "      <td>Oregon-R-modENCODE</td>\n",
       "      <td>None</td>\n",
       "      <td>None</td>\n",
       "      <td>None</td>\n",
       "      <td>Su(var)205</td>\n",
       "      <td>FBgn0003607</td>\n",
       "    </tr>\n",
       "    <tr>\n",
       "      <th>4</th>\n",
       "      <td>chr2L</td>\n",
       "      <td>19</td>\n",
       "      <td>6870</td>\n",
       "      <td>id=307516</td>\n",
       "      <td>1.85852</td>\n",
       "      <td>0</td>\n",
       "      <td>modENCODE_3956</td>\n",
       "      <td>Solexa_HP1_wa191_14_16_hr_OR_embryo.enriched_r...</td>\n",
       "      <td>None</td>\n",
       "      <td>None</td>\n",
       "      <td>Embryo 14-16hr OR</td>\n",
       "      <td>None</td>\n",
       "      <td>None</td>\n",
       "      <td>None</td>\n",
       "      <td>None</td>\n",
       "      <td>Su(var)205</td>\n",
       "      <td>FBgn0003607</td>\n",
       "    </tr>\n",
       "  </tbody>\n",
       "</table>\n",
       "</div>"
      ],
      "text/plain": [
       "   chrom  start   end         id    score  strand    modENCODE_id  \\\n",
       "0  chr2L     16  6825  id=307512  1.80011       0  modENCODE_3956   \n",
       "1  chr2L     16  6825  id=307513  1.80011       0  modENCODE_3956   \n",
       "2  chr2L     16  6825  id=307514  1.80011       0  modENCODE_3956   \n",
       "3  chr2L     19  6870  id=307515  1.85852       0  modENCODE_3956   \n",
       "4  chr2L     19  6870  id=307516  1.85852       0  modENCODE_3956   \n",
       "\n",
       "                                               DB_id   antibody cell line  \\\n",
       "0   Solexa_HP1_wa191_14_16_hr_OR_embryo.gff_ID015267       None      None   \n",
       "1   Solexa_HP1_wa191_14_16_hr_OR_embryo.gff_ID015267       None      None   \n",
       "2   Solexa_HP1_wa191_14_16_hr_OR_embryo.gff_ID015267  HP1 wa191      None   \n",
       "3  Solexa_HP1_wa191_14_16_hr_OR_embryo.enriched_r...       None      None   \n",
       "4  Solexa_HP1_wa191_14_16_hr_OR_embryo.enriched_r...       None      None   \n",
       "\n",
       "  developmental stage              strain target gene threshold tissue  \\\n",
       "0                None  Oregon-R-modENCODE        None      None   None   \n",
       "1   Embryo 14-16hr OR                None        None      None   None   \n",
       "2                None                None        None      None   None   \n",
       "3                None  Oregon-R-modENCODE        None      None   None   \n",
       "4   Embryo 14-16hr OR                None        None      None   None   \n",
       "\n",
       "           TF      TF_fbgn  \n",
       "0  Su(var)205  FBgn0003607  \n",
       "1  Su(var)205  FBgn0003607  \n",
       "2  Su(var)205  FBgn0003607  \n",
       "3  Su(var)205  FBgn0003607  \n",
       "4  Su(var)205  FBgn0003607  "
      ]
     },
     "execution_count": 91,
     "metadata": {},
     "output_type": "execute_result"
    }
   ],
   "source": [
    "almost.head()"
   ]
  },
  {
   "cell_type": "code",
   "execution_count": 22,
   "metadata": {
    "collapsed": true
   },
   "outputs": [],
   "source": [
    "almost.to_csv('../../output/chip/modENCODE_big.bed', sep='\\t', index=False)"
   ]
  },
  {
   "cell_type": "code",
   "execution_count": null,
   "metadata": {
    "collapsed": true
   },
   "outputs": [],
   "source": []
  },
  {
   "cell_type": "markdown",
   "metadata": {},
   "source": [
    "## snakemake: \n",
    "\n",
    "- cut table\n",
    "- liftover\n",
    "- get gene file in bed format\n",
    "- intersect\n",
    "- merge metadata back"
   ]
  },
  {
   "cell_type": "code",
   "execution_count": 24,
   "metadata": {
    "collapsed": true
   },
   "outputs": [],
   "source": [
    "#get gene file as a bed:\n",
    "import pybedtools\n",
    "from pybedtools import BedTool\n",
    "from pybedtools.featurefuncs import gff2bed\n",
    "genes = BedTool('../../data/dmel-all-r6.12.gene_only.chr.gff')\n",
    "genes_bed = genes.each(gff2bed, name_field='ID').saveas()"
   ]
  },
  {
   "cell_type": "code",
   "execution_count": 26,
   "metadata": {
    "collapsed": true
   },
   "outputs": [],
   "source": [
    "#import liftover file, bed intersect\n",
    "with open('../../output/chip/modENCODE_big_liftover.bed') as f: \n",
    "    peaks_bed = BedTool(f)\n",
    "    intersect = genes_bed.intersect(peaks_bed, wb=True).saveas()\n",
    "    intdf = intersect.to_dataframe()\n",
    "#then merge back on location to get all the info"
   ]
  },
  {
   "cell_type": "code",
   "execution_count": 27,
   "metadata": {
    "collapsed": true
   },
   "outputs": [],
   "source": [
    "trim = intdf[['name','thickStart','thickEnd','itemRgb','blockCount']]"
   ]
  },
  {
   "cell_type": "code",
   "execution_count": 35,
   "metadata": {
    "collapsed": true
   },
   "outputs": [],
   "source": [
    "trim.columns = [['gene', 'chrom','start','end','id']]"
   ]
  },
  {
   "cell_type": "code",
   "execution_count": 36,
   "metadata": {},
   "outputs": [
    {
     "data": {
      "text/html": [
       "<div>\n",
       "<style>\n",
       "    .dataframe thead tr:only-child th {\n",
       "        text-align: right;\n",
       "    }\n",
       "\n",
       "    .dataframe thead th {\n",
       "        text-align: left;\n",
       "    }\n",
       "\n",
       "    .dataframe tbody tr th {\n",
       "        vertical-align: top;\n",
       "    }\n",
       "</style>\n",
       "<table border=\"1\" class=\"dataframe\">\n",
       "  <thead>\n",
       "    <tr style=\"text-align: right;\">\n",
       "      <th></th>\n",
       "      <th>gene</th>\n",
       "      <th>chrom</th>\n",
       "      <th>start</th>\n",
       "      <th>end</th>\n",
       "      <th>id</th>\n",
       "      <th>score</th>\n",
       "      <th>strand</th>\n",
       "      <th>modENCODE_id</th>\n",
       "      <th>type</th>\n",
       "      <th>name</th>\n",
       "      <th>DB_id</th>\n",
       "    </tr>\n",
       "  </thead>\n",
       "  <tbody>\n",
       "    <tr>\n",
       "      <th>0</th>\n",
       "      <td>FBgn0031208</td>\n",
       "      <td>chr2L</td>\n",
       "      <td>7492</td>\n",
       "      <td>8128</td>\n",
       "      <td>id=280047</td>\n",
       "      <td>51.15</td>\n",
       "      <td>0</td>\n",
       "      <td>modENCODE_3830</td>\n",
       "      <td>strain</td>\n",
       "      <td>yellow cinnabar brown speck</td>\n",
       "      <td>Trithorax_like_WPP_ChIP_chip.gff_ID000002</td>\n",
       "    </tr>\n",
       "    <tr>\n",
       "      <th>1</th>\n",
       "      <td>FBgn0031208</td>\n",
       "      <td>chr2L</td>\n",
       "      <td>7492</td>\n",
       "      <td>8128</td>\n",
       "      <td>id=280048</td>\n",
       "      <td>51.15</td>\n",
       "      <td>0</td>\n",
       "      <td>modENCODE_3830</td>\n",
       "      <td>developmental stage</td>\n",
       "      <td>L3 stage larvae</td>\n",
       "      <td>Trithorax_like_WPP_ChIP_chip.gff_ID000002</td>\n",
       "    </tr>\n",
       "    <tr>\n",
       "      <th>2</th>\n",
       "      <td>FBgn0031208</td>\n",
       "      <td>chr2L</td>\n",
       "      <td>7492</td>\n",
       "      <td>8128</td>\n",
       "      <td>id=280049</td>\n",
       "      <td>51.15</td>\n",
       "      <td>0</td>\n",
       "      <td>modENCODE_3830</td>\n",
       "      <td>antibody</td>\n",
       "      <td>KW3-Trl-D2</td>\n",
       "      <td>Trithorax_like_WPP_ChIP_chip.gff_ID000002</td>\n",
       "    </tr>\n",
       "    <tr>\n",
       "      <th>3</th>\n",
       "      <td>FBgn0031208</td>\n",
       "      <td>chr2L</td>\n",
       "      <td>5038</td>\n",
       "      <td>13342</td>\n",
       "      <td>id=383688</td>\n",
       "      <td>1.9869</td>\n",
       "      <td>0</td>\n",
       "      <td>modENCODE_3957</td>\n",
       "      <td>strain</td>\n",
       "      <td>Oregon-R-modENCODE</td>\n",
       "      <td>Solexa_Pc_14_16_hr_OR_embryo.gff_ID000002</td>\n",
       "    </tr>\n",
       "    <tr>\n",
       "      <th>4</th>\n",
       "      <td>FBgn0031208</td>\n",
       "      <td>chr2L</td>\n",
       "      <td>5038</td>\n",
       "      <td>13342</td>\n",
       "      <td>id=383689</td>\n",
       "      <td>1.9869</td>\n",
       "      <td>0</td>\n",
       "      <td>modENCODE_3957</td>\n",
       "      <td>developmental stage</td>\n",
       "      <td>Embryo 14-16hr OR</td>\n",
       "      <td>Solexa_Pc_14_16_hr_OR_embryo.gff_ID000002</td>\n",
       "    </tr>\n",
       "  </tbody>\n",
       "</table>\n",
       "</div>"
      ],
      "text/plain": [
       "          gene  chrom  start    end         id   score  strand  \\\n",
       "0  FBgn0031208  chr2L   7492   8128  id=280047   51.15       0   \n",
       "1  FBgn0031208  chr2L   7492   8128  id=280048   51.15       0   \n",
       "2  FBgn0031208  chr2L   7492   8128  id=280049   51.15       0   \n",
       "3  FBgn0031208  chr2L   5038  13342  id=383688  1.9869       0   \n",
       "4  FBgn0031208  chr2L   5038  13342  id=383689  1.9869       0   \n",
       "\n",
       "     modENCODE_id                 type                         name  \\\n",
       "0  modENCODE_3830               strain  yellow cinnabar brown speck   \n",
       "1  modENCODE_3830  developmental stage              L3 stage larvae   \n",
       "2  modENCODE_3830             antibody                   KW3-Trl-D2   \n",
       "3  modENCODE_3957               strain           Oregon-R-modENCODE   \n",
       "4  modENCODE_3957  developmental stage            Embryo 14-16hr OR   \n",
       "\n",
       "                                       DB_id  \n",
       "0  Trithorax_like_WPP_ChIP_chip.gff_ID000002  \n",
       "1  Trithorax_like_WPP_ChIP_chip.gff_ID000002  \n",
       "2  Trithorax_like_WPP_ChIP_chip.gff_ID000002  \n",
       "3  Solexa_Pc_14_16_hr_OR_embryo.gff_ID000002  \n",
       "4  Solexa_Pc_14_16_hr_OR_embryo.gff_ID000002  "
      ]
     },
     "execution_count": 36,
     "metadata": {},
     "output_type": "execute_result"
    }
   ],
   "source": [
    "#in snakemake, instead of merging big I merge just the metadata (a lot cleaner)\n",
    "metadata = bigbed[['id','score', 'strand', 'modENCODE_id','type', 'name', 'DB_id']]\n",
    "merge = trim.merge(metadata, on='id', how='left')\n",
    "merge.head()"
   ]
  },
  {
   "cell_type": "code",
   "execution_count": 37,
   "metadata": {},
   "outputs": [
    {
     "data": {
      "text/plain": [
       "150"
      ]
     },
     "execution_count": 37,
     "metadata": {},
     "output_type": "execute_result"
    }
   ],
   "source": [
    "len(merge.modENCODE_id.unique())"
   ]
  },
  {
   "cell_type": "code",
   "execution_count": null,
   "metadata": {
    "collapsed": true
   },
   "outputs": [],
   "source": [
    "#this is for peak_location_fbgn (gene) which I don't have yet\n",
    "almost = almost.rename(columns={'gene_x': 'peak_location_fbgn'})"
   ]
  },
  {
   "cell_type": "code",
   "execution_count": null,
   "metadata": {
    "collapsed": true
   },
   "outputs": [],
   "source": [
    "#merge to add column for peak_location_symbol\n",
    "almost1 = almost.merge(symbolmap, left_on='peak_location_fbgn', right_on='ENSEMBL', how='left')\n",
    "almost1 = almost1.rename(columns={'SYMBOL': 'peak_location_symbol'})\n",
    "almost1.columns\n",
    "final = almost1[['DB_id', 'score', 'chrom', 'start', 'end', 'strand', 'modENCODE_id',\n",
    "       'peak_location_fbgn',\n",
    "       'peak_location_symbol', 'antibody', 'cell line', 'developmental stage',\n",
    "       'strain', 'target gene','tissue', 'TF', 'TF_fbgn']]\n",
    "    "
   ]
  },
  {
   "cell_type": "code",
   "execution_count": null,
   "metadata": {
    "collapsed": true
   },
   "outputs": [],
   "source": [
    "final.to_csv('../../data/modENCODE_downloads_2ndtry/modENCODE_finaltable', sep='\\t', header=None, index=False)"
   ]
  },
  {
   "cell_type": "code",
   "execution_count": null,
   "metadata": {
    "collapsed": true
   },
   "outputs": [],
   "source": [
    "final.tissue.unique()"
   ]
  },
  {
   "cell_type": "code",
   "execution_count": null,
   "metadata": {
    "collapsed": true
   },
   "outputs": [],
   "source": [
    "len(final['developmental stage'].unique())"
   ]
  },
  {
   "cell_type": "code",
   "execution_count": null,
   "metadata": {
    "collapsed": true
   },
   "outputs": [],
   "source": [
    "final['cell line'].unique()"
   ]
  },
  {
   "cell_type": "code",
   "execution_count": null,
   "metadata": {
    "collapsed": true
   },
   "outputs": [],
   "source": [
    "len(final.strain.unique())"
   ]
  },
  {
   "cell_type": "code",
   "execution_count": null,
   "metadata": {
    "collapsed": true
   },
   "outputs": [],
   "source": [
    "final[['developmental stage', 'modENCODE_id']].drop_duplicates().groupby('developmental stage').describe()"
   ]
  },
  {
   "cell_type": "code",
   "execution_count": null,
   "metadata": {
    "collapsed": true
   },
   "outputs": [],
   "source": [
    "final[['cell line', 'modENCODE_id']].drop_duplicates().groupby('cell line').describe()"
   ]
  }
 ],
 "metadata": {
  "kernelspec": {
   "display_name": "Python [default]",
   "language": "python",
   "name": "python3"
  },
  "language_info": {
   "codemirror_mode": {
    "name": "ipython",
    "version": 3
   },
   "file_extension": ".py",
   "mimetype": "text/x-python",
   "name": "python",
   "nbconvert_exporter": "python",
   "pygments_lexer": "ipython3",
   "version": "3.5.4"
  }
 },
 "nbformat": 4,
 "nbformat_minor": 2
}
