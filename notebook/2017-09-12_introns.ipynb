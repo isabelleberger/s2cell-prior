{
 "cells": [
  {
   "cell_type": "markdown",
   "metadata": {},
   "source": [
    "# Generate list of possible motifs\n",
    "* Build BED for intron and upstream region\n",
    "* intersect with fimo output from the entire genome for each of the 5 motif databases\n",
    "* concat datasets\n",
    "* take fdr of pvalues"
   ]
  },
  {
   "cell_type": "code",
   "execution_count": 1,
   "metadata": {},
   "outputs": [
    {
     "name": "stderr",
     "output_type": "stream",
     "text": [
      "/data/bergeric/miniconda3/envs/s2rnai/lib/python3.5/site-packages/statsmodels/compat/pandas.py:56: FutureWarning: The pandas.core.datetools module is deprecated and will be removed in a future version. Please use the pandas.tseries module instead.\n",
      "  from pandas.core import datetools\n"
     ]
    }
   ],
   "source": [
    "import gffutils\n",
    "from gffutils import pybedtools_integration\n",
    "import pybedtools\n",
    "from pybedtools.featurefuncs import gff2bed\n",
    "import pandas as pd\n",
    "import seaborn as sb\n",
    "import statsmodels\n",
    "import statsmodels.api as sm\n",
    "%matplotlib inline"
   ]
  },
  {
   "cell_type": "markdown",
   "metadata": {},
   "source": [
    "I first use gffutils to get introns plus 1kb upstream of transcripts:"
   ]
  },
  {
   "cell_type": "code",
   "execution_count": 2,
   "metadata": {},
   "outputs": [
    {
     "name": "stderr",
     "output_type": "stream",
     "text": [
      "/data/bergeric/miniconda3/envs/s2rnai/lib/python3.5/site-packages/gffutils/interface.py:161: UserWarning: It appears that this database has not had the ANALYZE sqlite3 command run on it. Doing so can dramatically speed up queries, and is done by default for databases created with gffutils >0.8.7.1 (this database was created with version 0.8.7.1) Consider calling the analyze() method of this object.\n",
      "  \"method of this object.\" % self.version)\n"
     ]
    }
   ],
   "source": [
    "db = gffutils.FeatureDB('/data/LCDB/lcdb-references/dmel/r6-11/gtf/dmel_r6-11.gtf.db')"
   ]
  },
  {
   "cell_type": "markdown",
   "metadata": {},
   "source": [
    "- get exons, then merge them\n",
    "- subtract from gene to get introns\n",
    "- slop transcripts\n",
    "- subtract transcripts from slopped transcripts to get just upstream\n",
    "- cat slop with introns"
   ]
  },
  {
   "cell_type": "code",
   "execution_count": 3,
   "metadata": {
    "collapsed": true
   },
   "outputs": [],
   "source": [
    "exons = pybedtools_integration.to_bedtool(db.features_of_type('exon')).saveas()"
   ]
  },
  {
   "cell_type": "code",
   "execution_count": 4,
   "metadata": {
    "collapsed": true
   },
   "outputs": [],
   "source": [
    "exonmerge = exons.sort().merge().saveas('../../output/dm6_exons.bed') "
   ]
  },
  {
   "cell_type": "code",
   "execution_count": 5,
   "metadata": {
    "collapsed": true
   },
   "outputs": [],
   "source": [
    "genes = pybedtools_integration.to_bedtool(db.features_of_type('gene')).saveas('../../output/dm6_genes.gtf')\n",
    "genes = genes.sort().merge().saveas()"
   ]
  },
  {
   "cell_type": "code",
   "execution_count": 6,
   "metadata": {
    "collapsed": true
   },
   "outputs": [],
   "source": [
    "introns = genes.subtract(exonmerge).saveas('../../output/dm6_introns.bed')"
   ]
  },
  {
   "cell_type": "code",
   "execution_count": 7,
   "metadata": {
    "collapsed": true
   },
   "outputs": [],
   "source": [
    "transcripts = pybedtools_integration.to_bedtool(db.features_of_type('transcript')).saveas()"
   ]
  },
  {
   "cell_type": "code",
   "execution_count": 8,
   "metadata": {
    "collapsed": true
   },
   "outputs": [],
   "source": [
    "slopped = transcripts.slop(b=1000, s=True, genome='dm6').saveas()"
   ]
  },
  {
   "cell_type": "code",
   "execution_count": 9,
   "metadata": {
    "collapsed": true
   },
   "outputs": [],
   "source": [
    "diff = slopped.subtract(genes, s=False).saveas('../../output/dm6_diff.bed')"
   ]
  },
  {
   "cell_type": "code",
   "execution_count": 10,
   "metadata": {
    "collapsed": true
   },
   "outputs": [],
   "source": [
    "intslop = diff.cat(introns).saveas('../../output/dm6_intron_sloptranscript.bed')"
   ]
  },
  {
   "cell_type": "markdown",
   "metadata": {},
   "source": [
    "Now I have my regions, need to intersect with fimo outputs from each database: \n"
   ]
  },
  {
   "cell_type": "markdown",
   "metadata": {},
   "source": [
    "# dmmpmm"
   ]
  },
  {
   "cell_type": "markdown",
   "metadata": {},
   "source": [
    "Here's my parser: (only problem is its going to be slower than gff2bed for the big files, I think)"
   ]
  },
  {
   "cell_type": "code",
   "execution_count": 19,
   "metadata": {
    "collapsed": true
   },
   "outputs": [],
   "source": [
    "table = []\n",
    "with open('../../motif-wf/data/fimo/motif_alignments_dmmpmm2009_dm6.gff') as f:\n",
    "    for line in f: \n",
    "        if not line.startswith('##'):\n",
    "            broken = line.split('\\t')\n",
    "            pattern = broken[8].split(';')[3]\n",
    "            pval = float(broken[8].split(';')[2][7:])\n",
    "            qval = float(pattern[7:].strip())\n",
    "            TF = broken[8].split(';')[0][5:]\n",
    "            start = broken[3]\n",
    "            end = broken[4]\n",
    "            chrom = broken[0]\n",
    "            strand = broken[6]\n",
    "            stuff = (chrom, start, end, TF, strand, pval, qval)\n",
    "            table.append(stuff)\n",
    "            \n",
    "new_df_dmm= pd.DataFrame(table, columns=['chrom','start','end','name', 'strand', 'pvalue', 'qvalue'])"
   ]
  },
  {
   "cell_type": "code",
   "execution_count": 20,
   "metadata": {
    "collapsed": true
   },
   "outputs": [],
   "source": [
    "dmm_df = new_df_dmm[['chrom','start','end', 'name', 'strand','pvalue']]\n",
    "#add column for motif_FBgn\n",
    "symbolmap = pd.read_table('/data/LCDB/lcdb-references/dmel/r6-11/gtf/dmel_r6-11.SYMBOL.csv', sep=',') \n",
    "addcol = dmm_df.merge(symbolmap, left_on='name', right_on='SYMBOL', how='left')\n",
    "addcol[['chrom','start','end','name','strand','pvalue','ENSEMBL']].to_csv('../../output/dmmpmm.bed', sep='\\t', header=None, index=False)"
   ]
  },
  {
   "cell_type": "code",
   "execution_count": 11,
   "metadata": {
    "collapsed": true
   },
   "outputs": [],
   "source": [
    "dm_intersect = pybedtools.BedTool('../../output/dmmpmm.bed').intersect(intslop).saveas().to_dataframe()"
   ]
  },
  {
   "cell_type": "code",
   "execution_count": 12,
   "metadata": {
    "collapsed": true
   },
   "outputs": [],
   "source": [
    "dm_intersect.columns = ['chrom','start','end', 'motif_symbol','strand', 'pval','motif_FBgn']"
   ]
  },
  {
   "cell_type": "markdown",
   "metadata": {},
   "source": [
    "# flyReg"
   ]
  },
  {
   "cell_type": "code",
   "execution_count": 23,
   "metadata": {
    "collapsed": true
   },
   "outputs": [],
   "source": [
    "table = []\n",
    "with open('../../motif-wf/data/fimo/motif_alignments_flyReg_dm6.gff') as f:\n",
    "    for line in f: \n",
    "        if not line.startswith('##'):\n",
    "            broken = line.split('\\t')\n",
    "            pattern = broken[8].split(';')[3]\n",
    "            pval = float(broken[8].split(';')[2][7:])\n",
    "            qval = float(pattern[7:].strip())\n",
    "            TF = broken[8].split(';')[0][5:]\n",
    "            start = broken[3]\n",
    "            end = broken[4]\n",
    "            chrom = broken[0]\n",
    "            strand = broken[6]\n",
    "            stuff = (chrom, start, end, TF, strand, pval, qval)\n",
    "            table.append(stuff)\n",
    "            \n",
    "new_df_flyReg= pd.DataFrame(table, columns=['chrom','start','end','name', 'strand', 'pvalue', 'qvalue'])"
   ]
  },
  {
   "cell_type": "code",
   "execution_count": 24,
   "metadata": {
    "collapsed": true
   },
   "outputs": [],
   "source": [
    "flyReg_df = new_df_flyReg[['chrom','start','end', 'name', 'strand','pvalue']]"
   ]
  },
  {
   "cell_type": "code",
   "execution_count": 25,
   "metadata": {
    "collapsed": true
   },
   "outputs": [],
   "source": [
    "#add column for motif_FBgn\n",
    "symbolmap = pd.read_table('/data/LCDB/lcdb-references/dmel/r6-11/gtf/dmel_r6-11.SYMBOL.csv', sep=',') \n",
    "addcol = flyReg_df.merge(symbolmap, left_on='name', right_on='SYMBOL', how='left')\n",
    "addcol[['chrom','start','end','name','strand','pvalue','ENSEMBL']].to_csv('../../output/flyReg.bed', sep='\\t', header=None, index=False)"
   ]
  },
  {
   "cell_type": "code",
   "execution_count": 13,
   "metadata": {
    "collapsed": true
   },
   "outputs": [],
   "source": [
    "fR_intersect = pybedtools.BedTool('../../output/flyReg.bed').intersect(intslop).saveas().to_dataframe()"
   ]
  },
  {
   "cell_type": "code",
   "execution_count": 14,
   "metadata": {
    "collapsed": true
   },
   "outputs": [],
   "source": [
    "fR_intersect.columns = ['chrom','start','end', 'motif_symbol','strand', 'pval','motif_FBgn']"
   ]
  },
  {
   "cell_type": "markdown",
   "metadata": {},
   "source": [
    "# idmmpmm"
   ]
  },
  {
   "cell_type": "code",
   "execution_count": 28,
   "metadata": {
    "collapsed": true
   },
   "outputs": [],
   "source": [
    "table = []\n",
    "with open('../../motif-wf/data/fimo/motif_alignments_idmmpmm2009_dm6.gff') as f:\n",
    "    for line in f: \n",
    "        if not line.startswith('##'):\n",
    "            broken = line.split('\\t')\n",
    "            pattern = broken[8].split(';')[3]\n",
    "            pval = float(broken[8].split(';')[2][7:])\n",
    "            qval = float(pattern[7:].strip())\n",
    "            TF = broken[8].split(';')[0][5:]\n",
    "            start = broken[3]\n",
    "            end = broken[4]\n",
    "            chrom = broken[0]\n",
    "            strand = broken[6]\n",
    "            stuff = (chrom, start, end, TF, strand, pval, qval)\n",
    "            table.append(stuff)\n",
    "            \n",
    "new_df_idm= pd.DataFrame(table, columns=['chrom','start','end','name', 'strand', 'pvalue', 'qvalue'])"
   ]
  },
  {
   "cell_type": "code",
   "execution_count": 29,
   "metadata": {
    "collapsed": true
   },
   "outputs": [],
   "source": [
    "idm_df = new_df_idm[['chrom','start','end', 'name', 'strand','pvalue']]\n",
    "#add column for motif_FBgn \n",
    "addcol = idm_df.merge(symbolmap, left_on='name', right_on='SYMBOL', how='left')\n",
    "addcol[['chrom','start','end','name','strand','pvalue','ENSEMBL']].to_csv('../../output/idm.bed', sep='\\t', header=None, index=False)"
   ]
  },
  {
   "cell_type": "code",
   "execution_count": 15,
   "metadata": {
    "collapsed": true
   },
   "outputs": [],
   "source": [
    "idm_intersect = pybedtools.BedTool('../../output/idm.bed').intersect(intslop).saveas().to_dataframe()"
   ]
  },
  {
   "cell_type": "code",
   "execution_count": 16,
   "metadata": {
    "collapsed": true
   },
   "outputs": [],
   "source": [
    "idm_intersect.columns = ['chrom','start','end', 'motif_symbol','strand', 'pval','motif_FBgn']"
   ]
  },
  {
   "cell_type": "markdown",
   "metadata": {},
   "source": [
    "# onTheFly"
   ]
  },
  {
   "cell_type": "code",
   "execution_count": 11,
   "metadata": {
    "collapsed": true
   },
   "outputs": [],
   "source": [
    "table = []\n",
    "with open('../../motif-wf/data/fimo/motif_alignments_onTheFly_dm6.gff') as f:\n",
    "    for line in f: \n",
    "        if not line.startswith('##'):\n",
    "            broken = line.split('\\t')\n",
    "            pattern = broken[8].split(';')[3]\n",
    "            pval = float(broken[8].split(';')[2][7:])\n",
    "            qval = float(pattern[7:].strip())\n",
    "            TF = broken[8].split(';')[0][5:]\n",
    "            start = broken[3]\n",
    "            end = broken[4]\n",
    "            chrom = broken[0]\n",
    "            strand = broken[6]\n",
    "            stuff = (chrom, start, end, TF, strand, pval, qval)\n",
    "            table.append(stuff)\n",
    "            \n",
    "new_df_oTF= pd.DataFrame(table, columns=['chrom','start','end','name', 'strand', 'pvalue', 'qvalue'])"
   ]
  },
  {
   "cell_type": "markdown",
   "metadata": {},
   "source": [
    "NOTE: \n",
    "OTF0415.1 doesn't have a FBgn, and upon further inspection (https://bhapp.c2b2.columbia.edu/OnTheFly/cgi-bin/motif_entry.php?protein_ID=OTF0415.1) doesn't have any identifying information. So we're ignoring it. |\n",
    "\n",
    "Remove OTF0415.1 entries from data: "
   ]
  },
  {
   "cell_type": "code",
   "execution_count": 12,
   "metadata": {
    "collapsed": true
   },
   "outputs": [],
   "source": [
    "oTF_df = new_df_oTF[['chrom','start','end', 'name', 'strand','pvalue']]\n",
    "#add column for motif_FBGN\n",
    "otfmap = pd.read_table('../../output/onTheFlyMap.tsv')\n",
    "y = otfmap[['name', 'FBgn']]\n",
    "update = oTF_df.merge(y, on='name', how='left')\n",
    "update = update[update.name != 'OTF0415.1']"
   ]
  },
  {
   "cell_type": "code",
   "execution_count": 13,
   "metadata": {
    "collapsed": true
   },
   "outputs": [],
   "source": [
    "#flybase annotation: \n",
    "fb = pd.read_table('/data/LCDB/lcdb-references/dmel/r6-16/fb_annotation/dmel_r6-16.fb_annotation')"
   ]
  },
  {
   "cell_type": "code",
   "execution_count": 42,
   "metadata": {
    "collapsed": true
   },
   "outputs": [],
   "source": [
    "# Make map of old fbgn to current fbgn and current fbgn to current symbol\n",
    "fbgns = {}\n",
    "genes = {}\n",
    "for i, record in fb.iterrows():\n",
    "    fbgn = record.primary_FBgn\n",
    "    symbol = record.gene_symbol\n",
    "    fbgn2 = record.secondary_FBgn\n",
    "    \n",
    "    fbgns[fbgn] = fbgn\n",
    "    genes[fbgn] = symbol\n",
    "    \n",
    "    if isinstance(fbgn2, str):\n",
    "        for f2 in fbgn2.strip().split(','):\n",
    "            fbgns[f2] = fbgn"
   ]
  },
  {
   "cell_type": "code",
   "execution_count": 15,
   "metadata": {
    "collapsed": true
   },
   "outputs": [],
   "source": [
    "#update fbgn and add symbol column\n",
    "update['curr_fbgn'] = update.apply(lambda x: fbgns[x.FBgn], axis=1)\n",
    "update['symbol'] = update.apply(lambda x: genes[x.curr_fbgn], axis=1)"
   ]
  },
  {
   "cell_type": "code",
   "execution_count": 16,
   "metadata": {
    "collapsed": true
   },
   "outputs": [],
   "source": [
    "update[['chrom','start','end','symbol','strand','pvalue','curr_fbgn']].to_csv('../../output/oTF.bed', sep='\\t', header=None, index=False)"
   ]
  },
  {
   "cell_type": "code",
   "execution_count": 17,
   "metadata": {
    "collapsed": true
   },
   "outputs": [],
   "source": [
    "oTF_intersect = pybedtools.BedTool('../../output/oTF.bed').intersect(intslop).saveas().to_dataframe()"
   ]
  },
  {
   "cell_type": "code",
   "execution_count": 18,
   "metadata": {
    "collapsed": true
   },
   "outputs": [],
   "source": [
    "oTF_intersect.columns = ['chrom','start','end', 'motif_symbol','strand', 'pval','motif_FBgn']"
   ]
  },
  {
   "cell_type": "markdown",
   "metadata": {},
   "source": [
    "# flyFactor"
   ]
  },
  {
   "cell_type": "code",
   "execution_count": 34,
   "metadata": {
    "collapsed": true
   },
   "outputs": [],
   "source": [
    "table = []\n",
    "with open('../../motif-wf/data/fimo/motif_alignments_flyFactor_dm6.gff') as f:\n",
    "    for line in f: \n",
    "        if not line.startswith('##'):\n",
    "            broken = line.split('\\t')\n",
    "            pattern = broken[8].split(';')[3]\n",
    "            pval = float(broken[8].split(';')[2][7:])\n",
    "            qval = float(pattern[7:].strip())\n",
    "            TF = broken[8].split(';')[0][5:].split('_')[0]\n",
    "            start = broken[3]\n",
    "            end = broken[4]\n",
    "            chrom = broken[0]\n",
    "            strand = broken[6]\n",
    "            stuff = (chrom, start, end, TF, strand, pval, qval)\n",
    "            table.append(stuff)\n",
    "            \n",
    "new_df_fF= pd.DataFrame(table, columns=['chrom','start','end','name', 'strand', 'pvalue', 'qvalue'])"
   ]
  },
  {
   "cell_type": "code",
   "execution_count": 47,
   "metadata": {
    "collapsed": true
   },
   "outputs": [],
   "source": [
    "fF_df = new_df_fF[['chrom','start','end', 'name', 'strand','pvalue']]"
   ]
  },
  {
   "cell_type": "code",
   "execution_count": 63,
   "metadata": {
    "collapsed": true,
    "scrolled": true
   },
   "outputs": [],
   "source": [
    "#update fbgn and add symbol column\n",
    "fF_df['curr_fbgn'] = fF_df.apply(lambda x: fbgns[x['name']], axis=1)\n",
    "fF_df['symbol'] = fF_df.apply(lambda x: genes[x.curr_fbgn], axis=1)"
   ]
  },
  {
   "cell_type": "code",
   "execution_count": 66,
   "metadata": {
    "collapsed": true
   },
   "outputs": [],
   "source": [
    "fF_df[['chrom','start','end','symbol','strand','pvalue','curr_fbgn']].to_csv('../../output/fF.bed', sep='\\t', header=None, index=False)\n"
   ]
  },
  {
   "cell_type": "code",
   "execution_count": 19,
   "metadata": {
    "collapsed": true
   },
   "outputs": [],
   "source": [
    "fF_intersect = pybedtools.BedTool('../../output/fF.bed').intersect(intslop).saveas().to_dataframe()"
   ]
  },
  {
   "cell_type": "code",
   "execution_count": 20,
   "metadata": {
    "collapsed": true
   },
   "outputs": [],
   "source": [
    "fF_intersect.columns = ['chrom','start','end', 'motif_symbol','strand', 'pval','motif_FBgn']"
   ]
  },
  {
   "cell_type": "markdown",
   "metadata": {},
   "source": [
    "# Combine and drop dublicates: \n",
    "once I have all of these ``` <database>_frame``` s, do a concat. Then,\n",
    "- Combine fimo datasets from all motif databases.\n",
    "- Remove duplicate entries due to a TF being present in multiple databases."
   ]
  },
  {
   "cell_type": "code",
   "execution_count": 21,
   "metadata": {
    "collapsed": true
   },
   "outputs": [],
   "source": [
    "#combine intersected dfs from all databases\n",
    "concat = [dm_intersect, fR_intersect, oTF_intersect, idm_intersect, fF_intersect] \n",
    "alldatabases = pd.concat(concat)"
   ]
  },
  {
   "cell_type": "code",
   "execution_count": 25,
   "metadata": {},
   "outputs": [
    {
     "data": {
      "text/html": [
       "<div>\n",
       "<style>\n",
       "    .dataframe thead tr:only-child th {\n",
       "        text-align: right;\n",
       "    }\n",
       "\n",
       "    .dataframe thead th {\n",
       "        text-align: left;\n",
       "    }\n",
       "\n",
       "    .dataframe tbody tr th {\n",
       "        vertical-align: top;\n",
       "    }\n",
       "</style>\n",
       "<table border=\"1\" class=\"dataframe\">\n",
       "  <thead>\n",
       "    <tr style=\"text-align: right;\">\n",
       "      <th></th>\n",
       "      <th>chrom</th>\n",
       "      <th>start</th>\n",
       "      <th>end</th>\n",
       "      <th>motif_symbol</th>\n",
       "      <th>strand</th>\n",
       "      <th>pval</th>\n",
       "      <th>motif_FBgn</th>\n",
       "    </tr>\n",
       "  </thead>\n",
       "  <tbody>\n",
       "    <tr>\n",
       "      <th>0</th>\n",
       "      <td>chr2L</td>\n",
       "      <td>278605</td>\n",
       "      <td>278612</td>\n",
       "      <td>bcd</td>\n",
       "      <td>+</td>\n",
       "      <td>0.000014</td>\n",
       "      <td>FBgn0000166</td>\n",
       "    </tr>\n",
       "    <tr>\n",
       "      <th>1</th>\n",
       "      <td>chr2L</td>\n",
       "      <td>383877</td>\n",
       "      <td>383884</td>\n",
       "      <td>bcd</td>\n",
       "      <td>+</td>\n",
       "      <td>0.000014</td>\n",
       "      <td>FBgn0000166</td>\n",
       "    </tr>\n",
       "    <tr>\n",
       "      <th>2</th>\n",
       "      <td>chr2L</td>\n",
       "      <td>579770</td>\n",
       "      <td>579777</td>\n",
       "      <td>bcd</td>\n",
       "      <td>+</td>\n",
       "      <td>0.000014</td>\n",
       "      <td>FBgn0000166</td>\n",
       "    </tr>\n",
       "    <tr>\n",
       "      <th>3</th>\n",
       "      <td>chr2L</td>\n",
       "      <td>683479</td>\n",
       "      <td>683486</td>\n",
       "      <td>bcd</td>\n",
       "      <td>+</td>\n",
       "      <td>0.000014</td>\n",
       "      <td>FBgn0000166</td>\n",
       "    </tr>\n",
       "    <tr>\n",
       "      <th>4</th>\n",
       "      <td>chr2L</td>\n",
       "      <td>1222849</td>\n",
       "      <td>1222856</td>\n",
       "      <td>bcd</td>\n",
       "      <td>+</td>\n",
       "      <td>0.000014</td>\n",
       "      <td>FBgn0000166</td>\n",
       "    </tr>\n",
       "  </tbody>\n",
       "</table>\n",
       "</div>"
      ],
      "text/plain": [
       "   chrom    start      end motif_symbol strand      pval   motif_FBgn\n",
       "0  chr2L   278605   278612          bcd      +  0.000014  FBgn0000166\n",
       "1  chr2L   383877   383884          bcd      +  0.000014  FBgn0000166\n",
       "2  chr2L   579770   579777          bcd      +  0.000014  FBgn0000166\n",
       "3  chr2L   683479   683486          bcd      +  0.000014  FBgn0000166\n",
       "4  chr2L  1222849  1222856          bcd      +  0.000014  FBgn0000166"
      ]
     },
     "execution_count": 25,
     "metadata": {},
     "output_type": "execute_result"
    }
   ],
   "source": [
    "alldatabases.head()"
   ]
  },
  {
   "cell_type": "code",
   "execution_count": 71,
   "metadata": {
    "collapsed": true
   },
   "outputs": [],
   "source": [
    "alldata = pybedtools.BedTool.from_dataframe(alldatabases[['chrom','start','end','motif_symbol','pval','strand','motif_FBgn']]).saveas('../../output/alldatabases.bed')"
   ]
  },
  {
   "cell_type": "code",
   "execution_count": 28,
   "metadata": {
    "collapsed": true
   },
   "outputs": [],
   "source": [
    "#alldata = pybedtools.BedTool('../../output/alldatabases.bed')"
   ]
  },
  {
   "cell_type": "code",
   "execution_count": 26,
   "metadata": {
    "collapsed": true
   },
   "outputs": [],
   "source": [
    "alldatabases.dropna(how='all', inplace=True)"
   ]
  },
  {
   "cell_type": "code",
   "execution_count": 27,
   "metadata": {},
   "outputs": [
    {
     "data": {
      "text/plain": [
       "(23647165, 7)"
      ]
     },
     "execution_count": 27,
     "metadata": {},
     "output_type": "execute_result"
    }
   ],
   "source": [
    "alldatabases.shape"
   ]
  },
  {
   "cell_type": "code",
   "execution_count": 29,
   "metadata": {},
   "outputs": [
    {
     "data": {
      "text/plain": [
       "array(['br-Z1', 'br-Z3', 'br-Z4', 'BEAF-32B', 'br-Z2', 'Cf2-II', 'dsx-F',\n",
       "       'dsx-M', 'Espl', 'His2B', 'HLHm5', 'p120', 'SuH', 'suHw'], dtype=object)"
      ]
     },
     "execution_count": 29,
     "metadata": {},
     "output_type": "execute_result"
    }
   ],
   "source": [
    "alldatabases[alldatabases.motif_FBgn.isnull()].motif_symbol.unique()"
   ]
  },
  {
   "cell_type": "code",
   "execution_count": 30,
   "metadata": {
    "collapsed": true
   },
   "outputs": [],
   "source": [
    "alldatabases['motif_FBgn'] = alldatabases['motif_FBgn'].fillna('.')"
   ]
  },
  {
   "cell_type": "code",
   "execution_count": 43,
   "metadata": {
    "collapsed": true
   },
   "outputs": [],
   "source": [
    "#iterate through transciption factors and do the merge on each\n",
    "done = []\n",
    "done_symbol = []\n",
    "for name, group in alldatabases.groupby(['motif_FBgn']):\n",
    "    if name not in done: \n",
    "        done.append(name)\n",
    "        if name is '.': \n",
    "            for x in group.motif_symbol:\n",
    "                if x not in done_symbol: \n",
    "                    done_symbol.append(x)\n",
    "                    if x == x: \n",
    "                        df = alldatabases[alldatabases.motif_symbol == x]\n",
    "                    else:\n",
    "                        extra = alldatabases[alldatabases.motif_FBgn == '.']\n",
    "                        df = extra[extra.motif_symbol.isnull()]\n",
    "                    bed = pybedtools.BedTool.from_dataframe(df)\n",
    "                    merge = bed.sort().merge(c=[6,4,7], o=['min','distinct','distinct']).to_dataframe()\n",
    "                    merge.to_csv('../../output/tf_merge.bed', sep='\\t', header=None, index=False, mode='a')\n",
    "        else:   \n",
    "            df = alldatabases[alldatabases.motif_FBgn == name]\n",
    "            bed = pybedtools.BedTool.from_dataframe(df)\n",
    "            merge = bed.sort().merge(c=[6,4,7], o=['min','distinct','distinct']).to_dataframe()\n",
    "            merge.to_csv('../../output/tf_merge.bed', sep='\\t', header=None, index=False, mode='a')"
   ]
  },
  {
   "cell_type": "code",
   "execution_count": 44,
   "metadata": {},
   "outputs": [
    {
     "data": {
      "text/plain": [
       "325"
      ]
     },
     "execution_count": 44,
     "metadata": {},
     "output_type": "execute_result"
    }
   ],
   "source": [
    "len(done)"
   ]
  },
  {
   "cell_type": "code",
   "execution_count": 45,
   "metadata": {
    "scrolled": true
   },
   "outputs": [
    {
     "data": {
      "text/plain": [
       "325"
      ]
     },
     "execution_count": 45,
     "metadata": {},
     "output_type": "execute_result"
    }
   ],
   "source": [
    "len(alldatabases.motif_FBgn.unique())"
   ]
  },
  {
   "cell_type": "markdown",
   "metadata": {},
   "source": [
    "# pvalue correction! \n",
    "\n",
    "Calculate FDR/BF on fimo p-values"
   ]
  },
  {
   "cell_type": "code",
   "execution_count": 46,
   "metadata": {},
   "outputs": [
    {
     "data": {
      "text/html": [
       "<div>\n",
       "<style>\n",
       "    .dataframe thead tr:only-child th {\n",
       "        text-align: right;\n",
       "    }\n",
       "\n",
       "    .dataframe thead th {\n",
       "        text-align: left;\n",
       "    }\n",
       "\n",
       "    .dataframe tbody tr th {\n",
       "        vertical-align: top;\n",
       "    }\n",
       "</style>\n",
       "<table border=\"1\" class=\"dataframe\">\n",
       "  <thead>\n",
       "    <tr style=\"text-align: right;\">\n",
       "      <th></th>\n",
       "      <th>chrom</th>\n",
       "      <th>start</th>\n",
       "      <th>end</th>\n",
       "      <th>pval</th>\n",
       "      <th>motif_symbol</th>\n",
       "      <th>motif_FBgn</th>\n",
       "    </tr>\n",
       "  </thead>\n",
       "  <tbody>\n",
       "    <tr>\n",
       "      <th>0</th>\n",
       "      <td>chr2L</td>\n",
       "      <td>6782</td>\n",
       "      <td>6789</td>\n",
       "      <td>0.000036</td>\n",
       "      <td>br-Z1</td>\n",
       "      <td>.</td>\n",
       "    </tr>\n",
       "    <tr>\n",
       "      <th>1</th>\n",
       "      <td>chr2L</td>\n",
       "      <td>17019</td>\n",
       "      <td>17026</td>\n",
       "      <td>0.000036</td>\n",
       "      <td>br-Z1</td>\n",
       "      <td>.</td>\n",
       "    </tr>\n",
       "    <tr>\n",
       "      <th>2</th>\n",
       "      <td>chr2L</td>\n",
       "      <td>19846</td>\n",
       "      <td>19853</td>\n",
       "      <td>0.000036</td>\n",
       "      <td>br-Z1</td>\n",
       "      <td>.</td>\n",
       "    </tr>\n",
       "    <tr>\n",
       "      <th>3</th>\n",
       "      <td>chr2L</td>\n",
       "      <td>29403</td>\n",
       "      <td>29410</td>\n",
       "      <td>0.000036</td>\n",
       "      <td>br-Z1</td>\n",
       "      <td>.</td>\n",
       "    </tr>\n",
       "    <tr>\n",
       "      <th>4</th>\n",
       "      <td>chr2L</td>\n",
       "      <td>30047</td>\n",
       "      <td>30054</td>\n",
       "      <td>0.000036</td>\n",
       "      <td>br-Z1</td>\n",
       "      <td>.</td>\n",
       "    </tr>\n",
       "  </tbody>\n",
       "</table>\n",
       "</div>"
      ],
      "text/plain": [
       "   chrom  start    end      pval motif_symbol motif_FBgn\n",
       "0  chr2L   6782   6789  0.000036        br-Z1          .\n",
       "1  chr2L  17019  17026  0.000036        br-Z1          .\n",
       "2  chr2L  19846  19853  0.000036        br-Z1          .\n",
       "3  chr2L  29403  29410  0.000036        br-Z1          .\n",
       "4  chr2L  30047  30054  0.000036        br-Z1          ."
      ]
     },
     "execution_count": 46,
     "metadata": {},
     "output_type": "execute_result"
    }
   ],
   "source": [
    "merged_data = pd.read_table('../../output/tf_merge.bed', header=None, names=['chrom', 'start','end','pval','motif_symbol','motif_FBgn'])\n",
    "merged_data.head()"
   ]
  },
  {
   "cell_type": "code",
   "execution_count": 47,
   "metadata": {
    "collapsed": true
   },
   "outputs": [],
   "source": [
    "merged_data['motif_symbol'] = merged_data['motif_symbol'].fillna('.')"
   ]
  },
  {
   "cell_type": "code",
   "execution_count": 48,
   "metadata": {
    "scrolled": false
   },
   "outputs": [
    {
     "data": {
      "text/html": [
       "<div>\n",
       "<style>\n",
       "    .dataframe thead tr:only-child th {\n",
       "        text-align: right;\n",
       "    }\n",
       "\n",
       "    .dataframe thead th {\n",
       "        text-align: left;\n",
       "    }\n",
       "\n",
       "    .dataframe tbody tr th {\n",
       "        vertical-align: top;\n",
       "    }\n",
       "</style>\n",
       "<table border=\"1\" class=\"dataframe\">\n",
       "  <thead>\n",
       "    <tr>\n",
       "      <th></th>\n",
       "      <th>start</th>\n",
       "    </tr>\n",
       "    <tr>\n",
       "      <th></th>\n",
       "      <th>count</th>\n",
       "    </tr>\n",
       "  </thead>\n",
       "  <tbody>\n",
       "    <tr>\n",
       "      <th>count</th>\n",
       "      <td>339.000000</td>\n",
       "    </tr>\n",
       "    <tr>\n",
       "      <th>mean</th>\n",
       "      <td>31130.200590</td>\n",
       "    </tr>\n",
       "    <tr>\n",
       "      <th>std</th>\n",
       "      <td>26223.012666</td>\n",
       "    </tr>\n",
       "    <tr>\n",
       "      <th>min</th>\n",
       "      <td>2623.000000</td>\n",
       "    </tr>\n",
       "    <tr>\n",
       "      <th>25%</th>\n",
       "      <td>15960.000000</td>\n",
       "    </tr>\n",
       "    <tr>\n",
       "      <th>50%</th>\n",
       "      <td>24541.000000</td>\n",
       "    </tr>\n",
       "    <tr>\n",
       "      <th>75%</th>\n",
       "      <td>39175.500000</td>\n",
       "    </tr>\n",
       "    <tr>\n",
       "      <th>max</th>\n",
       "      <td>302140.000000</td>\n",
       "    </tr>\n",
       "  </tbody>\n",
       "</table>\n",
       "</div>"
      ],
      "text/plain": [
       "               start\n",
       "               count\n",
       "count     339.000000\n",
       "mean    31130.200590\n",
       "std     26223.012666\n",
       "min      2623.000000\n",
       "25%     15960.000000\n",
       "50%     24541.000000\n",
       "75%     39175.500000\n",
       "max    302140.000000"
      ]
     },
     "execution_count": 48,
     "metadata": {},
     "output_type": "execute_result"
    }
   ],
   "source": [
    "#How many motif sites are there per TF?\n",
    "merged_data.groupby(['motif_FBgn', 'motif_symbol']).agg({'start':['count']}).describe()"
   ]
  },
  {
   "cell_type": "markdown",
   "metadata": {},
   "source": [
    "Running the pvalue correction on the whole dataset: \n",
    "(I think we've decided not to use this method, but just in case here it is)"
   ]
  },
  {
   "cell_type": "code",
   "execution_count": 49,
   "metadata": {
    "collapsed": true
   },
   "outputs": [],
   "source": [
    "#module can be weird depending on if I run in biowulf or my comp\n",
    "#Biowulf: \n",
    "#pvals_c = statsmodels.sandbox.stats.multicomp.multipletests(less_big.pval, alpha=.01, method='fdr_bh')[1]\n",
    "#think this way works for both:  \n",
    "pvals_c = sm.stats.multipletests(merged_data.pval.values, alpha=.01, method='fdr_bh')[1]\n",
    "merged_data_copy = merged_data.copy()\n",
    "merged_data_copy['FDR'] = list(pvals_c)"
   ]
  },
  {
   "cell_type": "code",
   "execution_count": 50,
   "metadata": {
    "collapsed": true
   },
   "outputs": [],
   "source": [
    "reject = sm.stats.multipletests(merged_data.pval.values, alpha=.01, method='fdr_bh')[0]"
   ]
  },
  {
   "cell_type": "code",
   "execution_count": 51,
   "metadata": {},
   "outputs": [
    {
     "data": {
      "text/plain": [
       "<matplotlib.axes._subplots.AxesSubplot at 0x2aae8e50f6d8>"
      ]
     },
     "execution_count": 51,
     "metadata": {},
     "output_type": "execute_result"
    },
    {
     "data": {
      "image/png": "[encoded data removed]",
      "text/plain": [
       "<matplotlib.figure.Figure at 0x2aadf92b39e8>"
      ]
     },
     "metadata": {},
     "output_type": "display_data"
    }
   ],
   "source": [
    "sb.distplot(pvals_c)"
   ]
  },
  {
   "cell_type": "code",
   "execution_count": 53,
   "metadata": {
    "collapsed": true
   },
   "outputs": [],
   "source": [
    "bonferonni = sm.stats.multipletests(merged_data.pval.values, alpha=.01, method='bonferroni')"
   ]
  },
  {
   "cell_type": "code",
   "execution_count": 54,
   "metadata": {
    "scrolled": true
   },
   "outputs": [
    {
     "data": {
      "text/plain": [
       "<matplotlib.axes._subplots.AxesSubplot at 0x2aab9a97fb70>"
      ]
     },
     "execution_count": 54,
     "metadata": {},
     "output_type": "execute_result"
    },
    {
     "data": {
      "image/png": "[encoded data removed]",
      "text/plain": [
       "<matplotlib.figure.Figure at 0x2aae08c51ef0>"
      ]
     },
     "metadata": {},
     "output_type": "display_data"
    }
   ],
   "source": [
    "sb.distplot(bonferonni[1])"
   ]
  },
  {
   "cell_type": "code",
   "execution_count": 55,
   "metadata": {},
   "outputs": [
    {
     "data": {
      "text/plain": [
       "<matplotlib.axes._subplots.AxesSubplot at 0x2aad4c91fc18>"
      ]
     },
     "execution_count": 55,
     "metadata": {},
     "output_type": "execute_result"
    },
    {
     "data": {
      "image/png": "[encoded data removed]",
      "text/plain": [
       "<matplotlib.figure.Figure at 0x2aaed4c97b38>"
      ]
     },
     "metadata": {},
     "output_type": "display_data"
    }
   ],
   "source": [
    "sb.distplot(bonferonni[1][bonferonni[0]])"
   ]
  },
  {
   "cell_type": "code",
   "execution_count": 56,
   "metadata": {
    "collapsed": true
   },
   "outputs": [],
   "source": [
    "#Calc FDR/BF by TF: \n",
    "alldone = []\n",
    "for name, group in merged_data.groupby(['motif_FBgn', 'motif_symbol']):\n",
    "    if name not in alldone: \n",
    "        alldone.append(name)\n",
    "        df = merged_data[(merged_data.motif_FBgn == name[0]) & (merged_data.motif_symbol == name[1])]\n",
    "        fdr = sm.stats.multipletests(df.pval.values, alpha=1e-4, method='fdr_bh')\n",
    "        bonf = sm.stats.multipletests(df.pval.values, alpha=1e-4, method='bonferroni')\n",
    "        df_copy = df.copy()\n",
    "        df_copy['FDR'] = list(fdr[1])\n",
    "        df_copy['FDR_sig'] = list(fdr[0])\n",
    "        df_copy['BF'] = list(bonf[1])\n",
    "        df_copy['BF_sig'] = list(fdr[0])\n",
    "        df_copy.to_csv('../../output/pval_correction', sep='\\t', header=None, index=False, mode='a')"
   ]
  },
  {
   "cell_type": "code",
   "execution_count": 2,
   "metadata": {},
   "outputs": [
    {
     "data": {
      "text/html": [
       "<div>\n",
       "<style>\n",
       "    .dataframe thead tr:only-child th {\n",
       "        text-align: right;\n",
       "    }\n",
       "\n",
       "    .dataframe thead th {\n",
       "        text-align: left;\n",
       "    }\n",
       "\n",
       "    .dataframe tbody tr th {\n",
       "        vertical-align: top;\n",
       "    }\n",
       "</style>\n",
       "<table border=\"1\" class=\"dataframe\">\n",
       "  <thead>\n",
       "    <tr style=\"text-align: right;\">\n",
       "      <th></th>\n",
       "      <th>chrom</th>\n",
       "      <th>start</th>\n",
       "      <th>end</th>\n",
       "      <th>pval</th>\n",
       "      <th>motif_symbol</th>\n",
       "      <th>motif_FBgn</th>\n",
       "      <th>FDR</th>\n",
       "      <th>FDR_sig</th>\n",
       "      <th>BF</th>\n",
       "      <th>BF_sig</th>\n",
       "    </tr>\n",
       "  </thead>\n",
       "  <tbody>\n",
       "    <tr>\n",
       "      <th>0</th>\n",
       "      <td>chr2L</td>\n",
       "      <td>51600</td>\n",
       "      <td>51607</td>\n",
       "      <td>0.000052</td>\n",
       "      <td>BEAF-32B</td>\n",
       "      <td>.</td>\n",
       "      <td>0.000078</td>\n",
       "      <td>True</td>\n",
       "      <td>0.295466</td>\n",
       "      <td>True</td>\n",
       "    </tr>\n",
       "    <tr>\n",
       "      <th>1</th>\n",
       "      <td>chr2L</td>\n",
       "      <td>62714</td>\n",
       "      <td>62721</td>\n",
       "      <td>0.000078</td>\n",
       "      <td>BEAF-32B</td>\n",
       "      <td>.</td>\n",
       "      <td>0.000078</td>\n",
       "      <td>True</td>\n",
       "      <td>0.445770</td>\n",
       "      <td>True</td>\n",
       "    </tr>\n",
       "    <tr>\n",
       "      <th>2</th>\n",
       "      <td>chr2L</td>\n",
       "      <td>109803</td>\n",
       "      <td>109810</td>\n",
       "      <td>0.000052</td>\n",
       "      <td>BEAF-32B</td>\n",
       "      <td>.</td>\n",
       "      <td>0.000078</td>\n",
       "      <td>True</td>\n",
       "      <td>0.295466</td>\n",
       "      <td>True</td>\n",
       "    </tr>\n",
       "    <tr>\n",
       "      <th>3</th>\n",
       "      <td>chr2L</td>\n",
       "      <td>111863</td>\n",
       "      <td>111870</td>\n",
       "      <td>0.000078</td>\n",
       "      <td>BEAF-32B</td>\n",
       "      <td>.</td>\n",
       "      <td>0.000078</td>\n",
       "      <td>True</td>\n",
       "      <td>0.445770</td>\n",
       "      <td>True</td>\n",
       "    </tr>\n",
       "    <tr>\n",
       "      <th>4</th>\n",
       "      <td>chr2L</td>\n",
       "      <td>187464</td>\n",
       "      <td>187471</td>\n",
       "      <td>0.000078</td>\n",
       "      <td>BEAF-32B</td>\n",
       "      <td>.</td>\n",
       "      <td>0.000078</td>\n",
       "      <td>True</td>\n",
       "      <td>0.445770</td>\n",
       "      <td>True</td>\n",
       "    </tr>\n",
       "  </tbody>\n",
       "</table>\n",
       "</div>"
      ],
      "text/plain": [
       "   chrom   start     end      pval motif_symbol motif_FBgn       FDR  FDR_sig  \\\n",
       "0  chr2L   51600   51607  0.000052     BEAF-32B          .  0.000078     True   \n",
       "1  chr2L   62714   62721  0.000078     BEAF-32B          .  0.000078     True   \n",
       "2  chr2L  109803  109810  0.000052     BEAF-32B          .  0.000078     True   \n",
       "3  chr2L  111863  111870  0.000078     BEAF-32B          .  0.000078     True   \n",
       "4  chr2L  187464  187471  0.000078     BEAF-32B          .  0.000078     True   \n",
       "\n",
       "         BF  BF_sig  \n",
       "0  0.295466    True  \n",
       "1  0.445770    True  \n",
       "2  0.295466    True  \n",
       "3  0.445770    True  \n",
       "4  0.445770    True  "
      ]
     },
     "execution_count": 2,
     "metadata": {},
     "output_type": "execute_result"
    }
   ],
   "source": [
    "pvalcorrection = pd.read_table('../../output/pval_correction', header=None, names=['chrom', 'start','end','pval','motif_symbol','motif_FBgn', 'FDR','FDR_sig','BF', 'BF_sig'])\n",
    "pvalcorrection.head()"
   ]
  },
  {
   "cell_type": "code",
   "execution_count": 3,
   "metadata": {},
   "outputs": [
    {
     "data": {
      "text/plain": [
       "count    1.055314e+07\n",
       "mean     8.199635e-05\n",
       "std      1.943985e-05\n",
       "min      1.128498e-08\n",
       "25%      7.380061e-05\n",
       "50%      8.870000e-05\n",
       "75%      9.645561e-05\n",
       "max      1.000000e-04\n",
       "Name: FDR, dtype: float64"
      ]
     },
     "execution_count": 3,
     "metadata": {},
     "output_type": "execute_result"
    }
   ],
   "source": [
    "pvalcorrection.FDR.describe()"
   ]
  },
  {
   "cell_type": "code",
   "execution_count": 4,
   "metadata": {},
   "outputs": [
    {
     "data": {
      "text/plain": [
       "<matplotlib.axes._subplots.AxesSubplot at 0x2aab2edc28d0>"
      ]
     },
     "execution_count": 4,
     "metadata": {},
     "output_type": "execute_result"
    },
    {
     "data": {
      "image/png": "[encoded data removed]",
      "text/plain": [
       "<matplotlib.figure.Figure at 0x2aab2e7a6630>"
      ]
     },
     "metadata": {},
     "output_type": "display_data"
    }
   ],
   "source": [
    "sb.distplot(pvalcorrection.FDR)"
   ]
  },
  {
   "cell_type": "code",
   "execution_count": 60,
   "metadata": {},
   "outputs": [
    {
     "data": {
      "text/plain": [
       "<matplotlib.axes._subplots.AxesSubplot at 0x2aad4cac7dd8>"
      ]
     },
     "execution_count": 60,
     "metadata": {},
     "output_type": "execute_result"
    },
    {
     "data": {
      "image/png": "[encoded data removed]",
      "text/plain": [
       "<matplotlib.figure.Figure at 0x2aada4f6ebe0>"
      ]
     },
     "metadata": {},
     "output_type": "display_data"
    }
   ],
   "source": [
    "sb.distplot(pvalcorrection.FDR[pvalcorrection.FDR_sig])"
   ]
  },
  {
   "cell_type": "code",
   "execution_count": 61,
   "metadata": {
    "scrolled": true
   },
   "outputs": [
    {
     "data": {
      "text/plain": [
       "<matplotlib.axes._subplots.AxesSubplot at 0x2aadf2e25a90>"
      ]
     },
     "execution_count": 61,
     "metadata": {},
     "output_type": "execute_result"
    },
    {
     "data": {
      "image/png": "[encoded data removed]",
      "text/plain": [
       "<matplotlib.figure.Figure at 0x2aadf2e46d68>"
      ]
     },
     "metadata": {},
     "output_type": "display_data"
    }
   ],
   "source": [
    "sb.distplot(pvalcorrection.BF)"
   ]
  },
  {
   "cell_type": "code",
   "execution_count": 62,
   "metadata": {},
   "outputs": [
    {
     "data": {
      "text/plain": [
       "<matplotlib.axes._subplots.AxesSubplot at 0x2aad9feab320>"
      ]
     },
     "execution_count": 62,
     "metadata": {},
     "output_type": "execute_result"
    },
    {
     "data": {
      "image/png": "[encoded data removed]",
      "text/plain": [
       "<matplotlib.figure.Figure at 0x2aadb90584a8>"
      ]
     },
     "metadata": {},
     "output_type": "display_data"
    }
   ],
   "source": [
    "sb.distplot(pvalcorrection.BF[pvalcorrection.BF_sig])"
   ]
  },
  {
   "cell_type": "code",
   "execution_count": 63,
   "metadata": {},
   "outputs": [
    {
     "data": {
      "text/plain": [
       "count    1.055314e+07\n",
       "mean     8.367928e-01\n",
       "std      2.875418e-01\n",
       "min      2.785180e-08\n",
       "25%      7.648720e-01\n",
       "50%      1.000000e+00\n",
       "75%      1.000000e+00\n",
       "max      1.000000e+00\n",
       "Name: BF, dtype: float64"
      ]
     },
     "execution_count": 63,
     "metadata": {},
     "output_type": "execute_result"
    }
   ],
   "source": [
    "pvalcorrection.BF.describe()"
   ]
  },
  {
   "cell_type": "markdown",
   "metadata": {},
   "source": [
    "### Intersect to gain target gene information: "
   ]
  },
  {
   "cell_type": "code",
   "execution_count": 5,
   "metadata": {
    "collapsed": true
   },
   "outputs": [],
   "source": [
    "#put dataframe in bed format (this is unreal slow)\n",
    "pvalc_bed = pybedtools.BedTool.from_dataframe(pvalcorrection)"
   ]
  },
  {
   "cell_type": "code",
   "execution_count": 6,
   "metadata": {
    "collapsed": true
   },
   "outputs": [],
   "source": [
    "gene_info = pybedtools.BedTool('../../output/dm6_genes.gtf')"
   ]
  },
  {
   "cell_type": "code",
   "execution_count": 7,
   "metadata": {},
   "outputs": [
    {
     "name": "stderr",
     "output_type": "stream",
     "text": [
      "/data/bergeric/miniconda3/envs/s2rnai/lib/python3.5/site-packages/pybedtools/bedtool.py:3287: UserWarning: Default names for filetype bed are:\n",
      "['chrom', 'start', 'end', 'name', 'score', 'strand', 'thickStart', 'thickEnd', 'itemRgb', 'blockCount', 'blockSizes', 'blockStarts']\n",
      "but file has 19 fields; you can supply custom names with the `names` kwarg\n",
      "  % (self.file_type, _names, self.field_count()))\n"
     ]
    }
   ],
   "source": [
    "bigintersect = pvalc_bed.intersect(gene_info, wb=True).saveas().to_dataframe()"
   ]
  },
  {
   "cell_type": "code",
   "execution_count": 8,
   "metadata": {
    "collapsed": true
   },
   "outputs": [],
   "source": [
    "trim = bigintersect[[0,1,2,3,4,5,6,7,8,9,18]]"
   ]
  },
  {
   "cell_type": "code",
   "execution_count": 9,
   "metadata": {
    "collapsed": true
   },
   "outputs": [],
   "source": [
    "trim.columns = ['chrom', 'start','end','pval','motif_symbol','motif_FBgn', 'FDR','FDR_sig','BF', 'BF_sig', 'gene_info']"
   ]
  },
  {
   "cell_type": "code",
   "execution_count": 10,
   "metadata": {},
   "outputs": [
    {
     "name": "stderr",
     "output_type": "stream",
     "text": [
      "/data/bergeric/miniconda3/envs/s2rnai/lib/python3.5/site-packages/ipykernel/__main__.py:1: SettingWithCopyWarning: \n",
      "A value is trying to be set on a copy of a slice from a DataFrame.\n",
      "Try using .loc[row_indexer,col_indexer] = value instead\n",
      "\n",
      "See the caveats in the documentation: http://pandas.pydata.org/pandas-docs/stable/indexing.html#indexing-view-versus-copy\n",
      "  if __name__ == '__main__':\n",
      "/data/bergeric/miniconda3/envs/s2rnai/lib/python3.5/site-packages/ipykernel/__main__.py:2: SettingWithCopyWarning: \n",
      "A value is trying to be set on a copy of a slice from a DataFrame.\n",
      "Try using .loc[row_indexer,col_indexer] = value instead\n",
      "\n",
      "See the caveats in the documentation: http://pandas.pydata.org/pandas-docs/stable/indexing.html#indexing-view-versus-copy\n",
      "  from ipykernel import kernelapp as app\n"
     ]
    }
   ],
   "source": [
    "trim['gene_symbol'] = [x.split(';')[0].split()[1].strip('\\\"') for x in trim.gene_info]\n",
    "trim['gene_FBgn'] = [x.split(';')[1].split()[1].strip('\\\"') for x in trim.gene_info]"
   ]
  },
  {
   "cell_type": "code",
   "execution_count": 11,
   "metadata": {
    "collapsed": true
   },
   "outputs": [],
   "source": [
    "data_wgene = trim[['chrom', 'start', 'end', 'pval', 'motif_symbol', 'motif_FBgn','gene_symbol', 'gene_FBgn', 'FDR',\n",
    "       'FDR_sig', 'BF', 'BF_sig']]"
   ]
  },
  {
   "cell_type": "code",
   "execution_count": 12,
   "metadata": {},
   "outputs": [
    {
     "data": {
      "text/plain": [
       "(9433345, 12)"
      ]
     },
     "execution_count": 12,
     "metadata": {},
     "output_type": "execute_result"
    }
   ],
   "source": [
    "data_wgene.shape"
   ]
  },
  {
   "cell_type": "markdown",
   "metadata": {},
   "source": [
    "### filter out the \"insignificant\" pvalues, keep just the significant BF\n",
    "- if alpha is decreased more we lose too many motifs, but right now they all pass the filter \n",
    "- will most likely keep all for the \"liberal\" matrix, unless there are too many genes included"
   ]
  },
  {
   "cell_type": "code",
   "execution_count": 13,
   "metadata": {},
   "outputs": [
    {
     "data": {
      "text/plain": [
       "325"
      ]
     },
     "execution_count": 13,
     "metadata": {},
     "output_type": "execute_result"
    }
   ],
   "source": [
    "filtered = data_wgene[data_wgene.BF_sig == True]\n",
    "len(filtered.motif_FBgn.unique())"
   ]
  },
  {
   "cell_type": "code",
   "execution_count": 14,
   "metadata": {},
   "outputs": [
    {
     "data": {
      "text/plain": [
       "<matplotlib.axes._subplots.AxesSubplot at 0x2aabcc985748>"
      ]
     },
     "execution_count": 14,
     "metadata": {},
     "output_type": "execute_result"
    },
    {
     "data": {
      "image/png": "[encoded data removed]",
      "text/plain": [
       "<matplotlib.figure.Figure at 0x2aab355beac8>"
      ]
     },
     "metadata": {},
     "output_type": "display_data"
    }
   ],
   "source": [
    "sb.distplot(filtered.groupby(['motif_FBgn', 'motif_symbol','gene_FBgn','gene_symbol']).count().groupby(level=0).count().chrom)"
   ]
  },
  {
   "cell_type": "code",
   "execution_count": 75,
   "metadata": {
    "collapsed": true
   },
   "outputs": [],
   "source": [
    "bob = filtered.groupby(['motif_FBgn', 'motif_symbol','gene_FBgn','gene_symbol']).count().groupby(level=0).count()"
   ]
  },
  {
   "cell_type": "code",
   "execution_count": 76,
   "metadata": {},
   "outputs": [
    {
     "data": {
      "text/html": [
       "<div>\n",
       "<style>\n",
       "    .dataframe thead tr:only-child th {\n",
       "        text-align: right;\n",
       "    }\n",
       "\n",
       "    .dataframe thead th {\n",
       "        text-align: left;\n",
       "    }\n",
       "\n",
       "    .dataframe tbody tr th {\n",
       "        vertical-align: top;\n",
       "    }\n",
       "</style>\n",
       "<table border=\"1\" class=\"dataframe\">\n",
       "  <thead>\n",
       "    <tr style=\"text-align: right;\">\n",
       "      <th></th>\n",
       "      <th>chrom</th>\n",
       "      <th>start</th>\n",
       "      <th>end</th>\n",
       "      <th>pval</th>\n",
       "      <th>FDR</th>\n",
       "      <th>FDR_sig</th>\n",
       "      <th>BF</th>\n",
       "      <th>BF_sig</th>\n",
       "    </tr>\n",
       "    <tr>\n",
       "      <th>motif_FBgn</th>\n",
       "      <th></th>\n",
       "      <th></th>\n",
       "      <th></th>\n",
       "      <th></th>\n",
       "      <th></th>\n",
       "      <th></th>\n",
       "      <th></th>\n",
       "      <th></th>\n",
       "    </tr>\n",
       "  </thead>\n",
       "  <tbody>\n",
       "    <tr>\n",
       "      <th>.</th>\n",
       "      <td>44825</td>\n",
       "      <td>44825</td>\n",
       "      <td>44825</td>\n",
       "      <td>44825</td>\n",
       "      <td>44825</td>\n",
       "      <td>44825</td>\n",
       "      <td>44825</td>\n",
       "      <td>44825</td>\n",
       "    </tr>\n",
       "    <tr>\n",
       "      <th>FBgn0000014</th>\n",
       "      <td>6030</td>\n",
       "      <td>6030</td>\n",
       "      <td>6030</td>\n",
       "      <td>6030</td>\n",
       "      <td>6030</td>\n",
       "      <td>6030</td>\n",
       "      <td>6030</td>\n",
       "      <td>6030</td>\n",
       "    </tr>\n",
       "    <tr>\n",
       "      <th>FBgn0000015</th>\n",
       "      <td>5250</td>\n",
       "      <td>5250</td>\n",
       "      <td>5250</td>\n",
       "      <td>5250</td>\n",
       "      <td>5250</td>\n",
       "      <td>5250</td>\n",
       "      <td>5250</td>\n",
       "      <td>5250</td>\n",
       "    </tr>\n",
       "    <tr>\n",
       "      <th>FBgn0000022</th>\n",
       "      <td>4016</td>\n",
       "      <td>4016</td>\n",
       "      <td>4016</td>\n",
       "      <td>4016</td>\n",
       "      <td>4016</td>\n",
       "      <td>4016</td>\n",
       "      <td>4016</td>\n",
       "      <td>4016</td>\n",
       "    </tr>\n",
       "    <tr>\n",
       "      <th>FBgn0000028</th>\n",
       "      <td>3828</td>\n",
       "      <td>3828</td>\n",
       "      <td>3828</td>\n",
       "      <td>3828</td>\n",
       "      <td>3828</td>\n",
       "      <td>3828</td>\n",
       "      <td>3828</td>\n",
       "      <td>3828</td>\n",
       "    </tr>\n",
       "  </tbody>\n",
       "</table>\n",
       "</div>"
      ],
      "text/plain": [
       "             chrom  start    end   pval    FDR  FDR_sig     BF  BF_sig\n",
       "motif_FBgn                                                            \n",
       ".            44825  44825  44825  44825  44825    44825  44825   44825\n",
       "FBgn0000014   6030   6030   6030   6030   6030     6030   6030    6030\n",
       "FBgn0000015   5250   5250   5250   5250   5250     5250   5250    5250\n",
       "FBgn0000022   4016   4016   4016   4016   4016     4016   4016    4016\n",
       "FBgn0000028   3828   3828   3828   3828   3828     3828   3828    3828"
      ]
     },
     "execution_count": 76,
     "metadata": {},
     "output_type": "execute_result"
    }
   ],
   "source": [
    "bob.head()"
   ]
  },
  {
   "cell_type": "code",
   "execution_count": 77,
   "metadata": {},
   "outputs": [
    {
     "data": {
      "text/html": [
       "<div>\n",
       "<style>\n",
       "    .dataframe thead tr:only-child th {\n",
       "        text-align: right;\n",
       "    }\n",
       "\n",
       "    .dataframe thead th {\n",
       "        text-align: left;\n",
       "    }\n",
       "\n",
       "    .dataframe tbody tr th {\n",
       "        vertical-align: top;\n",
       "    }\n",
       "</style>\n",
       "<table border=\"1\" class=\"dataframe\">\n",
       "  <thead>\n",
       "    <tr style=\"text-align: right;\">\n",
       "      <th></th>\n",
       "      <th>motif_FBgn</th>\n",
       "      <th>chrom</th>\n",
       "      <th>start</th>\n",
       "      <th>end</th>\n",
       "      <th>pval</th>\n",
       "      <th>FDR</th>\n",
       "      <th>FDR_sig</th>\n",
       "      <th>BF</th>\n",
       "      <th>BF_sig</th>\n",
       "    </tr>\n",
       "  </thead>\n",
       "  <tbody>\n",
       "    <tr>\n",
       "      <th>21</th>\n",
       "      <td>FBgn0000504</td>\n",
       "      <td>3838</td>\n",
       "      <td>3838</td>\n",
       "      <td>3838</td>\n",
       "      <td>3838</td>\n",
       "      <td>3838</td>\n",
       "      <td>3838</td>\n",
       "      <td>3838</td>\n",
       "      <td>3838</td>\n",
       "    </tr>\n",
       "  </tbody>\n",
       "</table>\n",
       "</div>"
      ],
      "text/plain": [
       "     motif_FBgn  chrom  start   end  pval   FDR  FDR_sig    BF  BF_sig\n",
       "21  FBgn0000504   3838   3838  3838  3838  3838     3838  3838    3838"
      ]
     },
     "execution_count": 77,
     "metadata": {},
     "output_type": "execute_result"
    }
   ],
   "source": [
    "bob.reset_index()[bob.reset_index().motif_FBgn == 'FBgn0000504']"
   ]
  },
  {
   "cell_type": "code",
   "execution_count": 15,
   "metadata": {
    "collapsed": true
   },
   "outputs": [],
   "source": [
    "#need for (TF,gene) min pval, mean, count \n",
    "grp_agg = filtered.groupby(['motif_FBgn', 'motif_symbol','gene_FBgn','gene_symbol']).agg({'BF':['min','mean','count']})"
   ]
  },
  {
   "cell_type": "code",
   "execution_count": 16,
   "metadata": {},
   "outputs": [
    {
     "data": {
      "text/html": [
       "<div>\n",
       "<style>\n",
       "    .dataframe thead tr:only-child th {\n",
       "        text-align: right;\n",
       "    }\n",
       "\n",
       "    .dataframe thead th {\n",
       "        text-align: left;\n",
       "    }\n",
       "\n",
       "    .dataframe tbody tr th {\n",
       "        vertical-align: top;\n",
       "    }\n",
       "</style>\n",
       "<table border=\"1\" class=\"dataframe\">\n",
       "  <thead>\n",
       "    <tr>\n",
       "      <th></th>\n",
       "      <th></th>\n",
       "      <th></th>\n",
       "      <th></th>\n",
       "      <th colspan=\"3\" halign=\"left\">BF</th>\n",
       "    </tr>\n",
       "    <tr>\n",
       "      <th></th>\n",
       "      <th></th>\n",
       "      <th></th>\n",
       "      <th></th>\n",
       "      <th>min</th>\n",
       "      <th>mean</th>\n",
       "      <th>count</th>\n",
       "    </tr>\n",
       "    <tr>\n",
       "      <th>motif_FBgn</th>\n",
       "      <th>motif_symbol</th>\n",
       "      <th>gene_FBgn</th>\n",
       "      <th>gene_symbol</th>\n",
       "      <th></th>\n",
       "      <th></th>\n",
       "      <th></th>\n",
       "    </tr>\n",
       "  </thead>\n",
       "  <tbody>\n",
       "    <tr>\n",
       "      <th rowspan=\"5\" valign=\"top\">.</th>\n",
       "      <th rowspan=\"5\" valign=\"top\">BEAF-32B</th>\n",
       "      <th>28SrRNA-Psi:CR45851</th>\n",
       "      <th>FBgn0267511</th>\n",
       "      <td>0.295466</td>\n",
       "      <td>0.295466</td>\n",
       "      <td>2</td>\n",
       "    </tr>\n",
       "    <tr>\n",
       "      <th>2mit</th>\n",
       "      <th>FBgn0260793</th>\n",
       "      <td>0.295466</td>\n",
       "      <td>0.345567</td>\n",
       "      <td>3</td>\n",
       "    </tr>\n",
       "    <tr>\n",
       "      <th>4EHP</th>\n",
       "      <th>FBgn0053100</th>\n",
       "      <td>0.295466</td>\n",
       "      <td>0.295466</td>\n",
       "      <td>3</td>\n",
       "    </tr>\n",
       "    <tr>\n",
       "      <th>5-HT1A</th>\n",
       "      <th>FBgn0004168</th>\n",
       "      <td>0.295466</td>\n",
       "      <td>0.370618</td>\n",
       "      <td>2</td>\n",
       "    </tr>\n",
       "    <tr>\n",
       "      <th>5-HT1B</th>\n",
       "      <th>FBgn0263116</th>\n",
       "      <td>0.078867</td>\n",
       "      <td>0.078867</td>\n",
       "      <td>1</td>\n",
       "    </tr>\n",
       "  </tbody>\n",
       "</table>\n",
       "</div>"
      ],
      "text/plain": [
       "                                                               BF            \\\n",
       "                                                              min      mean   \n",
       "motif_FBgn motif_symbol gene_FBgn           gene_symbol                       \n",
       ".          BEAF-32B     28SrRNA-Psi:CR45851 FBgn0267511  0.295466  0.295466   \n",
       "                        2mit                FBgn0260793  0.295466  0.345567   \n",
       "                        4EHP                FBgn0053100  0.295466  0.295466   \n",
       "                        5-HT1A              FBgn0004168  0.295466  0.370618   \n",
       "                        5-HT1B              FBgn0263116  0.078867  0.078867   \n",
       "\n",
       "                                                               \n",
       "                                                        count  \n",
       "motif_FBgn motif_symbol gene_FBgn           gene_symbol        \n",
       ".          BEAF-32B     28SrRNA-Psi:CR45851 FBgn0267511     2  \n",
       "                        2mit                FBgn0260793     3  \n",
       "                        4EHP                FBgn0053100     3  \n",
       "                        5-HT1A              FBgn0004168     2  \n",
       "                        5-HT1B              FBgn0263116     1  "
      ]
     },
     "execution_count": 16,
     "metadata": {},
     "output_type": "execute_result"
    }
   ],
   "source": [
    "grp_agg.head()"
   ]
  },
  {
   "cell_type": "code",
   "execution_count": 17,
   "metadata": {
    "collapsed": true
   },
   "outputs": [],
   "source": [
    "grp_agg.to_csv('../../output/motif_final', sep='\\t')"
   ]
  },
  {
   "cell_type": "code",
   "execution_count": 80,
   "metadata": {},
   "outputs": [
    {
     "data": {
      "text/plain": [
       "array(['BEAF-32B', 'Cf2-II', 'Espl', 'HLHm5', 'His2B', 'SuH', 'br-Z1',\n",
       "       'br-Z2', 'br-Z3', 'br-Z4', 'dsx-F', 'dsx-M', 'p120', 'suHw'], dtype=object)"
      ]
     },
     "execution_count": 80,
     "metadata": {},
     "output_type": "execute_result"
    }
   ],
   "source": [
    "#have a few missing FBgns/isoforms: \n",
    "filtered[filtered.motif_FBgn == '.'].motif_symbol.unique()"
   ]
  },
  {
   "cell_type": "markdown",
   "metadata": {},
   "source": [
    "### Isoforms\n",
    "Could keep as they are (without FBgn) but the network model would have the account for that. Could also collapse to the gene level, keeping track of the fact that there are multiple motifs. Will discuss at meeting and come back to this. \n",
    "- BEAF-32B == BEAF-32 ?  \n",
    "- Cf2-II did not come up on FlyBase\n",
    "- Espl == E(spl)m8-HLH ?  \n",
    "- HLHm5 == E(spl)m5-HLH ? \n",
    "- His2B is FBgn0001198\n",
    "- SuH == Su(H) ? \n",
    "- br-Z1,2,3,4 == br? \n",
    "- dsx-F/M == dsx\n",
    "- p120 has multiple possibilities\n",
    "- suHw == su(Hw) ? "
   ]
  },
  {
   "cell_type": "code",
   "execution_count": null,
   "metadata": {
    "collapsed": true
   },
   "outputs": [],
   "source": []
  }
 ],
 "metadata": {
  "kernelspec": {
   "display_name": "Python [conda env:s2rnai]",
   "language": "python",
   "name": "conda-env-s2rnai-py"
  },
  "language_info": {
   "codemirror_mode": {
    "name": "ipython",
    "version": 3
   },
   "file_extension": ".py",
   "mimetype": "text/x-python",
   "name": "python",
   "nbconvert_exporter": "python",
   "pygments_lexer": "ipython3",
   "version": "3.6.3"
  }
 },
 "nbformat": 4,
 "nbformat_minor": 2
}
