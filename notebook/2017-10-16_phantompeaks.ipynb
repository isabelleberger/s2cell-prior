{
 "cells": [
  {
   "cell_type": "markdown",
   "metadata": {},
   "source": [
    "## PHANTOM PEAKS\n",
    "\n",
    "Here I begin to think about the conservative ChIP-seq matrix, which we're thinking will not have phantom peaks.  "
   ]
  },
  {
   "cell_type": "code",
   "execution_count": 1,
   "metadata": {
    "collapsed": true
   },
   "outputs": [],
   "source": [
    "import pandas as pd\n",
    "import gffutils\n",
    "from gffutils import pybedtools_integration\n",
    "import pybedtools"
   ]
  },
  {
   "cell_type": "markdown",
   "metadata": {},
   "source": [
    "Import table of phantom peak locations (from Jain et al 2015 Supplementary Data): "
   ]
  },
  {
   "cell_type": "code",
   "execution_count": 2,
   "metadata": {
    "collapsed": true
   },
   "outputs": [],
   "source": [
    "phantompeaks = pd.read_excel('../../output/chip/gkv637_Supplementary_Data/Supplementary_table_3__List_of_Phantom_Peaks.xlsx')"
   ]
  },
  {
   "cell_type": "code",
   "execution_count": 3,
   "metadata": {},
   "outputs": [
    {
     "data": {
      "text/html": [
       "<div>\n",
       "<style>\n",
       "    .dataframe thead tr:only-child th {\n",
       "        text-align: right;\n",
       "    }\n",
       "\n",
       "    .dataframe thead th {\n",
       "        text-align: left;\n",
       "    }\n",
       "\n",
       "    .dataframe tbody tr th {\n",
       "        vertical-align: top;\n",
       "    }\n",
       "</style>\n",
       "<table border=\"1\" class=\"dataframe\">\n",
       "  <thead>\n",
       "    <tr style=\"text-align: right;\">\n",
       "      <th></th>\n",
       "      <th>Name</th>\n",
       "      <th>chr</th>\n",
       "      <th>start</th>\n",
       "      <th>end</th>\n",
       "      <th>strand</th>\n",
       "    </tr>\n",
       "  </thead>\n",
       "  <tbody>\n",
       "    <tr>\n",
       "      <th>0</th>\n",
       "      <td>Phantom Peak-1</td>\n",
       "      <td>chr2L</td>\n",
       "      <td>18637</td>\n",
       "      <td>19089</td>\n",
       "      <td>+</td>\n",
       "    </tr>\n",
       "    <tr>\n",
       "      <th>1</th>\n",
       "      <td>Phantom Peak-2</td>\n",
       "      <td>chr2L</td>\n",
       "      <td>102118</td>\n",
       "      <td>102570</td>\n",
       "      <td>+</td>\n",
       "    </tr>\n",
       "    <tr>\n",
       "      <th>2</th>\n",
       "      <td>Phantom Peak-3</td>\n",
       "      <td>chr2L</td>\n",
       "      <td>107669</td>\n",
       "      <td>108121</td>\n",
       "      <td>+</td>\n",
       "    </tr>\n",
       "    <tr>\n",
       "      <th>3</th>\n",
       "      <td>Phantom Peak-4</td>\n",
       "      <td>chr2L</td>\n",
       "      <td>143051</td>\n",
       "      <td>143503</td>\n",
       "      <td>+</td>\n",
       "    </tr>\n",
       "    <tr>\n",
       "      <th>4</th>\n",
       "      <td>Phantom Peak-5</td>\n",
       "      <td>chr2L</td>\n",
       "      <td>155891</td>\n",
       "      <td>156343</td>\n",
       "      <td>+</td>\n",
       "    </tr>\n",
       "  </tbody>\n",
       "</table>\n",
       "</div>"
      ],
      "text/plain": [
       "             Name   chr    start     end strand\n",
       "0  Phantom Peak-1  chr2L   18637   19089      +\n",
       "1  Phantom Peak-2  chr2L  102118  102570      +\n",
       "2  Phantom Peak-3  chr2L  107669  108121      +\n",
       "3  Phantom Peak-4  chr2L  143051  143503      +\n",
       "4  Phantom Peak-5  chr2L  155891  156343      +"
      ]
     },
     "execution_count": 3,
     "metadata": {},
     "output_type": "execute_result"
    }
   ],
   "source": [
    "phantompeaks.head()"
   ]
  },
  {
   "cell_type": "code",
   "execution_count": 4,
   "metadata": {
    "collapsed": true
   },
   "outputs": [],
   "source": [
    "columns = ['DB_id', 'score', 'chrom', 'start', 'end', 'strand', 'modENCODE_id',\n",
    "       'peak_location_fbgn',\n",
    "       'peak_location_symbol', 'antibody', 'cell line', 'developmental stage',\n",
    "       'strain', 'target gene','tissue', 'TF', 'TF_fbgn']"
   ]
  },
  {
   "cell_type": "markdown",
   "metadata": {},
   "source": [
    "Import my modENCODE data table: "
   ]
  },
  {
   "cell_type": "code",
   "execution_count": 5,
   "metadata": {},
   "outputs": [
    {
     "name": "stderr",
     "output_type": "stream",
     "text": [
      "/Users/bergeric/miniconda3/lib/python3.5/site-packages/IPython/core/interactiveshell.py:2698: DtypeWarning: Columns (1,10,11,12,13,14,16) have mixed types. Specify dtype option on import or set low_memory=False.\n",
      "  interactivity=interactivity, compiler=compiler, result=result)\n"
     ]
    }
   ],
   "source": [
    "modENCODE = pd.read_table('../../output/chip/modENCODE_downloads_2ndtry/modENCODE_finaltable', header=None, names= columns)"
   ]
  },
  {
   "cell_type": "code",
   "execution_count": 51,
   "metadata": {},
   "outputs": [
    {
     "data": {
      "text/html": [
       "<div>\n",
       "<style>\n",
       "    .dataframe thead tr:only-child th {\n",
       "        text-align: right;\n",
       "    }\n",
       "\n",
       "    .dataframe thead th {\n",
       "        text-align: left;\n",
       "    }\n",
       "\n",
       "    .dataframe tbody tr th {\n",
       "        vertical-align: top;\n",
       "    }\n",
       "</style>\n",
       "<table border=\"1\" class=\"dataframe\">\n",
       "  <thead>\n",
       "    <tr style=\"text-align: right;\">\n",
       "      <th></th>\n",
       "      <th>DB_id</th>\n",
       "      <th>score</th>\n",
       "      <th>chrom</th>\n",
       "      <th>start</th>\n",
       "      <th>end</th>\n",
       "      <th>strand</th>\n",
       "      <th>modENCODE_id</th>\n",
       "      <th>peak_location_fbgn</th>\n",
       "      <th>peak_location_symbol</th>\n",
       "      <th>antibody</th>\n",
       "      <th>cell line</th>\n",
       "      <th>developmental stage</th>\n",
       "      <th>strain</th>\n",
       "      <th>target gene</th>\n",
       "      <th>tissue</th>\n",
       "      <th>TF</th>\n",
       "      <th>TF_fbgn</th>\n",
       "    </tr>\n",
       "  </thead>\n",
       "  <tbody>\n",
       "    <tr>\n",
       "      <th>0</th>\n",
       "      <td>10T_E16_24h_GFP.1</td>\n",
       "      <td>.</td>\n",
       "      <td>chr2L</td>\n",
       "      <td>516190</td>\n",
       "      <td>516870</td>\n",
       "      <td>+</td>\n",
       "      <td>modENCODE_3229</td>\n",
       "      <td>FBgn0003963</td>\n",
       "      <td>ush</td>\n",
       "      <td>No Antibody Control</td>\n",
       "      <td>NaN</td>\n",
       "      <td>Embryo 16-24 h</td>\n",
       "      <td>FlyStrain:10T-DFD-GFP:KW:1&amp;oldid=39548</td>\n",
       "      <td>NaN</td>\n",
       "      <td>NaN</td>\n",
       "      <td>eGFP</td>\n",
       "      <td>NaN</td>\n",
       "    </tr>\n",
       "    <tr>\n",
       "      <th>1</th>\n",
       "      <td>10T_E16_24h_GFP.10</td>\n",
       "      <td>.</td>\n",
       "      <td>chr2L</td>\n",
       "      <td>3124123</td>\n",
       "      <td>3125019</td>\n",
       "      <td>-</td>\n",
       "      <td>modENCODE_3229</td>\n",
       "      <td>FBgn0015600</td>\n",
       "      <td>toc</td>\n",
       "      <td>No Antibody Control</td>\n",
       "      <td>NaN</td>\n",
       "      <td>Embryo 16-24 h</td>\n",
       "      <td>FlyStrain:10T-DFD-GFP:KW:1&amp;oldid=39548</td>\n",
       "      <td>NaN</td>\n",
       "      <td>NaN</td>\n",
       "      <td>eGFP</td>\n",
       "      <td>NaN</td>\n",
       "    </tr>\n",
       "    <tr>\n",
       "      <th>2</th>\n",
       "      <td>10T_E16_24h_GFP.100</td>\n",
       "      <td>.</td>\n",
       "      <td>chr2L</td>\n",
       "      <td>21306821</td>\n",
       "      <td>21307495</td>\n",
       "      <td>-</td>\n",
       "      <td>modENCODE_3229</td>\n",
       "      <td>FBgn0032940</td>\n",
       "      <td>Mio</td>\n",
       "      <td>No Antibody Control</td>\n",
       "      <td>NaN</td>\n",
       "      <td>Embryo 16-24 h</td>\n",
       "      <td>FlyStrain:10T-DFD-GFP:KW:1&amp;oldid=39548</td>\n",
       "      <td>NaN</td>\n",
       "      <td>NaN</td>\n",
       "      <td>eGFP</td>\n",
       "      <td>NaN</td>\n",
       "    </tr>\n",
       "    <tr>\n",
       "      <th>3</th>\n",
       "      <td>10T_E16_24h_GFP.11</td>\n",
       "      <td>.</td>\n",
       "      <td>chr2L</td>\n",
       "      <td>3301741</td>\n",
       "      <td>3302706</td>\n",
       "      <td>-</td>\n",
       "      <td>modENCODE_3229</td>\n",
       "      <td>FBgn0031516</td>\n",
       "      <td>CG9663</td>\n",
       "      <td>No Antibody Control</td>\n",
       "      <td>NaN</td>\n",
       "      <td>Embryo 16-24 h</td>\n",
       "      <td>FlyStrain:10T-DFD-GFP:KW:1&amp;oldid=39548</td>\n",
       "      <td>NaN</td>\n",
       "      <td>NaN</td>\n",
       "      <td>eGFP</td>\n",
       "      <td>NaN</td>\n",
       "    </tr>\n",
       "    <tr>\n",
       "      <th>4</th>\n",
       "      <td>10T_E16_24h_GFP.113</td>\n",
       "      <td>.</td>\n",
       "      <td>chr2R</td>\n",
       "      <td>1734511</td>\n",
       "      <td>1735276</td>\n",
       "      <td>+</td>\n",
       "      <td>modENCODE_3229</td>\n",
       "      <td>FBgn0087011</td>\n",
       "      <td>CG41520</td>\n",
       "      <td>No Antibody Control</td>\n",
       "      <td>NaN</td>\n",
       "      <td>Embryo 16-24 h</td>\n",
       "      <td>FlyStrain:10T-DFD-GFP:KW:1&amp;oldid=39548</td>\n",
       "      <td>NaN</td>\n",
       "      <td>NaN</td>\n",
       "      <td>eGFP</td>\n",
       "      <td>NaN</td>\n",
       "    </tr>\n",
       "  </tbody>\n",
       "</table>\n",
       "</div>"
      ],
      "text/plain": [
       "                 DB_id score  chrom     start       end strand  \\\n",
       "0    10T_E16_24h_GFP.1     .  chr2L    516190    516870      +   \n",
       "1   10T_E16_24h_GFP.10     .  chr2L   3124123   3125019      -   \n",
       "2  10T_E16_24h_GFP.100     .  chr2L  21306821  21307495      -   \n",
       "3   10T_E16_24h_GFP.11     .  chr2L   3301741   3302706      -   \n",
       "4  10T_E16_24h_GFP.113     .  chr2R   1734511   1735276      +   \n",
       "\n",
       "     modENCODE_id peak_location_fbgn peak_location_symbol  \\\n",
       "0  modENCODE_3229        FBgn0003963                  ush   \n",
       "1  modENCODE_3229        FBgn0015600                  toc   \n",
       "2  modENCODE_3229        FBgn0032940                  Mio   \n",
       "3  modENCODE_3229        FBgn0031516               CG9663   \n",
       "4  modENCODE_3229        FBgn0087011              CG41520   \n",
       "\n",
       "              antibody cell line developmental stage  \\\n",
       "0  No Antibody Control       NaN      Embryo 16-24 h   \n",
       "1  No Antibody Control       NaN      Embryo 16-24 h   \n",
       "2  No Antibody Control       NaN      Embryo 16-24 h   \n",
       "3  No Antibody Control       NaN      Embryo 16-24 h   \n",
       "4  No Antibody Control       NaN      Embryo 16-24 h   \n",
       "\n",
       "                                   strain target gene tissue    TF TF_fbgn  \n",
       "0  FlyStrain:10T-DFD-GFP:KW:1&oldid=39548         NaN    NaN  eGFP     NaN  \n",
       "1  FlyStrain:10T-DFD-GFP:KW:1&oldid=39548         NaN    NaN  eGFP     NaN  \n",
       "2  FlyStrain:10T-DFD-GFP:KW:1&oldid=39548         NaN    NaN  eGFP     NaN  \n",
       "3  FlyStrain:10T-DFD-GFP:KW:1&oldid=39548         NaN    NaN  eGFP     NaN  \n",
       "4  FlyStrain:10T-DFD-GFP:KW:1&oldid=39548         NaN    NaN  eGFP     NaN  "
      ]
     },
     "execution_count": 51,
     "metadata": {},
     "output_type": "execute_result"
    }
   ],
   "source": [
    "modENCODE.head()"
   ]
  },
  {
   "cell_type": "markdown",
   "metadata": {},
   "source": [
    "Perform intersect to obtain phantom peak overlap: "
   ]
  },
  {
   "cell_type": "code",
   "execution_count": 8,
   "metadata": {
    "collapsed": true
   },
   "outputs": [],
   "source": [
    "mod_bed = pybedtools.BedTool.from_dataframe(modENCODE[['chrom','start','end','modENCODE_id']])"
   ]
  },
  {
   "cell_type": "code",
   "execution_count": 9,
   "metadata": {
    "collapsed": true
   },
   "outputs": [],
   "source": [
    "intersect = mod_bed.intersect(pybedtools.BedTool.from_dataframe(phantompeaks[['chr ','start','end','Name']]), wo=True).to_dataframe()"
   ]
  },
  {
   "cell_type": "code",
   "execution_count": 10,
   "metadata": {},
   "outputs": [
    {
     "data": {
      "text/html": [
       "<div>\n",
       "<style>\n",
       "    .dataframe thead tr:only-child th {\n",
       "        text-align: right;\n",
       "    }\n",
       "\n",
       "    .dataframe thead th {\n",
       "        text-align: left;\n",
       "    }\n",
       "\n",
       "    .dataframe tbody tr th {\n",
       "        vertical-align: top;\n",
       "    }\n",
       "</style>\n",
       "<table border=\"1\" class=\"dataframe\">\n",
       "  <thead>\n",
       "    <tr style=\"text-align: right;\">\n",
       "      <th></th>\n",
       "      <th>chrom</th>\n",
       "      <th>start</th>\n",
       "      <th>end</th>\n",
       "      <th>name</th>\n",
       "      <th>score</th>\n",
       "      <th>strand</th>\n",
       "      <th>thickStart</th>\n",
       "      <th>thickEnd</th>\n",
       "      <th>itemRgb</th>\n",
       "    </tr>\n",
       "  </thead>\n",
       "  <tbody>\n",
       "    <tr>\n",
       "      <th>0</th>\n",
       "      <td>chr2R</td>\n",
       "      <td>4998091</td>\n",
       "      <td>4999786</td>\n",
       "      <td>modENCODE_3229</td>\n",
       "      <td>chr2R</td>\n",
       "      <td>4998039</td>\n",
       "      <td>4998491</td>\n",
       "      <td>Phantom Peak-647</td>\n",
       "      <td>400</td>\n",
       "    </tr>\n",
       "    <tr>\n",
       "      <th>1</th>\n",
       "      <td>chr2R</td>\n",
       "      <td>13477753</td>\n",
       "      <td>13478853</td>\n",
       "      <td>modENCODE_3229</td>\n",
       "      <td>chr2R</td>\n",
       "      <td>13478116</td>\n",
       "      <td>13478599</td>\n",
       "      <td>Phantom Peak-913</td>\n",
       "      <td>483</td>\n",
       "    </tr>\n",
       "    <tr>\n",
       "      <th>2</th>\n",
       "      <td>chr3L</td>\n",
       "      <td>6736743</td>\n",
       "      <td>6737742</td>\n",
       "      <td>modENCODE_3229</td>\n",
       "      <td>chr3L</td>\n",
       "      <td>6736750</td>\n",
       "      <td>6737038</td>\n",
       "      <td>Phantom Peak-1287</td>\n",
       "      <td>288</td>\n",
       "    </tr>\n",
       "    <tr>\n",
       "      <th>3</th>\n",
       "      <td>chr3L</td>\n",
       "      <td>16858482</td>\n",
       "      <td>16858712</td>\n",
       "      <td>modENCODE_3229</td>\n",
       "      <td>chr3L</td>\n",
       "      <td>16858127</td>\n",
       "      <td>16858579</td>\n",
       "      <td>Phantom Peak-1532</td>\n",
       "      <td>97</td>\n",
       "    </tr>\n",
       "    <tr>\n",
       "      <th>4</th>\n",
       "      <td>chr3L</td>\n",
       "      <td>16858482</td>\n",
       "      <td>16859111</td>\n",
       "      <td>modENCODE_3229</td>\n",
       "      <td>chr3L</td>\n",
       "      <td>16858127</td>\n",
       "      <td>16858579</td>\n",
       "      <td>Phantom Peak-1532</td>\n",
       "      <td>97</td>\n",
       "    </tr>\n",
       "  </tbody>\n",
       "</table>\n",
       "</div>"
      ],
      "text/plain": [
       "   chrom     start       end            name  score    strand  thickStart  \\\n",
       "0  chr2R   4998091   4999786  modENCODE_3229  chr2R   4998039     4998491   \n",
       "1  chr2R  13477753  13478853  modENCODE_3229  chr2R  13478116    13478599   \n",
       "2  chr3L   6736743   6737742  modENCODE_3229  chr3L   6736750     6737038   \n",
       "3  chr3L  16858482  16858712  modENCODE_3229  chr3L  16858127    16858579   \n",
       "4  chr3L  16858482  16859111  modENCODE_3229  chr3L  16858127    16858579   \n",
       "\n",
       "            thickEnd  itemRgb  \n",
       "0   Phantom Peak-647      400  \n",
       "1   Phantom Peak-913      483  \n",
       "2  Phantom Peak-1287      288  \n",
       "3  Phantom Peak-1532       97  \n",
       "4  Phantom Peak-1532       97  "
      ]
     },
     "execution_count": 10,
     "metadata": {},
     "output_type": "execute_result"
    }
   ],
   "source": [
    "intersect.head()"
   ]
  },
  {
   "cell_type": "code",
   "execution_count": 11,
   "metadata": {},
   "outputs": [
    {
     "data": {
      "text/plain": [
       "150"
      ]
     },
     "execution_count": 11,
     "metadata": {},
     "output_type": "execute_result"
    }
   ],
   "source": [
    "len(intersect.name.unique())"
   ]
  },
  {
   "cell_type": "code",
   "execution_count": 12,
   "metadata": {},
   "outputs": [
    {
     "data": {
      "text/plain": [
       "(190567, 9)"
      ]
     },
     "execution_count": 12,
     "metadata": {},
     "output_type": "execute_result"
    }
   ],
   "source": [
    "intersect.shape"
   ]
  },
  {
   "cell_type": "code",
   "execution_count": 13,
   "metadata": {},
   "outputs": [
    {
     "data": {
      "text/plain": [
       "2254"
      ]
     },
     "execution_count": 13,
     "metadata": {},
     "output_type": "execute_result"
    }
   ],
   "source": [
    "len(intersect.thickEnd.unique())"
   ]
  },
  {
   "cell_type": "markdown",
   "metadata": {},
   "source": [
    "In Jain et al 2014, an overlap of at least 50bp is requested. Filter for this:  "
   ]
  },
  {
   "cell_type": "code",
   "execution_count": 14,
   "metadata": {
    "collapsed": true
   },
   "outputs": [],
   "source": [
    "#intersect with overlap more than 50: \n",
    "filtered = intersect[intersect.itemRgb >= 50]"
   ]
  },
  {
   "cell_type": "code",
   "execution_count": 16,
   "metadata": {},
   "outputs": [
    {
     "data": {
      "text/plain": [
       "(178125, 9)"
      ]
     },
     "execution_count": 16,
     "metadata": {},
     "output_type": "execute_result"
    }
   ],
   "source": [
    "filtered.shape"
   ]
  },
  {
   "cell_type": "markdown",
   "metadata": {},
   "source": [
    "Import table of phantom peak overlap with modENCODE from paper: "
   ]
  },
  {
   "cell_type": "code",
   "execution_count": 34,
   "metadata": {},
   "outputs": [
    {
     "data": {
      "text/html": [
       "<div>\n",
       "<style>\n",
       "    .dataframe thead tr:only-child th {\n",
       "        text-align: right;\n",
       "    }\n",
       "\n",
       "    .dataframe thead th {\n",
       "        text-align: left;\n",
       "    }\n",
       "\n",
       "    .dataframe tbody tr th {\n",
       "        vertical-align: top;\n",
       "    }\n",
       "</style>\n",
       "<table border=\"1\" class=\"dataframe\">\n",
       "  <thead>\n",
       "    <tr style=\"text-align: right;\">\n",
       "      <th></th>\n",
       "      <th>Profile_file_name</th>\n",
       "      <th>Total peaks</th>\n",
       "      <th>Overlap</th>\n",
       "      <th>Non.overlapping</th>\n",
       "      <th>Percent</th>\n",
       "      <th>P.value &lt;0.01</th>\n",
       "      <th>P.value &lt;0.05</th>\n",
       "      <th>Description</th>\n",
       "      <th>Organism</th>\n",
       "      <th>Method</th>\n",
       "      <th>Type</th>\n",
       "      <th>Factor</th>\n",
       "      <th>Stage</th>\n",
       "      <th>Lab</th>\n",
       "      <th>modE_ID</th>\n",
       "    </tr>\n",
       "  </thead>\n",
       "  <tbody>\n",
       "    <tr>\n",
       "      <th>0</th>\n",
       "      <td>3232_E0-12h_Sin3A_peaks.bed</td>\n",
       "      <td>4046</td>\n",
       "      <td>2519</td>\n",
       "      <td>1527</td>\n",
       "      <td>62.26</td>\n",
       "      <td>14.236283</td>\n",
       "      <td>54.770143</td>\n",
       "      <td>Sin3A;Embryos 0-12 hr;ChIP-seq</td>\n",
       "      <td>D. melanogaster</td>\n",
       "      <td>ChIP-seq</td>\n",
       "      <td>Transcriptional Factor</td>\n",
       "      <td>Sin3A</td>\n",
       "      <td>Embryos 0-12 hr</td>\n",
       "      <td>White, K.</td>\n",
       "      <td>3232</td>\n",
       "    </tr>\n",
       "    <tr>\n",
       "      <th>1</th>\n",
       "      <td>3826_E16-24h_Fer3_peaks.bed.gff</td>\n",
       "      <td>2284</td>\n",
       "      <td>1416</td>\n",
       "      <td>868</td>\n",
       "      <td>62.00</td>\n",
       "      <td>18.345009</td>\n",
       "      <td>52.451839</td>\n",
       "      <td>Fer3;Embryos 16-24 hr;ChIP-seq</td>\n",
       "      <td>D. melanogaster</td>\n",
       "      <td>ChIP-seq</td>\n",
       "      <td>Transcriptional Factor</td>\n",
       "      <td>Fer3</td>\n",
       "      <td>Embryos 16-24 hr</td>\n",
       "      <td>White, K.</td>\n",
       "      <td>3826</td>\n",
       "    </tr>\n",
       "    <tr>\n",
       "      <th>2</th>\n",
       "      <td>3399_A.Female_Trem_peaks.bed.gff</td>\n",
       "      <td>1213</td>\n",
       "      <td>886</td>\n",
       "      <td>327</td>\n",
       "      <td>73.04</td>\n",
       "      <td>14.674361</td>\n",
       "      <td>49.958780</td>\n",
       "      <td>trem;Adult Female;ChIP-seq</td>\n",
       "      <td>D. melanogaster</td>\n",
       "      <td>ChIP-seq</td>\n",
       "      <td>Transcriptional Factor</td>\n",
       "      <td>trem</td>\n",
       "      <td>Adult Female</td>\n",
       "      <td>White, K.</td>\n",
       "      <td>3399</td>\n",
       "    </tr>\n",
       "    <tr>\n",
       "      <th>3</th>\n",
       "      <td>3394_E16-24h_Kr-D2_peaks.bed.gff</td>\n",
       "      <td>353</td>\n",
       "      <td>228</td>\n",
       "      <td>125</td>\n",
       "      <td>64.59</td>\n",
       "      <td>28.895184</td>\n",
       "      <td>42.776204</td>\n",
       "      <td>Kruppel;Embryos 16-24 hr;ChIP-seq</td>\n",
       "      <td>D. melanogaster</td>\n",
       "      <td>ChIP-seq</td>\n",
       "      <td>Transcriptional Factor</td>\n",
       "      <td>Kruppel</td>\n",
       "      <td>Embryos 16-24 hr</td>\n",
       "      <td>White, K.</td>\n",
       "      <td>3394</td>\n",
       "    </tr>\n",
       "    <tr>\n",
       "      <th>4</th>\n",
       "      <td>3827_E8-16h_h_peaks.bed.gff</td>\n",
       "      <td>431</td>\n",
       "      <td>262</td>\n",
       "      <td>169</td>\n",
       "      <td>60.79</td>\n",
       "      <td>13.225058</td>\n",
       "      <td>39.675174</td>\n",
       "      <td>hairy;Embryos 8-16 hr;ChIP-seq</td>\n",
       "      <td>D. melanogaster</td>\n",
       "      <td>ChIP-seq</td>\n",
       "      <td>Transcriptional Factor</td>\n",
       "      <td>hairy</td>\n",
       "      <td>Embryos 8-16 hr</td>\n",
       "      <td>White, K.</td>\n",
       "      <td>3827</td>\n",
       "    </tr>\n",
       "  </tbody>\n",
       "</table>\n",
       "</div>"
      ],
      "text/plain": [
       "                  Profile_file_name  Total peaks  Overlap  Non.overlapping  \\\n",
       "0       3232_E0-12h_Sin3A_peaks.bed         4046     2519             1527   \n",
       "1   3826_E16-24h_Fer3_peaks.bed.gff         2284     1416              868   \n",
       "2  3399_A.Female_Trem_peaks.bed.gff         1213      886              327   \n",
       "3  3394_E16-24h_Kr-D2_peaks.bed.gff          353      228              125   \n",
       "4       3827_E8-16h_h_peaks.bed.gff          431      262              169   \n",
       "\n",
       "   Percent  P.value <0.01  P.value <0.05                         Description  \\\n",
       "0    62.26      14.236283      54.770143      Sin3A;Embryos 0-12 hr;ChIP-seq   \n",
       "1    62.00      18.345009      52.451839      Fer3;Embryos 16-24 hr;ChIP-seq   \n",
       "2    73.04      14.674361      49.958780          trem;Adult Female;ChIP-seq   \n",
       "3    64.59      28.895184      42.776204   Kruppel;Embryos 16-24 hr;ChIP-seq   \n",
       "4    60.79      13.225058      39.675174      hairy;Embryos 8-16 hr;ChIP-seq   \n",
       "\n",
       "          Organism    Method                    Type   Factor  \\\n",
       "0  D. melanogaster  ChIP-seq  Transcriptional Factor    Sin3A   \n",
       "1  D. melanogaster  ChIP-seq  Transcriptional Factor     Fer3   \n",
       "2  D. melanogaster  ChIP-seq  Transcriptional Factor     trem   \n",
       "3  D. melanogaster  ChIP-seq  Transcriptional Factor  Kruppel   \n",
       "4  D. melanogaster  ChIP-seq  Transcriptional Factor    hairy   \n",
       "\n",
       "              Stage        Lab  modE_ID  \n",
       "0   Embryos 0-12 hr  White, K.     3232  \n",
       "1  Embryos 16-24 hr  White, K.     3826  \n",
       "2      Adult Female  White, K.     3399  \n",
       "3  Embryos 16-24 hr  White, K.     3394  \n",
       "4   Embryos 8-16 hr  White, K.     3827  "
      ]
     },
     "execution_count": 34,
     "metadata": {},
     "output_type": "execute_result"
    }
   ],
   "source": [
    "phantom_overlap = pd.read_excel('../../data/chip/gkv637_Supplementary_Data/Supplementary_table_5__Overlap_of_the_Phantom_Peaks_with_non-histone_modENCODE_ChIPSeq_profiles.xlsx', header=1)\n",
    "phantom_overlap.head()"
   ]
  },
  {
   "cell_type": "code",
   "execution_count": 19,
   "metadata": {
    "collapsed": true
   },
   "outputs": [],
   "source": [
    "number_overlapping = phantom_overlap.Overlap.values"
   ]
  },
  {
   "cell_type": "code",
   "execution_count": 20,
   "metadata": {},
   "outputs": [
    {
     "data": {
      "text/plain": [
       "189036"
      ]
     },
     "execution_count": 20,
     "metadata": {},
     "output_type": "execute_result"
    }
   ],
   "source": [
    "sum(number_overlapping)"
   ]
  },
  {
   "cell_type": "markdown",
   "metadata": {},
   "source": [
    "There is a difference of about 10,000 in the amount of phantom peaks the paper found overlapping with modENCODE and the amount I have overlapping with my dataset. Look into this a little further: "
   ]
  },
  {
   "cell_type": "code",
   "execution_count": 17,
   "metadata": {
    "collapsed": true
   },
   "outputs": [],
   "source": [
    "modENCODE_sets_fromme = filtered.name.unique()"
   ]
  },
  {
   "cell_type": "code",
   "execution_count": 22,
   "metadata": {
    "collapsed": true
   },
   "outputs": [],
   "source": [
    "modE_ID_from_paper = phantom_overlap.modE_ID.unique()"
   ]
  },
  {
   "cell_type": "code",
   "execution_count": 23,
   "metadata": {
    "collapsed": true
   },
   "outputs": [],
   "source": [
    "modENCODE_sets_frompaper = ['modENCODE_'+str(x) for x in modE_ID_from_paper]"
   ]
  },
  {
   "cell_type": "code",
   "execution_count": 24,
   "metadata": {},
   "outputs": [
    {
     "name": "stdout",
     "output_type": "stream",
     "text": [
      "modENCODE_3826\n",
      "modENCODE_3827\n",
      "modENCODE_3954\n",
      "modENCODE_4351\n",
      "modENCODE_2755\n",
      "modENCODE_3253\n",
      "modENCODE_2753\n",
      "modENCODE_2979\n",
      "modENCODE_2754\n",
      "modENCODE_2635\n",
      "modENCODE_3625\n",
      "modENCODE_2632\n",
      "modENCODE_2783\n",
      "modENCODE_3233\n",
      "modENCODE_3247\n",
      "modENCODE_3825\n",
      "modENCODE_3806\n",
      "modENCODE_3231\n",
      "modENCODE_3251\n",
      "modENCODE_2631\n",
      "modENCODE_3236\n",
      "modENCODE_4193\n",
      "modENCODE_2628\n",
      "modENCODE_2625\n",
      "modENCODE_3824\n",
      "modENCODE_3397\n",
      "modENCODE_2640\n",
      "modENCODE_3235\n",
      "modENCODE_3823\n",
      "modENCODE_2637\n"
     ]
    }
   ],
   "source": [
    "for x in list(modENCODE_sets_frompaper):\n",
    "    if x not in list(modENCODE_sets_fromme):\n",
    "        print(x)"
   ]
  },
  {
   "cell_type": "code",
   "execution_count": 25,
   "metadata": {
    "collapsed": true
   },
   "outputs": [],
   "source": [
    "no_data = ['2635', '2625', '2637', '2631', '3806', '2632', '3827', '3826', '3235', '3236', '3823', '3824', '3825', '2640', '3231', '3397', '3233', '2628'] "
   ]
  },
  {
   "cell_type": "code",
   "execution_count": 26,
   "metadata": {
    "collapsed": true
   },
   "outputs": [],
   "source": [
    "modENCODE_no_data = ['modENCODE_'+str(x) for x in no_data]"
   ]
  },
  {
   "cell_type": "code",
   "execution_count": 28,
   "metadata": {
    "collapsed": true
   },
   "outputs": [],
   "source": [
    "downloads=[3393,3806,3825,3231,2625,2626,2637,3403,4078,3240,4080,5068,4082,4081,3959,5069,2638,2639,3395,3235,4974,5008,5070,5071,5072,5577,3229,3230,3402,3401,2640,2641,2642,3234,3236,3239,3241,3400,3398,4976,3824,3826,4089,3809,3238,3397,5028,3814,3245,3830,4119,4981,5257,3815,4982,3827,2629,2630,2635,2636,2633,2634,2627,2628,2631,2632,3391,3392,4091,3956,4936,5592,5111,5110,5590,5587,5112,5591,5264,5113,5593,4944,3390,5023,4998,4070,3242,5114,5575,5115,5594,3243,3394,3812,5004,5005,5116,5597,5574,5117,4094,5118,854,858,3233,862,863,856,849,857,855,985,859,860,861,5119,4074,4107,3957,3237,3813,3816,5120,5121,5598,4095,4096,3960,3808,4098,5576,5570,5579,5571,984,850,848,4352,5580,5569,5122,5123,5124,846,847,851,852,853,5125,5126,5599,4099,4071,3232,5568,5014,4103,5017,4069,4104,3958,4716,4105,4943,5127,5606,3396,5128,5024,5025,3399,4114,4113,3823,5029,5129]"
   ]
  },
  {
   "cell_type": "code",
   "execution_count": 29,
   "metadata": {
    "collapsed": true
   },
   "outputs": [],
   "source": [
    "modENCODE_downloads = ['modENCODE_'+str(x) for x in downloads]"
   ]
  },
  {
   "cell_type": "code",
   "execution_count": 30,
   "metadata": {
    "collapsed": true
   },
   "outputs": [],
   "source": [
    "try_adding = []\n",
    "for x in list(modENCODE_sets_frompaper):\n",
    "    if x not in list(modENCODE_sets_fromme):\n",
    "        if x not in list(modENCODE_no_data):\n",
    "            if x not in list(modENCODE_downloads):\n",
    "                try_adding.append(x)"
   ]
  },
  {
   "cell_type": "code",
   "execution_count": 31,
   "metadata": {},
   "outputs": [
    {
     "name": "stdout",
     "output_type": "stream",
     "text": [
      "modENCODE_2635\n",
      "modENCODE_2625\n",
      "modENCODE_2637\n",
      "modENCODE_2631\n",
      "modENCODE_3806\n",
      "modENCODE_2632\n",
      "modENCODE_3827\n",
      "modENCODE_3826\n",
      "modENCODE_3235\n",
      "modENCODE_3236\n",
      "modENCODE_3823\n",
      "modENCODE_3824\n",
      "modENCODE_3825\n",
      "modENCODE_2640\n",
      "modENCODE_3231\n",
      "modENCODE_3397\n",
      "modENCODE_3233\n",
      "modENCODE_2628\n"
     ]
    }
   ],
   "source": [
    "for x in list(modENCODE_no_data):\n",
    "    if x in list(modENCODE_sets_frompaper):\n",
    "        print(x)"
   ]
  },
  {
   "cell_type": "code",
   "execution_count": 33,
   "metadata": {},
   "outputs": [
    {
     "data": {
      "text/plain": [
       "['modENCODE_3954',\n",
       " 'modENCODE_4351',\n",
       " 'modENCODE_2755',\n",
       " 'modENCODE_3253',\n",
       " 'modENCODE_2753',\n",
       " 'modENCODE_2979',\n",
       " 'modENCODE_2754',\n",
       " 'modENCODE_3625',\n",
       " 'modENCODE_2783',\n",
       " 'modENCODE_3247',\n",
       " 'modENCODE_3251',\n",
       " 'modENCODE_4193']"
      ]
     },
     "execution_count": 33,
     "metadata": {},
     "output_type": "execute_result"
    }
   ],
   "source": [
    "#Try adding to download pipeline and see if theres data?\n",
    "try_adding \n",
    "#Nevermind! \n",
    "#3954 doesn't exist? \n",
    "#4351, 2755, 3253, 2753, 2979, 2754, 3625, 2783, 3247, 3251, 4193 protein binding"
   ]
  },
  {
   "cell_type": "markdown",
   "metadata": {},
   "source": [
    "### Remove phantom peaks: "
   ]
  },
  {
   "cell_type": "code",
   "execution_count": 49,
   "metadata": {},
   "outputs": [
    {
     "data": {
      "text/plain": [
       "(178125, 9)"
      ]
     },
     "execution_count": 49,
     "metadata": {},
     "output_type": "execute_result"
    }
   ],
   "source": [
    "#Next step = get rid of phantom peaks to make stricter data set ?\n",
    "filtered.shape"
   ]
  },
  {
   "cell_type": "code",
   "execution_count": 47,
   "metadata": {
    "collapsed": true
   },
   "outputs": [],
   "source": [
    "#worried I lose too much if I do a reverse intersect? Maybe ask Justin about this but trying to figure out if\n",
    "#pandas has a better way\n",
    "\n",
    "outermerge = modENCODE.merge(filtered, how='outer', on=['start','end'], indicator=True)\n",
    "no_phantom = outermerge[outermerge._merge == 'left_only']"
   ]
  },
  {
   "cell_type": "code",
   "execution_count": 48,
   "metadata": {},
   "outputs": [
    {
     "data": {
      "text/plain": [
       "(1552415, 25)"
      ]
     },
     "execution_count": 48,
     "metadata": {},
     "output_type": "execute_result"
    }
   ],
   "source": [
    "no_phantom.shape"
   ]
  },
  {
   "cell_type": "code",
   "execution_count": null,
   "metadata": {
    "collapsed": true
   },
   "outputs": [],
   "source": [
    "#losing around 200,000 == good !! "
   ]
  },
  {
   "cell_type": "code",
   "execution_count": null,
   "metadata": {
    "collapsed": true
   },
   "outputs": [],
   "source": []
  }
 ],
 "metadata": {
  "kernelspec": {
   "display_name": "Python [default]",
   "language": "python",
   "name": "python3"
  },
  "language_info": {
   "codemirror_mode": {
    "name": "ipython",
    "version": 3
   },
   "file_extension": ".py",
   "mimetype": "text/x-python",
   "name": "python",
   "nbconvert_exporter": "python",
   "pygments_lexer": "ipython3",
   "version": "3.5.4"
  }
 },
 "nbformat": 4,
 "nbformat_minor": 2
}
