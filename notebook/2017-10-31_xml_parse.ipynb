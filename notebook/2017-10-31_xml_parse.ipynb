{
 "cells": [
  {
   "cell_type": "markdown",
   "metadata": {},
   "source": [
    "### Download and parse information from GEO xmls"
   ]
  },
  {
   "cell_type": "code",
   "execution_count": 1,
   "metadata": {
    "collapsed": true
   },
   "outputs": [],
   "source": [
    "#this works really well if not series dependent, but won't work for all\n",
    "from urllib.request import urlretrieve\n",
    "import os\n",
    "import xml.etree.ElementTree as ET\n",
    "import pandas as pd\n",
    "\n",
    "PATH = '../../output/chip/xmls/'\n",
    "gse = 'GSE49102'\n",
    "xml = 'https://www.ncbi.nlm.nih.gov/geo/query/acc.cgi?acc='+gse+'&targ=gsm&view=full&form=xml'\n",
    "os.makedirs(PATH, exist_ok=True)\n",
    "\n",
    "urlretrieve(xml, PATH+gse+'.xml')\n",
    "tree = ET.parse('../../output/chip/GSE49102.xml')\n",
    "root = tree.getroot()\n",
    "ns = {'url': 'http://www.ncbi.nlm.nih.gov/geo/info/MINiML'}\n",
    "\n",
    "table=[]\n",
    "for sample in root.findall('url:Sample', ns):\n",
    "    name = sample.get('iid')\n",
    "    sup = sample.find('url:Supplementary-Data', ns)\n",
    "    sup_type = sup.get('type')\n",
    "    if sup_type == 'BED': \n",
    "        for channel in sample.find('url:Channel',ns):\n",
    "            if channel.get('tag') == 'chip antibody':\n",
    "                tag = channel.text\n",
    "        row = (name, sup.text.strip(), tag.strip())\n",
    "        table.append(row)\n",
    "df = pd.DataFrame(table, columns=['GSM', 'url','chip_antibody'])"
   ]
  },
  {
   "cell_type": "code",
   "execution_count": 2,
   "metadata": {
    "scrolled": true
   },
   "outputs": [
    {
     "data": {
      "text/html": [
       "<div>\n",
       "<style>\n",
       "    .dataframe thead tr:only-child th {\n",
       "        text-align: right;\n",
       "    }\n",
       "\n",
       "    .dataframe thead th {\n",
       "        text-align: left;\n",
       "    }\n",
       "\n",
       "    .dataframe tbody tr th {\n",
       "        vertical-align: top;\n",
       "    }\n",
       "</style>\n",
       "<table border=\"1\" class=\"dataframe\">\n",
       "  <thead>\n",
       "    <tr style=\"text-align: right;\">\n",
       "      <th></th>\n",
       "      <th>GSM</th>\n",
       "      <th>url</th>\n",
       "      <th>chip_antibody</th>\n",
       "    </tr>\n",
       "  </thead>\n",
       "  <tbody>\n",
       "    <tr>\n",
       "      <th>0</th>\n",
       "      <td>GSM1193810</td>\n",
       "      <td>ftp://ftp.ncbi.nlm.nih.gov/geo/samples/GSM1193...</td>\n",
       "      <td>rabbit αWOC</td>\n",
       "    </tr>\n",
       "    <tr>\n",
       "      <th>1</th>\n",
       "      <td>GSM1193811</td>\n",
       "      <td>ftp://ftp.ncbi.nlm.nih.gov/geo/samples/GSM1193...</td>\n",
       "      <td>rabbit αROW</td>\n",
       "    </tr>\n",
       "    <tr>\n",
       "      <th>2</th>\n",
       "      <td>GSM1193812</td>\n",
       "      <td>ftp://ftp.ncbi.nlm.nih.gov/geo/samples/GSM1193...</td>\n",
       "      <td>guinea pig αZ4</td>\n",
       "    </tr>\n",
       "    <tr>\n",
       "      <th>3</th>\n",
       "      <td>GSM1193815</td>\n",
       "      <td>ftp://ftp.ncbi.nlm.nih.gov/geo/samples/GSM1193...</td>\n",
       "      <td>rabbit αHP1c</td>\n",
       "    </tr>\n",
       "    <tr>\n",
       "      <th>4</th>\n",
       "      <td>GSM1193816</td>\n",
       "      <td>ftp://ftp.ncbi.nlm.nih.gov/geo/samples/GSM1193...</td>\n",
       "      <td>rabbit αDsk2</td>\n",
       "    </tr>\n",
       "  </tbody>\n",
       "</table>\n",
       "</div>"
      ],
      "text/plain": [
       "          GSM                                                url  \\\n",
       "0  GSM1193810  ftp://ftp.ncbi.nlm.nih.gov/geo/samples/GSM1193...   \n",
       "1  GSM1193811  ftp://ftp.ncbi.nlm.nih.gov/geo/samples/GSM1193...   \n",
       "2  GSM1193812  ftp://ftp.ncbi.nlm.nih.gov/geo/samples/GSM1193...   \n",
       "3  GSM1193815  ftp://ftp.ncbi.nlm.nih.gov/geo/samples/GSM1193...   \n",
       "4  GSM1193816  ftp://ftp.ncbi.nlm.nih.gov/geo/samples/GSM1193...   \n",
       "\n",
       "    chip_antibody  \n",
       "0     rabbit αWOC  \n",
       "1     rabbit αROW  \n",
       "2  guinea pig αZ4  \n",
       "3    rabbit αHP1c  \n",
       "4    rabbit αDsk2  "
      ]
     },
     "execution_count": 2,
     "metadata": {},
     "output_type": "execute_result"
    }
   ],
   "source": [
    "df.head()"
   ]
  },
  {
   "cell_type": "code",
   "execution_count": 3,
   "metadata": {
    "collapsed": true
   },
   "outputs": [],
   "source": [
    "#because sometimes series dependent for downloads and sometimes sample dependent, this way tries both:\n",
    "\n",
    "PATH = '../../output/chip/xmls/'\n",
    "gse = 'GSE49102'\n",
    "xml = 'https://www.ncbi.nlm.nih.gov/geo/query/acc.cgi?acc='+gse+'&targ=all&view=full&form=xml'\n",
    "os.makedirs(PATH, exist_ok=True)\n",
    "\n",
    "urlretrieve(xml, PATH+gse+'.xml')\n",
    "tree = ET.parse(PATH+gse+'.xml')\n",
    "root = tree.getroot()\n",
    "ns = {'url': 'http://www.ncbi.nlm.nih.gov/geo/info/MINiML'}\n",
    "\n",
    "series_table = []\n",
    "for series in root.findall('url:Series',ns):\n",
    "    for x in series.findall('url:Supplementary-Data', ns):\n",
    "        sup_type = x.get('type')\n",
    "        if sup_type == 'BED':\n",
    "            name = series.get('iid')\n",
    "            dwld = x.text.strip()\n",
    "            row = (name, dwld)\n",
    "            series_table.append(row)\n",
    "        else:\n",
    "            for sample in root.findall('url:Sample', ns):\n",
    "                sup = sample.find('url:Supplementary-Data', ns)\n",
    "                sup_type = sup.get('type')\n",
    "                if sup_type == 'BED': \n",
    "                    name = series.get('iid')\n",
    "                    row = (name, sup.text.strip())\n",
    "                    series_table.append(row)            \n",
    "sample_table = []\n",
    "for sample in root.findall('url:Sample', ns):\n",
    "    name = sample.get('iid')\n",
    "    title = sample.find('url:Title', ns)\n",
    "    for channel in sample.find('url:Channel',ns):\n",
    "        if channel.get('tag') == 'chip antibody':\n",
    "            tag = channel.text\n",
    "    row = (name, title.text, tag.strip())\n",
    "    sample_table.append(row)\n",
    "    \n",
    "sampledf = pd.DataFrame(sample_table, columns=['GSM','title','antibody'])\n",
    "seriesdf = pd.DataFrame(series_table, columns=['GSE','url'])"
   ]
  },
  {
   "cell_type": "code",
   "execution_count": 4,
   "metadata": {},
   "outputs": [
    {
     "data": {
      "text/html": [
       "<div>\n",
       "<style>\n",
       "    .dataframe thead tr:only-child th {\n",
       "        text-align: right;\n",
       "    }\n",
       "\n",
       "    .dataframe thead th {\n",
       "        text-align: left;\n",
       "    }\n",
       "\n",
       "    .dataframe tbody tr th {\n",
       "        vertical-align: top;\n",
       "    }\n",
       "</style>\n",
       "<table border=\"1\" class=\"dataframe\">\n",
       "  <thead>\n",
       "    <tr style=\"text-align: right;\">\n",
       "      <th></th>\n",
       "      <th>GSM</th>\n",
       "      <th>title</th>\n",
       "      <th>antibody</th>\n",
       "    </tr>\n",
       "  </thead>\n",
       "  <tbody>\n",
       "    <tr>\n",
       "      <th>0</th>\n",
       "      <td>GSM1193810</td>\n",
       "      <td>WOC</td>\n",
       "      <td>rabbit αWOC</td>\n",
       "    </tr>\n",
       "    <tr>\n",
       "      <th>1</th>\n",
       "      <td>GSM1193811</td>\n",
       "      <td>ROW</td>\n",
       "      <td>rabbit αROW</td>\n",
       "    </tr>\n",
       "    <tr>\n",
       "      <th>2</th>\n",
       "      <td>GSM1193812</td>\n",
       "      <td>Z4</td>\n",
       "      <td>guinea pig αZ4</td>\n",
       "    </tr>\n",
       "    <tr>\n",
       "      <th>3</th>\n",
       "      <td>GSM1193813</td>\n",
       "      <td>Input1</td>\n",
       "      <td>guinea pig αZ4</td>\n",
       "    </tr>\n",
       "    <tr>\n",
       "      <th>4</th>\n",
       "      <td>GSM1193814</td>\n",
       "      <td>Input2</td>\n",
       "      <td>guinea pig αZ4</td>\n",
       "    </tr>\n",
       "  </tbody>\n",
       "</table>\n",
       "</div>"
      ],
      "text/plain": [
       "          GSM   title        antibody\n",
       "0  GSM1193810     WOC     rabbit αWOC\n",
       "1  GSM1193811     ROW     rabbit αROW\n",
       "2  GSM1193812      Z4  guinea pig αZ4\n",
       "3  GSM1193813  Input1  guinea pig αZ4\n",
       "4  GSM1193814  Input2  guinea pig αZ4"
      ]
     },
     "execution_count": 4,
     "metadata": {},
     "output_type": "execute_result"
    }
   ],
   "source": [
    "sampledf.head()"
   ]
  },
  {
   "cell_type": "code",
   "execution_count": 5,
   "metadata": {},
   "outputs": [
    {
     "data": {
      "text/html": [
       "<div>\n",
       "<style>\n",
       "    .dataframe thead tr:only-child th {\n",
       "        text-align: right;\n",
       "    }\n",
       "\n",
       "    .dataframe thead th {\n",
       "        text-align: left;\n",
       "    }\n",
       "\n",
       "    .dataframe tbody tr th {\n",
       "        vertical-align: top;\n",
       "    }\n",
       "</style>\n",
       "<table border=\"1\" class=\"dataframe\">\n",
       "  <thead>\n",
       "    <tr style=\"text-align: right;\">\n",
       "      <th></th>\n",
       "      <th>GSE</th>\n",
       "      <th>url</th>\n",
       "    </tr>\n",
       "  </thead>\n",
       "  <tbody>\n",
       "    <tr>\n",
       "      <th>0</th>\n",
       "      <td>GSE49102</td>\n",
       "      <td>ftp://ftp.ncbi.nlm.nih.gov/geo/samples/GSM1193...</td>\n",
       "    </tr>\n",
       "    <tr>\n",
       "      <th>1</th>\n",
       "      <td>GSE49102</td>\n",
       "      <td>ftp://ftp.ncbi.nlm.nih.gov/geo/samples/GSM1193...</td>\n",
       "    </tr>\n",
       "    <tr>\n",
       "      <th>2</th>\n",
       "      <td>GSE49102</td>\n",
       "      <td>ftp://ftp.ncbi.nlm.nih.gov/geo/samples/GSM1193...</td>\n",
       "    </tr>\n",
       "    <tr>\n",
       "      <th>3</th>\n",
       "      <td>GSE49102</td>\n",
       "      <td>ftp://ftp.ncbi.nlm.nih.gov/geo/samples/GSM1193...</td>\n",
       "    </tr>\n",
       "    <tr>\n",
       "      <th>4</th>\n",
       "      <td>GSE49102</td>\n",
       "      <td>ftp://ftp.ncbi.nlm.nih.gov/geo/samples/GSM1193...</td>\n",
       "    </tr>\n",
       "  </tbody>\n",
       "</table>\n",
       "</div>"
      ],
      "text/plain": [
       "        GSE                                                url\n",
       "0  GSE49102  ftp://ftp.ncbi.nlm.nih.gov/geo/samples/GSM1193...\n",
       "1  GSE49102  ftp://ftp.ncbi.nlm.nih.gov/geo/samples/GSM1193...\n",
       "2  GSE49102  ftp://ftp.ncbi.nlm.nih.gov/geo/samples/GSM1193...\n",
       "3  GSE49102  ftp://ftp.ncbi.nlm.nih.gov/geo/samples/GSM1193...\n",
       "4  GSE49102  ftp://ftp.ncbi.nlm.nih.gov/geo/samples/GSM1193..."
      ]
     },
     "execution_count": 5,
     "metadata": {},
     "output_type": "execute_result"
    }
   ],
   "source": [
    "seriesdf.head()"
   ]
  },
  {
   "cell_type": "code",
   "execution_count": 153,
   "metadata": {
    "collapsed": true
   },
   "outputs": [],
   "source": [
    "#try again for GSE49511\n",
    "from urllib.request import urlretrieve\n",
    "import os\n",
    "import xml.etree.ElementTree as ET\n",
    "import pandas as pd\n",
    "\n",
    "PATH = '../../output/chip/xmls/'\n",
    "gse = \"GSE18643\"\n",
    "xml = 'https://www.ncbi.nlm.nih.gov/geo/query/acc.cgi?acc='+gse+'&targ=all&view=full&form=xml'\n",
    "os.makedirs(PATH, exist_ok=True)\n",
    "\n",
    "urlretrieve(xml, PATH+gse+'.xml')\n",
    "tree = ET.parse(PATH+gse+'.xml')\n",
    "root = tree.getroot()\n",
    "ns = {'url': 'http://www.ncbi.nlm.nih.gov/geo/info/MINiML'}\n",
    "\n",
    "series_table = []\n",
    "for series in root.findall('url:Series',ns):\n",
    "    for x in series.findall('url:Supplementary-Data', ns):\n",
    "        sup_type = x.get('type')\n",
    "        if sup_type == 'BED':\n",
    "            name = series.get('iid')\n",
    "            dwld = x.text.strip()\n",
    "            row = (name, dwld)\n",
    "            series_table.append(row)\n",
    "        else:\n",
    "            for sample in root.findall('url:Sample', ns):\n",
    "                sup = sample.find('url:Supplementary-Data', ns)\n",
    "                sup_type = sup.get('type')\n",
    "                if sup_type == 'BED': \n",
    "                    name = series.get('iid')\n",
    "                    row = (name, sup.text.strip())\n",
    "                    series_table.append(row)            \n",
    "sample_table = []\n",
    "for sample in root.findall('url:Sample', ns):\n",
    "    name = sample.get('iid')\n",
    "    title = sample.find('url:Title', ns)\n",
    "    for channel in sample.find('url:Channel',ns):\n",
    "        if channel.get('tag') == 'chip antibody':\n",
    "            tag = channel.text\n",
    "    row = (name, title.text, tag.strip())\n",
    "    sample_table.append(row)\n",
    "    \n",
    "sampledf = pd.DataFrame(sample_table, columns=['GSM','title','antibody'])\n",
    "seriesdf = pd.DataFrame(series_table, columns=['GSE','url'])"
   ]
  },
  {
   "cell_type": "code",
   "execution_count": 154,
   "metadata": {},
   "outputs": [
    {
     "data": {
      "text/html": [
       "<div>\n",
       "<style>\n",
       "    .dataframe thead tr:only-child th {\n",
       "        text-align: right;\n",
       "    }\n",
       "\n",
       "    .dataframe thead th {\n",
       "        text-align: left;\n",
       "    }\n",
       "\n",
       "    .dataframe tbody tr th {\n",
       "        vertical-align: top;\n",
       "    }\n",
       "</style>\n",
       "<table border=\"1\" class=\"dataframe\">\n",
       "  <thead>\n",
       "    <tr style=\"text-align: right;\">\n",
       "      <th></th>\n",
       "      <th>GSM</th>\n",
       "      <th>title</th>\n",
       "      <th>antibody</th>\n",
       "    </tr>\n",
       "  </thead>\n",
       "  <tbody>\n",
       "    <tr>\n",
       "      <th>0</th>\n",
       "      <td>GSM463297</td>\n",
       "      <td>S2_Rpb3_S2_Pol_II_ChIPSeq_rep1+rep2</td>\n",
       "      <td>Pol II Rpb3 subunit</td>\n",
       "    </tr>\n",
       "    <tr>\n",
       "      <th>1</th>\n",
       "      <td>GSM463298</td>\n",
       "      <td>S2_Cap_shortRNA_5'_RNAseq_untreated_rep1+rep2</td>\n",
       "      <td>n/a</td>\n",
       "    </tr>\n",
       "    <tr>\n",
       "      <th>2</th>\n",
       "      <td>GSM463299</td>\n",
       "      <td>S2_Cap_shortRNA_3'_RNAseq_untreated_rep1+rep2</td>\n",
       "      <td>n/a</td>\n",
       "    </tr>\n",
       "    <tr>\n",
       "      <th>3</th>\n",
       "      <td>GSM463300</td>\n",
       "      <td>S2_Cap_shortRNA_3'_RNAseq_IISdepleted_rep1+rep2</td>\n",
       "      <td>n/a</td>\n",
       "    </tr>\n",
       "    <tr>\n",
       "      <th>4</th>\n",
       "      <td>GSM463301</td>\n",
       "      <td>S2_Cap_shortRNA_3'_RNAseq_LacZdepleted_rep1+rep2</td>\n",
       "      <td>n/a</td>\n",
       "    </tr>\n",
       "  </tbody>\n",
       "</table>\n",
       "</div>"
      ],
      "text/plain": [
       "         GSM                                             title  \\\n",
       "0  GSM463297               S2_Rpb3_S2_Pol_II_ChIPSeq_rep1+rep2   \n",
       "1  GSM463298     S2_Cap_shortRNA_5'_RNAseq_untreated_rep1+rep2   \n",
       "2  GSM463299     S2_Cap_shortRNA_3'_RNAseq_untreated_rep1+rep2   \n",
       "3  GSM463300   S2_Cap_shortRNA_3'_RNAseq_IISdepleted_rep1+rep2   \n",
       "4  GSM463301  S2_Cap_shortRNA_3'_RNAseq_LacZdepleted_rep1+rep2   \n",
       "\n",
       "              antibody  \n",
       "0  Pol II Rpb3 subunit  \n",
       "1                  n/a  \n",
       "2                  n/a  \n",
       "3                  n/a  \n",
       "4                  n/a  "
      ]
     },
     "execution_count": 154,
     "metadata": {},
     "output_type": "execute_result"
    }
   ],
   "source": [
    "sampledf.head()"
   ]
  },
  {
   "cell_type": "code",
   "execution_count": 155,
   "metadata": {},
   "outputs": [
    {
     "data": {
      "text/html": [
       "<div>\n",
       "<style>\n",
       "    .dataframe thead tr:only-child th {\n",
       "        text-align: right;\n",
       "    }\n",
       "\n",
       "    .dataframe thead th {\n",
       "        text-align: left;\n",
       "    }\n",
       "\n",
       "    .dataframe tbody tr th {\n",
       "        vertical-align: top;\n",
       "    }\n",
       "</style>\n",
       "<table border=\"1\" class=\"dataframe\">\n",
       "  <thead>\n",
       "    <tr style=\"text-align: right;\">\n",
       "      <th></th>\n",
       "      <th>GSE</th>\n",
       "      <th>url</th>\n",
       "    </tr>\n",
       "  </thead>\n",
       "  <tbody>\n",
       "  </tbody>\n",
       "</table>\n",
       "</div>"
      ],
      "text/plain": [
       "Empty DataFrame\n",
       "Columns: [GSE, url]\n",
       "Index: []"
      ]
     },
     "execution_count": 155,
     "metadata": {},
     "output_type": "execute_result"
    }
   ],
   "source": [
    "seriesdf.head()"
   ]
  },
  {
   "cell_type": "code",
   "execution_count": 152,
   "metadata": {},
   "outputs": [
    {
     "data": {
      "text/plain": [
       "[('GSE18643',\n",
       "  'ftp://ftp.ncbi.nlm.nih.gov/geo/series/GSE18nnn/GSE18643/suppl/GSE18643_RAW.tar',\n",
       "  'TAR')]"
      ]
     },
     "execution_count": 152,
     "metadata": {},
     "output_type": "execute_result"
    }
   ],
   "source": [
    "series_table"
   ]
  },
  {
   "cell_type": "code",
   "execution_count": 146,
   "metadata": {
    "scrolled": true
   },
   "outputs": [
    {
     "name": "stdout",
     "output_type": "stream",
     "text": [
      "GSM463297 S2_Rpb3_S2_Pol_II_ChIPSeq_rep1+rep2\n",
      "\n",
      "Pol II Rpb3 subunit\n",
      "      \n",
      "('ftp://ftp.ncbi.nlm.nih.gov/geo/series/GSE18nnn/GSE18643/suppl/GSE18643_RAW.tar', 'TAR')\n",
      "GSE18643 Global Analysis of Short RNAs Reveals Widespread Promoter-Proximal Stalling and Arrest of Pol II\n"
     ]
    }
   ],
   "source": [
    "#try again for GSM463297\n",
    "#add in TAR\n",
    "#now i'm just changing everything again... \n",
    "#my problem is that every xml is arranged differently, so its hard to know what to take out from where\n",
    "from urllib.request import urlretrieve\n",
    "import os\n",
    "import xml.etree.ElementTree as ET\n",
    "import pandas as pd\n",
    "\n",
    "PATH = '../../output/chip/xmls/'\n",
    "gse = 'GSM463297'\n",
    "xml = 'https://www.ncbi.nlm.nih.gov/geo/query/acc.cgi?acc='+gse+'&targ=all&view=full&form=xml'\n",
    "os.makedirs(PATH, exist_ok=True)\n",
    "\n",
    "urlretrieve(xml, PATH+gse+'.xml')\n",
    "tree = ET.parse(PATH+gse+'.xml')\n",
    "root = tree.getroot()\n",
    "ns = {'url': 'http://www.ncbi.nlm.nih.gov/geo/info/MINiML'}\n",
    "\n",
    "sample_table = []\n",
    "for sample in tree.findall(\"url:Sample\", ns):\n",
    "    name = sample.get('iid')\n",
    "    title = sample.find('url:Title', ns) \n",
    "    if title is not None:\n",
    "        print(name, title.text.strip())\n",
    "    for char in sample.findall('*//url:Characteristics',ns):\n",
    "        if char.get('tag') == 'chip antibody':\n",
    "            print(char.text)\n",
    "for x in tree.findall('*//url:Supplementary-Data', ns):\n",
    "    sup_type = x.get('type')\n",
    "    if sup_type == 'BED':\n",
    "        dwld = x.text.strip()\n",
    "        row = (dwld, sup_type)\n",
    "        print(row)\n",
    "        #_table.append(row)\n",
    "    else:\n",
    "        if sup_type == 'TAR':\n",
    "            dwld = x.text.strip()\n",
    "            row = (dwld, sup_type)\n",
    "            print(row)\n",
    "            #_table.append(row)  \n",
    "            \n",
    "for series in tree.findall(\"url:Series\", ns):\n",
    "    name = series.get('iid')\n",
    "    title = series.find('url:Title', ns)\n",
    "    if title is not None:\n",
    "        print(name, title.text.strip())\n",
    "    #print(name, series.find('url:Title', ns))\n",
    "        \n"
   ]
  },
  {
   "cell_type": "code",
   "execution_count": 150,
   "metadata": {},
   "outputs": [
    {
     "name": "stdout",
     "output_type": "stream",
     "text": [
      "GSM463297\n",
      "GSM463298\n",
      "GSM463299\n",
      "GSM463300\n",
      "GSM463301\n",
      "GSM463302\n",
      "GSM463303\n",
      "GSM463304\n",
      "GSM463305\n",
      "GSE18643\n",
      "Illumina Genome Analyzer II (Drosophila melanogaster)\n",
      "S2_Rpb3_S2_Pol_II_ChIPSeq_rep1+rep2\n",
      "Global Analysis of Short RNAs Reveals Widespread Promoter-Proximal Stalling and Arrest of Pol II\n",
      "None\n",
      "None\n",
      "None\n",
      "None\n",
      "None\n",
      "None\n",
      "SRA Experiment\n",
      "BEDGRAPH\n",
      "SRA Study\n",
      "TXT\n",
      "TAR\n"
     ]
    }
   ],
   "source": [
    "#it would be ideal to be able to pull everything I want out without having to do it in the context of either \"sample\" \n",
    "# or \"series\"... because that changes every time. \n",
    "\n",
    "#name -- this could be samples or series or both? maybe just take all\n",
    "for sample in tree.findall(\"url:Sample\", ns):\n",
    "    name = sample.get('iid')\n",
    "    print(name)\n",
    "for series in tree.findall(\"url:Series\", ns):\n",
    "    name = series.get('iid')   \n",
    "    print(name)\n",
    "#title -- not all titles related to samples. (this has platform titles)\n",
    "for x in tree.findall('*//url:Title', ns):\n",
    "    print(x.text)\n",
    "#antibody -- this would most likely be sample specific\n",
    "for x in tree.findall('*//url:Characteristics', ns):\n",
    "    print(x.get('type'))\n",
    "#bed/tar -- this is general \n",
    "for x in tree.findall('*//url:Supplementary-Data', ns):\n",
    "    print(x.get('type'))\n"
   ]
  },
  {
   "cell_type": "code",
   "execution_count": 30,
   "metadata": {},
   "outputs": [
    {
     "ename": "IndentationError",
     "evalue": "unindent does not match any outer indentation level (<tokenize>, line 7)",
     "output_type": "error",
     "traceback": [
      "\u001b[0;36m  File \u001b[0;32m\"<tokenize>\"\u001b[0;36m, line \u001b[0;32m7\u001b[0m\n\u001b[0;31m    sample_table.append(row)\u001b[0m\n\u001b[0m    ^\u001b[0m\n\u001b[0;31mIndentationError\u001b[0m\u001b[0;31m:\u001b[0m unindent does not match any outer indentation level\n"
     ]
    }
   ],
   "source": [
    "sample_table = []\n",
    "for sample in tree.findall(\"url:Sample\", ns):\n",
    "    print(sample)\n",
    "    name = sample.get('iid')\n",
    "    title = sample.find('url:Title', ns)\n",
    "    sample.findall('*//url:Channel',ns)\n",
    "    for channel in sample.find('url:Channel',ns):\n",
    "        print(channel)\n",
    "        break\n",
    "        if channel.get('tag') == 'chip antibody':\n",
    "            tag = channel.text\n",
    "    #row = (name, title.text, tag.strip())\n",
    "    sample_table.append(row)\n",
    "    \n",
    "sampledf = pd.DataFrame(sample_table, columns=['GSM','title','antibody'])\n",
    "seriesdf = pd.DataFrame(series_table, columns=['GSE','url', 'data_type'])"
   ]
  }
 ],
 "metadata": {
  "kernelspec": {
   "display_name": "Python [conda env:s2rnai]",
   "language": "python",
   "name": "conda-env-s2rnai-py"
  },
  "language_info": {
   "codemirror_mode": {
    "name": "ipython",
    "version": 3
   },
   "file_extension": ".py",
   "mimetype": "text/x-python",
   "name": "python",
   "nbconvert_exporter": "python",
   "pygments_lexer": "ipython3",
   "version": "3.5.4"
  }
 },
 "nbformat": 4,
 "nbformat_minor": 2
}
