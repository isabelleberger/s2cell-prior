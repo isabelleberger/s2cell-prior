{
 "cells": [
  {
   "cell_type": "markdown",
   "metadata": {},
   "source": [
    "# Fill sampletable/config.yaml for the chipseq-wf\n",
    "Would be really useful to have a script to parse out information needed for these files because doing it by hand is a huge pain, and we have a lot of samples to run. \n",
    "\n",
    "All the information comes from this spreadsheet: \n",
    "{ note !! when saving this excel file, choose 'CSV UTF-8' } \n"
   ]
  },
  {
   "cell_type": "code",
   "execution_count": 17,
   "metadata": {},
   "outputs": [],
   "source": [
    "import pandas as pd\n",
    "import glob\n",
    "import os\n",
    "import ruamel.yaml as YAML\n",
    "import string"
   ]
  },
  {
   "cell_type": "code",
   "execution_count": 18,
   "metadata": {
    "scrolled": true
   },
   "outputs": [
    {
     "data": {
      "text/html": [
       "<div>\n",
       "<style scoped>\n",
       "    .dataframe tbody tr th:only-of-type {\n",
       "        vertical-align: middle;\n",
       "    }\n",
       "\n",
       "    .dataframe tbody tr th {\n",
       "        vertical-align: top;\n",
       "    }\n",
       "\n",
       "    .dataframe thead th {\n",
       "        text-align: right;\n",
       "    }\n",
       "</style>\n",
       "<table border=\"1\" class=\"dataframe\">\n",
       "  <thead>\n",
       "    <tr style=\"text-align: right;\">\n",
       "      <th></th>\n",
       "      <th>srx</th>\n",
       "      <th>cell_line</th>\n",
       "      <th>geo</th>\n",
       "      <th>paper</th>\n",
       "      <th>strategy</th>\n",
       "      <th>antibody</th>\n",
       "      <th>target</th>\n",
       "      <th>srr</th>\n",
       "      <th>chromatin</th>\n",
       "      <th>input</th>\n",
       "      <th>Unnamed: 10</th>\n",
       "    </tr>\n",
       "  </thead>\n",
       "  <tbody>\n",
       "    <tr>\n",
       "      <th>0</th>\n",
       "      <td>SRX191907</td>\n",
       "      <td>S2 DRSC: Schneider's line 2</td>\n",
       "      <td>GSM1015404</td>\n",
       "      <td>['24055367', '24055367']</td>\n",
       "      <td>ChIP-Seq</td>\n",
       "      <td>CP190 antibody (rabbit)</td>\n",
       "      <td>CP190</td>\n",
       "      <td>SRR580337</td>\n",
       "      <td>0</td>\n",
       "      <td>SRX191915</td>\n",
       "      <td>NaN</td>\n",
       "    </tr>\n",
       "    <tr>\n",
       "      <th>1</th>\n",
       "      <td>SRX191908</td>\n",
       "      <td>S2 DRSC: Schneider's line 2</td>\n",
       "      <td>GSM1015405</td>\n",
       "      <td>['24055367', '24055367']</td>\n",
       "      <td>ChIP-Seq</td>\n",
       "      <td>CP190 antibody (rabbit)</td>\n",
       "      <td>CP190</td>\n",
       "      <td>SRR580338</td>\n",
       "      <td>0</td>\n",
       "      <td>SRX191916</td>\n",
       "      <td>use srx as identifier</td>\n",
       "    </tr>\n",
       "    <tr>\n",
       "      <th>2</th>\n",
       "      <td>SRX191909</td>\n",
       "      <td>S2 DRSC: Schneider's line 2</td>\n",
       "      <td>GSM1015406</td>\n",
       "      <td>['24055367', '24055367']</td>\n",
       "      <td>ChIP-Seq</td>\n",
       "      <td>Su(Hw) antibody 406 (rabbit)</td>\n",
       "      <td>Su(Hw)</td>\n",
       "      <td>SRR580339</td>\n",
       "      <td>0</td>\n",
       "      <td>SRX191915</td>\n",
       "      <td>NaN</td>\n",
       "    </tr>\n",
       "    <tr>\n",
       "      <th>3</th>\n",
       "      <td>SRX191910</td>\n",
       "      <td>S2 DRSC: Schneider's line 2</td>\n",
       "      <td>GSM1015407</td>\n",
       "      <td>['24055367', '24055367']</td>\n",
       "      <td>ChIP-Seq</td>\n",
       "      <td>Su(Hw) antibody 406 (rabbit)</td>\n",
       "      <td>Su(Hw)</td>\n",
       "      <td>SRR580340</td>\n",
       "      <td>0</td>\n",
       "      <td>SRX191916</td>\n",
       "      <td>NaN</td>\n",
       "    </tr>\n",
       "    <tr>\n",
       "      <th>4</th>\n",
       "      <td>SRX191911</td>\n",
       "      <td>S2 DRSC: Schneider's line 2</td>\n",
       "      <td>GSM1015408</td>\n",
       "      <td>['24055367', '24055367']</td>\n",
       "      <td>ChIP-Seq</td>\n",
       "      <td>Mod(mdg4)2.2 antibody (rabbit)</td>\n",
       "      <td>mod(mdg4)2.2</td>\n",
       "      <td>SRR580341</td>\n",
       "      <td>0</td>\n",
       "      <td>SRX191915</td>\n",
       "      <td>NaN</td>\n",
       "    </tr>\n",
       "  </tbody>\n",
       "</table>\n",
       "</div>"
      ],
      "text/plain": [
       "         srx                    cell_line         geo  \\\n",
       "0  SRX191907  S2 DRSC: Schneider's line 2  GSM1015404   \n",
       "1  SRX191908  S2 DRSC: Schneider's line 2  GSM1015405   \n",
       "2  SRX191909  S2 DRSC: Schneider's line 2  GSM1015406   \n",
       "3  SRX191910  S2 DRSC: Schneider's line 2  GSM1015407   \n",
       "4  SRX191911  S2 DRSC: Schneider's line 2  GSM1015408   \n",
       "\n",
       "                      paper  strategy                        antibody  \\\n",
       "0  ['24055367', '24055367']  ChIP-Seq         CP190 antibody (rabbit)   \n",
       "1  ['24055367', '24055367']  ChIP-Seq         CP190 antibody (rabbit)   \n",
       "2  ['24055367', '24055367']  ChIP-Seq    Su(Hw) antibody 406 (rabbit)   \n",
       "3  ['24055367', '24055367']  ChIP-Seq    Su(Hw) antibody 406 (rabbit)   \n",
       "4  ['24055367', '24055367']  ChIP-Seq  Mod(mdg4)2.2 antibody (rabbit)   \n",
       "\n",
       "         target        srr  chromatin      input            Unnamed: 10  \n",
       "0         CP190  SRR580337          0  SRX191915                    NaN  \n",
       "1         CP190  SRR580338          0  SRX191916  use srx as identifier  \n",
       "2        Su(Hw)  SRR580339          0  SRX191915                    NaN  \n",
       "3        Su(Hw)  SRR580340          0  SRX191916                    NaN  \n",
       "4  mod(mdg4)2.2  SRR580341          0  SRX191915                    NaN  "
      ]
     },
     "execution_count": 18,
     "metadata": {},
     "output_type": "execute_result"
    }
   ],
   "source": [
    "spreadsheet = pd.read_csv('../output/chip/20171103_s2cell_chip-seq.csv')\n",
    "spreadsheet.head()"
   ]
  },
  {
   "cell_type": "code",
   "execution_count": 19,
   "metadata": {},
   "outputs": [],
   "source": [
    "#For now we are excluding datasets with no input: \n",
    "\n",
    "spreadsheet = spreadsheet[spreadsheet.input != 'no input?']"
   ]
  },
  {
   "cell_type": "markdown",
   "metadata": {},
   "source": [
    "### Sample table: \n",
    "- should have columns \"samplename, antibody, biological_material, replicate, label, orig_filename\" \n",
    "- put in a list of SRRs that you want sampletable for (for example all SRRs that aren't chromatin)\n",
    "- write out to \"sampletable_test.tsv\" "
   ]
  },
  {
   "cell_type": "code",
   "execution_count": 20,
   "metadata": {},
   "outputs": [],
   "source": [
    "all_chromatin = spreadsheet[spreadsheet.chromatin == 1]\n",
    "no_chromatin = spreadsheet[spreadsheet.chromatin == 0]"
   ]
  },
  {
   "cell_type": "code",
   "execution_count": 21,
   "metadata": {},
   "outputs": [],
   "source": [
    "chrom_srr_list = all_chromatin.srr.values.tolist()\n",
    "tf_srr_list = no_chromatin.srr.values.tolist()"
   ]
  },
  {
   "cell_type": "code",
   "execution_count": 42,
   "metadata": {},
   "outputs": [],
   "source": [
    "SRR_list = spreadsheet.srr.values.tolist() \n",
    "table = []\n",
    "missing_files = []\n",
    "\n",
    "def sanitize_fname(fname):\n",
    "        valid_chars = \"-_.%s%s\" % (string.ascii_letters, string.digits)\n",
    "        return ''.join([x for x in fname if x in valid_chars])\n",
    "\n",
    "for val in SRR_list:\n",
    "    for srr in val.split('|'):\n",
    "        SRR = srr.strip()\n",
    "        row = spreadsheet[spreadsheet.srr.astype(str).str.contains(SRR)]\n",
    "        antibody = sanitize_fname(row.target.values[0])\n",
    "        srx = row.srx.values[0]\n",
    "        inpt = row.input.values[0]\n",
    "        biomat = sanitize_fname(row.cell_line.values[0])\n",
    "        PATH = '/data/MiegNCBI/ncbi_remap/prealn-wf/output/samples/'+srx+'/'+SRR\n",
    "        with open(glob.glob(PATH+'/LAYOUT')[0]) as f:\n",
    "            for line in f:\n",
    "                if os.path.isfile(PATH+'/'+SRR+'_1.fastq.gz'):\n",
    "                    if [line == 'SE'] and [os.path.getsize(PATH+'/'+SRR+'_1.fastq.gz') > 0]: \n",
    "                        filename = PATH+'/'+SRR+'_1.fastq.gz'\n",
    "                    if line == 'SE' and os.path.getsize(PATH+'/'+SRR+'_2.fastq.gz') > 0:\n",
    "                        filename = PATH+'/'+SRR+'_2.fastq.gz'\n",
    "                    if line == 'keep_R1':\n",
    "                        filename = PATH+'/'+SRR+'_1.fastq.gz'\n",
    "                    if line == 'keep_R2':\n",
    "                        filename = PATH+'/'+SRR+'_2.fastq.gz'\n",
    "                    if line == 'PE': \n",
    "                        filename = PATH+'/'+SRR+'_1.fastq.gz'\n",
    "                        #decided to get rid of the 2nd\n",
    "                        #row_2 = [SRR+'_2', antibody, 's2cell', '2', srx, PATH+'/'+SRR+'_2.fastq.gz']\n",
    "                    new_row = [SRR, antibody, biomat, '1', srx, filename]\n",
    "                    table.append(new_row)\n",
    "                else:\n",
    "                    myglob = glob.glob('/home/bergeric/data/s2cell-prior/output/chip/fastq_dump/'+SRR+'_*')\n",
    "                    if myglob: \n",
    "                        filename = myglob[0]\n",
    "                        new_row = [SRR, antibody, biomat, '1', srx, filename]\n",
    "                        table.append(new_row)\n",
    "                    else:\n",
    "                        missing_files.append(SRR)\n",
    "                                   \n",
    "        if inpt != 'no input?':\n",
    "            inpt_row = spreadsheet[spreadsheet.srx.astype(str).str.contains(inpt)]\n",
    "            inpt_srr = inpt_row.srr.values[0]\n",
    "            if inpt_srr not in SRR_list: \n",
    "                SRR_list.append(inpt_srr)\n",
    "    \n",
    "my_sampletable = pd.DataFrame(table, columns=['samplename','antibody','biological_material','replicate','label',\n",
    "                                             'orig_filename']) \n",
    "#paired end only: \n",
    "#paired_end = my_sampletable[my_sampletable.samplename.astype(str).str.contains('_')]\n",
    "#single end only:\n",
    "#single_end = my_sampletable[~my_sampletable.samplename.astype(str).str.contains('_')]\n",
    "#write out \n",
    "my_sampletable.to_csv('../chipseq-wf/config/sampletable_all.tsv', sep='\\t', index=False)\n",
    "#single_end.to_csv('../chipseq-wf/config/sampletable_SE.tsv', sep='\\t', index=False)\n",
    "#paired_end.to_csv('../chipseq-wf/config/sampletable_PE.tsv', sep='\\t', index=False)"
   ]
  },
  {
   "cell_type": "code",
   "execution_count": 44,
   "metadata": {},
   "outputs": [
    {
     "data": {
      "text/plain": [
       "[]"
      ]
     },
     "execution_count": 44,
     "metadata": {},
     "output_type": "execute_result"
    }
   ],
   "source": [
    "missing_files"
   ]
  },
  {
   "cell_type": "code",
   "execution_count": 43,
   "metadata": {
    "scrolled": false
   },
   "outputs": [
    {
     "data": {
      "text/html": [
       "<div>\n",
       "<style scoped>\n",
       "    .dataframe tbody tr th:only-of-type {\n",
       "        vertical-align: middle;\n",
       "    }\n",
       "\n",
       "    .dataframe tbody tr th {\n",
       "        vertical-align: top;\n",
       "    }\n",
       "\n",
       "    .dataframe thead th {\n",
       "        text-align: right;\n",
       "    }\n",
       "</style>\n",
       "<table border=\"1\" class=\"dataframe\">\n",
       "  <thead>\n",
       "    <tr style=\"text-align: right;\">\n",
       "      <th></th>\n",
       "      <th>samplename</th>\n",
       "      <th>antibody</th>\n",
       "      <th>biological_material</th>\n",
       "      <th>replicate</th>\n",
       "      <th>label</th>\n",
       "      <th>orig_filename</th>\n",
       "    </tr>\n",
       "  </thead>\n",
       "  <tbody>\n",
       "    <tr>\n",
       "      <th>0</th>\n",
       "      <td>SRR580337</td>\n",
       "      <td>CP190</td>\n",
       "      <td>S2DRSCSchneidersline2</td>\n",
       "      <td>1</td>\n",
       "      <td>SRX191907</td>\n",
       "      <td>/data/MiegNCBI/ncbi_remap/prealn-wf/output/sam...</td>\n",
       "    </tr>\n",
       "    <tr>\n",
       "      <th>1</th>\n",
       "      <td>SRR580338</td>\n",
       "      <td>CP190</td>\n",
       "      <td>S2DRSCSchneidersline2</td>\n",
       "      <td>1</td>\n",
       "      <td>SRX191908</td>\n",
       "      <td>/data/MiegNCBI/ncbi_remap/prealn-wf/output/sam...</td>\n",
       "    </tr>\n",
       "    <tr>\n",
       "      <th>2</th>\n",
       "      <td>SRR580339</td>\n",
       "      <td>SuHw</td>\n",
       "      <td>S2DRSCSchneidersline2</td>\n",
       "      <td>1</td>\n",
       "      <td>SRX191909</td>\n",
       "      <td>/data/MiegNCBI/ncbi_remap/prealn-wf/output/sam...</td>\n",
       "    </tr>\n",
       "    <tr>\n",
       "      <th>3</th>\n",
       "      <td>SRR580340</td>\n",
       "      <td>SuHw</td>\n",
       "      <td>S2DRSCSchneidersline2</td>\n",
       "      <td>1</td>\n",
       "      <td>SRX191910</td>\n",
       "      <td>/data/MiegNCBI/ncbi_remap/prealn-wf/output/sam...</td>\n",
       "    </tr>\n",
       "    <tr>\n",
       "      <th>4</th>\n",
       "      <td>SRR580341</td>\n",
       "      <td>modmdg42.2</td>\n",
       "      <td>S2DRSCSchneidersline2</td>\n",
       "      <td>1</td>\n",
       "      <td>SRX191911</td>\n",
       "      <td>/data/MiegNCBI/ncbi_remap/prealn-wf/output/sam...</td>\n",
       "    </tr>\n",
       "  </tbody>\n",
       "</table>\n",
       "</div>"
      ],
      "text/plain": [
       "  samplename    antibody    biological_material replicate      label  \\\n",
       "0  SRR580337       CP190  S2DRSCSchneidersline2         1  SRX191907   \n",
       "1  SRR580338       CP190  S2DRSCSchneidersline2         1  SRX191908   \n",
       "2  SRR580339        SuHw  S2DRSCSchneidersline2         1  SRX191909   \n",
       "3  SRR580340        SuHw  S2DRSCSchneidersline2         1  SRX191910   \n",
       "4  SRR580341  modmdg42.2  S2DRSCSchneidersline2         1  SRX191911   \n",
       "\n",
       "                                       orig_filename  \n",
       "0  /data/MiegNCBI/ncbi_remap/prealn-wf/output/sam...  \n",
       "1  /data/MiegNCBI/ncbi_remap/prealn-wf/output/sam...  \n",
       "2  /data/MiegNCBI/ncbi_remap/prealn-wf/output/sam...  \n",
       "3  /data/MiegNCBI/ncbi_remap/prealn-wf/output/sam...  \n",
       "4  /data/MiegNCBI/ncbi_remap/prealn-wf/output/sam...  "
      ]
     },
     "execution_count": 43,
     "metadata": {},
     "output_type": "execute_result"
    }
   ],
   "source": [
    "my_sampletable.head()"
   ]
  },
  {
   "cell_type": "code",
   "execution_count": 51,
   "metadata": {},
   "outputs": [],
   "source": [
    "s2col = ['s2cell-' + str(x) for x in range(0,len(my_sampletable.label))]"
   ]
  },
  {
   "cell_type": "code",
   "execution_count": 53,
   "metadata": {},
   "outputs": [],
   "source": [
    "my_sampletable['biological_material'] = s2col"
   ]
  },
  {
   "cell_type": "code",
   "execution_count": 55,
   "metadata": {},
   "outputs": [],
   "source": [
    "my_sampletable.to_csv('../chipseq-wf/config/sampletable_all.tsv', sep='\\t', index=False)"
   ]
  },
  {
   "cell_type": "markdown",
   "metadata": {},
   "source": [
    "### Config file\n",
    "- yaml\n",
    "- fill in label, algorithm, ip, control, extra\n",
    "- write out to \"copy_config.yaml\""
   ]
  },
  {
   "cell_type": "code",
   "execution_count": 34,
   "metadata": {},
   "outputs": [],
   "source": [
    "spp_empty = ['SRX149192', 'SRX885700', 'ERX402137', 'ERX402138','SRX885698', 'SRX883604','SRX1179573','SRX054533',\n",
    "'SRX495789', 'SRX1389384','SRX2055961','SRX2055966','SRX2055958', 'ERX402108','SRX330269','ERX402133','SRX306190',\n",
    "'ERX402112','SRX359797','SRX1433400', 'SRX306193','ERX1403350', 'SRX1179572','SRX1433401','SRX018632','SRX1389387',\n",
    " 'SRX326970','SRX2055964','SRX885702','SRX2055945','SRX326969', 'SRX447393','SRX330270','SRX495270','SRX2055944',\n",
    "'SRX097620','SRX359798','SRX883605','SRX018631','SRX306196','SRX018629','SRX2055953','SRX149189','SRX1389388',\n",
    "'SRX018630','SRX1433397','ERX402114','SRX495269','SRX1433399']\n",
    "\n",
    "macs_empty = ['SRX495277','SRX495278','SRX495290','SRX495289']"
   ]
  },
  {
   "cell_type": "code",
   "execution_count": 13,
   "metadata": {},
   "outputs": [],
   "source": [
    "#pull out labels from sample table that are not inputs  \n",
    "#chromatin extra\n",
    "#extra = '-g dm --bdg --broad --slocal 5000 --nomodel --extsize 147'\n",
    "#tf extra\n",
    "extra = '-g dm --bdg --nomodel --extsize 147'\n",
    "SRX_list = set(my_sampletable.label.values)\n",
    "\n",
    "block_list = []\n",
    "with open('../chipseq-wf/config/config_tf.yaml', 'w') as outfile: \n",
    "    for SRX in SRX_list: \n",
    "        row = spreadsheet[spreadsheet.srx.astype(str).str.contains(SRX)]\n",
    "        if not row.antibody.astype(str).str.contains('input').bool():\n",
    "            label = SRX\n",
    "            ip = SRX\n",
    "            control = row.input.values[0]\n",
    "            macs_block = {'label': label, 'algorithm': 'macs2', 'ip': [ip], 'control': [control], \n",
    "                                    'extra': YAML.scalarstring.SingleQuotedScalarString(extra)}\n",
    "            spp_block = {'label': label, 'algorithm': 'spp', 'ip': [ip], 'control': [control], \n",
    "                                    'extra': {'fdr': 0.001}}\n",
    "            if macs_block and spp_block not in block_list: \n",
    "                block_list.append(macs_block)\n",
    "                block_list.append(spp_block)\n",
    "    with open('../chipseq-wf/config/config.yaml', 'r') as c:\n",
    "        page = YAML.load(c, Loader=YAML.RoundTripLoader, preserve_quotes=True)\n",
    "        for block in block_list: \n",
    "            page['chipseq']['peak_calling'].append(block)\n",
    "        YAML.dump(page, outfile, Dumper=YAML.RoundTripDumper)"
   ]
  },
  {
   "cell_type": "markdown",
   "metadata": {},
   "source": [
    "###  Rerun empty sets with different parameters: "
   ]
  },
  {
   "cell_type": "code",
   "execution_count": 15,
   "metadata": {},
   "outputs": [],
   "source": [
    "#fill in config with samples I want to rerun: \n",
    "my_srrs = spreadsheet[spreadsheet.srx.isin(spp_empty)].srr.values.tolist()\n",
    "\n",
    "#extra = '-g dm --bdg --broad --slocal 5000 --nomodel --extsize 147'\n",
    "extra = '-g dm --bdg --nomodel --extsize 589'\n",
    "SRX_list = set(spp_empty)\n",
    "macs_list = set(macs_empty)\n",
    "\n",
    "block_list = []\n",
    "with open('../chipseq-wf/config/config_empty.yaml', 'w') as outfile: \n",
    "    for SRX in SRX_list: \n",
    "        row = spreadsheet[spreadsheet.srx.astype(str).str.contains(SRX)]\n",
    "        if not row.antibody.astype(str).str.contains('input').bool():\n",
    "            label = SRX\n",
    "            ip = SRX\n",
    "            control = row.input.values[0]\n",
    "            spp_block = {'label': label, 'algorithm': 'spp', 'ip': [ip], 'control': [control], \n",
    "                                    'extra': {'fdr': 0.1}}\n",
    "            if spp_block not in block_list: \n",
    "                block_list.append(spp_block)\n",
    "    for SRX in macs_list: \n",
    "        row = spreadsheet[spreadsheet.srx.astype(str).str.contains(SRX)]\n",
    "        if not row.antibody.astype(str).str.contains('input').bool():\n",
    "            label = SRX\n",
    "            ip = SRX\n",
    "            control = row.input.values[0]\n",
    "            macs_block = {'label': label, 'algorithm': 'macs2', 'ip': [ip], 'control': [control], \n",
    "                                    'extra': YAML.scalarstring.SingleQuotedScalarString(extra)}\n",
    "            if macs_block not in block_list: \n",
    "                block_list.append(macs_block)\n",
    "    with open('../chipseq-wf/config/config.yaml', 'r') as c:\n",
    "        page = YAML.load(c, Loader=YAML.RoundTripLoader, preserve_quotes=True)\n",
    "        for block in block_list: \n",
    "            page['chipseq']['peak_calling'].append(block)\n",
    "        YAML.dump(page, outfile, Dumper=YAML.RoundTripDumper)"
   ]
  }
 ],
 "metadata": {
  "kernelspec": {
   "display_name": "Python [conda env:s2rnai]",
   "language": "python",
   "name": "conda-env-s2rnai-py"
  },
  "language_info": {
   "codemirror_mode": {
    "name": "ipython",
    "version": 3
   },
   "file_extension": ".py",
   "mimetype": "text/x-python",
   "name": "python",
   "nbconvert_exporter": "python",
   "pygments_lexer": "ipython3",
   "version": "3.6.3"
  }
 },
 "nbformat": 4,
 "nbformat_minor": 2
}
