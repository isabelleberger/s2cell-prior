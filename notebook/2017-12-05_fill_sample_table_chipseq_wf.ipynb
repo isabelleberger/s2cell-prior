{
 "cells": [
  {
   "cell_type": "markdown",
   "metadata": {},
   "source": [
    "# Fill sampletable/config.yaml for the chipseq-wf\n",
    "Would be really useful to have a script to parse out information needed for these files because doing it by hand is a huge pain, and we have a lot of samples to run. \n",
    "\n",
    "All the information comes from this spreadsheet: \n",
    "{ note !! when saving this excel file, choose 'CSV UTF-8' } \n"
   ]
  },
  {
   "cell_type": "code",
   "execution_count": 1,
   "metadata": {},
   "outputs": [],
   "source": [
    "import pandas as pd\n",
    "import glob\n",
    "import os\n",
    "import ruamel.yaml as YAML"
   ]
  },
  {
   "cell_type": "code",
   "execution_count": 2,
   "metadata": {},
   "outputs": [
    {
     "data": {
      "text/html": [
       "<div>\n",
       "<style scoped>\n",
       "    .dataframe tbody tr th:only-of-type {\n",
       "        vertical-align: middle;\n",
       "    }\n",
       "\n",
       "    .dataframe tbody tr th {\n",
       "        vertical-align: top;\n",
       "    }\n",
       "\n",
       "    .dataframe thead th {\n",
       "        text-align: right;\n",
       "    }\n",
       "</style>\n",
       "<table border=\"1\" class=\"dataframe\">\n",
       "  <thead>\n",
       "    <tr style=\"text-align: right;\">\n",
       "      <th></th>\n",
       "      <th>srx</th>\n",
       "      <th>cell_line</th>\n",
       "      <th>geo</th>\n",
       "      <th>paper</th>\n",
       "      <th>strategy</th>\n",
       "      <th>antibody</th>\n",
       "      <th>srr</th>\n",
       "      <th>chromatin</th>\n",
       "      <th>input</th>\n",
       "    </tr>\n",
       "  </thead>\n",
       "  <tbody>\n",
       "    <tr>\n",
       "      <th>0</th>\n",
       "      <td>SRX191907</td>\n",
       "      <td>S2 DRSC: Schneider's line 2</td>\n",
       "      <td>GSM1015404</td>\n",
       "      <td>['24055367', '24055367']</td>\n",
       "      <td>ChIP-Seq</td>\n",
       "      <td>CP190 antibody (rabbit)</td>\n",
       "      <td>SRR580337</td>\n",
       "      <td>0</td>\n",
       "      <td>SRX191915</td>\n",
       "    </tr>\n",
       "    <tr>\n",
       "      <th>1</th>\n",
       "      <td>SRX191908</td>\n",
       "      <td>S2 DRSC: Schneider's line 2</td>\n",
       "      <td>GSM1015405</td>\n",
       "      <td>['24055367', '24055367']</td>\n",
       "      <td>ChIP-Seq</td>\n",
       "      <td>CP190 antibody (rabbit)</td>\n",
       "      <td>SRR580338</td>\n",
       "      <td>0</td>\n",
       "      <td>SRX191916</td>\n",
       "    </tr>\n",
       "    <tr>\n",
       "      <th>2</th>\n",
       "      <td>SRX191909</td>\n",
       "      <td>S2 DRSC: Schneider's line 2</td>\n",
       "      <td>GSM1015406</td>\n",
       "      <td>['24055367', '24055367']</td>\n",
       "      <td>ChIP-Seq</td>\n",
       "      <td>Su(Hw) antibody 406 (rabbit)</td>\n",
       "      <td>SRR580339</td>\n",
       "      <td>0</td>\n",
       "      <td>SRX191915</td>\n",
       "    </tr>\n",
       "    <tr>\n",
       "      <th>3</th>\n",
       "      <td>SRX191910</td>\n",
       "      <td>S2 DRSC: Schneider's line 2</td>\n",
       "      <td>GSM1015407</td>\n",
       "      <td>['24055367', '24055367']</td>\n",
       "      <td>ChIP-Seq</td>\n",
       "      <td>Su(Hw) antibody 406 (rabbit)</td>\n",
       "      <td>SRR580340</td>\n",
       "      <td>0</td>\n",
       "      <td>SRX191916</td>\n",
       "    </tr>\n",
       "    <tr>\n",
       "      <th>4</th>\n",
       "      <td>SRX191911</td>\n",
       "      <td>S2 DRSC: Schneider's line 2</td>\n",
       "      <td>GSM1015408</td>\n",
       "      <td>['24055367', '24055367']</td>\n",
       "      <td>ChIP-Seq</td>\n",
       "      <td>Mod(mdg4)2.2 antibody (rabbit)</td>\n",
       "      <td>SRR580341</td>\n",
       "      <td>0</td>\n",
       "      <td>SRX191915</td>\n",
       "    </tr>\n",
       "  </tbody>\n",
       "</table>\n",
       "</div>"
      ],
      "text/plain": [
       "         srx                    cell_line         geo  \\\n",
       "0  SRX191907  S2 DRSC: Schneider's line 2  GSM1015404   \n",
       "1  SRX191908  S2 DRSC: Schneider's line 2  GSM1015405   \n",
       "2  SRX191909  S2 DRSC: Schneider's line 2  GSM1015406   \n",
       "3  SRX191910  S2 DRSC: Schneider's line 2  GSM1015407   \n",
       "4  SRX191911  S2 DRSC: Schneider's line 2  GSM1015408   \n",
       "\n",
       "                      paper  strategy                        antibody  \\\n",
       "0  ['24055367', '24055367']  ChIP-Seq         CP190 antibody (rabbit)   \n",
       "1  ['24055367', '24055367']  ChIP-Seq         CP190 antibody (rabbit)   \n",
       "2  ['24055367', '24055367']  ChIP-Seq    Su(Hw) antibody 406 (rabbit)   \n",
       "3  ['24055367', '24055367']  ChIP-Seq    Su(Hw) antibody 406 (rabbit)   \n",
       "4  ['24055367', '24055367']  ChIP-Seq  Mod(mdg4)2.2 antibody (rabbit)   \n",
       "\n",
       "         srr  chromatin      input  \n",
       "0  SRR580337          0  SRX191915  \n",
       "1  SRR580338          0  SRX191916  \n",
       "2  SRR580339          0  SRX191915  \n",
       "3  SRR580340          0  SRX191916  \n",
       "4  SRR580341          0  SRX191915  "
      ]
     },
     "execution_count": 2,
     "metadata": {},
     "output_type": "execute_result"
    }
   ],
   "source": [
    "spreadsheet = pd.read_csv('../output/chip/20171103_s2cell_chip-seq.csv')\n",
    "spreadsheet.head()"
   ]
  },
  {
   "cell_type": "markdown",
   "metadata": {},
   "source": [
    "### Sample table: \n",
    "- should have columns \"samplename, antibody, biological_material, replicate, label, orig_filename\" \n",
    "- put in a list of SRRs that you want sampletable for (for example all SRRs that aren't chromatin)\n",
    "- write out to \"sampletable_test.tsv\" "
   ]
  },
  {
   "cell_type": "code",
   "execution_count": 3,
   "metadata": {},
   "outputs": [],
   "source": [
    "all_chromatin = spreadsheet[spreadsheet.chromatin == 1]\n",
    "no_chromatin = spreadsheet[spreadsheet.chromatin == 0]"
   ]
  },
  {
   "cell_type": "code",
   "execution_count": 4,
   "metadata": {},
   "outputs": [],
   "source": [
    "SRR_list = ['SRR121525', 'ERR055260']\n",
    "table = []\n",
    "\n",
    "for SRR in SRR_list: \n",
    "    row = spreadsheet[spreadsheet.srr.astype(str).str.contains(SRR)]\n",
    "    antibody = row.antibody.values[0]\n",
    "    srx = row.srx.values[0]\n",
    "    PATH = '/data/MiegNCBI/ncbi_remap/prealn-wf/output/samples/'+srx+'/'+SRR\n",
    "    with open(glob.glob(PATH+'/LAYOUT')[0]) as f:\n",
    "        for line in f:\n",
    "            if [line == 'SE'] and [os.path.getsize(PATH+'/'+SRR+'_1.fastq.gz') > 0]: \n",
    "                filename = PATH+'/'+SRR+'_1.fastq.gz'\n",
    "            if line == 'SE' and os.path.getsize(PATH+'/'+SRR+'_2.fastq.gz') > 0:\n",
    "                filename = PATH+'/'+SRR+'_2.fastq.gz'\n",
    "            if line != 'SE': \n",
    "                filename = [PATH+'/'+SRR+'_1.fastq.gz', PATH+'/'+SRR+'_2.fastq.gz']\n",
    "    new_row = [SRR, antibody, 's2cell', '1', srx, filename]\n",
    "    table.append(new_row)\n",
    "    \n",
    "my_sampletable = pd.DataFrame(table, columns=['samplename','antibody','biological_material','replicate','label',\n",
    "                                             'orig_filename']) \n",
    "#write out \n",
    "# my_sampletable.to_csv('../chipseq-wf/config/sampletable_test.tsv', sep='\\t', index=False)"
   ]
  },
  {
   "cell_type": "code",
   "execution_count": 5,
   "metadata": {
    "scrolled": true
   },
   "outputs": [
    {
     "data": {
      "text/html": [
       "<div>\n",
       "<style scoped>\n",
       "    .dataframe tbody tr th:only-of-type {\n",
       "        vertical-align: middle;\n",
       "    }\n",
       "\n",
       "    .dataframe tbody tr th {\n",
       "        vertical-align: top;\n",
       "    }\n",
       "\n",
       "    .dataframe thead th {\n",
       "        text-align: right;\n",
       "    }\n",
       "</style>\n",
       "<table border=\"1\" class=\"dataframe\">\n",
       "  <thead>\n",
       "    <tr style=\"text-align: right;\">\n",
       "      <th></th>\n",
       "      <th>samplename</th>\n",
       "      <th>antibody</th>\n",
       "      <th>biological_material</th>\n",
       "      <th>replicate</th>\n",
       "      <th>label</th>\n",
       "      <th>orig_filename</th>\n",
       "    </tr>\n",
       "  </thead>\n",
       "  <tbody>\n",
       "    <tr>\n",
       "      <th>0</th>\n",
       "      <td>SRR121525</td>\n",
       "      <td>anti-H3K36me3</td>\n",
       "      <td>s2cell</td>\n",
       "      <td>1</td>\n",
       "      <td>SRX046653</td>\n",
       "      <td>/data/MiegNCBI/ncbi_remap/prealn-wf/output/sam...</td>\n",
       "    </tr>\n",
       "    <tr>\n",
       "      <th>1</th>\n",
       "      <td>ERR055260</td>\n",
       "      <td>dLint1</td>\n",
       "      <td>s2cell</td>\n",
       "      <td>1</td>\n",
       "      <td>ERX032305</td>\n",
       "      <td>/data/MiegNCBI/ncbi_remap/prealn-wf/output/sam...</td>\n",
       "    </tr>\n",
       "  </tbody>\n",
       "</table>\n",
       "</div>"
      ],
      "text/plain": [
       "  samplename       antibody biological_material replicate      label  \\\n",
       "0  SRR121525  anti-H3K36me3              s2cell         1  SRX046653   \n",
       "1  ERR055260         dLint1              s2cell         1  ERX032305   \n",
       "\n",
       "                                       orig_filename  \n",
       "0  /data/MiegNCBI/ncbi_remap/prealn-wf/output/sam...  \n",
       "1  /data/MiegNCBI/ncbi_remap/prealn-wf/output/sam...  "
      ]
     },
     "execution_count": 5,
     "metadata": {},
     "output_type": "execute_result"
    }
   ],
   "source": [
    "my_sampletable.head()"
   ]
  },
  {
   "cell_type": "markdown",
   "metadata": {},
   "source": [
    "### Config file\n",
    "- yaml\n",
    "- fill in label, algorithm, ip, control, extra\n",
    "- write out to \"copy_config.yaml\""
   ]
  },
  {
   "cell_type": "code",
   "execution_count": 6,
   "metadata": {},
   "outputs": [],
   "source": [
    "#pull out each label that isn't input \n",
    "#keep algorithm and extra set for now, 2nd extra parameter set for not chromatin?? \n",
    "algorithm = 'macs2'\n",
    "extra = '-g dm --bdg --broad --slocal 5000'\n",
    "SRR_list = ['SRR121525']\n",
    " \n",
    "with open('../chipseq-wf/config/copy_config.yaml', 'w') as outfile: \n",
    "    for SRR in SRR_list: \n",
    "        row = spreadsheet[spreadsheet.srr.astype(str).str.contains(SRR)]\n",
    "        srx = row.srx.values[0]\n",
    "        label = srx\n",
    "        ip = srx\n",
    "        control = row.input.values[0]\n",
    "        block = {'label': srx, 'algorithm': algorithm, 'ip': [ip], 'control': [control], \n",
    "                                    'extra': YAML.scalarstring.SingleQuotedScalarString(extra)}\n",
    "    with open('../chipseq-wf/config/config.yaml', 'r') as c:\n",
    "        page = YAML.load(c, Loader=YAML.RoundTripLoader, preserve_quotes=True)\n",
    "        page['chipseq']['peak_calling'].append(block)\n",
    "        YAML.dump(page, outfile, Dumper=YAML.RoundTripDumper)"
   ]
  }
 ],
 "metadata": {
  "kernelspec": {
   "display_name": "Python [conda env:s2rnai]",
   "language": "python",
   "name": "conda-env-s2rnai-py"
  },
  "language_info": {
   "codemirror_mode": {
    "name": "ipython",
    "version": 3
   },
   "file_extension": ".py",
   "mimetype": "text/x-python",
   "name": "python",
   "nbconvert_exporter": "python",
   "pygments_lexer": "ipython3",
   "version": "3.6.3"
  }
 },
 "nbformat": 4,
 "nbformat_minor": 2
}
