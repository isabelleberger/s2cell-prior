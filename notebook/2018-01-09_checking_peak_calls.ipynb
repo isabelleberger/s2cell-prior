{
 "cells": [
  {
   "cell_type": "markdown",
   "metadata": {},
   "source": [
    "## Explore peak data\n",
    "\n",
    "These are the peak calls from running the chipseq-wf with all S2 cell chip data in the SRA. I remove phantom peaks, and plot the distribution of peak counts for TF/histones. I then filter for datasets with less than 1000 peaks. "
   ]
  },
  {
   "cell_type": "code",
   "execution_count": 1,
   "metadata": {},
   "outputs": [],
   "source": [
    "import pandas as pd\n",
    "import seaborn as sb\n",
    "import glob\n",
    "import os\n",
    "import pybedtools\n",
    "from pybedtools.featurefuncs import gff2bed"
   ]
  },
  {
   "cell_type": "code",
   "execution_count": 2,
   "metadata": {},
   "outputs": [],
   "source": [
    "#dropping this dataset -- 4 of the samples have 0 reads after cutadapt\n",
    "throw_out = ['ERX242704', 'ERX242706', 'ERX242707','ERX242709', 'ERX242710','ERX242711','ERX242712','ERX242713',\n",
    "             'ERX242715', 'ERX242716', 'ERX242717', 'ERX242718','ERX242722', 'ERX242723', 'ERX242724', 'ERX242726',\n",
    "             'ERX242727', 'ERX242728', 'ERX242729']"
   ]
  },
  {
   "cell_type": "code",
   "execution_count": 3,
   "metadata": {},
   "outputs": [],
   "source": [
    "#look into rerunning these with different parameters, 'SRX326969' shouldn't come up again \n",
    "empty = ['SRX495277','SRX495278','SRX495290','SRX495289']"
   ]
  },
  {
   "cell_type": "markdown",
   "metadata": {},
   "source": [
    "Import the peak calls:"
   ]
  },
  {
   "cell_type": "code",
   "execution_count": 4,
   "metadata": {},
   "outputs": [],
   "source": [
    "#all peaks would be glob.glob('../chipseq-wf/data/chipseq_peaks/*/[S,E]RX*/peaks.bed')\n",
    "#macs2 peaks\n",
    "concat = []\n",
    "for fname in glob.glob('../chipseq-wf/data/chipseq_peaks/macs2/[S,E]RX*/peaks.bed'):\n",
    "    name = fname.split('../chipseq-wf/data/chipseq_peaks/macs2/')[1].split('/peaks.bed')[0]\n",
    "    if name not in throw_out:\n",
    "        if name not in empty:\n",
    "            df = pd.read_table(fname, header=None)\n",
    "            df['srx'] = name\n",
    "            df['caller'] = 'macs2'\n",
    "            concat.append(df)\n",
    "macs2_full = pd.concat(concat)"
   ]
  },
  {
   "cell_type": "code",
   "execution_count": 5,
   "metadata": {},
   "outputs": [],
   "source": [
    "macs2 = macs2_full[[0,1,2,'srx',8,'caller']]"
   ]
  },
  {
   "cell_type": "code",
   "execution_count": 6,
   "metadata": {},
   "outputs": [],
   "source": [
    "#spp peaks\n",
    "glob.glob('../chipseq-wf/data/chipseq_peaks/spp/[S,E]RX*/peaks.bed')\n",
    "concat = []\n",
    "for fname in glob.glob('../chipseq-wf/data/chipseq_peaks/spp/[S,E]RX*/peaks.bed'):\n",
    "    name = fname.split('../chipseq-wf/data/chipseq_peaks/spp/')[1].split('/peaks.bed')[0]\n",
    "    if name not in throw_out:\n",
    "        if os.path.getsize(fname) != 0:\n",
    "            df = pd.read_table(fname, header=None)\n",
    "            df['srx'] = name\n",
    "            df['caller'] = 'spp'\n",
    "            concat.append(df)\n",
    "spp_full = pd.concat(concat)"
   ]
  },
  {
   "cell_type": "code",
   "execution_count": 7,
   "metadata": {},
   "outputs": [
    {
     "name": "stderr",
     "output_type": "stream",
     "text": [
      "/data/bergeric/miniconda3/envs/s2rnai/lib/python3.6/site-packages/pandas/core/frame.py:2540: SettingWithCopyWarning: \n",
      "A value is trying to be set on a copy of a slice from a DataFrame.\n",
      "Try using .loc[row_indexer,col_indexer] = value instead\n",
      "\n",
      "See the caveats in the documentation: http://pandas.pydata.org/pandas-docs/stable/indexing.html#indexing-view-versus-copy\n",
      "  self[k1] = value[k2]\n"
     ]
    }
   ],
   "source": [
    "spp = spp_full[[0,1,2,'srx',8,'caller']]\n",
    "spp[[1,2]]= spp[[1,2]].astype(int)"
   ]
  },
  {
   "cell_type": "markdown",
   "metadata": {},
   "source": [
    "Look at distributions of peak counts:"
   ]
  },
  {
   "cell_type": "code",
   "execution_count": 8,
   "metadata": {
    "scrolled": true
   },
   "outputs": [
    {
     "data": {
      "text/plain": [
       "<matplotlib.axes._subplots.AxesSubplot at 0x2aab66472ac8>"
      ]
     },
     "execution_count": 8,
     "metadata": {},
     "output_type": "execute_result"
    },
    {
     "data": {
      "image/png": "[encoded data removed]",
      "text/plain": [
       "<matplotlib.figure.Figure at 0x2aab66c71cc0>"
      ]
     },
     "metadata": {},
     "output_type": "display_data"
    }
   ],
   "source": [
    "#Count number of peaks per dataset macs2 \n",
    "peakcount_macs = macs2.groupby('srx')[[1]].count()\n",
    "sb.distplot(peakcount_macs)"
   ]
  },
  {
   "cell_type": "code",
   "execution_count": 9,
   "metadata": {},
   "outputs": [
    {
     "data": {
      "text/plain": [
       "<matplotlib.axes._subplots.AxesSubplot at 0x2aab60d0ae80>"
      ]
     },
     "execution_count": 9,
     "metadata": {},
     "output_type": "execute_result"
    },
    {
     "data": {
      "image/png": "[encoded data removed]",
      "text/plain": [
       "<matplotlib.figure.Figure at 0x2aab68713e80>"
      ]
     },
     "metadata": {},
     "output_type": "display_data"
    }
   ],
   "source": [
    "#Count number of peaks per dataset spp\n",
    "peakcount_spp = spp.groupby('srx')[[1]].count()\n",
    "sb.distplot(peakcount_spp)"
   ]
  },
  {
   "cell_type": "code",
   "execution_count": 10,
   "metadata": {},
   "outputs": [
    {
     "data": {
      "text/html": [
       "<div>\n",
       "<style scoped>\n",
       "    .dataframe tbody tr th:only-of-type {\n",
       "        vertical-align: middle;\n",
       "    }\n",
       "\n",
       "    .dataframe tbody tr th {\n",
       "        vertical-align: top;\n",
       "    }\n",
       "\n",
       "    .dataframe thead th {\n",
       "        text-align: right;\n",
       "    }\n",
       "</style>\n",
       "<table border=\"1\" class=\"dataframe\">\n",
       "  <thead>\n",
       "    <tr style=\"text-align: right;\">\n",
       "      <th></th>\n",
       "      <th>chrom</th>\n",
       "      <th>start</th>\n",
       "      <th>end</th>\n",
       "      <th>name</th>\n",
       "      <th>score</th>\n",
       "      <th>caller</th>\n",
       "    </tr>\n",
       "  </thead>\n",
       "  <tbody>\n",
       "    <tr>\n",
       "      <th>0</th>\n",
       "      <td>chr2L</td>\n",
       "      <td>16617</td>\n",
       "      <td>16893</td>\n",
       "      <td>SRX191913</td>\n",
       "      <td>33.40816</td>\n",
       "      <td>macs2</td>\n",
       "    </tr>\n",
       "    <tr>\n",
       "      <th>1</th>\n",
       "      <td>chr2L</td>\n",
       "      <td>18490</td>\n",
       "      <td>19713</td>\n",
       "      <td>SRX191913</td>\n",
       "      <td>17.81555</td>\n",
       "      <td>macs2</td>\n",
       "    </tr>\n",
       "    <tr>\n",
       "      <th>2</th>\n",
       "      <td>chr2L</td>\n",
       "      <td>21242</td>\n",
       "      <td>21484</td>\n",
       "      <td>SRX191913</td>\n",
       "      <td>7.92056</td>\n",
       "      <td>macs2</td>\n",
       "    </tr>\n",
       "    <tr>\n",
       "      <th>3</th>\n",
       "      <td>chr2L</td>\n",
       "      <td>34118</td>\n",
       "      <td>34304</td>\n",
       "      <td>SRX191913</td>\n",
       "      <td>4.27362</td>\n",
       "      <td>macs2</td>\n",
       "    </tr>\n",
       "    <tr>\n",
       "      <th>4</th>\n",
       "      <td>chr2L</td>\n",
       "      <td>35499</td>\n",
       "      <td>35830</td>\n",
       "      <td>SRX191913</td>\n",
       "      <td>39.60189</td>\n",
       "      <td>macs2</td>\n",
       "    </tr>\n",
       "  </tbody>\n",
       "</table>\n",
       "</div>"
      ],
      "text/plain": [
       "   chrom  start    end       name     score caller\n",
       "0  chr2L  16617  16893  SRX191913  33.40816  macs2\n",
       "1  chr2L  18490  19713  SRX191913  17.81555  macs2\n",
       "2  chr2L  21242  21484  SRX191913   7.92056  macs2\n",
       "3  chr2L  34118  34304  SRX191913   4.27362  macs2\n",
       "4  chr2L  35499  35830  SRX191913  39.60189  macs2"
      ]
     },
     "execution_count": 10,
     "metadata": {},
     "output_type": "execute_result"
    }
   ],
   "source": [
    "both = pd.concat([macs2, spp])\n",
    "#note: score is -log10 qvalue\n",
    "both.columns = ['chrom','start','end','name','score','caller']\n",
    "both.head()"
   ]
  },
  {
   "cell_type": "code",
   "execution_count": 11,
   "metadata": {},
   "outputs": [
    {
     "data": {
      "text/plain": [
       "<matplotlib.axes._subplots.AxesSubplot at 0x2aab72146c18>"
      ]
     },
     "execution_count": 11,
     "metadata": {},
     "output_type": "execute_result"
    },
    {
     "data": {
      "image/png": "[encoded data removed]",
      "text/plain": [
       "<matplotlib.figure.Figure at 0x2aab6953a198>"
      ]
     },
     "metadata": {},
     "output_type": "display_data"
    }
   ],
   "source": [
    "#log 10 peak count distribution for all peak data\n",
    "import numpy\n",
    "\n",
    "peakcount = both.groupby('name')[['start']].count()\n",
    "sb.distplot(numpy.log10(peakcount + 1))\n"
   ]
  },
  {
   "cell_type": "code",
   "execution_count": 12,
   "metadata": {},
   "outputs": [
    {
     "data": {
      "text/html": [
       "<div>\n",
       "<style scoped>\n",
       "    .dataframe tbody tr th:only-of-type {\n",
       "        vertical-align: middle;\n",
       "    }\n",
       "\n",
       "    .dataframe tbody tr th {\n",
       "        vertical-align: top;\n",
       "    }\n",
       "\n",
       "    .dataframe thead th {\n",
       "        text-align: right;\n",
       "    }\n",
       "</style>\n",
       "<table border=\"1\" class=\"dataframe\">\n",
       "  <thead>\n",
       "    <tr style=\"text-align: right;\">\n",
       "      <th></th>\n",
       "      <th>start</th>\n",
       "    </tr>\n",
       "  </thead>\n",
       "  <tbody>\n",
       "    <tr>\n",
       "      <th>count</th>\n",
       "      <td>173.000000</td>\n",
       "    </tr>\n",
       "    <tr>\n",
       "      <th>mean</th>\n",
       "      <td>12050.346821</td>\n",
       "    </tr>\n",
       "    <tr>\n",
       "      <th>std</th>\n",
       "      <td>10303.608027</td>\n",
       "    </tr>\n",
       "    <tr>\n",
       "      <th>min</th>\n",
       "      <td>28.000000</td>\n",
       "    </tr>\n",
       "    <tr>\n",
       "      <th>25%</th>\n",
       "      <td>3436.000000</td>\n",
       "    </tr>\n",
       "    <tr>\n",
       "      <th>50%</th>\n",
       "      <td>9964.000000</td>\n",
       "    </tr>\n",
       "    <tr>\n",
       "      <th>75%</th>\n",
       "      <td>17527.000000</td>\n",
       "    </tr>\n",
       "    <tr>\n",
       "      <th>max</th>\n",
       "      <td>41672.000000</td>\n",
       "    </tr>\n",
       "  </tbody>\n",
       "</table>\n",
       "</div>"
      ],
      "text/plain": [
       "              start\n",
       "count    173.000000\n",
       "mean   12050.346821\n",
       "std    10303.608027\n",
       "min       28.000000\n",
       "25%     3436.000000\n",
       "50%     9964.000000\n",
       "75%    17527.000000\n",
       "max    41672.000000"
      ]
     },
     "execution_count": 12,
     "metadata": {},
     "output_type": "execute_result"
    }
   ],
   "source": [
    "peakcount.describe()"
   ]
  },
  {
   "cell_type": "markdown",
   "metadata": {},
   "source": [
    "### Remove phantom peaks\n",
    "\n",
    "Using spreadsheet from Supplementary Data, Jain et al 2014"
   ]
  },
  {
   "cell_type": "code",
   "execution_count": 13,
   "metadata": {},
   "outputs": [],
   "source": [
    "phantompeaks = pd.read_excel(\n",
    "    '../output/chip/gkv637_Supplementary_Data/Supplementary_table_3__List_of_Phantom_Peaks.xlsx')\n",
    "phantompeaks = phantompeaks[['chr ','start','end','Name']]"
   ]
  },
  {
   "cell_type": "code",
   "execution_count": 15,
   "metadata": {},
   "outputs": [],
   "source": [
    "# Get peak data in bed format\n",
    "both = both[~both['start'].astype(str).str.contains('-')]\n",
    "bed = both[['chrom','start','end','name']]"
   ]
  },
  {
   "cell_type": "code",
   "execution_count": 16,
   "metadata": {},
   "outputs": [],
   "source": [
    "intersect = pybedtools.BedTool.from_dataframe(bed).intersect(pybedtools.BedTool.from_dataframe(phantompeaks), \n",
    "                                                             wo=True).to_dataframe()"
   ]
  },
  {
   "cell_type": "code",
   "execution_count": 17,
   "metadata": {},
   "outputs": [],
   "source": [
    "#filter for an overlap of at least 50bp based on Jain et al 2014\n",
    "filtered = intersect[intersect.itemRgb >= 50]"
   ]
  },
  {
   "cell_type": "code",
   "execution_count": 18,
   "metadata": {},
   "outputs": [
    {
     "data": {
      "text/html": [
       "<div>\n",
       "<style scoped>\n",
       "    .dataframe tbody tr th:only-of-type {\n",
       "        vertical-align: middle;\n",
       "    }\n",
       "\n",
       "    .dataframe tbody tr th {\n",
       "        vertical-align: top;\n",
       "    }\n",
       "\n",
       "    .dataframe thead th {\n",
       "        text-align: right;\n",
       "    }\n",
       "</style>\n",
       "<table border=\"1\" class=\"dataframe\">\n",
       "  <thead>\n",
       "    <tr style=\"text-align: right;\">\n",
       "      <th></th>\n",
       "      <th>chrom</th>\n",
       "      <th>start</th>\n",
       "      <th>end</th>\n",
       "      <th>name</th>\n",
       "      <th>score</th>\n",
       "      <th>strand</th>\n",
       "      <th>thickStart</th>\n",
       "      <th>thickEnd</th>\n",
       "      <th>itemRgb</th>\n",
       "    </tr>\n",
       "  </thead>\n",
       "  <tbody>\n",
       "    <tr>\n",
       "      <th>0</th>\n",
       "      <td>chr2L</td>\n",
       "      <td>18490</td>\n",
       "      <td>19713</td>\n",
       "      <td>SRX191913</td>\n",
       "      <td>chr2L</td>\n",
       "      <td>18637</td>\n",
       "      <td>19089</td>\n",
       "      <td>Phantom Peak-1</td>\n",
       "      <td>452</td>\n",
       "    </tr>\n",
       "    <tr>\n",
       "      <th>1</th>\n",
       "      <td>chr2L</td>\n",
       "      <td>102214</td>\n",
       "      <td>102424</td>\n",
       "      <td>SRX191913</td>\n",
       "      <td>chr2L</td>\n",
       "      <td>102118</td>\n",
       "      <td>102570</td>\n",
       "      <td>Phantom Peak-2</td>\n",
       "      <td>210</td>\n",
       "    </tr>\n",
       "    <tr>\n",
       "      <th>2</th>\n",
       "      <td>chr2L</td>\n",
       "      <td>107113</td>\n",
       "      <td>109566</td>\n",
       "      <td>SRX191913</td>\n",
       "      <td>chr2L</td>\n",
       "      <td>107669</td>\n",
       "      <td>108121</td>\n",
       "      <td>Phantom Peak-3</td>\n",
       "      <td>452</td>\n",
       "    </tr>\n",
       "    <tr>\n",
       "      <th>3</th>\n",
       "      <td>chr2L</td>\n",
       "      <td>158896</td>\n",
       "      <td>159714</td>\n",
       "      <td>SRX191913</td>\n",
       "      <td>chr2L</td>\n",
       "      <td>158670</td>\n",
       "      <td>159126</td>\n",
       "      <td>Phantom Peak-6</td>\n",
       "      <td>230</td>\n",
       "    </tr>\n",
       "    <tr>\n",
       "      <th>4</th>\n",
       "      <td>chr2L</td>\n",
       "      <td>207224</td>\n",
       "      <td>207532</td>\n",
       "      <td>SRX191913</td>\n",
       "      <td>chr2L</td>\n",
       "      <td>207139</td>\n",
       "      <td>207591</td>\n",
       "      <td>Phantom Peak-8</td>\n",
       "      <td>308</td>\n",
       "    </tr>\n",
       "  </tbody>\n",
       "</table>\n",
       "</div>"
      ],
      "text/plain": [
       "   chrom   start     end       name  score  strand  thickStart  \\\n",
       "0  chr2L   18490   19713  SRX191913  chr2L   18637       19089   \n",
       "1  chr2L  102214  102424  SRX191913  chr2L  102118      102570   \n",
       "2  chr2L  107113  109566  SRX191913  chr2L  107669      108121   \n",
       "3  chr2L  158896  159714  SRX191913  chr2L  158670      159126   \n",
       "4  chr2L  207224  207532  SRX191913  chr2L  207139      207591   \n",
       "\n",
       "         thickEnd  itemRgb  \n",
       "0  Phantom Peak-1      452  \n",
       "1  Phantom Peak-2      210  \n",
       "2  Phantom Peak-3      452  \n",
       "3  Phantom Peak-6      230  \n",
       "4  Phantom Peak-8      308  "
      ]
     },
     "execution_count": 18,
     "metadata": {},
     "output_type": "execute_result"
    }
   ],
   "source": [
    "filtered.head()"
   ]
  },
  {
   "cell_type": "code",
   "execution_count": 19,
   "metadata": {},
   "outputs": [],
   "source": [
    "outermerge = both.merge(filtered, how='outer', on=['chrom','start','end','name'], indicator=True)"
   ]
  },
  {
   "cell_type": "code",
   "execution_count": 20,
   "metadata": {},
   "outputs": [
    {
     "data": {
      "text/html": [
       "<div>\n",
       "<style scoped>\n",
       "    .dataframe tbody tr th:only-of-type {\n",
       "        vertical-align: middle;\n",
       "    }\n",
       "\n",
       "    .dataframe tbody tr th {\n",
       "        vertical-align: top;\n",
       "    }\n",
       "\n",
       "    .dataframe thead th {\n",
       "        text-align: right;\n",
       "    }\n",
       "</style>\n",
       "<table border=\"1\" class=\"dataframe\">\n",
       "  <thead>\n",
       "    <tr style=\"text-align: right;\">\n",
       "      <th></th>\n",
       "      <th>chrom</th>\n",
       "      <th>start</th>\n",
       "      <th>end</th>\n",
       "      <th>name</th>\n",
       "      <th>score</th>\n",
       "      <th>caller</th>\n",
       "    </tr>\n",
       "  </thead>\n",
       "  <tbody>\n",
       "    <tr>\n",
       "      <th>0</th>\n",
       "      <td>chr2L</td>\n",
       "      <td>16617</td>\n",
       "      <td>16893</td>\n",
       "      <td>SRX191913</td>\n",
       "      <td>33.40816</td>\n",
       "      <td>macs2</td>\n",
       "    </tr>\n",
       "    <tr>\n",
       "      <th>2</th>\n",
       "      <td>chr2L</td>\n",
       "      <td>21242</td>\n",
       "      <td>21484</td>\n",
       "      <td>SRX191913</td>\n",
       "      <td>7.92056</td>\n",
       "      <td>macs2</td>\n",
       "    </tr>\n",
       "    <tr>\n",
       "      <th>3</th>\n",
       "      <td>chr2L</td>\n",
       "      <td>34118</td>\n",
       "      <td>34304</td>\n",
       "      <td>SRX191913</td>\n",
       "      <td>4.27362</td>\n",
       "      <td>macs2</td>\n",
       "    </tr>\n",
       "    <tr>\n",
       "      <th>4</th>\n",
       "      <td>chr2L</td>\n",
       "      <td>35499</td>\n",
       "      <td>35830</td>\n",
       "      <td>SRX191913</td>\n",
       "      <td>39.60189</td>\n",
       "      <td>macs2</td>\n",
       "    </tr>\n",
       "    <tr>\n",
       "      <th>5</th>\n",
       "      <td>chr2L</td>\n",
       "      <td>43248</td>\n",
       "      <td>43463</td>\n",
       "      <td>SRX191913</td>\n",
       "      <td>3.57781</td>\n",
       "      <td>macs2</td>\n",
       "    </tr>\n",
       "  </tbody>\n",
       "</table>\n",
       "</div>"
      ],
      "text/plain": [
       "   chrom  start    end       name     score caller\n",
       "0  chr2L  16617  16893  SRX191913  33.40816  macs2\n",
       "2  chr2L  21242  21484  SRX191913   7.92056  macs2\n",
       "3  chr2L  34118  34304  SRX191913   4.27362  macs2\n",
       "4  chr2L  35499  35830  SRX191913  39.60189  macs2\n",
       "5  chr2L  43248  43463  SRX191913   3.57781  macs2"
      ]
     },
     "execution_count": 20,
     "metadata": {},
     "output_type": "execute_result"
    }
   ],
   "source": [
    "no_phantom = outermerge[outermerge._merge == 'left_only'][['chrom','start','end','name','score_x','caller']]\n",
    "no_phantom.rename(columns={'score_x': 'score'}, inplace=True)\n",
    "no_phantom.head()"
   ]
  },
  {
   "cell_type": "code",
   "execution_count": 21,
   "metadata": {},
   "outputs": [
    {
     "data": {
      "text/plain": [
       "(1962872, 6)"
      ]
     },
     "execution_count": 21,
     "metadata": {},
     "output_type": "execute_result"
    }
   ],
   "source": [
    "no_phantom.shape"
   ]
  },
  {
   "cell_type": "code",
   "execution_count": 22,
   "metadata": {},
   "outputs": [
    {
     "data": {
      "text/plain": [
       "count      173.000000\n",
       "mean     11346.080925\n",
       "std       9754.578488\n",
       "min         27.000000\n",
       "25%       3361.000000\n",
       "50%       9055.000000\n",
       "75%      16807.000000\n",
       "max      39564.000000\n",
       "Name: start, dtype: float64"
      ]
     },
     "execution_count": 22,
     "metadata": {},
     "output_type": "execute_result"
    }
   ],
   "source": [
    "nophtm_peakcount = no_phantom.groupby('name').start.count()\n",
    "nophtm_peakcount.describe()"
   ]
  },
  {
   "cell_type": "code",
   "execution_count": 23,
   "metadata": {},
   "outputs": [
    {
     "data": {
      "text/plain": [
       "<matplotlib.axes._subplots.AxesSubplot at 0x2aab7a16d320>"
      ]
     },
     "execution_count": 23,
     "metadata": {},
     "output_type": "execute_result"
    },
    {
     "data": {
      "image/png": "[encoded data removed]",
      "text/plain": [
       "<matplotlib.figure.Figure at 0x2aab72134be0>"
      ]
     },
     "metadata": {},
     "output_type": "display_data"
    }
   ],
   "source": [
    "sb.distplot(nophtm_peakcount)"
   ]
  },
  {
   "cell_type": "markdown",
   "metadata": {},
   "source": [
    "### Separate by TF/Histone\n",
    "Import csv with metadata:"
   ]
  },
  {
   "cell_type": "code",
   "execution_count": 24,
   "metadata": {},
   "outputs": [
    {
     "data": {
      "text/html": [
       "<div>\n",
       "<style scoped>\n",
       "    .dataframe tbody tr th:only-of-type {\n",
       "        vertical-align: middle;\n",
       "    }\n",
       "\n",
       "    .dataframe tbody tr th {\n",
       "        vertical-align: top;\n",
       "    }\n",
       "\n",
       "    .dataframe thead th {\n",
       "        text-align: right;\n",
       "    }\n",
       "</style>\n",
       "<table border=\"1\" class=\"dataframe\">\n",
       "  <thead>\n",
       "    <tr style=\"text-align: right;\">\n",
       "      <th></th>\n",
       "      <th>srx</th>\n",
       "      <th>cell_line</th>\n",
       "      <th>geo</th>\n",
       "      <th>paper</th>\n",
       "      <th>strategy</th>\n",
       "      <th>antibody</th>\n",
       "      <th>target</th>\n",
       "      <th>srr</th>\n",
       "      <th>chromatin</th>\n",
       "      <th>input</th>\n",
       "      <th>Unnamed: 10</th>\n",
       "    </tr>\n",
       "  </thead>\n",
       "  <tbody>\n",
       "    <tr>\n",
       "      <th>0</th>\n",
       "      <td>SRX191907</td>\n",
       "      <td>S2 DRSC: Schneider's line 2</td>\n",
       "      <td>GSM1015404</td>\n",
       "      <td>['24055367', '24055367']</td>\n",
       "      <td>ChIP-Seq</td>\n",
       "      <td>CP190 antibody (rabbit)</td>\n",
       "      <td>CP190</td>\n",
       "      <td>SRR580337</td>\n",
       "      <td>0</td>\n",
       "      <td>SRX191915</td>\n",
       "      <td>NaN</td>\n",
       "    </tr>\n",
       "    <tr>\n",
       "      <th>1</th>\n",
       "      <td>SRX191908</td>\n",
       "      <td>S2 DRSC: Schneider's line 2</td>\n",
       "      <td>GSM1015405</td>\n",
       "      <td>['24055367', '24055367']</td>\n",
       "      <td>ChIP-Seq</td>\n",
       "      <td>CP190 antibody (rabbit)</td>\n",
       "      <td>CP190</td>\n",
       "      <td>SRR580338</td>\n",
       "      <td>0</td>\n",
       "      <td>SRX191916</td>\n",
       "      <td>use srx as identifier</td>\n",
       "    </tr>\n",
       "    <tr>\n",
       "      <th>2</th>\n",
       "      <td>SRX191909</td>\n",
       "      <td>S2 DRSC: Schneider's line 2</td>\n",
       "      <td>GSM1015406</td>\n",
       "      <td>['24055367', '24055367']</td>\n",
       "      <td>ChIP-Seq</td>\n",
       "      <td>Su(Hw) antibody 406 (rabbit)</td>\n",
       "      <td>Su(Hw)</td>\n",
       "      <td>SRR580339</td>\n",
       "      <td>0</td>\n",
       "      <td>SRX191915</td>\n",
       "      <td>NaN</td>\n",
       "    </tr>\n",
       "    <tr>\n",
       "      <th>3</th>\n",
       "      <td>SRX191910</td>\n",
       "      <td>S2 DRSC: Schneider's line 2</td>\n",
       "      <td>GSM1015407</td>\n",
       "      <td>['24055367', '24055367']</td>\n",
       "      <td>ChIP-Seq</td>\n",
       "      <td>Su(Hw) antibody 406 (rabbit)</td>\n",
       "      <td>Su(Hw)</td>\n",
       "      <td>SRR580340</td>\n",
       "      <td>0</td>\n",
       "      <td>SRX191916</td>\n",
       "      <td>NaN</td>\n",
       "    </tr>\n",
       "    <tr>\n",
       "      <th>4</th>\n",
       "      <td>SRX191911</td>\n",
       "      <td>S2 DRSC: Schneider's line 2</td>\n",
       "      <td>GSM1015408</td>\n",
       "      <td>['24055367', '24055367']</td>\n",
       "      <td>ChIP-Seq</td>\n",
       "      <td>Mod(mdg4)2.2 antibody (rabbit)</td>\n",
       "      <td>mod(mdg4)2.2</td>\n",
       "      <td>SRR580341</td>\n",
       "      <td>0</td>\n",
       "      <td>SRX191915</td>\n",
       "      <td>NaN</td>\n",
       "    </tr>\n",
       "  </tbody>\n",
       "</table>\n",
       "</div>"
      ],
      "text/plain": [
       "         srx                    cell_line         geo  \\\n",
       "0  SRX191907  S2 DRSC: Schneider's line 2  GSM1015404   \n",
       "1  SRX191908  S2 DRSC: Schneider's line 2  GSM1015405   \n",
       "2  SRX191909  S2 DRSC: Schneider's line 2  GSM1015406   \n",
       "3  SRX191910  S2 DRSC: Schneider's line 2  GSM1015407   \n",
       "4  SRX191911  S2 DRSC: Schneider's line 2  GSM1015408   \n",
       "\n",
       "                      paper  strategy                        antibody  \\\n",
       "0  ['24055367', '24055367']  ChIP-Seq         CP190 antibody (rabbit)   \n",
       "1  ['24055367', '24055367']  ChIP-Seq         CP190 antibody (rabbit)   \n",
       "2  ['24055367', '24055367']  ChIP-Seq    Su(Hw) antibody 406 (rabbit)   \n",
       "3  ['24055367', '24055367']  ChIP-Seq    Su(Hw) antibody 406 (rabbit)   \n",
       "4  ['24055367', '24055367']  ChIP-Seq  Mod(mdg4)2.2 antibody (rabbit)   \n",
       "\n",
       "         target        srr  chromatin      input            Unnamed: 10  \n",
       "0         CP190  SRR580337          0  SRX191915                    NaN  \n",
       "1         CP190  SRR580338          0  SRX191916  use srx as identifier  \n",
       "2        Su(Hw)  SRR580339          0  SRX191915                    NaN  \n",
       "3        Su(Hw)  SRR580340          0  SRX191916                    NaN  \n",
       "4  mod(mdg4)2.2  SRR580341          0  SRX191915                    NaN  "
      ]
     },
     "execution_count": 24,
     "metadata": {},
     "output_type": "execute_result"
    }
   ],
   "source": [
    "spreadsheet = pd.read_csv('../output/chip/20171103_s2cell_chip-seq.csv')\n",
    "\n",
    "#For now we are excluding datasets with no input: \n",
    "spreadsheet = spreadsheet[spreadsheet.input != 'no input?']\n",
    "spreadsheet.head()"
   ]
  },
  {
   "cell_type": "code",
   "execution_count": 25,
   "metadata": {},
   "outputs": [],
   "source": [
    "all_chromatin = spreadsheet[spreadsheet.chromatin == 1]\n",
    "no_chromatin = spreadsheet[spreadsheet.chromatin == 0]"
   ]
  },
  {
   "cell_type": "code",
   "execution_count": 26,
   "metadata": {},
   "outputs": [],
   "source": [
    "chromatin_nophantom = no_phantom[no_phantom.name.isin(all_chromatin.srx.values)]\n",
    "tf_nophantom = no_phantom[no_phantom.name.isin(no_chromatin.srx.values)]"
   ]
  },
  {
   "cell_type": "code",
   "execution_count": 27,
   "metadata": {},
   "outputs": [
    {
     "data": {
      "text/plain": [
       "count       37.000000\n",
       "mean      8845.378378\n",
       "std       8935.457134\n",
       "min         27.000000\n",
       "25%       4871.000000\n",
       "50%       6310.000000\n",
       "75%      10022.000000\n",
       "max      37610.000000\n",
       "Name: start, dtype: float64"
      ]
     },
     "execution_count": 27,
     "metadata": {},
     "output_type": "execute_result"
    }
   ],
   "source": [
    "chr_peakcount = chromatin_nophantom.groupby('name').start.count()\n",
    "chr_peakcount.describe()"
   ]
  },
  {
   "cell_type": "code",
   "execution_count": 28,
   "metadata": {
    "scrolled": true
   },
   "outputs": [
    {
     "data": {
      "text/plain": [
       "<matplotlib.axes._subplots.AxesSubplot at 0x2aab7a453278>"
      ]
     },
     "execution_count": 28,
     "metadata": {},
     "output_type": "execute_result"
    },
    {
     "data": {
      "image/png": "[encoded data removed]",
      "text/plain": [
       "<matplotlib.figure.Figure at 0x2aab7a448f28>"
      ]
     },
     "metadata": {},
     "output_type": "display_data"
    }
   ],
   "source": [
    "sb.distplot(chr_peakcount)"
   ]
  },
  {
   "cell_type": "code",
   "execution_count": 29,
   "metadata": {},
   "outputs": [
    {
     "data": {
      "text/plain": [
       "count      136.000000\n",
       "mean     12026.419118\n",
       "std       9887.311250\n",
       "min         83.000000\n",
       "25%       3100.750000\n",
       "50%      11106.500000\n",
       "75%      19086.750000\n",
       "max      39564.000000\n",
       "Name: start, dtype: float64"
      ]
     },
     "execution_count": 29,
     "metadata": {},
     "output_type": "execute_result"
    }
   ],
   "source": [
    "tf_peakcount = tf_nophantom.groupby('name').start.count()\n",
    "tf_peakcount.describe()"
   ]
  },
  {
   "cell_type": "code",
   "execution_count": 30,
   "metadata": {},
   "outputs": [
    {
     "data": {
      "text/plain": [
       "<matplotlib.axes._subplots.AxesSubplot at 0x2aab7a4ebba8>"
      ]
     },
     "execution_count": 30,
     "metadata": {},
     "output_type": "execute_result"
    },
    {
     "data": {
      "image/png": "[encoded data removed]",
      "text/plain": [
       "<matplotlib.figure.Figure at 0x2aab7a47c3c8>"
      ]
     },
     "metadata": {},
     "output_type": "display_data"
    }
   ],
   "source": [
    "sb.distplot(tf_peakcount)"
   ]
  },
  {
   "cell_type": "markdown",
   "metadata": {},
   "source": [
    "## Filter by peak count\n",
    "\n",
    "Remove datasets with less than 1000 peaks:"
   ]
  },
  {
   "cell_type": "code",
   "execution_count": 31,
   "metadata": {},
   "outputs": [
    {
     "data": {
      "text/plain": [
       "name\n",
       "ERX402112      83\n",
       "ERX402114     931\n",
       "ERX402138     129\n",
       "SRX018629     343\n",
       "SRX018630     184\n",
       "SRX018631     172\n",
       "SRX018632     210\n",
       "SRX1389384     92\n",
       "SRX1389387    300\n",
       "SRX1433399    701\n",
       "SRX149189     837\n",
       "SRX149190     905\n",
       "SRX2055945     91\n",
       "SRX2055964    826\n",
       "SRX2055966    840\n",
       "SRX330269     109\n",
       "SRX330270      86\n",
       "SRX495789     461\n",
       "SRX883604     496\n",
       "SRX883605     168\n",
       "Name: start, dtype: int64"
      ]
     },
     "execution_count": 31,
     "metadata": {},
     "output_type": "execute_result"
    }
   ],
   "source": [
    "tf_peakcount[tf_peakcount < 1000]"
   ]
  },
  {
   "cell_type": "code",
   "execution_count": 32,
   "metadata": {},
   "outputs": [
    {
     "data": {
      "text/plain": [
       "name\n",
       "SRX2055956     83\n",
       "SRX2055959    325\n",
       "SRX2055962    238\n",
       "SRX2417577     27\n",
       "Name: start, dtype: int64"
      ]
     },
     "execution_count": 32,
     "metadata": {},
     "output_type": "execute_result"
    }
   ],
   "source": [
    "chr_peakcount[chr_peakcount < 1000]"
   ]
  },
  {
   "cell_type": "code",
   "execution_count": 33,
   "metadata": {},
   "outputs": [],
   "source": [
    "i1 = tf_peakcount[tf_peakcount < 1000].index\n",
    "i2 = chr_peakcount[chr_peakcount < 1000].index"
   ]
  },
  {
   "cell_type": "code",
   "execution_count": 34,
   "metadata": {},
   "outputs": [],
   "source": [
    "filtered_tf_np = tf_nophantom[~tf_nophantom.name.isin(i1)]\n",
    "filtered_chr_np = chromatin_nophantom[~chromatin_nophantom.name.isin(i2)]"
   ]
  },
  {
   "cell_type": "code",
   "execution_count": 35,
   "metadata": {},
   "outputs": [
    {
     "data": {
      "text/html": [
       "<div>\n",
       "<style scoped>\n",
       "    .dataframe tbody tr th:only-of-type {\n",
       "        vertical-align: middle;\n",
       "    }\n",
       "\n",
       "    .dataframe tbody tr th {\n",
       "        vertical-align: top;\n",
       "    }\n",
       "\n",
       "    .dataframe thead th {\n",
       "        text-align: right;\n",
       "    }\n",
       "</style>\n",
       "<table border=\"1\" class=\"dataframe\">\n",
       "  <thead>\n",
       "    <tr style=\"text-align: right;\">\n",
       "      <th></th>\n",
       "      <th>chrom</th>\n",
       "      <th>start</th>\n",
       "      <th>end</th>\n",
       "      <th>score</th>\n",
       "      <th>caller</th>\n",
       "    </tr>\n",
       "  </thead>\n",
       "  <tbody>\n",
       "    <tr>\n",
       "      <th>count</th>\n",
       "      <td>116.000000</td>\n",
       "      <td>116.000000</td>\n",
       "      <td>116.000000</td>\n",
       "      <td>116.000000</td>\n",
       "      <td>116.000000</td>\n",
       "    </tr>\n",
       "    <tr>\n",
       "      <th>mean</th>\n",
       "      <td>14031.284483</td>\n",
       "      <td>14031.284483</td>\n",
       "      <td>14031.284483</td>\n",
       "      <td>14031.284483</td>\n",
       "      <td>14031.284483</td>\n",
       "    </tr>\n",
       "    <tr>\n",
       "      <th>std</th>\n",
       "      <td>9336.664038</td>\n",
       "      <td>9336.664038</td>\n",
       "      <td>9336.664038</td>\n",
       "      <td>9336.664038</td>\n",
       "      <td>9336.664038</td>\n",
       "    </tr>\n",
       "    <tr>\n",
       "      <th>min</th>\n",
       "      <td>1047.000000</td>\n",
       "      <td>1047.000000</td>\n",
       "      <td>1047.000000</td>\n",
       "      <td>1047.000000</td>\n",
       "      <td>1047.000000</td>\n",
       "    </tr>\n",
       "    <tr>\n",
       "      <th>25%</th>\n",
       "      <td>5152.500000</td>\n",
       "      <td>5152.500000</td>\n",
       "      <td>5152.500000</td>\n",
       "      <td>5152.500000</td>\n",
       "      <td>5152.500000</td>\n",
       "    </tr>\n",
       "    <tr>\n",
       "      <th>50%</th>\n",
       "      <td>13812.000000</td>\n",
       "      <td>13812.000000</td>\n",
       "      <td>13812.000000</td>\n",
       "      <td>13812.000000</td>\n",
       "      <td>13812.000000</td>\n",
       "    </tr>\n",
       "    <tr>\n",
       "      <th>75%</th>\n",
       "      <td>19892.750000</td>\n",
       "      <td>19892.750000</td>\n",
       "      <td>19892.750000</td>\n",
       "      <td>19892.750000</td>\n",
       "      <td>19892.750000</td>\n",
       "    </tr>\n",
       "    <tr>\n",
       "      <th>max</th>\n",
       "      <td>39564.000000</td>\n",
       "      <td>39564.000000</td>\n",
       "      <td>39564.000000</td>\n",
       "      <td>39564.000000</td>\n",
       "      <td>39564.000000</td>\n",
       "    </tr>\n",
       "  </tbody>\n",
       "</table>\n",
       "</div>"
      ],
      "text/plain": [
       "              chrom         start           end         score        caller\n",
       "count    116.000000    116.000000    116.000000    116.000000    116.000000\n",
       "mean   14031.284483  14031.284483  14031.284483  14031.284483  14031.284483\n",
       "std     9336.664038   9336.664038   9336.664038   9336.664038   9336.664038\n",
       "min     1047.000000   1047.000000   1047.000000   1047.000000   1047.000000\n",
       "25%     5152.500000   5152.500000   5152.500000   5152.500000   5152.500000\n",
       "50%    13812.000000  13812.000000  13812.000000  13812.000000  13812.000000\n",
       "75%    19892.750000  19892.750000  19892.750000  19892.750000  19892.750000\n",
       "max    39564.000000  39564.000000  39564.000000  39564.000000  39564.000000"
      ]
     },
     "execution_count": 35,
     "metadata": {},
     "output_type": "execute_result"
    }
   ],
   "source": [
    "filtered_tf_np.groupby('name').count().describe()"
   ]
  },
  {
   "cell_type": "code",
   "execution_count": 36,
   "metadata": {},
   "outputs": [
    {
     "data": {
      "text/html": [
       "<div>\n",
       "<style scoped>\n",
       "    .dataframe tbody tr th:only-of-type {\n",
       "        vertical-align: middle;\n",
       "    }\n",
       "\n",
       "    .dataframe tbody tr th {\n",
       "        vertical-align: top;\n",
       "    }\n",
       "\n",
       "    .dataframe thead th {\n",
       "        text-align: right;\n",
       "    }\n",
       "</style>\n",
       "<table border=\"1\" class=\"dataframe\">\n",
       "  <thead>\n",
       "    <tr style=\"text-align: right;\">\n",
       "      <th></th>\n",
       "      <th>chrom</th>\n",
       "      <th>start</th>\n",
       "      <th>end</th>\n",
       "      <th>score</th>\n",
       "      <th>caller</th>\n",
       "    </tr>\n",
       "  </thead>\n",
       "  <tbody>\n",
       "    <tr>\n",
       "      <th>count</th>\n",
       "      <td>33.000000</td>\n",
       "      <td>33.000000</td>\n",
       "      <td>33.000000</td>\n",
       "      <td>33.000000</td>\n",
       "      <td>33.000000</td>\n",
       "    </tr>\n",
       "    <tr>\n",
       "      <th>mean</th>\n",
       "      <td>9897.151515</td>\n",
       "      <td>9897.151515</td>\n",
       "      <td>9897.151515</td>\n",
       "      <td>9897.151515</td>\n",
       "      <td>9897.151515</td>\n",
       "    </tr>\n",
       "    <tr>\n",
       "      <th>std</th>\n",
       "      <td>8903.289115</td>\n",
       "      <td>8903.289115</td>\n",
       "      <td>8903.289115</td>\n",
       "      <td>8903.289115</td>\n",
       "      <td>8903.289115</td>\n",
       "    </tr>\n",
       "    <tr>\n",
       "      <th>min</th>\n",
       "      <td>3233.000000</td>\n",
       "      <td>3233.000000</td>\n",
       "      <td>3233.000000</td>\n",
       "      <td>3233.000000</td>\n",
       "      <td>3233.000000</td>\n",
       "    </tr>\n",
       "    <tr>\n",
       "      <th>25%</th>\n",
       "      <td>5264.000000</td>\n",
       "      <td>5264.000000</td>\n",
       "      <td>5264.000000</td>\n",
       "      <td>5264.000000</td>\n",
       "      <td>5264.000000</td>\n",
       "    </tr>\n",
       "    <tr>\n",
       "      <th>50%</th>\n",
       "      <td>6417.000000</td>\n",
       "      <td>6417.000000</td>\n",
       "      <td>6417.000000</td>\n",
       "      <td>6417.000000</td>\n",
       "      <td>6417.000000</td>\n",
       "    </tr>\n",
       "    <tr>\n",
       "      <th>75%</th>\n",
       "      <td>11511.000000</td>\n",
       "      <td>11511.000000</td>\n",
       "      <td>11511.000000</td>\n",
       "      <td>11511.000000</td>\n",
       "      <td>11511.000000</td>\n",
       "    </tr>\n",
       "    <tr>\n",
       "      <th>max</th>\n",
       "      <td>37610.000000</td>\n",
       "      <td>37610.000000</td>\n",
       "      <td>37610.000000</td>\n",
       "      <td>37610.000000</td>\n",
       "      <td>37610.000000</td>\n",
       "    </tr>\n",
       "  </tbody>\n",
       "</table>\n",
       "</div>"
      ],
      "text/plain": [
       "              chrom         start           end         score        caller\n",
       "count     33.000000     33.000000     33.000000     33.000000     33.000000\n",
       "mean    9897.151515   9897.151515   9897.151515   9897.151515   9897.151515\n",
       "std     8903.289115   8903.289115   8903.289115   8903.289115   8903.289115\n",
       "min     3233.000000   3233.000000   3233.000000   3233.000000   3233.000000\n",
       "25%     5264.000000   5264.000000   5264.000000   5264.000000   5264.000000\n",
       "50%     6417.000000   6417.000000   6417.000000   6417.000000   6417.000000\n",
       "75%    11511.000000  11511.000000  11511.000000  11511.000000  11511.000000\n",
       "max    37610.000000  37610.000000  37610.000000  37610.000000  37610.000000"
      ]
     },
     "execution_count": 36,
     "metadata": {},
     "output_type": "execute_result"
    }
   ],
   "source": [
    "filtered_chr_np.groupby('name').count().describe()"
   ]
  },
  {
   "cell_type": "code",
   "execution_count": 37,
   "metadata": {},
   "outputs": [],
   "source": [
    "filtered_tf_np.to_csv('../output/chip/ALL_TF_CHIP_filtered.bed', header=False,index=False, sep='\\t')"
   ]
  },
  {
   "cell_type": "code",
   "execution_count": 38,
   "metadata": {},
   "outputs": [],
   "source": [
    "filtered_chr_np.to_csv('../output/chip/ALL_HIST_CHIP_filtered.bed', header=False,index=False, sep='\\t')"
   ]
  },
  {
   "cell_type": "code",
   "execution_count": null,
   "metadata": {},
   "outputs": [],
   "source": []
  },
  {
   "cell_type": "markdown",
   "metadata": {},
   "source": [
    "Here I'm looking into the empty spp sets, hopefully I will solve this issue and get rid of this: "
   ]
  },
  {
   "cell_type": "code",
   "execution_count": 39,
   "metadata": {},
   "outputs": [],
   "source": [
    "spp_empty = ['SRX149192', 'SRX885700', 'ERX402137', 'ERX402138','SRX885698', 'SRX883604','SRX1179573','SRX054533',\n",
    "'SRX495789', 'SRX1389384','SRX2055961','SRX2055966','SRX2055958', 'ERX402108','SRX330269','ERX402133','SRX306190',\n",
    "'ERX402112','SRX359797','SRX1433400', 'SRX306193','ERX1403350', 'SRX1179572','SRX1433401','SRX018632','SRX1389387',\n",
    " 'SRX326970','SRX2055964','SRX885702','SRX2055945','SRX326969', 'SRX447393','SRX330270','SRX495270','SRX2055944',\n",
    "'SRX097620','SRX359798','SRX883605','SRX018631','SRX306196','SRX018629','SRX2055953','SRX149189','SRX1389388',\n",
    "'SRX018630','SRX1433397','ERX402114','SRX495269','SRX1433399']"
   ]
  },
  {
   "cell_type": "code",
   "execution_count": 40,
   "metadata": {},
   "outputs": [],
   "source": [
    "emptydf = pd.DataFrame(spp_empty, columns=['srx'])"
   ]
  },
  {
   "cell_type": "code",
   "execution_count": 42,
   "metadata": {},
   "outputs": [
    {
     "data": {
      "text/html": [
       "<div>\n",
       "<style scoped>\n",
       "    .dataframe tbody tr th:only-of-type {\n",
       "        vertical-align: middle;\n",
       "    }\n",
       "\n",
       "    .dataframe tbody tr th {\n",
       "        vertical-align: top;\n",
       "    }\n",
       "\n",
       "    .dataframe thead th {\n",
       "        text-align: right;\n",
       "    }\n",
       "</style>\n",
       "<table border=\"1\" class=\"dataframe\">\n",
       "  <thead>\n",
       "    <tr style=\"text-align: right;\">\n",
       "      <th></th>\n",
       "      <th>srx</th>\n",
       "      <th>geo</th>\n",
       "      <th>target</th>\n",
       "      <th>srr</th>\n",
       "      <th>input</th>\n",
       "    </tr>\n",
       "  </thead>\n",
       "  <tbody>\n",
       "    <tr>\n",
       "      <th>0</th>\n",
       "      <td>SRX306190</td>\n",
       "      <td>GSM1162760</td>\n",
       "      <td>Ice1</td>\n",
       "      <td>SRR901293</td>\n",
       "      <td>SRX306192</td>\n",
       "    </tr>\n",
       "    <tr>\n",
       "      <th>1</th>\n",
       "      <td>SRX306193</td>\n",
       "      <td>GSM1162763</td>\n",
       "      <td>Ice1</td>\n",
       "      <td>SRR901296</td>\n",
       "      <td>SRX306195</td>\n",
       "    </tr>\n",
       "    <tr>\n",
       "      <th>2</th>\n",
       "      <td>SRX306196</td>\n",
       "      <td>GSM1162766</td>\n",
       "      <td>Ice1</td>\n",
       "      <td>SRR901299</td>\n",
       "      <td>SRX306198</td>\n",
       "    </tr>\n",
       "    <tr>\n",
       "      <th>3</th>\n",
       "      <td>SRX326969</td>\n",
       "      <td>GSM1193814</td>\n",
       "      <td>input</td>\n",
       "      <td>SRR942042</td>\n",
       "      <td>SRX326969</td>\n",
       "    </tr>\n",
       "    <tr>\n",
       "      <th>4</th>\n",
       "      <td>SRX326970</td>\n",
       "      <td>GSM1193815</td>\n",
       "      <td>HP1c</td>\n",
       "      <td>SRR942043</td>\n",
       "      <td>SRX326969</td>\n",
       "    </tr>\n",
       "    <tr>\n",
       "      <th>5</th>\n",
       "      <td>SRX330269</td>\n",
       "      <td>GSM1199044</td>\n",
       "      <td>EcR</td>\n",
       "      <td>SRR946215 | SRR946214</td>\n",
       "      <td>SRX330271</td>\n",
       "    </tr>\n",
       "    <tr>\n",
       "      <th>6</th>\n",
       "      <td>SRX330270</td>\n",
       "      <td>GSM1199045</td>\n",
       "      <td>EcR</td>\n",
       "      <td>SRR946216 | SRR946217</td>\n",
       "      <td>SRX330271</td>\n",
       "    </tr>\n",
       "    <tr>\n",
       "      <th>7</th>\n",
       "      <td>SRX495269</td>\n",
       "      <td>GSM1217657</td>\n",
       "      <td>CG8478</td>\n",
       "      <td>SRR1198774</td>\n",
       "      <td>SRX495267</td>\n",
       "    </tr>\n",
       "    <tr>\n",
       "      <th>8</th>\n",
       "      <td>SRX495270</td>\n",
       "      <td>GSM1217658</td>\n",
       "      <td>CG8478</td>\n",
       "      <td>SRR1198775</td>\n",
       "      <td>SRX495268</td>\n",
       "    </tr>\n",
       "    <tr>\n",
       "      <th>9</th>\n",
       "      <td>SRX359797</td>\n",
       "      <td>GSM1239358</td>\n",
       "      <td>AGO2</td>\n",
       "      <td>SRR1002329</td>\n",
       "      <td>SRX359796</td>\n",
       "    </tr>\n",
       "    <tr>\n",
       "      <th>10</th>\n",
       "      <td>SRX359798</td>\n",
       "      <td>GSM1239359</td>\n",
       "      <td>AGO2</td>\n",
       "      <td>SRR1002330</td>\n",
       "      <td>SRX359796</td>\n",
       "    </tr>\n",
       "    <tr>\n",
       "      <th>11</th>\n",
       "      <td>SRX495789</td>\n",
       "      <td>GSM1296167</td>\n",
       "      <td>Myc</td>\n",
       "      <td>SRR1199487</td>\n",
       "      <td>SRX495788</td>\n",
       "    </tr>\n",
       "    <tr>\n",
       "      <th>12</th>\n",
       "      <td>SRX447393</td>\n",
       "      <td>GSM1313421</td>\n",
       "      <td>ZIPIC</td>\n",
       "      <td>SRR1141009</td>\n",
       "      <td>SRX447394</td>\n",
       "    </tr>\n",
       "    <tr>\n",
       "      <th>13</th>\n",
       "      <td>SRX883604</td>\n",
       "      <td>GSM1614137</td>\n",
       "      <td>Tet</td>\n",
       "      <td>SRR1810946</td>\n",
       "      <td>SRX883600</td>\n",
       "    </tr>\n",
       "    <tr>\n",
       "      <th>14</th>\n",
       "      <td>SRX883605</td>\n",
       "      <td>GSM1614138</td>\n",
       "      <td>Tet</td>\n",
       "      <td>SRR1810947</td>\n",
       "      <td>SRX883601</td>\n",
       "    </tr>\n",
       "    <tr>\n",
       "      <th>15</th>\n",
       "      <td>SRX885698</td>\n",
       "      <td>GSM1616472</td>\n",
       "      <td>Scm</td>\n",
       "      <td>SRR1813243</td>\n",
       "      <td>SRX885699</td>\n",
       "    </tr>\n",
       "    <tr>\n",
       "      <th>16</th>\n",
       "      <td>SRX885700</td>\n",
       "      <td>GSM1616474</td>\n",
       "      <td>Scm</td>\n",
       "      <td>SRR1813245</td>\n",
       "      <td>SRX885701</td>\n",
       "    </tr>\n",
       "    <tr>\n",
       "      <th>17</th>\n",
       "      <td>SRX885702</td>\n",
       "      <td>GSM1616476</td>\n",
       "      <td>Pc</td>\n",
       "      <td>SRR1813247</td>\n",
       "      <td>SRX885703</td>\n",
       "    </tr>\n",
       "    <tr>\n",
       "      <th>18</th>\n",
       "      <td>SRX1179572</td>\n",
       "      <td>GSM1867916</td>\n",
       "      <td>Etl1</td>\n",
       "      <td>SRR2232433</td>\n",
       "      <td>SRX1179571</td>\n",
       "    </tr>\n",
       "    <tr>\n",
       "      <th>19</th>\n",
       "      <td>SRX1179573</td>\n",
       "      <td>GSM1867917</td>\n",
       "      <td>CBP</td>\n",
       "      <td>SRR2232434</td>\n",
       "      <td>SRX1179571</td>\n",
       "    </tr>\n",
       "    <tr>\n",
       "      <th>20</th>\n",
       "      <td>SRX1389384</td>\n",
       "      <td>GSM1919989</td>\n",
       "      <td>control</td>\n",
       "      <td>SRR2834290 | SRR2834288 | SRR2834289</td>\n",
       "      <td>SRX1389383</td>\n",
       "    </tr>\n",
       "    <tr>\n",
       "      <th>21</th>\n",
       "      <td>SRX1389387</td>\n",
       "      <td>GSM1919992</td>\n",
       "      <td>control</td>\n",
       "      <td>SRR2834295 | SRR2834296</td>\n",
       "      <td>SRX1389386</td>\n",
       "    </tr>\n",
       "    <tr>\n",
       "      <th>22</th>\n",
       "      <td>SRX1389388</td>\n",
       "      <td>GSM1919993</td>\n",
       "      <td>dCAP-D3</td>\n",
       "      <td>SRR2834297 | SRR2834298</td>\n",
       "      <td>SRX1389386</td>\n",
       "    </tr>\n",
       "    <tr>\n",
       "      <th>23</th>\n",
       "      <td>SRX1433397</td>\n",
       "      <td>GSM1941099</td>\n",
       "      <td>MSL2</td>\n",
       "      <td>SRR2919813</td>\n",
       "      <td>SRX1433391</td>\n",
       "    </tr>\n",
       "    <tr>\n",
       "      <th>24</th>\n",
       "      <td>SRX1433399</td>\n",
       "      <td>GSM1941101</td>\n",
       "      <td>MSL2</td>\n",
       "      <td>SRR2919815</td>\n",
       "      <td>SRX1433393</td>\n",
       "    </tr>\n",
       "    <tr>\n",
       "      <th>25</th>\n",
       "      <td>SRX1433400</td>\n",
       "      <td>GSM1941102</td>\n",
       "      <td>MSL2</td>\n",
       "      <td>SRR2919816</td>\n",
       "      <td>SRX1433394</td>\n",
       "    </tr>\n",
       "    <tr>\n",
       "      <th>26</th>\n",
       "      <td>SRX1433401</td>\n",
       "      <td>GSM1941103</td>\n",
       "      <td>MSL2</td>\n",
       "      <td>SRR2919817</td>\n",
       "      <td>SRX1433395</td>\n",
       "    </tr>\n",
       "    <tr>\n",
       "      <th>27</th>\n",
       "      <td>SRX2055944</td>\n",
       "      <td>GSM2293617</td>\n",
       "      <td>HP1a</td>\n",
       "      <td>SRR4069176</td>\n",
       "      <td>SRX2055946</td>\n",
       "    </tr>\n",
       "    <tr>\n",
       "      <th>28</th>\n",
       "      <td>SRX2055945</td>\n",
       "      <td>GSM2293618</td>\n",
       "      <td>FLAG</td>\n",
       "      <td>SRR4069177</td>\n",
       "      <td>SRX2055946</td>\n",
       "    </tr>\n",
       "    <tr>\n",
       "      <th>29</th>\n",
       "      <td>SRX2055953</td>\n",
       "      <td>GSM2293626</td>\n",
       "      <td>HP1a</td>\n",
       "      <td>SRR4069185</td>\n",
       "      <td>SRX2055954</td>\n",
       "    </tr>\n",
       "    <tr>\n",
       "      <th>30</th>\n",
       "      <td>SRX2055958</td>\n",
       "      <td>GSM2293631</td>\n",
       "      <td>Hmr</td>\n",
       "      <td>SRR4069190</td>\n",
       "      <td>SRX2055960</td>\n",
       "    </tr>\n",
       "    <tr>\n",
       "      <th>31</th>\n",
       "      <td>SRX2055961</td>\n",
       "      <td>GSM2293634</td>\n",
       "      <td>Hmr</td>\n",
       "      <td>SRR4069193</td>\n",
       "      <td>SRX2055963</td>\n",
       "    </tr>\n",
       "    <tr>\n",
       "      <th>32</th>\n",
       "      <td>SRX2055964</td>\n",
       "      <td>GSM2293637</td>\n",
       "      <td>Hmr</td>\n",
       "      <td>SRR4069196</td>\n",
       "      <td>SRX2055965</td>\n",
       "    </tr>\n",
       "    <tr>\n",
       "      <th>33</th>\n",
       "      <td>SRX2055966</td>\n",
       "      <td>GSM2293639</td>\n",
       "      <td>Hmr</td>\n",
       "      <td>SRR4069198</td>\n",
       "      <td>SRX2055967</td>\n",
       "    </tr>\n",
       "    <tr>\n",
       "      <th>34</th>\n",
       "      <td>SRX018629</td>\n",
       "      <td>GSM470839</td>\n",
       "      <td>Hsf</td>\n",
       "      <td>SRR039094 | SRR039095 | SRR039093</td>\n",
       "      <td>SRX018628</td>\n",
       "    </tr>\n",
       "    <tr>\n",
       "      <th>35</th>\n",
       "      <td>SRX018630</td>\n",
       "      <td>GSM470840</td>\n",
       "      <td>Hsf</td>\n",
       "      <td>SRR039096 | SRR039098 | SRR039097</td>\n",
       "      <td>SRX018628</td>\n",
       "    </tr>\n",
       "    <tr>\n",
       "      <th>36</th>\n",
       "      <td>SRX018631</td>\n",
       "      <td>GSM470841</td>\n",
       "      <td>Hsf</td>\n",
       "      <td>SRR039100 | SRR039102 | SRR039101 | SRR039099</td>\n",
       "      <td>SRX018628</td>\n",
       "    </tr>\n",
       "    <tr>\n",
       "      <th>37</th>\n",
       "      <td>SRX018632</td>\n",
       "      <td>GSM470842</td>\n",
       "      <td>Hsf</td>\n",
       "      <td>SRR039103 | SRR039104</td>\n",
       "      <td>SRX018628</td>\n",
       "    </tr>\n",
       "    <tr>\n",
       "      <th>38</th>\n",
       "      <td>SRX054533</td>\n",
       "      <td>GSM692422</td>\n",
       "      <td>AGO2</td>\n",
       "      <td>SRR167348</td>\n",
       "      <td>SRX054534</td>\n",
       "    </tr>\n",
       "    <tr>\n",
       "      <th>39</th>\n",
       "      <td>SRX097620</td>\n",
       "      <td>GSM796333</td>\n",
       "      <td>Su(Tpl)</td>\n",
       "      <td>SRR345571</td>\n",
       "      <td>SRX097621</td>\n",
       "    </tr>\n",
       "    <tr>\n",
       "      <th>40</th>\n",
       "      <td>SRX149189</td>\n",
       "      <td>GSM936114</td>\n",
       "      <td>Psc</td>\n",
       "      <td>SRR500149</td>\n",
       "      <td>SRX149193</td>\n",
       "    </tr>\n",
       "    <tr>\n",
       "      <th>41</th>\n",
       "      <td>SRX149192</td>\n",
       "      <td>GSM936117</td>\n",
       "      <td>Psc</td>\n",
       "      <td>SRR500152</td>\n",
       "      <td>SRX149196</td>\n",
       "    </tr>\n",
       "    <tr>\n",
       "      <th>42</th>\n",
       "      <td>ERX1403350</td>\n",
       "      <td>NaN</td>\n",
       "      <td>Mi-2</td>\n",
       "      <td>ERR1331730</td>\n",
       "      <td>ERX1403349</td>\n",
       "    </tr>\n",
       "    <tr>\n",
       "      <th>43</th>\n",
       "      <td>ERX402108</td>\n",
       "      <td>NaN</td>\n",
       "      <td>mutGFP</td>\n",
       "      <td>ERR435843</td>\n",
       "      <td>ERX402102</td>\n",
       "    </tr>\n",
       "    <tr>\n",
       "      <th>44</th>\n",
       "      <td>ERX402112</td>\n",
       "      <td>NaN</td>\n",
       "      <td>groGFP</td>\n",
       "      <td>ERR435832</td>\n",
       "      <td>ERX402113</td>\n",
       "    </tr>\n",
       "    <tr>\n",
       "      <th>45</th>\n",
       "      <td>ERX402114</td>\n",
       "      <td>NaN</td>\n",
       "      <td>groGFP</td>\n",
       "      <td>ERR435839</td>\n",
       "      <td>ERX402113</td>\n",
       "    </tr>\n",
       "    <tr>\n",
       "      <th>46</th>\n",
       "      <td>ERX402133</td>\n",
       "      <td>NaN</td>\n",
       "      <td>mutGFP</td>\n",
       "      <td>ERR435856</td>\n",
       "      <td>ERX402102</td>\n",
       "    </tr>\n",
       "    <tr>\n",
       "      <th>47</th>\n",
       "      <td>ERX402137</td>\n",
       "      <td>NaN</td>\n",
       "      <td>gro</td>\n",
       "      <td>ERR435837</td>\n",
       "      <td>ERX402113</td>\n",
       "    </tr>\n",
       "    <tr>\n",
       "      <th>48</th>\n",
       "      <td>ERX402138</td>\n",
       "      <td>NaN</td>\n",
       "      <td>gro</td>\n",
       "      <td>ERR435849</td>\n",
       "      <td>ERX402113</td>\n",
       "    </tr>\n",
       "  </tbody>\n",
       "</table>\n",
       "</div>"
      ],
      "text/plain": [
       "           srx         geo   target  \\\n",
       "0    SRX306190  GSM1162760     Ice1   \n",
       "1    SRX306193  GSM1162763     Ice1   \n",
       "2    SRX306196  GSM1162766     Ice1   \n",
       "3    SRX326969  GSM1193814    input   \n",
       "4    SRX326970  GSM1193815     HP1c   \n",
       "5    SRX330269  GSM1199044      EcR   \n",
       "6    SRX330270  GSM1199045      EcR   \n",
       "7    SRX495269  GSM1217657   CG8478   \n",
       "8    SRX495270  GSM1217658   CG8478   \n",
       "9    SRX359797  GSM1239358     AGO2   \n",
       "10   SRX359798  GSM1239359     AGO2   \n",
       "11   SRX495789  GSM1296167      Myc   \n",
       "12   SRX447393  GSM1313421    ZIPIC   \n",
       "13   SRX883604  GSM1614137      Tet   \n",
       "14   SRX883605  GSM1614138      Tet   \n",
       "15   SRX885698  GSM1616472      Scm   \n",
       "16   SRX885700  GSM1616474      Scm   \n",
       "17   SRX885702  GSM1616476       Pc   \n",
       "18  SRX1179572  GSM1867916     Etl1   \n",
       "19  SRX1179573  GSM1867917      CBP   \n",
       "20  SRX1389384  GSM1919989  control   \n",
       "21  SRX1389387  GSM1919992  control   \n",
       "22  SRX1389388  GSM1919993  dCAP-D3   \n",
       "23  SRX1433397  GSM1941099     MSL2   \n",
       "24  SRX1433399  GSM1941101     MSL2   \n",
       "25  SRX1433400  GSM1941102     MSL2   \n",
       "26  SRX1433401  GSM1941103     MSL2   \n",
       "27  SRX2055944  GSM2293617     HP1a   \n",
       "28  SRX2055945  GSM2293618     FLAG   \n",
       "29  SRX2055953  GSM2293626     HP1a   \n",
       "30  SRX2055958  GSM2293631      Hmr   \n",
       "31  SRX2055961  GSM2293634      Hmr   \n",
       "32  SRX2055964  GSM2293637      Hmr   \n",
       "33  SRX2055966  GSM2293639      Hmr   \n",
       "34   SRX018629   GSM470839      Hsf   \n",
       "35   SRX018630   GSM470840      Hsf   \n",
       "36   SRX018631   GSM470841      Hsf   \n",
       "37   SRX018632   GSM470842      Hsf   \n",
       "38   SRX054533   GSM692422     AGO2   \n",
       "39   SRX097620   GSM796333  Su(Tpl)   \n",
       "40   SRX149189   GSM936114      Psc   \n",
       "41   SRX149192   GSM936117      Psc   \n",
       "42  ERX1403350         NaN     Mi-2   \n",
       "43   ERX402108         NaN   mutGFP   \n",
       "44   ERX402112         NaN   groGFP   \n",
       "45   ERX402114         NaN   groGFP   \n",
       "46   ERX402133         NaN   mutGFP   \n",
       "47   ERX402137         NaN      gro   \n",
       "48   ERX402138         NaN      gro   \n",
       "\n",
       "                                              srr       input  \n",
       "0                                       SRR901293   SRX306192  \n",
       "1                                       SRR901296   SRX306195  \n",
       "2                                       SRR901299   SRX306198  \n",
       "3                                       SRR942042   SRX326969  \n",
       "4                                       SRR942043   SRX326969  \n",
       "5                           SRR946215 | SRR946214   SRX330271  \n",
       "6                           SRR946216 | SRR946217   SRX330271  \n",
       "7                                      SRR1198774   SRX495267  \n",
       "8                                      SRR1198775   SRX495268  \n",
       "9                                      SRR1002329   SRX359796  \n",
       "10                                     SRR1002330   SRX359796  \n",
       "11                                     SRR1199487   SRX495788  \n",
       "12                                     SRR1141009   SRX447394  \n",
       "13                                     SRR1810946   SRX883600  \n",
       "14                                     SRR1810947   SRX883601  \n",
       "15                                     SRR1813243   SRX885699  \n",
       "16                                     SRR1813245   SRX885701  \n",
       "17                                     SRR1813247   SRX885703  \n",
       "18                                     SRR2232433  SRX1179571  \n",
       "19                                     SRR2232434  SRX1179571  \n",
       "20           SRR2834290 | SRR2834288 | SRR2834289  SRX1389383  \n",
       "21                        SRR2834295 | SRR2834296  SRX1389386  \n",
       "22                        SRR2834297 | SRR2834298  SRX1389386  \n",
       "23                                     SRR2919813  SRX1433391  \n",
       "24                                     SRR2919815  SRX1433393  \n",
       "25                                     SRR2919816  SRX1433394  \n",
       "26                                     SRR2919817  SRX1433395  \n",
       "27                                     SRR4069176  SRX2055946  \n",
       "28                                     SRR4069177  SRX2055946  \n",
       "29                                     SRR4069185  SRX2055954  \n",
       "30                                     SRR4069190  SRX2055960  \n",
       "31                                     SRR4069193  SRX2055963  \n",
       "32                                     SRR4069196  SRX2055965  \n",
       "33                                     SRR4069198  SRX2055967  \n",
       "34              SRR039094 | SRR039095 | SRR039093   SRX018628  \n",
       "35             SRR039096 | SRR039098 | SRR039097    SRX018628  \n",
       "36  SRR039100 | SRR039102 | SRR039101 | SRR039099   SRX018628  \n",
       "37                          SRR039103 | SRR039104   SRX018628  \n",
       "38                                      SRR167348   SRX054534  \n",
       "39                                      SRR345571   SRX097621  \n",
       "40                                      SRR500149   SRX149193  \n",
       "41                                      SRR500152   SRX149196  \n",
       "42                                     ERR1331730  ERX1403349  \n",
       "43                                      ERR435843   ERX402102  \n",
       "44                                      ERR435832   ERX402113  \n",
       "45                                      ERR435839   ERX402113  \n",
       "46                                      ERR435856   ERX402102  \n",
       "47                                      ERR435837   ERX402113  \n",
       "48                                      ERR435849   ERX402113  "
      ]
     },
     "execution_count": 42,
     "metadata": {},
     "output_type": "execute_result"
    }
   ],
   "source": [
    "spreadsheet.merge(emptydf, how='inner')[['srx','geo','target','srr','input']]"
   ]
  },
  {
   "cell_type": "code",
   "execution_count": null,
   "metadata": {},
   "outputs": [],
   "source": []
  }
 ],
 "metadata": {
  "kernelspec": {
   "display_name": "Python [conda env:s2rnai]",
   "language": "python",
   "name": "conda-env-s2rnai-py"
  },
  "language_info": {
   "codemirror_mode": {
    "name": "ipython",
    "version": 3
   },
   "file_extension": ".py",
   "mimetype": "text/x-python",
   "name": "python",
   "nbconvert_exporter": "python",
   "pygments_lexer": "ipython3",
   "version": "3.6.3"
  }
 },
 "nbformat": 4,
 "nbformat_minor": 2
}
