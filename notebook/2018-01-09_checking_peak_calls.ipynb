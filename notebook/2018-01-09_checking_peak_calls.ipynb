{
 "cells": [
  {
   "cell_type": "markdown",
   "metadata": {},
   "source": [
    "## Explore peak data\n",
    "\n",
    "These are the peak calls from running the chipseq-wf with all S2 cell chip data in the SRA. I remove phantom peaks, and plot the distribution of peak counts for TF/histones. I then filter for datasets with less than 1000 peaks. "
   ]
  },
  {
   "cell_type": "code",
   "execution_count": 1,
   "metadata": {},
   "outputs": [],
   "source": [
    "import pandas as pd\n",
    "import seaborn as sb\n",
    "import glob\n",
    "import os\n",
    "import pybedtools\n",
    "from pybedtools.featurefuncs import gff2bed"
   ]
  },
  {
   "cell_type": "code",
   "execution_count": 2,
   "metadata": {},
   "outputs": [],
   "source": [
    "#dropping this dataset -- 4 of the samples have 0 reads after cutadapt\n",
    "throw_out = ['ERX242704', 'ERX242706', 'ERX242707','ERX242709', 'ERX242710','ERX242711','ERX242712','ERX242713',\n",
    "             'ERX242715', 'ERX242716', 'ERX242717', 'ERX242718','ERX242722', 'ERX242723', 'ERX242724', 'ERX242726',\n",
    "             'ERX242727', 'ERX242728', 'ERX242729']"
   ]
  },
  {
   "cell_type": "markdown",
   "metadata": {},
   "source": [
    "Import the peak calls:"
   ]
  },
  {
   "cell_type": "code",
   "execution_count": 3,
   "metadata": {},
   "outputs": [],
   "source": [
    "#all peaks would be glob.glob('../chipseq-wf/data/chipseq_peaks/*/[S,E]RX*/peaks.bed')\n",
    "#macs2 peaks\n",
    "concat = []\n",
    "for fname in glob.glob('../chipseq-wf/data/chipseq_peaks/macs2/[S,E]RX*/peaks.bed'):\n",
    "    name = fname.split('../chipseq-wf/data/chipseq_peaks/macs2/')[1].split('/peaks.bed')[0]\n",
    "    if name not in throw_out:\n",
    "        df = pd.read_table(fname, header=None)\n",
    "        df['srx'] = name\n",
    "        df['caller'] = 'macs2'\n",
    "        concat.append(df)\n",
    "macs2_full = pd.concat(concat)"
   ]
  },
  {
   "cell_type": "code",
   "execution_count": 4,
   "metadata": {},
   "outputs": [],
   "source": [
    "macs2 = macs2_full[[0,1,2,'srx',8,'caller']]"
   ]
  },
  {
   "cell_type": "code",
   "execution_count": 5,
   "metadata": {},
   "outputs": [],
   "source": [
    "#spp peaks\n",
    "glob.glob('../chipseq-wf/data/chipseq_peaks/spp/[S,E]RX*/peaks.bed')\n",
    "concat = []\n",
    "for fname in glob.glob('../chipseq-wf/data/chipseq_peaks/spp/[S,E]RX*/peaks.bed'):\n",
    "    name = fname.split('../chipseq-wf/data/chipseq_peaks/spp/')[1].split('/peaks.bed')[0]\n",
    "    if name not in throw_out:\n",
    "        if os.path.getsize(fname) != 0:\n",
    "            df = pd.read_table(fname, header=None)\n",
    "            df['srx'] = name\n",
    "            df['caller'] = 'spp'\n",
    "            concat.append(df)\n",
    "spp_full = pd.concat(concat)"
   ]
  },
  {
   "cell_type": "code",
   "execution_count": 6,
   "metadata": {},
   "outputs": [
    {
     "name": "stderr",
     "output_type": "stream",
     "text": [
      "/data/bergeric/miniconda3/envs/s2rnai/lib/python3.6/site-packages/pandas/core/frame.py:2540: SettingWithCopyWarning: \n",
      "A value is trying to be set on a copy of a slice from a DataFrame.\n",
      "Try using .loc[row_indexer,col_indexer] = value instead\n",
      "\n",
      "See the caveats in the documentation: http://pandas.pydata.org/pandas-docs/stable/indexing.html#indexing-view-versus-copy\n",
      "  self[k1] = value[k2]\n"
     ]
    }
   ],
   "source": [
    "spp = spp_full[[0,1,2,'srx',8,'caller']]\n",
    "spp[[1,2]]= spp[[1,2]].astype(int)"
   ]
  },
  {
   "cell_type": "markdown",
   "metadata": {},
   "source": [
    "Look at distributions of peak counts:"
   ]
  },
  {
   "cell_type": "code",
   "execution_count": 7,
   "metadata": {
    "scrolled": true
   },
   "outputs": [
    {
     "data": {
      "text/plain": [
       "<matplotlib.axes._subplots.AxesSubplot at 0x2aaadefca908>"
      ]
     },
     "execution_count": 7,
     "metadata": {},
     "output_type": "execute_result"
    },
    {
     "data": {
      "image/png": "[encoded data removed]",
      "text/plain": [
       "<matplotlib.figure.Figure at 0x2aab68a97668>"
      ]
     },
     "metadata": {},
     "output_type": "display_data"
    }
   ],
   "source": [
    "#Count number of peaks per dataset macs2 \n",
    "peakcount_macs = macs2.groupby('srx')[[1]].count()\n",
    "sb.distplot(peakcount_macs)"
   ]
  },
  {
   "cell_type": "code",
   "execution_count": 8,
   "metadata": {},
   "outputs": [
    {
     "data": {
      "text/plain": [
       "<matplotlib.axes._subplots.AxesSubplot at 0x2aab68a97438>"
      ]
     },
     "execution_count": 8,
     "metadata": {},
     "output_type": "execute_result"
    },
    {
     "data": {
      "image/png": "[encoded data removed]",
      "text/plain": [
       "<matplotlib.figure.Figure at 0x2aab60427f98>"
      ]
     },
     "metadata": {},
     "output_type": "display_data"
    }
   ],
   "source": [
    "#Count number of peaks per dataset spp\n",
    "peakcount_spp = spp.groupby('srx')[[1]].count()\n",
    "sb.distplot(peakcount_spp)"
   ]
  },
  {
   "cell_type": "code",
   "execution_count": 9,
   "metadata": {},
   "outputs": [
    {
     "data": {
      "text/html": [
       "<div>\n",
       "<style scoped>\n",
       "    .dataframe tbody tr th:only-of-type {\n",
       "        vertical-align: middle;\n",
       "    }\n",
       "\n",
       "    .dataframe tbody tr th {\n",
       "        vertical-align: top;\n",
       "    }\n",
       "\n",
       "    .dataframe thead th {\n",
       "        text-align: right;\n",
       "    }\n",
       "</style>\n",
       "<table border=\"1\" class=\"dataframe\">\n",
       "  <thead>\n",
       "    <tr style=\"text-align: right;\">\n",
       "      <th></th>\n",
       "      <th>chrom</th>\n",
       "      <th>start</th>\n",
       "      <th>end</th>\n",
       "      <th>name</th>\n",
       "      <th>score</th>\n",
       "      <th>caller</th>\n",
       "    </tr>\n",
       "  </thead>\n",
       "  <tbody>\n",
       "    <tr>\n",
       "      <th>0</th>\n",
       "      <td>chr2L</td>\n",
       "      <td>16617</td>\n",
       "      <td>16893</td>\n",
       "      <td>SRX191913</td>\n",
       "      <td>33.40816</td>\n",
       "      <td>macs2</td>\n",
       "    </tr>\n",
       "    <tr>\n",
       "      <th>1</th>\n",
       "      <td>chr2L</td>\n",
       "      <td>18490</td>\n",
       "      <td>19713</td>\n",
       "      <td>SRX191913</td>\n",
       "      <td>17.81555</td>\n",
       "      <td>macs2</td>\n",
       "    </tr>\n",
       "    <tr>\n",
       "      <th>2</th>\n",
       "      <td>chr2L</td>\n",
       "      <td>21242</td>\n",
       "      <td>21484</td>\n",
       "      <td>SRX191913</td>\n",
       "      <td>7.92056</td>\n",
       "      <td>macs2</td>\n",
       "    </tr>\n",
       "    <tr>\n",
       "      <th>3</th>\n",
       "      <td>chr2L</td>\n",
       "      <td>34118</td>\n",
       "      <td>34304</td>\n",
       "      <td>SRX191913</td>\n",
       "      <td>4.27362</td>\n",
       "      <td>macs2</td>\n",
       "    </tr>\n",
       "    <tr>\n",
       "      <th>4</th>\n",
       "      <td>chr2L</td>\n",
       "      <td>35499</td>\n",
       "      <td>35830</td>\n",
       "      <td>SRX191913</td>\n",
       "      <td>39.60189</td>\n",
       "      <td>macs2</td>\n",
       "    </tr>\n",
       "  </tbody>\n",
       "</table>\n",
       "</div>"
      ],
      "text/plain": [
       "   chrom  start    end       name     score caller\n",
       "0  chr2L  16617  16893  SRX191913  33.40816  macs2\n",
       "1  chr2L  18490  19713  SRX191913  17.81555  macs2\n",
       "2  chr2L  21242  21484  SRX191913   7.92056  macs2\n",
       "3  chr2L  34118  34304  SRX191913   4.27362  macs2\n",
       "4  chr2L  35499  35830  SRX191913  39.60189  macs2"
      ]
     },
     "execution_count": 9,
     "metadata": {},
     "output_type": "execute_result"
    }
   ],
   "source": [
    "both = pd.concat([macs2, spp])\n",
    "#note: score is -log10 qvalue\n",
    "both.columns = ['chrom','start','end','name','score','caller']\n",
    "both.head()"
   ]
  },
  {
   "cell_type": "code",
   "execution_count": 10,
   "metadata": {},
   "outputs": [
    {
     "data": {
      "text/plain": [
       "<matplotlib.axes._subplots.AxesSubplot at 0x2aab7d494a20>"
      ]
     },
     "execution_count": 10,
     "metadata": {},
     "output_type": "execute_result"
    },
    {
     "data": {
      "image/png": "[encoded data removed]",
      "text/plain": [
       "<matplotlib.figure.Figure at 0x2aab7d4759e8>"
      ]
     },
     "metadata": {},
     "output_type": "display_data"
    }
   ],
   "source": [
    "#log 10 peak count distribution for all peak data\n",
    "import numpy\n",
    "\n",
    "peakcount = both.groupby('name')[['start']].count()\n",
    "sb.distplot(numpy.log10(peakcount + 1))\n"
   ]
  },
  {
   "cell_type": "code",
   "execution_count": 11,
   "metadata": {},
   "outputs": [
    {
     "data": {
      "text/html": [
       "<div>\n",
       "<style scoped>\n",
       "    .dataframe tbody tr th:only-of-type {\n",
       "        vertical-align: middle;\n",
       "    }\n",
       "\n",
       "    .dataframe tbody tr th {\n",
       "        vertical-align: top;\n",
       "    }\n",
       "\n",
       "    .dataframe thead th {\n",
       "        text-align: right;\n",
       "    }\n",
       "</style>\n",
       "<table border=\"1\" class=\"dataframe\">\n",
       "  <thead>\n",
       "    <tr style=\"text-align: right;\">\n",
       "      <th></th>\n",
       "      <th>start</th>\n",
       "    </tr>\n",
       "  </thead>\n",
       "  <tbody>\n",
       "    <tr>\n",
       "      <th>count</th>\n",
       "      <td>177.000000</td>\n",
       "    </tr>\n",
       "    <tr>\n",
       "      <th>mean</th>\n",
       "      <td>13595.090395</td>\n",
       "    </tr>\n",
       "    <tr>\n",
       "      <th>std</th>\n",
       "      <td>13067.106884</td>\n",
       "    </tr>\n",
       "    <tr>\n",
       "      <th>min</th>\n",
       "      <td>28.000000</td>\n",
       "    </tr>\n",
       "    <tr>\n",
       "      <th>25%</th>\n",
       "      <td>4822.000000</td>\n",
       "    </tr>\n",
       "    <tr>\n",
       "      <th>50%</th>\n",
       "      <td>10419.000000</td>\n",
       "    </tr>\n",
       "    <tr>\n",
       "      <th>75%</th>\n",
       "      <td>19345.000000</td>\n",
       "    </tr>\n",
       "    <tr>\n",
       "      <th>max</th>\n",
       "      <td>86662.000000</td>\n",
       "    </tr>\n",
       "  </tbody>\n",
       "</table>\n",
       "</div>"
      ],
      "text/plain": [
       "              start\n",
       "count    177.000000\n",
       "mean   13595.090395\n",
       "std    13067.106884\n",
       "min       28.000000\n",
       "25%     4822.000000\n",
       "50%    10419.000000\n",
       "75%    19345.000000\n",
       "max    86662.000000"
      ]
     },
     "execution_count": 11,
     "metadata": {},
     "output_type": "execute_result"
    }
   ],
   "source": [
    "peakcount.describe()"
   ]
  },
  {
   "cell_type": "markdown",
   "metadata": {},
   "source": [
    "### Remove phantom peaks\n",
    "\n",
    "Using spreadsheet from Supplementary Data, Jain et al 2014"
   ]
  },
  {
   "cell_type": "code",
   "execution_count": 12,
   "metadata": {},
   "outputs": [],
   "source": [
    "phantompeaks = pd.read_excel(\n",
    "    '../output/chip/gkv637_Supplementary_Data/Supplementary_table_3__List_of_Phantom_Peaks.xlsx')\n",
    "phantompeaks = phantompeaks[['chr ','start','end','Name']]"
   ]
  },
  {
   "cell_type": "code",
   "execution_count": 13,
   "metadata": {},
   "outputs": [],
   "source": [
    "# Get peak data in bed format\n",
    "both = both[~both['start'].astype(str).str.contains('-')]\n",
    "bed = both[['chrom','start','end','name']]"
   ]
  },
  {
   "cell_type": "code",
   "execution_count": 14,
   "metadata": {},
   "outputs": [],
   "source": [
    "intersect = pybedtools.BedTool.from_dataframe(bed).intersect(pybedtools.BedTool.from_dataframe(phantompeaks), \n",
    "                                                             wo=True).to_dataframe()"
   ]
  },
  {
   "cell_type": "code",
   "execution_count": 15,
   "metadata": {},
   "outputs": [],
   "source": [
    "#filter for an overlap of at least 50bp based on Jain et al 2014\n",
    "filtered = intersect[intersect.itemRgb >= 50]"
   ]
  },
  {
   "cell_type": "code",
   "execution_count": 16,
   "metadata": {},
   "outputs": [
    {
     "data": {
      "text/html": [
       "<div>\n",
       "<style scoped>\n",
       "    .dataframe tbody tr th:only-of-type {\n",
       "        vertical-align: middle;\n",
       "    }\n",
       "\n",
       "    .dataframe tbody tr th {\n",
       "        vertical-align: top;\n",
       "    }\n",
       "\n",
       "    .dataframe thead th {\n",
       "        text-align: right;\n",
       "    }\n",
       "</style>\n",
       "<table border=\"1\" class=\"dataframe\">\n",
       "  <thead>\n",
       "    <tr style=\"text-align: right;\">\n",
       "      <th></th>\n",
       "      <th>chrom</th>\n",
       "      <th>start</th>\n",
       "      <th>end</th>\n",
       "      <th>name</th>\n",
       "      <th>score</th>\n",
       "      <th>strand</th>\n",
       "      <th>thickStart</th>\n",
       "      <th>thickEnd</th>\n",
       "      <th>itemRgb</th>\n",
       "    </tr>\n",
       "  </thead>\n",
       "  <tbody>\n",
       "    <tr>\n",
       "      <th>0</th>\n",
       "      <td>chr2L</td>\n",
       "      <td>18490</td>\n",
       "      <td>19713</td>\n",
       "      <td>SRX191913</td>\n",
       "      <td>chr2L</td>\n",
       "      <td>18637</td>\n",
       "      <td>19089</td>\n",
       "      <td>Phantom Peak-1</td>\n",
       "      <td>452</td>\n",
       "    </tr>\n",
       "    <tr>\n",
       "      <th>1</th>\n",
       "      <td>chr2L</td>\n",
       "      <td>102214</td>\n",
       "      <td>102424</td>\n",
       "      <td>SRX191913</td>\n",
       "      <td>chr2L</td>\n",
       "      <td>102118</td>\n",
       "      <td>102570</td>\n",
       "      <td>Phantom Peak-2</td>\n",
       "      <td>210</td>\n",
       "    </tr>\n",
       "    <tr>\n",
       "      <th>2</th>\n",
       "      <td>chr2L</td>\n",
       "      <td>107113</td>\n",
       "      <td>109566</td>\n",
       "      <td>SRX191913</td>\n",
       "      <td>chr2L</td>\n",
       "      <td>107669</td>\n",
       "      <td>108121</td>\n",
       "      <td>Phantom Peak-3</td>\n",
       "      <td>452</td>\n",
       "    </tr>\n",
       "    <tr>\n",
       "      <th>3</th>\n",
       "      <td>chr2L</td>\n",
       "      <td>158896</td>\n",
       "      <td>159714</td>\n",
       "      <td>SRX191913</td>\n",
       "      <td>chr2L</td>\n",
       "      <td>158670</td>\n",
       "      <td>159126</td>\n",
       "      <td>Phantom Peak-6</td>\n",
       "      <td>230</td>\n",
       "    </tr>\n",
       "    <tr>\n",
       "      <th>4</th>\n",
       "      <td>chr2L</td>\n",
       "      <td>207224</td>\n",
       "      <td>207532</td>\n",
       "      <td>SRX191913</td>\n",
       "      <td>chr2L</td>\n",
       "      <td>207139</td>\n",
       "      <td>207591</td>\n",
       "      <td>Phantom Peak-8</td>\n",
       "      <td>308</td>\n",
       "    </tr>\n",
       "  </tbody>\n",
       "</table>\n",
       "</div>"
      ],
      "text/plain": [
       "   chrom   start     end       name  score  strand  thickStart  \\\n",
       "0  chr2L   18490   19713  SRX191913  chr2L   18637       19089   \n",
       "1  chr2L  102214  102424  SRX191913  chr2L  102118      102570   \n",
       "2  chr2L  107113  109566  SRX191913  chr2L  107669      108121   \n",
       "3  chr2L  158896  159714  SRX191913  chr2L  158670      159126   \n",
       "4  chr2L  207224  207532  SRX191913  chr2L  207139      207591   \n",
       "\n",
       "         thickEnd  itemRgb  \n",
       "0  Phantom Peak-1      452  \n",
       "1  Phantom Peak-2      210  \n",
       "2  Phantom Peak-3      452  \n",
       "3  Phantom Peak-6      230  \n",
       "4  Phantom Peak-8      308  "
      ]
     },
     "execution_count": 16,
     "metadata": {},
     "output_type": "execute_result"
    }
   ],
   "source": [
    "filtered.head()"
   ]
  },
  {
   "cell_type": "code",
   "execution_count": 17,
   "metadata": {},
   "outputs": [],
   "source": [
    "outermerge = both.merge(filtered, how='outer', on=['chrom','start','end','name'], indicator=True)"
   ]
  },
  {
   "cell_type": "code",
   "execution_count": 18,
   "metadata": {},
   "outputs": [
    {
     "data": {
      "text/html": [
       "<div>\n",
       "<style scoped>\n",
       "    .dataframe tbody tr th:only-of-type {\n",
       "        vertical-align: middle;\n",
       "    }\n",
       "\n",
       "    .dataframe tbody tr th {\n",
       "        vertical-align: top;\n",
       "    }\n",
       "\n",
       "    .dataframe thead th {\n",
       "        text-align: right;\n",
       "    }\n",
       "</style>\n",
       "<table border=\"1\" class=\"dataframe\">\n",
       "  <thead>\n",
       "    <tr style=\"text-align: right;\">\n",
       "      <th></th>\n",
       "      <th>chrom</th>\n",
       "      <th>start</th>\n",
       "      <th>end</th>\n",
       "      <th>name</th>\n",
       "      <th>score</th>\n",
       "      <th>caller</th>\n",
       "    </tr>\n",
       "  </thead>\n",
       "  <tbody>\n",
       "    <tr>\n",
       "      <th>0</th>\n",
       "      <td>chr2L</td>\n",
       "      <td>16617</td>\n",
       "      <td>16893</td>\n",
       "      <td>SRX191913</td>\n",
       "      <td>33.40816</td>\n",
       "      <td>macs2</td>\n",
       "    </tr>\n",
       "    <tr>\n",
       "      <th>2</th>\n",
       "      <td>chr2L</td>\n",
       "      <td>21242</td>\n",
       "      <td>21484</td>\n",
       "      <td>SRX191913</td>\n",
       "      <td>7.92056</td>\n",
       "      <td>macs2</td>\n",
       "    </tr>\n",
       "    <tr>\n",
       "      <th>3</th>\n",
       "      <td>chr2L</td>\n",
       "      <td>34118</td>\n",
       "      <td>34304</td>\n",
       "      <td>SRX191913</td>\n",
       "      <td>4.27362</td>\n",
       "      <td>macs2</td>\n",
       "    </tr>\n",
       "    <tr>\n",
       "      <th>4</th>\n",
       "      <td>chr2L</td>\n",
       "      <td>35499</td>\n",
       "      <td>35830</td>\n",
       "      <td>SRX191913</td>\n",
       "      <td>39.60189</td>\n",
       "      <td>macs2</td>\n",
       "    </tr>\n",
       "    <tr>\n",
       "      <th>5</th>\n",
       "      <td>chr2L</td>\n",
       "      <td>43248</td>\n",
       "      <td>43463</td>\n",
       "      <td>SRX191913</td>\n",
       "      <td>3.57781</td>\n",
       "      <td>macs2</td>\n",
       "    </tr>\n",
       "  </tbody>\n",
       "</table>\n",
       "</div>"
      ],
      "text/plain": [
       "   chrom  start    end       name     score caller\n",
       "0  chr2L  16617  16893  SRX191913  33.40816  macs2\n",
       "2  chr2L  21242  21484  SRX191913   7.92056  macs2\n",
       "3  chr2L  34118  34304  SRX191913   4.27362  macs2\n",
       "4  chr2L  35499  35830  SRX191913  39.60189  macs2\n",
       "5  chr2L  43248  43463  SRX191913   3.57781  macs2"
      ]
     },
     "execution_count": 18,
     "metadata": {},
     "output_type": "execute_result"
    }
   ],
   "source": [
    "no_phantom = outermerge[outermerge._merge == 'left_only'][['chrom','start','end','name','score_x','caller']]\n",
    "no_phantom.rename(columns={'score_x': 'score'}, inplace=True)\n",
    "no_phantom.head()"
   ]
  },
  {
   "cell_type": "code",
   "execution_count": 19,
   "metadata": {},
   "outputs": [
    {
     "data": {
      "text/plain": [
       "(2276611, 6)"
      ]
     },
     "execution_count": 19,
     "metadata": {},
     "output_type": "execute_result"
    }
   ],
   "source": [
    "no_phantom.shape"
   ]
  },
  {
   "cell_type": "code",
   "execution_count": 20,
   "metadata": {},
   "outputs": [
    {
     "data": {
      "text/plain": [
       "count      177.000000\n",
       "mean     12862.209040\n",
       "std      12659.959969\n",
       "min         27.000000\n",
       "25%       4482.000000\n",
       "50%       9506.000000\n",
       "75%      18754.000000\n",
       "max      85755.000000\n",
       "Name: start, dtype: float64"
      ]
     },
     "execution_count": 20,
     "metadata": {},
     "output_type": "execute_result"
    }
   ],
   "source": [
    "nophtm_peakcount = no_phantom.groupby('name').start.count()\n",
    "nophtm_peakcount.describe()"
   ]
  },
  {
   "cell_type": "code",
   "execution_count": 21,
   "metadata": {},
   "outputs": [
    {
     "data": {
      "text/plain": [
       "<matplotlib.axes._subplots.AxesSubplot at 0x2aab83592860>"
      ]
     },
     "execution_count": 21,
     "metadata": {},
     "output_type": "execute_result"
    },
    {
     "data": {
      "image/png": "[encoded data removed]",
      "text/plain": [
       "<matplotlib.figure.Figure at 0x2aab8358c128>"
      ]
     },
     "metadata": {},
     "output_type": "display_data"
    }
   ],
   "source": [
    "sb.distplot(nophtm_peakcount)"
   ]
  },
  {
   "cell_type": "markdown",
   "metadata": {},
   "source": [
    "### Separate by TF/Histone\n",
    "Import csv with metadata:"
   ]
  },
  {
   "cell_type": "code",
   "execution_count": 22,
   "metadata": {},
   "outputs": [
    {
     "data": {
      "text/html": [
       "<div>\n",
       "<style scoped>\n",
       "    .dataframe tbody tr th:only-of-type {\n",
       "        vertical-align: middle;\n",
       "    }\n",
       "\n",
       "    .dataframe tbody tr th {\n",
       "        vertical-align: top;\n",
       "    }\n",
       "\n",
       "    .dataframe thead th {\n",
       "        text-align: right;\n",
       "    }\n",
       "</style>\n",
       "<table border=\"1\" class=\"dataframe\">\n",
       "  <thead>\n",
       "    <tr style=\"text-align: right;\">\n",
       "      <th></th>\n",
       "      <th>srx</th>\n",
       "      <th>cell_line</th>\n",
       "      <th>geo</th>\n",
       "      <th>paper</th>\n",
       "      <th>strategy</th>\n",
       "      <th>antibody</th>\n",
       "      <th>target</th>\n",
       "      <th>srr</th>\n",
       "      <th>chromatin</th>\n",
       "      <th>input</th>\n",
       "      <th>Unnamed: 10</th>\n",
       "    </tr>\n",
       "  </thead>\n",
       "  <tbody>\n",
       "    <tr>\n",
       "      <th>0</th>\n",
       "      <td>SRX191913</td>\n",
       "      <td>S2 DRSC: Schneider's line 2</td>\n",
       "      <td>GSM1015410</td>\n",
       "      <td>['24055367', '24055367']</td>\n",
       "      <td>ChIP-Seq</td>\n",
       "      <td>dCTCF antibody 68 (rat)</td>\n",
       "      <td>CTCF</td>\n",
       "      <td>SRR580343</td>\n",
       "      <td>1</td>\n",
       "      <td>SRX191915</td>\n",
       "      <td>NaN</td>\n",
       "    </tr>\n",
       "    <tr>\n",
       "      <th>1</th>\n",
       "      <td>SRX191914</td>\n",
       "      <td>S2 DRSC: Schneider's line 2</td>\n",
       "      <td>GSM1015411</td>\n",
       "      <td>['24055367', '24055367']</td>\n",
       "      <td>ChIP-Seq</td>\n",
       "      <td>dCTCF antibody 68 (rat)</td>\n",
       "      <td>CTCF</td>\n",
       "      <td>SRR580344</td>\n",
       "      <td>1</td>\n",
       "      <td>SRX191916</td>\n",
       "      <td>NaN</td>\n",
       "    </tr>\n",
       "    <tr>\n",
       "      <th>2</th>\n",
       "      <td>SRX191915</td>\n",
       "      <td>S2 DRSC: Schneider's line 2</td>\n",
       "      <td>GSM1015412</td>\n",
       "      <td>['24055367', '24055367']</td>\n",
       "      <td>ChIP-Seq</td>\n",
       "      <td>input</td>\n",
       "      <td>input</td>\n",
       "      <td>SRR580345</td>\n",
       "      <td>1</td>\n",
       "      <td>SRX191915</td>\n",
       "      <td>NaN</td>\n",
       "    </tr>\n",
       "    <tr>\n",
       "      <th>3</th>\n",
       "      <td>SRX191916</td>\n",
       "      <td>S2 DRSC: Schneider's line 2</td>\n",
       "      <td>GSM1015413</td>\n",
       "      <td>['24055367', '24055367']</td>\n",
       "      <td>ChIP-Seq</td>\n",
       "      <td>input</td>\n",
       "      <td>input</td>\n",
       "      <td>SRR580346</td>\n",
       "      <td>1</td>\n",
       "      <td>SRX191916</td>\n",
       "      <td>NaN</td>\n",
       "    </tr>\n",
       "    <tr>\n",
       "      <th>4</th>\n",
       "      <td>SRX193308</td>\n",
       "      <td>Schneider's Drosophila Line 2; S2 cells</td>\n",
       "      <td>GSM1017394</td>\n",
       "      <td>['23166019', '23166019']</td>\n",
       "      <td>ChIP-Seq</td>\n",
       "      <td>input</td>\n",
       "      <td>input</td>\n",
       "      <td>SRR585041</td>\n",
       "      <td>1</td>\n",
       "      <td>SRX193308</td>\n",
       "      <td>NaN</td>\n",
       "    </tr>\n",
       "  </tbody>\n",
       "</table>\n",
       "</div>"
      ],
      "text/plain": [
       "         srx                                cell_line         geo  \\\n",
       "0  SRX191913              S2 DRSC: Schneider's line 2  GSM1015410   \n",
       "1  SRX191914              S2 DRSC: Schneider's line 2  GSM1015411   \n",
       "2  SRX191915              S2 DRSC: Schneider's line 2  GSM1015412   \n",
       "3  SRX191916              S2 DRSC: Schneider's line 2  GSM1015413   \n",
       "4  SRX193308  Schneider's Drosophila Line 2; S2 cells  GSM1017394   \n",
       "\n",
       "                      paper  strategy                 antibody target  \\\n",
       "0  ['24055367', '24055367']  ChIP-Seq  dCTCF antibody 68 (rat)   CTCF   \n",
       "1  ['24055367', '24055367']  ChIP-Seq  dCTCF antibody 68 (rat)   CTCF   \n",
       "2  ['24055367', '24055367']  ChIP-Seq                    input  input   \n",
       "3  ['24055367', '24055367']  ChIP-Seq                    input  input   \n",
       "4  ['23166019', '23166019']  ChIP-Seq                    input  input   \n",
       "\n",
       "         srr  chromatin      input Unnamed: 10  \n",
       "0  SRR580343          1  SRX191915         NaN  \n",
       "1  SRR580344          1  SRX191916         NaN  \n",
       "2  SRR580345          1  SRX191915         NaN  \n",
       "3  SRR580346          1  SRX191916         NaN  \n",
       "4  SRR585041          1  SRX193308         NaN  "
      ]
     },
     "execution_count": 22,
     "metadata": {},
     "output_type": "execute_result"
    }
   ],
   "source": [
    "spreadsheet = pd.read_csv('../output/chip/20171103_s2cell_chip-seq.csv')\n",
    "\n",
    "#For now we are excluding datasets with no input: \n",
    "spreadsheet = spreadsheet[spreadsheet.input != 'no input?']\n",
    "spreadsheet.head()"
   ]
  },
  {
   "cell_type": "code",
   "execution_count": 23,
   "metadata": {},
   "outputs": [],
   "source": [
    "all_chromatin = spreadsheet[spreadsheet.chromatin == 1]\n",
    "no_chromatin = spreadsheet[spreadsheet.chromatin == 0]"
   ]
  },
  {
   "cell_type": "code",
   "execution_count": 24,
   "metadata": {},
   "outputs": [],
   "source": [
    "chromatin_nophantom = no_phantom[no_phantom.name.isin(all_chromatin.srx.values)]\n",
    "tf_nophantom = no_phantom[no_phantom.name.isin(no_chromatin.srx.values)]"
   ]
  },
  {
   "cell_type": "code",
   "execution_count": 25,
   "metadata": {},
   "outputs": [
    {
     "data": {
      "text/plain": [
       "count       41.000000\n",
       "mean      8530.317073\n",
       "std       8535.606497\n",
       "min         27.000000\n",
       "25%       4917.000000\n",
       "50%       6031.000000\n",
       "75%       9055.000000\n",
       "max      37610.000000\n",
       "Name: start, dtype: float64"
      ]
     },
     "execution_count": 25,
     "metadata": {},
     "output_type": "execute_result"
    }
   ],
   "source": [
    "chr_peakcount = chromatin_nophantom.groupby('name').start.count()\n",
    "chr_peakcount.describe()"
   ]
  },
  {
   "cell_type": "code",
   "execution_count": 26,
   "metadata": {
    "scrolled": true
   },
   "outputs": [
    {
     "data": {
      "text/plain": [
       "<matplotlib.axes._subplots.AxesSubplot at 0x2aab839232b0>"
      ]
     },
     "execution_count": 26,
     "metadata": {},
     "output_type": "execute_result"
    },
    {
     "data": {
      "image/png": "[encoded data removed]",
      "text/plain": [
       "<matplotlib.figure.Figure at 0x2aaae35ba7f0>"
      ]
     },
     "metadata": {},
     "output_type": "display_data"
    }
   ],
   "source": [
    "sb.distplot(chr_peakcount)"
   ]
  },
  {
   "cell_type": "code",
   "execution_count": 27,
   "metadata": {},
   "outputs": [
    {
     "data": {
      "text/plain": [
       "count      136.000000\n",
       "mean     14168.147059\n",
       "std      13414.404307\n",
       "min         83.000000\n",
       "25%       3937.250000\n",
       "50%      12149.500000\n",
       "75%      19892.750000\n",
       "max      85755.000000\n",
       "Name: start, dtype: float64"
      ]
     },
     "execution_count": 27,
     "metadata": {},
     "output_type": "execute_result"
    }
   ],
   "source": [
    "tf_peakcount = tf_nophantom.groupby('name').start.count()\n",
    "tf_peakcount.describe()"
   ]
  },
  {
   "cell_type": "code",
   "execution_count": 28,
   "metadata": {},
   "outputs": [
    {
     "data": {
      "text/plain": [
       "<matplotlib.axes._subplots.AxesSubplot at 0x2aab83931748>"
      ]
     },
     "execution_count": 28,
     "metadata": {},
     "output_type": "execute_result"
    },
    {
     "data": {
      "image/png": "[encoded data removed]",
      "text/plain": [
       "<matplotlib.figure.Figure at 0x2aab838c57f0>"
      ]
     },
     "metadata": {},
     "output_type": "display_data"
    }
   ],
   "source": [
    "sb.distplot(tf_peakcount)"
   ]
  },
  {
   "cell_type": "markdown",
   "metadata": {},
   "source": [
    "## Filter by peak count\n",
    "\n",
    "Remove datasets with less than 1000 peaks:"
   ]
  },
  {
   "cell_type": "code",
   "execution_count": 29,
   "metadata": {},
   "outputs": [
    {
     "data": {
      "text/plain": [
       "name\n",
       "ERX402112      83\n",
       "ERX402114     931\n",
       "ERX402138     129\n",
       "SRX018629     468\n",
       "SRX018630     271\n",
       "SRX018631     286\n",
       "SRX018632     303\n",
       "SRX1389384     92\n",
       "SRX1389387    300\n",
       "SRX1433399    820\n",
       "SRX149190     905\n",
       "SRX330269     109\n",
       "SRX330270      86\n",
       "SRX883604     496\n",
       "SRX883605     402\n",
       "Name: start, dtype: int64"
      ]
     },
     "execution_count": 29,
     "metadata": {},
     "output_type": "execute_result"
    }
   ],
   "source": [
    "tf_peakcount[tf_peakcount < 1000]"
   ]
  },
  {
   "cell_type": "code",
   "execution_count": 30,
   "metadata": {},
   "outputs": [
    {
     "data": {
      "text/plain": [
       "name\n",
       "SRX2055956     83\n",
       "SRX2055959    325\n",
       "SRX2055962    238\n",
       "SRX2417577     27\n",
       "Name: start, dtype: int64"
      ]
     },
     "execution_count": 30,
     "metadata": {},
     "output_type": "execute_result"
    }
   ],
   "source": [
    "chr_peakcount[chr_peakcount < 1000]"
   ]
  },
  {
   "cell_type": "code",
   "execution_count": 31,
   "metadata": {},
   "outputs": [],
   "source": [
    "i1 = tf_peakcount[tf_peakcount < 1000].index\n",
    "i2 = chr_peakcount[chr_peakcount < 1000].index"
   ]
  },
  {
   "cell_type": "code",
   "execution_count": 32,
   "metadata": {},
   "outputs": [],
   "source": [
    "filtered_tf_np = tf_nophantom[~tf_nophantom.name.isin(i1)]\n",
    "filtered_chr_np = chromatin_nophantom[~chromatin_nophantom.name.isin(i2)]"
   ]
  },
  {
   "cell_type": "code",
   "execution_count": 33,
   "metadata": {},
   "outputs": [
    {
     "data": {
      "text/html": [
       "<div>\n",
       "<style scoped>\n",
       "    .dataframe tbody tr th:only-of-type {\n",
       "        vertical-align: middle;\n",
       "    }\n",
       "\n",
       "    .dataframe tbody tr th {\n",
       "        vertical-align: top;\n",
       "    }\n",
       "\n",
       "    .dataframe thead th {\n",
       "        text-align: right;\n",
       "    }\n",
       "</style>\n",
       "<table border=\"1\" class=\"dataframe\">\n",
       "  <thead>\n",
       "    <tr style=\"text-align: right;\">\n",
       "      <th></th>\n",
       "      <th>chrom</th>\n",
       "      <th>start</th>\n",
       "      <th>end</th>\n",
       "      <th>score</th>\n",
       "      <th>caller</th>\n",
       "    </tr>\n",
       "  </thead>\n",
       "  <tbody>\n",
       "    <tr>\n",
       "      <th>count</th>\n",
       "      <td>121.000000</td>\n",
       "      <td>121.000000</td>\n",
       "      <td>121.000000</td>\n",
       "      <td>121.000000</td>\n",
       "      <td>121.000000</td>\n",
       "    </tr>\n",
       "    <tr>\n",
       "      <th>mean</th>\n",
       "      <td>15877.578512</td>\n",
       "      <td>15877.578512</td>\n",
       "      <td>15877.578512</td>\n",
       "      <td>15877.578512</td>\n",
       "      <td>15877.578512</td>\n",
       "    </tr>\n",
       "    <tr>\n",
       "      <th>std</th>\n",
       "      <td>13255.728763</td>\n",
       "      <td>13255.728763</td>\n",
       "      <td>13255.728763</td>\n",
       "      <td>13255.728763</td>\n",
       "      <td>13255.728763</td>\n",
       "    </tr>\n",
       "    <tr>\n",
       "      <th>min</th>\n",
       "      <td>1047.000000</td>\n",
       "      <td>1047.000000</td>\n",
       "      <td>1047.000000</td>\n",
       "      <td>1047.000000</td>\n",
       "      <td>1047.000000</td>\n",
       "    </tr>\n",
       "    <tr>\n",
       "      <th>25%</th>\n",
       "      <td>6674.000000</td>\n",
       "      <td>6674.000000</td>\n",
       "      <td>6674.000000</td>\n",
       "      <td>6674.000000</td>\n",
       "      <td>6674.000000</td>\n",
       "    </tr>\n",
       "    <tr>\n",
       "      <th>50%</th>\n",
       "      <td>14154.000000</td>\n",
       "      <td>14154.000000</td>\n",
       "      <td>14154.000000</td>\n",
       "      <td>14154.000000</td>\n",
       "      <td>14154.000000</td>\n",
       "    </tr>\n",
       "    <tr>\n",
       "      <th>75%</th>\n",
       "      <td>20360.000000</td>\n",
       "      <td>20360.000000</td>\n",
       "      <td>20360.000000</td>\n",
       "      <td>20360.000000</td>\n",
       "      <td>20360.000000</td>\n",
       "    </tr>\n",
       "    <tr>\n",
       "      <th>max</th>\n",
       "      <td>85755.000000</td>\n",
       "      <td>85755.000000</td>\n",
       "      <td>85755.000000</td>\n",
       "      <td>85755.000000</td>\n",
       "      <td>85755.000000</td>\n",
       "    </tr>\n",
       "  </tbody>\n",
       "</table>\n",
       "</div>"
      ],
      "text/plain": [
       "              chrom         start           end         score        caller\n",
       "count    121.000000    121.000000    121.000000    121.000000    121.000000\n",
       "mean   15877.578512  15877.578512  15877.578512  15877.578512  15877.578512\n",
       "std    13255.728763  13255.728763  13255.728763  13255.728763  13255.728763\n",
       "min     1047.000000   1047.000000   1047.000000   1047.000000   1047.000000\n",
       "25%     6674.000000   6674.000000   6674.000000   6674.000000   6674.000000\n",
       "50%    14154.000000  14154.000000  14154.000000  14154.000000  14154.000000\n",
       "75%    20360.000000  20360.000000  20360.000000  20360.000000  20360.000000\n",
       "max    85755.000000  85755.000000  85755.000000  85755.000000  85755.000000"
      ]
     },
     "execution_count": 33,
     "metadata": {},
     "output_type": "execute_result"
    }
   ],
   "source": [
    "filtered_tf_np.groupby('name').count().describe()"
   ]
  },
  {
   "cell_type": "code",
   "execution_count": 34,
   "metadata": {},
   "outputs": [
    {
     "data": {
      "text/html": [
       "<div>\n",
       "<style scoped>\n",
       "    .dataframe tbody tr th:only-of-type {\n",
       "        vertical-align: middle;\n",
       "    }\n",
       "\n",
       "    .dataframe tbody tr th {\n",
       "        vertical-align: top;\n",
       "    }\n",
       "\n",
       "    .dataframe thead th {\n",
       "        text-align: right;\n",
       "    }\n",
       "</style>\n",
       "<table border=\"1\" class=\"dataframe\">\n",
       "  <thead>\n",
       "    <tr style=\"text-align: right;\">\n",
       "      <th></th>\n",
       "      <th>chrom</th>\n",
       "      <th>start</th>\n",
       "      <th>end</th>\n",
       "      <th>score</th>\n",
       "      <th>caller</th>\n",
       "    </tr>\n",
       "  </thead>\n",
       "  <tbody>\n",
       "    <tr>\n",
       "      <th>count</th>\n",
       "      <td>37.000000</td>\n",
       "      <td>37.000000</td>\n",
       "      <td>37.000000</td>\n",
       "      <td>37.000000</td>\n",
       "      <td>37.000000</td>\n",
       "    </tr>\n",
       "    <tr>\n",
       "      <th>mean</th>\n",
       "      <td>9434.324324</td>\n",
       "      <td>9434.324324</td>\n",
       "      <td>9434.324324</td>\n",
       "      <td>9434.324324</td>\n",
       "      <td>9434.324324</td>\n",
       "    </tr>\n",
       "    <tr>\n",
       "      <th>std</th>\n",
       "      <td>8505.345274</td>\n",
       "      <td>8505.345274</td>\n",
       "      <td>8505.345274</td>\n",
       "      <td>8505.345274</td>\n",
       "      <td>8505.345274</td>\n",
       "    </tr>\n",
       "    <tr>\n",
       "      <th>min</th>\n",
       "      <td>3233.000000</td>\n",
       "      <td>3233.000000</td>\n",
       "      <td>3233.000000</td>\n",
       "      <td>3233.000000</td>\n",
       "      <td>3233.000000</td>\n",
       "    </tr>\n",
       "    <tr>\n",
       "      <th>25%</th>\n",
       "      <td>5161.000000</td>\n",
       "      <td>5161.000000</td>\n",
       "      <td>5161.000000</td>\n",
       "      <td>5161.000000</td>\n",
       "      <td>5161.000000</td>\n",
       "    </tr>\n",
       "    <tr>\n",
       "      <th>50%</th>\n",
       "      <td>6315.000000</td>\n",
       "      <td>6315.000000</td>\n",
       "      <td>6315.000000</td>\n",
       "      <td>6315.000000</td>\n",
       "      <td>6315.000000</td>\n",
       "    </tr>\n",
       "    <tr>\n",
       "      <th>75%</th>\n",
       "      <td>10022.000000</td>\n",
       "      <td>10022.000000</td>\n",
       "      <td>10022.000000</td>\n",
       "      <td>10022.000000</td>\n",
       "      <td>10022.000000</td>\n",
       "    </tr>\n",
       "    <tr>\n",
       "      <th>max</th>\n",
       "      <td>37610.000000</td>\n",
       "      <td>37610.000000</td>\n",
       "      <td>37610.000000</td>\n",
       "      <td>37610.000000</td>\n",
       "      <td>37610.000000</td>\n",
       "    </tr>\n",
       "  </tbody>\n",
       "</table>\n",
       "</div>"
      ],
      "text/plain": [
       "              chrom         start           end         score        caller\n",
       "count     37.000000     37.000000     37.000000     37.000000     37.000000\n",
       "mean    9434.324324   9434.324324   9434.324324   9434.324324   9434.324324\n",
       "std     8505.345274   8505.345274   8505.345274   8505.345274   8505.345274\n",
       "min     3233.000000   3233.000000   3233.000000   3233.000000   3233.000000\n",
       "25%     5161.000000   5161.000000   5161.000000   5161.000000   5161.000000\n",
       "50%     6315.000000   6315.000000   6315.000000   6315.000000   6315.000000\n",
       "75%    10022.000000  10022.000000  10022.000000  10022.000000  10022.000000\n",
       "max    37610.000000  37610.000000  37610.000000  37610.000000  37610.000000"
      ]
     },
     "execution_count": 34,
     "metadata": {},
     "output_type": "execute_result"
    }
   ],
   "source": [
    "filtered_chr_np.groupby('name').count().describe()"
   ]
  },
  {
   "cell_type": "code",
   "execution_count": 35,
   "metadata": {},
   "outputs": [],
   "source": [
    "filtered_tf_np.to_csv('../output/chip/ALL_TF_CHIP_filtered.bed', header=False,index=False, sep='\\t')"
   ]
  },
  {
   "cell_type": "code",
   "execution_count": 36,
   "metadata": {},
   "outputs": [],
   "source": [
    "filtered_chr_np.to_csv('../output/chip/ALL_HIST_CHIP_filtered.bed', header=False,index=False, sep='\\t')"
   ]
  },
  {
   "cell_type": "markdown",
   "metadata": {},
   "source": [
    "Empty spp sets, confirmed that all of these are from \"bad datasets\": "
   ]
  },
  {
   "cell_type": "code",
   "execution_count": 38,
   "metadata": {},
   "outputs": [
    {
     "data": {
      "text/plain": [
       "20"
      ]
     },
     "execution_count": 38,
     "metadata": {},
     "output_type": "execute_result"
    }
   ],
   "source": [
    "empty_updated = []\n",
    "for fname in glob.glob('../chipseq-wf/data/chipseq_peaks/spp/[S,E]RX*/peaks.bed'):\n",
    "    if os.path.getsize(fname) == 0:\n",
    "        name = fname.split('../chipseq-wf/data/chipseq_peaks/spp/')[1].split('/peaks.bed')[0]\n",
    "        empty_updated.append(name)\n",
    "        \n",
    "len(empty_updated)"
   ]
  },
  {
   "cell_type": "code",
   "execution_count": 39,
   "metadata": {},
   "outputs": [
    {
     "data": {
      "text/plain": [
       "['ERX242724',\n",
       " 'ERX242711',\n",
       " 'ERX242728',\n",
       " 'ERX242727',\n",
       " 'ERX242704',\n",
       " 'ERX242713',\n",
       " 'ERX402137',\n",
       " 'ERX402138',\n",
       " 'SRX883604',\n",
       " 'SRX1389384',\n",
       " 'ERX402108',\n",
       " 'SRX330269',\n",
       " 'ERX402133',\n",
       " 'ERX402112',\n",
       " 'SRX1389387',\n",
       " 'SRX330270',\n",
       " 'ERX242712',\n",
       " 'SRX359798',\n",
       " 'SRX1389388',\n",
       " 'ERX402114']"
      ]
     },
     "execution_count": 39,
     "metadata": {},
     "output_type": "execute_result"
    }
   ],
   "source": [
    "empty_updated"
   ]
  },
  {
   "cell_type": "code",
   "execution_count": 40,
   "metadata": {},
   "outputs": [],
   "source": [
    "emptydf = pd.DataFrame(empty_updated, columns=['srx'])"
   ]
  },
  {
   "cell_type": "code",
   "execution_count": 41,
   "metadata": {},
   "outputs": [
    {
     "data": {
      "text/html": [
       "<div>\n",
       "<style scoped>\n",
       "    .dataframe tbody tr th:only-of-type {\n",
       "        vertical-align: middle;\n",
       "    }\n",
       "\n",
       "    .dataframe tbody tr th {\n",
       "        vertical-align: top;\n",
       "    }\n",
       "\n",
       "    .dataframe thead th {\n",
       "        text-align: right;\n",
       "    }\n",
       "</style>\n",
       "<table border=\"1\" class=\"dataframe\">\n",
       "  <thead>\n",
       "    <tr style=\"text-align: right;\">\n",
       "      <th></th>\n",
       "      <th>srx</th>\n",
       "      <th>geo</th>\n",
       "      <th>target</th>\n",
       "      <th>srr</th>\n",
       "      <th>input</th>\n",
       "    </tr>\n",
       "  </thead>\n",
       "  <tbody>\n",
       "    <tr>\n",
       "      <th>0</th>\n",
       "      <td>SRX330269</td>\n",
       "      <td>GSM1199044</td>\n",
       "      <td>EcR</td>\n",
       "      <td>SRR946215 | SRR946214</td>\n",
       "      <td>SRX330271</td>\n",
       "    </tr>\n",
       "    <tr>\n",
       "      <th>1</th>\n",
       "      <td>SRX330270</td>\n",
       "      <td>GSM1199045</td>\n",
       "      <td>EcR</td>\n",
       "      <td>SRR946216 | SRR946217</td>\n",
       "      <td>SRX330271</td>\n",
       "    </tr>\n",
       "    <tr>\n",
       "      <th>2</th>\n",
       "      <td>SRX359798</td>\n",
       "      <td>GSM1239359</td>\n",
       "      <td>AGO2</td>\n",
       "      <td>SRR1002330</td>\n",
       "      <td>SRX359796</td>\n",
       "    </tr>\n",
       "    <tr>\n",
       "      <th>3</th>\n",
       "      <td>SRX883604</td>\n",
       "      <td>GSM1614137</td>\n",
       "      <td>Tet</td>\n",
       "      <td>SRR1810946</td>\n",
       "      <td>SRX883600</td>\n",
       "    </tr>\n",
       "    <tr>\n",
       "      <th>4</th>\n",
       "      <td>SRX1389384</td>\n",
       "      <td>GSM1919989</td>\n",
       "      <td>control</td>\n",
       "      <td>SRR2834290 | SRR2834288 | SRR2834289</td>\n",
       "      <td>SRX1389383</td>\n",
       "    </tr>\n",
       "    <tr>\n",
       "      <th>5</th>\n",
       "      <td>SRX1389387</td>\n",
       "      <td>GSM1919992</td>\n",
       "      <td>control</td>\n",
       "      <td>SRR2834295 | SRR2834296</td>\n",
       "      <td>SRX1389386</td>\n",
       "    </tr>\n",
       "    <tr>\n",
       "      <th>6</th>\n",
       "      <td>SRX1389388</td>\n",
       "      <td>GSM1919993</td>\n",
       "      <td>dCAP-D3</td>\n",
       "      <td>SRR2834297 | SRR2834298</td>\n",
       "      <td>SRX1389386</td>\n",
       "    </tr>\n",
       "    <tr>\n",
       "      <th>7</th>\n",
       "      <td>ERX242704</td>\n",
       "      <td>NaN</td>\n",
       "      <td>E2f</td>\n",
       "      <td>ERR268501</td>\n",
       "      <td>ERX242726</td>\n",
       "    </tr>\n",
       "    <tr>\n",
       "      <th>8</th>\n",
       "      <td>ERX242711</td>\n",
       "      <td>NaN</td>\n",
       "      <td>E2f</td>\n",
       "      <td>ERR268481</td>\n",
       "      <td>ERX242707</td>\n",
       "    </tr>\n",
       "    <tr>\n",
       "      <th>9</th>\n",
       "      <td>ERX242712</td>\n",
       "      <td>NaN</td>\n",
       "      <td>E2f</td>\n",
       "      <td>ERR268486</td>\n",
       "      <td>ERX242717</td>\n",
       "    </tr>\n",
       "    <tr>\n",
       "      <th>10</th>\n",
       "      <td>ERX242713</td>\n",
       "      <td>NaN</td>\n",
       "      <td>Max</td>\n",
       "      <td>ERR268488</td>\n",
       "      <td>ERX242729</td>\n",
       "    </tr>\n",
       "    <tr>\n",
       "      <th>11</th>\n",
       "      <td>ERX242724</td>\n",
       "      <td>NaN</td>\n",
       "      <td>E2f</td>\n",
       "      <td>ERR268499</td>\n",
       "      <td>ERX242716</td>\n",
       "    </tr>\n",
       "    <tr>\n",
       "      <th>12</th>\n",
       "      <td>ERX242727</td>\n",
       "      <td>NaN</td>\n",
       "      <td>Myc</td>\n",
       "      <td>ERR268494</td>\n",
       "      <td>ERX242723</td>\n",
       "    </tr>\n",
       "    <tr>\n",
       "      <th>13</th>\n",
       "      <td>ERX242728</td>\n",
       "      <td>NaN</td>\n",
       "      <td>E2f</td>\n",
       "      <td>ERR268483</td>\n",
       "      <td>ERX242715</td>\n",
       "    </tr>\n",
       "    <tr>\n",
       "      <th>14</th>\n",
       "      <td>ERX402108</td>\n",
       "      <td>NaN</td>\n",
       "      <td>GFP</td>\n",
       "      <td>ERR435843</td>\n",
       "      <td>ERX402102</td>\n",
       "    </tr>\n",
       "    <tr>\n",
       "      <th>15</th>\n",
       "      <td>ERX402112</td>\n",
       "      <td>NaN</td>\n",
       "      <td>groGFP</td>\n",
       "      <td>ERR435832</td>\n",
       "      <td>ERX402113</td>\n",
       "    </tr>\n",
       "    <tr>\n",
       "      <th>16</th>\n",
       "      <td>ERX402114</td>\n",
       "      <td>NaN</td>\n",
       "      <td>groGFP</td>\n",
       "      <td>ERR435839</td>\n",
       "      <td>ERX402113</td>\n",
       "    </tr>\n",
       "    <tr>\n",
       "      <th>17</th>\n",
       "      <td>ERX402133</td>\n",
       "      <td>NaN</td>\n",
       "      <td>GFP</td>\n",
       "      <td>ERR435856</td>\n",
       "      <td>ERX402102</td>\n",
       "    </tr>\n",
       "    <tr>\n",
       "      <th>18</th>\n",
       "      <td>ERX402137</td>\n",
       "      <td>NaN</td>\n",
       "      <td>gro</td>\n",
       "      <td>ERR435837</td>\n",
       "      <td>ERX402113</td>\n",
       "    </tr>\n",
       "    <tr>\n",
       "      <th>19</th>\n",
       "      <td>ERX402138</td>\n",
       "      <td>NaN</td>\n",
       "      <td>gro</td>\n",
       "      <td>ERR435849</td>\n",
       "      <td>ERX402113</td>\n",
       "    </tr>\n",
       "  </tbody>\n",
       "</table>\n",
       "</div>"
      ],
      "text/plain": [
       "           srx         geo   target                                   srr  \\\n",
       "0    SRX330269  GSM1199044      EcR                 SRR946215 | SRR946214   \n",
       "1    SRX330270  GSM1199045      EcR                 SRR946216 | SRR946217   \n",
       "2    SRX359798  GSM1239359     AGO2                            SRR1002330   \n",
       "3    SRX883604  GSM1614137      Tet                            SRR1810946   \n",
       "4   SRX1389384  GSM1919989  control  SRR2834290 | SRR2834288 | SRR2834289   \n",
       "5   SRX1389387  GSM1919992  control               SRR2834295 | SRR2834296   \n",
       "6   SRX1389388  GSM1919993  dCAP-D3               SRR2834297 | SRR2834298   \n",
       "7    ERX242704         NaN      E2f                             ERR268501   \n",
       "8    ERX242711         NaN      E2f                             ERR268481   \n",
       "9    ERX242712         NaN      E2f                             ERR268486   \n",
       "10   ERX242713         NaN      Max                             ERR268488   \n",
       "11   ERX242724         NaN      E2f                             ERR268499   \n",
       "12   ERX242727         NaN      Myc                             ERR268494   \n",
       "13   ERX242728         NaN      E2f                             ERR268483   \n",
       "14   ERX402108         NaN      GFP                             ERR435843   \n",
       "15   ERX402112         NaN   groGFP                             ERR435832   \n",
       "16   ERX402114         NaN   groGFP                             ERR435839   \n",
       "17   ERX402133         NaN      GFP                             ERR435856   \n",
       "18   ERX402137         NaN      gro                             ERR435837   \n",
       "19   ERX402138         NaN      gro                             ERR435849   \n",
       "\n",
       "         input  \n",
       "0    SRX330271  \n",
       "1    SRX330271  \n",
       "2    SRX359796  \n",
       "3    SRX883600  \n",
       "4   SRX1389383  \n",
       "5   SRX1389386  \n",
       "6   SRX1389386  \n",
       "7    ERX242726  \n",
       "8    ERX242707  \n",
       "9    ERX242717  \n",
       "10   ERX242729  \n",
       "11   ERX242716  \n",
       "12   ERX242723  \n",
       "13   ERX242715  \n",
       "14   ERX402102  \n",
       "15   ERX402113  \n",
       "16   ERX402113  \n",
       "17   ERX402102  \n",
       "18   ERX402113  \n",
       "19   ERX402113  "
      ]
     },
     "execution_count": 41,
     "metadata": {},
     "output_type": "execute_result"
    }
   ],
   "source": [
    "spreadsheet.merge(emptydf, how='inner')[['srx','geo','target','srr','input']]"
   ]
  },
  {
   "cell_type": "code",
   "execution_count": null,
   "metadata": {},
   "outputs": [],
   "source": []
  }
 ],
 "metadata": {
  "kernelspec": {
   "display_name": "Python 3",
   "language": "python",
   "name": "python3"
  },
  "language_info": {
   "codemirror_mode": {
    "name": "ipython",
    "version": 3
   },
   "file_extension": ".py",
   "mimetype": "text/x-python",
   "name": "python",
   "nbconvert_exporter": "python",
   "pygments_lexer": "ipython3",
   "version": "3.6.3"
  }
 },
 "nbformat": 4,
 "nbformat_minor": 2
}
