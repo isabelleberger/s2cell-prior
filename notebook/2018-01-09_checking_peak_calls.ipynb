{
 "cells": [
  {
   "cell_type": "markdown",
   "metadata": {},
   "source": [
    "## Explore peak data\n",
    "\n",
    "Separate by TF/histone (could even separate further into narrow/broad histones but not sure) and count number of peaks, plot distribution. Also take out phantom peaks and see how number of peaks is affected. \n",
    "Flag datasets with less than 100(?) peaks and look into further. "
   ]
  },
  {
   "cell_type": "code",
   "execution_count": 29,
   "metadata": {},
   "outputs": [],
   "source": [
    "import pandas as pd\n",
    "import seaborn as sb\n",
    "import glob\n",
    "import os\n",
    "import pybedtools\n",
    "from pybedtools.featurefuncs import gff2bed"
   ]
  },
  {
   "cell_type": "code",
   "execution_count": 2,
   "metadata": {},
   "outputs": [],
   "source": [
    "throw_out = ['ERX242704', 'ERX242706', 'ERX242707','ERX242709', 'ERX242710','ERX242711','ERX242712','ERX242713',\n",
    "             'ERX242715', 'ERX242716', 'ERX242717', 'ERX242718','ERX242722', 'ERX242723', 'ERX242724', 'ERX242726',\n",
    "             'ERX242727', 'ERX242728', 'ERX242729']"
   ]
  },
  {
   "cell_type": "code",
   "execution_count": 3,
   "metadata": {},
   "outputs": [],
   "source": [
    "#look into these\n",
    "empty = ['SRX495277','SRX495278','SRX495290','SRX495289','SRX326969']"
   ]
  },
  {
   "cell_type": "code",
   "execution_count": 4,
   "metadata": {},
   "outputs": [],
   "source": [
    "#all peaks would be glob.glob('../chipseq-wf/data/chipseq_peaks/*/[S,E]RX*/peaks.bed')\n",
    "#macs2 peaks\n",
    "concat = []\n",
    "for fname in glob.glob('../chipseq-wf/data/chipseq_peaks/macs2/[S,E]RX*/peaks.bed'):\n",
    "    name = fname.split('../chipseq-wf/data/chipseq_peaks/macs2/')[1].split('/peaks.bed')[0]\n",
    "    if name not in throw_out:\n",
    "        if name not in empty:\n",
    "            df = pd.read_table(fname, header=None)\n",
    "            df[1,2] = df[1,2]\n",
    "            df['srx'] = name\n",
    "            df['caller'] = 'macs2'\n",
    "            concat.append(df)\n",
    "macs2 = pd.concat(concat)"
   ]
  },
  {
   "cell_type": "code",
   "execution_count": 40,
   "metadata": {},
   "outputs": [
    {
     "data": {
      "text/html": [
       "<div>\n",
       "<style scoped>\n",
       "    .dataframe tbody tr th:only-of-type {\n",
       "        vertical-align: middle;\n",
       "    }\n",
       "\n",
       "    .dataframe tbody tr th {\n",
       "        vertical-align: top;\n",
       "    }\n",
       "\n",
       "    .dataframe thead th {\n",
       "        text-align: right;\n",
       "    }\n",
       "</style>\n",
       "<table border=\"1\" class=\"dataframe\">\n",
       "  <thead>\n",
       "    <tr style=\"text-align: right;\">\n",
       "      <th></th>\n",
       "      <th>0</th>\n",
       "      <th>1</th>\n",
       "      <th>2</th>\n",
       "      <th>3</th>\n",
       "      <th>4</th>\n",
       "      <th>5</th>\n",
       "      <th>6</th>\n",
       "      <th>7</th>\n",
       "      <th>8</th>\n",
       "      <th>srx</th>\n",
       "      <th>9</th>\n",
       "    </tr>\n",
       "  </thead>\n",
       "  <tbody>\n",
       "    <tr>\n",
       "      <th>0</th>\n",
       "      <td>chr2L</td>\n",
       "      <td>16617</td>\n",
       "      <td>16893</td>\n",
       "      <td>SRX191913_peak_1</td>\n",
       "      <td>334</td>\n",
       "      <td>.</td>\n",
       "      <td>6.04012</td>\n",
       "      <td>35.59567</td>\n",
       "      <td>33.40816</td>\n",
       "      <td>SRX191913</td>\n",
       "      <td>NaN</td>\n",
       "    </tr>\n",
       "    <tr>\n",
       "      <th>1</th>\n",
       "      <td>chr2L</td>\n",
       "      <td>18490</td>\n",
       "      <td>19713</td>\n",
       "      <td>SRX191913_peak_2</td>\n",
       "      <td>178</td>\n",
       "      <td>.</td>\n",
       "      <td>4.30215</td>\n",
       "      <td>19.78752</td>\n",
       "      <td>17.81555</td>\n",
       "      <td>SRX191913</td>\n",
       "      <td>NaN</td>\n",
       "    </tr>\n",
       "    <tr>\n",
       "      <th>2</th>\n",
       "      <td>chr2L</td>\n",
       "      <td>21242</td>\n",
       "      <td>21484</td>\n",
       "      <td>SRX191913_peak_3</td>\n",
       "      <td>79</td>\n",
       "      <td>.</td>\n",
       "      <td>3.16530</td>\n",
       "      <td>9.77751</td>\n",
       "      <td>7.92056</td>\n",
       "      <td>SRX191913</td>\n",
       "      <td>NaN</td>\n",
       "    </tr>\n",
       "    <tr>\n",
       "      <th>3</th>\n",
       "      <td>chr2L</td>\n",
       "      <td>34118</td>\n",
       "      <td>34304</td>\n",
       "      <td>SRX191913_peak_4</td>\n",
       "      <td>42</td>\n",
       "      <td>.</td>\n",
       "      <td>2.17206</td>\n",
       "      <td>5.98254</td>\n",
       "      <td>4.27362</td>\n",
       "      <td>SRX191913</td>\n",
       "      <td>NaN</td>\n",
       "    </tr>\n",
       "    <tr>\n",
       "      <th>4</th>\n",
       "      <td>chr2L</td>\n",
       "      <td>35499</td>\n",
       "      <td>35830</td>\n",
       "      <td>SRX191913_peak_5</td>\n",
       "      <td>396</td>\n",
       "      <td>.</td>\n",
       "      <td>5.50646</td>\n",
       "      <td>41.82674</td>\n",
       "      <td>39.60189</td>\n",
       "      <td>SRX191913</td>\n",
       "      <td>NaN</td>\n",
       "    </tr>\n",
       "  </tbody>\n",
       "</table>\n",
       "</div>"
      ],
      "text/plain": [
       "       0      1      2                 3    4  5        6         7         8  \\\n",
       "0  chr2L  16617  16893  SRX191913_peak_1  334  .  6.04012  35.59567  33.40816   \n",
       "1  chr2L  18490  19713  SRX191913_peak_2  178  .  4.30215  19.78752  17.81555   \n",
       "2  chr2L  21242  21484  SRX191913_peak_3   79  .  3.16530   9.77751   7.92056   \n",
       "3  chr2L  34118  34304  SRX191913_peak_4   42  .  2.17206   5.98254   4.27362   \n",
       "4  chr2L  35499  35830  SRX191913_peak_5  396  .  5.50646  41.82674  39.60189   \n",
       "\n",
       "         srx   9  \n",
       "0  SRX191913 NaN  \n",
       "1  SRX191913 NaN  \n",
       "2  SRX191913 NaN  \n",
       "3  SRX191913 NaN  \n",
       "4  SRX191913 NaN  "
      ]
     },
     "execution_count": 40,
     "metadata": {},
     "output_type": "execute_result"
    }
   ],
   "source": [
    "macs2.head()"
   ]
  },
  {
   "cell_type": "code",
   "execution_count": null,
   "metadata": {},
   "outputs": [],
   "source": [
    "spp_empty = [\n",
    "SRX149192\n",
    "SRX885700\n",
    "ERX402137\n",
    "ERX402138\n",
    "SRX885698\n",
    "SRX883604\n",
    "SRX1179573\n",
    "SRX054533\n",
    "SRX495789\n",
    "SRX1389384\n",
    "SRX2055961\n",
    "SRX2055966\n",
    "SRX2055958\n",
    "ERX402108\n",
    "SRX330269\n",
    "ERX402133\n",
    "SRX306190\n",
    "ERX402112\n",
    "SRX359797\n",
    "SRX1433400\n",
    "SRX306193\n",
    "ERX1403350\n",
    "SRX1179572\n",
    "SRX1433401\n",
    "SRX018632\n",
    "SRX1389387\n",
    "SRX326970\n",
    "SRX2055964\n",
    "SRX885702\n",
    "SRX2055945\n",
    "SRX326969\n",
    "SRX447393\n",
    "SRX330270\n",
    "SRX495270\n",
    "SRX2055944\n",
    "SRX097620\n",
    "SRX359798\n",
    "SRX883605\n",
    "SRX018631\n",
    "SRX306196\n",
    "SRX018629\n",
    "SRX2055953\n",
    "SRX149189\n",
    "SRX1389388\n",
    "SRX018630\n",
    "SRX1433397\n",
    "ERX402114\n",
    "SRX495269\n",
    "SRX1433399\n",
    "]"
   ]
  },
  {
   "cell_type": "code",
   "execution_count": 6,
   "metadata": {},
   "outputs": [],
   "source": [
    "#spp peaks\n",
    "glob.glob('../chipseq-wf/data/chipseq_peaks/spp/[S,E]RX*/peaks.bed')\n",
    "concat = []\n",
    "for fname in glob.glob('../chipseq-wf/data/chipseq_peaks/spp/[S,E]RX*/peaks.bed'):\n",
    "    name = fname.split('../chipseq-wf/data/chipseq_peaks/spp/')[1].split('/peaks.bed')[0]\n",
    "    if name not in throw_out:\n",
    "        if os.path.getsize(fname) != 0:\n",
    "            df = pd.read_table(fname, header=None)\n",
    "            df['srx'] = name\n",
    "            df['caller'] = 'spp'\n",
    "            concat.append(df)\n",
    "spp = pd.concat(concat)"
   ]
  },
  {
   "cell_type": "code",
   "execution_count": 43,
   "metadata": {},
   "outputs": [
    {
     "data": {
      "text/html": [
       "<div>\n",
       "<style scoped>\n",
       "    .dataframe tbody tr th:only-of-type {\n",
       "        vertical-align: middle;\n",
       "    }\n",
       "\n",
       "    .dataframe tbody tr th {\n",
       "        vertical-align: top;\n",
       "    }\n",
       "\n",
       "    .dataframe thead th {\n",
       "        text-align: right;\n",
       "    }\n",
       "</style>\n",
       "<table border=\"1\" class=\"dataframe\">\n",
       "  <thead>\n",
       "    <tr style=\"text-align: right;\">\n",
       "      <th></th>\n",
       "      <th>0</th>\n",
       "      <th>1</th>\n",
       "      <th>2</th>\n",
       "      <th>3</th>\n",
       "      <th>4</th>\n",
       "      <th>5</th>\n",
       "      <th>6</th>\n",
       "      <th>7</th>\n",
       "      <th>8</th>\n",
       "      <th>9</th>\n",
       "      <th>srx</th>\n",
       "    </tr>\n",
       "  </thead>\n",
       "  <tbody>\n",
       "    <tr>\n",
       "      <th>0</th>\n",
       "      <td>chr3L</td>\n",
       "      <td>16052060</td>\n",
       "      <td>16052396</td>\n",
       "      <td>.</td>\n",
       "      <td>0</td>\n",
       "      <td>.</td>\n",
       "      <td>83.161841</td>\n",
       "      <td>-1</td>\n",
       "      <td>3.062582</td>\n",
       "      <td>189</td>\n",
       "      <td>SRX017462</td>\n",
       "    </tr>\n",
       "    <tr>\n",
       "      <th>1</th>\n",
       "      <td>chr2R</td>\n",
       "      <td>15847978</td>\n",
       "      <td>15848246</td>\n",
       "      <td>.</td>\n",
       "      <td>0</td>\n",
       "      <td>.</td>\n",
       "      <td>68.046814</td>\n",
       "      <td>-1</td>\n",
       "      <td>3.062582</td>\n",
       "      <td>134</td>\n",
       "      <td>SRX017462</td>\n",
       "    </tr>\n",
       "    <tr>\n",
       "      <th>2</th>\n",
       "      <td>chrUn_DS484314v1</td>\n",
       "      <td>1987</td>\n",
       "      <td>2483</td>\n",
       "      <td>.</td>\n",
       "      <td>0</td>\n",
       "      <td>.</td>\n",
       "      <td>65.108303</td>\n",
       "      <td>-1</td>\n",
       "      <td>3.062582</td>\n",
       "      <td>127</td>\n",
       "      <td>SRX017462</td>\n",
       "    </tr>\n",
       "    <tr>\n",
       "      <th>3</th>\n",
       "      <td>chr2L</td>\n",
       "      <td>3046627</td>\n",
       "      <td>3047229</td>\n",
       "      <td>.</td>\n",
       "      <td>0</td>\n",
       "      <td>.</td>\n",
       "      <td>63.254780</td>\n",
       "      <td>-1</td>\n",
       "      <td>3.062582</td>\n",
       "      <td>218</td>\n",
       "      <td>SRX017462</td>\n",
       "    </tr>\n",
       "    <tr>\n",
       "      <th>4</th>\n",
       "      <td>chrUn_CP007120v1</td>\n",
       "      <td>70331</td>\n",
       "      <td>70564</td>\n",
       "      <td>.</td>\n",
       "      <td>0</td>\n",
       "      <td>.</td>\n",
       "      <td>59.952580</td>\n",
       "      <td>-1</td>\n",
       "      <td>3.062582</td>\n",
       "      <td>127</td>\n",
       "      <td>SRX017462</td>\n",
       "    </tr>\n",
       "  </tbody>\n",
       "</table>\n",
       "</div>"
      ],
      "text/plain": [
       "                  0         1         2  3  4  5          6  7         8    9  \\\n",
       "0             chr3L  16052060  16052396  .  0  .  83.161841 -1  3.062582  189   \n",
       "1             chr2R  15847978  15848246  .  0  .  68.046814 -1  3.062582  134   \n",
       "2  chrUn_DS484314v1      1987      2483  .  0  .  65.108303 -1  3.062582  127   \n",
       "3             chr2L   3046627   3047229  .  0  .  63.254780 -1  3.062582  218   \n",
       "4  chrUn_CP007120v1     70331     70564  .  0  .  59.952580 -1  3.062582  127   \n",
       "\n",
       "         srx  \n",
       "0  SRX017462  \n",
       "1  SRX017462  \n",
       "2  SRX017462  \n",
       "3  SRX017462  \n",
       "4  SRX017462  "
      ]
     },
     "execution_count": 43,
     "metadata": {},
     "output_type": "execute_result"
    }
   ],
   "source": [
    "spp[[1,2]]= spp[[1,2]].astype(int)\n",
    "spp.head()"
   ]
  },
  {
   "cell_type": "code",
   "execution_count": 20,
   "metadata": {},
   "outputs": [
    {
     "data": {
      "text/plain": [
       "<matplotlib.axes._subplots.AxesSubplot at 0x2aab860ff278>"
      ]
     },
     "execution_count": 20,
     "metadata": {},
     "output_type": "execute_result"
    },
    {
     "data": {
      "image/png": "[encoded data removed]",
      "text/plain": [
       "<matplotlib.figure.Figure at 0x2aab6a106588>"
      ]
     },
     "metadata": {},
     "output_type": "display_data"
    }
   ],
   "source": [
    "#Count number of peaks per dataset macs2 \n",
    "\n",
    "peakcount = macs2.groupby('srx')[[1]].count()\n",
    "sb.distplot(peakcount)"
   ]
  },
  {
   "cell_type": "code",
   "execution_count": 21,
   "metadata": {},
   "outputs": [
    {
     "data": {
      "text/plain": [
       "<matplotlib.axes._subplots.AxesSubplot at 0x2aab6a13fcf8>"
      ]
     },
     "execution_count": 21,
     "metadata": {},
     "output_type": "execute_result"
    },
    {
     "data": {
      "image/png": "[encoded data removed]",
      "text/plain": [
       "<matplotlib.figure.Figure at 0x2aab8613cd30>"
      ]
     },
     "metadata": {},
     "output_type": "display_data"
    }
   ],
   "source": [
    "#Count number of peaks per dataset spp\n",
    "peakcount = spp.groupby('srx')[[1]].count()\n",
    "sb.distplot(peakcount)"
   ]
  },
  {
   "cell_type": "code",
   "execution_count": 44,
   "metadata": {},
   "outputs": [
    {
     "data": {
      "text/html": [
       "<div>\n",
       "<style scoped>\n",
       "    .dataframe tbody tr th:only-of-type {\n",
       "        vertical-align: middle;\n",
       "    }\n",
       "\n",
       "    .dataframe tbody tr th {\n",
       "        vertical-align: top;\n",
       "    }\n",
       "\n",
       "    .dataframe thead th {\n",
       "        text-align: right;\n",
       "    }\n",
       "</style>\n",
       "<table border=\"1\" class=\"dataframe\">\n",
       "  <thead>\n",
       "    <tr style=\"text-align: right;\">\n",
       "      <th></th>\n",
       "      <th>0</th>\n",
       "      <th>1</th>\n",
       "      <th>2</th>\n",
       "      <th>3</th>\n",
       "      <th>4</th>\n",
       "      <th>5</th>\n",
       "      <th>6</th>\n",
       "      <th>7</th>\n",
       "      <th>8</th>\n",
       "      <th>srx</th>\n",
       "      <th>9</th>\n",
       "    </tr>\n",
       "  </thead>\n",
       "  <tbody>\n",
       "    <tr>\n",
       "      <th>0</th>\n",
       "      <td>chr2L</td>\n",
       "      <td>16617</td>\n",
       "      <td>16893</td>\n",
       "      <td>SRX191913_peak_1</td>\n",
       "      <td>334</td>\n",
       "      <td>.</td>\n",
       "      <td>6.04012</td>\n",
       "      <td>35.59567</td>\n",
       "      <td>33.40816</td>\n",
       "      <td>SRX191913</td>\n",
       "      <td>NaN</td>\n",
       "    </tr>\n",
       "    <tr>\n",
       "      <th>1</th>\n",
       "      <td>chr2L</td>\n",
       "      <td>18490</td>\n",
       "      <td>19713</td>\n",
       "      <td>SRX191913_peak_2</td>\n",
       "      <td>178</td>\n",
       "      <td>.</td>\n",
       "      <td>4.30215</td>\n",
       "      <td>19.78752</td>\n",
       "      <td>17.81555</td>\n",
       "      <td>SRX191913</td>\n",
       "      <td>NaN</td>\n",
       "    </tr>\n",
       "    <tr>\n",
       "      <th>2</th>\n",
       "      <td>chr2L</td>\n",
       "      <td>21242</td>\n",
       "      <td>21484</td>\n",
       "      <td>SRX191913_peak_3</td>\n",
       "      <td>79</td>\n",
       "      <td>.</td>\n",
       "      <td>3.16530</td>\n",
       "      <td>9.77751</td>\n",
       "      <td>7.92056</td>\n",
       "      <td>SRX191913</td>\n",
       "      <td>NaN</td>\n",
       "    </tr>\n",
       "    <tr>\n",
       "      <th>3</th>\n",
       "      <td>chr2L</td>\n",
       "      <td>34118</td>\n",
       "      <td>34304</td>\n",
       "      <td>SRX191913_peak_4</td>\n",
       "      <td>42</td>\n",
       "      <td>.</td>\n",
       "      <td>2.17206</td>\n",
       "      <td>5.98254</td>\n",
       "      <td>4.27362</td>\n",
       "      <td>SRX191913</td>\n",
       "      <td>NaN</td>\n",
       "    </tr>\n",
       "    <tr>\n",
       "      <th>4</th>\n",
       "      <td>chr2L</td>\n",
       "      <td>35499</td>\n",
       "      <td>35830</td>\n",
       "      <td>SRX191913_peak_5</td>\n",
       "      <td>396</td>\n",
       "      <td>.</td>\n",
       "      <td>5.50646</td>\n",
       "      <td>41.82674</td>\n",
       "      <td>39.60189</td>\n",
       "      <td>SRX191913</td>\n",
       "      <td>NaN</td>\n",
       "    </tr>\n",
       "  </tbody>\n",
       "</table>\n",
       "</div>"
      ],
      "text/plain": [
       "       0      1      2                 3    4  5        6         7         8  \\\n",
       "0  chr2L  16617  16893  SRX191913_peak_1  334  .  6.04012  35.59567  33.40816   \n",
       "1  chr2L  18490  19713  SRX191913_peak_2  178  .  4.30215  19.78752  17.81555   \n",
       "2  chr2L  21242  21484  SRX191913_peak_3   79  .  3.16530   9.77751   7.92056   \n",
       "3  chr2L  34118  34304  SRX191913_peak_4   42  .  2.17206   5.98254   4.27362   \n",
       "4  chr2L  35499  35830  SRX191913_peak_5  396  .  5.50646  41.82674  39.60189   \n",
       "\n",
       "         srx   9  \n",
       "0  SRX191913 NaN  \n",
       "1  SRX191913 NaN  \n",
       "2  SRX191913 NaN  \n",
       "3  SRX191913 NaN  \n",
       "4  SRX191913 NaN  "
      ]
     },
     "execution_count": 44,
     "metadata": {},
     "output_type": "execute_result"
    }
   ],
   "source": [
    "both = pd.concat([macs2, spp])\n",
    "both.head()"
   ]
  },
  {
   "cell_type": "code",
   "execution_count": 25,
   "metadata": {},
   "outputs": [
    {
     "data": {
      "text/plain": [
       "<matplotlib.axes._subplots.AxesSubplot at 0x2aab6c337668>"
      ]
     },
     "execution_count": 25,
     "metadata": {},
     "output_type": "execute_result"
    },
    {
     "data": {
      "image/png": "[encoded data removed]",
      "text/plain": [
       "<matplotlib.figure.Figure at 0x2aab6c2da940>"
      ]
     },
     "metadata": {},
     "output_type": "display_data"
    }
   ],
   "source": [
    "#Count number of peaks per dataset both\n",
    "peakcount = both.groupby('srx')[[1]].count()\n",
    "sb.distplot(peakcount)"
   ]
  },
  {
   "cell_type": "markdown",
   "metadata": {},
   "source": [
    "### Remove phantom peaks"
   ]
  },
  {
   "cell_type": "code",
   "execution_count": 27,
   "metadata": {},
   "outputs": [],
   "source": [
    "phantompeaks = pd.read_excel(\n",
    "    '../output/chip/gkv637_Supplementary_Data/Supplementary_table_3__List_of_Phantom_Peaks.xlsx')"
   ]
  },
  {
   "cell_type": "code",
   "execution_count": 28,
   "metadata": {},
   "outputs": [],
   "source": [
    "phantompeaks = phantompeaks[['chr ','start','end','Name']]"
   ]
  },
  {
   "cell_type": "code",
   "execution_count": 59,
   "metadata": {},
   "outputs": [],
   "source": [
    "bed = both[[0,1,2,'srx']]"
   ]
  },
  {
   "cell_type": "code",
   "execution_count": 70,
   "metadata": {},
   "outputs": [],
   "source": [
    "bed = bed[~bed[1].astype(str).str.contains('-')]"
   ]
  },
  {
   "cell_type": "code",
   "execution_count": 72,
   "metadata": {},
   "outputs": [],
   "source": [
    "intersect = pybedtools.BedTool.from_dataframe(bed).intersect(pybedtools.BedTool.from_dataframe(phantompeaks), \n",
    "                                                             wo=True).to_dataframe()"
   ]
  },
  {
   "cell_type": "code",
   "execution_count": 75,
   "metadata": {},
   "outputs": [
    {
     "data": {
      "text/plain": [
       "(130325, 9)"
      ]
     },
     "execution_count": 75,
     "metadata": {},
     "output_type": "execute_result"
    }
   ],
   "source": [
    "intersect.shape"
   ]
  },
  {
   "cell_type": "code",
   "execution_count": 76,
   "metadata": {},
   "outputs": [],
   "source": [
    "#filter for an overlap of at least 50bp based on Jain et al 2014\n",
    "filtered = intersect[intersect.itemRgb >= 50]"
   ]
  },
  {
   "cell_type": "code",
   "execution_count": 77,
   "metadata": {},
   "outputs": [
    {
     "data": {
      "text/plain": [
       "(125273, 9)"
      ]
     },
     "execution_count": 77,
     "metadata": {},
     "output_type": "execute_result"
    }
   ],
   "source": [
    "filtered.shape"
   ]
  },
  {
   "cell_type": "code",
   "execution_count": 78,
   "metadata": {},
   "outputs": [
    {
     "data": {
      "text/html": [
       "<div>\n",
       "<style scoped>\n",
       "    .dataframe tbody tr th:only-of-type {\n",
       "        vertical-align: middle;\n",
       "    }\n",
       "\n",
       "    .dataframe tbody tr th {\n",
       "        vertical-align: top;\n",
       "    }\n",
       "\n",
       "    .dataframe thead th {\n",
       "        text-align: right;\n",
       "    }\n",
       "</style>\n",
       "<table border=\"1\" class=\"dataframe\">\n",
       "  <thead>\n",
       "    <tr style=\"text-align: right;\">\n",
       "      <th></th>\n",
       "      <th>chrom</th>\n",
       "      <th>start</th>\n",
       "      <th>end</th>\n",
       "      <th>name</th>\n",
       "      <th>score</th>\n",
       "      <th>strand</th>\n",
       "      <th>thickStart</th>\n",
       "      <th>thickEnd</th>\n",
       "      <th>itemRgb</th>\n",
       "    </tr>\n",
       "  </thead>\n",
       "  <tbody>\n",
       "    <tr>\n",
       "      <th>0</th>\n",
       "      <td>chr2L</td>\n",
       "      <td>18490</td>\n",
       "      <td>19713</td>\n",
       "      <td>SRX191913</td>\n",
       "      <td>chr2L</td>\n",
       "      <td>18637</td>\n",
       "      <td>19089</td>\n",
       "      <td>Phantom Peak-1</td>\n",
       "      <td>452</td>\n",
       "    </tr>\n",
       "    <tr>\n",
       "      <th>1</th>\n",
       "      <td>chr2L</td>\n",
       "      <td>102214</td>\n",
       "      <td>102424</td>\n",
       "      <td>SRX191913</td>\n",
       "      <td>chr2L</td>\n",
       "      <td>102118</td>\n",
       "      <td>102570</td>\n",
       "      <td>Phantom Peak-2</td>\n",
       "      <td>210</td>\n",
       "    </tr>\n",
       "    <tr>\n",
       "      <th>2</th>\n",
       "      <td>chr2L</td>\n",
       "      <td>107113</td>\n",
       "      <td>109566</td>\n",
       "      <td>SRX191913</td>\n",
       "      <td>chr2L</td>\n",
       "      <td>107669</td>\n",
       "      <td>108121</td>\n",
       "      <td>Phantom Peak-3</td>\n",
       "      <td>452</td>\n",
       "    </tr>\n",
       "    <tr>\n",
       "      <th>3</th>\n",
       "      <td>chr2L</td>\n",
       "      <td>158896</td>\n",
       "      <td>159714</td>\n",
       "      <td>SRX191913</td>\n",
       "      <td>chr2L</td>\n",
       "      <td>158670</td>\n",
       "      <td>159126</td>\n",
       "      <td>Phantom Peak-6</td>\n",
       "      <td>230</td>\n",
       "    </tr>\n",
       "    <tr>\n",
       "      <th>4</th>\n",
       "      <td>chr2L</td>\n",
       "      <td>207224</td>\n",
       "      <td>207532</td>\n",
       "      <td>SRX191913</td>\n",
       "      <td>chr2L</td>\n",
       "      <td>207139</td>\n",
       "      <td>207591</td>\n",
       "      <td>Phantom Peak-8</td>\n",
       "      <td>308</td>\n",
       "    </tr>\n",
       "  </tbody>\n",
       "</table>\n",
       "</div>"
      ],
      "text/plain": [
       "   chrom   start     end       name  score  strand  thickStart  \\\n",
       "0  chr2L   18490   19713  SRX191913  chr2L   18637       19089   \n",
       "1  chr2L  102214  102424  SRX191913  chr2L  102118      102570   \n",
       "2  chr2L  107113  109566  SRX191913  chr2L  107669      108121   \n",
       "3  chr2L  158896  159714  SRX191913  chr2L  158670      159126   \n",
       "4  chr2L  207224  207532  SRX191913  chr2L  207139      207591   \n",
       "\n",
       "         thickEnd  itemRgb  \n",
       "0  Phantom Peak-1      452  \n",
       "1  Phantom Peak-2      210  \n",
       "2  Phantom Peak-3      452  \n",
       "3  Phantom Peak-6      230  \n",
       "4  Phantom Peak-8      308  "
      ]
     },
     "execution_count": 78,
     "metadata": {},
     "output_type": "execute_result"
    }
   ],
   "source": [
    "filtered.head()"
   ]
  },
  {
   "cell_type": "code",
   "execution_count": 80,
   "metadata": {},
   "outputs": [],
   "source": [
    "bed.columns = ['chrom','start','end','name']"
   ]
  },
  {
   "cell_type": "code",
   "execution_count": 82,
   "metadata": {},
   "outputs": [],
   "source": [
    "outermerge = bed.merge(filtered, how='outer', on=['chrom','start','end','name'], indicator=True)"
   ]
  },
  {
   "cell_type": "code",
   "execution_count": 85,
   "metadata": {},
   "outputs": [
    {
     "data": {
      "text/html": [
       "<div>\n",
       "<style scoped>\n",
       "    .dataframe tbody tr th:only-of-type {\n",
       "        vertical-align: middle;\n",
       "    }\n",
       "\n",
       "    .dataframe tbody tr th {\n",
       "        vertical-align: top;\n",
       "    }\n",
       "\n",
       "    .dataframe thead th {\n",
       "        text-align: right;\n",
       "    }\n",
       "</style>\n",
       "<table border=\"1\" class=\"dataframe\">\n",
       "  <thead>\n",
       "    <tr style=\"text-align: right;\">\n",
       "      <th></th>\n",
       "      <th>chrom</th>\n",
       "      <th>start</th>\n",
       "      <th>end</th>\n",
       "      <th>name</th>\n",
       "    </tr>\n",
       "  </thead>\n",
       "  <tbody>\n",
       "    <tr>\n",
       "      <th>0</th>\n",
       "      <td>chr2L</td>\n",
       "      <td>16617</td>\n",
       "      <td>16893</td>\n",
       "      <td>SRX191913</td>\n",
       "    </tr>\n",
       "    <tr>\n",
       "      <th>2</th>\n",
       "      <td>chr2L</td>\n",
       "      <td>21242</td>\n",
       "      <td>21484</td>\n",
       "      <td>SRX191913</td>\n",
       "    </tr>\n",
       "    <tr>\n",
       "      <th>3</th>\n",
       "      <td>chr2L</td>\n",
       "      <td>34118</td>\n",
       "      <td>34304</td>\n",
       "      <td>SRX191913</td>\n",
       "    </tr>\n",
       "    <tr>\n",
       "      <th>4</th>\n",
       "      <td>chr2L</td>\n",
       "      <td>35499</td>\n",
       "      <td>35830</td>\n",
       "      <td>SRX191913</td>\n",
       "    </tr>\n",
       "    <tr>\n",
       "      <th>5</th>\n",
       "      <td>chr2L</td>\n",
       "      <td>43248</td>\n",
       "      <td>43463</td>\n",
       "      <td>SRX191913</td>\n",
       "    </tr>\n",
       "  </tbody>\n",
       "</table>\n",
       "</div>"
      ],
      "text/plain": [
       "   chrom  start    end       name\n",
       "0  chr2L  16617  16893  SRX191913\n",
       "2  chr2L  21242  21484  SRX191913\n",
       "3  chr2L  34118  34304  SRX191913\n",
       "4  chr2L  35499  35830  SRX191913\n",
       "5  chr2L  43248  43463  SRX191913"
      ]
     },
     "execution_count": 85,
     "metadata": {},
     "output_type": "execute_result"
    }
   ],
   "source": [
    "no_phantom = outermerge[outermerge._merge == 'left_only'][['chrom','start','end','name']]\n",
    "no_phantom.head()"
   ]
  },
  {
   "cell_type": "code",
   "execution_count": 86,
   "metadata": {},
   "outputs": [
    {
     "data": {
      "text/plain": [
       "(1953206, 4)"
      ]
     },
     "execution_count": 86,
     "metadata": {},
     "output_type": "execute_result"
    }
   ],
   "source": [
    "no_phantom.shape"
   ]
  },
  {
   "cell_type": "code",
   "execution_count": null,
   "metadata": {},
   "outputs": [],
   "source": []
  }
 ],
 "metadata": {
  "kernelspec": {
   "display_name": "Python [conda env:s2rnai]",
   "language": "python",
   "name": "conda-env-s2rnai-py"
  },
  "language_info": {
   "codemirror_mode": {
    "name": "ipython",
    "version": 3
   },
   "file_extension": ".py",
   "mimetype": "text/x-python",
   "name": "python",
   "nbconvert_exporter": "python",
   "pygments_lexer": "ipython3",
   "version": "3.6.3"
  }
 },
 "nbformat": 4,
 "nbformat_minor": 2
}
