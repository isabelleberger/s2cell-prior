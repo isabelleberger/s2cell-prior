{
 "cells": [
  {
   "cell_type": "markdown",
   "metadata": {},
   "source": [
    "# Build ChIP Matrices\n",
    "\n",
    "Goal: 2 binary matrices, 1 for TFs and 1 for histone modifications. \n",
    "\n",
    "Need to do: \n",
    "- get TF information: \n",
    "    - see how well the symbol map works \n",
    "- collapse to gene level (if peak overlaps the region count it)\n",
    "    - need bed of regions I want/which gene they are in\n"
   ]
  },
  {
   "cell_type": "code",
   "execution_count": 1,
   "metadata": {},
   "outputs": [],
   "source": [
    "import pandas as pd"
   ]
  },
  {
   "cell_type": "code",
   "execution_count": 2,
   "metadata": {},
   "outputs": [],
   "source": [
    "tf = pd.read_table('../output/chip/ALL_TF_CHIP_filtered.bed', header=None, names=['chrom','start','end','srx','score','caller'])\n",
    "hist = pd.read_table('../output/chip/ALL_HIST_CHIP_filtered.bed', header=None,names=['chrom','start','end','srx','score','caller'])"
   ]
  },
  {
   "cell_type": "code",
   "execution_count": 3,
   "metadata": {},
   "outputs": [],
   "source": [
    "spreadsheet = pd.read_csv('../output/chip/20171103_s2cell_chip-seq.csv')\n",
    "\n",
    "#For now we are excluding datasets with no input: \n",
    "spreadsheet = spreadsheet[spreadsheet.input != 'no input?']\n",
    "antibody_table = spreadsheet[['srx','target']]"
   ]
  },
  {
   "cell_type": "code",
   "execution_count": 4,
   "metadata": {},
   "outputs": [],
   "source": [
    "tf2 = tf.merge(antibody_table, on='srx',how='left')\n",
    "hist2 = hist.merge(antibody_table, on='srx', how='left')"
   ]
  },
  {
   "cell_type": "code",
   "execution_count": 5,
   "metadata": {},
   "outputs": [
    {
     "data": {
      "text/html": [
       "<div>\n",
       "<style scoped>\n",
       "    .dataframe tbody tr th:only-of-type {\n",
       "        vertical-align: middle;\n",
       "    }\n",
       "\n",
       "    .dataframe tbody tr th {\n",
       "        vertical-align: top;\n",
       "    }\n",
       "\n",
       "    .dataframe thead th {\n",
       "        text-align: right;\n",
       "    }\n",
       "</style>\n",
       "<table border=\"1\" class=\"dataframe\">\n",
       "  <thead>\n",
       "    <tr style=\"text-align: right;\">\n",
       "      <th></th>\n",
       "      <th>chrom</th>\n",
       "      <th>start</th>\n",
       "      <th>end</th>\n",
       "      <th>srx</th>\n",
       "      <th>score</th>\n",
       "      <th>caller</th>\n",
       "      <th>target</th>\n",
       "    </tr>\n",
       "  </thead>\n",
       "  <tbody>\n",
       "    <tr>\n",
       "      <th>0</th>\n",
       "      <td>chr2L</td>\n",
       "      <td>16617</td>\n",
       "      <td>16893</td>\n",
       "      <td>SRX191913</td>\n",
       "      <td>33.40816</td>\n",
       "      <td>macs2</td>\n",
       "      <td>CTCF</td>\n",
       "    </tr>\n",
       "    <tr>\n",
       "      <th>1</th>\n",
       "      <td>chr2L</td>\n",
       "      <td>21242</td>\n",
       "      <td>21484</td>\n",
       "      <td>SRX191913</td>\n",
       "      <td>7.92056</td>\n",
       "      <td>macs2</td>\n",
       "      <td>CTCF</td>\n",
       "    </tr>\n",
       "    <tr>\n",
       "      <th>2</th>\n",
       "      <td>chr2L</td>\n",
       "      <td>34118</td>\n",
       "      <td>34304</td>\n",
       "      <td>SRX191913</td>\n",
       "      <td>4.27362</td>\n",
       "      <td>macs2</td>\n",
       "      <td>CTCF</td>\n",
       "    </tr>\n",
       "    <tr>\n",
       "      <th>3</th>\n",
       "      <td>chr2L</td>\n",
       "      <td>35499</td>\n",
       "      <td>35830</td>\n",
       "      <td>SRX191913</td>\n",
       "      <td>39.60189</td>\n",
       "      <td>macs2</td>\n",
       "      <td>CTCF</td>\n",
       "    </tr>\n",
       "    <tr>\n",
       "      <th>4</th>\n",
       "      <td>chr2L</td>\n",
       "      <td>43248</td>\n",
       "      <td>43463</td>\n",
       "      <td>SRX191913</td>\n",
       "      <td>3.57781</td>\n",
       "      <td>macs2</td>\n",
       "      <td>CTCF</td>\n",
       "    </tr>\n",
       "  </tbody>\n",
       "</table>\n",
       "</div>"
      ],
      "text/plain": [
       "   chrom  start    end        srx     score caller target\n",
       "0  chr2L  16617  16893  SRX191913  33.40816  macs2   CTCF\n",
       "1  chr2L  21242  21484  SRX191913   7.92056  macs2   CTCF\n",
       "2  chr2L  34118  34304  SRX191913   4.27362  macs2   CTCF\n",
       "3  chr2L  35499  35830  SRX191913  39.60189  macs2   CTCF\n",
       "4  chr2L  43248  43463  SRX191913   3.57781  macs2   CTCF"
      ]
     },
     "execution_count": 5,
     "metadata": {},
     "output_type": "execute_result"
    }
   ],
   "source": [
    "hist2.head()"
   ]
  },
  {
   "cell_type": "code",
   "execution_count": 6,
   "metadata": {},
   "outputs": [
    {
     "data": {
      "text/html": [
       "<div>\n",
       "<style scoped>\n",
       "    .dataframe tbody tr th:only-of-type {\n",
       "        vertical-align: middle;\n",
       "    }\n",
       "\n",
       "    .dataframe tbody tr th {\n",
       "        vertical-align: top;\n",
       "    }\n",
       "\n",
       "    .dataframe thead th {\n",
       "        text-align: right;\n",
       "    }\n",
       "</style>\n",
       "<table border=\"1\" class=\"dataframe\">\n",
       "  <thead>\n",
       "    <tr style=\"text-align: right;\">\n",
       "      <th></th>\n",
       "      <th>chrom</th>\n",
       "      <th>start</th>\n",
       "      <th>end</th>\n",
       "      <th>srx</th>\n",
       "      <th>score</th>\n",
       "      <th>caller</th>\n",
       "      <th>target</th>\n",
       "    </tr>\n",
       "  </thead>\n",
       "  <tbody>\n",
       "    <tr>\n",
       "      <th>0</th>\n",
       "      <td>chr2L</td>\n",
       "      <td>66743</td>\n",
       "      <td>67064</td>\n",
       "      <td>SRX017462</td>\n",
       "      <td>3.74271</td>\n",
       "      <td>macs2</td>\n",
       "      <td>Orc2</td>\n",
       "    </tr>\n",
       "    <tr>\n",
       "      <th>1</th>\n",
       "      <td>chr2L</td>\n",
       "      <td>72379</td>\n",
       "      <td>72633</td>\n",
       "      <td>SRX017462</td>\n",
       "      <td>2.55253</td>\n",
       "      <td>macs2</td>\n",
       "      <td>Orc2</td>\n",
       "    </tr>\n",
       "    <tr>\n",
       "      <th>2</th>\n",
       "      <td>chr2L</td>\n",
       "      <td>73097</td>\n",
       "      <td>73294</td>\n",
       "      <td>SRX017462</td>\n",
       "      <td>5.32918</td>\n",
       "      <td>macs2</td>\n",
       "      <td>Orc2</td>\n",
       "    </tr>\n",
       "    <tr>\n",
       "      <th>3</th>\n",
       "      <td>chr2L</td>\n",
       "      <td>73334</td>\n",
       "      <td>73505</td>\n",
       "      <td>SRX017462</td>\n",
       "      <td>3.64560</td>\n",
       "      <td>macs2</td>\n",
       "      <td>Orc2</td>\n",
       "    </tr>\n",
       "    <tr>\n",
       "      <th>4</th>\n",
       "      <td>chr2L</td>\n",
       "      <td>120707</td>\n",
       "      <td>120958</td>\n",
       "      <td>SRX017462</td>\n",
       "      <td>8.27080</td>\n",
       "      <td>macs2</td>\n",
       "      <td>Orc2</td>\n",
       "    </tr>\n",
       "  </tbody>\n",
       "</table>\n",
       "</div>"
      ],
      "text/plain": [
       "   chrom   start     end        srx    score caller target\n",
       "0  chr2L   66743   67064  SRX017462  3.74271  macs2   Orc2\n",
       "1  chr2L   72379   72633  SRX017462  2.55253  macs2   Orc2\n",
       "2  chr2L   73097   73294  SRX017462  5.32918  macs2   Orc2\n",
       "3  chr2L   73334   73505  SRX017462  3.64560  macs2   Orc2\n",
       "4  chr2L  120707  120958  SRX017462  8.27080  macs2   Orc2"
      ]
     },
     "execution_count": 6,
     "metadata": {},
     "output_type": "execute_result"
    }
   ],
   "source": [
    "tf2.head()"
   ]
  },
  {
   "cell_type": "code",
   "execution_count": 8,
   "metadata": {},
   "outputs": [
    {
     "data": {
      "text/plain": [
       "116"
      ]
     },
     "execution_count": 8,
     "metadata": {},
     "output_type": "execute_result"
    }
   ],
   "source": [
    "len(tf2.srx.unique())"
   ]
  },
  {
   "cell_type": "code",
   "execution_count": 12,
   "metadata": {},
   "outputs": [
    {
     "data": {
      "text/plain": [
       "59"
      ]
     },
     "execution_count": 12,
     "metadata": {},
     "output_type": "execute_result"
    }
   ],
   "source": [
    "len(tf2.target.unique())"
   ]
  },
  {
   "cell_type": "code",
   "execution_count": 13,
   "metadata": {},
   "outputs": [
    {
     "data": {
      "text/plain": [
       "33"
      ]
     },
     "execution_count": 13,
     "metadata": {},
     "output_type": "execute_result"
    }
   ],
   "source": [
    "len(hist2.srx.unique())"
   ]
  },
  {
   "cell_type": "code",
   "execution_count": 14,
   "metadata": {},
   "outputs": [
    {
     "data": {
      "text/plain": [
       "8"
      ]
     },
     "execution_count": 14,
     "metadata": {},
     "output_type": "execute_result"
    }
   ],
   "source": [
    "len(hist2.target.unique())"
   ]
  },
  {
   "cell_type": "code",
   "execution_count": null,
   "metadata": {},
   "outputs": [],
   "source": [
    "#Remember for tommorrow: \n",
    "# get the file I used for FIMO ? \n",
    "# do an intersect and record overlap ? "
   ]
  },
  {
   "cell_type": "code",
   "execution_count": null,
   "metadata": {},
   "outputs": [],
   "source": [
    "#might be useful for get FBgn\n",
    "#symbolmap2 = pd.read_table('../../data/fb_synonym.tsv', sep=' ', header=None)\n",
    "#symbolmap2.columns = ['gene','a','b']\n",
    "#symbolmap2.head()"
   ]
  }
 ],
 "metadata": {
  "kernelspec": {
   "display_name": "Python [conda env:s2rnai]",
   "language": "python",
   "name": "conda-env-s2rnai-py"
  },
  "language_info": {
   "codemirror_mode": {
    "name": "ipython",
    "version": 3
   },
   "file_extension": ".py",
   "mimetype": "text/x-python",
   "name": "python",
   "nbconvert_exporter": "python",
   "pygments_lexer": "ipython3",
   "version": "3.6.3"
  }
 },
 "nbformat": 4,
 "nbformat_minor": 2
}
