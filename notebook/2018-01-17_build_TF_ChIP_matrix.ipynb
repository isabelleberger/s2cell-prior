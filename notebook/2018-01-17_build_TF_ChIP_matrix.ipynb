{
 "cells": [
  {
   "cell_type": "markdown",
   "metadata": {},
   "source": [
    "# Build TF ChIP Binary Matrix\n",
    "\n",
    "Goal: 2 binary matrices, 1 for TFs and 1 for histone modifications. Going to work on TF here and then repeat same process for histones\n",
    "\n",
    "Need to do: \n",
    "- get TF information: \n",
    "    - see how well the symbol map works \n",
    "- collapse to gene level (if peak overlaps the region count it)\n",
    "    - need bed of regions I want/which gene they are in\n"
   ]
  },
  {
   "cell_type": "code",
   "execution_count": 1,
   "metadata": {},
   "outputs": [],
   "source": [
    "import pandas as pd\n",
    "import gffutils\n",
    "from gffutils import pybedtools_integration\n",
    "import pybedtools\n",
    "from pybedtools.featurefuncs import gff2bed"
   ]
  },
  {
   "cell_type": "code",
   "execution_count": 2,
   "metadata": {},
   "outputs": [],
   "source": [
    "tf = pd.read_table('../output/chip/ALL_TF_CHIP_filtered.bed', header=None, \n",
    "                   names=['chrom','start','end','srx','score','caller'])"
   ]
  },
  {
   "cell_type": "code",
   "execution_count": 3,
   "metadata": {},
   "outputs": [],
   "source": [
    "spreadsheet = pd.read_csv('../output/chip/20171103_s2cell_chip-seq.csv')\n",
    "#For now we are excluding datasets with no input: \n",
    "spreadsheet = spreadsheet[spreadsheet.input != 'no input?']\n",
    "antibody_table = spreadsheet[['srx','target']]"
   ]
  },
  {
   "cell_type": "code",
   "execution_count": 4,
   "metadata": {},
   "outputs": [],
   "source": [
    "tf2 = tf.merge(antibody_table, on='srx',how='left')"
   ]
  },
  {
   "cell_type": "code",
   "execution_count": 5,
   "metadata": {},
   "outputs": [
    {
     "data": {
      "text/html": [
       "<div>\n",
       "<style scoped>\n",
       "    .dataframe tbody tr th:only-of-type {\n",
       "        vertical-align: middle;\n",
       "    }\n",
       "\n",
       "    .dataframe tbody tr th {\n",
       "        vertical-align: top;\n",
       "    }\n",
       "\n",
       "    .dataframe thead th {\n",
       "        text-align: right;\n",
       "    }\n",
       "</style>\n",
       "<table border=\"1\" class=\"dataframe\">\n",
       "  <thead>\n",
       "    <tr style=\"text-align: right;\">\n",
       "      <th></th>\n",
       "      <th>chrom</th>\n",
       "      <th>start</th>\n",
       "      <th>end</th>\n",
       "      <th>srx</th>\n",
       "      <th>score</th>\n",
       "      <th>caller</th>\n",
       "      <th>target</th>\n",
       "    </tr>\n",
       "  </thead>\n",
       "  <tbody>\n",
       "    <tr>\n",
       "      <th>0</th>\n",
       "      <td>chr2L</td>\n",
       "      <td>66743</td>\n",
       "      <td>67064</td>\n",
       "      <td>SRX017462</td>\n",
       "      <td>3.74271</td>\n",
       "      <td>macs2</td>\n",
       "      <td>Orc2</td>\n",
       "    </tr>\n",
       "    <tr>\n",
       "      <th>1</th>\n",
       "      <td>chr2L</td>\n",
       "      <td>72379</td>\n",
       "      <td>72633</td>\n",
       "      <td>SRX017462</td>\n",
       "      <td>2.55253</td>\n",
       "      <td>macs2</td>\n",
       "      <td>Orc2</td>\n",
       "    </tr>\n",
       "    <tr>\n",
       "      <th>2</th>\n",
       "      <td>chr2L</td>\n",
       "      <td>73097</td>\n",
       "      <td>73294</td>\n",
       "      <td>SRX017462</td>\n",
       "      <td>5.32918</td>\n",
       "      <td>macs2</td>\n",
       "      <td>Orc2</td>\n",
       "    </tr>\n",
       "    <tr>\n",
       "      <th>3</th>\n",
       "      <td>chr2L</td>\n",
       "      <td>73334</td>\n",
       "      <td>73505</td>\n",
       "      <td>SRX017462</td>\n",
       "      <td>3.64560</td>\n",
       "      <td>macs2</td>\n",
       "      <td>Orc2</td>\n",
       "    </tr>\n",
       "    <tr>\n",
       "      <th>4</th>\n",
       "      <td>chr2L</td>\n",
       "      <td>120707</td>\n",
       "      <td>120958</td>\n",
       "      <td>SRX017462</td>\n",
       "      <td>8.27080</td>\n",
       "      <td>macs2</td>\n",
       "      <td>Orc2</td>\n",
       "    </tr>\n",
       "  </tbody>\n",
       "</table>\n",
       "</div>"
      ],
      "text/plain": [
       "   chrom   start     end        srx    score caller target\n",
       "0  chr2L   66743   67064  SRX017462  3.74271  macs2   Orc2\n",
       "1  chr2L   72379   72633  SRX017462  2.55253  macs2   Orc2\n",
       "2  chr2L   73097   73294  SRX017462  5.32918  macs2   Orc2\n",
       "3  chr2L   73334   73505  SRX017462  3.64560  macs2   Orc2\n",
       "4  chr2L  120707  120958  SRX017462  8.27080  macs2   Orc2"
      ]
     },
     "execution_count": 5,
     "metadata": {},
     "output_type": "execute_result"
    }
   ],
   "source": [
    "tf2.head()"
   ]
  },
  {
   "cell_type": "code",
   "execution_count": 6,
   "metadata": {},
   "outputs": [
    {
     "data": {
      "text/plain": [
       "(121, 58)"
      ]
     },
     "execution_count": 6,
     "metadata": {},
     "output_type": "execute_result"
    }
   ],
   "source": [
    "len(tf2.srx.unique()), len(tf2.target.unique())"
   ]
  },
  {
   "cell_type": "markdown",
   "metadata": {},
   "source": [
    "### Obtain antibody fbgn: "
   ]
  },
  {
   "cell_type": "code",
   "execution_count": 7,
   "metadata": {},
   "outputs": [],
   "source": [
    "#bed file containing introns and 1 kb upstream\n",
    "intslop = pybedtools.BedTool('../output/dm6_intron_sloptranscript.bed')"
   ]
  },
  {
   "cell_type": "code",
   "execution_count": 8,
   "metadata": {},
   "outputs": [],
   "source": [
    "tf_intersect = pybedtools.BedTool.from_dataframe(tf2).intersect(intslop).to_dataframe()"
   ]
  },
  {
   "cell_type": "code",
   "execution_count": 9,
   "metadata": {},
   "outputs": [
    {
     "data": {
      "text/html": [
       "<div>\n",
       "<style scoped>\n",
       "    .dataframe tbody tr th:only-of-type {\n",
       "        vertical-align: middle;\n",
       "    }\n",
       "\n",
       "    .dataframe tbody tr th {\n",
       "        vertical-align: top;\n",
       "    }\n",
       "\n",
       "    .dataframe thead th {\n",
       "        text-align: right;\n",
       "    }\n",
       "</style>\n",
       "<table border=\"1\" class=\"dataframe\">\n",
       "  <thead>\n",
       "    <tr style=\"text-align: right;\">\n",
       "      <th></th>\n",
       "      <th>chrom</th>\n",
       "      <th>start</th>\n",
       "      <th>end</th>\n",
       "      <th>name</th>\n",
       "      <th>score</th>\n",
       "      <th>strand</th>\n",
       "      <th>thickStart</th>\n",
       "    </tr>\n",
       "  </thead>\n",
       "  <tbody>\n",
       "    <tr>\n",
       "      <th>0</th>\n",
       "      <td>chr2L</td>\n",
       "      <td>67003</td>\n",
       "      <td>67042</td>\n",
       "      <td>SRX017462</td>\n",
       "      <td>3.74271</td>\n",
       "      <td>macs2</td>\n",
       "      <td>Orc2</td>\n",
       "    </tr>\n",
       "    <tr>\n",
       "      <th>1</th>\n",
       "      <td>chr2L</td>\n",
       "      <td>129245</td>\n",
       "      <td>129351</td>\n",
       "      <td>SRX017462</td>\n",
       "      <td>5.97573</td>\n",
       "      <td>macs2</td>\n",
       "      <td>Orc2</td>\n",
       "    </tr>\n",
       "    <tr>\n",
       "      <th>2</th>\n",
       "      <td>chr2L</td>\n",
       "      <td>132021</td>\n",
       "      <td>132076</td>\n",
       "      <td>SRX017462</td>\n",
       "      <td>5.55793</td>\n",
       "      <td>macs2</td>\n",
       "      <td>Orc2</td>\n",
       "    </tr>\n",
       "    <tr>\n",
       "      <th>3</th>\n",
       "      <td>chr2L</td>\n",
       "      <td>166651</td>\n",
       "      <td>166846</td>\n",
       "      <td>SRX017462</td>\n",
       "      <td>9.40102</td>\n",
       "      <td>macs2</td>\n",
       "      <td>Orc2</td>\n",
       "    </tr>\n",
       "    <tr>\n",
       "      <th>4</th>\n",
       "      <td>chr2L</td>\n",
       "      <td>247625</td>\n",
       "      <td>247858</td>\n",
       "      <td>SRX017462</td>\n",
       "      <td>5.32918</td>\n",
       "      <td>macs2</td>\n",
       "      <td>Orc2</td>\n",
       "    </tr>\n",
       "  </tbody>\n",
       "</table>\n",
       "</div>"
      ],
      "text/plain": [
       "   chrom   start     end       name    score strand thickStart\n",
       "0  chr2L   67003   67042  SRX017462  3.74271  macs2       Orc2\n",
       "1  chr2L  129245  129351  SRX017462  5.97573  macs2       Orc2\n",
       "2  chr2L  132021  132076  SRX017462  5.55793  macs2       Orc2\n",
       "3  chr2L  166651  166846  SRX017462  9.40102  macs2       Orc2\n",
       "4  chr2L  247625  247858  SRX017462  5.32918  macs2       Orc2"
      ]
     },
     "execution_count": 9,
     "metadata": {},
     "output_type": "execute_result"
    }
   ],
   "source": [
    "tf_intersect.head()"
   ]
  },
  {
   "cell_type": "code",
   "execution_count": 10,
   "metadata": {},
   "outputs": [],
   "source": [
    "#symbol maps map gene symbol to FBgn: \n",
    "symbolmap = pd.read_table('/data/LCDB/lcdb-references/dmel/r6-11/gtf/dmel_r6-11.SYMBOL.csv', sep=',') \n",
    "symbolmap2 = pd.read_table('../data/fb_synonym.tsv', sep=' ', header=None)\n",
    "symbolmap2.columns = ['gene','a','b']"
   ]
  },
  {
   "cell_type": "code",
   "execution_count": 11,
   "metadata": {},
   "outputs": [],
   "source": [
    "#make copy df\n",
    "tf_intersect_copy = tf_intersect.copy()"
   ]
  },
  {
   "cell_type": "code",
   "execution_count": 12,
   "metadata": {},
   "outputs": [],
   "source": [
    "tf_intersect_copy.loc[tf_intersect.thickStart == 'HP1a','thickStart'] = 'Su(var)205'\n",
    "tf_intersect_copy.loc[tf_intersect.thickStart == 'Hp1a','thickStart'] = 'Su(var)205'\n",
    "tf_intersect_copy.loc[tf_intersect.thickStart == 'CP190','thickStart'] = 'Cp190'\n",
    "tf_intersect_copy.loc[tf_intersect.thickStart == 'CG8436','thickStart'] = 'Ibf1'\n",
    "tf_intersect_copy.loc[tf_intersect.thickStart == 'CG9740','thickStart'] = 'Ibf2'\n",
    "tf_intersect_copy.loc[tf_intersect.thickStart == 'NSL3','thickStart'] = 'Rcd1'\n",
    "tf_intersect_copy.loc[tf_intersect.thickStart == 'UTX','thickStart'] = 'Utx'\n",
    "tf_intersect_copy.loc[tf_intersect.thickStart == 'LPT','thickStart'] = 'Lpt'\n",
    "tf_intersect_copy.loc[tf_intersect.thickStart == 'Trr','thickStart'] = 'trr'\n",
    "tf_intersect_copy.loc[tf_intersect.thickStart == 'dCAP-D3','thickStart'] = 'Cap-D3'\n",
    "tf_intersect_copy.loc[tf_intersect.thickStart == 'DnaJ1','thickStart'] = 'DnaJ-1'\n",
    "tf_intersect_copy.loc[tf_intersect.thickStart == 'MYST5','thickStart'] = 'CG1894'\n",
    "tf_intersect_copy.loc[tf_intersect.thickStart == 'ZIPIC','thickStart'] = 'CG7928'"
   ]
  },
  {
   "cell_type": "code",
   "execution_count": 13,
   "metadata": {},
   "outputs": [],
   "source": [
    "merge1 = tf_intersect_copy.merge(symbolmap, left_on='thickStart', right_on='SYMBOL', how='left')\n",
    "merge2 = merge1.merge(symbolmap2, left_on='thickStart', right_on='a', how='left')[['chrom','start','end','name',\n",
    "                                                                'score','strand','thickStart','ENSEMBL','gene']]"
   ]
  },
  {
   "cell_type": "code",
   "execution_count": 14,
   "metadata": {},
   "outputs": [],
   "source": [
    "merge2.fillna('')\n",
    "merge2['anti_FBgn']= merge2.ENSEMBL.combine_first(merge2.gene)\n",
    "trim = merge2[['chrom','start','end','name','score','strand','thickStart','anti_FBgn']]"
   ]
  },
  {
   "cell_type": "code",
   "execution_count": 15,
   "metadata": {},
   "outputs": [
    {
     "data": {
      "text/plain": [
       "array(['Rpb1', 'FLAG', 'GFP', 'Ph', 'control', 'Rpb3', 'control ', 'Rbp3'], dtype=object)"
      ]
     },
     "execution_count": 15,
     "metadata": {},
     "output_type": "execute_result"
    }
   ],
   "source": [
    "#drop these because they aren't fly genes (except for Ph but it wasn't specified which ph)\n",
    "trim[trim.anti_FBgn.isnull()].thickStart.unique()"
   ]
  },
  {
   "cell_type": "code",
   "execution_count": 16,
   "metadata": {},
   "outputs": [],
   "source": [
    "drop_bad_antibodies = trim[~trim.anti_FBgn.isnull()]"
   ]
  },
  {
   "cell_type": "markdown",
   "metadata": {},
   "source": [
    "## Filter for RNAi TFs"
   ]
  },
  {
   "cell_type": "code",
   "execution_count": 17,
   "metadata": {},
   "outputs": [
    {
     "data": {
      "text/html": [
       "<div>\n",
       "<style scoped>\n",
       "    .dataframe tbody tr th:only-of-type {\n",
       "        vertical-align: middle;\n",
       "    }\n",
       "\n",
       "    .dataframe tbody tr th {\n",
       "        vertical-align: top;\n",
       "    }\n",
       "\n",
       "    .dataframe thead th {\n",
       "        text-align: right;\n",
       "    }\n",
       "</style>\n",
       "<table border=\"1\" class=\"dataframe\">\n",
       "  <thead>\n",
       "    <tr style=\"text-align: right;\">\n",
       "      <th></th>\n",
       "      <th>chrom</th>\n",
       "      <th>start</th>\n",
       "      <th>end</th>\n",
       "      <th>name</th>\n",
       "      <th>score</th>\n",
       "      <th>strand</th>\n",
       "      <th>thickStart</th>\n",
       "      <th>anti_FBgn</th>\n",
       "    </tr>\n",
       "  </thead>\n",
       "  <tbody>\n",
       "    <tr>\n",
       "      <th>0</th>\n",
       "      <td>chr2L</td>\n",
       "      <td>67003</td>\n",
       "      <td>67042</td>\n",
       "      <td>SRX017462</td>\n",
       "      <td>3.74271</td>\n",
       "      <td>macs2</td>\n",
       "      <td>Orc2</td>\n",
       "      <td>FBgn0015270</td>\n",
       "    </tr>\n",
       "    <tr>\n",
       "      <th>1</th>\n",
       "      <td>chr2L</td>\n",
       "      <td>129245</td>\n",
       "      <td>129351</td>\n",
       "      <td>SRX017462</td>\n",
       "      <td>5.97573</td>\n",
       "      <td>macs2</td>\n",
       "      <td>Orc2</td>\n",
       "      <td>FBgn0015270</td>\n",
       "    </tr>\n",
       "    <tr>\n",
       "      <th>2</th>\n",
       "      <td>chr2L</td>\n",
       "      <td>132021</td>\n",
       "      <td>132076</td>\n",
       "      <td>SRX017462</td>\n",
       "      <td>5.55793</td>\n",
       "      <td>macs2</td>\n",
       "      <td>Orc2</td>\n",
       "      <td>FBgn0015270</td>\n",
       "    </tr>\n",
       "    <tr>\n",
       "      <th>3</th>\n",
       "      <td>chr2L</td>\n",
       "      <td>166651</td>\n",
       "      <td>166846</td>\n",
       "      <td>SRX017462</td>\n",
       "      <td>9.40102</td>\n",
       "      <td>macs2</td>\n",
       "      <td>Orc2</td>\n",
       "      <td>FBgn0015270</td>\n",
       "    </tr>\n",
       "    <tr>\n",
       "      <th>4</th>\n",
       "      <td>chr2L</td>\n",
       "      <td>247625</td>\n",
       "      <td>247858</td>\n",
       "      <td>SRX017462</td>\n",
       "      <td>5.32918</td>\n",
       "      <td>macs2</td>\n",
       "      <td>Orc2</td>\n",
       "      <td>FBgn0015270</td>\n",
       "    </tr>\n",
       "  </tbody>\n",
       "</table>\n",
       "</div>"
      ],
      "text/plain": [
       "   chrom   start     end       name    score strand thickStart    anti_FBgn\n",
       "0  chr2L   67003   67042  SRX017462  3.74271  macs2       Orc2  FBgn0015270\n",
       "1  chr2L  129245  129351  SRX017462  5.97573  macs2       Orc2  FBgn0015270\n",
       "2  chr2L  132021  132076  SRX017462  5.55793  macs2       Orc2  FBgn0015270\n",
       "3  chr2L  166651  166846  SRX017462  9.40102  macs2       Orc2  FBgn0015270\n",
       "4  chr2L  247625  247858  SRX017462  5.32918  macs2       Orc2  FBgn0015270"
      ]
     },
     "execution_count": 17,
     "metadata": {},
     "output_type": "execute_result"
    }
   ],
   "source": [
    "drop_bad_antibodies.head()"
   ]
  },
  {
   "cell_type": "code",
   "execution_count": 18,
   "metadata": {},
   "outputs": [],
   "source": [
    "#Remember filter for RNAi TFs \n",
    "TF_list = pd.read_table('../output/list_of_tfs.txt', header=None)\n",
    "TF_list.columns=['TF']"
   ]
  },
  {
   "cell_type": "code",
   "execution_count": 35,
   "metadata": {},
   "outputs": [
    {
     "data": {
      "text/plain": [
       "(488, 1)"
      ]
     },
     "execution_count": 35,
     "metadata": {},
     "output_type": "execute_result"
    }
   ],
   "source": [
    "TF_list.shape"
   ]
  },
  {
   "cell_type": "code",
   "execution_count": 19,
   "metadata": {},
   "outputs": [],
   "source": [
    "merge_on_our_TFs = drop_bad_antibodies.merge(TF_list, left_on='anti_FBgn', right_on='TF', how='inner')"
   ]
  },
  {
   "cell_type": "code",
   "execution_count": 20,
   "metadata": {},
   "outputs": [
    {
     "data": {
      "text/html": [
       "<div>\n",
       "<style scoped>\n",
       "    .dataframe tbody tr th:only-of-type {\n",
       "        vertical-align: middle;\n",
       "    }\n",
       "\n",
       "    .dataframe tbody tr th {\n",
       "        vertical-align: top;\n",
       "    }\n",
       "\n",
       "    .dataframe thead th {\n",
       "        text-align: right;\n",
       "    }\n",
       "</style>\n",
       "<table border=\"1\" class=\"dataframe\">\n",
       "  <thead>\n",
       "    <tr style=\"text-align: right;\">\n",
       "      <th></th>\n",
       "      <th>chrom</th>\n",
       "      <th>start</th>\n",
       "      <th>end</th>\n",
       "      <th>name</th>\n",
       "      <th>score</th>\n",
       "      <th>strand</th>\n",
       "      <th>thickStart</th>\n",
       "      <th>anti_FBgn</th>\n",
       "      <th>TF</th>\n",
       "    </tr>\n",
       "  </thead>\n",
       "  <tbody>\n",
       "    <tr>\n",
       "      <th>0</th>\n",
       "      <td>chr2L</td>\n",
       "      <td>6528</td>\n",
       "      <td>7316</td>\n",
       "      <td>SRX885700</td>\n",
       "      <td>62.80834</td>\n",
       "      <td>macs2</td>\n",
       "      <td>Scm</td>\n",
       "      <td>FBgn0003334</td>\n",
       "      <td>FBgn0003334</td>\n",
       "    </tr>\n",
       "    <tr>\n",
       "      <th>1</th>\n",
       "      <td>chr2L</td>\n",
       "      <td>7432</td>\n",
       "      <td>7528</td>\n",
       "      <td>SRX885700</td>\n",
       "      <td>8.14595</td>\n",
       "      <td>macs2</td>\n",
       "      <td>Scm</td>\n",
       "      <td>FBgn0003334</td>\n",
       "      <td>FBgn0003334</td>\n",
       "    </tr>\n",
       "    <tr>\n",
       "      <th>2</th>\n",
       "      <td>chr2L</td>\n",
       "      <td>8116</td>\n",
       "      <td>8192</td>\n",
       "      <td>SRX885700</td>\n",
       "      <td>8.14595</td>\n",
       "      <td>macs2</td>\n",
       "      <td>Scm</td>\n",
       "      <td>FBgn0003334</td>\n",
       "      <td>FBgn0003334</td>\n",
       "    </tr>\n",
       "    <tr>\n",
       "      <th>3</th>\n",
       "      <td>chr2L</td>\n",
       "      <td>9484</td>\n",
       "      <td>9612</td>\n",
       "      <td>SRX885700</td>\n",
       "      <td>4.98406</td>\n",
       "      <td>macs2</td>\n",
       "      <td>Scm</td>\n",
       "      <td>FBgn0003334</td>\n",
       "      <td>FBgn0003334</td>\n",
       "    </tr>\n",
       "    <tr>\n",
       "      <th>4</th>\n",
       "      <td>chr2L</td>\n",
       "      <td>66242</td>\n",
       "      <td>66317</td>\n",
       "      <td>SRX885700</td>\n",
       "      <td>2.59312</td>\n",
       "      <td>macs2</td>\n",
       "      <td>Scm</td>\n",
       "      <td>FBgn0003334</td>\n",
       "      <td>FBgn0003334</td>\n",
       "    </tr>\n",
       "  </tbody>\n",
       "</table>\n",
       "</div>"
      ],
      "text/plain": [
       "   chrom  start    end       name     score strand thickStart    anti_FBgn  \\\n",
       "0  chr2L   6528   7316  SRX885700  62.80834  macs2        Scm  FBgn0003334   \n",
       "1  chr2L   7432   7528  SRX885700   8.14595  macs2        Scm  FBgn0003334   \n",
       "2  chr2L   8116   8192  SRX885700   8.14595  macs2        Scm  FBgn0003334   \n",
       "3  chr2L   9484   9612  SRX885700   4.98406  macs2        Scm  FBgn0003334   \n",
       "4  chr2L  66242  66317  SRX885700   2.59312  macs2        Scm  FBgn0003334   \n",
       "\n",
       "            TF  \n",
       "0  FBgn0003334  \n",
       "1  FBgn0003334  \n",
       "2  FBgn0003334  \n",
       "3  FBgn0003334  \n",
       "4  FBgn0003334  "
      ]
     },
     "execution_count": 20,
     "metadata": {},
     "output_type": "execute_result"
    }
   ],
   "source": [
    "merge_on_our_TFs.head()"
   ]
  },
  {
   "cell_type": "code",
   "execution_count": 21,
   "metadata": {},
   "outputs": [
    {
     "data": {
      "text/plain": [
       "21"
      ]
     },
     "execution_count": 21,
     "metadata": {},
     "output_type": "execute_result"
    }
   ],
   "source": [
    "len(merge_on_our_TFs.thickStart.unique())"
   ]
  },
  {
   "cell_type": "markdown",
   "metadata": {},
   "source": [
    "## Target gene intersect: "
   ]
  },
  {
   "cell_type": "code",
   "execution_count": 22,
   "metadata": {},
   "outputs": [],
   "source": [
    "gene_info = pybedtools.BedTool('../output/chip/dmel6.12.genes.bed')"
   ]
  },
  {
   "cell_type": "code",
   "execution_count": 23,
   "metadata": {},
   "outputs": [
    {
     "name": "stderr",
     "output_type": "stream",
     "text": [
      "/data/bergeric/miniconda3/envs/s2rnai/lib/python3.6/site-packages/pybedtools/bedtool.py:3287: UserWarning: Default names for filetype bed are:\n",
      "['chrom', 'start', 'end', 'name', 'score', 'strand', 'thickStart', 'thickEnd', 'itemRgb', 'blockCount', 'blockSizes', 'blockStarts']\n",
      "but file has 15 fields; you can supply custom names with the `names` kwarg\n",
      "  % (self.file_type, _names, self.field_count()))\n"
     ]
    }
   ],
   "source": [
    "targene_intersect = gene_info.intersect(pybedtools.BedTool.from_dataframe(merge_on_our_TFs), \n",
    "                                        wb=True).saveas().to_dataframe()[[3,6,7,8,9,10,11,12,13]]"
   ]
  },
  {
   "cell_type": "code",
   "execution_count": 24,
   "metadata": {},
   "outputs": [],
   "source": [
    "targene_intersect.columns = ['target_gene','chrom','start','end','srx','log10qval','caller','TF','TF_fbgn']"
   ]
  },
  {
   "cell_type": "code",
   "execution_count": 25,
   "metadata": {},
   "outputs": [
    {
     "data": {
      "text/html": [
       "<div>\n",
       "<style scoped>\n",
       "    .dataframe tbody tr th:only-of-type {\n",
       "        vertical-align: middle;\n",
       "    }\n",
       "\n",
       "    .dataframe tbody tr th {\n",
       "        vertical-align: top;\n",
       "    }\n",
       "\n",
       "    .dataframe thead th {\n",
       "        text-align: right;\n",
       "    }\n",
       "</style>\n",
       "<table border=\"1\" class=\"dataframe\">\n",
       "  <thead>\n",
       "    <tr style=\"text-align: right;\">\n",
       "      <th></th>\n",
       "      <th>target_gene</th>\n",
       "      <th>chrom</th>\n",
       "      <th>start</th>\n",
       "      <th>end</th>\n",
       "      <th>srx</th>\n",
       "      <th>log10qval</th>\n",
       "      <th>caller</th>\n",
       "      <th>TF</th>\n",
       "      <th>TF_fbgn</th>\n",
       "    </tr>\n",
       "  </thead>\n",
       "  <tbody>\n",
       "    <tr>\n",
       "      <th>0</th>\n",
       "      <td>FBgn0031208</td>\n",
       "      <td>chr2L</td>\n",
       "      <td>8116</td>\n",
       "      <td>8192</td>\n",
       "      <td>SRX885700</td>\n",
       "      <td>8.145950</td>\n",
       "      <td>macs2</td>\n",
       "      <td>Scm</td>\n",
       "      <td>FBgn0003334</td>\n",
       "    </tr>\n",
       "    <tr>\n",
       "      <th>1</th>\n",
       "      <td>FBgn0031208</td>\n",
       "      <td>chr2L</td>\n",
       "      <td>8116</td>\n",
       "      <td>8192</td>\n",
       "      <td>SRX885698</td>\n",
       "      <td>58.313850</td>\n",
       "      <td>macs2</td>\n",
       "      <td>Scm</td>\n",
       "      <td>FBgn0003334</td>\n",
       "    </tr>\n",
       "    <tr>\n",
       "      <th>2</th>\n",
       "      <td>FBgn0031208</td>\n",
       "      <td>chr2L</td>\n",
       "      <td>8116</td>\n",
       "      <td>8192</td>\n",
       "      <td>SRX097617</td>\n",
       "      <td>136.588380</td>\n",
       "      <td>macs2</td>\n",
       "      <td>lilli</td>\n",
       "      <td>FBgn0041111</td>\n",
       "    </tr>\n",
       "    <tr>\n",
       "      <th>3</th>\n",
       "      <td>FBgn0031208</td>\n",
       "      <td>chr2L</td>\n",
       "      <td>8116</td>\n",
       "      <td>8192</td>\n",
       "      <td>SRX097617</td>\n",
       "      <td>3.405688</td>\n",
       "      <td>spp</td>\n",
       "      <td>lilli</td>\n",
       "      <td>FBgn0041111</td>\n",
       "    </tr>\n",
       "    <tr>\n",
       "      <th>4</th>\n",
       "      <td>FBgn0031208</td>\n",
       "      <td>chr2L</td>\n",
       "      <td>8116</td>\n",
       "      <td>8192</td>\n",
       "      <td>SRX097617</td>\n",
       "      <td>3.405688</td>\n",
       "      <td>spp</td>\n",
       "      <td>lilli</td>\n",
       "      <td>FBgn0041111</td>\n",
       "    </tr>\n",
       "  </tbody>\n",
       "</table>\n",
       "</div>"
      ],
      "text/plain": [
       "   target_gene  chrom  start   end        srx   log10qval caller     TF  \\\n",
       "0  FBgn0031208  chr2L   8116  8192  SRX885700    8.145950  macs2    Scm   \n",
       "1  FBgn0031208  chr2L   8116  8192  SRX885698   58.313850  macs2    Scm   \n",
       "2  FBgn0031208  chr2L   8116  8192  SRX097617  136.588380  macs2  lilli   \n",
       "3  FBgn0031208  chr2L   8116  8192  SRX097617    3.405688    spp  lilli   \n",
       "4  FBgn0031208  chr2L   8116  8192  SRX097617    3.405688    spp  lilli   \n",
       "\n",
       "       TF_fbgn  \n",
       "0  FBgn0003334  \n",
       "1  FBgn0003334  \n",
       "2  FBgn0041111  \n",
       "3  FBgn0041111  \n",
       "4  FBgn0041111  "
      ]
     },
     "execution_count": 25,
     "metadata": {},
     "output_type": "execute_result"
    }
   ],
   "source": [
    "targene_intersect.head()"
   ]
  },
  {
   "cell_type": "markdown",
   "metadata": {},
   "source": [
    "## Collapse to binary: \n",
    "- New matrix w/no duplicates"
   ]
  },
  {
   "cell_type": "code",
   "execution_count": 26,
   "metadata": {},
   "outputs": [],
   "source": [
    "#If peak in gene region count it as a 1 \n",
    "#only need gene,TF_fbgn\n",
    "binary_collapse = targene_intersect[['target_gene','TF_fbgn']]"
   ]
  },
  {
   "cell_type": "code",
   "execution_count": 27,
   "metadata": {},
   "outputs": [
    {
     "name": "stderr",
     "output_type": "stream",
     "text": [
      "/data/bergeric/miniconda3/envs/s2rnai/lib/python3.6/site-packages/ipykernel_launcher.py:1: SettingWithCopyWarning: \n",
      "A value is trying to be set on a copy of a slice from a DataFrame.\n",
      "Try using .loc[row_indexer,col_indexer] = value instead\n",
      "\n",
      "See the caveats in the documentation: http://pandas.pydata.org/pandas-docs/stable/indexing.html#indexing-view-versus-copy\n",
      "  \"\"\"Entry point for launching an IPython kernel.\n"
     ]
    }
   ],
   "source": [
    "binary_collapse['binary'] = 1"
   ]
  },
  {
   "cell_type": "code",
   "execution_count": 28,
   "metadata": {},
   "outputs": [
    {
     "name": "stderr",
     "output_type": "stream",
     "text": [
      "/data/bergeric/miniconda3/envs/s2rnai/lib/python3.6/site-packages/ipykernel_launcher.py:1: SettingWithCopyWarning: \n",
      "A value is trying to be set on a copy of a slice from a DataFrame\n",
      "\n",
      "See the caveats in the documentation: http://pandas.pydata.org/pandas-docs/stable/indexing.html#indexing-view-versus-copy\n",
      "  \"\"\"Entry point for launching an IPython kernel.\n"
     ]
    }
   ],
   "source": [
    "binary_collapse.drop_duplicates(inplace=True)"
   ]
  },
  {
   "cell_type": "code",
   "execution_count": 29,
   "metadata": {},
   "outputs": [],
   "source": [
    "#index can't have duplicate entries so I need to condense this information down\n",
    "binary_collapse.set_index(['target_gene','TF_fbgn'], inplace=True)\n",
    "matrix = binary_collapse.unstack()"
   ]
  },
  {
   "cell_type": "code",
   "execution_count": 30,
   "metadata": {},
   "outputs": [],
   "source": [
    "matrix.fillna(value=0).to_csv('../output/chip/tf_matrix', sep='\\t')"
   ]
  },
  {
   "cell_type": "code",
   "execution_count": 31,
   "metadata": {},
   "outputs": [
    {
     "data": {
      "text/html": [
       "<div>\n",
       "<style scoped>\n",
       "    .dataframe tbody tr th:only-of-type {\n",
       "        vertical-align: middle;\n",
       "    }\n",
       "\n",
       "    .dataframe tbody tr th {\n",
       "        vertical-align: top;\n",
       "    }\n",
       "\n",
       "    .dataframe thead tr th {\n",
       "        text-align: left;\n",
       "    }\n",
       "\n",
       "    .dataframe thead tr:last-of-type th {\n",
       "        text-align: right;\n",
       "    }\n",
       "</style>\n",
       "<table border=\"1\" class=\"dataframe\">\n",
       "  <thead>\n",
       "    <tr>\n",
       "      <th></th>\n",
       "      <th colspan=\"21\" halign=\"left\">binary</th>\n",
       "    </tr>\n",
       "    <tr>\n",
       "      <th>TF_fbgn</th>\n",
       "      <th>FBgn0000283</th>\n",
       "      <th>FBgn0001206</th>\n",
       "      <th>FBgn0002775</th>\n",
       "      <th>FBgn0003042</th>\n",
       "      <th>FBgn0003334</th>\n",
       "      <th>FBgn0003567</th>\n",
       "      <th>FBgn0003607</th>\n",
       "      <th>FBgn0010328</th>\n",
       "      <th>FBgn0015602</th>\n",
       "      <th>FBgn0020388</th>\n",
       "      <th>...</th>\n",
       "      <th>FBgn0033998</th>\n",
       "      <th>FBgn0034878</th>\n",
       "      <th>FBgn0037746</th>\n",
       "      <th>FBgn0038016</th>\n",
       "      <th>FBgn0039019</th>\n",
       "      <th>FBgn0039740</th>\n",
       "      <th>FBgn0041111</th>\n",
       "      <th>FBgn0259785</th>\n",
       "      <th>FBgn0262656</th>\n",
       "      <th>FBgn0263667</th>\n",
       "    </tr>\n",
       "    <tr>\n",
       "      <th>target_gene</th>\n",
       "      <th></th>\n",
       "      <th></th>\n",
       "      <th></th>\n",
       "      <th></th>\n",
       "      <th></th>\n",
       "      <th></th>\n",
       "      <th></th>\n",
       "      <th></th>\n",
       "      <th></th>\n",
       "      <th></th>\n",
       "      <th></th>\n",
       "      <th></th>\n",
       "      <th></th>\n",
       "      <th></th>\n",
       "      <th></th>\n",
       "      <th></th>\n",
       "      <th></th>\n",
       "      <th></th>\n",
       "      <th></th>\n",
       "      <th></th>\n",
       "      <th></th>\n",
       "    </tr>\n",
       "  </thead>\n",
       "  <tbody>\n",
       "    <tr>\n",
       "      <th>FBgn0000008</th>\n",
       "      <td>NaN</td>\n",
       "      <td>1.0</td>\n",
       "      <td>NaN</td>\n",
       "      <td>NaN</td>\n",
       "      <td>1.0</td>\n",
       "      <td>NaN</td>\n",
       "      <td>NaN</td>\n",
       "      <td>1.0</td>\n",
       "      <td>NaN</td>\n",
       "      <td>1.0</td>\n",
       "      <td>...</td>\n",
       "      <td>1.0</td>\n",
       "      <td>NaN</td>\n",
       "      <td>NaN</td>\n",
       "      <td>1.0</td>\n",
       "      <td>NaN</td>\n",
       "      <td>1.0</td>\n",
       "      <td>1.0</td>\n",
       "      <td>NaN</td>\n",
       "      <td>NaN</td>\n",
       "      <td>NaN</td>\n",
       "    </tr>\n",
       "    <tr>\n",
       "      <th>FBgn0000014</th>\n",
       "      <td>1.0</td>\n",
       "      <td>NaN</td>\n",
       "      <td>NaN</td>\n",
       "      <td>1.0</td>\n",
       "      <td>1.0</td>\n",
       "      <td>1.0</td>\n",
       "      <td>NaN</td>\n",
       "      <td>NaN</td>\n",
       "      <td>NaN</td>\n",
       "      <td>NaN</td>\n",
       "      <td>...</td>\n",
       "      <td>NaN</td>\n",
       "      <td>NaN</td>\n",
       "      <td>NaN</td>\n",
       "      <td>NaN</td>\n",
       "      <td>NaN</td>\n",
       "      <td>1.0</td>\n",
       "      <td>1.0</td>\n",
       "      <td>NaN</td>\n",
       "      <td>NaN</td>\n",
       "      <td>1.0</td>\n",
       "    </tr>\n",
       "    <tr>\n",
       "      <th>FBgn0000015</th>\n",
       "      <td>1.0</td>\n",
       "      <td>1.0</td>\n",
       "      <td>NaN</td>\n",
       "      <td>1.0</td>\n",
       "      <td>1.0</td>\n",
       "      <td>1.0</td>\n",
       "      <td>NaN</td>\n",
       "      <td>1.0</td>\n",
       "      <td>NaN</td>\n",
       "      <td>1.0</td>\n",
       "      <td>...</td>\n",
       "      <td>NaN</td>\n",
       "      <td>1.0</td>\n",
       "      <td>1.0</td>\n",
       "      <td>1.0</td>\n",
       "      <td>1.0</td>\n",
       "      <td>1.0</td>\n",
       "      <td>1.0</td>\n",
       "      <td>1.0</td>\n",
       "      <td>NaN</td>\n",
       "      <td>1.0</td>\n",
       "    </tr>\n",
       "    <tr>\n",
       "      <th>FBgn0000017</th>\n",
       "      <td>1.0</td>\n",
       "      <td>1.0</td>\n",
       "      <td>1.0</td>\n",
       "      <td>1.0</td>\n",
       "      <td>NaN</td>\n",
       "      <td>1.0</td>\n",
       "      <td>NaN</td>\n",
       "      <td>1.0</td>\n",
       "      <td>NaN</td>\n",
       "      <td>1.0</td>\n",
       "      <td>...</td>\n",
       "      <td>1.0</td>\n",
       "      <td>NaN</td>\n",
       "      <td>1.0</td>\n",
       "      <td>1.0</td>\n",
       "      <td>NaN</td>\n",
       "      <td>1.0</td>\n",
       "      <td>1.0</td>\n",
       "      <td>1.0</td>\n",
       "      <td>NaN</td>\n",
       "      <td>1.0</td>\n",
       "    </tr>\n",
       "    <tr>\n",
       "      <th>FBgn0000018</th>\n",
       "      <td>NaN</td>\n",
       "      <td>NaN</td>\n",
       "      <td>1.0</td>\n",
       "      <td>NaN</td>\n",
       "      <td>NaN</td>\n",
       "      <td>NaN</td>\n",
       "      <td>NaN</td>\n",
       "      <td>NaN</td>\n",
       "      <td>NaN</td>\n",
       "      <td>NaN</td>\n",
       "      <td>...</td>\n",
       "      <td>NaN</td>\n",
       "      <td>NaN</td>\n",
       "      <td>NaN</td>\n",
       "      <td>NaN</td>\n",
       "      <td>NaN</td>\n",
       "      <td>NaN</td>\n",
       "      <td>NaN</td>\n",
       "      <td>NaN</td>\n",
       "      <td>NaN</td>\n",
       "      <td>NaN</td>\n",
       "    </tr>\n",
       "  </tbody>\n",
       "</table>\n",
       "<p>5 rows × 21 columns</p>\n",
       "</div>"
      ],
      "text/plain": [
       "                 binary                                                  \\\n",
       "TF_fbgn     FBgn0000283 FBgn0001206 FBgn0002775 FBgn0003042 FBgn0003334   \n",
       "target_gene                                                               \n",
       "FBgn0000008         NaN         1.0         NaN         NaN         1.0   \n",
       "FBgn0000014         1.0         NaN         NaN         1.0         1.0   \n",
       "FBgn0000015         1.0         1.0         NaN         1.0         1.0   \n",
       "FBgn0000017         1.0         1.0         1.0         1.0         NaN   \n",
       "FBgn0000018         NaN         NaN         1.0         NaN         NaN   \n",
       "\n",
       "                                                                         \\\n",
       "TF_fbgn     FBgn0003567 FBgn0003607 FBgn0010328 FBgn0015602 FBgn0020388   \n",
       "target_gene                                                               \n",
       "FBgn0000008         NaN         NaN         1.0         NaN         1.0   \n",
       "FBgn0000014         1.0         NaN         NaN         NaN         NaN   \n",
       "FBgn0000015         1.0         NaN         1.0         NaN         1.0   \n",
       "FBgn0000017         1.0         NaN         1.0         NaN         1.0   \n",
       "FBgn0000018         NaN         NaN         NaN         NaN         NaN   \n",
       "\n",
       "                ...                                                      \\\n",
       "TF_fbgn         ...     FBgn0033998 FBgn0034878 FBgn0037746 FBgn0038016   \n",
       "target_gene     ...                                                       \n",
       "FBgn0000008     ...             1.0         NaN         NaN         1.0   \n",
       "FBgn0000014     ...             NaN         NaN         NaN         NaN   \n",
       "FBgn0000015     ...             NaN         1.0         1.0         1.0   \n",
       "FBgn0000017     ...             1.0         NaN         1.0         1.0   \n",
       "FBgn0000018     ...             NaN         NaN         NaN         NaN   \n",
       "\n",
       "                                                                         \\\n",
       "TF_fbgn     FBgn0039019 FBgn0039740 FBgn0041111 FBgn0259785 FBgn0262656   \n",
       "target_gene                                                               \n",
       "FBgn0000008         NaN         1.0         1.0         NaN         NaN   \n",
       "FBgn0000014         NaN         1.0         1.0         NaN         NaN   \n",
       "FBgn0000015         1.0         1.0         1.0         1.0         NaN   \n",
       "FBgn0000017         NaN         1.0         1.0         1.0         NaN   \n",
       "FBgn0000018         NaN         NaN         NaN         NaN         NaN   \n",
       "\n",
       "                         \n",
       "TF_fbgn     FBgn0263667  \n",
       "target_gene              \n",
       "FBgn0000008         NaN  \n",
       "FBgn0000014         1.0  \n",
       "FBgn0000015         1.0  \n",
       "FBgn0000017         1.0  \n",
       "FBgn0000018         NaN  \n",
       "\n",
       "[5 rows x 21 columns]"
      ]
     },
     "execution_count": 31,
     "metadata": {},
     "output_type": "execute_result"
    }
   ],
   "source": [
    "matrix.head()"
   ]
  },
  {
   "cell_type": "code",
   "execution_count": 42,
   "metadata": {},
   "outputs": [
    {
     "data": {
      "text/plain": [
       "        TF_fbgn    \n",
       "binary  FBgn0000283    5365.0\n",
       "        FBgn0001206    1498.0\n",
       "        FBgn0002775    5072.0\n",
       "        FBgn0003042    1770.0\n",
       "        FBgn0003334    2321.0\n",
       "        FBgn0003567    4903.0\n",
       "        FBgn0003607    1139.0\n",
       "        FBgn0010328    3702.0\n",
       "        FBgn0015602    1041.0\n",
       "        FBgn0020388    3343.0\n",
       "        FBgn0023518    1510.0\n",
       "        FBgn0033998    6304.0\n",
       "        FBgn0034878    1336.0\n",
       "        FBgn0037746    1772.0\n",
       "        FBgn0038016    5860.0\n",
       "        FBgn0039019    1544.0\n",
       "        FBgn0039740    3912.0\n",
       "        FBgn0041111    2104.0\n",
       "        FBgn0259785    5535.0\n",
       "        FBgn0262656     534.0\n",
       "        FBgn0263667    3459.0\n",
       "dtype: float64"
      ]
     },
     "execution_count": 42,
     "metadata": {},
     "output_type": "execute_result"
    }
   ],
   "source": [
    "matrix.sum(axis=0)"
   ]
  },
  {
   "cell_type": "code",
   "execution_count": 45,
   "metadata": {},
   "outputs": [
    {
     "data": {
      "text/html": [
       "<div>\n",
       "<style scoped>\n",
       "    .dataframe tbody tr th:only-of-type {\n",
       "        vertical-align: middle;\n",
       "    }\n",
       "\n",
       "    .dataframe tbody tr th {\n",
       "        vertical-align: top;\n",
       "    }\n",
       "\n",
       "    .dataframe thead th {\n",
       "        text-align: right;\n",
       "    }\n",
       "</style>\n",
       "<table border=\"1\" class=\"dataframe\">\n",
       "  <thead>\n",
       "    <tr style=\"text-align: right;\">\n",
       "      <th></th>\n",
       "      <th>target_gene</th>\n",
       "      <th>chrom</th>\n",
       "      <th>start</th>\n",
       "      <th>end</th>\n",
       "      <th>srx</th>\n",
       "      <th>log10qval</th>\n",
       "      <th>caller</th>\n",
       "      <th>TF</th>\n",
       "      <th>TF_fbgn</th>\n",
       "    </tr>\n",
       "  </thead>\n",
       "  <tbody>\n",
       "    <tr>\n",
       "      <th>103</th>\n",
       "      <td>FBgn0002121</td>\n",
       "      <td>chr2L</td>\n",
       "      <td>17515</td>\n",
       "      <td>17676</td>\n",
       "      <td>SRX326966</td>\n",
       "      <td>2.69786</td>\n",
       "      <td>macs2</td>\n",
       "      <td>row</td>\n",
       "      <td>FBgn0033998</td>\n",
       "    </tr>\n",
       "    <tr>\n",
       "      <th>104</th>\n",
       "      <td>FBgn0002121</td>\n",
       "      <td>chr2L</td>\n",
       "      <td>17769</td>\n",
       "      <td>18025</td>\n",
       "      <td>SRX326966</td>\n",
       "      <td>50.72078</td>\n",
       "      <td>macs2</td>\n",
       "      <td>row</td>\n",
       "      <td>FBgn0033998</td>\n",
       "    </tr>\n",
       "    <tr>\n",
       "      <th>105</th>\n",
       "      <td>FBgn0002121</td>\n",
       "      <td>chr2L</td>\n",
       "      <td>18168</td>\n",
       "      <td>18260</td>\n",
       "      <td>SRX326966</td>\n",
       "      <td>50.72078</td>\n",
       "      <td>macs2</td>\n",
       "      <td>row</td>\n",
       "      <td>FBgn0033998</td>\n",
       "    </tr>\n",
       "    <tr>\n",
       "      <th>106</th>\n",
       "      <td>FBgn0002121</td>\n",
       "      <td>chr2L</td>\n",
       "      <td>20391</td>\n",
       "      <td>20830</td>\n",
       "      <td>SRX326966</td>\n",
       "      <td>31.25111</td>\n",
       "      <td>macs2</td>\n",
       "      <td>row</td>\n",
       "      <td>FBgn0033998</td>\n",
       "    </tr>\n",
       "    <tr>\n",
       "      <th>107</th>\n",
       "      <td>FBgn0002121</td>\n",
       "      <td>chr2L</td>\n",
       "      <td>20973</td>\n",
       "      <td>21065</td>\n",
       "      <td>SRX326966</td>\n",
       "      <td>31.25111</td>\n",
       "      <td>macs2</td>\n",
       "      <td>row</td>\n",
       "      <td>FBgn0033998</td>\n",
       "    </tr>\n",
       "  </tbody>\n",
       "</table>\n",
       "</div>"
      ],
      "text/plain": [
       "     target_gene  chrom  start    end        srx  log10qval caller   TF  \\\n",
       "103  FBgn0002121  chr2L  17515  17676  SRX326966    2.69786  macs2  row   \n",
       "104  FBgn0002121  chr2L  17769  18025  SRX326966   50.72078  macs2  row   \n",
       "105  FBgn0002121  chr2L  18168  18260  SRX326966   50.72078  macs2  row   \n",
       "106  FBgn0002121  chr2L  20391  20830  SRX326966   31.25111  macs2  row   \n",
       "107  FBgn0002121  chr2L  20973  21065  SRX326966   31.25111  macs2  row   \n",
       "\n",
       "         TF_fbgn  \n",
       "103  FBgn0033998  \n",
       "104  FBgn0033998  \n",
       "105  FBgn0033998  \n",
       "106  FBgn0033998  \n",
       "107  FBgn0033998  "
      ]
     },
     "execution_count": 45,
     "metadata": {},
     "output_type": "execute_result"
    }
   ],
   "source": [
    "row = targene_intersect[targene_intersect.TF_fbgn == 'FBgn0033998']\n",
    "row.head()"
   ]
  },
  {
   "cell_type": "code",
   "execution_count": 46,
   "metadata": {},
   "outputs": [
    {
     "data": {
      "text/plain": [
       "array(['SRX326966'], dtype=object)"
      ]
     },
     "execution_count": 46,
     "metadata": {},
     "output_type": "execute_result"
    }
   ],
   "source": [
    "row.srx.unique()"
   ]
  },
  {
   "cell_type": "code",
   "execution_count": 47,
   "metadata": {},
   "outputs": [
    {
     "data": {
      "text/plain": [
       "array(['macs2', 'spp'], dtype=object)"
      ]
     },
     "execution_count": 47,
     "metadata": {},
     "output_type": "execute_result"
    }
   ],
   "source": [
    "row.caller.unique()"
   ]
  },
  {
   "cell_type": "code",
   "execution_count": 48,
   "metadata": {},
   "outputs": [],
   "source": [
    "row[['chrom','start','end']].to_csv('../output/chip/row.bed', header=None, index=False, sep='\\t')"
   ]
  },
  {
   "cell_type": "code",
   "execution_count": null,
   "metadata": {},
   "outputs": [],
   "source": []
  }
 ],
 "metadata": {
  "kernelspec": {
   "display_name": "Python 3",
   "language": "python",
   "name": "python3"
  },
  "language_info": {
   "codemirror_mode": {
    "name": "ipython",
    "version": 3
   },
   "file_extension": ".py",
   "mimetype": "text/x-python",
   "name": "python",
   "nbconvert_exporter": "python",
   "pygments_lexer": "ipython3",
   "version": "3.6.3"
  }
 },
 "nbformat": 4,
 "nbformat_minor": 2
}
