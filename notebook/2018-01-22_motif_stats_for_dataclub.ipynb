{
 "cells": [
  {
   "cell_type": "code",
   "execution_count": 1,
   "metadata": {},
   "outputs": [],
   "source": [
    "import pandas as pd"
   ]
  },
  {
   "cell_type": "code",
   "execution_count": 17,
   "metadata": {},
   "outputs": [],
   "source": [
    "big = pd.read_table('../output/motif/alldatabases.bed', \n",
    "             names=['chrom','start','end', 'motif_symbol','strand', 'pval','motif_FBgn'])"
   ]
  },
  {
   "cell_type": "code",
   "execution_count": 20,
   "metadata": {},
   "outputs": [],
   "source": [
    "merged = pd.read_table('../output/motif/tf_merge.bed', \n",
    "                       names=['chrom', 'start','end','pval','motif_symbol','motif_FBgn'])"
   ]
  },
  {
   "cell_type": "code",
   "execution_count": 21,
   "metadata": {},
   "outputs": [
    {
     "data": {
      "text/html": [
       "<div>\n",
       "<style scoped>\n",
       "    .dataframe tbody tr th:only-of-type {\n",
       "        vertical-align: middle;\n",
       "    }\n",
       "\n",
       "    .dataframe tbody tr th {\n",
       "        vertical-align: top;\n",
       "    }\n",
       "\n",
       "    .dataframe thead th {\n",
       "        text-align: right;\n",
       "    }\n",
       "</style>\n",
       "<table border=\"1\" class=\"dataframe\">\n",
       "  <thead>\n",
       "    <tr style=\"text-align: right;\">\n",
       "      <th></th>\n",
       "      <th>chrom</th>\n",
       "      <th>start</th>\n",
       "      <th>end</th>\n",
       "      <th>pval</th>\n",
       "      <th>motif_symbol</th>\n",
       "      <th>motif_FBgn</th>\n",
       "    </tr>\n",
       "  </thead>\n",
       "  <tbody>\n",
       "    <tr>\n",
       "      <th>0</th>\n",
       "      <td>chr2L</td>\n",
       "      <td>6782</td>\n",
       "      <td>6789</td>\n",
       "      <td>0.000036</td>\n",
       "      <td>br-Z1</td>\n",
       "      <td>.</td>\n",
       "    </tr>\n",
       "    <tr>\n",
       "      <th>1</th>\n",
       "      <td>chr2L</td>\n",
       "      <td>17019</td>\n",
       "      <td>17026</td>\n",
       "      <td>0.000036</td>\n",
       "      <td>br-Z1</td>\n",
       "      <td>.</td>\n",
       "    </tr>\n",
       "    <tr>\n",
       "      <th>2</th>\n",
       "      <td>chr2L</td>\n",
       "      <td>19846</td>\n",
       "      <td>19853</td>\n",
       "      <td>0.000036</td>\n",
       "      <td>br-Z1</td>\n",
       "      <td>.</td>\n",
       "    </tr>\n",
       "    <tr>\n",
       "      <th>3</th>\n",
       "      <td>chr2L</td>\n",
       "      <td>29403</td>\n",
       "      <td>29410</td>\n",
       "      <td>0.000036</td>\n",
       "      <td>br-Z1</td>\n",
       "      <td>.</td>\n",
       "    </tr>\n",
       "    <tr>\n",
       "      <th>4</th>\n",
       "      <td>chr2L</td>\n",
       "      <td>30047</td>\n",
       "      <td>30054</td>\n",
       "      <td>0.000036</td>\n",
       "      <td>br-Z1</td>\n",
       "      <td>.</td>\n",
       "    </tr>\n",
       "  </tbody>\n",
       "</table>\n",
       "</div>"
      ],
      "text/plain": [
       "   chrom  start    end      pval motif_symbol motif_FBgn\n",
       "0  chr2L   6782   6789  0.000036        br-Z1          .\n",
       "1  chr2L  17019  17026  0.000036        br-Z1          .\n",
       "2  chr2L  19846  19853  0.000036        br-Z1          .\n",
       "3  chr2L  29403  29410  0.000036        br-Z1          .\n",
       "4  chr2L  30047  30054  0.000036        br-Z1          ."
      ]
     },
     "execution_count": 21,
     "metadata": {},
     "output_type": "execute_result"
    }
   ],
   "source": [
    "merged.head()"
   ]
  },
  {
   "cell_type": "code",
   "execution_count": 24,
   "metadata": {},
   "outputs": [],
   "source": [
    "merged['len'] = merged['end'] - merged['start']"
   ]
  },
  {
   "cell_type": "code",
   "execution_count": 25,
   "metadata": {},
   "outputs": [
    {
     "data": {
      "text/html": [
       "<div>\n",
       "<style scoped>\n",
       "    .dataframe tbody tr th:only-of-type {\n",
       "        vertical-align: middle;\n",
       "    }\n",
       "\n",
       "    .dataframe tbody tr th {\n",
       "        vertical-align: top;\n",
       "    }\n",
       "\n",
       "    .dataframe thead th {\n",
       "        text-align: right;\n",
       "    }\n",
       "</style>\n",
       "<table border=\"1\" class=\"dataframe\">\n",
       "  <thead>\n",
       "    <tr style=\"text-align: right;\">\n",
       "      <th></th>\n",
       "      <th>chrom</th>\n",
       "      <th>start</th>\n",
       "      <th>end</th>\n",
       "      <th>pval</th>\n",
       "      <th>motif_symbol</th>\n",
       "      <th>motif_FBgn</th>\n",
       "      <th>len</th>\n",
       "    </tr>\n",
       "  </thead>\n",
       "  <tbody>\n",
       "    <tr>\n",
       "      <th>0</th>\n",
       "      <td>chr2L</td>\n",
       "      <td>6782</td>\n",
       "      <td>6789</td>\n",
       "      <td>0.000036</td>\n",
       "      <td>br-Z1</td>\n",
       "      <td>.</td>\n",
       "      <td>7</td>\n",
       "    </tr>\n",
       "    <tr>\n",
       "      <th>1</th>\n",
       "      <td>chr2L</td>\n",
       "      <td>17019</td>\n",
       "      <td>17026</td>\n",
       "      <td>0.000036</td>\n",
       "      <td>br-Z1</td>\n",
       "      <td>.</td>\n",
       "      <td>7</td>\n",
       "    </tr>\n",
       "    <tr>\n",
       "      <th>2</th>\n",
       "      <td>chr2L</td>\n",
       "      <td>19846</td>\n",
       "      <td>19853</td>\n",
       "      <td>0.000036</td>\n",
       "      <td>br-Z1</td>\n",
       "      <td>.</td>\n",
       "      <td>7</td>\n",
       "    </tr>\n",
       "    <tr>\n",
       "      <th>3</th>\n",
       "      <td>chr2L</td>\n",
       "      <td>29403</td>\n",
       "      <td>29410</td>\n",
       "      <td>0.000036</td>\n",
       "      <td>br-Z1</td>\n",
       "      <td>.</td>\n",
       "      <td>7</td>\n",
       "    </tr>\n",
       "    <tr>\n",
       "      <th>4</th>\n",
       "      <td>chr2L</td>\n",
       "      <td>30047</td>\n",
       "      <td>30054</td>\n",
       "      <td>0.000036</td>\n",
       "      <td>br-Z1</td>\n",
       "      <td>.</td>\n",
       "      <td>7</td>\n",
       "    </tr>\n",
       "  </tbody>\n",
       "</table>\n",
       "</div>"
      ],
      "text/plain": [
       "   chrom  start    end      pval motif_symbol motif_FBgn  len\n",
       "0  chr2L   6782   6789  0.000036        br-Z1          .    7\n",
       "1  chr2L  17019  17026  0.000036        br-Z1          .    7\n",
       "2  chr2L  19846  19853  0.000036        br-Z1          .    7\n",
       "3  chr2L  29403  29410  0.000036        br-Z1          .    7\n",
       "4  chr2L  30047  30054  0.000036        br-Z1          .    7"
      ]
     },
     "execution_count": 25,
     "metadata": {},
     "output_type": "execute_result"
    }
   ],
   "source": [
    "merged.head()"
   ]
  },
  {
   "cell_type": "code",
   "execution_count": 22,
   "metadata": {},
   "outputs": [],
   "source": [
    "import seaborn as sb"
   ]
  },
  {
   "cell_type": "code",
   "execution_count": 31,
   "metadata": {},
   "outputs": [
    {
     "data": {
      "text/plain": [
       "<matplotlib.axes._subplots.AxesSubplot at 0x2aad1615e588>"
      ]
     },
     "execution_count": 31,
     "metadata": {},
     "output_type": "execute_result"
    },
    {
     "data": {
      "image/png": "[encoded data removed]",
      "text/plain": [
       "<matplotlib.figure.Figure at 0x2aad1615e9e8>"
      ]
     },
     "metadata": {},
     "output_type": "display_data"
    }
   ],
   "source": [
    "sb.distplot(merged.len)"
   ]
  },
  {
   "cell_type": "code",
   "execution_count": 34,
   "metadata": {},
   "outputs": [
    {
     "data": {
      "text/plain": [
       "count    1.055314e+07\n",
       "mean     1.027716e+01\n",
       "std      4.206574e+00\n",
       "min      1.000000e+00\n",
       "25%      7.000000e+00\n",
       "50%      9.000000e+00\n",
       "75%      1.200000e+01\n",
       "max      9.070000e+02\n",
       "Name: len, dtype: float64"
      ]
     },
     "execution_count": 34,
     "metadata": {},
     "output_type": "execute_result"
    }
   ],
   "source": [
    "merged['len'].describe()"
   ]
  },
  {
   "cell_type": "code",
   "execution_count": null,
   "metadata": {},
   "outputs": [],
   "source": []
  }
 ],
 "metadata": {
  "kernelspec": {
   "display_name": "Python [conda env:s2rnai]",
   "language": "python",
   "name": "conda-env-s2rnai-py"
  },
  "language_info": {
   "codemirror_mode": {
    "name": "ipython",
    "version": 3
   },
   "file_extension": ".py",
   "mimetype": "text/x-python",
   "name": "python",
   "nbconvert_exporter": "python",
   "pygments_lexer": "ipython3",
   "version": "3.6.3"
  }
 },
 "nbformat": 4,
 "nbformat_minor": 2
}
