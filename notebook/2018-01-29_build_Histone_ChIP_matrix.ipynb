{
 "cells": [
  {
   "cell_type": "markdown",
   "metadata": {},
   "source": [
    "# Build Histone ChIP Binary Matrix\n",
    "\n",
    "Goal: binary matrix TF/gene for Histones\n",
    "\n",
    "Need to do: \n",
    "- get antibody information \n",
    "- collapse to gene level: if histone is in a gene\n"
   ]
  },
  {
   "cell_type": "code",
   "execution_count": 3,
   "metadata": {},
   "outputs": [],
   "source": [
    "import pandas as pd\n",
    "import gffutils\n",
    "from gffutils import pybedtools_integration\n",
    "import pybedtools\n",
    "from pybedtools.featurefuncs import gff2bed"
   ]
  },
  {
   "cell_type": "code",
   "execution_count": 4,
   "metadata": {},
   "outputs": [],
   "source": [
    "hist = pd.read_table('../output/chip/ALL_HIST_CHIP_filtered.bed', header=None,\n",
    "                     names=['chrom','start','end','srx','score','caller'])"
   ]
  },
  {
   "cell_type": "code",
   "execution_count": 5,
   "metadata": {},
   "outputs": [],
   "source": [
    "spreadsheet = pd.read_csv('../output/chip/20171103_s2cell_chip-seq.csv')\n",
    "#For now we are excluding datasets with no input: \n",
    "spreadsheet = spreadsheet[spreadsheet.input != 'no input?']\n",
    "antibody_table = spreadsheet[['srx','target']]"
   ]
  },
  {
   "cell_type": "code",
   "execution_count": 6,
   "metadata": {},
   "outputs": [],
   "source": [
    "hist2 = hist.merge(antibody_table, on='srx', how='left')"
   ]
  },
  {
   "cell_type": "code",
   "execution_count": 7,
   "metadata": {},
   "outputs": [
    {
     "data": {
      "text/html": [
       "<div>\n",
       "<style scoped>\n",
       "    .dataframe tbody tr th:only-of-type {\n",
       "        vertical-align: middle;\n",
       "    }\n",
       "\n",
       "    .dataframe tbody tr th {\n",
       "        vertical-align: top;\n",
       "    }\n",
       "\n",
       "    .dataframe thead th {\n",
       "        text-align: right;\n",
       "    }\n",
       "</style>\n",
       "<table border=\"1\" class=\"dataframe\">\n",
       "  <thead>\n",
       "    <tr style=\"text-align: right;\">\n",
       "      <th></th>\n",
       "      <th>chrom</th>\n",
       "      <th>start</th>\n",
       "      <th>end</th>\n",
       "      <th>srx</th>\n",
       "      <th>score</th>\n",
       "      <th>caller</th>\n",
       "      <th>target</th>\n",
       "    </tr>\n",
       "  </thead>\n",
       "  <tbody>\n",
       "    <tr>\n",
       "      <th>0</th>\n",
       "      <td>chr2L</td>\n",
       "      <td>16617</td>\n",
       "      <td>16893</td>\n",
       "      <td>SRX191913</td>\n",
       "      <td>33.40816</td>\n",
       "      <td>macs2</td>\n",
       "      <td>CTCF</td>\n",
       "    </tr>\n",
       "    <tr>\n",
       "      <th>1</th>\n",
       "      <td>chr2L</td>\n",
       "      <td>21242</td>\n",
       "      <td>21484</td>\n",
       "      <td>SRX191913</td>\n",
       "      <td>7.92056</td>\n",
       "      <td>macs2</td>\n",
       "      <td>CTCF</td>\n",
       "    </tr>\n",
       "    <tr>\n",
       "      <th>2</th>\n",
       "      <td>chr2L</td>\n",
       "      <td>34118</td>\n",
       "      <td>34304</td>\n",
       "      <td>SRX191913</td>\n",
       "      <td>4.27362</td>\n",
       "      <td>macs2</td>\n",
       "      <td>CTCF</td>\n",
       "    </tr>\n",
       "    <tr>\n",
       "      <th>3</th>\n",
       "      <td>chr2L</td>\n",
       "      <td>35499</td>\n",
       "      <td>35830</td>\n",
       "      <td>SRX191913</td>\n",
       "      <td>39.60189</td>\n",
       "      <td>macs2</td>\n",
       "      <td>CTCF</td>\n",
       "    </tr>\n",
       "    <tr>\n",
       "      <th>4</th>\n",
       "      <td>chr2L</td>\n",
       "      <td>43248</td>\n",
       "      <td>43463</td>\n",
       "      <td>SRX191913</td>\n",
       "      <td>3.57781</td>\n",
       "      <td>macs2</td>\n",
       "      <td>CTCF</td>\n",
       "    </tr>\n",
       "  </tbody>\n",
       "</table>\n",
       "</div>"
      ],
      "text/plain": [
       "   chrom  start    end        srx     score caller target\n",
       "0  chr2L  16617  16893  SRX191913  33.40816  macs2   CTCF\n",
       "1  chr2L  21242  21484  SRX191913   7.92056  macs2   CTCF\n",
       "2  chr2L  34118  34304  SRX191913   4.27362  macs2   CTCF\n",
       "3  chr2L  35499  35830  SRX191913  39.60189  macs2   CTCF\n",
       "4  chr2L  43248  43463  SRX191913   3.57781  macs2   CTCF"
      ]
     },
     "execution_count": 7,
     "metadata": {},
     "output_type": "execute_result"
    }
   ],
   "source": [
    "hist2.head()"
   ]
  },
  {
   "cell_type": "code",
   "execution_count": 8,
   "metadata": {},
   "outputs": [
    {
     "data": {
      "text/plain": [
       "(33, 8)"
      ]
     },
     "execution_count": 8,
     "metadata": {},
     "output_type": "execute_result"
    }
   ],
   "source": [
    "len(hist2.srx.unique()), len(hist2.target.unique())"
   ]
  },
  {
   "cell_type": "markdown",
   "metadata": {},
   "source": [
    "### Restrict region (?)"
   ]
  },
  {
   "cell_type": "code",
   "execution_count": 9,
   "metadata": {},
   "outputs": [],
   "source": [
    "#bed file containing introns and 1 kb upstream\n",
    "intslop = pybedtools.BedTool('../output/dm6_intron_sloptranscript.bed')"
   ]
  },
  {
   "cell_type": "code",
   "execution_count": 10,
   "metadata": {},
   "outputs": [],
   "source": [
    "intersect = pybedtools.BedTool.from_dataframe(hist2).intersect(intslop).to_dataframe()"
   ]
  },
  {
   "cell_type": "code",
   "execution_count": 11,
   "metadata": {},
   "outputs": [
    {
     "data": {
      "text/html": [
       "<div>\n",
       "<style scoped>\n",
       "    .dataframe tbody tr th:only-of-type {\n",
       "        vertical-align: middle;\n",
       "    }\n",
       "\n",
       "    .dataframe tbody tr th {\n",
       "        vertical-align: top;\n",
       "    }\n",
       "\n",
       "    .dataframe thead th {\n",
       "        text-align: right;\n",
       "    }\n",
       "</style>\n",
       "<table border=\"1\" class=\"dataframe\">\n",
       "  <thead>\n",
       "    <tr style=\"text-align: right;\">\n",
       "      <th></th>\n",
       "      <th>chrom</th>\n",
       "      <th>start</th>\n",
       "      <th>end</th>\n",
       "      <th>name</th>\n",
       "      <th>score</th>\n",
       "      <th>strand</th>\n",
       "      <th>thickStart</th>\n",
       "    </tr>\n",
       "  </thead>\n",
       "  <tbody>\n",
       "    <tr>\n",
       "      <th>0</th>\n",
       "      <td>chr2L</td>\n",
       "      <td>16617</td>\n",
       "      <td>16893</td>\n",
       "      <td>SRX191913</td>\n",
       "      <td>33.40816</td>\n",
       "      <td>macs2</td>\n",
       "      <td>CTCF</td>\n",
       "    </tr>\n",
       "    <tr>\n",
       "      <th>1</th>\n",
       "      <td>chr2L</td>\n",
       "      <td>21376</td>\n",
       "      <td>21484</td>\n",
       "      <td>SRX191913</td>\n",
       "      <td>7.92056</td>\n",
       "      <td>macs2</td>\n",
       "      <td>CTCF</td>\n",
       "    </tr>\n",
       "    <tr>\n",
       "      <th>2</th>\n",
       "      <td>chr2L</td>\n",
       "      <td>34288</td>\n",
       "      <td>34304</td>\n",
       "      <td>SRX191913</td>\n",
       "      <td>4.27362</td>\n",
       "      <td>macs2</td>\n",
       "      <td>CTCF</td>\n",
       "    </tr>\n",
       "    <tr>\n",
       "      <th>3</th>\n",
       "      <td>chr2L</td>\n",
       "      <td>35499</td>\n",
       "      <td>35745</td>\n",
       "      <td>SRX191913</td>\n",
       "      <td>39.60189</td>\n",
       "      <td>macs2</td>\n",
       "      <td>CTCF</td>\n",
       "    </tr>\n",
       "    <tr>\n",
       "      <th>4</th>\n",
       "      <td>chr2L</td>\n",
       "      <td>43248</td>\n",
       "      <td>43463</td>\n",
       "      <td>SRX191913</td>\n",
       "      <td>3.57781</td>\n",
       "      <td>macs2</td>\n",
       "      <td>CTCF</td>\n",
       "    </tr>\n",
       "  </tbody>\n",
       "</table>\n",
       "</div>"
      ],
      "text/plain": [
       "   chrom  start    end       name     score strand thickStart\n",
       "0  chr2L  16617  16893  SRX191913  33.40816  macs2       CTCF\n",
       "1  chr2L  21376  21484  SRX191913   7.92056  macs2       CTCF\n",
       "2  chr2L  34288  34304  SRX191913   4.27362  macs2       CTCF\n",
       "3  chr2L  35499  35745  SRX191913  39.60189  macs2       CTCF\n",
       "4  chr2L  43248  43463  SRX191913   3.57781  macs2       CTCF"
      ]
     },
     "execution_count": 11,
     "metadata": {},
     "output_type": "execute_result"
    }
   ],
   "source": [
    "intersect.head()"
   ]
  },
  {
   "cell_type": "markdown",
   "metadata": {},
   "source": [
    "## Target gene intersect: "
   ]
  },
  {
   "cell_type": "code",
   "execution_count": 12,
   "metadata": {},
   "outputs": [],
   "source": [
    "gene_info = pybedtools.BedTool('../output/chip/dmel6.12.genes.bed')"
   ]
  },
  {
   "cell_type": "code",
   "execution_count": 14,
   "metadata": {},
   "outputs": [
    {
     "name": "stderr",
     "output_type": "stream",
     "text": [
      "/data/bergeric/miniconda3/envs/s2rnai/lib/python3.6/site-packages/pybedtools/bedtool.py:3287: UserWarning: Default names for filetype bed are:\n",
      "['chrom', 'start', 'end', 'name', 'score', 'strand', 'thickStart', 'thickEnd', 'itemRgb', 'blockCount', 'blockSizes', 'blockStarts']\n",
      "but file has 13 fields; you can supply custom names with the `names` kwarg\n",
      "  % (self.file_type, _names, self.field_count()))\n"
     ]
    }
   ],
   "source": [
    "targene_intersect = gene_info.intersect(pybedtools.BedTool.from_dataframe(intersect), \n",
    "                                        wb=True).saveas().to_dataframe()[[3,6,7,8,9,10,11,12]]"
   ]
  },
  {
   "cell_type": "code",
   "execution_count": 15,
   "metadata": {},
   "outputs": [],
   "source": [
    "targene_intersect.columns = ['target_gene','chrom','start','end','srx','log10qval','caller','antibody']"
   ]
  },
  {
   "cell_type": "code",
   "execution_count": 16,
   "metadata": {},
   "outputs": [
    {
     "data": {
      "text/html": [
       "<div>\n",
       "<style scoped>\n",
       "    .dataframe tbody tr th:only-of-type {\n",
       "        vertical-align: middle;\n",
       "    }\n",
       "\n",
       "    .dataframe tbody tr th {\n",
       "        vertical-align: top;\n",
       "    }\n",
       "\n",
       "    .dataframe thead th {\n",
       "        text-align: right;\n",
       "    }\n",
       "</style>\n",
       "<table border=\"1\" class=\"dataframe\">\n",
       "  <thead>\n",
       "    <tr style=\"text-align: right;\">\n",
       "      <th></th>\n",
       "      <th>target_gene</th>\n",
       "      <th>chrom</th>\n",
       "      <th>start</th>\n",
       "      <th>end</th>\n",
       "      <th>srx</th>\n",
       "      <th>log10qval</th>\n",
       "      <th>caller</th>\n",
       "      <th>antibody</th>\n",
       "    </tr>\n",
       "  </thead>\n",
       "  <tbody>\n",
       "    <tr>\n",
       "      <th>0</th>\n",
       "      <td>FBgn0031208</td>\n",
       "      <td>chr2L</td>\n",
       "      <td>8116</td>\n",
       "      <td>8192</td>\n",
       "      <td>SRX193335</td>\n",
       "      <td>40.98030</td>\n",
       "      <td>macs2</td>\n",
       "      <td>H3K4me1</td>\n",
       "    </tr>\n",
       "    <tr>\n",
       "      <th>1</th>\n",
       "      <td>FBgn0031208</td>\n",
       "      <td>chr2L</td>\n",
       "      <td>8116</td>\n",
       "      <td>8192</td>\n",
       "      <td>SRX193336</td>\n",
       "      <td>37.41729</td>\n",
       "      <td>macs2</td>\n",
       "      <td>H3K4me1</td>\n",
       "    </tr>\n",
       "    <tr>\n",
       "      <th>2</th>\n",
       "      <td>FBgn0031208</td>\n",
       "      <td>chr2L</td>\n",
       "      <td>8116</td>\n",
       "      <td>8192</td>\n",
       "      <td>SRX193321</td>\n",
       "      <td>18.49746</td>\n",
       "      <td>macs2</td>\n",
       "      <td>H3K4me1</td>\n",
       "    </tr>\n",
       "    <tr>\n",
       "      <th>3</th>\n",
       "      <td>FBgn0031208</td>\n",
       "      <td>chr2L</td>\n",
       "      <td>8116</td>\n",
       "      <td>8192</td>\n",
       "      <td>SRX193334</td>\n",
       "      <td>3.58543</td>\n",
       "      <td>macs2</td>\n",
       "      <td>H3K27me3</td>\n",
       "    </tr>\n",
       "    <tr>\n",
       "      <th>4</th>\n",
       "      <td>FBgn0031208</td>\n",
       "      <td>chr2L</td>\n",
       "      <td>8116</td>\n",
       "      <td>8192</td>\n",
       "      <td>SRX193320</td>\n",
       "      <td>2.79066</td>\n",
       "      <td>macs2</td>\n",
       "      <td>H3K27me3</td>\n",
       "    </tr>\n",
       "  </tbody>\n",
       "</table>\n",
       "</div>"
      ],
      "text/plain": [
       "   target_gene  chrom  start   end        srx  log10qval caller  antibody\n",
       "0  FBgn0031208  chr2L   8116  8192  SRX193335   40.98030  macs2   H3K4me1\n",
       "1  FBgn0031208  chr2L   8116  8192  SRX193336   37.41729  macs2   H3K4me1\n",
       "2  FBgn0031208  chr2L   8116  8192  SRX193321   18.49746  macs2   H3K4me1\n",
       "3  FBgn0031208  chr2L   8116  8192  SRX193334    3.58543  macs2  H3K27me3\n",
       "4  FBgn0031208  chr2L   8116  8192  SRX193320    2.79066  macs2  H3K27me3"
      ]
     },
     "execution_count": 16,
     "metadata": {},
     "output_type": "execute_result"
    }
   ],
   "source": [
    "targene_intersect.head()"
   ]
  },
  {
   "cell_type": "markdown",
   "metadata": {},
   "source": [
    "## Collapse to binary: \n",
    "- New matrix w/no duplicates"
   ]
  },
  {
   "cell_type": "code",
   "execution_count": 23,
   "metadata": {},
   "outputs": [],
   "source": [
    "#If peak in gene region count it as a 1 \n",
    "#only need gene,TF_fbgn\n",
    "binary_collapse = targene_intersect[['target_gene','antibody']]"
   ]
  },
  {
   "cell_type": "code",
   "execution_count": 24,
   "metadata": {},
   "outputs": [
    {
     "name": "stderr",
     "output_type": "stream",
     "text": [
      "/data/bergeric/miniconda3/envs/s2rnai/lib/python3.6/site-packages/ipykernel/__main__.py:1: SettingWithCopyWarning: \n",
      "A value is trying to be set on a copy of a slice from a DataFrame.\n",
      "Try using .loc[row_indexer,col_indexer] = value instead\n",
      "\n",
      "See the caveats in the documentation: http://pandas.pydata.org/pandas-docs/stable/indexing.html#indexing-view-versus-copy\n",
      "  if __name__ == '__main__':\n"
     ]
    }
   ],
   "source": [
    "binary_collapse['binary'] = 1"
   ]
  },
  {
   "cell_type": "code",
   "execution_count": 25,
   "metadata": {},
   "outputs": [
    {
     "name": "stderr",
     "output_type": "stream",
     "text": [
      "/data/bergeric/miniconda3/envs/s2rnai/lib/python3.6/site-packages/ipykernel/__main__.py:1: SettingWithCopyWarning: \n",
      "A value is trying to be set on a copy of a slice from a DataFrame\n",
      "\n",
      "See the caveats in the documentation: http://pandas.pydata.org/pandas-docs/stable/indexing.html#indexing-view-versus-copy\n",
      "  if __name__ == '__main__':\n"
     ]
    }
   ],
   "source": [
    "binary_collapse.drop_duplicates(inplace=True)"
   ]
  },
  {
   "cell_type": "code",
   "execution_count": 26,
   "metadata": {},
   "outputs": [],
   "source": [
    "#index can't have duplicates\n",
    "binary_collapse.set_index(['target_gene','antibody'], inplace=True)\n",
    "matrix = binary_collapse.unstack()"
   ]
  },
  {
   "cell_type": "code",
   "execution_count": 29,
   "metadata": {},
   "outputs": [],
   "source": [
    "matrix.fillna(value=0).to_csv('../output/chip/histone_matrix', sep='\\t')"
   ]
  }
 ],
 "metadata": {
  "kernelspec": {
   "display_name": "Python [conda env:s2rnai]",
   "language": "python",
   "name": "conda-env-s2rnai-py"
  },
  "language_info": {
   "codemirror_mode": {
    "name": "ipython",
    "version": 3
   },
   "file_extension": ".py",
   "mimetype": "text/x-python",
   "name": "python",
   "nbconvert_exporter": "python",
   "pygments_lexer": "ipython3",
   "version": "3.6.3"
  }
 },
 "nbformat": 4,
 "nbformat_minor": 2
}
