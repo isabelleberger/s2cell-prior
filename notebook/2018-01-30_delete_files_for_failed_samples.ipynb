{
 "cells": [
  {
   "cell_type": "markdown",
   "metadata": {},
   "source": [
    "# Remove files so snakemake stops getting confused"
   ]
  },
  {
   "cell_type": "code",
   "execution_count": 23,
   "metadata": {},
   "outputs": [],
   "source": [
    "import os\n",
    "import shutil\n",
    "import glob\n",
    "import pandas as pd"
   ]
  },
  {
   "cell_type": "code",
   "execution_count": 2,
   "metadata": {},
   "outputs": [],
   "source": [
    "rerun = ['SRX149192', 'SRX885700', 'ERX402137', 'ERX402138','SRX885698', 'SRX883604','SRX1179573','SRX054533',\n",
    "'SRX495789', 'SRX1389384','SRX2055961','SRX2055966','SRX2055958', 'ERX402108','SRX330269','ERX402133','SRX306190',\n",
    "'ERX402112','SRX359797','SRX1433400', 'SRX306193','ERX1403350', 'SRX1179572','SRX1433401','SRX018632','SRX1389387',\n",
    " 'SRX326970','SRX2055964','SRX885702','SRX2055945','SRX326969', 'SRX447393','SRX330270','SRX495270','SRX2055944',\n",
    "'SRX097620','SRX359798','SRX883605','SRX018631','SRX306196','SRX018629','SRX2055953','SRX149189','SRX1389388',\n",
    "'SRX018630','SRX1433397','ERX402114','SRX495269','SRX1433399','SRX495277','SRX495278','SRX495290','SRX495289']"
   ]
  },
  {
   "cell_type": "code",
   "execution_count": 4,
   "metadata": {},
   "outputs": [],
   "source": [
    "spreadsheet = pd.read_csv('../output/chip/20171103_s2cell_chip-seq.csv')\n",
    "spreadsheet = spreadsheet[spreadsheet.input != 'no input?']"
   ]
  },
  {
   "cell_type": "code",
   "execution_count": 24,
   "metadata": {},
   "outputs": [],
   "source": [
    "#Delete everything for the samples I want to rerun\n",
    "for SRX in rerun:\n",
    "    srr = spreadsheet[spreadsheet.srx == SRX].srr.values[0].split('|')\n",
    "    for val in srr:\n",
    "        SRR = val.strip()\n",
    "        files = glob.glob('../chipseq-wf/data/chipseq_samples/'+SRR+'/*')\n",
    "        for f in files:\n",
    "            try:\n",
    "                os.remove(f)\n",
    "            except: \n",
    "                shutil.rmtree(f)"
   ]
  },
  {
   "cell_type": "code",
   "execution_count": 32,
   "metadata": {},
   "outputs": [],
   "source": [
    "# Also removing all of the old symlinked fastqs because I had to move orig files to new location\n",
    "fastqs = glob.glob('../chipseq-wf/data/chipseq_samples/*/*_R[1,2].fastq.gz')\n",
    "for file in fastqs:\n",
    "    os.remove(file)"
   ]
  }
 ],
 "metadata": {
  "kernelspec": {
   "display_name": "Python [conda env:s2rnai]",
   "language": "python",
   "name": "conda-env-s2rnai-py"
  },
  "language_info": {
   "codemirror_mode": {
    "name": "ipython",
    "version": 3
   },
   "file_extension": ".py",
   "mimetype": "text/x-python",
   "name": "python",
   "nbconvert_exporter": "python",
   "pygments_lexer": "ipython3",
   "version": "3.6.3"
  }
 },
 "nbformat": 4,
 "nbformat_minor": 2
}
