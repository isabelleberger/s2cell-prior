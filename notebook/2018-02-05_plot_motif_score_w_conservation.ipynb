{
 "cells": [
  {
   "cell_type": "markdown",
   "metadata": {},
   "source": [
    "# What's going on with conserved motifs? \n",
    "\n",
    "- scatter plot max - log10 p value motif vs max(or median) conservation score in search region \n",
    "- see if different classes\n",
    "- add an occupancy dimension? \n",
    "\n",
    "If I keep going with this: \n",
    "- pick 1 TF with more occupancy\n",
    "- get from Haiwang: D. virilis genome, 1-1 orthologs, gene models"
   ]
  },
  {
   "cell_type": "code",
   "execution_count": 13,
   "metadata": {},
   "outputs": [],
   "source": [
    "import pandas as pd\n",
    "import seaborn as sb\n",
    "import numpy as np\n",
    "import pybedtools"
   ]
  },
  {
   "cell_type": "code",
   "execution_count": 14,
   "metadata": {},
   "outputs": [
    {
     "data": {
      "text/html": [
       "<div>\n",
       "<style scoped>\n",
       "    .dataframe tbody tr th:only-of-type {\n",
       "        vertical-align: middle;\n",
       "    }\n",
       "\n",
       "    .dataframe tbody tr th {\n",
       "        vertical-align: top;\n",
       "    }\n",
       "\n",
       "    .dataframe thead th {\n",
       "        text-align: right;\n",
       "    }\n",
       "</style>\n",
       "<table border=\"1\" class=\"dataframe\">\n",
       "  <thead>\n",
       "    <tr style=\"text-align: right;\">\n",
       "      <th></th>\n",
       "      <th>chrom</th>\n",
       "      <th>start</th>\n",
       "      <th>end</th>\n",
       "      <th>pval</th>\n",
       "      <th>motif_symbol</th>\n",
       "      <th>motif_FBgn</th>\n",
       "    </tr>\n",
       "  </thead>\n",
       "  <tbody>\n",
       "    <tr>\n",
       "      <th>0</th>\n",
       "      <td>chr2L</td>\n",
       "      <td>6782</td>\n",
       "      <td>6789</td>\n",
       "      <td>0.000036</td>\n",
       "      <td>br-Z1</td>\n",
       "      <td>.</td>\n",
       "    </tr>\n",
       "    <tr>\n",
       "      <th>1</th>\n",
       "      <td>chr2L</td>\n",
       "      <td>17019</td>\n",
       "      <td>17026</td>\n",
       "      <td>0.000036</td>\n",
       "      <td>br-Z1</td>\n",
       "      <td>.</td>\n",
       "    </tr>\n",
       "    <tr>\n",
       "      <th>2</th>\n",
       "      <td>chr2L</td>\n",
       "      <td>19846</td>\n",
       "      <td>19853</td>\n",
       "      <td>0.000036</td>\n",
       "      <td>br-Z1</td>\n",
       "      <td>.</td>\n",
       "    </tr>\n",
       "    <tr>\n",
       "      <th>3</th>\n",
       "      <td>chr2L</td>\n",
       "      <td>29403</td>\n",
       "      <td>29410</td>\n",
       "      <td>0.000036</td>\n",
       "      <td>br-Z1</td>\n",
       "      <td>.</td>\n",
       "    </tr>\n",
       "    <tr>\n",
       "      <th>4</th>\n",
       "      <td>chr2L</td>\n",
       "      <td>30047</td>\n",
       "      <td>30054</td>\n",
       "      <td>0.000036</td>\n",
       "      <td>br-Z1</td>\n",
       "      <td>.</td>\n",
       "    </tr>\n",
       "  </tbody>\n",
       "</table>\n",
       "</div>"
      ],
      "text/plain": [
       "   chrom  start    end      pval motif_symbol motif_FBgn\n",
       "0  chr2L   6782   6789  0.000036        br-Z1          .\n",
       "1  chr2L  17019  17026  0.000036        br-Z1          .\n",
       "2  chr2L  19846  19853  0.000036        br-Z1          .\n",
       "3  chr2L  29403  29410  0.000036        br-Z1          .\n",
       "4  chr2L  30047  30054  0.000036        br-Z1          ."
      ]
     },
     "execution_count": 14,
     "metadata": {},
     "output_type": "execute_result"
    }
   ],
   "source": [
    "motifs = pd.read_table('../output/motif/tf_merge.bed', header=None, names=['chrom', 'start','end','pval',\n",
    "                                                                           'motif_symbol','motif_FBgn'])\n",
    "motifs.head()"
   ]
  },
  {
   "cell_type": "markdown",
   "metadata": {},
   "source": [
    "# Make necessary intersected files\n",
    "This is really memory intensive so kernel always seems to die when I do it in the notebook. \n",
    "- get phastcons for just the region of interest by intersect w bed file containing introns and 1 kb upstream\n",
    "- get gene information\n",
    "\n",
    "```\n",
    "bedtools intersect -a dm6_phastcons.bed -b ../dm6_intron_sloptranscript.bed > phastcons_in_region\n",
    "\n",
    "bedtools intersect -a ../chip/dmel6.12.genes.bed -b phastcons_in_region -wb > phastcons_in_region_wgene\n",
    "\n",
    "```\n",
    "trimmed the wanted columns into new file \"2nd_wgenephastconsinregion.bed\" and then did: \n",
    "```\n",
    "bedtools intersect -a tf_merge.bed -b 2nd_wgenephastconsinregion.bed -wo > wmotif_gene_phastcons_in_region\n",
    "```\n",
    "to get motif information\n"
   ]
  },
  {
   "cell_type": "code",
   "execution_count": null,
   "metadata": {},
   "outputs": [],
   "source": [
    "motifs['logp'] = - np.log10(motifs.pval)"
   ]
  },
  {
   "cell_type": "code",
   "execution_count": null,
   "metadata": {},
   "outputs": [],
   "source": [
    "motifs.head()"
   ]
  },
  {
   "cell_type": "code",
   "execution_count": null,
   "metadata": {},
   "outputs": [],
   "source": []
  }
 ],
 "metadata": {
  "kernelspec": {
   "display_name": "Python [conda env:s2rnai]",
   "language": "python",
   "name": "conda-env-s2rnai-py"
  },
  "language_info": {
   "codemirror_mode": {
    "name": "ipython",
    "version": 3
   },
   "file_extension": ".py",
   "mimetype": "text/x-python",
   "name": "python",
   "nbconvert_exporter": "python",
   "pygments_lexer": "ipython3",
   "version": "3.6.3"
  }
 },
 "nbformat": 4,
 "nbformat_minor": 2
}
