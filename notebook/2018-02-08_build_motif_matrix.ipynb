{
 "cells": [
  {
   "cell_type": "markdown",
   "metadata": {},
   "source": [
    "# Working binary motif matrix"
   ]
  },
  {
   "cell_type": "code",
   "execution_count": 1,
   "metadata": {},
   "outputs": [],
   "source": [
    "import pandas as pd\n",
    "import gffutils\n",
    "from gffutils import pybedtools_integration\n",
    "import pybedtools\n",
    "from pybedtools.featurefuncs import gff2bed"
   ]
  },
  {
   "cell_type": "code",
   "execution_count": 2,
   "metadata": {},
   "outputs": [],
   "source": [
    "df = pd.read_table('../output/motif/tf_merge.bed', header=None, \n",
    "              names=['chrom', 'start','end','pval','motif_symbol','motif_FBgn'])"
   ]
  },
  {
   "cell_type": "code",
   "execution_count": 3,
   "metadata": {},
   "outputs": [
    {
     "data": {
      "text/plain": [
       "327"
      ]
     },
     "execution_count": 3,
     "metadata": {},
     "output_type": "execute_result"
    }
   ],
   "source": [
    "len(df.motif_FBgn.unique())"
   ]
  },
  {
   "cell_type": "markdown",
   "metadata": {},
   "source": [
    "## fix blank motif fbgns"
   ]
  },
  {
   "cell_type": "code",
   "execution_count": 3,
   "metadata": {},
   "outputs": [
    {
     "data": {
      "text/plain": [
       "array(['br-Z1', 'br-Z3', 'br-Z4', 'BEAF-32B', 'br-Z2', 'Cf2-II', 'dsx-F',\n",
       "       'dsx-M', 'Espl', 'His2B', 'HLHm5', 'p120', 'SuH', 'suHw'], dtype=object)"
      ]
     },
     "execution_count": 3,
     "metadata": {},
     "output_type": "execute_result"
    }
   ],
   "source": [
    "df[df.motif_FBgn == '.'].motif_symbol.unique()"
   ]
  },
  {
   "cell_type": "code",
   "execution_count": 9,
   "metadata": {},
   "outputs": [],
   "source": [
    "df_copy = df.copy()"
   ]
  },
  {
   "cell_type": "code",
   "execution_count": 5,
   "metadata": {},
   "outputs": [],
   "source": [
    "df_copy.loc[df_copy.motif_symbol == 'br-Z1', 'motif_FBgn'] = 'FBgn0283451'\n",
    "df_copy.loc[df_copy.motif_symbol == 'br-Z2', 'motif_FBgn'] = 'FBgn0283451'\n",
    "df_copy.loc[df_copy.motif_symbol == 'br-Z3', 'motif_FBgn'] = 'FBgn0283451'\n",
    "df_copy.loc[df_copy.motif_symbol == 'br-Z4', 'motif_FBgn'] = 'FBgn0283451'\n",
    "df_copy.loc[df_copy.motif_symbol == 'BEAF-32B', 'motif_FBgn'] = 'FBgn0015602'\n",
    "df_copy.loc[df_copy.motif_symbol == 'dsx-F', 'motif_FBgn'] = 'FBgn0000504'\n",
    "df_copy.loc[df_copy.motif_symbol == 'dsx-M', 'motif_FBgn'] = 'FBgn0000504'\n",
    "df_copy.loc[df_copy.motif_symbol == 'Espl', 'motif_FBgn'] = 'FBgn0000591'\n",
    "df_copy.loc[df_copy.motif_symbol == 'His2B', 'motif_FBgn'] = 'FBgn0001198'\n",
    "df_copy.loc[df_copy.motif_symbol == 'HLHm5', 'motif_FBgn'] = 'FBgn0002631'\n",
    "df_copy.loc[df_copy.motif_symbol == 'p120', 'motif_FBgn'] = 'FBgn0260799'\n",
    "df_copy.loc[df_copy.motif_symbol == 'suHw', 'motif_FBgn'] = 'FBgn0003567'\n",
    "df_copy.loc[df_copy.motif_symbol == 'SuH', 'motif_FBgn'] = 'FBgn0004837'"
   ]
  },
  {
   "cell_type": "code",
   "execution_count": 6,
   "metadata": {},
   "outputs": [],
   "source": [
    "#save updated tf_merge\n",
    "df_copy.to_csv('../output/motif/tf_merge.bed', sep='\\t', header=None, index=False)"
   ]
  },
  {
   "cell_type": "markdown",
   "metadata": {},
   "source": [
    "# filter for RNAi TFs "
   ]
  },
  {
   "cell_type": "code",
   "execution_count": 10,
   "metadata": {},
   "outputs": [],
   "source": [
    "TF_list = pd.read_table('../output/list_of_tfs.txt', header=None)\n",
    "TF_list.columns=['TF']"
   ]
  },
  {
   "cell_type": "code",
   "execution_count": 11,
   "metadata": {},
   "outputs": [],
   "source": [
    "# make dictionary of alt fbgns\n",
    "\n",
    "fbgn = {}\n",
    "with open('/data/LCDB/lcdb-references/dmel/r6-16/fb_annotation/dmel_r6-16.fb_annotation') as f:\n",
    "    next(f)\n",
    "    for line in f:\n",
    "        split = line.split('\\t')\n",
    "        first = split[1]\n",
    "        seconds = split[2].split(',')\n",
    "        fbgn[first] = first\n",
    "        for x in seconds:\n",
    "            if x:\n",
    "                fbgn[x] = first"
   ]
  },
  {
   "cell_type": "code",
   "execution_count": 12,
   "metadata": {},
   "outputs": [],
   "source": [
    "TF_list['update'] = TF_list.TF.map(lambda x: fbgn[x])"
   ]
  },
  {
   "cell_type": "code",
   "execution_count": 13,
   "metadata": {},
   "outputs": [],
   "source": [
    "TF_list.drop('TF', axis=1, inplace=True)"
   ]
  },
  {
   "cell_type": "code",
   "execution_count": 14,
   "metadata": {},
   "outputs": [],
   "source": [
    "merge_on_our_TFs = df_copy.merge(TF_list, left_on='motif_FBgn', right_on='update', how='inner')"
   ]
  },
  {
   "cell_type": "code",
   "execution_count": 15,
   "metadata": {},
   "outputs": [
    {
     "data": {
      "text/plain": [
       "116"
      ]
     },
     "execution_count": 15,
     "metadata": {},
     "output_type": "execute_result"
    }
   ],
   "source": [
    "len(merge_on_our_TFs.motif_FBgn.unique())"
   ]
  },
  {
   "cell_type": "code",
   "execution_count": 49,
   "metadata": {},
   "outputs": [
    {
     "data": {
      "text/plain": [
       "False"
      ]
     },
     "execution_count": 49,
     "metadata": {},
     "output_type": "execute_result"
    }
   ],
   "source": [
    "TF_list.update == 'FBgn0000283'"
   ]
  },
  {
   "cell_type": "markdown",
   "metadata": {},
   "source": [
    "## Target gene intersect"
   ]
  },
  {
   "cell_type": "code",
   "execution_count": 18,
   "metadata": {},
   "outputs": [],
   "source": [
    "gene_info = pybedtools.BedTool('../output/chip/dmel6.12.genes.bed')"
   ]
  },
  {
   "cell_type": "code",
   "execution_count": null,
   "metadata": {},
   "outputs": [],
   "source": [
    "targene_intersect = gene_info.intersect(pybedtools.BedTool.from_dataframe(merge_on_our_TFs), \n",
    "                                        wb=True).saveas().to_dataframe()[[3,6,7,8,9,10,11]]"
   ]
  },
  {
   "cell_type": "code",
   "execution_count": null,
   "metadata": {},
   "outputs": [],
   "source": [
    "targene_intersect.columns = ['target_gene','chrom','start','end','pval','motif_symbol','motif_fbgn']"
   ]
  },
  {
   "cell_type": "markdown",
   "metadata": {},
   "source": [
    "## Make sure all FBgns are updated!!"
   ]
  },
  {
   "cell_type": "code",
   "execution_count": null,
   "metadata": {},
   "outputs": [],
   "source": [
    "targene_intersect['update_fbgn'] = targene_intersect.motif_fbgn.map(lambda x: fbgn[x])\n",
    "targene_intersect.head()"
   ]
  },
  {
   "cell_type": "markdown",
   "metadata": {},
   "source": [
    "## Binary collapse"
   ]
  },
  {
   "cell_type": "code",
   "execution_count": null,
   "metadata": {},
   "outputs": [],
   "source": [
    "#If peak in gene region count it as a 1 \n",
    "#only need gene,TF_fbgn\n",
    "binary_collapse = targene_intersect[['target_gene','update_fbgn']]"
   ]
  },
  {
   "cell_type": "code",
   "execution_count": null,
   "metadata": {},
   "outputs": [],
   "source": [
    "binary_collapse['binary'] = 1"
   ]
  },
  {
   "cell_type": "code",
   "execution_count": null,
   "metadata": {},
   "outputs": [],
   "source": [
    "binary_collapse.drop_duplicates(inplace=True)"
   ]
  },
  {
   "cell_type": "code",
   "execution_count": 18,
   "metadata": {},
   "outputs": [],
   "source": [
    "#index can't have duplicate entries so I need to condense this information down\n",
    "binary_collapse.set_index(['target_gene','update_fbgn'], inplace=True)\n",
    "matrix = binary_collapse.unstack()"
   ]
  },
  {
   "cell_type": "code",
   "execution_count": 19,
   "metadata": {},
   "outputs": [],
   "source": [
    "matrix.fillna(value=0).to_csv('../output/motif/motif_matrix', sep='\\t')"
   ]
  },
  {
   "cell_type": "code",
   "execution_count": null,
   "metadata": {},
   "outputs": [],
   "source": []
  },
  {
   "cell_type": "code",
   "execution_count": 44,
   "metadata": {},
   "outputs": [
    {
     "data": {
      "text/html": [
       "<div>\n",
       "<style scoped>\n",
       "    .dataframe tbody tr th:only-of-type {\n",
       "        vertical-align: middle;\n",
       "    }\n",
       "\n",
       "    .dataframe tbody tr th {\n",
       "        vertical-align: top;\n",
       "    }\n",
       "\n",
       "    .dataframe thead th {\n",
       "        text-align: right;\n",
       "    }\n",
       "</style>\n",
       "<table border=\"1\" class=\"dataframe\">\n",
       "  <thead>\n",
       "    <tr style=\"text-align: right;\">\n",
       "      <th></th>\n",
       "      <th>FBgn0000097</th>\n",
       "      <th>FBgn0000286</th>\n",
       "      <th>FBgn0000370</th>\n",
       "      <th>FBgn0000546</th>\n",
       "      <th>FBgn0000567</th>\n",
       "      <th>FBgn0000568</th>\n",
       "      <th>FBgn0000611</th>\n",
       "      <th>FBgn0001078</th>\n",
       "      <th>FBgn0001168</th>\n",
       "      <th>FBgn0001185</th>\n",
       "      <th>...</th>\n",
       "      <th>FBgn0262582</th>\n",
       "      <th>FBgn0262656</th>\n",
       "      <th>FBgn0263108</th>\n",
       "      <th>FBgn0264075</th>\n",
       "      <th>FBgn0265276</th>\n",
       "      <th>FBgn0267033</th>\n",
       "      <th>FBgn0267821</th>\n",
       "      <th>FBgn0267978</th>\n",
       "      <th>FBgn0283451</th>\n",
       "      <th>FBgn0284249</th>\n",
       "    </tr>\n",
       "    <tr>\n",
       "      <th>update_fbgn</th>\n",
       "      <th></th>\n",
       "      <th></th>\n",
       "      <th></th>\n",
       "      <th></th>\n",
       "      <th></th>\n",
       "      <th></th>\n",
       "      <th></th>\n",
       "      <th></th>\n",
       "      <th></th>\n",
       "      <th></th>\n",
       "      <th></th>\n",
       "      <th></th>\n",
       "      <th></th>\n",
       "      <th></th>\n",
       "      <th></th>\n",
       "      <th></th>\n",
       "      <th></th>\n",
       "      <th></th>\n",
       "      <th></th>\n",
       "      <th></th>\n",
       "      <th></th>\n",
       "    </tr>\n",
       "  </thead>\n",
       "  <tbody>\n",
       "    <tr>\n",
       "      <th>FBgn0000008</th>\n",
       "      <td>1.0</td>\n",
       "      <td>1.0</td>\n",
       "      <td>1.0</td>\n",
       "      <td>1.0</td>\n",
       "      <td>1.0</td>\n",
       "      <td>1.0</td>\n",
       "      <td>1.0</td>\n",
       "      <td>1.0</td>\n",
       "      <td>1.0</td>\n",
       "      <td>1.0</td>\n",
       "      <td>...</td>\n",
       "      <td>1.0</td>\n",
       "      <td>1.0</td>\n",
       "      <td>1.0</td>\n",
       "      <td>1.0</td>\n",
       "      <td>1.0</td>\n",
       "      <td>1.0</td>\n",
       "      <td>1.0</td>\n",
       "      <td>1.0</td>\n",
       "      <td>1.0</td>\n",
       "      <td>1.0</td>\n",
       "    </tr>\n",
       "    <tr>\n",
       "      <th>FBgn0000014</th>\n",
       "      <td>1.0</td>\n",
       "      <td>1.0</td>\n",
       "      <td>1.0</td>\n",
       "      <td>1.0</td>\n",
       "      <td>1.0</td>\n",
       "      <td>1.0</td>\n",
       "      <td>1.0</td>\n",
       "      <td>1.0</td>\n",
       "      <td>1.0</td>\n",
       "      <td>1.0</td>\n",
       "      <td>...</td>\n",
       "      <td>1.0</td>\n",
       "      <td>1.0</td>\n",
       "      <td>1.0</td>\n",
       "      <td>1.0</td>\n",
       "      <td>1.0</td>\n",
       "      <td>1.0</td>\n",
       "      <td>1.0</td>\n",
       "      <td>1.0</td>\n",
       "      <td>1.0</td>\n",
       "      <td>1.0</td>\n",
       "    </tr>\n",
       "    <tr>\n",
       "      <th>FBgn0000015</th>\n",
       "      <td>1.0</td>\n",
       "      <td>1.0</td>\n",
       "      <td>1.0</td>\n",
       "      <td>1.0</td>\n",
       "      <td>1.0</td>\n",
       "      <td>1.0</td>\n",
       "      <td>1.0</td>\n",
       "      <td>1.0</td>\n",
       "      <td>1.0</td>\n",
       "      <td>1.0</td>\n",
       "      <td>...</td>\n",
       "      <td>1.0</td>\n",
       "      <td>1.0</td>\n",
       "      <td>1.0</td>\n",
       "      <td>1.0</td>\n",
       "      <td>1.0</td>\n",
       "      <td>1.0</td>\n",
       "      <td>1.0</td>\n",
       "      <td>1.0</td>\n",
       "      <td>1.0</td>\n",
       "      <td>1.0</td>\n",
       "    </tr>\n",
       "    <tr>\n",
       "      <th>FBgn0000017</th>\n",
       "      <td>1.0</td>\n",
       "      <td>1.0</td>\n",
       "      <td>1.0</td>\n",
       "      <td>1.0</td>\n",
       "      <td>1.0</td>\n",
       "      <td>1.0</td>\n",
       "      <td>1.0</td>\n",
       "      <td>1.0</td>\n",
       "      <td>1.0</td>\n",
       "      <td>1.0</td>\n",
       "      <td>...</td>\n",
       "      <td>1.0</td>\n",
       "      <td>1.0</td>\n",
       "      <td>1.0</td>\n",
       "      <td>1.0</td>\n",
       "      <td>1.0</td>\n",
       "      <td>1.0</td>\n",
       "      <td>1.0</td>\n",
       "      <td>1.0</td>\n",
       "      <td>1.0</td>\n",
       "      <td>1.0</td>\n",
       "    </tr>\n",
       "    <tr>\n",
       "      <th>FBgn0000024</th>\n",
       "      <td>1.0</td>\n",
       "      <td>1.0</td>\n",
       "      <td>1.0</td>\n",
       "      <td>1.0</td>\n",
       "      <td>1.0</td>\n",
       "      <td>1.0</td>\n",
       "      <td>1.0</td>\n",
       "      <td>1.0</td>\n",
       "      <td>1.0</td>\n",
       "      <td>1.0</td>\n",
       "      <td>...</td>\n",
       "      <td>1.0</td>\n",
       "      <td>1.0</td>\n",
       "      <td>1.0</td>\n",
       "      <td>1.0</td>\n",
       "      <td>1.0</td>\n",
       "      <td>1.0</td>\n",
       "      <td>1.0</td>\n",
       "      <td>1.0</td>\n",
       "      <td>1.0</td>\n",
       "      <td>1.0</td>\n",
       "    </tr>\n",
       "  </tbody>\n",
       "</table>\n",
       "<p>5 rows × 115 columns</p>\n",
       "</div>"
      ],
      "text/plain": [
       "             FBgn0000097  FBgn0000286  FBgn0000370  FBgn0000546  FBgn0000567  \\\n",
       "update_fbgn                                                                    \n",
       "FBgn0000008          1.0          1.0          1.0          1.0          1.0   \n",
       "FBgn0000014          1.0          1.0          1.0          1.0          1.0   \n",
       "FBgn0000015          1.0          1.0          1.0          1.0          1.0   \n",
       "FBgn0000017          1.0          1.0          1.0          1.0          1.0   \n",
       "FBgn0000024          1.0          1.0          1.0          1.0          1.0   \n",
       "\n",
       "             FBgn0000568  FBgn0000611  FBgn0001078  FBgn0001168  FBgn0001185  \\\n",
       "update_fbgn                                                                    \n",
       "FBgn0000008          1.0          1.0          1.0          1.0          1.0   \n",
       "FBgn0000014          1.0          1.0          1.0          1.0          1.0   \n",
       "FBgn0000015          1.0          1.0          1.0          1.0          1.0   \n",
       "FBgn0000017          1.0          1.0          1.0          1.0          1.0   \n",
       "FBgn0000024          1.0          1.0          1.0          1.0          1.0   \n",
       "\n",
       "                ...       FBgn0262582  FBgn0262656  FBgn0263108  FBgn0264075  \\\n",
       "update_fbgn     ...                                                            \n",
       "FBgn0000008     ...               1.0          1.0          1.0          1.0   \n",
       "FBgn0000014     ...               1.0          1.0          1.0          1.0   \n",
       "FBgn0000015     ...               1.0          1.0          1.0          1.0   \n",
       "FBgn0000017     ...               1.0          1.0          1.0          1.0   \n",
       "FBgn0000024     ...               1.0          1.0          1.0          1.0   \n",
       "\n",
       "             FBgn0265276  FBgn0267033  FBgn0267821  FBgn0267978  FBgn0283451  \\\n",
       "update_fbgn                                                                    \n",
       "FBgn0000008          1.0          1.0          1.0          1.0          1.0   \n",
       "FBgn0000014          1.0          1.0          1.0          1.0          1.0   \n",
       "FBgn0000015          1.0          1.0          1.0          1.0          1.0   \n",
       "FBgn0000017          1.0          1.0          1.0          1.0          1.0   \n",
       "FBgn0000024          1.0          1.0          1.0          1.0          1.0   \n",
       "\n",
       "             FBgn0284249  \n",
       "update_fbgn               \n",
       "FBgn0000008          1.0  \n",
       "FBgn0000014          1.0  \n",
       "FBgn0000015          1.0  \n",
       "FBgn0000017          1.0  \n",
       "FBgn0000024          1.0  \n",
       "\n",
       "[5 rows x 115 columns]"
      ]
     },
     "execution_count": 44,
     "metadata": {},
     "output_type": "execute_result"
    }
   ],
   "source": [
    "motifs.head()"
   ]
  },
  {
   "cell_type": "code",
   "execution_count": 21,
   "metadata": {},
   "outputs": [],
   "source": [
    "motifs = pd.read_table('../output/motif/motif_matrix', index_col=0, skiprows=(0,2))"
   ]
  },
  {
   "cell_type": "code",
   "execution_count": 45,
   "metadata": {},
   "outputs": [
    {
     "data": {
      "text/plain": [
       "FBgn0283451    7863.0\n",
       "FBgn0267821    7197.0\n",
       "FBgn0000286    7032.0\n",
       "FBgn0035625    5943.0\n",
       "FBgn0000611    5915.0\n",
       "FBgn0027339    5369.0\n",
       "FBgn0003396    5277.0\n",
       "FBgn0010768    5213.0\n",
       "FBgn0260632    5213.0\n",
       "FBgn0011655    5080.0\n",
       "FBgn0003870    5055.0\n",
       "FBgn0003567    4981.0\n",
       "FBgn0040318    4946.0\n",
       "FBgn0003345    4720.0\n",
       "FBgn0264075    4678.0\n",
       "FBgn0003507    4607.0\n",
       "FBgn0000567    4588.0\n",
       "FBgn0002521    4487.0\n",
       "FBgn0005694    4470.0\n",
       "FBgn0038316    4460.0\n",
       "FBgn0004652    4399.0\n",
       "FBgn0038766    4392.0\n",
       "FBgn0024321    4354.0\n",
       "FBgn0014949    4311.0\n",
       "FBgn0022935    4299.0\n",
       "FBgn0038787    4272.0\n",
       "FBgn0003053    4256.0\n",
       "FBgn0035407    4230.0\n",
       "FBgn0029822    4210.0\n",
       "FBgn0037446    4146.0\n",
       "                ...  \n",
       "FBgn0037722    3009.0\n",
       "FBgn0000370    2965.0\n",
       "FBgn0003117    2960.0\n",
       "FBgn0033749    2958.0\n",
       "FBgn0035849    2953.0\n",
       "FBgn0002609    2951.0\n",
       "FBgn0033010    2941.0\n",
       "FBgn0035160    2857.0\n",
       "FBgn0000097    2830.0\n",
       "FBgn0029711    2811.0\n",
       "FBgn0013799    2762.0\n",
       "FBgn0003118    2752.0\n",
       "FBgn0284249    2744.0\n",
       "FBgn0005660    2690.0\n",
       "FBgn0023094    2638.0\n",
       "FBgn0015239    2572.0\n",
       "FBgn0000546    2508.0\n",
       "FBgn0261239    2435.0\n",
       "FBgn0259938    2409.0\n",
       "FBgn0017578    2329.0\n",
       "FBgn0039411    2326.0\n",
       "FBgn0002733    2305.0\n",
       "FBgn0262656    2290.0\n",
       "FBgn0015602    2273.0\n",
       "FBgn0004396    2261.0\n",
       "FBgn0032940    2237.0\n",
       "FBgn0039509    2237.0\n",
       "FBgn0035691    2220.0\n",
       "FBgn0002723    2145.0\n",
       "FBgn0023215    1910.0\n",
       "Length: 115, dtype: float64"
      ]
     },
     "execution_count": 45,
     "metadata": {},
     "output_type": "execute_result"
    }
   ],
   "source": [
    "motifs.sum(axis=0).sort_values(ascending=False)"
   ]
  },
  {
   "cell_type": "code",
   "execution_count": 34,
   "metadata": {},
   "outputs": [
    {
     "data": {
      "text/plain": [
       "update_fbgn\n",
       "FBgn0033998    16.0\n",
       "dtype: float64"
      ]
     },
     "execution_count": 34,
     "metadata": {},
     "output_type": "execute_result"
    }
   ],
   "source": [
    "#Check row\n",
    "motifs[motifs.index == 'FBgn0033998'].sum(axis=1)"
   ]
  },
  {
   "cell_type": "code",
   "execution_count": 35,
   "metadata": {},
   "outputs": [
    {
     "data": {
      "text/plain": [
       "update_fbgn\n",
       "FBgn0038016    18.0\n",
       "dtype: float64"
      ]
     },
     "execution_count": 35,
     "metadata": {},
     "output_type": "execute_result"
    }
   ],
   "source": [
    "#Check MBD-R2\n",
    "motifs[motifs.index == 'FBgn0038016'].sum(axis=1)"
   ]
  },
  {
   "cell_type": "code",
   "execution_count": 36,
   "metadata": {},
   "outputs": [
    {
     "data": {
      "text/plain": [
       "update_fbgn\n",
       "FBgn0259785    2.0\n",
       "dtype: float64"
      ]
     },
     "execution_count": 36,
     "metadata": {},
     "output_type": "execute_result"
    }
   ],
   "source": [
    "#Check putzig\n",
    "motifs[motifs.index == 'FBgn0259785'].sum(axis=1)"
   ]
  },
  {
   "cell_type": "code",
   "execution_count": 47,
   "metadata": {},
   "outputs": [
    {
     "data": {
      "text/plain": [
       "update_fbgn\n",
       "FBgn0000008    1.0\n",
       "FBgn0000014    1.0\n",
       "FBgn0000015    1.0\n",
       "FBgn0000017    1.0\n",
       "FBgn0000024    1.0\n",
       "FBgn0000028    1.0\n",
       "FBgn0000032    0.0\n",
       "FBgn0000036    1.0\n",
       "FBgn0000037    1.0\n",
       "FBgn0000038    0.0\n",
       "FBgn0000039    1.0\n",
       "FBgn0000042    0.0\n",
       "FBgn0000043    0.0\n",
       "FBgn0000044    0.0\n",
       "FBgn0000045    0.0\n",
       "FBgn0000046    0.0\n",
       "FBgn0000047    0.0\n",
       "FBgn0000052    0.0\n",
       "FBgn0000053    0.0\n",
       "FBgn0000054    0.0\n",
       "FBgn0000055    0.0\n",
       "FBgn0000056    0.0\n",
       "FBgn0000057    0.0\n",
       "FBgn0000061    1.0\n",
       "FBgn0000063    0.0\n",
       "FBgn0000064    1.0\n",
       "FBgn0000071    0.0\n",
       "FBgn0000075    0.0\n",
       "FBgn0000083    1.0\n",
       "FBgn0000084    0.0\n",
       "              ... \n",
       "FBgn0283510    0.0\n",
       "FBgn0283521    1.0\n",
       "FBgn0283531    1.0\n",
       "FBgn0283535    1.0\n",
       "FBgn0283536    0.0\n",
       "FBgn0283545    0.0\n",
       "FBgn0283546    0.0\n",
       "FBgn0283547    0.0\n",
       "FBgn0283548    0.0\n",
       "FBgn0283550    0.0\n",
       "FBgn0283551    0.0\n",
       "FBgn0283557    0.0\n",
       "FBgn0283559    0.0\n",
       "FBgn0283626    0.0\n",
       "FBgn0283627    0.0\n",
       "FBgn0283638    0.0\n",
       "FBgn0283639    0.0\n",
       "FBgn0283649    0.0\n",
       "FBgn0283651    1.0\n",
       "FBgn0283652    0.0\n",
       "FBgn0283657    1.0\n",
       "FBgn0283658    0.0\n",
       "FBgn0283666    0.0\n",
       "FBgn0283678    0.0\n",
       "FBgn0283680    1.0\n",
       "FBgn0283681    0.0\n",
       "FBgn0283682    1.0\n",
       "FBgn0283712    0.0\n",
       "FBgn0283724    0.0\n",
       "FBgn0283728    0.0\n",
       "Name: FBgn0000097, Length: 12402, dtype: float64"
      ]
     },
     "execution_count": 47,
     "metadata": {},
     "output_type": "execute_result"
    }
   ],
   "source": [
    "motifs.FBgn0000097"
   ]
  },
  {
   "cell_type": "code",
   "execution_count": 42,
   "metadata": {},
   "outputs": [
    {
     "ename": "AttributeError",
     "evalue": "'DataFrame' object has no attribute 'FBgn0000283'",
     "output_type": "error",
     "traceback": [
      "\u001b[0;31m---------------------------------------------------------------------------\u001b[0m",
      "\u001b[0;31mAttributeError\u001b[0m                            Traceback (most recent call last)",
      "\u001b[0;32m<ipython-input-42-8b4722d6d526>\u001b[0m in \u001b[0;36m<module>\u001b[0;34m()\u001b[0m\n\u001b[1;32m      1\u001b[0m \u001b[0;31m#Check Cp190\u001b[0m\u001b[0;34m\u001b[0m\u001b[0;34m\u001b[0m\u001b[0m\n\u001b[0;32m----> 2\u001b[0;31m \u001b[0mmotifs\u001b[0m\u001b[0;34m.\u001b[0m\u001b[0mFBgn0000283\u001b[0m\u001b[0;34m\u001b[0m\u001b[0m\n\u001b[0m",
      "\u001b[0;32m/data/bergeric/miniconda3/envs/s2rnai/lib/python3.6/site-packages/pandas/core/generic.py\u001b[0m in \u001b[0;36m__getattr__\u001b[0;34m(self, name)\u001b[0m\n\u001b[1;32m   3612\u001b[0m             \u001b[0;32mif\u001b[0m \u001b[0mname\u001b[0m \u001b[0;32min\u001b[0m \u001b[0mself\u001b[0m\u001b[0;34m.\u001b[0m\u001b[0m_info_axis\u001b[0m\u001b[0;34m:\u001b[0m\u001b[0;34m\u001b[0m\u001b[0m\n\u001b[1;32m   3613\u001b[0m                 \u001b[0;32mreturn\u001b[0m \u001b[0mself\u001b[0m\u001b[0;34m[\u001b[0m\u001b[0mname\u001b[0m\u001b[0;34m]\u001b[0m\u001b[0;34m\u001b[0m\u001b[0m\n\u001b[0;32m-> 3614\u001b[0;31m             \u001b[0;32mreturn\u001b[0m \u001b[0mobject\u001b[0m\u001b[0;34m.\u001b[0m\u001b[0m__getattribute__\u001b[0m\u001b[0;34m(\u001b[0m\u001b[0mself\u001b[0m\u001b[0;34m,\u001b[0m \u001b[0mname\u001b[0m\u001b[0;34m)\u001b[0m\u001b[0;34m\u001b[0m\u001b[0m\n\u001b[0m\u001b[1;32m   3615\u001b[0m \u001b[0;34m\u001b[0m\u001b[0m\n\u001b[1;32m   3616\u001b[0m     \u001b[0;32mdef\u001b[0m \u001b[0m__setattr__\u001b[0m\u001b[0;34m(\u001b[0m\u001b[0mself\u001b[0m\u001b[0;34m,\u001b[0m \u001b[0mname\u001b[0m\u001b[0;34m,\u001b[0m \u001b[0mvalue\u001b[0m\u001b[0;34m)\u001b[0m\u001b[0;34m:\u001b[0m\u001b[0;34m\u001b[0m\u001b[0m\n",
      "\u001b[0;31mAttributeError\u001b[0m: 'DataFrame' object has no attribute 'FBgn0000283'"
     ]
    }
   ],
   "source": [
    "#Check Cp190\n",
    "motifs.FBgn0000283"
   ]
  },
  {
   "cell_type": "code",
   "execution_count": 38,
   "metadata": {},
   "outputs": [
    {
     "data": {
      "text/plain": [
       "update_fbgn\n",
       "FBgn0002775    18.0\n",
       "dtype: float64"
      ]
     },
     "execution_count": 38,
     "metadata": {},
     "output_type": "execute_result"
    }
   ],
   "source": [
    "#Check msl3\n",
    "motifs[motifs.index == 'FBgn0002775'].sum(axis=1)"
   ]
  },
  {
   "cell_type": "code",
   "execution_count": 39,
   "metadata": {},
   "outputs": [
    {
     "data": {
      "text/plain": [
       "update_fbgn\n",
       "FBgn0034878    41.0\n",
       "dtype: float64"
      ]
     },
     "execution_count": 39,
     "metadata": {},
     "output_type": "execute_result"
    }
   ],
   "source": [
    "#Check msl3\n",
    "motifs[motifs.index == 'FBgn0000015'].sum(axis=1)"
   ]
  },
  {
   "cell_type": "code",
   "execution_count": null,
   "metadata": {},
   "outputs": [],
   "source": []
  }
 ],
 "metadata": {
  "kernelspec": {
   "display_name": "Python 3",
   "language": "python",
   "name": "python3"
  },
  "language_info": {
   "codemirror_mode": {
    "name": "ipython",
    "version": 3
   },
   "file_extension": ".py",
   "mimetype": "text/x-python",
   "name": "python",
   "nbconvert_exporter": "python",
   "pygments_lexer": "ipython3",
   "version": "3.6.3"
  }
 },
 "nbformat": 4,
 "nbformat_minor": 2
}
