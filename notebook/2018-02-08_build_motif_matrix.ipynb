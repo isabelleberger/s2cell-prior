{
 "cells": [
  {
   "cell_type": "markdown",
   "metadata": {},
   "source": [
    "# Working binary motif matrix"
   ]
  },
  {
   "cell_type": "code",
   "execution_count": 1,
   "metadata": {},
   "outputs": [],
   "source": [
    "import pandas as pd\n",
    "import gffutils\n",
    "from gffutils import pybedtools_integration\n",
    "import pybedtools\n",
    "from pybedtools.featurefuncs import gff2bed"
   ]
  },
  {
   "cell_type": "code",
   "execution_count": 2,
   "metadata": {},
   "outputs": [],
   "source": [
    "df = pd.read_table('../output/motif/tf_merge.bed', header=None, \n",
    "              names=['chrom', 'start','end','pval','motif_symbol','motif_FBgn'])"
   ]
  },
  {
   "cell_type": "code",
   "execution_count": 20,
   "metadata": {},
   "outputs": [
    {
     "data": {
      "text/plain": [
       "327"
      ]
     },
     "execution_count": 20,
     "metadata": {},
     "output_type": "execute_result"
    }
   ],
   "source": [
    "len(df.motif_FBgn.unique())"
   ]
  },
  {
   "cell_type": "markdown",
   "metadata": {},
   "source": [
    "## fix blank motif fbgns"
   ]
  },
  {
   "cell_type": "code",
   "execution_count": 3,
   "metadata": {},
   "outputs": [
    {
     "data": {
      "text/plain": [
       "array(['br-Z1', 'br-Z3', 'br-Z4', 'BEAF-32B', 'br-Z2', 'Cf2-II', 'dsx-F',\n",
       "       'dsx-M', 'Espl', 'His2B', 'HLHm5', 'p120', 'SuH', 'suHw'], dtype=object)"
      ]
     },
     "execution_count": 3,
     "metadata": {},
     "output_type": "execute_result"
    }
   ],
   "source": [
    "df[df.motif_FBgn == '.'].motif_symbol.unique()"
   ]
  },
  {
   "cell_type": "code",
   "execution_count": 6,
   "metadata": {},
   "outputs": [],
   "source": [
    "df_copy = df.copy()"
   ]
  },
  {
   "cell_type": "code",
   "execution_count": 5,
   "metadata": {},
   "outputs": [],
   "source": [
    "df_copy.loc[df_copy.motif_symbol == 'br-Z1', 'motif_FBgn'] = 'FBgn0283451'\n",
    "df_copy.loc[df_copy.motif_symbol == 'br-Z2', 'motif_FBgn'] = 'FBgn0283451'\n",
    "df_copy.loc[df_copy.motif_symbol == 'br-Z3', 'motif_FBgn'] = 'FBgn0283451'\n",
    "df_copy.loc[df_copy.motif_symbol == 'br-Z4', 'motif_FBgn'] = 'FBgn0283451'\n",
    "df_copy.loc[df_copy.motif_symbol == 'BEAF-32B', 'motif_FBgn'] = 'FBgn0015602'\n",
    "df_copy.loc[df_copy.motif_symbol == 'dsx-F', 'motif_FBgn'] = 'FBgn0000504'\n",
    "df_copy.loc[df_copy.motif_symbol == 'dsx-M', 'motif_FBgn'] = 'FBgn0000504'\n",
    "df_copy.loc[df_copy.motif_symbol == 'Espl', 'motif_FBgn'] = 'FBgn0000591'\n",
    "df_copy.loc[df_copy.motif_symbol == 'His2B', 'motif_FBgn'] = 'FBgn0001198'\n",
    "df_copy.loc[df_copy.motif_symbol == 'HLHm5', 'motif_FBgn'] = 'FBgn0002631'\n",
    "df_copy.loc[df_copy.motif_symbol == 'p120', 'motif_FBgn'] = 'FBgn0260799'\n",
    "df_copy.loc[df_copy.motif_symbol == 'suHw', 'motif_FBgn'] = 'FBgn0003567'\n",
    "df_copy.loc[df_copy.motif_symbol == 'SuH', 'motif_FBgn'] = 'FBgn0004837'"
   ]
  },
  {
   "cell_type": "code",
   "execution_count": 6,
   "metadata": {},
   "outputs": [],
   "source": [
    "#save updated tf_merge\n",
    "df_copy.to_csv('../output/motif/tf_merge.bed', sep='\\t', header=None, index=False)"
   ]
  },
  {
   "cell_type": "markdown",
   "metadata": {},
   "source": [
    "# filter for RNAi TFs "
   ]
  },
  {
   "cell_type": "code",
   "execution_count": null,
   "metadata": {},
   "outputs": [],
   "source": [
    "TF_list = pd.read_table('../output/list_of_tfs.txt', header=None)\n",
    "TF_list.columns=['TF']"
   ]
  },
  {
   "cell_type": "code",
   "execution_count": null,
   "metadata": {},
   "outputs": [],
   "source": [
    "# make dictionary of alt fbgns\n",
    "\n",
    "fbgn = {}\n",
    "with open('/data/LCDB/lcdb-references/dmel/r6-16/fb_annotation/dmel_r6-16.fb_annotation') as f:\n",
    "    next(f)\n",
    "    for line in f:\n",
    "        split = line.split('\\t')\n",
    "        first = split[1]\n",
    "        seconds = split[2].split(',')\n",
    "        fbgn[first] = first\n",
    "        for x in seconds:\n",
    "            if x:\n",
    "                fbgn[x] = first"
   ]
  },
  {
   "cell_type": "code",
   "execution_count": 24,
   "metadata": {},
   "outputs": [],
   "source": [
    "TF_list['update'] = TF_list.TF.map(lambda x: fbgn[x])"
   ]
  },
  {
   "cell_type": "code",
   "execution_count": 27,
   "metadata": {},
   "outputs": [],
   "source": [
    "TF_list.drop('TF', axis=1, inplace=True)"
   ]
  },
  {
   "cell_type": "code",
   "execution_count": 28,
   "metadata": {},
   "outputs": [],
   "source": [
    "merge_on_our_TFs = df_copy.merge(TF_list, left_on='motif_FBgn', right_on='update', how='inner')"
   ]
  },
  {
   "cell_type": "code",
   "execution_count": 29,
   "metadata": {},
   "outputs": [
    {
     "data": {
      "text/plain": [
       "116"
      ]
     },
     "execution_count": 29,
     "metadata": {},
     "output_type": "execute_result"
    }
   ],
   "source": [
    "len(merge_on_our_TFs.motif_FBgn.unique())"
   ]
  },
  {
   "cell_type": "markdown",
   "metadata": {},
   "source": [
    "## Target gene intersect"
   ]
  },
  {
   "cell_type": "code",
   "execution_count": 10,
   "metadata": {},
   "outputs": [],
   "source": [
    "gene_info = pybedtools.BedTool('../output/chip/dmel6.12.genes.bed')"
   ]
  },
  {
   "cell_type": "code",
   "execution_count": 11,
   "metadata": {},
   "outputs": [
    {
     "name": "stderr",
     "output_type": "stream",
     "text": [
      "/data/bergeric/miniconda3/envs/s2rnai/lib/python3.6/site-packages/pybedtools/bedtool.py:3287: UserWarning: Default names for filetype bed are:\n",
      "['chrom', 'start', 'end', 'name', 'score', 'strand', 'thickStart', 'thickEnd', 'itemRgb', 'blockCount', 'blockSizes', 'blockStarts']\n",
      "but file has 13 fields; you can supply custom names with the `names` kwarg\n",
      "  % (self.file_type, _names, self.field_count()))\n"
     ]
    }
   ],
   "source": [
    "targene_intersect = gene_info.intersect(pybedtools.BedTool.from_dataframe(merge_on_our_TFs), \n",
    "                                        wb=True).saveas().to_dataframe()[[3,6,7,8,9,10,11]]"
   ]
  },
  {
   "cell_type": "code",
   "execution_count": 12,
   "metadata": {},
   "outputs": [],
   "source": [
    "targene_intersect.columns = ['target_gene','chrom','start','end','pval','motif_symbol','motif_fbgn']"
   ]
  },
  {
   "cell_type": "markdown",
   "metadata": {},
   "source": [
    "## Make sure all FBgns are updated!!"
   ]
  },
  {
   "cell_type": "code",
   "execution_count": 14,
   "metadata": {},
   "outputs": [
    {
     "data": {
      "text/html": [
       "<div>\n",
       "<style scoped>\n",
       "    .dataframe tbody tr th:only-of-type {\n",
       "        vertical-align: middle;\n",
       "    }\n",
       "\n",
       "    .dataframe tbody tr th {\n",
       "        vertical-align: top;\n",
       "    }\n",
       "\n",
       "    .dataframe thead th {\n",
       "        text-align: right;\n",
       "    }\n",
       "</style>\n",
       "<table border=\"1\" class=\"dataframe\">\n",
       "  <thead>\n",
       "    <tr style=\"text-align: right;\">\n",
       "      <th></th>\n",
       "      <th>target_gene</th>\n",
       "      <th>chrom</th>\n",
       "      <th>start</th>\n",
       "      <th>end</th>\n",
       "      <th>pval</th>\n",
       "      <th>motif_symbol</th>\n",
       "      <th>motif_fbgn</th>\n",
       "      <th>update_fbgn</th>\n",
       "    </tr>\n",
       "  </thead>\n",
       "  <tbody>\n",
       "    <tr>\n",
       "      <th>0</th>\n",
       "      <td>FBgn0002121</td>\n",
       "      <td>chr2L</td>\n",
       "      <td>13097</td>\n",
       "      <td>13107</td>\n",
       "      <td>0.000024</td>\n",
       "      <td>br-Z3</td>\n",
       "      <td>FBgn0283451</td>\n",
       "      <td>FBgn0283451</td>\n",
       "    </tr>\n",
       "    <tr>\n",
       "      <th>1</th>\n",
       "      <td>FBgn0002121</td>\n",
       "      <td>chr2L</td>\n",
       "      <td>11683</td>\n",
       "      <td>11690</td>\n",
       "      <td>0.000072</td>\n",
       "      <td>br-Z4</td>\n",
       "      <td>FBgn0283451</td>\n",
       "      <td>FBgn0283451</td>\n",
       "    </tr>\n",
       "    <tr>\n",
       "      <th>2</th>\n",
       "      <td>FBgn0002121</td>\n",
       "      <td>chr2L</td>\n",
       "      <td>11526</td>\n",
       "      <td>11533</td>\n",
       "      <td>0.000089</td>\n",
       "      <td>br-Z2</td>\n",
       "      <td>FBgn0283451</td>\n",
       "      <td>FBgn0283451</td>\n",
       "    </tr>\n",
       "    <tr>\n",
       "      <th>3</th>\n",
       "      <td>FBgn0002121</td>\n",
       "      <td>chr2L</td>\n",
       "      <td>11526</td>\n",
       "      <td>11533</td>\n",
       "      <td>0.000097</td>\n",
       "      <td>br</td>\n",
       "      <td>FBgn0283451</td>\n",
       "      <td>FBgn0283451</td>\n",
       "    </tr>\n",
       "    <tr>\n",
       "      <th>4</th>\n",
       "      <td>FBgn0002121</td>\n",
       "      <td>chr2L</td>\n",
       "      <td>16133</td>\n",
       "      <td>16140</td>\n",
       "      <td>0.000080</td>\n",
       "      <td>br</td>\n",
       "      <td>FBgn0283451</td>\n",
       "      <td>FBgn0283451</td>\n",
       "    </tr>\n",
       "  </tbody>\n",
       "</table>\n",
       "</div>"
      ],
      "text/plain": [
       "   target_gene  chrom  start    end      pval motif_symbol   motif_fbgn  \\\n",
       "0  FBgn0002121  chr2L  13097  13107  0.000024        br-Z3  FBgn0283451   \n",
       "1  FBgn0002121  chr2L  11683  11690  0.000072        br-Z4  FBgn0283451   \n",
       "2  FBgn0002121  chr2L  11526  11533  0.000089        br-Z2  FBgn0283451   \n",
       "3  FBgn0002121  chr2L  11526  11533  0.000097           br  FBgn0283451   \n",
       "4  FBgn0002121  chr2L  16133  16140  0.000080           br  FBgn0283451   \n",
       "\n",
       "   update_fbgn  \n",
       "0  FBgn0283451  \n",
       "1  FBgn0283451  \n",
       "2  FBgn0283451  \n",
       "3  FBgn0283451  \n",
       "4  FBgn0283451  "
      ]
     },
     "execution_count": 14,
     "metadata": {},
     "output_type": "execute_result"
    }
   ],
   "source": [
    "targene_intersect['update_fbgn'] = targene_intersect.motif_fbgn.map(lambda x: fbgn[x])\n",
    "targene_intersect.head()"
   ]
  },
  {
   "cell_type": "markdown",
   "metadata": {},
   "source": [
    "## Binary collapse"
   ]
  },
  {
   "cell_type": "code",
   "execution_count": 15,
   "metadata": {},
   "outputs": [],
   "source": [
    "#If peak in gene region count it as a 1 \n",
    "#only need gene,TF_fbgn\n",
    "binary_collapse = targene_intersect[['target_gene','update_fbgn']]"
   ]
  },
  {
   "cell_type": "code",
   "execution_count": 16,
   "metadata": {},
   "outputs": [
    {
     "name": "stderr",
     "output_type": "stream",
     "text": [
      "/data/bergeric/miniconda3/envs/s2rnai/lib/python3.6/site-packages/ipykernel_launcher.py:1: SettingWithCopyWarning: \n",
      "A value is trying to be set on a copy of a slice from a DataFrame.\n",
      "Try using .loc[row_indexer,col_indexer] = value instead\n",
      "\n",
      "See the caveats in the documentation: http://pandas.pydata.org/pandas-docs/stable/indexing.html#indexing-view-versus-copy\n",
      "  \"\"\"Entry point for launching an IPython kernel.\n"
     ]
    }
   ],
   "source": [
    "binary_collapse['binary'] = 1"
   ]
  },
  {
   "cell_type": "code",
   "execution_count": 17,
   "metadata": {},
   "outputs": [
    {
     "name": "stderr",
     "output_type": "stream",
     "text": [
      "/data/bergeric/miniconda3/envs/s2rnai/lib/python3.6/site-packages/ipykernel_launcher.py:1: SettingWithCopyWarning: \n",
      "A value is trying to be set on a copy of a slice from a DataFrame\n",
      "\n",
      "See the caveats in the documentation: http://pandas.pydata.org/pandas-docs/stable/indexing.html#indexing-view-versus-copy\n",
      "  \"\"\"Entry point for launching an IPython kernel.\n"
     ]
    }
   ],
   "source": [
    "binary_collapse.drop_duplicates(inplace=True)"
   ]
  },
  {
   "cell_type": "code",
   "execution_count": 18,
   "metadata": {},
   "outputs": [],
   "source": [
    "#index can't have duplicate entries so I need to condense this information down\n",
    "binary_collapse.set_index(['target_gene','update_fbgn'], inplace=True)\n",
    "matrix = binary_collapse.unstack()"
   ]
  },
  {
   "cell_type": "code",
   "execution_count": 19,
   "metadata": {},
   "outputs": [],
   "source": [
    "matrix.fillna(value=0).to_csv('../output/motif/motif_matrix', sep='\\t')"
   ]
  },
  {
   "cell_type": "code",
   "execution_count": null,
   "metadata": {},
   "outputs": [],
   "source": []
  }
 ],
 "metadata": {
  "kernelspec": {
   "display_name": "Python 3",
   "language": "python",
   "name": "python3"
  },
  "language_info": {
   "codemirror_mode": {
    "name": "ipython",
    "version": 3
   },
   "file_extension": ".py",
   "mimetype": "text/x-python",
   "name": "python",
   "nbconvert_exporter": "python",
   "pygments_lexer": "ipython3",
   "version": "3.6.3"
  }
 },
 "nbformat": 4,
 "nbformat_minor": 2
}
