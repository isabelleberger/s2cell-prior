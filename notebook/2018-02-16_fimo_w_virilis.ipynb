{
 "cells": [
  {
   "cell_type": "markdown",
   "metadata": {},
   "source": [
    "# FIMO output using D. virilis\n",
    "\n",
    "First: \n",
    "- collapse to the gene level, compare existence of TF/gene relationships"
   ]
  },
  {
   "cell_type": "code",
   "execution_count": 1,
   "metadata": {},
   "outputs": [],
   "source": [
    "import pandas as pd\n",
    "import gffutils\n",
    "from gffutils import pybedtools_integration\n",
    "import pybedtools\n",
    "from pybedtools.featurefuncs import gff2bed"
   ]
  },
  {
   "cell_type": "markdown",
   "metadata": {},
   "source": [
    "### Import gffs from fimo output and change to bed format:  \n",
    "5 motif databases: dmmpmm, flyFactor, flyReg, idmmpmm, & onTheFly"
   ]
  },
  {
   "cell_type": "code",
   "execution_count": 2,
   "metadata": {},
   "outputs": [],
   "source": [
    "#note: score is min(1000, -10*(log10(pvalue)))\n",
    "#for now I'm not going to worry about trying to get the pvalue since we're just collapsing everything to gene\n",
    "dmm = pybedtools.BedTool('../motif-wf/data/fimo_dvir_02-15/motif_alignments_dmmpmm2009_dvir.gff')\n",
    "dmmbed = dmm.each(gff2bed, name_field='ID').saveas().to_dataframe()\n",
    "dmmbed['name'] = [x.split('-')[0] for x in dmmbed.name]"
   ]
  },
  {
   "cell_type": "code",
   "execution_count": 43,
   "metadata": {},
   "outputs": [],
   "source": [
    "#add column for motif_FBgn\n",
    "symbolmap = pd.read_table('/data/LCDB/lcdb-references/dmel/r6-11/gtf/dmel_r6-11.SYMBOL.csv', sep=',') \n",
    "dmm_w_motiffbgn = dmmbed.merge(symbolmap, left_on='name', right_on='SYMBOL', how='left')"
   ]
  },
  {
   "cell_type": "code",
   "execution_count": 44,
   "metadata": {},
   "outputs": [
    {
     "data": {
      "text/html": [
       "<div>\n",
       "<style scoped>\n",
       "    .dataframe tbody tr th:only-of-type {\n",
       "        vertical-align: middle;\n",
       "    }\n",
       "\n",
       "    .dataframe tbody tr th {\n",
       "        vertical-align: top;\n",
       "    }\n",
       "\n",
       "    .dataframe thead th {\n",
       "        text-align: right;\n",
       "    }\n",
       "</style>\n",
       "<table border=\"1\" class=\"dataframe\">\n",
       "  <thead>\n",
       "    <tr style=\"text-align: right;\">\n",
       "      <th></th>\n",
       "      <th>chrom</th>\n",
       "      <th>start</th>\n",
       "      <th>end</th>\n",
       "      <th>name</th>\n",
       "      <th>score</th>\n",
       "      <th>strand</th>\n",
       "      <th>ENSEMBL</th>\n",
       "      <th>SYMBOL</th>\n",
       "    </tr>\n",
       "  </thead>\n",
       "  <tbody>\n",
       "    <tr>\n",
       "      <th>0</th>\n",
       "      <td>scaffold_13049</td>\n",
       "      <td>340807</td>\n",
       "      <td>340815</td>\n",
       "      <td>bcd</td>\n",
       "      <td>48.3</td>\n",
       "      <td>-</td>\n",
       "      <td>FBgn0000166</td>\n",
       "      <td>bcd</td>\n",
       "    </tr>\n",
       "    <tr>\n",
       "      <th>1</th>\n",
       "      <td>scaffold_13049</td>\n",
       "      <td>630585</td>\n",
       "      <td>630593</td>\n",
       "      <td>bcd</td>\n",
       "      <td>48.3</td>\n",
       "      <td>-</td>\n",
       "      <td>FBgn0000166</td>\n",
       "      <td>bcd</td>\n",
       "    </tr>\n",
       "    <tr>\n",
       "      <th>2</th>\n",
       "      <td>scaffold_13049</td>\n",
       "      <td>666194</td>\n",
       "      <td>666202</td>\n",
       "      <td>bcd</td>\n",
       "      <td>48.3</td>\n",
       "      <td>-</td>\n",
       "      <td>FBgn0000166</td>\n",
       "      <td>bcd</td>\n",
       "    </tr>\n",
       "    <tr>\n",
       "      <th>3</th>\n",
       "      <td>scaffold_13049</td>\n",
       "      <td>915737</td>\n",
       "      <td>915745</td>\n",
       "      <td>bcd</td>\n",
       "      <td>48.3</td>\n",
       "      <td>-</td>\n",
       "      <td>FBgn0000166</td>\n",
       "      <td>bcd</td>\n",
       "    </tr>\n",
       "    <tr>\n",
       "      <th>4</th>\n",
       "      <td>scaffold_13049</td>\n",
       "      <td>1103900</td>\n",
       "      <td>1103908</td>\n",
       "      <td>bcd</td>\n",
       "      <td>48.3</td>\n",
       "      <td>-</td>\n",
       "      <td>FBgn0000166</td>\n",
       "      <td>bcd</td>\n",
       "    </tr>\n",
       "  </tbody>\n",
       "</table>\n",
       "</div>"
      ],
      "text/plain": [
       "            chrom    start      end name  score strand      ENSEMBL SYMBOL\n",
       "0  scaffold_13049   340807   340815  bcd   48.3      -  FBgn0000166    bcd\n",
       "1  scaffold_13049   630585   630593  bcd   48.3      -  FBgn0000166    bcd\n",
       "2  scaffold_13049   666194   666202  bcd   48.3      -  FBgn0000166    bcd\n",
       "3  scaffold_13049   915737   915745  bcd   48.3      -  FBgn0000166    bcd\n",
       "4  scaffold_13049  1103900  1103908  bcd   48.3      -  FBgn0000166    bcd"
      ]
     },
     "execution_count": 44,
     "metadata": {},
     "output_type": "execute_result"
    }
   ],
   "source": [
    "dmm_w_motiffbgn.head()"
   ]
  },
  {
   "cell_type": "code",
   "execution_count": 80,
   "metadata": {},
   "outputs": [],
   "source": [
    "dmm_merge = dmm_w_motiffbgn[['chrom','start','end','ENSEMBL']].rename(columns={'ENSEMBL':'name'})"
   ]
  },
  {
   "cell_type": "code",
   "execution_count": 26,
   "metadata": {},
   "outputs": [],
   "source": [
    "flyfac = pybedtools.BedTool('../motif-wf/data/fimo_dvir_02-15/motif_alignments_flyFactor_dvir.gff')\n",
    "ffbed = flyfac.each(gff2bed, name_field='Name').saveas().to_dataframe()\n",
    "ffbed['name'] = [x.split('_')[0] for x in ffbed.name]"
   ]
  },
  {
   "cell_type": "code",
   "execution_count": 30,
   "metadata": {},
   "outputs": [
    {
     "data": {
      "text/html": [
       "<div>\n",
       "<style scoped>\n",
       "    .dataframe tbody tr th:only-of-type {\n",
       "        vertical-align: middle;\n",
       "    }\n",
       "\n",
       "    .dataframe tbody tr th {\n",
       "        vertical-align: top;\n",
       "    }\n",
       "\n",
       "    .dataframe thead th {\n",
       "        text-align: right;\n",
       "    }\n",
       "</style>\n",
       "<table border=\"1\" class=\"dataframe\">\n",
       "  <thead>\n",
       "    <tr style=\"text-align: right;\">\n",
       "      <th></th>\n",
       "      <th>chrom</th>\n",
       "      <th>start</th>\n",
       "      <th>end</th>\n",
       "      <th>name</th>\n",
       "      <th>score</th>\n",
       "      <th>strand</th>\n",
       "    </tr>\n",
       "  </thead>\n",
       "  <tbody>\n",
       "    <tr>\n",
       "      <th>0</th>\n",
       "      <td>scaffold_13049</td>\n",
       "      <td>53234</td>\n",
       "      <td>53242</td>\n",
       "      <td>FBgn0000014</td>\n",
       "      <td>45.8</td>\n",
       "      <td>+</td>\n",
       "    </tr>\n",
       "    <tr>\n",
       "      <th>1</th>\n",
       "      <td>scaffold_13049</td>\n",
       "      <td>145683</td>\n",
       "      <td>145691</td>\n",
       "      <td>FBgn0000014</td>\n",
       "      <td>45.8</td>\n",
       "      <td>+</td>\n",
       "    </tr>\n",
       "    <tr>\n",
       "      <th>2</th>\n",
       "      <td>scaffold_13049</td>\n",
       "      <td>149968</td>\n",
       "      <td>149976</td>\n",
       "      <td>FBgn0000014</td>\n",
       "      <td>45.8</td>\n",
       "      <td>+</td>\n",
       "    </tr>\n",
       "    <tr>\n",
       "      <th>3</th>\n",
       "      <td>scaffold_13049</td>\n",
       "      <td>155609</td>\n",
       "      <td>155617</td>\n",
       "      <td>FBgn0000014</td>\n",
       "      <td>45.8</td>\n",
       "      <td>+</td>\n",
       "    </tr>\n",
       "    <tr>\n",
       "      <th>4</th>\n",
       "      <td>scaffold_13049</td>\n",
       "      <td>181619</td>\n",
       "      <td>181627</td>\n",
       "      <td>FBgn0000014</td>\n",
       "      <td>45.8</td>\n",
       "      <td>+</td>\n",
       "    </tr>\n",
       "  </tbody>\n",
       "</table>\n",
       "</div>"
      ],
      "text/plain": [
       "            chrom   start     end         name  score strand\n",
       "0  scaffold_13049   53234   53242  FBgn0000014   45.8      +\n",
       "1  scaffold_13049  145683  145691  FBgn0000014   45.8      +\n",
       "2  scaffold_13049  149968  149976  FBgn0000014   45.8      +\n",
       "3  scaffold_13049  155609  155617  FBgn0000014   45.8      +\n",
       "4  scaffold_13049  181619  181627  FBgn0000014   45.8      +"
      ]
     },
     "execution_count": 30,
     "metadata": {},
     "output_type": "execute_result"
    }
   ],
   "source": [
    "ffbed.head()"
   ]
  },
  {
   "cell_type": "code",
   "execution_count": 78,
   "metadata": {},
   "outputs": [],
   "source": [
    "ffmerge = ffbed[['chrom','start','end','name']]"
   ]
  },
  {
   "cell_type": "code",
   "execution_count": 33,
   "metadata": {},
   "outputs": [],
   "source": [
    "flyreg = pybedtools.BedTool('../motif-wf/data/fimo_dvir_02-15/motif_alignments_flyReg_dvir.gff')\n",
    "frbed = flyreg.each(gff2bed, name_field='Name').saveas().to_dataframe()\n",
    "frbed['name'] = [x.split('_')[0] for x in frbed.name]"
   ]
  },
  {
   "cell_type": "code",
   "execution_count": 45,
   "metadata": {},
   "outputs": [],
   "source": [
    "#add column for motif_FBgn\n",
    "fr_w_motiffbgn = frbed.merge(symbolmap, left_on='name', right_on='SYMBOL', how='left')"
   ]
  },
  {
   "cell_type": "code",
   "execution_count": 46,
   "metadata": {},
   "outputs": [
    {
     "data": {
      "text/html": [
       "<div>\n",
       "<style scoped>\n",
       "    .dataframe tbody tr th:only-of-type {\n",
       "        vertical-align: middle;\n",
       "    }\n",
       "\n",
       "    .dataframe tbody tr th {\n",
       "        vertical-align: top;\n",
       "    }\n",
       "\n",
       "    .dataframe thead th {\n",
       "        text-align: right;\n",
       "    }\n",
       "</style>\n",
       "<table border=\"1\" class=\"dataframe\">\n",
       "  <thead>\n",
       "    <tr style=\"text-align: right;\">\n",
       "      <th></th>\n",
       "      <th>chrom</th>\n",
       "      <th>start</th>\n",
       "      <th>end</th>\n",
       "      <th>name</th>\n",
       "      <th>score</th>\n",
       "      <th>strand</th>\n",
       "      <th>ENSEMBL</th>\n",
       "      <th>SYMBOL</th>\n",
       "    </tr>\n",
       "  </thead>\n",
       "  <tbody>\n",
       "    <tr>\n",
       "      <th>0</th>\n",
       "      <td>scaffold_13049</td>\n",
       "      <td>53234</td>\n",
       "      <td>53242</td>\n",
       "      <td>abd-A</td>\n",
       "      <td>45.8</td>\n",
       "      <td>+</td>\n",
       "      <td>FBgn0000014</td>\n",
       "      <td>abd-A</td>\n",
       "    </tr>\n",
       "    <tr>\n",
       "      <th>1</th>\n",
       "      <td>scaffold_13049</td>\n",
       "      <td>145683</td>\n",
       "      <td>145691</td>\n",
       "      <td>abd-A</td>\n",
       "      <td>45.8</td>\n",
       "      <td>+</td>\n",
       "      <td>FBgn0000014</td>\n",
       "      <td>abd-A</td>\n",
       "    </tr>\n",
       "    <tr>\n",
       "      <th>2</th>\n",
       "      <td>scaffold_13049</td>\n",
       "      <td>149968</td>\n",
       "      <td>149976</td>\n",
       "      <td>abd-A</td>\n",
       "      <td>45.8</td>\n",
       "      <td>+</td>\n",
       "      <td>FBgn0000014</td>\n",
       "      <td>abd-A</td>\n",
       "    </tr>\n",
       "    <tr>\n",
       "      <th>3</th>\n",
       "      <td>scaffold_13049</td>\n",
       "      <td>155609</td>\n",
       "      <td>155617</td>\n",
       "      <td>abd-A</td>\n",
       "      <td>45.8</td>\n",
       "      <td>+</td>\n",
       "      <td>FBgn0000014</td>\n",
       "      <td>abd-A</td>\n",
       "    </tr>\n",
       "    <tr>\n",
       "      <th>4</th>\n",
       "      <td>scaffold_13049</td>\n",
       "      <td>181619</td>\n",
       "      <td>181627</td>\n",
       "      <td>abd-A</td>\n",
       "      <td>45.8</td>\n",
       "      <td>+</td>\n",
       "      <td>FBgn0000014</td>\n",
       "      <td>abd-A</td>\n",
       "    </tr>\n",
       "  </tbody>\n",
       "</table>\n",
       "</div>"
      ],
      "text/plain": [
       "            chrom   start     end   name  score strand      ENSEMBL SYMBOL\n",
       "0  scaffold_13049   53234   53242  abd-A   45.8      +  FBgn0000014  abd-A\n",
       "1  scaffold_13049  145683  145691  abd-A   45.8      +  FBgn0000014  abd-A\n",
       "2  scaffold_13049  149968  149976  abd-A   45.8      +  FBgn0000014  abd-A\n",
       "3  scaffold_13049  155609  155617  abd-A   45.8      +  FBgn0000014  abd-A\n",
       "4  scaffold_13049  181619  181627  abd-A   45.8      +  FBgn0000014  abd-A"
      ]
     },
     "execution_count": 46,
     "metadata": {},
     "output_type": "execute_result"
    }
   ],
   "source": [
    "fr_w_motiffbgn.head()"
   ]
  },
  {
   "cell_type": "code",
   "execution_count": 82,
   "metadata": {},
   "outputs": [],
   "source": [
    "fr_merge = fr_w_motiffbgn[['chrom','start','end','ENSEMBL']].rename(columns={'ENSEMBL':'name'})"
   ]
  },
  {
   "cell_type": "code",
   "execution_count": 35,
   "metadata": {},
   "outputs": [],
   "source": [
    "idm = pybedtools.BedTool('../motif-wf/data/fimo_dvir_02-15/motif_alignments_idmmpmm2009_dvir.gff')\n",
    "idmbed = idm.each(gff2bed, name_field='Name').saveas().to_dataframe()\n",
    "idmbed['name'] = [x.split('_')[0] for x in idmbed.name]"
   ]
  },
  {
   "cell_type": "code",
   "execution_count": 47,
   "metadata": {},
   "outputs": [],
   "source": [
    "idm_w_motiffbgn = idmbed.merge(symbolmap, left_on='name', right_on='SYMBOL', how='left')"
   ]
  },
  {
   "cell_type": "code",
   "execution_count": 48,
   "metadata": {},
   "outputs": [
    {
     "data": {
      "text/html": [
       "<div>\n",
       "<style scoped>\n",
       "    .dataframe tbody tr th:only-of-type {\n",
       "        vertical-align: middle;\n",
       "    }\n",
       "\n",
       "    .dataframe tbody tr th {\n",
       "        vertical-align: top;\n",
       "    }\n",
       "\n",
       "    .dataframe thead th {\n",
       "        text-align: right;\n",
       "    }\n",
       "</style>\n",
       "<table border=\"1\" class=\"dataframe\">\n",
       "  <thead>\n",
       "    <tr style=\"text-align: right;\">\n",
       "      <th></th>\n",
       "      <th>chrom</th>\n",
       "      <th>start</th>\n",
       "      <th>end</th>\n",
       "      <th>name</th>\n",
       "      <th>score</th>\n",
       "      <th>strand</th>\n",
       "      <th>ENSEMBL</th>\n",
       "      <th>SYMBOL</th>\n",
       "    </tr>\n",
       "  </thead>\n",
       "  <tbody>\n",
       "    <tr>\n",
       "      <th>0</th>\n",
       "      <td>scaffold_13049</td>\n",
       "      <td>15087</td>\n",
       "      <td>15095</td>\n",
       "      <td>abd-A</td>\n",
       "      <td>45.8</td>\n",
       "      <td>+</td>\n",
       "      <td>FBgn0000014</td>\n",
       "      <td>abd-A</td>\n",
       "    </tr>\n",
       "    <tr>\n",
       "      <th>1</th>\n",
       "      <td>scaffold_13049</td>\n",
       "      <td>80992</td>\n",
       "      <td>81000</td>\n",
       "      <td>abd-A</td>\n",
       "      <td>45.8</td>\n",
       "      <td>+</td>\n",
       "      <td>FBgn0000014</td>\n",
       "      <td>abd-A</td>\n",
       "    </tr>\n",
       "    <tr>\n",
       "      <th>2</th>\n",
       "      <td>scaffold_13049</td>\n",
       "      <td>209212</td>\n",
       "      <td>209220</td>\n",
       "      <td>abd-A</td>\n",
       "      <td>45.8</td>\n",
       "      <td>+</td>\n",
       "      <td>FBgn0000014</td>\n",
       "      <td>abd-A</td>\n",
       "    </tr>\n",
       "    <tr>\n",
       "      <th>3</th>\n",
       "      <td>scaffold_13049</td>\n",
       "      <td>270146</td>\n",
       "      <td>270154</td>\n",
       "      <td>abd-A</td>\n",
       "      <td>45.8</td>\n",
       "      <td>+</td>\n",
       "      <td>FBgn0000014</td>\n",
       "      <td>abd-A</td>\n",
       "    </tr>\n",
       "    <tr>\n",
       "      <th>4</th>\n",
       "      <td>scaffold_13049</td>\n",
       "      <td>270292</td>\n",
       "      <td>270300</td>\n",
       "      <td>abd-A</td>\n",
       "      <td>45.8</td>\n",
       "      <td>+</td>\n",
       "      <td>FBgn0000014</td>\n",
       "      <td>abd-A</td>\n",
       "    </tr>\n",
       "  </tbody>\n",
       "</table>\n",
       "</div>"
      ],
      "text/plain": [
       "            chrom   start     end   name  score strand      ENSEMBL SYMBOL\n",
       "0  scaffold_13049   15087   15095  abd-A   45.8      +  FBgn0000014  abd-A\n",
       "1  scaffold_13049   80992   81000  abd-A   45.8      +  FBgn0000014  abd-A\n",
       "2  scaffold_13049  209212  209220  abd-A   45.8      +  FBgn0000014  abd-A\n",
       "3  scaffold_13049  270146  270154  abd-A   45.8      +  FBgn0000014  abd-A\n",
       "4  scaffold_13049  270292  270300  abd-A   45.8      +  FBgn0000014  abd-A"
      ]
     },
     "execution_count": 48,
     "metadata": {},
     "output_type": "execute_result"
    }
   ],
   "source": [
    "idm_w_motiffbgn.head()"
   ]
  },
  {
   "cell_type": "code",
   "execution_count": 83,
   "metadata": {},
   "outputs": [],
   "source": [
    "idm_merge = idm_w_motiffbgn[['chrom','start','end','ENSEMBL']].rename(columns={'ENSEMBL':'name'})"
   ]
  },
  {
   "cell_type": "code",
   "execution_count": null,
   "metadata": {},
   "outputs": [],
   "source": []
  },
  {
   "cell_type": "code",
   "execution_count": null,
   "metadata": {},
   "outputs": [],
   "source": []
  },
  {
   "cell_type": "code",
   "execution_count": null,
   "metadata": {},
   "outputs": [],
   "source": [
    "alt_otf = onthefly.each(gff2bed, name_field='Name').saveas().to_dataframe()\n",
    "alt_otf['name'] = [x.split('_')[0] for x in otfbed.name]"
   ]
  },
  {
   "cell_type": "code",
   "execution_count": null,
   "metadata": {},
   "outputs": [],
   "source": [
    "alt_otf.head()"
   ]
  },
  {
   "cell_type": "code",
   "execution_count": null,
   "metadata": {},
   "outputs": [],
   "source": [
    "#add column for motif_FBGN\n",
    "otfmap = pd.read_table('../motif-wf/data/onTheFlyMap.tsv')\n",
    "y = otfmap[['name', 'FBgn']]\n",
    "alt_otf_w_fbgn = alt_otf.merge(y, on='name', how='left')\n"
   ]
  },
  {
   "cell_type": "code",
   "execution_count": null,
   "metadata": {},
   "outputs": [],
   "source": [
    "#apparently this is a mystery OTF... I will see if I have this and if I do can try to elucidate info from gff\n",
    "update = update[update.name != 'OTF0415.1']"
   ]
  },
  {
   "cell_type": "code",
   "execution_count": 41,
   "metadata": {},
   "outputs": [],
   "source": [
    "onthefly = pybedtools.BedTool('../motif-wf/data/fimo_dvir_02-15/motif_alignments_onTheFly_dvir.gff')\n",
    "otfbed = onthefly.each(gff2bed, name_field='Alias').saveas().to_dataframe()"
   ]
  },
  {
   "cell_type": "code",
   "execution_count": 42,
   "metadata": {},
   "outputs": [
    {
     "data": {
      "text/html": [
       "<div>\n",
       "<style scoped>\n",
       "    .dataframe tbody tr th:only-of-type {\n",
       "        vertical-align: middle;\n",
       "    }\n",
       "\n",
       "    .dataframe tbody tr th {\n",
       "        vertical-align: top;\n",
       "    }\n",
       "\n",
       "    .dataframe thead th {\n",
       "        text-align: right;\n",
       "    }\n",
       "</style>\n",
       "<table border=\"1\" class=\"dataframe\">\n",
       "  <thead>\n",
       "    <tr style=\"text-align: right;\">\n",
       "      <th></th>\n",
       "      <th>chrom</th>\n",
       "      <th>start</th>\n",
       "      <th>end</th>\n",
       "      <th>name</th>\n",
       "      <th>score</th>\n",
       "      <th>strand</th>\n",
       "    </tr>\n",
       "  </thead>\n",
       "  <tbody>\n",
       "    <tr>\n",
       "      <th>0</th>\n",
       "      <td>scaffold_13049</td>\n",
       "      <td>3366</td>\n",
       "      <td>3373</td>\n",
       "      <td>7UP1_DROME_B1H</td>\n",
       "      <td>41.9</td>\n",
       "      <td>-</td>\n",
       "    </tr>\n",
       "    <tr>\n",
       "      <th>1</th>\n",
       "      <td>scaffold_13049</td>\n",
       "      <td>4465</td>\n",
       "      <td>4472</td>\n",
       "      <td>7UP1_DROME_B1H</td>\n",
       "      <td>41.9</td>\n",
       "      <td>-</td>\n",
       "    </tr>\n",
       "    <tr>\n",
       "      <th>2</th>\n",
       "      <td>scaffold_13049</td>\n",
       "      <td>25387</td>\n",
       "      <td>25394</td>\n",
       "      <td>7UP1_DROME_B1H</td>\n",
       "      <td>41.9</td>\n",
       "      <td>-</td>\n",
       "    </tr>\n",
       "    <tr>\n",
       "      <th>3</th>\n",
       "      <td>scaffold_13049</td>\n",
       "      <td>28133</td>\n",
       "      <td>28140</td>\n",
       "      <td>7UP1_DROME_B1H</td>\n",
       "      <td>41.9</td>\n",
       "      <td>-</td>\n",
       "    </tr>\n",
       "    <tr>\n",
       "      <th>4</th>\n",
       "      <td>scaffold_13049</td>\n",
       "      <td>69626</td>\n",
       "      <td>69633</td>\n",
       "      <td>7UP1_DROME_B1H</td>\n",
       "      <td>41.9</td>\n",
       "      <td>-</td>\n",
       "    </tr>\n",
       "  </tbody>\n",
       "</table>\n",
       "</div>"
      ],
      "text/plain": [
       "            chrom  start    end            name  score strand\n",
       "0  scaffold_13049   3366   3373  7UP1_DROME_B1H   41.9      -\n",
       "1  scaffold_13049   4465   4472  7UP1_DROME_B1H   41.9      -\n",
       "2  scaffold_13049  25387  25394  7UP1_DROME_B1H   41.9      -\n",
       "3  scaffold_13049  28133  28140  7UP1_DROME_B1H   41.9      -\n",
       "4  scaffold_13049  69626  69633  7UP1_DROME_B1H   41.9      -"
      ]
     },
     "execution_count": 42,
     "metadata": {},
     "output_type": "execute_result"
    }
   ],
   "source": [
    "otfbed.head()"
   ]
  },
  {
   "cell_type": "code",
   "execution_count": 55,
   "metadata": {},
   "outputs": [],
   "source": [
    "otfbed['name'] = otfbed.name.astype(str, copy=False)"
   ]
  },
  {
   "cell_type": "code",
   "execution_count": 56,
   "metadata": {},
   "outputs": [],
   "source": [
    "otfbed['name'] = [x.split('_')[0] for x in otfbed.name]"
   ]
  },
  {
   "cell_type": "code",
   "execution_count": 57,
   "metadata": {},
   "outputs": [
    {
     "data": {
      "text/html": [
       "<div>\n",
       "<style scoped>\n",
       "    .dataframe tbody tr th:only-of-type {\n",
       "        vertical-align: middle;\n",
       "    }\n",
       "\n",
       "    .dataframe tbody tr th {\n",
       "        vertical-align: top;\n",
       "    }\n",
       "\n",
       "    .dataframe thead th {\n",
       "        text-align: right;\n",
       "    }\n",
       "</style>\n",
       "<table border=\"1\" class=\"dataframe\">\n",
       "  <thead>\n",
       "    <tr style=\"text-align: right;\">\n",
       "      <th></th>\n",
       "      <th>chrom</th>\n",
       "      <th>start</th>\n",
       "      <th>end</th>\n",
       "      <th>name</th>\n",
       "      <th>score</th>\n",
       "      <th>strand</th>\n",
       "    </tr>\n",
       "  </thead>\n",
       "  <tbody>\n",
       "    <tr>\n",
       "      <th>0</th>\n",
       "      <td>scaffold_13049</td>\n",
       "      <td>3366</td>\n",
       "      <td>3373</td>\n",
       "      <td>7UP1</td>\n",
       "      <td>41.9</td>\n",
       "      <td>-</td>\n",
       "    </tr>\n",
       "    <tr>\n",
       "      <th>1</th>\n",
       "      <td>scaffold_13049</td>\n",
       "      <td>4465</td>\n",
       "      <td>4472</td>\n",
       "      <td>7UP1</td>\n",
       "      <td>41.9</td>\n",
       "      <td>-</td>\n",
       "    </tr>\n",
       "    <tr>\n",
       "      <th>2</th>\n",
       "      <td>scaffold_13049</td>\n",
       "      <td>25387</td>\n",
       "      <td>25394</td>\n",
       "      <td>7UP1</td>\n",
       "      <td>41.9</td>\n",
       "      <td>-</td>\n",
       "    </tr>\n",
       "    <tr>\n",
       "      <th>3</th>\n",
       "      <td>scaffold_13049</td>\n",
       "      <td>28133</td>\n",
       "      <td>28140</td>\n",
       "      <td>7UP1</td>\n",
       "      <td>41.9</td>\n",
       "      <td>-</td>\n",
       "    </tr>\n",
       "    <tr>\n",
       "      <th>4</th>\n",
       "      <td>scaffold_13049</td>\n",
       "      <td>69626</td>\n",
       "      <td>69633</td>\n",
       "      <td>7UP1</td>\n",
       "      <td>41.9</td>\n",
       "      <td>-</td>\n",
       "    </tr>\n",
       "  </tbody>\n",
       "</table>\n",
       "</div>"
      ],
      "text/plain": [
       "            chrom  start    end  name  score strand\n",
       "0  scaffold_13049   3366   3373  7UP1   41.9      -\n",
       "1  scaffold_13049   4465   4472  7UP1   41.9      -\n",
       "2  scaffold_13049  25387  25394  7UP1   41.9      -\n",
       "3  scaffold_13049  28133  28140  7UP1   41.9      -\n",
       "4  scaffold_13049  69626  69633  7UP1   41.9      -"
      ]
     },
     "execution_count": 57,
     "metadata": {},
     "output_type": "execute_result"
    }
   ],
   "source": [
    "otfbed.head()"
   ]
  },
  {
   "cell_type": "code",
   "execution_count": 67,
   "metadata": {},
   "outputs": [],
   "source": [
    "lower_case = []  \n",
    "for x in otfbed.name:\n",
    "    if x.startswith('FBpp0'):\n",
    "        lower_case.append(x)\n",
    "    else:\n",
    "        lower_case.append(x.lower())"
   ]
  },
  {
   "cell_type": "code",
   "execution_count": 71,
   "metadata": {},
   "outputs": [],
   "source": [
    "otfbed['lower'] = lower_case"
   ]
  },
  {
   "cell_type": "code",
   "execution_count": 73,
   "metadata": {},
   "outputs": [],
   "source": [
    "otf_w_motiffbgn = otfbed.merge(symbolmap, left_on='lower', right_on='SYMBOL', how='left')"
   ]
  },
  {
   "cell_type": "code",
   "execution_count": 84,
   "metadata": {},
   "outputs": [
    {
     "data": {
      "text/plain": [
       "array(['7up1', 'a0jq60', 'a1a6r5', 'a1z858', 'a1z8f4', 'a1za01', 'a1zb05',\n",
       "       'a1zbv6', 'a2vef7', 'a4ij65', 'a4ij80', 'a4uz51', 'a4v1y6',\n",
       "       'a4v1y7', 'a4v304', 'a4v334', 'a4vck2', 'a7vjj6', 'a8dy91',\n",
       "       'a8dys7', 'a8dyz8', 'a8juv3', 'a8juy5', 'a8vem3', 'a8wdw9',\n",
       "       'a8whe9', 'a8whl0', 'a9ygg0', 'a9yhi4', 'a9yik2', 'a9yik4',\n",
       "       'a9yik9', 'abda', 'abdb', 'abru', 'adf1', 'aef1', 'antp', 'apte',\n",
       "       'arnt', 'ast3', 'ast5', 'ast8', 'b3dn74', 'b4yw46', 'b4yxm1',\n",
       "       'b6idr1', 'b6vqa1', 'b7z003', 'b7z056', 'b7z0c4', 'b7z0k0',\n",
       "       'b7z0s3', 'b7z0s4', 'b7z0u8', 'b7z0y0', 'nan', 'barh1', 'barh2',\n",
       "       'brc1', 'brc4', 'c0lrf2', 'c0lrg8', 'c0lrh3', 'c0lrh4', 'c0lrj9',\n",
       "       'c0lrk7', 'c0lrl8', 'c0lrm0', 'c0lrm1', 'c0mk07', 'c4jc86', 'cebp',\n",
       "       'cf2', 'clock', 'creba', 'cut', 'cycl', 'da', 'dei', 'dfd', 'dich',\n",
       "       'disc', 'dll', 'dors', 'dri', 'e74ea', 'e74eb', 'e75ba', 'egon',\n",
       "       'elf1', 'elg', 'esca', 'esm3', 'esm5', 'esm7', 'esm8', 'esmc',\n",
       "       'esmd', 'ets4', 'FBpp0070252', 'FBpp0070255', 'FBpp0070256',\n",
       "       'FBpp0070707', 'FBpp0070708', 'FBpp0072285', 'FBpp0074854',\n",
       "       'FBpp0074966', 'FBpp0075771', 'FBpp0077189', 'FBpp0078046',\n",
       "       'FBpp0079883', 'FBpp0080558', 'FBpp0081160', 'FBpp0081165',\n",
       "       'FBpp0081166', 'FBpp0081167', 'FBpp0081257', 'FBpp0082670',\n",
       "       'FBpp0082794', 'FBpp0082795', 'FBpp0082796', 'FBpp0082797',\n",
       "       'FBpp0082828', 'FBpp0083863', 'FBpp0085395', 'FBpp0085446',\n",
       "       'FBpp0087942', 'FBpp0088300', 'FBpp0088334', 'FBpp0088335',\n",
       "       'FBpp0088336', 'FBpp0088361', 'FBpp0088378', 'FBpp0088591',\n",
       "       'FBpp0088657', 'FBpp0089114', 'FBpp0089155', 'FBpp0099631',\n",
       "       'FBpp0099632', 'FBpp0100052', 'FBpp0110069', 'FBpp0288983',\n",
       "       'FBpp0289432', 'FBpp0289659', 'FBpp0289731', 'FBpp0289765',\n",
       "       'FBpp0289766', 'FBpp0289767', 'FBpp0289768', 'FBpp0289778',\n",
       "       'FBpp0290758', 'FBpp0290883', 'FBpp0290923', 'fd2', 'gaga', 'gfi1',\n",
       "       'giant', 'glas', 'glis2', 'gsc', 'hair', 'hey', 'hmen', 'hmin',\n",
       "       'hmpb', 'hmsh', 'hmx', 'hr3', 'hr4', 'hsf', 'hunb', 'jra', 'knir',\n",
       "       'krup', 'mad', 'max', 'myod', 'nfkb1', 'o01348', 'o01667', 'o18374',\n",
       "       'o18387', 'o18401', 'o18660', 'o46205', 'o61360', 'o61373',\n",
       "       'o61458', 'o61640', 'o62609', 'o76259', 'o77069', 'o77278',\n",
       "       'o96083', 'o96616', 'o96620', 'o96680', 'o96686', 'o96791', 'onec',\n",
       "       'optix', 'p91626', 'p92031', 'pang1', 'pang2', 'pax6', 'pdm1',\n",
       "       'pitx1', 'pnt1', 'pok', 'q058w3', 'q0e9c5', 'q0igp9', 'q0igq7',\n",
       "       'q0igr4', 'q0igt0', 'q0igt4', 'q0igu0', 'q0khx8', 'q24016',\n",
       "       'q24079', 'q24107', 'q24140', 'q24146', 'q24416', 'q24477',\n",
       "       'q24605', 'q29r02', 'q29r14', 'q2mgn0', 'q2pdr8', 'q2pdy1',\n",
       "       'q2pdy2', 'q2pe13', 'q2pe40', 'q2xye6', 'q32kc1', 'q32kd0',\n",
       "       'q32ke3', 'q3kn35', 'q3ynb0', 'q3ynb8', 'q3ynd8', 'q4h2f7',\n",
       "       'q4h2f8', 'q4h2f9', 'q4jh20', 'q4v5a4', 'q4v6v1', 'q4v700',\n",
       "       'q4v708', 'q4v727', 'q4v729', 'q53xf9', 'q56k49', 'q56k83',\n",
       "       'q59dq1', 'q59dq2', 'q59e67', 'q5bib4', 'q5u114', 'q61676',\n",
       "       'q61677', 'q6nnv5', 'q6nnz9', 'q7jmt6', 'q7jn06', 'q7jq85',\n",
       "       'q7jr08', 'q7juz9', 'q7jzd5', 'q7k2v1', 'q7k3x3', 'q7k9g4',\n",
       "       'q7kah0', 'q7kf43', 'q7kpl1', 'q7kqf8', 'q7krt5', 'q7ks72',\n",
       "       'q7ks77', 'q7kse4', 'q7ksp5', 'q7ksy5', 'q7ksy6', 'q7ksy7',\n",
       "       'q7kuk4', 'q7kv66', 'q7yu17', 'q7yu22', 'q7yu39', 'q7yu61',\n",
       "       'q7yu84', 'q867h6', 'q86b70', 'q86bz1', 'q86bz2', 'q86bz3',\n",
       "       'q86bz4', 'q86bz5', 'q86nk7', 'q86nl5', 'q86p38', 'q86p58',\n",
       "       'q86pc0', 'q8ign6', 'q8inp5', 'q8int6', 'q8ip13', 'q8ipa9',\n",
       "       'q8ir25', 'q8irs3', 'q8irx4', 'q8mql7', 'q8mr37', 'q8mri9',\n",
       "       'q8mrw5', 'q8myl2', 'q8mz02', 'q8swv1', 'q8sxa4', 'q8sxb8',\n",
       "       'q8sxk1', 'q8sxr3', 'q8syh5', 'q8sys1', 'q8sz20', 'q8szt5',\n",
       "       'q8t091', 'q8t0v5', 'q8t3m3', 'q8t9n0', 'q94513', 'q94883',\n",
       "       'q95rd9', 'q95sx3', 'q95t66', 'q95tf1', 'q95th9', 'q95tw5',\n",
       "       'q95wv0', 'q960g9', 'q960s0', 'q961v5', 'q963l0', 'q9bpq2',\n",
       "       'q9gqp6', 'q9gs19', 'q9nhp8', 'q9u010', 'q9u5x2', 'q9u8f7',\n",
       "       'q9u984', 'q9vab8', 'q9vcy0', 'q9vd99', 'q9vda1', 'q9vda2',\n",
       "       'q9vdf0', 'q9vdh9', 'q9vdq5', 'q9ve23', 'q9vea3', 'q9veq7',\n",
       "       'q9vf93', 'q9vfk4', 'q9vfq3', 'q9vh87', 'q9vha4', 'q9vi12',\n",
       "       'q9vi24', 'q9vi67', 'q9vj00', 'q9vj02', 'q9vj16', 'q9vj37',\n",
       "       'q9vjc1', 'q9vl05', 'q9vn10', 'q9vpl4', 'q9vq56', 'q9vqv3',\n",
       "       'q9vrn4', 'q9vs05', 'q9vsc2', 'q9vst2', 'q9vsz3', 'q9vte8',\n",
       "       'q9vtk6', 'q9vtw3', 'q9vtw5', 'q9vu01', 'q9vwx7', 'q9vx20',\n",
       "       'q9vyl0', 'q9vzn4', 'q9w064', 'q9w0p9', 'q9w1u7', 'q9w1w2',\n",
       "       'q9w423', 'q9w4b3', 'q9xtn4', 'q9xzc2', 'q9xzu0', 'q9y0z9',\n",
       "       'q9y1p6', 'rough', 'runt', 'rx', 'scal', 'scr', 'snai', 'sox14',\n",
       "       'sox15', 'suhw', 'suh', 'ttka', 'ttkb', 'twist', 'ubx', 'unc4',\n",
       "       'zen1', 'zest', 'FBpp0081164', 'FBpp0099822', 'q8ws79'], dtype=object)"
      ]
     },
     "execution_count": 84,
     "metadata": {},
     "output_type": "execute_result"
    }
   ],
   "source": [
    "otf_w_motiffbgn[otf_w_motiffbgn.ENSEMBL.isnull()].lower.unique()"
   ]
  },
  {
   "cell_type": "code",
   "execution_count": 88,
   "metadata": {},
   "outputs": [],
   "source": [
    "fix_blanks = otf_w_motiffbgn.copy()"
   ]
  },
  {
   "cell_type": "code",
   "execution_count": null,
   "metadata": {},
   "outputs": [],
   "source": [
    "fix_blanks.loc[fix_blanks.lower == 'abda', 'ENSEMBL'] = 'FBgn0000014'\n",
    "fix_blanks.loc[fix_blanks.lower == 'abdb', 'ENSEMBL'] = 'FBgn0000015'\n",
    "fix_blanks.loc[fix_blanks.lower == 'abdb', 'ENSEMBL'] = 'FBgn0000015'"
   ]
  },
  {
   "cell_type": "code",
   "execution_count": null,
   "metadata": {},
   "outputs": [],
   "source": []
  },
  {
   "cell_type": "code",
   "execution_count": null,
   "metadata": {},
   "outputs": [],
   "source": []
  },
  {
   "cell_type": "code",
   "execution_count": null,
   "metadata": {},
   "outputs": [],
   "source": [
    "otf_merge = otf_w_motiffbgn[['chrom','start','end',]]"
   ]
  },
  {
   "cell_type": "code",
   "execution_count": null,
   "metadata": {},
   "outputs": [],
   "source": []
  },
  {
   "cell_type": "code",
   "execution_count": null,
   "metadata": {},
   "outputs": [],
   "source": [
    "#put all together\n",
    "#drop duplicates\n",
    "#target gene intersect\n",
    "#collapse"
   ]
  }
 ],
 "metadata": {
  "kernelspec": {
   "display_name": "Python 3",
   "language": "python",
   "name": "python3"
  },
  "language_info": {
   "codemirror_mode": {
    "name": "ipython",
    "version": 3
   },
   "file_extension": ".py",
   "mimetype": "text/x-python",
   "name": "python",
   "nbconvert_exporter": "python",
   "pygments_lexer": "ipython3",
   "version": "3.6.3"
  }
 },
 "nbformat": 4,
 "nbformat_minor": 2
}
