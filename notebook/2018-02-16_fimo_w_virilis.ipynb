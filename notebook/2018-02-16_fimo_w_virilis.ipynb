{
 "cells": [
  {
   "cell_type": "markdown",
   "metadata": {},
   "source": [
    "# FIMO output using D. virilis\n",
    "\n",
    "First: \n",
    "- collapse to the gene level, compare existence of TF/gene relationships"
   ]
  },
  {
   "cell_type": "code",
   "execution_count": 1,
   "metadata": {},
   "outputs": [],
   "source": [
    "import pandas as pd\n",
    "import gffutils\n",
    "from gffutils import pybedtools_integration\n",
    "import pybedtools\n",
    "from pybedtools.featurefuncs import gff2bed\n",
    "import seaborn as sb"
   ]
  },
  {
   "cell_type": "markdown",
   "metadata": {},
   "source": [
    "### Import gffs from fimo output and change to bed format:  \n",
    "5 motif databases: dmmpmm, flyFactor, flyReg, idmmpmm, & onTheFly"
   ]
  },
  {
   "cell_type": "code",
   "execution_count": 2,
   "metadata": {},
   "outputs": [],
   "source": [
    "#note: score is min(1000, -10*(log10(pvalue)))\n",
    "#for now I'm not going to worry about trying to get the pvalue since we're just collapsing everything to gene\n",
    "dmm = pybedtools.BedTool('../motif-wf/data/fimo_dvir_02-15/motif_alignments_dmmpmm2009_dvir.gff')\n",
    "dmmbed = dmm.each(gff2bed, name_field='ID').saveas().to_dataframe()\n",
    "dmmbed['name'] = [x.split('-')[0] for x in dmmbed.name]"
   ]
  },
  {
   "cell_type": "code",
   "execution_count": 3,
   "metadata": {},
   "outputs": [],
   "source": [
    "#add column for motif_FBgn\n",
    "symbolmap = pd.read_table('/data/LCDB/lcdb-references/dmel/r6-11/gtf/dmel_r6-11.SYMBOL.csv', sep=',') \n",
    "dmm_w_motiffbgn = dmmbed.merge(symbolmap, left_on='name', right_on='SYMBOL', how='left')"
   ]
  },
  {
   "cell_type": "code",
   "execution_count": 4,
   "metadata": {},
   "outputs": [
    {
     "data": {
      "text/html": [
       "<div>\n",
       "<style scoped>\n",
       "    .dataframe tbody tr th:only-of-type {\n",
       "        vertical-align: middle;\n",
       "    }\n",
       "\n",
       "    .dataframe tbody tr th {\n",
       "        vertical-align: top;\n",
       "    }\n",
       "\n",
       "    .dataframe thead th {\n",
       "        text-align: right;\n",
       "    }\n",
       "</style>\n",
       "<table border=\"1\" class=\"dataframe\">\n",
       "  <thead>\n",
       "    <tr style=\"text-align: right;\">\n",
       "      <th></th>\n",
       "      <th>chrom</th>\n",
       "      <th>start</th>\n",
       "      <th>end</th>\n",
       "      <th>name</th>\n",
       "      <th>score</th>\n",
       "      <th>strand</th>\n",
       "      <th>ENSEMBL</th>\n",
       "      <th>SYMBOL</th>\n",
       "    </tr>\n",
       "  </thead>\n",
       "  <tbody>\n",
       "    <tr>\n",
       "      <th>0</th>\n",
       "      <td>scaffold_13049</td>\n",
       "      <td>340807</td>\n",
       "      <td>340815</td>\n",
       "      <td>bcd</td>\n",
       "      <td>48.3</td>\n",
       "      <td>-</td>\n",
       "      <td>FBgn0000166</td>\n",
       "      <td>bcd</td>\n",
       "    </tr>\n",
       "    <tr>\n",
       "      <th>1</th>\n",
       "      <td>scaffold_13049</td>\n",
       "      <td>630585</td>\n",
       "      <td>630593</td>\n",
       "      <td>bcd</td>\n",
       "      <td>48.3</td>\n",
       "      <td>-</td>\n",
       "      <td>FBgn0000166</td>\n",
       "      <td>bcd</td>\n",
       "    </tr>\n",
       "    <tr>\n",
       "      <th>2</th>\n",
       "      <td>scaffold_13049</td>\n",
       "      <td>666194</td>\n",
       "      <td>666202</td>\n",
       "      <td>bcd</td>\n",
       "      <td>48.3</td>\n",
       "      <td>-</td>\n",
       "      <td>FBgn0000166</td>\n",
       "      <td>bcd</td>\n",
       "    </tr>\n",
       "    <tr>\n",
       "      <th>3</th>\n",
       "      <td>scaffold_13049</td>\n",
       "      <td>915737</td>\n",
       "      <td>915745</td>\n",
       "      <td>bcd</td>\n",
       "      <td>48.3</td>\n",
       "      <td>-</td>\n",
       "      <td>FBgn0000166</td>\n",
       "      <td>bcd</td>\n",
       "    </tr>\n",
       "    <tr>\n",
       "      <th>4</th>\n",
       "      <td>scaffold_13049</td>\n",
       "      <td>1103900</td>\n",
       "      <td>1103908</td>\n",
       "      <td>bcd</td>\n",
       "      <td>48.3</td>\n",
       "      <td>-</td>\n",
       "      <td>FBgn0000166</td>\n",
       "      <td>bcd</td>\n",
       "    </tr>\n",
       "  </tbody>\n",
       "</table>\n",
       "</div>"
      ],
      "text/plain": [
       "            chrom    start      end name  score strand      ENSEMBL SYMBOL\n",
       "0  scaffold_13049   340807   340815  bcd   48.3      -  FBgn0000166    bcd\n",
       "1  scaffold_13049   630585   630593  bcd   48.3      -  FBgn0000166    bcd\n",
       "2  scaffold_13049   666194   666202  bcd   48.3      -  FBgn0000166    bcd\n",
       "3  scaffold_13049   915737   915745  bcd   48.3      -  FBgn0000166    bcd\n",
       "4  scaffold_13049  1103900  1103908  bcd   48.3      -  FBgn0000166    bcd"
      ]
     },
     "execution_count": 4,
     "metadata": {},
     "output_type": "execute_result"
    }
   ],
   "source": [
    "dmm_w_motiffbgn.head()"
   ]
  },
  {
   "cell_type": "code",
   "execution_count": 5,
   "metadata": {},
   "outputs": [],
   "source": [
    "dmm_merge = dmm_w_motiffbgn[['chrom','start','end','ENSEMBL']].rename(columns={'ENSEMBL':'name'})"
   ]
  },
  {
   "cell_type": "code",
   "execution_count": 6,
   "metadata": {},
   "outputs": [],
   "source": [
    "flyfac = pybedtools.BedTool('../motif-wf/data/fimo_dvir_02-15/motif_alignments_flyFactor_dvir.gff')\n",
    "ffbed = flyfac.each(gff2bed, name_field='Name').saveas().to_dataframe()\n",
    "ffbed['name'] = [x.split('_')[0] for x in ffbed.name]"
   ]
  },
  {
   "cell_type": "code",
   "execution_count": 7,
   "metadata": {},
   "outputs": [
    {
     "data": {
      "text/html": [
       "<div>\n",
       "<style scoped>\n",
       "    .dataframe tbody tr th:only-of-type {\n",
       "        vertical-align: middle;\n",
       "    }\n",
       "\n",
       "    .dataframe tbody tr th {\n",
       "        vertical-align: top;\n",
       "    }\n",
       "\n",
       "    .dataframe thead th {\n",
       "        text-align: right;\n",
       "    }\n",
       "</style>\n",
       "<table border=\"1\" class=\"dataframe\">\n",
       "  <thead>\n",
       "    <tr style=\"text-align: right;\">\n",
       "      <th></th>\n",
       "      <th>chrom</th>\n",
       "      <th>start</th>\n",
       "      <th>end</th>\n",
       "      <th>name</th>\n",
       "      <th>score</th>\n",
       "      <th>strand</th>\n",
       "    </tr>\n",
       "  </thead>\n",
       "  <tbody>\n",
       "    <tr>\n",
       "      <th>0</th>\n",
       "      <td>scaffold_13049</td>\n",
       "      <td>53234</td>\n",
       "      <td>53242</td>\n",
       "      <td>FBgn0000014</td>\n",
       "      <td>45.8</td>\n",
       "      <td>+</td>\n",
       "    </tr>\n",
       "    <tr>\n",
       "      <th>1</th>\n",
       "      <td>scaffold_13049</td>\n",
       "      <td>145683</td>\n",
       "      <td>145691</td>\n",
       "      <td>FBgn0000014</td>\n",
       "      <td>45.8</td>\n",
       "      <td>+</td>\n",
       "    </tr>\n",
       "    <tr>\n",
       "      <th>2</th>\n",
       "      <td>scaffold_13049</td>\n",
       "      <td>149968</td>\n",
       "      <td>149976</td>\n",
       "      <td>FBgn0000014</td>\n",
       "      <td>45.8</td>\n",
       "      <td>+</td>\n",
       "    </tr>\n",
       "    <tr>\n",
       "      <th>3</th>\n",
       "      <td>scaffold_13049</td>\n",
       "      <td>155609</td>\n",
       "      <td>155617</td>\n",
       "      <td>FBgn0000014</td>\n",
       "      <td>45.8</td>\n",
       "      <td>+</td>\n",
       "    </tr>\n",
       "    <tr>\n",
       "      <th>4</th>\n",
       "      <td>scaffold_13049</td>\n",
       "      <td>181619</td>\n",
       "      <td>181627</td>\n",
       "      <td>FBgn0000014</td>\n",
       "      <td>45.8</td>\n",
       "      <td>+</td>\n",
       "    </tr>\n",
       "  </tbody>\n",
       "</table>\n",
       "</div>"
      ],
      "text/plain": [
       "            chrom   start     end         name  score strand\n",
       "0  scaffold_13049   53234   53242  FBgn0000014   45.8      +\n",
       "1  scaffold_13049  145683  145691  FBgn0000014   45.8      +\n",
       "2  scaffold_13049  149968  149976  FBgn0000014   45.8      +\n",
       "3  scaffold_13049  155609  155617  FBgn0000014   45.8      +\n",
       "4  scaffold_13049  181619  181627  FBgn0000014   45.8      +"
      ]
     },
     "execution_count": 7,
     "metadata": {},
     "output_type": "execute_result"
    }
   ],
   "source": [
    "ffbed.head()"
   ]
  },
  {
   "cell_type": "code",
   "execution_count": 8,
   "metadata": {},
   "outputs": [],
   "source": [
    "ffmerge = ffbed[['chrom','start','end','name']]"
   ]
  },
  {
   "cell_type": "code",
   "execution_count": 9,
   "metadata": {},
   "outputs": [],
   "source": [
    "flyreg = pybedtools.BedTool('../motif-wf/data/fimo_dvir_02-15/motif_alignments_flyReg_dvir.gff')\n",
    "frbed = flyreg.each(gff2bed, name_field='Name').saveas().to_dataframe()\n",
    "frbed['name'] = [x.split('_')[0] for x in frbed.name]"
   ]
  },
  {
   "cell_type": "code",
   "execution_count": 10,
   "metadata": {},
   "outputs": [],
   "source": [
    "#add column for motif_FBgn\n",
    "fr_w_motiffbgn = frbed.merge(symbolmap, left_on='name', right_on='SYMBOL', how='left')"
   ]
  },
  {
   "cell_type": "code",
   "execution_count": 11,
   "metadata": {},
   "outputs": [
    {
     "data": {
      "text/html": [
       "<div>\n",
       "<style scoped>\n",
       "    .dataframe tbody tr th:only-of-type {\n",
       "        vertical-align: middle;\n",
       "    }\n",
       "\n",
       "    .dataframe tbody tr th {\n",
       "        vertical-align: top;\n",
       "    }\n",
       "\n",
       "    .dataframe thead th {\n",
       "        text-align: right;\n",
       "    }\n",
       "</style>\n",
       "<table border=\"1\" class=\"dataframe\">\n",
       "  <thead>\n",
       "    <tr style=\"text-align: right;\">\n",
       "      <th></th>\n",
       "      <th>chrom</th>\n",
       "      <th>start</th>\n",
       "      <th>end</th>\n",
       "      <th>name</th>\n",
       "      <th>score</th>\n",
       "      <th>strand</th>\n",
       "      <th>ENSEMBL</th>\n",
       "      <th>SYMBOL</th>\n",
       "    </tr>\n",
       "  </thead>\n",
       "  <tbody>\n",
       "    <tr>\n",
       "      <th>0</th>\n",
       "      <td>scaffold_13049</td>\n",
       "      <td>53234</td>\n",
       "      <td>53242</td>\n",
       "      <td>abd-A</td>\n",
       "      <td>45.8</td>\n",
       "      <td>+</td>\n",
       "      <td>FBgn0000014</td>\n",
       "      <td>abd-A</td>\n",
       "    </tr>\n",
       "    <tr>\n",
       "      <th>1</th>\n",
       "      <td>scaffold_13049</td>\n",
       "      <td>145683</td>\n",
       "      <td>145691</td>\n",
       "      <td>abd-A</td>\n",
       "      <td>45.8</td>\n",
       "      <td>+</td>\n",
       "      <td>FBgn0000014</td>\n",
       "      <td>abd-A</td>\n",
       "    </tr>\n",
       "    <tr>\n",
       "      <th>2</th>\n",
       "      <td>scaffold_13049</td>\n",
       "      <td>149968</td>\n",
       "      <td>149976</td>\n",
       "      <td>abd-A</td>\n",
       "      <td>45.8</td>\n",
       "      <td>+</td>\n",
       "      <td>FBgn0000014</td>\n",
       "      <td>abd-A</td>\n",
       "    </tr>\n",
       "    <tr>\n",
       "      <th>3</th>\n",
       "      <td>scaffold_13049</td>\n",
       "      <td>155609</td>\n",
       "      <td>155617</td>\n",
       "      <td>abd-A</td>\n",
       "      <td>45.8</td>\n",
       "      <td>+</td>\n",
       "      <td>FBgn0000014</td>\n",
       "      <td>abd-A</td>\n",
       "    </tr>\n",
       "    <tr>\n",
       "      <th>4</th>\n",
       "      <td>scaffold_13049</td>\n",
       "      <td>181619</td>\n",
       "      <td>181627</td>\n",
       "      <td>abd-A</td>\n",
       "      <td>45.8</td>\n",
       "      <td>+</td>\n",
       "      <td>FBgn0000014</td>\n",
       "      <td>abd-A</td>\n",
       "    </tr>\n",
       "  </tbody>\n",
       "</table>\n",
       "</div>"
      ],
      "text/plain": [
       "            chrom   start     end   name  score strand      ENSEMBL SYMBOL\n",
       "0  scaffold_13049   53234   53242  abd-A   45.8      +  FBgn0000014  abd-A\n",
       "1  scaffold_13049  145683  145691  abd-A   45.8      +  FBgn0000014  abd-A\n",
       "2  scaffold_13049  149968  149976  abd-A   45.8      +  FBgn0000014  abd-A\n",
       "3  scaffold_13049  155609  155617  abd-A   45.8      +  FBgn0000014  abd-A\n",
       "4  scaffold_13049  181619  181627  abd-A   45.8      +  FBgn0000014  abd-A"
      ]
     },
     "execution_count": 11,
     "metadata": {},
     "output_type": "execute_result"
    }
   ],
   "source": [
    "fr_w_motiffbgn.head()"
   ]
  },
  {
   "cell_type": "code",
   "execution_count": 12,
   "metadata": {},
   "outputs": [],
   "source": [
    "fr_merge = fr_w_motiffbgn[['chrom','start','end','ENSEMBL']].rename(columns={'ENSEMBL':'name'})"
   ]
  },
  {
   "cell_type": "code",
   "execution_count": 13,
   "metadata": {},
   "outputs": [],
   "source": [
    "idm = pybedtools.BedTool('../motif-wf/data/fimo_dvir_02-15/motif_alignments_idmmpmm2009_dvir.gff')\n",
    "idmbed = idm.each(gff2bed, name_field='Name').saveas().to_dataframe()\n",
    "idmbed['name'] = [x.split('_')[0] for x in idmbed.name]"
   ]
  },
  {
   "cell_type": "code",
   "execution_count": 14,
   "metadata": {},
   "outputs": [],
   "source": [
    "idm_w_motiffbgn = idmbed.merge(symbolmap, left_on='name', right_on='SYMBOL', how='left')"
   ]
  },
  {
   "cell_type": "code",
   "execution_count": 15,
   "metadata": {},
   "outputs": [
    {
     "data": {
      "text/html": [
       "<div>\n",
       "<style scoped>\n",
       "    .dataframe tbody tr th:only-of-type {\n",
       "        vertical-align: middle;\n",
       "    }\n",
       "\n",
       "    .dataframe tbody tr th {\n",
       "        vertical-align: top;\n",
       "    }\n",
       "\n",
       "    .dataframe thead th {\n",
       "        text-align: right;\n",
       "    }\n",
       "</style>\n",
       "<table border=\"1\" class=\"dataframe\">\n",
       "  <thead>\n",
       "    <tr style=\"text-align: right;\">\n",
       "      <th></th>\n",
       "      <th>chrom</th>\n",
       "      <th>start</th>\n",
       "      <th>end</th>\n",
       "      <th>name</th>\n",
       "      <th>score</th>\n",
       "      <th>strand</th>\n",
       "      <th>ENSEMBL</th>\n",
       "      <th>SYMBOL</th>\n",
       "    </tr>\n",
       "  </thead>\n",
       "  <tbody>\n",
       "    <tr>\n",
       "      <th>0</th>\n",
       "      <td>scaffold_13049</td>\n",
       "      <td>15087</td>\n",
       "      <td>15095</td>\n",
       "      <td>abd-A</td>\n",
       "      <td>45.8</td>\n",
       "      <td>+</td>\n",
       "      <td>FBgn0000014</td>\n",
       "      <td>abd-A</td>\n",
       "    </tr>\n",
       "    <tr>\n",
       "      <th>1</th>\n",
       "      <td>scaffold_13049</td>\n",
       "      <td>80992</td>\n",
       "      <td>81000</td>\n",
       "      <td>abd-A</td>\n",
       "      <td>45.8</td>\n",
       "      <td>+</td>\n",
       "      <td>FBgn0000014</td>\n",
       "      <td>abd-A</td>\n",
       "    </tr>\n",
       "    <tr>\n",
       "      <th>2</th>\n",
       "      <td>scaffold_13049</td>\n",
       "      <td>209212</td>\n",
       "      <td>209220</td>\n",
       "      <td>abd-A</td>\n",
       "      <td>45.8</td>\n",
       "      <td>+</td>\n",
       "      <td>FBgn0000014</td>\n",
       "      <td>abd-A</td>\n",
       "    </tr>\n",
       "    <tr>\n",
       "      <th>3</th>\n",
       "      <td>scaffold_13049</td>\n",
       "      <td>270146</td>\n",
       "      <td>270154</td>\n",
       "      <td>abd-A</td>\n",
       "      <td>45.8</td>\n",
       "      <td>+</td>\n",
       "      <td>FBgn0000014</td>\n",
       "      <td>abd-A</td>\n",
       "    </tr>\n",
       "    <tr>\n",
       "      <th>4</th>\n",
       "      <td>scaffold_13049</td>\n",
       "      <td>270292</td>\n",
       "      <td>270300</td>\n",
       "      <td>abd-A</td>\n",
       "      <td>45.8</td>\n",
       "      <td>+</td>\n",
       "      <td>FBgn0000014</td>\n",
       "      <td>abd-A</td>\n",
       "    </tr>\n",
       "  </tbody>\n",
       "</table>\n",
       "</div>"
      ],
      "text/plain": [
       "            chrom   start     end   name  score strand      ENSEMBL SYMBOL\n",
       "0  scaffold_13049   15087   15095  abd-A   45.8      +  FBgn0000014  abd-A\n",
       "1  scaffold_13049   80992   81000  abd-A   45.8      +  FBgn0000014  abd-A\n",
       "2  scaffold_13049  209212  209220  abd-A   45.8      +  FBgn0000014  abd-A\n",
       "3  scaffold_13049  270146  270154  abd-A   45.8      +  FBgn0000014  abd-A\n",
       "4  scaffold_13049  270292  270300  abd-A   45.8      +  FBgn0000014  abd-A"
      ]
     },
     "execution_count": 15,
     "metadata": {},
     "output_type": "execute_result"
    }
   ],
   "source": [
    "idm_w_motiffbgn.head()"
   ]
  },
  {
   "cell_type": "code",
   "execution_count": 16,
   "metadata": {},
   "outputs": [],
   "source": [
    "idm_merge = idm_w_motiffbgn[['chrom','start','end','ENSEMBL']].rename(columns={'ENSEMBL':'name'})"
   ]
  },
  {
   "cell_type": "code",
   "execution_count": 18,
   "metadata": {},
   "outputs": [],
   "source": [
    "onthefly = pybedtools.BedTool('../motif-wf/data/fimo_dvir_02-15/motif_alignments_onTheFly_dvir.gff')\n"
   ]
  },
  {
   "cell_type": "code",
   "execution_count": 20,
   "metadata": {},
   "outputs": [],
   "source": [
    "alt_otf = onthefly.each(gff2bed, name_field='Name').saveas().to_dataframe()\n",
    "alt_otf['name'] = [x.split('_')[0] for x in alt_otf.name]"
   ]
  },
  {
   "cell_type": "code",
   "execution_count": 21,
   "metadata": {},
   "outputs": [
    {
     "data": {
      "text/html": [
       "<div>\n",
       "<style scoped>\n",
       "    .dataframe tbody tr th:only-of-type {\n",
       "        vertical-align: middle;\n",
       "    }\n",
       "\n",
       "    .dataframe tbody tr th {\n",
       "        vertical-align: top;\n",
       "    }\n",
       "\n",
       "    .dataframe thead th {\n",
       "        text-align: right;\n",
       "    }\n",
       "</style>\n",
       "<table border=\"1\" class=\"dataframe\">\n",
       "  <thead>\n",
       "    <tr style=\"text-align: right;\">\n",
       "      <th></th>\n",
       "      <th>chrom</th>\n",
       "      <th>start</th>\n",
       "      <th>end</th>\n",
       "      <th>name</th>\n",
       "      <th>score</th>\n",
       "      <th>strand</th>\n",
       "    </tr>\n",
       "  </thead>\n",
       "  <tbody>\n",
       "    <tr>\n",
       "      <th>0</th>\n",
       "      <td>scaffold_13049</td>\n",
       "      <td>3366</td>\n",
       "      <td>3373</td>\n",
       "      <td>OTF0001.1</td>\n",
       "      <td>41.9</td>\n",
       "      <td>-</td>\n",
       "    </tr>\n",
       "    <tr>\n",
       "      <th>1</th>\n",
       "      <td>scaffold_13049</td>\n",
       "      <td>4465</td>\n",
       "      <td>4472</td>\n",
       "      <td>OTF0001.1</td>\n",
       "      <td>41.9</td>\n",
       "      <td>-</td>\n",
       "    </tr>\n",
       "    <tr>\n",
       "      <th>2</th>\n",
       "      <td>scaffold_13049</td>\n",
       "      <td>25387</td>\n",
       "      <td>25394</td>\n",
       "      <td>OTF0001.1</td>\n",
       "      <td>41.9</td>\n",
       "      <td>-</td>\n",
       "    </tr>\n",
       "    <tr>\n",
       "      <th>3</th>\n",
       "      <td>scaffold_13049</td>\n",
       "      <td>28133</td>\n",
       "      <td>28140</td>\n",
       "      <td>OTF0001.1</td>\n",
       "      <td>41.9</td>\n",
       "      <td>-</td>\n",
       "    </tr>\n",
       "    <tr>\n",
       "      <th>4</th>\n",
       "      <td>scaffold_13049</td>\n",
       "      <td>69626</td>\n",
       "      <td>69633</td>\n",
       "      <td>OTF0001.1</td>\n",
       "      <td>41.9</td>\n",
       "      <td>-</td>\n",
       "    </tr>\n",
       "  </tbody>\n",
       "</table>\n",
       "</div>"
      ],
      "text/plain": [
       "            chrom  start    end       name  score strand\n",
       "0  scaffold_13049   3366   3373  OTF0001.1   41.9      -\n",
       "1  scaffold_13049   4465   4472  OTF0001.1   41.9      -\n",
       "2  scaffold_13049  25387  25394  OTF0001.1   41.9      -\n",
       "3  scaffold_13049  28133  28140  OTF0001.1   41.9      -\n",
       "4  scaffold_13049  69626  69633  OTF0001.1   41.9      -"
      ]
     },
     "execution_count": 21,
     "metadata": {},
     "output_type": "execute_result"
    }
   ],
   "source": [
    "alt_otf.head()"
   ]
  },
  {
   "cell_type": "code",
   "execution_count": 22,
   "metadata": {},
   "outputs": [],
   "source": [
    "#add column for motif_FBGN\n",
    "otfmap = pd.read_table('../motif-wf/data/onTheFlyMap.tsv')\n",
    "y = otfmap[['name', 'FBgn']]\n",
    "alt_otf_w_fbgn = alt_otf.merge(y, on='name', how='left')\n"
   ]
  },
  {
   "cell_type": "code",
   "execution_count": 25,
   "metadata": {},
   "outputs": [
    {
     "data": {
      "text/plain": [
       "array(['OTF0415.1'], dtype=object)"
      ]
     },
     "execution_count": 25,
     "metadata": {},
     "output_type": "execute_result"
    }
   ],
   "source": [
    "alt_otf_w_fbgn[alt_otf_w_fbgn.FBgn.isnull()].name.unique()"
   ]
  },
  {
   "cell_type": "code",
   "execution_count": 26,
   "metadata": {},
   "outputs": [],
   "source": [
    "#a mystery OTF... no known information about what FBgn\n",
    "otfbed = alt_otf_w_fbgn[alt_otf_w_fbgn.name != 'OTF0415.1']"
   ]
  },
  {
   "cell_type": "code",
   "execution_count": 27,
   "metadata": {},
   "outputs": [],
   "source": [
    "otf_merge = otfbed[['chrom','start','end','FBgn']].rename(columns={'FBgn':'name'})"
   ]
  },
  {
   "cell_type": "markdown",
   "metadata": {},
   "source": [
    "### Combine datasets\n",
    "Target gene intersect, make binary, drop duplicates"
   ]
  },
  {
   "cell_type": "code",
   "execution_count": 29,
   "metadata": {},
   "outputs": [],
   "source": [
    "alldatasets = pd.concat([dmm_merge, ffmerge, fr_merge, idm_merge, otf_merge])"
   ]
  },
  {
   "cell_type": "code",
   "execution_count": 48,
   "metadata": {},
   "outputs": [],
   "source": [
    "#alldatasets.to_csv('../output/motif/dvir_fimo_alldata.bed', sep='\\t', index=False)"
   ]
  },
  {
   "cell_type": "code",
   "execution_count": null,
   "metadata": {},
   "outputs": [],
   "source": []
  },
  {
   "cell_type": "code",
   "execution_count": null,
   "metadata": {},
   "outputs": [],
   "source": [
    "#start here next time and import alldatasets"
   ]
  },
  {
   "cell_type": "code",
   "execution_count": 2,
   "metadata": {},
   "outputs": [
    {
     "name": "stderr",
     "output_type": "stream",
     "text": [
      "/data/bergeric/miniconda3/envs/s2rnai/lib/python3.6/site-packages/IPython/core/interactiveshell.py:2728: DtypeWarning: Columns (3) have mixed types. Specify dtype option on import or set low_memory=False.\n",
      "  interactivity=interactivity, compiler=compiler, result=result)\n"
     ]
    }
   ],
   "source": [
    "alldatasets = pd.read_table('../output/motif/dvir_fimo_alldata.bed')"
   ]
  },
  {
   "cell_type": "code",
   "execution_count": 3,
   "metadata": {},
   "outputs": [],
   "source": [
    "genegtf = pybedtools.BedTool('/data/Oliverlab/data/annotation/dvir.v3.gtf')"
   ]
  },
  {
   "cell_type": "code",
   "execution_count": 4,
   "metadata": {},
   "outputs": [],
   "source": [
    "gene_info = genegtf.each(gff2bed, name_field='gene_id').saveas()"
   ]
  },
  {
   "cell_type": "code",
   "execution_count": 5,
   "metadata": {},
   "outputs": [],
   "source": [
    "targene_intersect = gene_info.intersect(pybedtools.BedTool.from_dataframe(alldatasets), \n",
    "                            wb=True).saveas().to_dataframe()[['name','thickStart','thickEnd','itemRgb','blockCount']]"
   ]
  },
  {
   "cell_type": "code",
   "execution_count": 6,
   "metadata": {},
   "outputs": [],
   "source": [
    "targene_intersect.columns = ['target_gene','chrom','start','end','motif_fbgn']"
   ]
  },
  {
   "cell_type": "code",
   "execution_count": 7,
   "metadata": {},
   "outputs": [
    {
     "data": {
      "text/html": [
       "<div>\n",
       "<style scoped>\n",
       "    .dataframe tbody tr th:only-of-type {\n",
       "        vertical-align: middle;\n",
       "    }\n",
       "\n",
       "    .dataframe tbody tr th {\n",
       "        vertical-align: top;\n",
       "    }\n",
       "\n",
       "    .dataframe thead th {\n",
       "        text-align: right;\n",
       "    }\n",
       "</style>\n",
       "<table border=\"1\" class=\"dataframe\">\n",
       "  <thead>\n",
       "    <tr style=\"text-align: right;\">\n",
       "      <th></th>\n",
       "      <th>target_gene</th>\n",
       "      <th>chrom</th>\n",
       "      <th>start</th>\n",
       "      <th>end</th>\n",
       "      <th>motif_fbgn</th>\n",
       "    </tr>\n",
       "  </thead>\n",
       "  <tbody>\n",
       "    <tr>\n",
       "      <th>0</th>\n",
       "      <td>DvirG_000001</td>\n",
       "      <td>scaffold_10001</td>\n",
       "      <td>143</td>\n",
       "      <td>151</td>\n",
       "      <td>FBgn0003145</td>\n",
       "    </tr>\n",
       "    <tr>\n",
       "      <th>1</th>\n",
       "      <td>DvirG_000001</td>\n",
       "      <td>scaffold_10001</td>\n",
       "      <td>279</td>\n",
       "      <td>287</td>\n",
       "      <td>FBgn0000014</td>\n",
       "    </tr>\n",
       "    <tr>\n",
       "      <th>2</th>\n",
       "      <td>DvirG_000001</td>\n",
       "      <td>scaffold_10001</td>\n",
       "      <td>279</td>\n",
       "      <td>287</td>\n",
       "      <td>FBgn0000095</td>\n",
       "    </tr>\n",
       "    <tr>\n",
       "      <th>3</th>\n",
       "      <td>DvirG_000001</td>\n",
       "      <td>scaffold_10001</td>\n",
       "      <td>279</td>\n",
       "      <td>287</td>\n",
       "      <td>FBgn0000095</td>\n",
       "    </tr>\n",
       "    <tr>\n",
       "      <th>4</th>\n",
       "      <td>DvirG_000001</td>\n",
       "      <td>scaffold_10001</td>\n",
       "      <td>307</td>\n",
       "      <td>318</td>\n",
       "      <td>FBgn0000413</td>\n",
       "    </tr>\n",
       "  </tbody>\n",
       "</table>\n",
       "</div>"
      ],
      "text/plain": [
       "    target_gene           chrom  start  end   motif_fbgn\n",
       "0  DvirG_000001  scaffold_10001    143  151  FBgn0003145\n",
       "1  DvirG_000001  scaffold_10001    279  287  FBgn0000014\n",
       "2  DvirG_000001  scaffold_10001    279  287  FBgn0000095\n",
       "3  DvirG_000001  scaffold_10001    279  287  FBgn0000095\n",
       "4  DvirG_000001  scaffold_10001    307  318  FBgn0000413"
      ]
     },
     "execution_count": 7,
     "metadata": {},
     "output_type": "execute_result"
    }
   ],
   "source": [
    "targene_intersect.head()"
   ]
  },
  {
   "cell_type": "code",
   "execution_count": 8,
   "metadata": {},
   "outputs": [],
   "source": [
    "collapse = targene_intersect[['target_gene', 'motif_fbgn']].drop_duplicates()"
   ]
  },
  {
   "cell_type": "code",
   "execution_count": 9,
   "metadata": {},
   "outputs": [],
   "source": [
    "#switch to flybase annotation\n",
    "refmap = pd.read_table('../output/annotation/gffcmp.dvir.v3.gtf.refmap')\n",
    "refmap['gene_fbgn'] = [x.split('|')[0] for x in refmap.qry_id_list]\n",
    "genemap = refmap[['ref_gene_id','class_code','gene_fbgn']]"
   ]
  },
  {
   "cell_type": "code",
   "execution_count": 10,
   "metadata": {},
   "outputs": [
    {
     "data": {
      "text/html": [
       "<div>\n",
       "<style scoped>\n",
       "    .dataframe tbody tr th:only-of-type {\n",
       "        vertical-align: middle;\n",
       "    }\n",
       "\n",
       "    .dataframe tbody tr th {\n",
       "        vertical-align: top;\n",
       "    }\n",
       "\n",
       "    .dataframe thead th {\n",
       "        text-align: right;\n",
       "    }\n",
       "</style>\n",
       "<table border=\"1\" class=\"dataframe\">\n",
       "  <thead>\n",
       "    <tr style=\"text-align: right;\">\n",
       "      <th></th>\n",
       "      <th>ref_gene_id</th>\n",
       "      <th>gene_fbgn</th>\n",
       "    </tr>\n",
       "  </thead>\n",
       "  <tbody>\n",
       "    <tr>\n",
       "      <th>0</th>\n",
       "      <td>FBgn0256559</td>\n",
       "      <td>DvirG_000001</td>\n",
       "    </tr>\n",
       "    <tr>\n",
       "      <th>1</th>\n",
       "      <td>FBgn0282270</td>\n",
       "      <td>DvirG_000002</td>\n",
       "    </tr>\n",
       "    <tr>\n",
       "      <th>2</th>\n",
       "      <td>FBgn0282538</td>\n",
       "      <td>DvirG_000003</td>\n",
       "    </tr>\n",
       "    <tr>\n",
       "      <th>3</th>\n",
       "      <td>FBgn0256560</td>\n",
       "      <td>DvirG_000004</td>\n",
       "    </tr>\n",
       "    <tr>\n",
       "      <th>4</th>\n",
       "      <td>FBgn0282609</td>\n",
       "      <td>DvirG_000005</td>\n",
       "    </tr>\n",
       "  </tbody>\n",
       "</table>\n",
       "</div>"
      ],
      "text/plain": [
       "   ref_gene_id     gene_fbgn\n",
       "0  FBgn0256559  DvirG_000001\n",
       "1  FBgn0282270  DvirG_000002\n",
       "2  FBgn0282538  DvirG_000003\n",
       "3  FBgn0256560  DvirG_000004\n",
       "4  FBgn0282609  DvirG_000005"
      ]
     },
     "execution_count": 10,
     "metadata": {},
     "output_type": "execute_result"
    }
   ],
   "source": [
    "completematch = genemap[genemap.class_code == '='][['ref_gene_id','gene_fbgn']]\n",
    "completematch.head()"
   ]
  },
  {
   "cell_type": "code",
   "execution_count": 11,
   "metadata": {},
   "outputs": [],
   "source": [
    "merge_1 = collapse.merge(completematch, left_on='target_gene', right_on='gene_fbgn', how='inner')[['motif_fbgn',\n",
    "                                                                            'ref_gene_id','gene_fbgn']]"
   ]
  },
  {
   "cell_type": "code",
   "execution_count": 12,
   "metadata": {},
   "outputs": [],
   "source": [
    "merge_1 = merge_1.rename(columns={'ref_gene_id':'target_gene'})"
   ]
  },
  {
   "cell_type": "code",
   "execution_count": 13,
   "metadata": {},
   "outputs": [
    {
     "data": {
      "text/html": [
       "<div>\n",
       "<style scoped>\n",
       "    .dataframe tbody tr th:only-of-type {\n",
       "        vertical-align: middle;\n",
       "    }\n",
       "\n",
       "    .dataframe tbody tr th {\n",
       "        vertical-align: top;\n",
       "    }\n",
       "\n",
       "    .dataframe thead th {\n",
       "        text-align: right;\n",
       "    }\n",
       "</style>\n",
       "<table border=\"1\" class=\"dataframe\">\n",
       "  <thead>\n",
       "    <tr style=\"text-align: right;\">\n",
       "      <th></th>\n",
       "      <th>Dmel</th>\n",
       "      <th>Symbol</th>\n",
       "      <th>Dvir</th>\n",
       "    </tr>\n",
       "  </thead>\n",
       "  <tbody>\n",
       "    <tr>\n",
       "      <th>0</th>\n",
       "      <td>FBgn0025571</td>\n",
       "      <td>SF1</td>\n",
       "      <td>FBgn0283420</td>\n",
       "    </tr>\n",
       "    <tr>\n",
       "      <th>1</th>\n",
       "      <td>FBgn0085468</td>\n",
       "      <td>ND-MWFE</td>\n",
       "      <td>FBgn0283412</td>\n",
       "    </tr>\n",
       "    <tr>\n",
       "      <th>2</th>\n",
       "      <td>FBgn0001253</td>\n",
       "      <td>ImpE1</td>\n",
       "      <td>FBgn0283406</td>\n",
       "    </tr>\n",
       "    <tr>\n",
       "      <th>3</th>\n",
       "      <td>FBgn0050022</td>\n",
       "      <td>CG30022</td>\n",
       "      <td>FBgn0283403</td>\n",
       "    </tr>\n",
       "    <tr>\n",
       "      <th>4</th>\n",
       "      <td>FBgn0037365</td>\n",
       "      <td>CG2104</td>\n",
       "      <td>FBgn0283394</td>\n",
       "    </tr>\n",
       "  </tbody>\n",
       "</table>\n",
       "</div>"
      ],
      "text/plain": [
       "          Dmel   Symbol         Dvir\n",
       "0  FBgn0025571      SF1  FBgn0283420\n",
       "1  FBgn0085468  ND-MWFE  FBgn0283412\n",
       "2  FBgn0001253    ImpE1  FBgn0283406\n",
       "3  FBgn0050022  CG30022  FBgn0283403\n",
       "4  FBgn0037365   CG2104  FBgn0283394"
      ]
     },
     "execution_count": 13,
     "metadata": {},
     "output_type": "execute_result"
    }
   ],
   "source": [
    "#import orthologs\n",
    "dvirorthologs = pd.read_table('/data/Oliverlab/data/orthologs/flyBase_orthoDB_one2one/dvir.concise.one2one',\n",
    "                             header=None, names=['Dmel','Symbol','Dvir'])\n",
    "dvirorthologs.head()"
   ]
  },
  {
   "cell_type": "code",
   "execution_count": 14,
   "metadata": {},
   "outputs": [],
   "source": [
    "merge_2 = merge_1.merge(dvirorthologs, left_on='target_gene', right_on='Dvir', how='inner')"
   ]
  },
  {
   "cell_type": "code",
   "execution_count": 15,
   "metadata": {},
   "outputs": [],
   "source": [
    "ortholog_target_genes = merge_2[['motif_fbgn','Dmel']].rename(columns={'Dmel':'target_gene'})"
   ]
  },
  {
   "cell_type": "code",
   "execution_count": 16,
   "metadata": {},
   "outputs": [],
   "source": [
    "ortholog_target_genes['binary'] = 1"
   ]
  },
  {
   "cell_type": "markdown",
   "metadata": {},
   "source": [
    "## Compare to motifs we have in Dmel"
   ]
  },
  {
   "cell_type": "code",
   "execution_count": 17,
   "metadata": {},
   "outputs": [],
   "source": [
    "dmel_motifs = pd.read_table('../output/motif/tf_merge.bed', header=None, \n",
    "                            names=['chrom', 'start','end','pval','motif_symbol','motif_FBgn'])"
   ]
  },
  {
   "cell_type": "code",
   "execution_count": 18,
   "metadata": {},
   "outputs": [
    {
     "data": {
      "text/html": [
       "<div>\n",
       "<style scoped>\n",
       "    .dataframe tbody tr th:only-of-type {\n",
       "        vertical-align: middle;\n",
       "    }\n",
       "\n",
       "    .dataframe tbody tr th {\n",
       "        vertical-align: top;\n",
       "    }\n",
       "\n",
       "    .dataframe thead th {\n",
       "        text-align: right;\n",
       "    }\n",
       "</style>\n",
       "<table border=\"1\" class=\"dataframe\">\n",
       "  <thead>\n",
       "    <tr style=\"text-align: right;\">\n",
       "      <th></th>\n",
       "      <th>chrom</th>\n",
       "      <th>start</th>\n",
       "      <th>end</th>\n",
       "      <th>pval</th>\n",
       "      <th>motif_symbol</th>\n",
       "      <th>motif_FBgn</th>\n",
       "    </tr>\n",
       "  </thead>\n",
       "  <tbody>\n",
       "    <tr>\n",
       "      <th>0</th>\n",
       "      <td>chr2L</td>\n",
       "      <td>6782</td>\n",
       "      <td>6789</td>\n",
       "      <td>0.000036</td>\n",
       "      <td>br-Z1</td>\n",
       "      <td>FBgn0283451</td>\n",
       "    </tr>\n",
       "    <tr>\n",
       "      <th>1</th>\n",
       "      <td>chr2L</td>\n",
       "      <td>17019</td>\n",
       "      <td>17026</td>\n",
       "      <td>0.000036</td>\n",
       "      <td>br-Z1</td>\n",
       "      <td>FBgn0283451</td>\n",
       "    </tr>\n",
       "    <tr>\n",
       "      <th>2</th>\n",
       "      <td>chr2L</td>\n",
       "      <td>19846</td>\n",
       "      <td>19853</td>\n",
       "      <td>0.000036</td>\n",
       "      <td>br-Z1</td>\n",
       "      <td>FBgn0283451</td>\n",
       "    </tr>\n",
       "    <tr>\n",
       "      <th>3</th>\n",
       "      <td>chr2L</td>\n",
       "      <td>29403</td>\n",
       "      <td>29410</td>\n",
       "      <td>0.000036</td>\n",
       "      <td>br-Z1</td>\n",
       "      <td>FBgn0283451</td>\n",
       "    </tr>\n",
       "    <tr>\n",
       "      <th>4</th>\n",
       "      <td>chr2L</td>\n",
       "      <td>30047</td>\n",
       "      <td>30054</td>\n",
       "      <td>0.000036</td>\n",
       "      <td>br-Z1</td>\n",
       "      <td>FBgn0283451</td>\n",
       "    </tr>\n",
       "  </tbody>\n",
       "</table>\n",
       "</div>"
      ],
      "text/plain": [
       "   chrom  start    end      pval motif_symbol   motif_FBgn\n",
       "0  chr2L   6782   6789  0.000036        br-Z1  FBgn0283451\n",
       "1  chr2L  17019  17026  0.000036        br-Z1  FBgn0283451\n",
       "2  chr2L  19846  19853  0.000036        br-Z1  FBgn0283451\n",
       "3  chr2L  29403  29410  0.000036        br-Z1  FBgn0283451\n",
       "4  chr2L  30047  30054  0.000036        br-Z1  FBgn0283451"
      ]
     },
     "execution_count": 18,
     "metadata": {},
     "output_type": "execute_result"
    }
   ],
   "source": [
    "dmel_motifs.head()"
   ]
  },
  {
   "cell_type": "code",
   "execution_count": 19,
   "metadata": {},
   "outputs": [],
   "source": [
    "gene_info = pybedtools.BedTool('../output/chip/dmel6.12.genes.bed')"
   ]
  },
  {
   "cell_type": "code",
   "execution_count": 20,
   "metadata": {},
   "outputs": [],
   "source": [
    "targene_dmel = gene_info.intersect(pybedtools.BedTool.from_dataframe(dmel_motifs), \n",
    "                wb=True).saveas().to_dataframe()[['name','thickStart','thickEnd','itemRgb','blockSizes','blockStarts']]\n",
    "targene_dmel.columns = ['target_gene','chrom','start','end','motif_symbol','motif_fbgn']"
   ]
  },
  {
   "cell_type": "code",
   "execution_count": 21,
   "metadata": {},
   "outputs": [],
   "source": [
    "collapse_dmel = targene_dmel[['target_gene','motif_fbgn']]"
   ]
  },
  {
   "cell_type": "code",
   "execution_count": 22,
   "metadata": {},
   "outputs": [
    {
     "name": "stderr",
     "output_type": "stream",
     "text": [
      "/data/bergeric/miniconda3/envs/s2rnai/lib/python3.6/site-packages/ipykernel_launcher.py:1: SettingWithCopyWarning: \n",
      "A value is trying to be set on a copy of a slice from a DataFrame\n",
      "\n",
      "See the caveats in the documentation: http://pandas.pydata.org/pandas-docs/stable/indexing.html#indexing-view-versus-copy\n",
      "  \"\"\"Entry point for launching an IPython kernel.\n"
     ]
    }
   ],
   "source": [
    "collapse_dmel.drop_duplicates(inplace=True)"
   ]
  },
  {
   "cell_type": "code",
   "execution_count": 23,
   "metadata": {},
   "outputs": [],
   "source": [
    "merge_on_orthologs = collapse_dmel.merge(dvirorthologs, left_on='target_gene', right_on='Dmel', \n",
    "                                            how='inner')"
   ]
  },
  {
   "cell_type": "code",
   "execution_count": 24,
   "metadata": {},
   "outputs": [
    {
     "name": "stderr",
     "output_type": "stream",
     "text": [
      "/data/bergeric/miniconda3/envs/s2rnai/lib/python3.6/site-packages/ipykernel_launcher.py:2: SettingWithCopyWarning: \n",
      "A value is trying to be set on a copy of a slice from a DataFrame.\n",
      "Try using .loc[row_indexer,col_indexer] = value instead\n",
      "\n",
      "See the caveats in the documentation: http://pandas.pydata.org/pandas-docs/stable/indexing.html#indexing-view-versus-copy\n",
      "  \n"
     ]
    }
   ],
   "source": [
    "ortho_dmel = merge_on_orthologs[['target_gene','motif_fbgn']]\n",
    "ortho_dmel['binary'] = 1 "
   ]
  },
  {
   "cell_type": "code",
   "execution_count": 27,
   "metadata": {},
   "outputs": [
    {
     "data": {
      "text/plain": [
       "331"
      ]
     },
     "execution_count": 27,
     "metadata": {},
     "output_type": "execute_result"
    }
   ],
   "source": [
    "len(ortholog_target_genes.motif_fbgn.unique())"
   ]
  },
  {
   "cell_type": "code",
   "execution_count": 28,
   "metadata": {},
   "outputs": [
    {
     "data": {
      "text/plain": [
       "327"
      ]
     },
     "execution_count": 28,
     "metadata": {},
     "output_type": "execute_result"
    }
   ],
   "source": [
    "len(ortho_dmel.motif_fbgn.unique())"
   ]
  },
  {
   "cell_type": "code",
   "execution_count": 29,
   "metadata": {},
   "outputs": [],
   "source": [
    "#inner merge by motif\n",
    "merged = []\n",
    "not_merged = []\n",
    "\n",
    "for name, group in ortholog_target_genes.groupby('motif_fbgn'):\n",
    "    dmel = ortho_dmel[ortho_dmel.motif_fbgn == name]\n",
    "    dvir = ortholog_target_genes[ortholog_target_genes.motif_fbgn == name]\n",
    "    try:\n",
    "        merge = dmel.merge(dvir, how='inner')\n",
    "        merged.append(merge)\n",
    "    except:\n",
    "        not_merged.append(name)"
   ]
  },
  {
   "cell_type": "code",
   "execution_count": 30,
   "metadata": {},
   "outputs": [],
   "source": [
    "innermerge = pd.concat(merged)"
   ]
  },
  {
   "cell_type": "code",
   "execution_count": 31,
   "metadata": {},
   "outputs": [],
   "source": [
    "innermerge.drop_duplicates(inplace=True)"
   ]
  },
  {
   "cell_type": "code",
   "execution_count": 32,
   "metadata": {},
   "outputs": [
    {
     "data": {
      "text/plain": [
       "295"
      ]
     },
     "execution_count": 32,
     "metadata": {},
     "output_type": "execute_result"
    }
   ],
   "source": [
    "len(innermerge.motif_fbgn.unique())"
   ]
  },
  {
   "cell_type": "code",
   "execution_count": 33,
   "metadata": {},
   "outputs": [
    {
     "data": {
      "text/plain": [
       "9316"
      ]
     },
     "execution_count": 33,
     "metadata": {},
     "output_type": "execute_result"
    }
   ],
   "source": [
    "len(innermerge.target_gene.unique())"
   ]
  },
  {
   "cell_type": "code",
   "execution_count": 34,
   "metadata": {},
   "outputs": [
    {
     "data": {
      "text/plain": [
       "(856228, 3)"
      ]
     },
     "execution_count": 34,
     "metadata": {},
     "output_type": "execute_result"
    }
   ],
   "source": [
    "innermerge.shape"
   ]
  },
  {
   "cell_type": "code",
   "execution_count": null,
   "metadata": {},
   "outputs": [],
   "source": []
  },
  {
   "cell_type": "code",
   "execution_count": null,
   "metadata": {},
   "outputs": [],
   "source": [
    "#get count information first"
   ]
  },
  {
   "cell_type": "code",
   "execution_count": 36,
   "metadata": {},
   "outputs": [],
   "source": [
    "targene_intersect['binary'] = 1"
   ]
  },
  {
   "cell_type": "code",
   "execution_count": 37,
   "metadata": {
    "scrolled": true
   },
   "outputs": [],
   "source": [
    "vircounts = targene_intersect.groupby(['motif_fbgn','target_gene']).agg({'binary':'count'}).reset_index()"
   ]
  },
  {
   "cell_type": "code",
   "execution_count": 38,
   "metadata": {},
   "outputs": [],
   "source": [
    "fba_vircount = vircounts.merge(completematch, left_on='target_gene', right_on='gene_fbgn', how='inner')[['motif_fbgn',\n",
    "                                    'ref_gene_id','binary']].rename(columns={'ref_gene_id':'target_gene'})"
   ]
  },
  {
   "cell_type": "code",
   "execution_count": 39,
   "metadata": {},
   "outputs": [],
   "source": [
    "vir_worthologs = fba_vircount.merge(dvirorthologs, left_on='target_gene', right_on='Dvir', how='inner')[['motif_fbgn',\n",
    "                                                                        'Dvir','Dmel', 'binary']]"
   ]
  },
  {
   "cell_type": "code",
   "execution_count": 45,
   "metadata": {},
   "outputs": [],
   "source": [
    "vir_worthologs['dmel_count'] = 0\n",
    "vir_worthologs['dvir_count'] = vir_worthologs['binary']"
   ]
  },
  {
   "cell_type": "code",
   "execution_count": 41,
   "metadata": {},
   "outputs": [],
   "source": [
    "targene_dmel['binary'] = 1 "
   ]
  },
  {
   "cell_type": "code",
   "execution_count": 42,
   "metadata": {},
   "outputs": [],
   "source": [
    "melcounts = targene_dmel.groupby(['motif_fbgn','target_gene']).agg({'binary':'count'}).reset_index()"
   ]
  },
  {
   "cell_type": "code",
   "execution_count": 43,
   "metadata": {},
   "outputs": [],
   "source": [
    "mel_worthologs = melcounts.merge(dvirorthologs, left_on='target_gene', right_on='Dmel', how='inner')[['motif_fbgn',\n",
    "                                                                                'Dvir','Dmel','binary']]"
   ]
  },
  {
   "cell_type": "code",
   "execution_count": 46,
   "metadata": {},
   "outputs": [],
   "source": [
    "mel_worthologs['dmel_count'] = mel_worthologs['binary']\n",
    "mel_worthologs['dvir_count'] = 0"
   ]
  },
  {
   "cell_type": "code",
   "execution_count": 48,
   "metadata": {},
   "outputs": [],
   "source": [
    "vir_worthologs.drop('binary', axis=1, inplace=True)\n",
    "mel_worthologs.drop('binary', axis=1, inplace=True)"
   ]
  },
  {
   "cell_type": "code",
   "execution_count": 52,
   "metadata": {},
   "outputs": [],
   "source": [
    "together = pd.concat([vir_worthologs, mel_worthologs])"
   ]
  },
  {
   "cell_type": "code",
   "execution_count": 54,
   "metadata": {},
   "outputs": [],
   "source": [
    "together.drop_duplicates(inplace=True)"
   ]
  },
  {
   "cell_type": "code",
   "execution_count": 64,
   "metadata": {},
   "outputs": [
    {
     "data": {
      "text/html": [
       "<div>\n",
       "<style scoped>\n",
       "    .dataframe tbody tr th:only-of-type {\n",
       "        vertical-align: middle;\n",
       "    }\n",
       "\n",
       "    .dataframe tbody tr th {\n",
       "        vertical-align: top;\n",
       "    }\n",
       "\n",
       "    .dataframe thead th {\n",
       "        text-align: right;\n",
       "    }\n",
       "</style>\n",
       "<table border=\"1\" class=\"dataframe\">\n",
       "  <thead>\n",
       "    <tr style=\"text-align: right;\">\n",
       "      <th></th>\n",
       "      <th>motif_fbgn</th>\n",
       "      <th>Dvir</th>\n",
       "      <th>Dmel</th>\n",
       "      <th>dmel_count</th>\n",
       "      <th>dvir_count</th>\n",
       "    </tr>\n",
       "  </thead>\n",
       "  <tbody>\n",
       "    <tr>\n",
       "      <th>0</th>\n",
       "      <td>FBgn0000014</td>\n",
       "      <td>FBgn0282451</td>\n",
       "      <td>FBgn0004910</td>\n",
       "      <td>0</td>\n",
       "      <td>176</td>\n",
       "    </tr>\n",
       "    <tr>\n",
       "      <th>588876</th>\n",
       "      <td>FBgn0000014</td>\n",
       "      <td>FBgn0282451</td>\n",
       "      <td>FBgn0004910</td>\n",
       "      <td>36</td>\n",
       "      <td>0</td>\n",
       "    </tr>\n",
       "  </tbody>\n",
       "</table>\n",
       "</div>"
      ],
      "text/plain": [
       "         motif_fbgn         Dvir         Dmel  dmel_count  dvir_count\n",
       "0       FBgn0000014  FBgn0282451  FBgn0004910           0         176\n",
       "588876  FBgn0000014  FBgn0282451  FBgn0004910          36           0"
      ]
     },
     "execution_count": 64,
     "metadata": {},
     "output_type": "execute_result"
    }
   ],
   "source": [
    "together[(together.motif_fbgn == 'FBgn0000014') & (together.Dvir == 'FBgn0282451')]"
   ]
  },
  {
   "cell_type": "code",
   "execution_count": 57,
   "metadata": {},
   "outputs": [],
   "source": [
    "sumattempt = together.groupby(['motif_fbgn','Dvir','Dmel'])[['dmel_count','dvir_count']].sum()"
   ]
  },
  {
   "cell_type": "code",
   "execution_count": 60,
   "metadata": {},
   "outputs": [],
   "source": [
    "sumattempt.reset_index(inplace=True)"
   ]
  },
  {
   "cell_type": "code",
   "execution_count": 65,
   "metadata": {},
   "outputs": [
    {
     "data": {
      "text/html": [
       "<div>\n",
       "<style scoped>\n",
       "    .dataframe tbody tr th:only-of-type {\n",
       "        vertical-align: middle;\n",
       "    }\n",
       "\n",
       "    .dataframe tbody tr th {\n",
       "        vertical-align: top;\n",
       "    }\n",
       "\n",
       "    .dataframe thead th {\n",
       "        text-align: right;\n",
       "    }\n",
       "</style>\n",
       "<table border=\"1\" class=\"dataframe\">\n",
       "  <thead>\n",
       "    <tr style=\"text-align: right;\">\n",
       "      <th></th>\n",
       "      <th>motif_fbgn</th>\n",
       "      <th>Dvir</th>\n",
       "      <th>Dmel</th>\n",
       "      <th>dmel_count</th>\n",
       "      <th>dvir_count</th>\n",
       "    </tr>\n",
       "  </thead>\n",
       "  <tbody>\n",
       "    <tr>\n",
       "      <th>11129</th>\n",
       "      <td>FBgn0000014</td>\n",
       "      <td>FBgn0282451</td>\n",
       "      <td>FBgn0004910</td>\n",
       "      <td>36</td>\n",
       "      <td>176</td>\n",
       "    </tr>\n",
       "  </tbody>\n",
       "</table>\n",
       "</div>"
      ],
      "text/plain": [
       "        motif_fbgn         Dvir         Dmel  dmel_count  dvir_count\n",
       "11129  FBgn0000014  FBgn0282451  FBgn0004910          36         176"
      ]
     },
     "execution_count": 65,
     "metadata": {},
     "output_type": "execute_result"
    }
   ],
   "source": [
    "sumattempt[(sumattempt.motif_fbgn == 'FBgn0000014') & (sumattempt.Dvir == 'FBgn0282451')]"
   ]
  },
  {
   "cell_type": "code",
   "execution_count": 67,
   "metadata": {},
   "outputs": [],
   "source": [
    "sumattempt['target_gene'] = sumattempt.Dvir + ':' + sumattempt.Dmel"
   ]
  },
  {
   "cell_type": "code",
   "execution_count": 69,
   "metadata": {},
   "outputs": [],
   "source": [
    "table_ = sumattempt[['motif_fbgn','target_gene','dmel_count','dvir_count']]"
   ]
  },
  {
   "cell_type": "code",
   "execution_count": null,
   "metadata": {},
   "outputs": [],
   "source": [
    "#want to do this but it seems like it won't run for some reason... \n",
    "#sb.lmplot(x='target_gene',y='dmel_count', data=table_)"
   ]
  },
  {
   "cell_type": "code",
   "execution_count": null,
   "metadata": {},
   "outputs": [],
   "source": []
  }
 ],
 "metadata": {
  "kernelspec": {
   "display_name": "Python 3",
   "language": "python",
   "name": "python3"
  },
  "language_info": {
   "codemirror_mode": {
    "name": "ipython",
    "version": 3
   },
   "file_extension": ".py",
   "mimetype": "text/x-python",
   "name": "python",
   "nbconvert_exporter": "python",
   "pygments_lexer": "ipython3",
   "version": "3.6.3"
  }
 },
 "nbformat": 4,
 "nbformat_minor": 2
}
