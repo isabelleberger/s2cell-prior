{
 "cells": [
  {
   "cell_type": "markdown",
   "metadata": {},
   "source": [
    "# Make nice bed files for Fly Meeting"
   ]
  },
  {
   "cell_type": "code",
   "execution_count": 1,
   "metadata": {},
   "outputs": [],
   "source": [
    "import pandas as pd\n",
    "import gffutils\n",
    "from gffutils import pybedtools_integration\n",
    "import pybedtools\n",
    "from pybedtools.featurefuncs import gff2bed"
   ]
  },
  {
   "cell_type": "markdown",
   "metadata": {},
   "source": [
    "### MOTIFS:"
   ]
  },
  {
   "cell_type": "code",
   "execution_count": 2,
   "metadata": {},
   "outputs": [],
   "source": [
    "df = pd.read_table('../output/motif/tf_merge.bed', header=None, \n",
    "              names=['chrom', 'start','end','pval','motif_symbol','motif_FBgn'])"
   ]
  },
  {
   "cell_type": "code",
   "execution_count": 3,
   "metadata": {},
   "outputs": [],
   "source": [
    "#Filter for RNAi TFs\n",
    "TF_list = pd.read_table('../output/list_of_tfs.txt', header=None)\n",
    "TF_list.columns=['TF']\n",
    "\n",
    "merge_on_our_TFs = df.merge(TF_list, left_on='motif_FBgn', right_on='TF', how='inner')"
   ]
  },
  {
   "cell_type": "code",
   "execution_count": 4,
   "metadata": {},
   "outputs": [],
   "source": [
    "bed = merge_on_our_TFs[['chrom', 'start','end','motif_FBgn', 'pval']]"
   ]
  },
  {
   "cell_type": "code",
   "execution_count": 5,
   "metadata": {},
   "outputs": [
    {
     "data": {
      "text/html": [
       "<div>\n",
       "<style scoped>\n",
       "    .dataframe tbody tr th:only-of-type {\n",
       "        vertical-align: middle;\n",
       "    }\n",
       "\n",
       "    .dataframe tbody tr th {\n",
       "        vertical-align: top;\n",
       "    }\n",
       "\n",
       "    .dataframe thead th {\n",
       "        text-align: right;\n",
       "    }\n",
       "</style>\n",
       "<table border=\"1\" class=\"dataframe\">\n",
       "  <thead>\n",
       "    <tr style=\"text-align: right;\">\n",
       "      <th></th>\n",
       "      <th>chrom</th>\n",
       "      <th>start</th>\n",
       "      <th>end</th>\n",
       "      <th>motif_FBgn</th>\n",
       "      <th>pval</th>\n",
       "    </tr>\n",
       "  </thead>\n",
       "  <tbody>\n",
       "    <tr>\n",
       "      <th>0</th>\n",
       "      <td>chr2L</td>\n",
       "      <td>6782</td>\n",
       "      <td>6789</td>\n",
       "      <td>FBgn0283451</td>\n",
       "      <td>0.000036</td>\n",
       "    </tr>\n",
       "    <tr>\n",
       "      <th>1</th>\n",
       "      <td>chr2L</td>\n",
       "      <td>17019</td>\n",
       "      <td>17026</td>\n",
       "      <td>FBgn0283451</td>\n",
       "      <td>0.000036</td>\n",
       "    </tr>\n",
       "    <tr>\n",
       "      <th>2</th>\n",
       "      <td>chr2L</td>\n",
       "      <td>19846</td>\n",
       "      <td>19853</td>\n",
       "      <td>FBgn0283451</td>\n",
       "      <td>0.000036</td>\n",
       "    </tr>\n",
       "    <tr>\n",
       "      <th>3</th>\n",
       "      <td>chr2L</td>\n",
       "      <td>29403</td>\n",
       "      <td>29410</td>\n",
       "      <td>FBgn0283451</td>\n",
       "      <td>0.000036</td>\n",
       "    </tr>\n",
       "    <tr>\n",
       "      <th>4</th>\n",
       "      <td>chr2L</td>\n",
       "      <td>30047</td>\n",
       "      <td>30054</td>\n",
       "      <td>FBgn0283451</td>\n",
       "      <td>0.000036</td>\n",
       "    </tr>\n",
       "  </tbody>\n",
       "</table>\n",
       "</div>"
      ],
      "text/plain": [
       "   chrom  start    end   motif_FBgn      pval\n",
       "0  chr2L   6782   6789  FBgn0283451  0.000036\n",
       "1  chr2L  17019  17026  FBgn0283451  0.000036\n",
       "2  chr2L  19846  19853  FBgn0283451  0.000036\n",
       "3  chr2L  29403  29410  FBgn0283451  0.000036\n",
       "4  chr2L  30047  30054  FBgn0283451  0.000036"
      ]
     },
     "execution_count": 5,
     "metadata": {},
     "output_type": "execute_result"
    }
   ],
   "source": [
    "bed.head()"
   ]
  },
  {
   "cell_type": "code",
   "execution_count": 6,
   "metadata": {},
   "outputs": [
    {
     "data": {
      "text/plain": [
       "115"
      ]
     },
     "execution_count": 6,
     "metadata": {},
     "output_type": "execute_result"
    }
   ],
   "source": [
    "len(bed.motif_FBgn.unique())"
   ]
  },
  {
   "cell_type": "code",
   "execution_count": 8,
   "metadata": {},
   "outputs": [],
   "source": [
    "bed.to_csv('../../datashare/tf_motifs.bed', sep='\\t', index=False, header=None)\n",
    "#Note I'm going to manually write in a bed header line because it has to be formatted \"track name=\""
   ]
  },
  {
   "cell_type": "markdown",
   "metadata": {},
   "source": [
    "### CHIP:"
   ]
  },
  {
   "cell_type": "code",
   "execution_count": 2,
   "metadata": {},
   "outputs": [],
   "source": [
    "tf = pd.read_table('../output/chip/ALL_TF_CHIP_filtered.bed', header=None, \n",
    "                   names=['chrom','start','end','srx','score','caller'])"
   ]
  },
  {
   "cell_type": "code",
   "execution_count": 9,
   "metadata": {},
   "outputs": [],
   "source": [
    "#spreadsheet contains antibody information\n",
    "spreadsheet = pd.read_csv('../output/chip/20171103_s2cell_chip-seq.csv')\n",
    "#For now we are excluding datasets with no input: \n",
    "spreadsheet = spreadsheet[spreadsheet.input != 'no input?']\n",
    "antibody_table = spreadsheet[['srx','target']]"
   ]
  },
  {
   "cell_type": "code",
   "execution_count": 10,
   "metadata": {},
   "outputs": [],
   "source": [
    "#symbol maps map gene symbol to FBgn: \n",
    "symbolmap = pd.read_table('/data/LCDB/lcdb-references/dmel/r6-11/gtf/dmel_r6-11.SYMBOL.csv', sep=',') \n",
    "symbolmap2 = pd.read_table('../data/fb_synonym.tsv', sep=' ', header=None)\n",
    "symbolmap2.columns = ['gene','a','b']"
   ]
  },
  {
   "cell_type": "code",
   "execution_count": 11,
   "metadata": {},
   "outputs": [],
   "source": [
    "#merge on spreadsheet to get antibody symbol\n",
    "tf2 = tf.merge(antibody_table, on='srx',how='left')\n",
    "\n",
    "#bed file containing introns and 1 kb upstream\n",
    "intslop = pybedtools.BedTool('../output/dm6_intron_sloptranscript.bed')\n",
    "\n",
    "tf_intersect = pybedtools.BedTool.from_dataframe(tf2).intersect(intslop).to_dataframe()\n",
    "\n",
    "#make copy df\n",
    "tf_intersect_copy = tf_intersect.copy()\n",
    "#Fix all bad symbol names\n",
    "tf_intersect_copy.loc[tf_intersect.thickStart == 'HP1a','thickStart'] = 'Su(var)205'\n",
    "tf_intersect_copy.loc[tf_intersect.thickStart == 'Hp1a','thickStart'] = 'Su(var)205'\n",
    "tf_intersect_copy.loc[tf_intersect.thickStart == 'CP190','thickStart'] = 'Cp190'\n",
    "tf_intersect_copy.loc[tf_intersect.thickStart == 'CG8436','thickStart'] = 'Ibf1'\n",
    "tf_intersect_copy.loc[tf_intersect.thickStart == 'CG9740','thickStart'] = 'Ibf2'\n",
    "tf_intersect_copy.loc[tf_intersect.thickStart == 'NSL3','thickStart'] = 'Rcd1'\n",
    "tf_intersect_copy.loc[tf_intersect.thickStart == 'UTX','thickStart'] = 'Utx'\n",
    "tf_intersect_copy.loc[tf_intersect.thickStart == 'LPT','thickStart'] = 'Lpt'\n",
    "tf_intersect_copy.loc[tf_intersect.thickStart == 'Trr','thickStart'] = 'trr'\n",
    "tf_intersect_copy.loc[tf_intersect.thickStart == 'dCAP-D3','thickStart'] = 'Cap-D3'\n",
    "tf_intersect_copy.loc[tf_intersect.thickStart == 'DnaJ1','thickStart'] = 'DnaJ-1'\n",
    "tf_intersect_copy.loc[tf_intersect.thickStart == 'MYST5','thickStart'] = 'CG1894'\n",
    "tf_intersect_copy.loc[tf_intersect.thickStart == 'ZIPIC','thickStart'] = 'CG7928'\n",
    "#merge on symbol maps\n",
    "merge1 = tf_intersect_copy.merge(symbolmap, left_on='thickStart', right_on='SYMBOL', how='left')\n",
    "merge2 = merge1.merge(symbolmap2, left_on='thickStart', right_on='a', how='left')[['chrom','start','end','name',\n",
    "                                                                'score','strand','thickStart','ENSEMBL','gene']]\n",
    "merge2.fillna('')\n",
    "merge2['anti_FBgn']= merge2.ENSEMBL.combine_first(merge2.gene)\n",
    "trim = merge2[['chrom','start','end','name','score','strand','thickStart','anti_FBgn']]\n",
    "\n",
    "#drop these because they aren't fly genes (except for Ph but it wasn't specified which ph)\n",
    "drop_bad_antibodies = trim[~trim.anti_FBgn.isnull()]\n",
    "\n",
    "#filter for RNAi TFs again\n",
    "merge_on_our_TFs_chip = drop_bad_antibodies.merge(TF_list, left_on='anti_FBgn', right_on='TF', how='inner')"
   ]
  },
  {
   "cell_type": "code",
   "execution_count": 13,
   "metadata": {},
   "outputs": [],
   "source": [
    "chip_bed = merge_on_our_TFs_chip[['chrom', 'start','end','anti_FBgn','score']]"
   ]
  },
  {
   "cell_type": "code",
   "execution_count": 14,
   "metadata": {},
   "outputs": [
    {
     "data": {
      "text/html": [
       "<div>\n",
       "<style scoped>\n",
       "    .dataframe tbody tr th:only-of-type {\n",
       "        vertical-align: middle;\n",
       "    }\n",
       "\n",
       "    .dataframe tbody tr th {\n",
       "        vertical-align: top;\n",
       "    }\n",
       "\n",
       "    .dataframe thead th {\n",
       "        text-align: right;\n",
       "    }\n",
       "</style>\n",
       "<table border=\"1\" class=\"dataframe\">\n",
       "  <thead>\n",
       "    <tr style=\"text-align: right;\">\n",
       "      <th></th>\n",
       "      <th>chrom</th>\n",
       "      <th>start</th>\n",
       "      <th>end</th>\n",
       "      <th>anti_FBgn</th>\n",
       "      <th>score</th>\n",
       "    </tr>\n",
       "  </thead>\n",
       "  <tbody>\n",
       "    <tr>\n",
       "      <th>0</th>\n",
       "      <td>chr2L</td>\n",
       "      <td>6528</td>\n",
       "      <td>7316</td>\n",
       "      <td>FBgn0003334</td>\n",
       "      <td>62.80834</td>\n",
       "    </tr>\n",
       "    <tr>\n",
       "      <th>1</th>\n",
       "      <td>chr2L</td>\n",
       "      <td>7432</td>\n",
       "      <td>7528</td>\n",
       "      <td>FBgn0003334</td>\n",
       "      <td>8.14595</td>\n",
       "    </tr>\n",
       "    <tr>\n",
       "      <th>2</th>\n",
       "      <td>chr2L</td>\n",
       "      <td>8116</td>\n",
       "      <td>8192</td>\n",
       "      <td>FBgn0003334</td>\n",
       "      <td>8.14595</td>\n",
       "    </tr>\n",
       "    <tr>\n",
       "      <th>3</th>\n",
       "      <td>chr2L</td>\n",
       "      <td>9484</td>\n",
       "      <td>9612</td>\n",
       "      <td>FBgn0003334</td>\n",
       "      <td>4.98406</td>\n",
       "    </tr>\n",
       "    <tr>\n",
       "      <th>4</th>\n",
       "      <td>chr2L</td>\n",
       "      <td>66242</td>\n",
       "      <td>66317</td>\n",
       "      <td>FBgn0003334</td>\n",
       "      <td>2.59312</td>\n",
       "    </tr>\n",
       "  </tbody>\n",
       "</table>\n",
       "</div>"
      ],
      "text/plain": [
       "   chrom  start    end    anti_FBgn     score\n",
       "0  chr2L   6528   7316  FBgn0003334  62.80834\n",
       "1  chr2L   7432   7528  FBgn0003334   8.14595\n",
       "2  chr2L   8116   8192  FBgn0003334   8.14595\n",
       "3  chr2L   9484   9612  FBgn0003334   4.98406\n",
       "4  chr2L  66242  66317  FBgn0003334   2.59312"
      ]
     },
     "execution_count": 14,
     "metadata": {},
     "output_type": "execute_result"
    }
   ],
   "source": [
    "chip_bed.head()"
   ]
  },
  {
   "cell_type": "code",
   "execution_count": 15,
   "metadata": {},
   "outputs": [],
   "source": [
    "chip_bed.to_csv('../../datashare/tf_peaks.bed', sep='\\t', index=False, header=None)\n",
    "#Note I'm going to manually write in a bed header line because it has to be formatted \"track name=\""
   ]
  },
  {
   "cell_type": "markdown",
   "metadata": {},
   "source": [
    "### HISTONE: "
   ]
  },
  {
   "cell_type": "code",
   "execution_count": 16,
   "metadata": {},
   "outputs": [],
   "source": [
    "hist = pd.read_table('../output/chip/ALL_HIST_CHIP_filtered.bed', header=None,\n",
    "                     names=['chrom','start','end','srx','score','caller'])"
   ]
  },
  {
   "cell_type": "code",
   "execution_count": 17,
   "metadata": {},
   "outputs": [],
   "source": [
    "hist2 = hist.merge(antibody_table, on='srx', how='left')\n",
    "\n",
    "#choosing not to restrict region. can always add back in later"
   ]
  },
  {
   "cell_type": "code",
   "execution_count": 19,
   "metadata": {},
   "outputs": [],
   "source": [
    "hist_bed = hist2[['chrom', 'start', 'end', 'target','score']]"
   ]
  },
  {
   "cell_type": "code",
   "execution_count": 20,
   "metadata": {},
   "outputs": [
    {
     "data": {
      "text/html": [
       "<div>\n",
       "<style scoped>\n",
       "    .dataframe tbody tr th:only-of-type {\n",
       "        vertical-align: middle;\n",
       "    }\n",
       "\n",
       "    .dataframe tbody tr th {\n",
       "        vertical-align: top;\n",
       "    }\n",
       "\n",
       "    .dataframe thead th {\n",
       "        text-align: right;\n",
       "    }\n",
       "</style>\n",
       "<table border=\"1\" class=\"dataframe\">\n",
       "  <thead>\n",
       "    <tr style=\"text-align: right;\">\n",
       "      <th></th>\n",
       "      <th>chrom</th>\n",
       "      <th>start</th>\n",
       "      <th>end</th>\n",
       "      <th>target</th>\n",
       "      <th>score</th>\n",
       "    </tr>\n",
       "  </thead>\n",
       "  <tbody>\n",
       "    <tr>\n",
       "      <th>0</th>\n",
       "      <td>chr2L</td>\n",
       "      <td>16617</td>\n",
       "      <td>16893</td>\n",
       "      <td>CTCF</td>\n",
       "      <td>33.40816</td>\n",
       "    </tr>\n",
       "    <tr>\n",
       "      <th>1</th>\n",
       "      <td>chr2L</td>\n",
       "      <td>21242</td>\n",
       "      <td>21484</td>\n",
       "      <td>CTCF</td>\n",
       "      <td>7.92056</td>\n",
       "    </tr>\n",
       "    <tr>\n",
       "      <th>2</th>\n",
       "      <td>chr2L</td>\n",
       "      <td>34118</td>\n",
       "      <td>34304</td>\n",
       "      <td>CTCF</td>\n",
       "      <td>4.27362</td>\n",
       "    </tr>\n",
       "    <tr>\n",
       "      <th>3</th>\n",
       "      <td>chr2L</td>\n",
       "      <td>35499</td>\n",
       "      <td>35830</td>\n",
       "      <td>CTCF</td>\n",
       "      <td>39.60189</td>\n",
       "    </tr>\n",
       "    <tr>\n",
       "      <th>4</th>\n",
       "      <td>chr2L</td>\n",
       "      <td>43248</td>\n",
       "      <td>43463</td>\n",
       "      <td>CTCF</td>\n",
       "      <td>3.57781</td>\n",
       "    </tr>\n",
       "  </tbody>\n",
       "</table>\n",
       "</div>"
      ],
      "text/plain": [
       "   chrom  start    end target     score\n",
       "0  chr2L  16617  16893   CTCF  33.40816\n",
       "1  chr2L  21242  21484   CTCF   7.92056\n",
       "2  chr2L  34118  34304   CTCF   4.27362\n",
       "3  chr2L  35499  35830   CTCF  39.60189\n",
       "4  chr2L  43248  43463   CTCF   3.57781"
      ]
     },
     "execution_count": 20,
     "metadata": {},
     "output_type": "execute_result"
    }
   ],
   "source": [
    "hist_bed.head()"
   ]
  },
  {
   "cell_type": "code",
   "execution_count": 21,
   "metadata": {},
   "outputs": [],
   "source": [
    "hist_bed.to_csv('../../datashare/histone_peaks.bed', sep='\\t', index=False, header=None)\n",
    "#Note I'm going to manually write in a bed header line because it has to be formatted \"track name=\""
   ]
  },
  {
   "cell_type": "code",
   "execution_count": null,
   "metadata": {},
   "outputs": [],
   "source": []
  }
 ],
 "metadata": {
  "kernelspec": {
   "display_name": "Python 3",
   "language": "python",
   "name": "python3"
  },
  "language_info": {
   "codemirror_mode": {
    "name": "ipython",
    "version": 3
   },
   "file_extension": ".py",
   "mimetype": "text/x-python",
   "name": "python",
   "nbconvert_exporter": "python",
   "pygments_lexer": "ipython3",
   "version": "3.6.3"
  }
 },
 "nbformat": 4,
 "nbformat_minor": 2
}
