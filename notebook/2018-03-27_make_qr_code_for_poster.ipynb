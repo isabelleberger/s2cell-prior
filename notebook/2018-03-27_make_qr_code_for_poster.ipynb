{
 "cells": [
  {
   "cell_type": "markdown",
   "metadata": {},
   "source": [
    "### Make a QR Code that links to my website to put on my Fly Meeting poster\n",
    "Quick and easy"
   ]
  },
  {
   "cell_type": "code",
   "execution_count": 1,
   "metadata": {},
   "outputs": [],
   "source": [
    "import qrcode\n",
    "import qrcode.image.svg"
   ]
  },
  {
   "cell_type": "code",
   "execution_count": null,
   "metadata": {},
   "outputs": [],
   "source": [
    "#for reference\n",
    "\n",
    "if method == 'basic':\n",
    "    # Simple factory, just a set of rects.\n",
    "    factory = qrcode.image.svg.SvgImage\n",
    "elif method == 'fragment':\n",
    "    # Fragment factory (also just a set of rects)\n",
    "    factory = qrcode.image.svg.SvgFragmentImage\n",
    "else:\n",
    "    # Combined path factory, fixes white space that may occur when zooming\n",
    "    factory = qrcode.image.svg.SvgPathImage"
   ]
  },
  {
   "cell_type": "code",
   "execution_count": 2,
   "metadata": {},
   "outputs": [],
   "source": [
    "img = qrcode.make('https://isabelleberger.github.io', image_factory=qrcode.image.svg.SvgPathImage)"
   ]
  },
  {
   "cell_type": "code",
   "execution_count": 4,
   "metadata": {},
   "outputs": [],
   "source": [
    "img.save('../output/qr_code.svg')"
   ]
  }
 ],
 "metadata": {
  "kernelspec": {
   "display_name": "Python 3",
   "language": "python",
   "name": "python3"
  },
  "language_info": {
   "codemirror_mode": {
    "name": "ipython",
    "version": 3
   },
   "file_extension": ".py",
   "mimetype": "text/x-python",
   "name": "python",
   "nbconvert_exporter": "python",
   "pygments_lexer": "ipython3",
   "version": "3.6.3"
  }
 },
 "nbformat": 4,
 "nbformat_minor": 2
}
