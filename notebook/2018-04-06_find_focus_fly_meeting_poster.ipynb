{
 "cells": [
  {
   "cell_type": "markdown",
   "metadata": {},
   "source": [
    "# Find new TF of focus for poster"
   ]
  },
  {
   "cell_type": "code",
   "execution_count": 1,
   "metadata": {},
   "outputs": [],
   "source": [
    "import pandas as pd"
   ]
  },
  {
   "cell_type": "code",
   "execution_count": 2,
   "metadata": {},
   "outputs": [],
   "source": [
    "motifs = pd.read_table('../output/motif/motif_matrix', index_col=0, skiprows=(0,2))\n",
    "tf = pd.read_table('../output/chip/tf_matrix', index_col=0, skiprows=(0,2))"
   ]
  },
  {
   "cell_type": "code",
   "execution_count": 3,
   "metadata": {},
   "outputs": [
    {
     "data": {
      "text/plain": [
       "Index(['FBgn0003567', 'FBgn0015602', 'FBgn0039740', 'FBgn0262656'], dtype='object')"
      ]
     },
     "execution_count": 3,
     "metadata": {},
     "output_type": "execute_result"
    }
   ],
   "source": [
    "motifs.columns[motifs.columns.isin(tf.columns)]"
   ]
  },
  {
   "cell_type": "code",
   "execution_count": 5,
   "metadata": {},
   "outputs": [
    {
     "data": {
      "text/plain": [
       "update_fbgn\n",
       "FBgn0000283    0.0\n",
       "Name: FBgn0039740, dtype: float64"
      ]
     },
     "execution_count": 5,
     "metadata": {},
     "output_type": "execute_result"
    }
   ],
   "source": [
    "motifs[motifs.index == 'FBgn0000283'].FBgn0039740"
   ]
  },
  {
   "cell_type": "code",
   "execution_count": 12,
   "metadata": {},
   "outputs": [
    {
     "data": {
      "text/plain": [
       "(2290.0, 534.0)"
      ]
     },
     "execution_count": 12,
     "metadata": {},
     "output_type": "execute_result"
    }
   ],
   "source": [
    "motifs.sum(axis=0).FBgn0262656, tf.sum(axis=0).FBgn0262656"
   ]
  },
  {
   "cell_type": "code",
   "execution_count": 13,
   "metadata": {},
   "outputs": [
    {
     "data": {
      "text/plain": [
       "(4981.0, 4903.0)"
      ]
     },
     "execution_count": 13,
     "metadata": {},
     "output_type": "execute_result"
    }
   ],
   "source": [
    "motifs.sum(axis=0).FBgn0003567, tf.sum(axis=0).FBgn0003567"
   ]
  },
  {
   "cell_type": "code",
   "execution_count": 14,
   "metadata": {},
   "outputs": [],
   "source": [
    "TF_list = pd.read_table('../output/list_of_tfs.txt', header=None)\n",
    "TF_list.columns=['TF']"
   ]
  },
  {
   "cell_type": "code",
   "execution_count": 16,
   "metadata": {},
   "outputs": [
    {
     "data": {
      "text/html": [
       "<div>\n",
       "<style scoped>\n",
       "    .dataframe tbody tr th:only-of-type {\n",
       "        vertical-align: middle;\n",
       "    }\n",
       "\n",
       "    .dataframe tbody tr th {\n",
       "        vertical-align: top;\n",
       "    }\n",
       "\n",
       "    .dataframe thead th {\n",
       "        text-align: right;\n",
       "    }\n",
       "</style>\n",
       "<table border=\"1\" class=\"dataframe\">\n",
       "  <thead>\n",
       "    <tr style=\"text-align: right;\">\n",
       "      <th></th>\n",
       "      <th>TF</th>\n",
       "    </tr>\n",
       "  </thead>\n",
       "  <tbody>\n",
       "    <tr>\n",
       "      <th>57</th>\n",
       "      <td>FBgn0003567</td>\n",
       "    </tr>\n",
       "  </tbody>\n",
       "</table>\n",
       "</div>"
      ],
      "text/plain": [
       "             TF\n",
       "57  FBgn0003567"
      ]
     },
     "execution_count": 16,
     "metadata": {},
     "output_type": "execute_result"
    }
   ],
   "source": [
    "TF_list[TF_list.TF == 'FBgn0003567']"
   ]
  },
  {
   "cell_type": "code",
   "execution_count": 23,
   "metadata": {},
   "outputs": [
    {
     "data": {
      "text/plain": [
       "update_fbgn\n",
       "FBgn0000008    1.0\n",
       "FBgn0000014    1.0\n",
       "FBgn0000015    1.0\n",
       "FBgn0000017    1.0\n",
       "FBgn0000024    1.0\n",
       "FBgn0000028    1.0\n",
       "FBgn0000036    1.0\n",
       "FBgn0000037    1.0\n",
       "FBgn0000038    1.0\n",
       "FBgn0000039    1.0\n",
       "FBgn0000047    1.0\n",
       "FBgn0000052    1.0\n",
       "FBgn0000053    1.0\n",
       "FBgn0000054    1.0\n",
       "FBgn0000055    1.0\n",
       "FBgn0000056    1.0\n",
       "FBgn0000061    1.0\n",
       "FBgn0000075    1.0\n",
       "FBgn0000083    1.0\n",
       "FBgn0000097    1.0\n",
       "FBgn0000100    1.0\n",
       "FBgn0000108    1.0\n",
       "FBgn0000114    1.0\n",
       "FBgn0000116    1.0\n",
       "FBgn0000117    1.0\n",
       "FBgn0000119    1.0\n",
       "FBgn0000157    1.0\n",
       "FBgn0000158    1.0\n",
       "FBgn0000163    1.0\n",
       "FBgn0000173    1.0\n",
       "              ... \n",
       "FBgn0267927    1.0\n",
       "FBgn0267941    1.0\n",
       "FBgn0267949    1.0\n",
       "FBgn0267964    1.0\n",
       "FBgn0267975    1.0\n",
       "FBgn0267976    1.0\n",
       "FBgn0267977    1.0\n",
       "FBgn0267978    1.0\n",
       "FBgn0268063    1.0\n",
       "FBgn0270928    1.0\n",
       "FBgn0278598    1.0\n",
       "FBgn0278608    1.0\n",
       "FBgn0283427    1.0\n",
       "FBgn0283440    1.0\n",
       "FBgn0283442    1.0\n",
       "FBgn0283451    1.0\n",
       "FBgn0283468    1.0\n",
       "FBgn0283469    1.0\n",
       "FBgn0283471    1.0\n",
       "FBgn0283472    1.0\n",
       "FBgn0283473    1.0\n",
       "FBgn0283476    1.0\n",
       "FBgn0283499    1.0\n",
       "FBgn0283501    1.0\n",
       "FBgn0283521    1.0\n",
       "FBgn0283531    1.0\n",
       "FBgn0283651    1.0\n",
       "FBgn0283657    1.0\n",
       "FBgn0283678    1.0\n",
       "FBgn0283680    1.0\n",
       "Name: FBgn0003567, Length: 4981, dtype: float64"
      ]
     },
     "execution_count": 23,
     "metadata": {},
     "output_type": "execute_result"
    }
   ],
   "source": [
    "motifs[motifs.FBgn0003567 == 1.0].FBgn0003567"
   ]
  },
  {
   "cell_type": "code",
   "execution_count": 33,
   "metadata": {},
   "outputs": [
    {
     "data": {
      "text/plain": [
       "Index(['FBgn0000064', 'FBgn0000097', 'FBgn0000100', 'FBgn0000150',\n",
       "       'FBgn0000253', 'FBgn0000479', 'FBgn0000535', 'FBgn0000546',\n",
       "       'FBgn0000556', 'FBgn0000559',\n",
       "       ...\n",
       "       'FBgn0267624', 'FBgn0267704', 'FBgn0267828', 'FBgn0267861',\n",
       "       'FBgn0267978', 'FBgn0283451', 'FBgn0283472', 'FBgn0283499',\n",
       "       'FBgn0283521', 'FBgn0283657'],\n",
       "      dtype='object', name='update_fbgn', length=534)"
      ]
     },
     "execution_count": 33,
     "metadata": {},
     "output_type": "execute_result"
    }
   ],
   "source": [
    "tf[tf.FBgn0262656 == 1.0].FBgn0262656.index "
   ]
  },
  {
   "cell_type": "code",
   "execution_count": 5,
   "metadata": {},
   "outputs": [],
   "source": [
    "myc_motifs = pd.read_table('../output/chip/pygenometracks/myc_motifs.bed', header=None)"
   ]
  },
  {
   "cell_type": "code",
   "execution_count": 10,
   "metadata": {},
   "outputs": [],
   "source": [
    "bed = myc_motifs[[0,1,2,4,3]]"
   ]
  },
  {
   "cell_type": "code",
   "execution_count": 11,
   "metadata": {},
   "outputs": [],
   "source": [
    "bed['strand'] = '.'"
   ]
  },
  {
   "cell_type": "code",
   "execution_count": 12,
   "metadata": {},
   "outputs": [
    {
     "data": {
      "text/html": [
       "<div>\n",
       "<style scoped>\n",
       "    .dataframe tbody tr th:only-of-type {\n",
       "        vertical-align: middle;\n",
       "    }\n",
       "\n",
       "    .dataframe tbody tr th {\n",
       "        vertical-align: top;\n",
       "    }\n",
       "\n",
       "    .dataframe thead th {\n",
       "        text-align: right;\n",
       "    }\n",
       "</style>\n",
       "<table border=\"1\" class=\"dataframe\">\n",
       "  <thead>\n",
       "    <tr style=\"text-align: right;\">\n",
       "      <th></th>\n",
       "      <th>0</th>\n",
       "      <th>1</th>\n",
       "      <th>2</th>\n",
       "      <th>4</th>\n",
       "      <th>3</th>\n",
       "      <th>strand</th>\n",
       "    </tr>\n",
       "  </thead>\n",
       "  <tbody>\n",
       "    <tr>\n",
       "      <th>0</th>\n",
       "      <td>chr2L</td>\n",
       "      <td>40405</td>\n",
       "      <td>40414</td>\n",
       "      <td>Myc</td>\n",
       "      <td>0.000043</td>\n",
       "      <td>.</td>\n",
       "    </tr>\n",
       "    <tr>\n",
       "      <th>1</th>\n",
       "      <td>chr2L</td>\n",
       "      <td>81612</td>\n",
       "      <td>81621</td>\n",
       "      <td>Myc</td>\n",
       "      <td>0.000086</td>\n",
       "      <td>.</td>\n",
       "    </tr>\n",
       "    <tr>\n",
       "      <th>2</th>\n",
       "      <td>chr2L</td>\n",
       "      <td>109348</td>\n",
       "      <td>109357</td>\n",
       "      <td>Myc</td>\n",
       "      <td>0.000069</td>\n",
       "      <td>.</td>\n",
       "    </tr>\n",
       "    <tr>\n",
       "      <th>3</th>\n",
       "      <td>chr2L</td>\n",
       "      <td>109525</td>\n",
       "      <td>109534</td>\n",
       "      <td>Myc</td>\n",
       "      <td>0.000003</td>\n",
       "      <td>.</td>\n",
       "    </tr>\n",
       "    <tr>\n",
       "      <th>4</th>\n",
       "      <td>chr2L</td>\n",
       "      <td>122298</td>\n",
       "      <td>122307</td>\n",
       "      <td>Myc</td>\n",
       "      <td>0.000064</td>\n",
       "      <td>.</td>\n",
       "    </tr>\n",
       "  </tbody>\n",
       "</table>\n",
       "</div>"
      ],
      "text/plain": [
       "       0       1       2    4         3 strand\n",
       "0  chr2L   40405   40414  Myc  0.000043      .\n",
       "1  chr2L   81612   81621  Myc  0.000086      .\n",
       "2  chr2L  109348  109357  Myc  0.000069      .\n",
       "3  chr2L  109525  109534  Myc  0.000003      .\n",
       "4  chr2L  122298  122307  Myc  0.000064      ."
      ]
     },
     "execution_count": 12,
     "metadata": {},
     "output_type": "execute_result"
    }
   ],
   "source": [
    "bed.head()"
   ]
  },
  {
   "cell_type": "code",
   "execution_count": 13,
   "metadata": {},
   "outputs": [],
   "source": [
    "bed.to_csv('../output/chip/pygenometracks/myc_motifs.bed', \n",
    "                                                        header=None, index=False, sep='\\t')"
   ]
  },
  {
   "cell_type": "code",
   "execution_count": null,
   "metadata": {},
   "outputs": [],
   "source": []
  }
 ],
 "metadata": {
  "kernelspec": {
   "display_name": "Python 3",
   "language": "python",
   "name": "python3"
  },
  "language_info": {
   "codemirror_mode": {
    "name": "ipython",
    "version": 3
   },
   "file_extension": ".py",
   "mimetype": "text/x-python",
   "name": "python",
   "nbconvert_exporter": "python",
   "pygments_lexer": "ipython3",
   "version": "3.6.3"
  }
 },
 "nbformat": 4,
 "nbformat_minor": 2
}
